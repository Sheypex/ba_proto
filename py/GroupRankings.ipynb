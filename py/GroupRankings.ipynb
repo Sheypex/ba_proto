{
 "cells": [
  {
   "cell_type": "code",
   "execution_count": 5,
   "metadata": {
    "collapsed": true
   },
   "outputs": [],
   "source": [
    "import functools\n",
    "import itertools\n",
    "import math\n",
    "import re\n",
    "import statistics\n",
    "from functools import reduce\n",
    "from pprint import pprint\n",
    "from typing import (\n",
    "    List,\n",
    "    Optional,\n",
    "    Generator,\n",
    "    NamedTuple,\n",
    "    Tuple,\n",
    "    Set,\n",
    "    Any,\n",
    "    Dict,\n",
    "    Union,\n",
    "    Callable,\n",
    "    Iterable,\n",
    "    Sequence,\n",
    ")\n",
    "\n",
    "import rich.panel\n",
    "import sklearn.base\n",
    "from alive_progress import alive_bar\n",
    "from numpy.distutils.misc_util import is_sequence\n",
    "from tqdm import tqdm, trange\n",
    "from log_symbols import LogSymbols\n",
    "\n",
    "import overrides as overrides\n",
    "import pandas as pds\n",
    "import tabulate as tabulate\n",
    "from collections import namedtuple\n",
    "from sklearn import linear_model, metrics, preprocessing, model_selection, svm\n",
    "from tabulate import tabulate\n",
    "from pathlib import Path\n",
    "import pickle\n",
    "from halo import Halo\n",
    "import random\n",
    "import argparse\n",
    "import sys\n",
    "from sklearn.experimental import enable_halving_search_cv\n",
    "from sklearn import neural_network, tree\n",
    "from sklearn.model_selection import (\n",
    "    HalvingGridSearchCV,\n",
    "    RandomizedSearchCV,\n",
    "    HalvingRandomSearchCV,\n",
    ")\n",
    "import scipy.stats as scistats\n",
    "\n",
    "import rich.progress\n",
    "import commons\n",
    "from data_types import PickleOut\n",
    "from rich.traceback import install as niceTracebacks\n",
    "from rich.table import Table as rTable\n",
    "\n",
    "from db_actions import db_actions\n",
    "import numpy as np\n",
    "\n",
    "from linRegPred import getSplits, getTransformers\n",
    "from scipy.stats import rankdata\n",
    "from sklearn.metrics import r2_score\n",
    "import textdistance as TD"
   ]
  },
  {
   "cell_type": "code",
   "execution_count": 6,
   "outputs": [],
   "source": [
    "with db_actions.connect() as conn:\n",
    "    dF = pds.read_sql('SELECT * FROM \"runtimeScorePredBase1000\"', conn)\n",
    "# print(dF)\n",
    "all_x_cols = [\n",
    "    \"build-linux-kernel1\",\n",
    "    \"fio2\",\n",
    "    \"fio3\",\n",
    "    \"fio4\",\n",
    "    \"fio5\",\n",
    "    \"fio6\",\n",
    "    \"fio7\",\n",
    "    \"fio8\",\n",
    "    \"fio9\",\n",
    "    \"iperf10\",\n",
    "    \"iperf11\",\n",
    "    \"iperf12\",\n",
    "    \"iperf13\",\n",
    "    \"john-the-ripper14\",\n",
    "    \"john-the-ripper15\",\n",
    "    \"ramspeed16\",\n",
    "    \"ramspeed17\",\n",
    "    \"ramspeed18\",\n",
    "    \"ramspeed19\",\n",
    "    \"ramspeed20\",\n",
    "    \"ramspeed21\",\n",
    "    \"ramspeed22\",\n",
    "    \"ramspeed23\",\n",
    "    \"ramspeed24\",\n",
    "    \"ramspeed25\",\n",
    "    \"stream26\",\n",
    "    \"stream27\",\n",
    "    \"stream28\",\n",
    "    \"stream29\",\n",
    "    \"pCpu\",\n",
    "    \"cpus\",\n",
    "    \"rss\",\n",
    "    \"vmem\",\n",
    "    \"rchar\",\n",
    "    \"wchar\",\n",
    "    \"syscr\",\n",
    "    \"syscw\",\n",
    "]\n",
    "filtered_x_cols = ['john-the-ripper15', 'ramspeed17', 'ramspeed18', 'ramspeed19', 'ramspeed20', 'ramspeed21',\n",
    "                   'ramspeed23', 'ramspeed24', 'ramspeed25', 'pCpu', 'cpus', 'vmem', 'rchar', 'wchar', 'syscr',\n",
    "                   'syscw']\n",
    "x_cols = all_x_cols\n",
    "y_cols = \"realtime\"\n",
    "\n",
    "X: pds.DataFrame = dF[x_cols]\n",
    "y: pds.DataFrame = dF[y_cols]"
   ],
   "metadata": {
    "collapsed": false
   }
  },
  {
   "cell_type": "code",
   "execution_count": 7,
   "outputs": [],
   "source": [
    "from my_yaml import yaml_load\n",
    "\n",
    "with open(\"nodeConfigIdLookup.yaml\", \"r\") as f:\n",
    "    t = yaml_load(f)\n",
    "    nodeIDLUT = {v: k for k, v in t.items()}\n",
    "dF[\"nodeName\"] = dF[\"nodeConfig\"].transform(lambda x: nodeIDLUT[x])"
   ],
   "metadata": {
    "collapsed": false
   }
  },
  {
   "cell_type": "code",
   "execution_count": 8,
   "outputs": [],
   "source": [
    "awsGroupLUT = {\n",
    "    \"general\": [\"M7g\", \"Mac\", \"M6g\", \"M6i\", \"M6in\", \"M6a\", \"M5\", \"M5n\", \"M5zn\", \"M5a\", \"M4\", \"A1\", \"T4g\", \"T3\", \"T3a\",\n",
    "                \"T2\"],\n",
    "    \"compute\": [\"C7g\", \"C7gn\", \"C6i\", \"C6in\", \"C6a\", \"C6g\", \"C6gn\", \"C5\", \"C5n\", \"C5a\", \"C4\"],\n",
    "    \"memory\": [\"R7g\", \"R7iz\", \"R6g\", \"R6i\", \"R6in\", \"R6a\", \"R5\", \"R5n\", \"R5b\", \"R5a\", \"R4\", \"X2gd\", \"X2idn\", \"X2iedn\",\n",
    "               \"X2iezn\", \"X1\", \"X1e\", \"z1d\"],\n",
    "    \"accelerated\": [\"P4\", \"P3\", \"P2\", \"DL1\", \"Trn1\", \"Inf2\", \"Inf1\", \"G5\", \"G5g\", \"G4dn\", \"G4ad\", \"G3\", \"F1\", \"VT1\"],\n",
    "    \"storage\": [\"Im4gn\", \"Is4gen\", \"I4i\", \"I3\", \"I3en\", \"D2\", \"D3\", \"D3en\", \"H1\"],\n",
    "    \"HPC\": [\"Hpc6id\", \"Hpc6a\"]\n",
    "}"
   ],
   "metadata": {
    "collapsed": false
   }
  },
  {
   "cell_type": "code",
   "execution_count": 9,
   "outputs": [],
   "source": [
    "awsInstanceGroupLUT = {i.lower(): k for k, v in awsGroupLUT.items() for i in v}"
   ],
   "metadata": {
    "collapsed": false
   }
  },
  {
   "cell_type": "code",
   "execution_count": 10,
   "outputs": [],
   "source": [
    "dF[\"nodeGroup\"] = dF[\"nodeName\"].transform(lambda x: awsInstanceGroupLUT[x.split(\".\")[0]])"
   ],
   "metadata": {
    "collapsed": false
   }
  },
  {
   "cell_type": "code",
   "execution_count": 11,
   "outputs": [],
   "source": [
    "usedAwsGroupLUT = {\n",
    "    k: list(pds.unique(dF.query(\"nodeGroup==@k\").nodeName.values)) for k in awsGroupLUT.keys()\n",
    "}"
   ],
   "metadata": {
    "collapsed": false
   }
  },
  {
   "cell_type": "code",
   "execution_count": 12,
   "outputs": [],
   "source": [
    "nodesPerGroup = {\n",
    "    k: len(v) for k, v in usedAwsGroupLUT.items()\n",
    "}"
   ],
   "metadata": {
    "collapsed": false
   }
  },
  {
   "cell_type": "code",
   "execution_count": 13,
   "outputs": [],
   "source": [
    "import seaborn as sns\n",
    "\n",
    "if False:\n",
    "    #sns.boxplot(data=dF,y=\"realtime\",x=\"taskName\",hue=\"nodeGroup\")\n",
    "    for wf in dF.groupby(by=\"wfName\"):\n",
    "        wfname, data = wf\n",
    "        print(wfname)\n",
    "        grid = sns.FacetGrid(data, row=\"wfName\", col=\"nodeGroup\", sharex=False, sharey=True, margin_titles=True,\n",
    "                             height=5)\n",
    "        grid.map_dataframe(sns.boxplot, y=\"realtime\", x=\"taskName\")"
   ],
   "metadata": {
    "collapsed": false
   }
  },
  {
   "cell_type": "markdown",
   "source": [
    "# Find prototypes for each group"
   ],
   "metadata": {
    "collapsed": false
   }
  },
  {
   "cell_type": "code",
   "execution_count": 83,
   "outputs": [],
   "source": [
    "true_ranks_df = pds.DataFrame()\n",
    "for l, d in dF.groupby(by=[\"wfName\", \"taskName\", \"nodeName\"]):\n",
    "    wn, tn, nn = l\n",
    "    true_ranks_df = true_ranks_df.append(\n",
    "        {\"wfName\": wn, \"taskName\": tn, \"nodeName\": nn, \"realtime\": d.realtime.mean(), \"rank\": 0},\n",
    "        ignore_index=True)\n",
    "\n",
    "for l, d in true_ranks_df.groupby(by=[\"wfName\", \"taskName\"]):\n",
    "    wn, tn = l\n",
    "    ranks = rankdata(d.realtime.values, method=\"min\")\n",
    "    d[\"rank\"] = ranks\n",
    "    true_ranks_df.update(d)"
   ],
   "metadata": {
    "collapsed": false
   }
  },
  {
   "cell_type": "code",
   "execution_count": 85,
   "outputs": [],
   "source": [
    "with db_actions.connect() as conn:\n",
    "    scores_df = pds.read_sql('SELECT * FROM \"nodeBenchmarkTransposedScores\"', conn)\n"
   ],
   "metadata": {
    "collapsed": false
   }
  },
  {
   "cell_type": "code",
   "execution_count": 86,
   "outputs": [],
   "source": [
    "scores_df[\"nodeName\"] = scores_df[\"nodeConfig\"].transform(lambda x: nodeIDLUT[x])\n",
    "scores_df[\"nodeGroup\"] = scores_df[\"nodeName\"].transform(lambda x: awsInstanceGroupLUT[x.split(\".\")[0]])"
   ],
   "metadata": {
    "collapsed": false
   }
  },
  {
   "cell_type": "code",
   "execution_count": 17,
   "outputs": [],
   "source": [
    "scores = dict()\n",
    "benchmarkCols = [\n",
    "    \"build-linux-kernel1\",\n",
    "    \"fio2\",\n",
    "    \"fio3\",\n",
    "    \"fio4\",\n",
    "    \"fio5\",\n",
    "    \"fio6\",\n",
    "    \"fio7\",\n",
    "    \"fio8\",\n",
    "    \"fio9\",\n",
    "    \"iperf10\",\n",
    "    \"iperf11\",\n",
    "    \"iperf12\",\n",
    "    \"iperf13\",\n",
    "    \"john-the-ripper14\",\n",
    "    \"john-the-ripper15\",\n",
    "    \"ramspeed16\",\n",
    "    \"ramspeed17\",\n",
    "    \"ramspeed18\",\n",
    "    \"ramspeed19\",\n",
    "    \"ramspeed20\",\n",
    "    \"ramspeed21\",\n",
    "    \"ramspeed22\",\n",
    "    \"ramspeed23\",\n",
    "    \"ramspeed24\",\n",
    "    \"ramspeed25\",\n",
    "    \"stream26\",\n",
    "    \"stream27\",\n",
    "    \"stream28\",\n",
    "    \"stream29\"]\n",
    "nodeGroups = [scores_df.query(\"nodeGroup==@gn\").nodeName.values for gn in groupOrder]\n",
    "nodeGroupBenchmarkAverages = [np.average([scores_df.query(\"nodeName==@nn\")[benchmarkCols] for nn in ng], axis=0) for ng\n",
    "                              in nodeGroups]\n",
    "for c in itertools.product(*nodeGroups):\n",
    "    n1, n2, n3, n4 = c\n",
    "    ns1 = scores_df.query(\"nodeName == @n1\")[benchmarkCols].values[0]\n",
    "    ns2 = scores_df.query(\"nodeName == @n2\")[benchmarkCols].values[0]\n",
    "    ns3 = scores_df.query(\"nodeName == @n3\")[benchmarkCols].values[0]\n",
    "    ns4 = scores_df.query(\"nodeName == @n4\")[benchmarkCols].values[0]\n",
    "    distance_between_protos = np.linalg.norm(ns1 - ns2) + np.linalg.norm(ns1 - ns3) + np.linalg.norm(\n",
    "        ns1 - ns4) + np.linalg.norm(ns2 - ns3) + np.linalg.norm(ns2 - ns4) + np.linalg.norm(ns3 - ns4)\n",
    "    distances_from_group_averages = [np.linalg.norm(bs - ngba) for bs, ngba in\n",
    "                                     zip([ns1, ns2, ns3, ns4], nodeGroupBenchmarkAverages)]\n",
    "    scores[c] = (distance_between_protos, np.sum(distances_from_group_averages))"
   ],
   "metadata": {
    "collapsed": false
   }
  },
  {
   "cell_type": "code",
   "execution_count": null,
   "outputs": [],
   "source": [
    "factor = sum(x[0] for x in scores.values()) / sum(x[1] for x in scores.values())\n",
    "scores = {\n",
    "    k: v[0] + factor * v[1] for k, v in scores.items()\n",
    "}"
   ],
   "metadata": {
    "collapsed": false
   }
  },
  {
   "cell_type": "code",
   "execution_count": null,
   "outputs": [],
   "source": [
    "cs, ds = scores.keys(), scores.values()\n",
    "#print(\"\\n\".join(map(lambda x: repr(x), sorted(zip(cs, ds), key=lambda x: x[1])[:10])))\n",
    "groupPrototypes = sorted(zip(cs, ds), key=lambda x: x[1])[0][0]\n",
    "print(groupPrototypes)"
   ],
   "metadata": {
    "collapsed": false
   }
  },
  {
   "cell_type": "code",
   "execution_count": null,
   "outputs": [],
   "source": [
    "bestGroupPrototypes = (\n",
    "    'm5.xlarge', 'c5.xlarge', 'r5.xlarge', 'i3.2xlarge')  # = sorted(zip(cs, ds), key=lambda x: x[1])[0][0]\n",
    "bestGroupPrototypesLUT = {\n",
    "    awsInstanceGroupLUT[k.split(\".\")[0]]: k for k in bestGroupPrototypes\n",
    "}"
   ],
   "metadata": {
    "collapsed": false
   }
  },
  {
   "cell_type": "code",
   "execution_count": 21,
   "outputs": [
    {
     "name": "stdout",
     "output_type": "stream",
     "text": [
      "{'general': 'm5.xlarge', 'compute': 'c5a.2xlarge', 'memory': 'r5.xlarge', 'storage': 'i3.2xlarge'}\n"
     ]
    }
   ],
   "source": [
    "print(bestGroupPrototypesLUT)"
   ],
   "metadata": {
    "collapsed": false
   }
  },
  {
   "cell_type": "markdown",
   "source": [
    "# Produce Group Rankings"
   ],
   "metadata": {
    "collapsed": false
   }
  },
  {
   "cell_type": "code",
   "execution_count": 76,
   "outputs": [],
   "source": [
    "groupOrder = [\"general\", \"compute\", \"memory\", \"storage\"]\n",
    "nodeOrder = list(pds.unique(dF.nodeName))"
   ],
   "metadata": {
    "collapsed": false
   }
  },
  {
   "cell_type": "code",
   "execution_count": 33,
   "outputs": [],
   "source": [
    "def makeGroupRankings(prototypes):\n",
    "    prototypesLUT = {\n",
    "        awsInstanceGroupLUT[k.split(\".\")[0]]: k for k in prototypes\n",
    "    }\n",
    "    groupPerformances = dict()\n",
    "    for g in dF.groupby(by=[\"nodeGroup\", \"wfName\", \"taskName\"]):\n",
    "        l, d = g\n",
    "        ng, wfn, tn = l\n",
    "        if (wfn, tn) not in groupPerformances.keys():\n",
    "            groupPerformances[(wfn, tn)] = dict()\n",
    "        groupProto = prototypesLUT[ng]\n",
    "        groupPerformances[(wfn, tn)][ng] = d.query(\"nodeName == @groupProto\").realtime.mean()\n",
    "        #groupPerformances[l] = d.realtime.mean()\n",
    "    groupRankings = pds.DataFrame(columns=[\"wfName\", \"taskName\", *groupOrder])\n",
    "    for k, v in groupPerformances.items():\n",
    "        wfn, tn = k\n",
    "        performances = [v[i] for i in groupOrder]\n",
    "        ranks = rankdata(performances, method=\"min\")\n",
    "        groupRankings = groupRankings.append(\n",
    "            {\"wfName\": wfn, \"taskName\": tn, **{o: r for o, r in zip(groupOrder, ranks)}},\n",
    "            ignore_index=True)\n",
    "    return groupRankings\n"
   ],
   "metadata": {
    "collapsed": false
   }
  },
  {
   "cell_type": "markdown",
   "source": [
    "#### Produce intragroup node rankings"
   ],
   "metadata": {
    "collapsed": false
   }
  },
  {
   "cell_type": "code",
   "execution_count": 69,
   "outputs": [],
   "source": [
    "def makeNodeRankingsInGroups(groupRankings):\n",
    "    tmp = pds.DataFrame(\n",
    "        columns=[\"group\", \"nodeName\", \"wfName\", \"taskName\", \"realtime\", \"groupRank\", \"intraGroupRank\", \"globalRank\",\n",
    "                 \"trueRank\"])\n",
    "    for g in dF.groupby(by=[\"nodeGroup\", \"wfName\", \"taskName\", \"nodeName\"]):\n",
    "        l, d = g\n",
    "        ng, wfn, tn, nn = l\n",
    "        tmp = tmp.append({\"group\": ng, \"nodeName\": nn, \"wfName\": wfn, \"taskName\": tn, \"realtime\": d.realtime.mean()},\n",
    "                         ignore_index=True)\n",
    "\n",
    "    for l, d in tmp.groupby([\"group\", \"wfName\", \"taskName\"]):\n",
    "        gr, wfn, tn = l\n",
    "        ra = list(rankdata(d.realtime, method=\"min\"))\n",
    "        cache = groupRankings.query(\"wfName==@wfn and taskName==@tn\")\n",
    "        ar = 0\n",
    "        grr = cache[gr].values[0]\n",
    "        for k, v in sorted(list(zip(groupOrder, (cache[k].values[0] for k in groupOrder))), key=lambda x: x[1]):\n",
    "            if v >= grr:\n",
    "                break\n",
    "            ar += nodesPerGroup[k]\n",
    "        d[\"intraGroupRank\"] = ra\n",
    "        d[\"groupRank\"] = [grr] * len(ra)\n",
    "        d[\"globalRank\"] = np.array([ar] * len(ra)) + np.array(ra)\n",
    "        tmp.update(d)\n",
    "\n",
    "    for l, d in tmp.groupby([\"wfName\", \"taskName\"]):\n",
    "        tr = list(rankdata(d.realtime, method=\"min\"))\n",
    "        d[\"trueRank\"] = tr\n",
    "        tmp.update(d)\n",
    "\n",
    "    return tmp"
   ],
   "metadata": {
    "collapsed": false
   }
  },
  {
   "cell_type": "code",
   "execution_count": 77,
   "outputs": [],
   "source": [
    "tmp3 = makeNodeRankingsInGroups(makeGroupRankings(bestGroupPrototypes))"
   ],
   "metadata": {
    "collapsed": false
   }
  },
  {
   "cell_type": "code",
   "execution_count": 78,
   "outputs": [],
   "source": [
    "export = pds.DataFrame(\n",
    "    {\"wfName\": tmp3.wfName, \"taskName\": tmp3.taskName, \"nodeName\": tmp3.nodeName, \"rank\": tmp3.globalRank})"
   ],
   "metadata": {
    "collapsed": false
   }
  },
  {
   "cell_type": "code",
   "execution_count": 79,
   "outputs": [],
   "source": [
    "export.to_csv(\"no_ML_ranks.csv\", index=False)"
   ],
   "metadata": {
    "collapsed": false
   }
  },
  {
   "cell_type": "code",
   "execution_count": 80,
   "outputs": [],
   "source": [
    "scores = []\n",
    "for l, d in tmp3.groupby(by=[\"wfName\", \"taskName\"]):\n",
    "    scores.append(commons.rankingScore(d.globalRank.values, d.trueRank.values))"
   ],
   "metadata": {
    "collapsed": false
   }
  },
  {
   "cell_type": "code",
   "execution_count": 88,
   "outputs": [],
   "source": [
    "def scoreRankings(ranking_df):\n",
    "    scores = []\n",
    "    for l, d in ranking_df.groupby(by=[\"wfName\", \"taskName\"]):\n",
    "        scores.append(commons.rankingScore(d.globalRank.values, d.trueRank.values))\n",
    "    return np.average(scores), np.std(scores)"
   ],
   "metadata": {
    "collapsed": false
   }
  },
  {
   "cell_type": "code",
   "execution_count": 89,
   "outputs": [
    {
     "name": "stdout",
     "output_type": "stream",
     "text": [
      "(0.7777256863051519, 0.04053200853682953)\n"
     ]
    }
   ],
   "source": [
    "print(scoreRankings(tmp3))"
   ],
   "metadata": {
    "collapsed": false
   }
  },
  {
   "cell_type": "markdown",
   "source": [
    "# Bruteforce test all prototype selections"
   ],
   "metadata": {
    "collapsed": false
   }
  },
  {
   "cell_type": "code",
   "execution_count": 92,
   "outputs": [
    {
     "name": "stdout",
     "output_type": "stream",
     "text": [
      "1/1620\n",
      "2/1620\n",
      "3/1620\n",
      "4/1620\n",
      "5/1620\n",
      "6/1620\n",
      "7/1620\n",
      "8/1620\n",
      "9/1620\n",
      "10/1620\n",
      "11/1620\n",
      "12/1620\n",
      "13/1620\n",
      "14/1620\n",
      "15/1620\n",
      "16/1620\n",
      "17/1620\n",
      "18/1620\n",
      "19/1620\n",
      "20/1620\n",
      "21/1620\n",
      "22/1620\n",
      "23/1620\n",
      "24/1620\n",
      "25/1620\n",
      "26/1620\n",
      "27/1620\n",
      "28/1620\n",
      "29/1620\n",
      "30/1620\n",
      "31/1620\n",
      "32/1620\n",
      "33/1620\n",
      "34/1620\n",
      "35/1620\n",
      "36/1620\n",
      "37/1620\n",
      "38/1620\n",
      "39/1620\n",
      "40/1620\n",
      "41/1620\n",
      "42/1620\n",
      "43/1620\n",
      "44/1620\n",
      "45/1620\n",
      "46/1620\n",
      "47/1620\n",
      "48/1620\n",
      "49/1620\n",
      "50/1620\n",
      "51/1620\n",
      "52/1620\n",
      "53/1620\n",
      "54/1620\n",
      "55/1620\n",
      "56/1620\n",
      "57/1620\n",
      "58/1620\n",
      "59/1620\n",
      "60/1620\n",
      "61/1620\n",
      "62/1620\n",
      "63/1620\n",
      "64/1620\n",
      "65/1620\n",
      "66/1620\n",
      "67/1620\n",
      "68/1620\n",
      "69/1620\n",
      "70/1620\n",
      "71/1620\n",
      "72/1620\n",
      "73/1620\n",
      "74/1620\n",
      "75/1620\n",
      "76/1620\n",
      "77/1620\n",
      "78/1620\n",
      "79/1620\n",
      "80/1620\n",
      "81/1620\n",
      "82/1620\n",
      "83/1620\n",
      "84/1620\n",
      "85/1620\n",
      "86/1620\n",
      "87/1620\n",
      "88/1620\n",
      "89/1620\n",
      "90/1620\n",
      "91/1620\n",
      "92/1620\n",
      "93/1620\n",
      "94/1620\n",
      "95/1620\n",
      "96/1620\n",
      "97/1620\n",
      "98/1620\n",
      "99/1620\n",
      "100/1620\n"
     ]
    },
    {
     "data": {
      "text/plain": "\u001B[91m╭─\u001B[0m\u001B[91m─────────────────────────── \u001B[0m\u001B[1;31mTraceback \u001B[0m\u001B[1;2;31m(most recent call last)\u001B[0m\u001B[91m ───────────────────────────\u001B[0m\u001B[91m─╮\u001B[0m\n\u001B[91m│\u001B[0m \u001B[2;33m/tmp/ipykernel_13909/\u001B[0m\u001B[1;33m3623794660.py\u001B[0m:\u001B[94m6\u001B[0m in \u001B[92m<module>\u001B[0m                                          \u001B[91m│\u001B[0m\n\u001B[91m│\u001B[0m                                                                                           \u001B[91m│\u001B[0m\n\u001B[91m│\u001B[0m \u001B[3;31m[Errno 2] No such file or directory: '/tmp/ipykernel_13909/3623794660.py'\u001B[0m                 \u001B[91m│\u001B[0m\n\u001B[91m│\u001B[0m                                                                                           \u001B[91m│\u001B[0m\n\u001B[91m│\u001B[0m \u001B[2;33m/tmp/ipykernel_13909/\u001B[0m\u001B[1;33m2585536469.py\u001B[0m:\u001B[94m22\u001B[0m in \u001B[92mmakeGroupRankings\u001B[0m                                \u001B[91m│\u001B[0m\n\u001B[91m│\u001B[0m                                                                                           \u001B[91m│\u001B[0m\n\u001B[91m│\u001B[0m \u001B[3;31m[Errno 2] No such file or directory: '/tmp/ipykernel_13909/2585536469.py'\u001B[0m                 \u001B[91m│\u001B[0m\n\u001B[91m│\u001B[0m                                                                                           \u001B[91m│\u001B[0m\n\u001B[91m│\u001B[0m \u001B[2;33m/home/alex/anaconda3/envs/py/lib/python3.9/site-packages/pandas/core/\u001B[0m\u001B[1;33mframe.py\u001B[0m:\u001B[94m8961\u001B[0m in     \u001B[91m│\u001B[0m\n\u001B[91m│\u001B[0m \u001B[92mappend\u001B[0m                                                                                    \u001B[91m│\u001B[0m\n\u001B[91m│\u001B[0m                                                                                           \u001B[91m│\u001B[0m\n\u001B[91m│\u001B[0m   \u001B[2m 8958 \u001B[0m\u001B[2m│   │   \u001B[0m\u001B[94melse\u001B[0m:                                                                     \u001B[91m│\u001B[0m\n\u001B[91m│\u001B[0m   \u001B[2m 8959 \u001B[0m\u001B[2m│   │   │   \u001B[0mto_concat = [\u001B[96mself\u001B[0m, other]                                             \u001B[91m│\u001B[0m\n\u001B[91m│\u001B[0m   \u001B[2m 8960 \u001B[0m\u001B[2m│   │   \u001B[0m\u001B[94mreturn\u001B[0m (                                                                  \u001B[91m│\u001B[0m\n\u001B[91m│\u001B[0m \u001B[31m❱ \u001B[0m 8961 \u001B[2m│   │   │   \u001B[0mconcat(                                                               \u001B[91m│\u001B[0m\n\u001B[91m│\u001B[0m   \u001B[2m 8962 \u001B[0m\u001B[2m│   │   │   │   \u001B[0mto_concat,                                                        \u001B[91m│\u001B[0m\n\u001B[91m│\u001B[0m   \u001B[2m 8963 \u001B[0m\u001B[2m│   │   │   │   \u001B[0mignore_index=ignore_index,                                        \u001B[91m│\u001B[0m\n\u001B[91m│\u001B[0m   \u001B[2m 8964 \u001B[0m\u001B[2m│   │   │   │   \u001B[0mverify_integrity=verify_integrity,                                \u001B[91m│\u001B[0m\n\u001B[91m│\u001B[0m                                                                                           \u001B[91m│\u001B[0m\n\u001B[91m│\u001B[0m \u001B[2;33m/home/alex/anaconda3/envs/py/lib/python3.9/site-packages/pandas/util/\u001B[0m\u001B[1;33m_decorators.py\u001B[0m:\u001B[94m311\u001B[0m   \u001B[91m│\u001B[0m\n\u001B[91m│\u001B[0m in \u001B[92mwrapper\u001B[0m                                                                                \u001B[91m│\u001B[0m\n\u001B[91m│\u001B[0m                                                                                           \u001B[91m│\u001B[0m\n\u001B[91m│\u001B[0m   \u001B[2m308 \u001B[0m\u001B[2m│   │   │   │   │   \u001B[0m\u001B[96mFutureWarning\u001B[0m,                                                  \u001B[91m│\u001B[0m\n\u001B[91m│\u001B[0m   \u001B[2m309 \u001B[0m\u001B[2m│   │   │   │   │   \u001B[0mstacklevel=stacklevel,                                          \u001B[91m│\u001B[0m\n\u001B[91m│\u001B[0m   \u001B[2m310 \u001B[0m\u001B[2m│   │   │   │   \u001B[0m)                                                                   \u001B[91m│\u001B[0m\n\u001B[91m│\u001B[0m \u001B[31m❱ \u001B[0m311 \u001B[2m│   │   │   \u001B[0m\u001B[94mreturn\u001B[0m func(*args, **kwargs)                                            \u001B[91m│\u001B[0m\n\u001B[91m│\u001B[0m   \u001B[2m312 \u001B[0m\u001B[2m│   │   \u001B[0m                                                                            \u001B[91m│\u001B[0m\n\u001B[91m│\u001B[0m   \u001B[2m313 \u001B[0m\u001B[2m│   │   \u001B[0m\u001B[94mreturn\u001B[0m wrapper                                                              \u001B[91m│\u001B[0m\n\u001B[91m│\u001B[0m   \u001B[2m314 \u001B[0m                                                                                    \u001B[91m│\u001B[0m\n\u001B[91m│\u001B[0m                                                                                           \u001B[91m│\u001B[0m\n\u001B[91m│\u001B[0m \u001B[2;33m/home/alex/anaconda3/envs/py/lib/python3.9/site-packages/pandas/core/reshape/\u001B[0m\u001B[1;33mconcat.py\u001B[0m:\u001B[94m29\u001B[0m \u001B[91m│\u001B[0m\n\u001B[91m│\u001B[0m \u001B[94m4\u001B[0m in \u001B[92mconcat\u001B[0m                                                                               \u001B[91m│\u001B[0m\n\u001B[91m│\u001B[0m                                                                                           \u001B[91m│\u001B[0m\n\u001B[91m│\u001B[0m   \u001B[2m291 \u001B[0m\u001B[2;33m│   │   \u001B[0m\u001B[33m...\u001B[0m                                                                         \u001B[91m│\u001B[0m\n\u001B[91m│\u001B[0m   \u001B[2m292 \u001B[0m\u001B[2;33m│   \u001B[0m\u001B[33mValueError: Indexes have overlapping values: ['a']\u001B[0m                              \u001B[91m│\u001B[0m\n\u001B[91m│\u001B[0m   \u001B[2m293 \u001B[0m\u001B[2;33m│   \u001B[0m\u001B[33m\"\"\"\u001B[0m                                                                             \u001B[91m│\u001B[0m\n\u001B[91m│\u001B[0m \u001B[31m❱ \u001B[0m294 \u001B[2m│   \u001B[0mop = _Concatenator(                                                             \u001B[91m│\u001B[0m\n\u001B[91m│\u001B[0m   \u001B[2m295 \u001B[0m\u001B[2m│   │   \u001B[0mobjs,                                                                       \u001B[91m│\u001B[0m\n\u001B[91m│\u001B[0m   \u001B[2m296 \u001B[0m\u001B[2m│   │   \u001B[0maxis=axis,                                                                  \u001B[91m│\u001B[0m\n\u001B[91m│\u001B[0m   \u001B[2m297 \u001B[0m\u001B[2m│   │   \u001B[0mignore_index=ignore_index,                                                  \u001B[91m│\u001B[0m\n\u001B[91m│\u001B[0m                                                                                           \u001B[91m│\u001B[0m\n\u001B[91m│\u001B[0m \u001B[2;33m/home/alex/anaconda3/envs/py/lib/python3.9/site-packages/pandas/core/reshape/\u001B[0m\u001B[1;33mconcat.py\u001B[0m:\u001B[94m47\u001B[0m \u001B[91m│\u001B[0m\n\u001B[91m│\u001B[0m \u001B[94m9\u001B[0m in \u001B[92m__init__\u001B[0m                                                                             \u001B[91m│\u001B[0m\n\u001B[91m│\u001B[0m                                                                                           \u001B[91m│\u001B[0m\n\u001B[91m│\u001B[0m   \u001B[2m476 \u001B[0m\u001B[2m│   │   \u001B[0m\u001B[96mself\u001B[0m.verify_integrity = verify_integrity                                    \u001B[91m│\u001B[0m\n\u001B[91m│\u001B[0m   \u001B[2m477 \u001B[0m\u001B[2m│   │   \u001B[0m\u001B[96mself\u001B[0m.copy = copy                                                            \u001B[91m│\u001B[0m\n\u001B[91m│\u001B[0m   \u001B[2m478 \u001B[0m\u001B[2m│   │   \u001B[0m                                                                            \u001B[91m│\u001B[0m\n\u001B[91m│\u001B[0m \u001B[31m❱ \u001B[0m479 \u001B[2m│   │   \u001B[0m\u001B[96mself\u001B[0m.new_axes = \u001B[96mself\u001B[0m._get_new_axes()                                        \u001B[91m│\u001B[0m\n\u001B[91m│\u001B[0m   \u001B[2m480 \u001B[0m\u001B[2m│   \u001B[0m                                                                                \u001B[91m│\u001B[0m\n\u001B[91m│\u001B[0m   \u001B[2m481 \u001B[0m\u001B[2m│   \u001B[0m\u001B[94mdef\u001B[0m \u001B[92mget_result\u001B[0m(\u001B[96mself\u001B[0m):                                                           \u001B[91m│\u001B[0m\n\u001B[91m│\u001B[0m   \u001B[2m482 \u001B[0m\u001B[2m│   │   \u001B[0mcons: \u001B[96mtype\u001B[0m[FrameOrSeriesUnion]                                              \u001B[91m│\u001B[0m\n\u001B[91m│\u001B[0m                                                                                           \u001B[91m│\u001B[0m\n\u001B[91m│\u001B[0m \u001B[2;33m/home/alex/anaconda3/envs/py/lib/python3.9/site-packages/pandas/core/reshape/\u001B[0m\u001B[1;33mconcat.py\u001B[0m:\u001B[94m54\u001B[0m \u001B[91m│\u001B[0m\n\u001B[91m│\u001B[0m \u001B[94m9\u001B[0m in \u001B[92m_get_new_axes\u001B[0m                                                                        \u001B[91m│\u001B[0m\n\u001B[91m│\u001B[0m                                                                                           \u001B[91m│\u001B[0m\n\u001B[91m│\u001B[0m   \u001B[2m546 \u001B[0m\u001B[2m│   \u001B[0m                                                                                \u001B[91m│\u001B[0m\n\u001B[91m│\u001B[0m   \u001B[2m547 \u001B[0m\u001B[2m│   \u001B[0m\u001B[94mdef\u001B[0m \u001B[92m_get_new_axes\u001B[0m(\u001B[96mself\u001B[0m) -> \u001B[96mlist\u001B[0m[Index]:                                         \u001B[91m│\u001B[0m\n\u001B[91m│\u001B[0m   \u001B[2m548 \u001B[0m\u001B[2m│   │   \u001B[0mndim = \u001B[96mself\u001B[0m._get_result_dim()                                               \u001B[91m│\u001B[0m\n\u001B[91m│\u001B[0m \u001B[31m❱ \u001B[0m549 \u001B[2m│   │   \u001B[0m\u001B[94mreturn\u001B[0m [                                                                    \u001B[91m│\u001B[0m\n\u001B[91m│\u001B[0m   \u001B[2m550 \u001B[0m\u001B[2m│   │   │   \u001B[0m\u001B[96mself\u001B[0m._get_concat_axis \u001B[94mif\u001B[0m i == \u001B[96mself\u001B[0m.bm_axis \u001B[94melse\u001B[0m \u001B[96mself\u001B[0m._get_comb_axis(i)  \u001B[91m│\u001B[0m\n\u001B[91m│\u001B[0m   \u001B[2m551 \u001B[0m\u001B[2m│   │   │   \u001B[0m\u001B[94mfor\u001B[0m i \u001B[95min\u001B[0m \u001B[96mrange\u001B[0m(ndim)                                                    \u001B[91m│\u001B[0m\n\u001B[91m│\u001B[0m   \u001B[2m552 \u001B[0m\u001B[2m│   │   \u001B[0m]                                                                           \u001B[91m│\u001B[0m\n\u001B[91m│\u001B[0m                                                                                           \u001B[91m│\u001B[0m\n\u001B[91m│\u001B[0m \u001B[2;33m/home/alex/anaconda3/envs/py/lib/python3.9/site-packages/pandas/core/reshape/\u001B[0m\u001B[1;33mconcat.py\u001B[0m:\u001B[94m55\u001B[0m \u001B[91m│\u001B[0m\n\u001B[91m│\u001B[0m \u001B[94m0\u001B[0m in \u001B[92m<listcomp>\u001B[0m                                                                           \u001B[91m│\u001B[0m\n\u001B[91m│\u001B[0m                                                                                           \u001B[91m│\u001B[0m\n\u001B[91m│\u001B[0m   \u001B[2m547 \u001B[0m\u001B[2m│   \u001B[0m\u001B[94mdef\u001B[0m \u001B[92m_get_new_axes\u001B[0m(\u001B[96mself\u001B[0m) -> \u001B[96mlist\u001B[0m[Index]:                                         \u001B[91m│\u001B[0m\n\u001B[91m│\u001B[0m   \u001B[2m548 \u001B[0m\u001B[2m│   │   \u001B[0mndim = \u001B[96mself\u001B[0m._get_result_dim()                                               \u001B[91m│\u001B[0m\n\u001B[91m│\u001B[0m   \u001B[2m549 \u001B[0m\u001B[2m│   │   \u001B[0m\u001B[94mreturn\u001B[0m [                                                                    \u001B[91m│\u001B[0m\n\u001B[91m│\u001B[0m \u001B[31m❱ \u001B[0m550 \u001B[2m│   │   │   \u001B[0m\u001B[96mself\u001B[0m._get_concat_axis \u001B[94mif\u001B[0m i == \u001B[96mself\u001B[0m.bm_axis \u001B[94melse\u001B[0m \u001B[96mself\u001B[0m._get_comb_axis(i)  \u001B[91m│\u001B[0m\n\u001B[91m│\u001B[0m   \u001B[2m551 \u001B[0m\u001B[2m│   │   │   \u001B[0m\u001B[94mfor\u001B[0m i \u001B[95min\u001B[0m \u001B[96mrange\u001B[0m(ndim)                                                    \u001B[91m│\u001B[0m\n\u001B[91m│\u001B[0m   \u001B[2m552 \u001B[0m\u001B[2m│   │   \u001B[0m]                                                                           \u001B[91m│\u001B[0m\n\u001B[91m│\u001B[0m   \u001B[2m553 \u001B[0m                                                                                    \u001B[91m│\u001B[0m\n\u001B[91m│\u001B[0m                                                                                           \u001B[91m│\u001B[0m\n\u001B[91m│\u001B[0m \u001B[2;33m/home/alex/anaconda3/envs/py/lib/python3.9/site-packages/pandas/core/reshape/\u001B[0m\u001B[1;33mconcat.py\u001B[0m:\u001B[94m55\u001B[0m \u001B[91m│\u001B[0m\n\u001B[91m│\u001B[0m \u001B[94m6\u001B[0m in \u001B[92m_get_comb_axis\u001B[0m                                                                       \u001B[91m│\u001B[0m\n\u001B[91m│\u001B[0m                                                                                           \u001B[91m│\u001B[0m\n\u001B[91m│\u001B[0m   \u001B[2m553 \u001B[0m\u001B[2m│   \u001B[0m                                                                                \u001B[91m│\u001B[0m\n\u001B[91m│\u001B[0m   \u001B[2m554 \u001B[0m\u001B[2m│   \u001B[0m\u001B[94mdef\u001B[0m \u001B[92m_get_comb_axis\u001B[0m(\u001B[96mself\u001B[0m, i: \u001B[96mint\u001B[0m) -> Index:                                      \u001B[91m│\u001B[0m\n\u001B[91m│\u001B[0m   \u001B[2m555 \u001B[0m\u001B[2m│   │   \u001B[0mdata_axis = \u001B[96mself\u001B[0m.objs[\u001B[94m0\u001B[0m]._get_block_manager_axis(i)                         \u001B[91m│\u001B[0m\n\u001B[91m│\u001B[0m \u001B[31m❱ \u001B[0m556 \u001B[2m│   │   \u001B[0m\u001B[94mreturn\u001B[0m get_objs_combined_axis(                                              \u001B[91m│\u001B[0m\n\u001B[91m│\u001B[0m   \u001B[2m557 \u001B[0m\u001B[2m│   │   │   \u001B[0m\u001B[96mself\u001B[0m.objs,                                                              \u001B[91m│\u001B[0m\n\u001B[91m│\u001B[0m   \u001B[2m558 \u001B[0m\u001B[2m│   │   │   \u001B[0maxis=data_axis,                                                         \u001B[91m│\u001B[0m\n\u001B[91m│\u001B[0m   \u001B[2m559 \u001B[0m\u001B[2m│   │   │   \u001B[0mintersect=\u001B[96mself\u001B[0m.intersect,                                               \u001B[91m│\u001B[0m\n\u001B[91m│\u001B[0m                                                                                           \u001B[91m│\u001B[0m\n\u001B[91m│\u001B[0m \u001B[2;33m/home/alex/anaconda3/envs/py/lib/python3.9/site-packages/pandas/core/indexes/\u001B[0m\u001B[1;33mapi.py\u001B[0m:\u001B[94m96\u001B[0m in \u001B[91m│\u001B[0m\n\u001B[91m│\u001B[0m \u001B[92mget_objs_combined_axis\u001B[0m                                                                    \u001B[91m│\u001B[0m\n\u001B[91m│\u001B[0m                                                                                           \u001B[91m│\u001B[0m\n\u001B[91m│\u001B[0m   \u001B[2m 93 \u001B[0m\u001B[2;33m│   \u001B[0m\u001B[33mIndex\u001B[0m                                                                           \u001B[91m│\u001B[0m\n\u001B[91m│\u001B[0m   \u001B[2m 94 \u001B[0m\u001B[2;33m│   \u001B[0m\u001B[33m\"\"\"\u001B[0m                                                                             \u001B[91m│\u001B[0m\n\u001B[91m│\u001B[0m   \u001B[2m 95 \u001B[0m\u001B[2m│   \u001B[0mobs_idxes = [obj._get_axis(axis) \u001B[94mfor\u001B[0m obj \u001B[95min\u001B[0m objs]                               \u001B[91m│\u001B[0m\n\u001B[91m│\u001B[0m \u001B[31m❱ \u001B[0m 96 \u001B[2m│   \u001B[0m\u001B[94mreturn\u001B[0m _get_combined_index(obs_idxes, intersect=intersect, sort=sort, copy=copy \u001B[91m│\u001B[0m\n\u001B[91m│\u001B[0m   \u001B[2m 97 \u001B[0m                                                                                    \u001B[91m│\u001B[0m\n\u001B[91m│\u001B[0m   \u001B[2m 98 \u001B[0m                                                                                    \u001B[91m│\u001B[0m\n\u001B[91m│\u001B[0m   \u001B[2m 99 \u001B[0m\u001B[94mdef\u001B[0m \u001B[92m_get_distinct_objs\u001B[0m(objs: \u001B[96mlist\u001B[0m[Index]) -> \u001B[96mlist\u001B[0m[Index]:                           \u001B[91m│\u001B[0m\n\u001B[91m│\u001B[0m                                                                                           \u001B[91m│\u001B[0m\n\u001B[91m│\u001B[0m \u001B[2;33m/home/alex/anaconda3/envs/py/lib/python3.9/site-packages/pandas/core/indexes/\u001B[0m\u001B[1;33mapi.py\u001B[0m:\u001B[94m160\u001B[0m   \u001B[91m│\u001B[0m\n\u001B[91m│\u001B[0m in \u001B[92m_get_combined_index\u001B[0m                                                                    \u001B[91m│\u001B[0m\n\u001B[91m│\u001B[0m                                                                                           \u001B[91m│\u001B[0m\n\u001B[91m│\u001B[0m   \u001B[2m157 \u001B[0m\u001B[2m│   \u001B[0m                                                                                \u001B[91m│\u001B[0m\n\u001B[91m│\u001B[0m   \u001B[2m158 \u001B[0m\u001B[2m│   \u001B[0m\u001B[2m# GH 29879\u001B[0m                                                                      \u001B[91m│\u001B[0m\n\u001B[91m│\u001B[0m   \u001B[2m159 \u001B[0m\u001B[2m│   \u001B[0m\u001B[94mif\u001B[0m copy:                                                                        \u001B[91m│\u001B[0m\n\u001B[91m│\u001B[0m \u001B[31m❱ \u001B[0m160 \u001B[2m│   │   \u001B[0mindex = index.copy()                                                        \u001B[91m│\u001B[0m\n\u001B[91m│\u001B[0m   \u001B[2m161 \u001B[0m\u001B[2m│   \u001B[0m                                                                                \u001B[91m│\u001B[0m\n\u001B[91m│\u001B[0m   \u001B[2m162 \u001B[0m\u001B[2m│   \u001B[0m\u001B[94mreturn\u001B[0m index                                                                    \u001B[91m│\u001B[0m\n\u001B[91m│\u001B[0m   \u001B[2m163 \u001B[0m                                                                                    \u001B[91m│\u001B[0m\n\u001B[91m│\u001B[0m                                                                                           \u001B[91m│\u001B[0m\n\u001B[91m│\u001B[0m \u001B[2;33m/home/alex/anaconda3/envs/py/lib/python3.9/site-packages/pandas/core/indexes/\u001B[0m\u001B[1;33mbase.py\u001B[0m:\u001B[94m1079\u001B[0m \u001B[91m│\u001B[0m\n\u001B[91m│\u001B[0m in \u001B[92mcopy\u001B[0m                                                                                   \u001B[91m│\u001B[0m\n\u001B[91m│\u001B[0m                                                                                           \u001B[91m│\u001B[0m\n\u001B[91m│\u001B[0m   \u001B[2m1076 \u001B[0m\u001B[2m│   │   │   \u001B[0mnew_data = \u001B[96mself\u001B[0m._data.copy()                                           \u001B[91m│\u001B[0m\n\u001B[91m│\u001B[0m   \u001B[2m1077 \u001B[0m\u001B[2m│   │   │   \u001B[0mnew_index = \u001B[96mtype\u001B[0m(\u001B[96mself\u001B[0m)._simple_new(new_data, name=name)                \u001B[91m│\u001B[0m\n\u001B[91m│\u001B[0m   \u001B[2m1078 \u001B[0m\u001B[2m│   │   \u001B[0m\u001B[94melse\u001B[0m:                                                                      \u001B[91m│\u001B[0m\n\u001B[91m│\u001B[0m \u001B[31m❱ \u001B[0m1079 \u001B[2m│   │   │   \u001B[0mnew_index = \u001B[96mself\u001B[0m._rename(name=name)                                    \u001B[91m│\u001B[0m\n\u001B[91m│\u001B[0m   \u001B[2m1080 \u001B[0m\u001B[2m│   │   \u001B[0m                                                                           \u001B[91m│\u001B[0m\n\u001B[91m│\u001B[0m   \u001B[2m1081 \u001B[0m\u001B[2m│   │   \u001B[0m\u001B[94mif\u001B[0m dtype:                                                                  \u001B[91m│\u001B[0m\n\u001B[91m│\u001B[0m   \u001B[2m1082 \u001B[0m\u001B[2m│   │   │   \u001B[0mwarnings.warn(                                                         \u001B[91m│\u001B[0m\n\u001B[91m│\u001B[0m                                                                                           \u001B[91m│\u001B[0m\n\u001B[91m│\u001B[0m \u001B[2;33m/home/alex/anaconda3/envs/py/lib/python3.9/site-packages/pandas/core/indexes/\u001B[0m\u001B[1;33mbase.py\u001B[0m:\u001B[94m721\u001B[0m  \u001B[91m│\u001B[0m\n\u001B[91m│\u001B[0m in \u001B[92m_rename\u001B[0m                                                                                \u001B[91m│\u001B[0m\n\u001B[91m│\u001B[0m                                                                                           \u001B[91m│\u001B[0m\n\u001B[91m│\u001B[0m   \u001B[2m 718 \u001B[0m\u001B[2m│   │   \u001B[0m\u001B[33m\"\"\"\u001B[0m                                                                        \u001B[91m│\u001B[0m\n\u001B[91m│\u001B[0m   \u001B[2m 719 \u001B[0m\u001B[2;33m│   │   \u001B[0m\u001B[33mfastpath for rename if new name is already validated.\u001B[0m                      \u001B[91m│\u001B[0m\n\u001B[91m│\u001B[0m   \u001B[2m 720 \u001B[0m\u001B[2;33m│   │   \u001B[0m\u001B[33m\"\"\"\u001B[0m                                                                        \u001B[91m│\u001B[0m\n\u001B[91m│\u001B[0m \u001B[31m❱ \u001B[0m 721 \u001B[2m│   │   \u001B[0mresult = \u001B[96mself\u001B[0m._view()                                                      \u001B[91m│\u001B[0m\n\u001B[91m│\u001B[0m   \u001B[2m 722 \u001B[0m\u001B[2m│   │   \u001B[0mresult._name = name                                                        \u001B[91m│\u001B[0m\n\u001B[91m│\u001B[0m   \u001B[2m 723 \u001B[0m\u001B[2m│   │   \u001B[0m\u001B[94mreturn\u001B[0m result                                                              \u001B[91m│\u001B[0m\n\u001B[91m│\u001B[0m   \u001B[2m 724 \u001B[0m                                                                                   \u001B[91m│\u001B[0m\n\u001B[91m╰───────────────────────────────────────────────────────────────────────────────────────────╯\u001B[0m\n\u001B[1;91mKeyboardInterrupt\u001B[0m\n",
      "text/html": "<pre style=\"white-space:pre;overflow-x:auto;line-height:normal;font-family:Menlo,'DejaVu Sans Mono',consolas,'Courier New',monospace\"><span style=\"color: #ff0000; text-decoration-color: #ff0000\">╭──────────────────────────── </span><span style=\"color: #800000; text-decoration-color: #800000; font-weight: bold\">Traceback </span><span style=\"color: #bf7f7f; text-decoration-color: #bf7f7f; font-weight: bold\">(most recent call last)</span><span style=\"color: #ff0000; text-decoration-color: #ff0000\"> ────────────────────────────╮</span>\n<span style=\"color: #ff0000; text-decoration-color: #ff0000\">│</span> <span style=\"color: #bfbf7f; text-decoration-color: #bfbf7f\">/tmp/ipykernel_13909/</span><span style=\"color: #808000; text-decoration-color: #808000; font-weight: bold\">3623794660.py</span>:<span style=\"color: #0000ff; text-decoration-color: #0000ff\">6</span> in <span style=\"color: #00ff00; text-decoration-color: #00ff00\">&lt;module&gt;</span>                                          <span style=\"color: #ff0000; text-decoration-color: #ff0000\">│</span>\n<span style=\"color: #ff0000; text-decoration-color: #ff0000\">│</span>                                                                                           <span style=\"color: #ff0000; text-decoration-color: #ff0000\">│</span>\n<span style=\"color: #ff0000; text-decoration-color: #ff0000\">│</span> <span style=\"color: #800000; text-decoration-color: #800000; font-style: italic\">[Errno 2] No such file or directory: '/tmp/ipykernel_13909/3623794660.py'</span>                 <span style=\"color: #ff0000; text-decoration-color: #ff0000\">│</span>\n<span style=\"color: #ff0000; text-decoration-color: #ff0000\">│</span>                                                                                           <span style=\"color: #ff0000; text-decoration-color: #ff0000\">│</span>\n<span style=\"color: #ff0000; text-decoration-color: #ff0000\">│</span> <span style=\"color: #bfbf7f; text-decoration-color: #bfbf7f\">/tmp/ipykernel_13909/</span><span style=\"color: #808000; text-decoration-color: #808000; font-weight: bold\">2585536469.py</span>:<span style=\"color: #0000ff; text-decoration-color: #0000ff\">22</span> in <span style=\"color: #00ff00; text-decoration-color: #00ff00\">makeGroupRankings</span>                                <span style=\"color: #ff0000; text-decoration-color: #ff0000\">│</span>\n<span style=\"color: #ff0000; text-decoration-color: #ff0000\">│</span>                                                                                           <span style=\"color: #ff0000; text-decoration-color: #ff0000\">│</span>\n<span style=\"color: #ff0000; text-decoration-color: #ff0000\">│</span> <span style=\"color: #800000; text-decoration-color: #800000; font-style: italic\">[Errno 2] No such file or directory: '/tmp/ipykernel_13909/2585536469.py'</span>                 <span style=\"color: #ff0000; text-decoration-color: #ff0000\">│</span>\n<span style=\"color: #ff0000; text-decoration-color: #ff0000\">│</span>                                                                                           <span style=\"color: #ff0000; text-decoration-color: #ff0000\">│</span>\n<span style=\"color: #ff0000; text-decoration-color: #ff0000\">│</span> <span style=\"color: #bfbf7f; text-decoration-color: #bfbf7f\">/home/alex/anaconda3/envs/py/lib/python3.9/site-packages/pandas/core/</span><span style=\"color: #808000; text-decoration-color: #808000; font-weight: bold\">frame.py</span>:<span style=\"color: #0000ff; text-decoration-color: #0000ff\">8961</span> in     <span style=\"color: #ff0000; text-decoration-color: #ff0000\">│</span>\n<span style=\"color: #ff0000; text-decoration-color: #ff0000\">│</span> <span style=\"color: #00ff00; text-decoration-color: #00ff00\">append</span>                                                                                    <span style=\"color: #ff0000; text-decoration-color: #ff0000\">│</span>\n<span style=\"color: #ff0000; text-decoration-color: #ff0000\">│</span>                                                                                           <span style=\"color: #ff0000; text-decoration-color: #ff0000\">│</span>\n<span style=\"color: #ff0000; text-decoration-color: #ff0000\">│</span>   <span style=\"color: #7f7f7f; text-decoration-color: #7f7f7f\"> 8958 │   │   </span><span style=\"color: #0000ff; text-decoration-color: #0000ff\">else</span>:                                                                     <span style=\"color: #ff0000; text-decoration-color: #ff0000\">│</span>\n<span style=\"color: #ff0000; text-decoration-color: #ff0000\">│</span>   <span style=\"color: #7f7f7f; text-decoration-color: #7f7f7f\"> 8959 │   │   │   </span>to_concat = [<span style=\"color: #00ffff; text-decoration-color: #00ffff\">self</span>, other]                                             <span style=\"color: #ff0000; text-decoration-color: #ff0000\">│</span>\n<span style=\"color: #ff0000; text-decoration-color: #ff0000\">│</span>   <span style=\"color: #7f7f7f; text-decoration-color: #7f7f7f\"> 8960 │   │   </span><span style=\"color: #0000ff; text-decoration-color: #0000ff\">return</span> (                                                                  <span style=\"color: #ff0000; text-decoration-color: #ff0000\">│</span>\n<span style=\"color: #ff0000; text-decoration-color: #ff0000\">│</span> <span style=\"color: #800000; text-decoration-color: #800000\">❱ </span> 8961 <span style=\"color: #7f7f7f; text-decoration-color: #7f7f7f\">│   │   │   </span>concat(                                                               <span style=\"color: #ff0000; text-decoration-color: #ff0000\">│</span>\n<span style=\"color: #ff0000; text-decoration-color: #ff0000\">│</span>   <span style=\"color: #7f7f7f; text-decoration-color: #7f7f7f\"> 8962 │   │   │   │   </span>to_concat,                                                        <span style=\"color: #ff0000; text-decoration-color: #ff0000\">│</span>\n<span style=\"color: #ff0000; text-decoration-color: #ff0000\">│</span>   <span style=\"color: #7f7f7f; text-decoration-color: #7f7f7f\"> 8963 │   │   │   │   </span>ignore_index=ignore_index,                                        <span style=\"color: #ff0000; text-decoration-color: #ff0000\">│</span>\n<span style=\"color: #ff0000; text-decoration-color: #ff0000\">│</span>   <span style=\"color: #7f7f7f; text-decoration-color: #7f7f7f\"> 8964 │   │   │   │   </span>verify_integrity=verify_integrity,                                <span style=\"color: #ff0000; text-decoration-color: #ff0000\">│</span>\n<span style=\"color: #ff0000; text-decoration-color: #ff0000\">│</span>                                                                                           <span style=\"color: #ff0000; text-decoration-color: #ff0000\">│</span>\n<span style=\"color: #ff0000; text-decoration-color: #ff0000\">│</span> <span style=\"color: #bfbf7f; text-decoration-color: #bfbf7f\">/home/alex/anaconda3/envs/py/lib/python3.9/site-packages/pandas/util/</span><span style=\"color: #808000; text-decoration-color: #808000; font-weight: bold\">_decorators.py</span>:<span style=\"color: #0000ff; text-decoration-color: #0000ff\">311</span>   <span style=\"color: #ff0000; text-decoration-color: #ff0000\">│</span>\n<span style=\"color: #ff0000; text-decoration-color: #ff0000\">│</span> in <span style=\"color: #00ff00; text-decoration-color: #00ff00\">wrapper</span>                                                                                <span style=\"color: #ff0000; text-decoration-color: #ff0000\">│</span>\n<span style=\"color: #ff0000; text-decoration-color: #ff0000\">│</span>                                                                                           <span style=\"color: #ff0000; text-decoration-color: #ff0000\">│</span>\n<span style=\"color: #ff0000; text-decoration-color: #ff0000\">│</span>   <span style=\"color: #7f7f7f; text-decoration-color: #7f7f7f\">308 │   │   │   │   │   </span><span style=\"color: #00ffff; text-decoration-color: #00ffff\">FutureWarning</span>,                                                  <span style=\"color: #ff0000; text-decoration-color: #ff0000\">│</span>\n<span style=\"color: #ff0000; text-decoration-color: #ff0000\">│</span>   <span style=\"color: #7f7f7f; text-decoration-color: #7f7f7f\">309 │   │   │   │   │   </span>stacklevel=stacklevel,                                          <span style=\"color: #ff0000; text-decoration-color: #ff0000\">│</span>\n<span style=\"color: #ff0000; text-decoration-color: #ff0000\">│</span>   <span style=\"color: #7f7f7f; text-decoration-color: #7f7f7f\">310 │   │   │   │   </span>)                                                                   <span style=\"color: #ff0000; text-decoration-color: #ff0000\">│</span>\n<span style=\"color: #ff0000; text-decoration-color: #ff0000\">│</span> <span style=\"color: #800000; text-decoration-color: #800000\">❱ </span>311 <span style=\"color: #7f7f7f; text-decoration-color: #7f7f7f\">│   │   │   </span><span style=\"color: #0000ff; text-decoration-color: #0000ff\">return</span> func(*args, **kwargs)                                            <span style=\"color: #ff0000; text-decoration-color: #ff0000\">│</span>\n<span style=\"color: #ff0000; text-decoration-color: #ff0000\">│</span>   <span style=\"color: #7f7f7f; text-decoration-color: #7f7f7f\">312 │   │   </span>                                                                            <span style=\"color: #ff0000; text-decoration-color: #ff0000\">│</span>\n<span style=\"color: #ff0000; text-decoration-color: #ff0000\">│</span>   <span style=\"color: #7f7f7f; text-decoration-color: #7f7f7f\">313 │   │   </span><span style=\"color: #0000ff; text-decoration-color: #0000ff\">return</span> wrapper                                                              <span style=\"color: #ff0000; text-decoration-color: #ff0000\">│</span>\n<span style=\"color: #ff0000; text-decoration-color: #ff0000\">│</span>   <span style=\"color: #7f7f7f; text-decoration-color: #7f7f7f\">314 </span>                                                                                    <span style=\"color: #ff0000; text-decoration-color: #ff0000\">│</span>\n<span style=\"color: #ff0000; text-decoration-color: #ff0000\">│</span>                                                                                           <span style=\"color: #ff0000; text-decoration-color: #ff0000\">│</span>\n<span style=\"color: #ff0000; text-decoration-color: #ff0000\">│</span> <span style=\"color: #bfbf7f; text-decoration-color: #bfbf7f\">/home/alex/anaconda3/envs/py/lib/python3.9/site-packages/pandas/core/reshape/</span><span style=\"color: #808000; text-decoration-color: #808000; font-weight: bold\">concat.py</span>:<span style=\"color: #0000ff; text-decoration-color: #0000ff\">29</span> <span style=\"color: #ff0000; text-decoration-color: #ff0000\">│</span>\n<span style=\"color: #ff0000; text-decoration-color: #ff0000\">│</span> <span style=\"color: #0000ff; text-decoration-color: #0000ff\">4</span> in <span style=\"color: #00ff00; text-decoration-color: #00ff00\">concat</span>                                                                               <span style=\"color: #ff0000; text-decoration-color: #ff0000\">│</span>\n<span style=\"color: #ff0000; text-decoration-color: #ff0000\">│</span>                                                                                           <span style=\"color: #ff0000; text-decoration-color: #ff0000\">│</span>\n<span style=\"color: #ff0000; text-decoration-color: #ff0000\">│</span>   <span style=\"color: #7f7f7f; text-decoration-color: #7f7f7f\">291 </span><span style=\"color: #bfbf7f; text-decoration-color: #bfbf7f\">│   │   </span><span style=\"color: #808000; text-decoration-color: #808000\">...</span>                                                                         <span style=\"color: #ff0000; text-decoration-color: #ff0000\">│</span>\n<span style=\"color: #ff0000; text-decoration-color: #ff0000\">│</span>   <span style=\"color: #7f7f7f; text-decoration-color: #7f7f7f\">292 </span><span style=\"color: #bfbf7f; text-decoration-color: #bfbf7f\">│   </span><span style=\"color: #808000; text-decoration-color: #808000\">ValueError: Indexes have overlapping values: ['a']</span>                              <span style=\"color: #ff0000; text-decoration-color: #ff0000\">│</span>\n<span style=\"color: #ff0000; text-decoration-color: #ff0000\">│</span>   <span style=\"color: #7f7f7f; text-decoration-color: #7f7f7f\">293 </span><span style=\"color: #bfbf7f; text-decoration-color: #bfbf7f\">│   </span><span style=\"color: #808000; text-decoration-color: #808000\">\"\"\"</span>                                                                             <span style=\"color: #ff0000; text-decoration-color: #ff0000\">│</span>\n<span style=\"color: #ff0000; text-decoration-color: #ff0000\">│</span> <span style=\"color: #800000; text-decoration-color: #800000\">❱ </span>294 <span style=\"color: #7f7f7f; text-decoration-color: #7f7f7f\">│   </span>op = _Concatenator(                                                             <span style=\"color: #ff0000; text-decoration-color: #ff0000\">│</span>\n<span style=\"color: #ff0000; text-decoration-color: #ff0000\">│</span>   <span style=\"color: #7f7f7f; text-decoration-color: #7f7f7f\">295 │   │   </span>objs,                                                                       <span style=\"color: #ff0000; text-decoration-color: #ff0000\">│</span>\n<span style=\"color: #ff0000; text-decoration-color: #ff0000\">│</span>   <span style=\"color: #7f7f7f; text-decoration-color: #7f7f7f\">296 │   │   </span>axis=axis,                                                                  <span style=\"color: #ff0000; text-decoration-color: #ff0000\">│</span>\n<span style=\"color: #ff0000; text-decoration-color: #ff0000\">│</span>   <span style=\"color: #7f7f7f; text-decoration-color: #7f7f7f\">297 │   │   </span>ignore_index=ignore_index,                                                  <span style=\"color: #ff0000; text-decoration-color: #ff0000\">│</span>\n<span style=\"color: #ff0000; text-decoration-color: #ff0000\">│</span>                                                                                           <span style=\"color: #ff0000; text-decoration-color: #ff0000\">│</span>\n<span style=\"color: #ff0000; text-decoration-color: #ff0000\">│</span> <span style=\"color: #bfbf7f; text-decoration-color: #bfbf7f\">/home/alex/anaconda3/envs/py/lib/python3.9/site-packages/pandas/core/reshape/</span><span style=\"color: #808000; text-decoration-color: #808000; font-weight: bold\">concat.py</span>:<span style=\"color: #0000ff; text-decoration-color: #0000ff\">47</span> <span style=\"color: #ff0000; text-decoration-color: #ff0000\">│</span>\n<span style=\"color: #ff0000; text-decoration-color: #ff0000\">│</span> <span style=\"color: #0000ff; text-decoration-color: #0000ff\">9</span> in <span style=\"color: #00ff00; text-decoration-color: #00ff00\">__init__</span>                                                                             <span style=\"color: #ff0000; text-decoration-color: #ff0000\">│</span>\n<span style=\"color: #ff0000; text-decoration-color: #ff0000\">│</span>                                                                                           <span style=\"color: #ff0000; text-decoration-color: #ff0000\">│</span>\n<span style=\"color: #ff0000; text-decoration-color: #ff0000\">│</span>   <span style=\"color: #7f7f7f; text-decoration-color: #7f7f7f\">476 │   │   </span><span style=\"color: #00ffff; text-decoration-color: #00ffff\">self</span>.verify_integrity = verify_integrity                                    <span style=\"color: #ff0000; text-decoration-color: #ff0000\">│</span>\n<span style=\"color: #ff0000; text-decoration-color: #ff0000\">│</span>   <span style=\"color: #7f7f7f; text-decoration-color: #7f7f7f\">477 │   │   </span><span style=\"color: #00ffff; text-decoration-color: #00ffff\">self</span>.copy = copy                                                            <span style=\"color: #ff0000; text-decoration-color: #ff0000\">│</span>\n<span style=\"color: #ff0000; text-decoration-color: #ff0000\">│</span>   <span style=\"color: #7f7f7f; text-decoration-color: #7f7f7f\">478 │   │   </span>                                                                            <span style=\"color: #ff0000; text-decoration-color: #ff0000\">│</span>\n<span style=\"color: #ff0000; text-decoration-color: #ff0000\">│</span> <span style=\"color: #800000; text-decoration-color: #800000\">❱ </span>479 <span style=\"color: #7f7f7f; text-decoration-color: #7f7f7f\">│   │   </span><span style=\"color: #00ffff; text-decoration-color: #00ffff\">self</span>.new_axes = <span style=\"color: #00ffff; text-decoration-color: #00ffff\">self</span>._get_new_axes()                                        <span style=\"color: #ff0000; text-decoration-color: #ff0000\">│</span>\n<span style=\"color: #ff0000; text-decoration-color: #ff0000\">│</span>   <span style=\"color: #7f7f7f; text-decoration-color: #7f7f7f\">480 │   </span>                                                                                <span style=\"color: #ff0000; text-decoration-color: #ff0000\">│</span>\n<span style=\"color: #ff0000; text-decoration-color: #ff0000\">│</span>   <span style=\"color: #7f7f7f; text-decoration-color: #7f7f7f\">481 │   </span><span style=\"color: #0000ff; text-decoration-color: #0000ff\">def</span> <span style=\"color: #00ff00; text-decoration-color: #00ff00\">get_result</span>(<span style=\"color: #00ffff; text-decoration-color: #00ffff\">self</span>):                                                           <span style=\"color: #ff0000; text-decoration-color: #ff0000\">│</span>\n<span style=\"color: #ff0000; text-decoration-color: #ff0000\">│</span>   <span style=\"color: #7f7f7f; text-decoration-color: #7f7f7f\">482 │   │   </span>cons: <span style=\"color: #00ffff; text-decoration-color: #00ffff\">type</span>[FrameOrSeriesUnion]                                              <span style=\"color: #ff0000; text-decoration-color: #ff0000\">│</span>\n<span style=\"color: #ff0000; text-decoration-color: #ff0000\">│</span>                                                                                           <span style=\"color: #ff0000; text-decoration-color: #ff0000\">│</span>\n<span style=\"color: #ff0000; text-decoration-color: #ff0000\">│</span> <span style=\"color: #bfbf7f; text-decoration-color: #bfbf7f\">/home/alex/anaconda3/envs/py/lib/python3.9/site-packages/pandas/core/reshape/</span><span style=\"color: #808000; text-decoration-color: #808000; font-weight: bold\">concat.py</span>:<span style=\"color: #0000ff; text-decoration-color: #0000ff\">54</span> <span style=\"color: #ff0000; text-decoration-color: #ff0000\">│</span>\n<span style=\"color: #ff0000; text-decoration-color: #ff0000\">│</span> <span style=\"color: #0000ff; text-decoration-color: #0000ff\">9</span> in <span style=\"color: #00ff00; text-decoration-color: #00ff00\">_get_new_axes</span>                                                                        <span style=\"color: #ff0000; text-decoration-color: #ff0000\">│</span>\n<span style=\"color: #ff0000; text-decoration-color: #ff0000\">│</span>                                                                                           <span style=\"color: #ff0000; text-decoration-color: #ff0000\">│</span>\n<span style=\"color: #ff0000; text-decoration-color: #ff0000\">│</span>   <span style=\"color: #7f7f7f; text-decoration-color: #7f7f7f\">546 │   </span>                                                                                <span style=\"color: #ff0000; text-decoration-color: #ff0000\">│</span>\n<span style=\"color: #ff0000; text-decoration-color: #ff0000\">│</span>   <span style=\"color: #7f7f7f; text-decoration-color: #7f7f7f\">547 │   </span><span style=\"color: #0000ff; text-decoration-color: #0000ff\">def</span> <span style=\"color: #00ff00; text-decoration-color: #00ff00\">_get_new_axes</span>(<span style=\"color: #00ffff; text-decoration-color: #00ffff\">self</span>) -&gt; <span style=\"color: #00ffff; text-decoration-color: #00ffff\">list</span>[Index]:                                         <span style=\"color: #ff0000; text-decoration-color: #ff0000\">│</span>\n<span style=\"color: #ff0000; text-decoration-color: #ff0000\">│</span>   <span style=\"color: #7f7f7f; text-decoration-color: #7f7f7f\">548 │   │   </span>ndim = <span style=\"color: #00ffff; text-decoration-color: #00ffff\">self</span>._get_result_dim()                                               <span style=\"color: #ff0000; text-decoration-color: #ff0000\">│</span>\n<span style=\"color: #ff0000; text-decoration-color: #ff0000\">│</span> <span style=\"color: #800000; text-decoration-color: #800000\">❱ </span>549 <span style=\"color: #7f7f7f; text-decoration-color: #7f7f7f\">│   │   </span><span style=\"color: #0000ff; text-decoration-color: #0000ff\">return</span> [                                                                    <span style=\"color: #ff0000; text-decoration-color: #ff0000\">│</span>\n<span style=\"color: #ff0000; text-decoration-color: #ff0000\">│</span>   <span style=\"color: #7f7f7f; text-decoration-color: #7f7f7f\">550 │   │   │   </span><span style=\"color: #00ffff; text-decoration-color: #00ffff\">self</span>._get_concat_axis <span style=\"color: #0000ff; text-decoration-color: #0000ff\">if</span> i == <span style=\"color: #00ffff; text-decoration-color: #00ffff\">self</span>.bm_axis <span style=\"color: #0000ff; text-decoration-color: #0000ff\">else</span> <span style=\"color: #00ffff; text-decoration-color: #00ffff\">self</span>._get_comb_axis(i)  <span style=\"color: #ff0000; text-decoration-color: #ff0000\">│</span>\n<span style=\"color: #ff0000; text-decoration-color: #ff0000\">│</span>   <span style=\"color: #7f7f7f; text-decoration-color: #7f7f7f\">551 │   │   │   </span><span style=\"color: #0000ff; text-decoration-color: #0000ff\">for</span> i <span style=\"color: #ff00ff; text-decoration-color: #ff00ff\">in</span> <span style=\"color: #00ffff; text-decoration-color: #00ffff\">range</span>(ndim)                                                    <span style=\"color: #ff0000; text-decoration-color: #ff0000\">│</span>\n<span style=\"color: #ff0000; text-decoration-color: #ff0000\">│</span>   <span style=\"color: #7f7f7f; text-decoration-color: #7f7f7f\">552 │   │   </span>]                                                                           <span style=\"color: #ff0000; text-decoration-color: #ff0000\">│</span>\n<span style=\"color: #ff0000; text-decoration-color: #ff0000\">│</span>                                                                                           <span style=\"color: #ff0000; text-decoration-color: #ff0000\">│</span>\n<span style=\"color: #ff0000; text-decoration-color: #ff0000\">│</span> <span style=\"color: #bfbf7f; text-decoration-color: #bfbf7f\">/home/alex/anaconda3/envs/py/lib/python3.9/site-packages/pandas/core/reshape/</span><span style=\"color: #808000; text-decoration-color: #808000; font-weight: bold\">concat.py</span>:<span style=\"color: #0000ff; text-decoration-color: #0000ff\">55</span> <span style=\"color: #ff0000; text-decoration-color: #ff0000\">│</span>\n<span style=\"color: #ff0000; text-decoration-color: #ff0000\">│</span> <span style=\"color: #0000ff; text-decoration-color: #0000ff\">0</span> in <span style=\"color: #00ff00; text-decoration-color: #00ff00\">&lt;listcomp&gt;</span>                                                                           <span style=\"color: #ff0000; text-decoration-color: #ff0000\">│</span>\n<span style=\"color: #ff0000; text-decoration-color: #ff0000\">│</span>                                                                                           <span style=\"color: #ff0000; text-decoration-color: #ff0000\">│</span>\n<span style=\"color: #ff0000; text-decoration-color: #ff0000\">│</span>   <span style=\"color: #7f7f7f; text-decoration-color: #7f7f7f\">547 │   </span><span style=\"color: #0000ff; text-decoration-color: #0000ff\">def</span> <span style=\"color: #00ff00; text-decoration-color: #00ff00\">_get_new_axes</span>(<span style=\"color: #00ffff; text-decoration-color: #00ffff\">self</span>) -&gt; <span style=\"color: #00ffff; text-decoration-color: #00ffff\">list</span>[Index]:                                         <span style=\"color: #ff0000; text-decoration-color: #ff0000\">│</span>\n<span style=\"color: #ff0000; text-decoration-color: #ff0000\">│</span>   <span style=\"color: #7f7f7f; text-decoration-color: #7f7f7f\">548 │   │   </span>ndim = <span style=\"color: #00ffff; text-decoration-color: #00ffff\">self</span>._get_result_dim()                                               <span style=\"color: #ff0000; text-decoration-color: #ff0000\">│</span>\n<span style=\"color: #ff0000; text-decoration-color: #ff0000\">│</span>   <span style=\"color: #7f7f7f; text-decoration-color: #7f7f7f\">549 │   │   </span><span style=\"color: #0000ff; text-decoration-color: #0000ff\">return</span> [                                                                    <span style=\"color: #ff0000; text-decoration-color: #ff0000\">│</span>\n<span style=\"color: #ff0000; text-decoration-color: #ff0000\">│</span> <span style=\"color: #800000; text-decoration-color: #800000\">❱ </span>550 <span style=\"color: #7f7f7f; text-decoration-color: #7f7f7f\">│   │   │   </span><span style=\"color: #00ffff; text-decoration-color: #00ffff\">self</span>._get_concat_axis <span style=\"color: #0000ff; text-decoration-color: #0000ff\">if</span> i == <span style=\"color: #00ffff; text-decoration-color: #00ffff\">self</span>.bm_axis <span style=\"color: #0000ff; text-decoration-color: #0000ff\">else</span> <span style=\"color: #00ffff; text-decoration-color: #00ffff\">self</span>._get_comb_axis(i)  <span style=\"color: #ff0000; text-decoration-color: #ff0000\">│</span>\n<span style=\"color: #ff0000; text-decoration-color: #ff0000\">│</span>   <span style=\"color: #7f7f7f; text-decoration-color: #7f7f7f\">551 │   │   │   </span><span style=\"color: #0000ff; text-decoration-color: #0000ff\">for</span> i <span style=\"color: #ff00ff; text-decoration-color: #ff00ff\">in</span> <span style=\"color: #00ffff; text-decoration-color: #00ffff\">range</span>(ndim)                                                    <span style=\"color: #ff0000; text-decoration-color: #ff0000\">│</span>\n<span style=\"color: #ff0000; text-decoration-color: #ff0000\">│</span>   <span style=\"color: #7f7f7f; text-decoration-color: #7f7f7f\">552 │   │   </span>]                                                                           <span style=\"color: #ff0000; text-decoration-color: #ff0000\">│</span>\n<span style=\"color: #ff0000; text-decoration-color: #ff0000\">│</span>   <span style=\"color: #7f7f7f; text-decoration-color: #7f7f7f\">553 </span>                                                                                    <span style=\"color: #ff0000; text-decoration-color: #ff0000\">│</span>\n<span style=\"color: #ff0000; text-decoration-color: #ff0000\">│</span>                                                                                           <span style=\"color: #ff0000; text-decoration-color: #ff0000\">│</span>\n<span style=\"color: #ff0000; text-decoration-color: #ff0000\">│</span> <span style=\"color: #bfbf7f; text-decoration-color: #bfbf7f\">/home/alex/anaconda3/envs/py/lib/python3.9/site-packages/pandas/core/reshape/</span><span style=\"color: #808000; text-decoration-color: #808000; font-weight: bold\">concat.py</span>:<span style=\"color: #0000ff; text-decoration-color: #0000ff\">55</span> <span style=\"color: #ff0000; text-decoration-color: #ff0000\">│</span>\n<span style=\"color: #ff0000; text-decoration-color: #ff0000\">│</span> <span style=\"color: #0000ff; text-decoration-color: #0000ff\">6</span> in <span style=\"color: #00ff00; text-decoration-color: #00ff00\">_get_comb_axis</span>                                                                       <span style=\"color: #ff0000; text-decoration-color: #ff0000\">│</span>\n<span style=\"color: #ff0000; text-decoration-color: #ff0000\">│</span>                                                                                           <span style=\"color: #ff0000; text-decoration-color: #ff0000\">│</span>\n<span style=\"color: #ff0000; text-decoration-color: #ff0000\">│</span>   <span style=\"color: #7f7f7f; text-decoration-color: #7f7f7f\">553 │   </span>                                                                                <span style=\"color: #ff0000; text-decoration-color: #ff0000\">│</span>\n<span style=\"color: #ff0000; text-decoration-color: #ff0000\">│</span>   <span style=\"color: #7f7f7f; text-decoration-color: #7f7f7f\">554 │   </span><span style=\"color: #0000ff; text-decoration-color: #0000ff\">def</span> <span style=\"color: #00ff00; text-decoration-color: #00ff00\">_get_comb_axis</span>(<span style=\"color: #00ffff; text-decoration-color: #00ffff\">self</span>, i: <span style=\"color: #00ffff; text-decoration-color: #00ffff\">int</span>) -&gt; Index:                                      <span style=\"color: #ff0000; text-decoration-color: #ff0000\">│</span>\n<span style=\"color: #ff0000; text-decoration-color: #ff0000\">│</span>   <span style=\"color: #7f7f7f; text-decoration-color: #7f7f7f\">555 │   │   </span>data_axis = <span style=\"color: #00ffff; text-decoration-color: #00ffff\">self</span>.objs[<span style=\"color: #0000ff; text-decoration-color: #0000ff\">0</span>]._get_block_manager_axis(i)                         <span style=\"color: #ff0000; text-decoration-color: #ff0000\">│</span>\n<span style=\"color: #ff0000; text-decoration-color: #ff0000\">│</span> <span style=\"color: #800000; text-decoration-color: #800000\">❱ </span>556 <span style=\"color: #7f7f7f; text-decoration-color: #7f7f7f\">│   │   </span><span style=\"color: #0000ff; text-decoration-color: #0000ff\">return</span> get_objs_combined_axis(                                              <span style=\"color: #ff0000; text-decoration-color: #ff0000\">│</span>\n<span style=\"color: #ff0000; text-decoration-color: #ff0000\">│</span>   <span style=\"color: #7f7f7f; text-decoration-color: #7f7f7f\">557 │   │   │   </span><span style=\"color: #00ffff; text-decoration-color: #00ffff\">self</span>.objs,                                                              <span style=\"color: #ff0000; text-decoration-color: #ff0000\">│</span>\n<span style=\"color: #ff0000; text-decoration-color: #ff0000\">│</span>   <span style=\"color: #7f7f7f; text-decoration-color: #7f7f7f\">558 │   │   │   </span>axis=data_axis,                                                         <span style=\"color: #ff0000; text-decoration-color: #ff0000\">│</span>\n<span style=\"color: #ff0000; text-decoration-color: #ff0000\">│</span>   <span style=\"color: #7f7f7f; text-decoration-color: #7f7f7f\">559 │   │   │   </span>intersect=<span style=\"color: #00ffff; text-decoration-color: #00ffff\">self</span>.intersect,                                               <span style=\"color: #ff0000; text-decoration-color: #ff0000\">│</span>\n<span style=\"color: #ff0000; text-decoration-color: #ff0000\">│</span>                                                                                           <span style=\"color: #ff0000; text-decoration-color: #ff0000\">│</span>\n<span style=\"color: #ff0000; text-decoration-color: #ff0000\">│</span> <span style=\"color: #bfbf7f; text-decoration-color: #bfbf7f\">/home/alex/anaconda3/envs/py/lib/python3.9/site-packages/pandas/core/indexes/</span><span style=\"color: #808000; text-decoration-color: #808000; font-weight: bold\">api.py</span>:<span style=\"color: #0000ff; text-decoration-color: #0000ff\">96</span> in <span style=\"color: #ff0000; text-decoration-color: #ff0000\">│</span>\n<span style=\"color: #ff0000; text-decoration-color: #ff0000\">│</span> <span style=\"color: #00ff00; text-decoration-color: #00ff00\">get_objs_combined_axis</span>                                                                    <span style=\"color: #ff0000; text-decoration-color: #ff0000\">│</span>\n<span style=\"color: #ff0000; text-decoration-color: #ff0000\">│</span>                                                                                           <span style=\"color: #ff0000; text-decoration-color: #ff0000\">│</span>\n<span style=\"color: #ff0000; text-decoration-color: #ff0000\">│</span>   <span style=\"color: #7f7f7f; text-decoration-color: #7f7f7f\"> 93 </span><span style=\"color: #bfbf7f; text-decoration-color: #bfbf7f\">│   </span><span style=\"color: #808000; text-decoration-color: #808000\">Index</span>                                                                           <span style=\"color: #ff0000; text-decoration-color: #ff0000\">│</span>\n<span style=\"color: #ff0000; text-decoration-color: #ff0000\">│</span>   <span style=\"color: #7f7f7f; text-decoration-color: #7f7f7f\"> 94 </span><span style=\"color: #bfbf7f; text-decoration-color: #bfbf7f\">│   </span><span style=\"color: #808000; text-decoration-color: #808000\">\"\"\"</span>                                                                             <span style=\"color: #ff0000; text-decoration-color: #ff0000\">│</span>\n<span style=\"color: #ff0000; text-decoration-color: #ff0000\">│</span>   <span style=\"color: #7f7f7f; text-decoration-color: #7f7f7f\"> 95 │   </span>obs_idxes = [obj._get_axis(axis) <span style=\"color: #0000ff; text-decoration-color: #0000ff\">for</span> obj <span style=\"color: #ff00ff; text-decoration-color: #ff00ff\">in</span> objs]                               <span style=\"color: #ff0000; text-decoration-color: #ff0000\">│</span>\n<span style=\"color: #ff0000; text-decoration-color: #ff0000\">│</span> <span style=\"color: #800000; text-decoration-color: #800000\">❱ </span> 96 <span style=\"color: #7f7f7f; text-decoration-color: #7f7f7f\">│   </span><span style=\"color: #0000ff; text-decoration-color: #0000ff\">return</span> _get_combined_index(obs_idxes, intersect=intersect, sort=sort, copy=copy <span style=\"color: #ff0000; text-decoration-color: #ff0000\">│</span>\n<span style=\"color: #ff0000; text-decoration-color: #ff0000\">│</span>   <span style=\"color: #7f7f7f; text-decoration-color: #7f7f7f\"> 97 </span>                                                                                    <span style=\"color: #ff0000; text-decoration-color: #ff0000\">│</span>\n<span style=\"color: #ff0000; text-decoration-color: #ff0000\">│</span>   <span style=\"color: #7f7f7f; text-decoration-color: #7f7f7f\"> 98 </span>                                                                                    <span style=\"color: #ff0000; text-decoration-color: #ff0000\">│</span>\n<span style=\"color: #ff0000; text-decoration-color: #ff0000\">│</span>   <span style=\"color: #7f7f7f; text-decoration-color: #7f7f7f\"> 99 </span><span style=\"color: #0000ff; text-decoration-color: #0000ff\">def</span> <span style=\"color: #00ff00; text-decoration-color: #00ff00\">_get_distinct_objs</span>(objs: <span style=\"color: #00ffff; text-decoration-color: #00ffff\">list</span>[Index]) -&gt; <span style=\"color: #00ffff; text-decoration-color: #00ffff\">list</span>[Index]:                           <span style=\"color: #ff0000; text-decoration-color: #ff0000\">│</span>\n<span style=\"color: #ff0000; text-decoration-color: #ff0000\">│</span>                                                                                           <span style=\"color: #ff0000; text-decoration-color: #ff0000\">│</span>\n<span style=\"color: #ff0000; text-decoration-color: #ff0000\">│</span> <span style=\"color: #bfbf7f; text-decoration-color: #bfbf7f\">/home/alex/anaconda3/envs/py/lib/python3.9/site-packages/pandas/core/indexes/</span><span style=\"color: #808000; text-decoration-color: #808000; font-weight: bold\">api.py</span>:<span style=\"color: #0000ff; text-decoration-color: #0000ff\">160</span>   <span style=\"color: #ff0000; text-decoration-color: #ff0000\">│</span>\n<span style=\"color: #ff0000; text-decoration-color: #ff0000\">│</span> in <span style=\"color: #00ff00; text-decoration-color: #00ff00\">_get_combined_index</span>                                                                    <span style=\"color: #ff0000; text-decoration-color: #ff0000\">│</span>\n<span style=\"color: #ff0000; text-decoration-color: #ff0000\">│</span>                                                                                           <span style=\"color: #ff0000; text-decoration-color: #ff0000\">│</span>\n<span style=\"color: #ff0000; text-decoration-color: #ff0000\">│</span>   <span style=\"color: #7f7f7f; text-decoration-color: #7f7f7f\">157 │   </span>                                                                                <span style=\"color: #ff0000; text-decoration-color: #ff0000\">│</span>\n<span style=\"color: #ff0000; text-decoration-color: #ff0000\">│</span>   <span style=\"color: #7f7f7f; text-decoration-color: #7f7f7f\">158 │   # GH 29879</span>                                                                      <span style=\"color: #ff0000; text-decoration-color: #ff0000\">│</span>\n<span style=\"color: #ff0000; text-decoration-color: #ff0000\">│</span>   <span style=\"color: #7f7f7f; text-decoration-color: #7f7f7f\">159 │   </span><span style=\"color: #0000ff; text-decoration-color: #0000ff\">if</span> copy:                                                                        <span style=\"color: #ff0000; text-decoration-color: #ff0000\">│</span>\n<span style=\"color: #ff0000; text-decoration-color: #ff0000\">│</span> <span style=\"color: #800000; text-decoration-color: #800000\">❱ </span>160 <span style=\"color: #7f7f7f; text-decoration-color: #7f7f7f\">│   │   </span>index = index.copy()                                                        <span style=\"color: #ff0000; text-decoration-color: #ff0000\">│</span>\n<span style=\"color: #ff0000; text-decoration-color: #ff0000\">│</span>   <span style=\"color: #7f7f7f; text-decoration-color: #7f7f7f\">161 │   </span>                                                                                <span style=\"color: #ff0000; text-decoration-color: #ff0000\">│</span>\n<span style=\"color: #ff0000; text-decoration-color: #ff0000\">│</span>   <span style=\"color: #7f7f7f; text-decoration-color: #7f7f7f\">162 │   </span><span style=\"color: #0000ff; text-decoration-color: #0000ff\">return</span> index                                                                    <span style=\"color: #ff0000; text-decoration-color: #ff0000\">│</span>\n<span style=\"color: #ff0000; text-decoration-color: #ff0000\">│</span>   <span style=\"color: #7f7f7f; text-decoration-color: #7f7f7f\">163 </span>                                                                                    <span style=\"color: #ff0000; text-decoration-color: #ff0000\">│</span>\n<span style=\"color: #ff0000; text-decoration-color: #ff0000\">│</span>                                                                                           <span style=\"color: #ff0000; text-decoration-color: #ff0000\">│</span>\n<span style=\"color: #ff0000; text-decoration-color: #ff0000\">│</span> <span style=\"color: #bfbf7f; text-decoration-color: #bfbf7f\">/home/alex/anaconda3/envs/py/lib/python3.9/site-packages/pandas/core/indexes/</span><span style=\"color: #808000; text-decoration-color: #808000; font-weight: bold\">base.py</span>:<span style=\"color: #0000ff; text-decoration-color: #0000ff\">1079</span> <span style=\"color: #ff0000; text-decoration-color: #ff0000\">│</span>\n<span style=\"color: #ff0000; text-decoration-color: #ff0000\">│</span> in <span style=\"color: #00ff00; text-decoration-color: #00ff00\">copy</span>                                                                                   <span style=\"color: #ff0000; text-decoration-color: #ff0000\">│</span>\n<span style=\"color: #ff0000; text-decoration-color: #ff0000\">│</span>                                                                                           <span style=\"color: #ff0000; text-decoration-color: #ff0000\">│</span>\n<span style=\"color: #ff0000; text-decoration-color: #ff0000\">│</span>   <span style=\"color: #7f7f7f; text-decoration-color: #7f7f7f\">1076 │   │   │   </span>new_data = <span style=\"color: #00ffff; text-decoration-color: #00ffff\">self</span>._data.copy()                                           <span style=\"color: #ff0000; text-decoration-color: #ff0000\">│</span>\n<span style=\"color: #ff0000; text-decoration-color: #ff0000\">│</span>   <span style=\"color: #7f7f7f; text-decoration-color: #7f7f7f\">1077 │   │   │   </span>new_index = <span style=\"color: #00ffff; text-decoration-color: #00ffff\">type</span>(<span style=\"color: #00ffff; text-decoration-color: #00ffff\">self</span>)._simple_new(new_data, name=name)                <span style=\"color: #ff0000; text-decoration-color: #ff0000\">│</span>\n<span style=\"color: #ff0000; text-decoration-color: #ff0000\">│</span>   <span style=\"color: #7f7f7f; text-decoration-color: #7f7f7f\">1078 │   │   </span><span style=\"color: #0000ff; text-decoration-color: #0000ff\">else</span>:                                                                      <span style=\"color: #ff0000; text-decoration-color: #ff0000\">│</span>\n<span style=\"color: #ff0000; text-decoration-color: #ff0000\">│</span> <span style=\"color: #800000; text-decoration-color: #800000\">❱ </span>1079 <span style=\"color: #7f7f7f; text-decoration-color: #7f7f7f\">│   │   │   </span>new_index = <span style=\"color: #00ffff; text-decoration-color: #00ffff\">self</span>._rename(name=name)                                    <span style=\"color: #ff0000; text-decoration-color: #ff0000\">│</span>\n<span style=\"color: #ff0000; text-decoration-color: #ff0000\">│</span>   <span style=\"color: #7f7f7f; text-decoration-color: #7f7f7f\">1080 │   │   </span>                                                                           <span style=\"color: #ff0000; text-decoration-color: #ff0000\">│</span>\n<span style=\"color: #ff0000; text-decoration-color: #ff0000\">│</span>   <span style=\"color: #7f7f7f; text-decoration-color: #7f7f7f\">1081 │   │   </span><span style=\"color: #0000ff; text-decoration-color: #0000ff\">if</span> dtype:                                                                  <span style=\"color: #ff0000; text-decoration-color: #ff0000\">│</span>\n<span style=\"color: #ff0000; text-decoration-color: #ff0000\">│</span>   <span style=\"color: #7f7f7f; text-decoration-color: #7f7f7f\">1082 │   │   │   </span>warnings.warn(                                                         <span style=\"color: #ff0000; text-decoration-color: #ff0000\">│</span>\n<span style=\"color: #ff0000; text-decoration-color: #ff0000\">│</span>                                                                                           <span style=\"color: #ff0000; text-decoration-color: #ff0000\">│</span>\n<span style=\"color: #ff0000; text-decoration-color: #ff0000\">│</span> <span style=\"color: #bfbf7f; text-decoration-color: #bfbf7f\">/home/alex/anaconda3/envs/py/lib/python3.9/site-packages/pandas/core/indexes/</span><span style=\"color: #808000; text-decoration-color: #808000; font-weight: bold\">base.py</span>:<span style=\"color: #0000ff; text-decoration-color: #0000ff\">721</span>  <span style=\"color: #ff0000; text-decoration-color: #ff0000\">│</span>\n<span style=\"color: #ff0000; text-decoration-color: #ff0000\">│</span> in <span style=\"color: #00ff00; text-decoration-color: #00ff00\">_rename</span>                                                                                <span style=\"color: #ff0000; text-decoration-color: #ff0000\">│</span>\n<span style=\"color: #ff0000; text-decoration-color: #ff0000\">│</span>                                                                                           <span style=\"color: #ff0000; text-decoration-color: #ff0000\">│</span>\n<span style=\"color: #ff0000; text-decoration-color: #ff0000\">│</span>   <span style=\"color: #7f7f7f; text-decoration-color: #7f7f7f\"> 718 │   │   </span><span style=\"color: #808000; text-decoration-color: #808000\">\"\"\"</span>                                                                        <span style=\"color: #ff0000; text-decoration-color: #ff0000\">│</span>\n<span style=\"color: #ff0000; text-decoration-color: #ff0000\">│</span>   <span style=\"color: #7f7f7f; text-decoration-color: #7f7f7f\"> 719 </span><span style=\"color: #bfbf7f; text-decoration-color: #bfbf7f\">│   │   </span><span style=\"color: #808000; text-decoration-color: #808000\">fastpath for rename if new name is already validated.</span>                      <span style=\"color: #ff0000; text-decoration-color: #ff0000\">│</span>\n<span style=\"color: #ff0000; text-decoration-color: #ff0000\">│</span>   <span style=\"color: #7f7f7f; text-decoration-color: #7f7f7f\"> 720 </span><span style=\"color: #bfbf7f; text-decoration-color: #bfbf7f\">│   │   </span><span style=\"color: #808000; text-decoration-color: #808000\">\"\"\"</span>                                                                        <span style=\"color: #ff0000; text-decoration-color: #ff0000\">│</span>\n<span style=\"color: #ff0000; text-decoration-color: #ff0000\">│</span> <span style=\"color: #800000; text-decoration-color: #800000\">❱ </span> 721 <span style=\"color: #7f7f7f; text-decoration-color: #7f7f7f\">│   │   </span>result = <span style=\"color: #00ffff; text-decoration-color: #00ffff\">self</span>._view()                                                      <span style=\"color: #ff0000; text-decoration-color: #ff0000\">│</span>\n<span style=\"color: #ff0000; text-decoration-color: #ff0000\">│</span>   <span style=\"color: #7f7f7f; text-decoration-color: #7f7f7f\"> 722 │   │   </span>result._name = name                                                        <span style=\"color: #ff0000; text-decoration-color: #ff0000\">│</span>\n<span style=\"color: #ff0000; text-decoration-color: #ff0000\">│</span>   <span style=\"color: #7f7f7f; text-decoration-color: #7f7f7f\"> 723 │   │   </span><span style=\"color: #0000ff; text-decoration-color: #0000ff\">return</span> result                                                              <span style=\"color: #ff0000; text-decoration-color: #ff0000\">│</span>\n<span style=\"color: #ff0000; text-decoration-color: #ff0000\">│</span>   <span style=\"color: #7f7f7f; text-decoration-color: #7f7f7f\"> 724 </span>                                                                                   <span style=\"color: #ff0000; text-decoration-color: #ff0000\">│</span>\n<span style=\"color: #ff0000; text-decoration-color: #ff0000\">╰───────────────────────────────────────────────────────────────────────────────────────────╯</span>\n<span style=\"color: #ff0000; text-decoration-color: #ff0000; font-weight: bold\">KeyboardInterrupt</span>\n</pre>\n"
     },
     "metadata": {},
     "output_type": "display_data"
    }
   ],
   "source": [
    "nodeGroups = [scores_df.query(\"nodeGroup==@gn\").nodeName.values for gn in groupOrder]\n",
    "prototypeSelectionScores = dict()\n",
    "o = 0\n",
    "total = reduce(lambda a, x: a * len(x), nodeGroups, 1)\n",
    "for c in itertools.product(*nodeGroups):\n",
    "    prototypeSelectionScores[c] = scoreRankings(makeNodeRankingsInGroups(makeGroupRankings(c)))\n",
    "    o += 1\n",
    "    print(f\"{o}/{total}\")"
   ],
   "metadata": {
    "collapsed": false
   }
  },
  {
   "cell_type": "code",
   "execution_count": 97,
   "outputs": [
    {
     "name": "stdout",
     "output_type": "stream",
     "text": [
      "[(('m5.large', 'c5.2xlarge', 'r5.large', 'i3.large'), (0.7795315240228508, 0.045679419955128885)), (('m5.large', 'c5.2xlarge', 'r5.large', 'i3.xlarge'), (0.7790106092965915, 0.04536687791506502)), (('m5.large', 'c5a.xlarge', 'r5.large', 'i3.large'), (0.7771526801062666, 0.0498081289858349)), (('m5.large', 'c5.xlarge', 'r5.large', 'i3.large'), (0.7767706759736764, 0.046822066322327716)), (('m5.large', 'c5a.xlarge', 'r5.large', 'i3.xlarge'), (0.7766317653800072, 0.04949662178106412)), (('m5.large', 'c5.xlarge', 'r5.large', 'i3.xlarge'), (0.7762497612474171, 0.04648627503042468)), (('m5.large', 'c5.2xlarge', 'r5.xlarge', 'i3.xlarge'), (0.7760934868295394, 0.03996418338376854)), (('m5.large', 'c5a.xlarge', 'r5.xlarge', 'i3.xlarge'), (0.775867757114827, 0.04146157636297061)), (('m5.large', 'c5.2xlarge', 'r5.large', 'i3.2xlarge'), (0.7757114826969491, 0.04858666717223046)), (('m5.large', 'c5.xlarge', 'r5.xlarge', 'i3.xlarge'), (0.7744786511781355, 0.041069133441499435)), (('m5.large', 'c5a.xlarge', 'r5.xlarge', 'i3.2xlarge'), (0.7742355576392145, 0.0423793077423828)), (('m5.large', 'c5.2xlarge', 'r5a.large', 'i3.xlarge'), (0.7741834661665885, 0.03835559898346577)), (('m5.large', 'c5.2xlarge', 'r5.xlarge', 'i3.2xlarge'), (0.774114010869754, 0.04207081537252649)), (('m5.large', 'c5.2xlarge', 'r5.xlarge', 'i3.large'), (0.7739403726276676, 0.04034879770835118)), (('m5.large', 'c5a.xlarge', 'r5.xlarge', 'i3.large'), (0.7737146429129552, 0.04199585820213946)), (('m5.large', 'c5a.xlarge', 'r5.large', 'i3.2xlarge'), (0.7736799152645378, 0.05232572795792948)), (('m5.large', 'c5.2xlarge', 'r5a.xlarge', 'i3.xlarge'), (0.7733673664287823, 0.038484776666908665)), (('m5.large', 'c5.xlarge', 'r5.large', 'i3.2xlarge'), (0.7732979111319477, 0.04946498526137477)), (('m5.large', 'c5.xlarge', 'r5.xlarge', 'i3.2xlarge'), (0.772846451702523, 0.041941417905144246)), (('m5.large', 'c5.xlarge', 'r5.xlarge', 'i3.large'), (0.7723255369762637, 0.041359513941343636)), (('m5.large', 'c5.xlarge', 'r5a.large', 'i3.xlarge'), (0.771821986074213, 0.03985193987098858)), (('m5.large', 'c5.xlarge', 'r5a.xlarge', 'i3.xlarge'), (0.7703981524891041, 0.040490181885898105)), (('m5.large', 'c5.2xlarge', 'r5a.large', 'i3.large'), (0.7697730548175931, 0.039587813239380515)), (('m5.large', 'c5.2xlarge', 'r5.2xlarge', 'i3.xlarge'), (0.7685923147714052, 0.03848024815847306)), (('m5.large', 'c5.2xlarge', 'r5.2xlarge', 'i3.2xlarge'), (0.7681061276935632, 0.04029180281470134)), (('m5.large', 'c5.xlarge', 'r5a.large', 'i3.large'), (0.7674115747252175, 0.04092576380966885)), (('m5.large', 'c5.xlarge', 'r5.2xlarge', 'i3.xlarge'), (0.7660571964369433, 0.04082148288337237)), (('m5.large', 'c5.xlarge', 'r5.2xlarge', 'i3.2xlarge'), (0.7659182858432741, 0.04144182131028659)), (('m5.large', 'c5.2xlarge', 'r5.2xlarge', 'i3.large'), (0.7649632755117987, 0.03837706844517539)), (('m5.large', 'c5.2xlarge', 'r5a.xlarge', 'i3.2xlarge'), (0.7648938202149641, 0.04148914205713243)), (('m5.large', 'c5.2xlarge', 'r5a.large', 'i3.2xlarge'), (0.7644423607855395, 0.04198876441870247)), (('m5.large', 'c5.xlarge', 'r5a.large', 'i3.2xlarge'), (0.7624281571773369, 0.041873530813249994)), (('m5.large', 'c5.xlarge', 'r5.2xlarge', 'i3.large'), (0.7624281571773368, 0.041294445072078266)), (('m5.large', 'c5.xlarge', 'r5a.xlarge', 'i3.2xlarge'), (0.7622718827594589, 0.04287868328648252)), (('m5.large', 'c5.2xlarge', 'r5a.xlarge', 'i3.large'), (0.7615078744942786, 0.04127867129016058)), (('m5.large', 'c5.xlarge', 'r5a.xlarge', 'i3.large'), (0.7585386605546005, 0.04454586138252991)), (('m5.large', 'c5.2xlarge', 'r5a.2xlarge', 'i3.xlarge'), (0.7524439582573665, 0.039268487115906504)), (('m5.large', 'c5.xlarge', 'r5a.2xlarge', 'i3.xlarge'), (0.7514542202774739, 0.04057584296383806)), (('m5.large', 'c5.2xlarge', 'r5a.2xlarge', 'i3.2xlarge'), (0.7469048983348093, 0.03786407918153919)), (('m5.large', 'c5.xlarge', 'r5a.2xlarge', 'i3.2xlarge'), (0.7462624368390895, 0.0378999821482651)), (('m5.large', 'c5.2xlarge', 'r5.large', 'd3.2xlarge'), (0.7454984285739091, 0.05830433466606301)), (('m5.large', 'c5.2xlarge', 'z1d.xlarge', 'i3.large'), (0.7444565991213905, 0.040665016066399974)), (('m5.large', 'c5.2xlarge', 'z1d.xlarge', 'i3.xlarge'), (0.7444565991213905, 0.040665016066399974)), (('m5.large', 'c5.2xlarge', 'r5a.2xlarge', 'i3.large'), (0.7438662290982967, 0.03692782909841288)), (('m5.large', 'c5.xlarge', 'r5a.2xlarge', 'i3.large'), (0.7428764911184039, 0.039002465630257104)), (('m5.large', 'c5.2xlarge', 'z1d.xlarge', 'i3.2xlarge'), (0.7427896719973608, 0.04162009056871236)), (('m5.large', 'c5.2xlarge', 'z1d.2xlarge', 'i3.large'), (0.7426681252279003, 0.0449803489960141)), (('m5.large', 'c5.2xlarge', 'z1d.2xlarge', 'i3.xlarge'), (0.7426681252279003, 0.0449803489960141)), (('m5.large', 'c5a.xlarge', 'r5.large', 'd3.2xlarge'), (0.7421124828532235, 0.06285960498700678)), (('m5.large', 'c5.xlarge', 'r5.large', 'd3.2xlarge'), (0.7410359257522876, 0.060614063732713934)), (('m5.large', 'c5.2xlarge', 'z1d.2xlarge', 'i3.2xlarge'), (0.7407581045649495, 0.047799161016945174)), (('m5.large', 'c5.2xlarge', 'r5.xlarge', 'd3.2xlarge'), (0.7377888906252714, 0.05730603925010791)), (('m5.large', 'c5a.xlarge', 'r5.xlarge', 'd3.2xlarge'), (0.7365560591064576, 0.059951147247810734)), (('m5.large', 'c5.xlarge', 'r5.xlarge', 'd3.2xlarge'), (0.7344724002014205, 0.059994352062737955)), (('m5.large', 'c5.2xlarge', 'z1d.large', 'i3.large'), (0.7312427288986126, 0.04199377614298741)), (('m5.large', 'c5.2xlarge', 'z1d.large', 'i3.xlarge'), (0.7312427288986126, 0.04199377614298741)), (('m5.large', 'c5.2xlarge', 'z1d.large', 'i3.2xlarge'), (0.7293327082356619, 0.043180468922373025)), (('m5.large', 'c5.2xlarge', 'r5.large', 'd3.xlarge'), (0.7268323175496171, 0.0520089696420134)), (('m5.large', 'c5.xlarge', 'z1d.2xlarge', 'i3.large'), (0.7262593113507319, 0.04966299603906902)), (('m5.large', 'c5.xlarge', 'z1d.2xlarge', 'i3.xlarge'), (0.7262593113507319, 0.04966299603906902)), (('m5.large', 'c5.2xlarge', 'z1d.xlarge', 'd3.2xlarge'), (0.7248007501172058, 0.04615734957220667)), (('m5.large', 'c5.xlarge', 'z1d.2xlarge', 'i3.2xlarge'), (0.7246965671719539, 0.05122618315206661)), (('m5.large', 'c5.2xlarge', 'r5a.large', 'd3.2xlarge'), (0.7241409247972774, 0.040608420447010796)), (('m5.large', 'c5.2xlarge', 'z1d.2xlarge', 'd3.2xlarge'), (0.7237415568404785, 0.05480775521024809)), (('m5.large', 'c5.2xlarge', 'r5.2xlarge', 'd3.2xlarge'), (0.7233942803563056, 0.05015659571116565)), (('m5.large', 'c5a.xlarge', 'r5.large', 'd3.xlarge'), (0.722647635915334, 0.056720313185422686)), (('m5.large', 'c5.xlarge', 'r5.large', 'd3.xlarge'), (0.7210154364397214, 0.05213684768803817)), (('m5.large', 'c5.xlarge', 'z1d.large', 'i3.large'), (0.7204771578892536, 0.044740587872753194)), (('m5.large', 'c5.xlarge', 'z1d.large', 'i3.xlarge'), (0.7204771578892536, 0.044740587872753194)), (('m5.large', 'c5.xlarge', 'z1d.xlarge', 'i3.large'), (0.7200951537566633, 0.04751097055507732)), (('m5.large', 'c5.xlarge', 'z1d.xlarge', 'i3.xlarge'), (0.7200951537566633, 0.04751097055507732)), (('m5.large', 'c5.xlarge', 'r5a.large', 'd3.2xlarge'), (0.7200777899324547, 0.04225363802530412)), (('m5.large', 'c5.2xlarge', 'r5a.xlarge', 'd3.2xlarge'), (0.7199562431629942, 0.03817370309494622)), (('m5.large', 'c5.xlarge', 'r5.2xlarge', 'd3.2xlarge'), (0.7191575072493965, 0.054409658833369894)), (('m5.large', 'c5.xlarge', 'z1d.large', 'i3.2xlarge'), (0.7189144137104756, 0.04484653273635445)), (('m5.large', 'c5.xlarge', 'z1d.xlarge', 'i3.2xlarge'), (0.7187755031168064, 0.047514777974381854)), (('m5.large', 'c5.2xlarge', 'z1d.xlarge', 'd3.xlarge'), (0.7169175739264815, 0.042754530789915014)), (('m5.large', 'c5.xlarge', 'r5a.xlarge', 'd3.2xlarge'), (0.7152853744508691, 0.04602580247381774)), (('m5.large', 'c5.2xlarge', 'r5a.2xlarge', 'd3.2xlarge'), (0.7139657238110122, 0.035229782971052476)), (('m5.large', 'c5.2xlarge', 'z1d.2xlarge', 'd3.xlarge'), (0.7129759858311194, 0.05120472524970327)), (('m5.large', 'c5.xlarge', 'r5a.2xlarge', 'd3.2xlarge'), (0.7112743310586724, 0.040391562013530516)), (('m5.large', 'c5.2xlarge', 'z1d.large', 'd3.2xlarge'), (0.7100414995398587, 0.039561254813326924)), (('m5.large', 'c5.2xlarge', 'r5a.large', 'd3.xlarge'), (0.7086523936031671, 0.030387089249945105)), (('m5.large', 'c5.2xlarge', 'r5a.xlarge', 'd3.xlarge'), (0.7083572085916201, 0.033085936644718)), (('m5.large', 'c5.2xlarge', 'r5.2xlarge', 'd3.xlarge'), (0.7068291920612595, 0.036400970433830185)), (('m5.large', 'c5.2xlarge', 'r5a.2xlarge', 'd3.xlarge'), (0.70656873469813, 0.033248073582620524)), (('m5.large', 'c5.2xlarge', 'r5.xlarge', 'd3.xlarge'), (0.7062040943897484, 0.03697605878389082)), (('m5.large', 'c5.xlarge', 'z1d.2xlarge', 'd3.2xlarge'), (0.7056310881908632, 0.06088414932838715)), (('m5.large', 'c5a.xlarge', 'r5.xlarge', 'd3.xlarge'), (0.704172526957337, 0.04078008621872977)), (('m5.large', 'c5.2xlarge', 'z1d.large', 'd3.xlarge'), (0.7033564272195307, 0.037042161167962516)), (('m5.large', 'c5.xlarge', 'r5a.large', 'd3.xlarge'), (0.7032348804500702, 0.03788986972477623)), (('m5.large', 'c5.xlarge', 'r5a.2xlarge', 'd3.xlarge'), (0.7025229636575159, 0.04095891686720615)), (('m5.large', 'c5.xlarge', 'r5a.xlarge', 'd3.xlarge'), (0.7023319615912207, 0.042871264389298704)), (('m5.large', 'c5.xlarge', 'r5.xlarge', 'd3.xlarge'), (0.7015332256776231, 0.045061870500658685)), (('m5.large', 'c5.xlarge', 'r5.2xlarge', 'd3.xlarge'), (0.7012380406660762, 0.0446080597906878)), (('m5.large', 'c5.xlarge', 'z1d.xlarge', 'd3.2xlarge'), (0.6987376499800316, 0.05468849936344777)), (('m5.large', 'c5.xlarge', 'z1d.large', 'd3.2xlarge'), (0.6975742737580525, 0.04341552632166576)), (('m5.large', 'c5.xlarge', 'z1d.2xlarge', 'd3.xlarge'), (0.6935111388932298, 0.05840916889401759)), (('m5.large', 'c5.xlarge', 'z1d.large', 'd3.xlarge'), (0.6895348231494506, 0.04189835012572164)), (('m5.large', 'c5.xlarge', 'z1d.xlarge', 'd3.xlarge'), (0.6895000955010332, 0.05575206788258061))]\n"
     ]
    }
   ],
   "source": [
    "print(sorted(zip(prototypeSelectionScores.keys(), prototypeSelectionScores.values()),key=lambda x:prototypeSelectionScores[x[0]][0],reverse=True))"
   ],
   "metadata": {
    "collapsed": false
   }
  }
 ],
 "metadata": {
  "kernelspec": {
   "display_name": "Python 3",
   "language": "python",
   "name": "python3"
  },
  "language_info": {
   "codemirror_mode": {
    "name": "ipython",
    "version": 2
   },
   "file_extension": ".py",
   "mimetype": "text/x-python",
   "name": "python",
   "nbconvert_exporter": "python",
   "pygments_lexer": "ipython2",
   "version": "2.7.6"
  }
 },
 "nbformat": 4,
 "nbformat_minor": 0
}
