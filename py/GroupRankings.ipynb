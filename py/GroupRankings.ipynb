{
 "cells": [
  {
   "cell_type": "code",
   "execution_count": null,
   "metadata": {
    "collapsed": true
   },
   "outputs": [],
   "source": [
    "import functools\n",
    "import itertools\n",
    "import math\n",
    "import re\n",
    "import statistics\n",
    "from functools import reduce\n",
    "from pprint import pprint\n",
    "from typing import (\n",
    "    List,\n",
    "    Optional,\n",
    "    Generator,\n",
    "    NamedTuple,\n",
    "    Tuple,\n",
    "    Set,\n",
    "    Any,\n",
    "    Dict,\n",
    "    Union,\n",
    "    Callable,\n",
    "    Iterable,\n",
    "    Sequence,\n",
    ")\n",
    "\n",
    "import rich.panel\n",
    "import sklearn.base\n",
    "from alive_progress import alive_bar\n",
    "from numpy.distutils.misc_util import is_sequence\n",
    "from tqdm import tqdm, trange\n",
    "from log_symbols import LogSymbols\n",
    "\n",
    "import overrides as overrides\n",
    "import pandas as pds\n",
    "import tabulate as tabulate\n",
    "from collections import namedtuple\n",
    "from sklearn import linear_model, metrics, preprocessing, model_selection, svm\n",
    "from tabulate import tabulate\n",
    "from pathlib import Path\n",
    "import pickle\n",
    "from halo import Halo\n",
    "import random\n",
    "import argparse\n",
    "import sys\n",
    "from sklearn.experimental import enable_halving_search_cv\n",
    "from sklearn import neural_network, tree\n",
    "from sklearn.model_selection import (\n",
    "    HalvingGridSearchCV,\n",
    "    RandomizedSearchCV,\n",
    "    HalvingRandomSearchCV,\n",
    ")\n",
    "import scipy.stats as scistats\n",
    "\n",
    "import rich.progress\n",
    "import commons\n",
    "from data_types import PickleOut\n",
    "from rich.traceback import install as niceTracebacks\n",
    "from rich.table import Table as rTable\n",
    "\n",
    "from db_actions import db_actions\n",
    "import numpy as np\n",
    "\n",
    "from linRegPred import getSplits, getTransformers\n",
    "from scipy.stats import rankdata\n",
    "from sklearn.metrics import r2_score\n",
    "import textdistance as TD"
   ]
  },
  {
   "cell_type": "code",
   "execution_count": null,
   "outputs": [],
   "source": [
    "with db_actions.connect() as conn:\n",
    "    dF = pds.read_sql('SELECT * FROM \"runtimeScorePredBase1000\"', conn)\n",
    "# print(dF)\n",
    "all_x_cols = [\n",
    "    \"build-linux-kernel1\",\n",
    "    \"fio2\",\n",
    "    \"fio3\",\n",
    "    \"fio4\",\n",
    "    \"fio5\",\n",
    "    \"fio6\",\n",
    "    \"fio7\",\n",
    "    \"fio8\",\n",
    "    \"fio9\",\n",
    "    \"iperf10\",\n",
    "    \"iperf11\",\n",
    "    \"iperf12\",\n",
    "    \"iperf13\",\n",
    "    \"john-the-ripper14\",\n",
    "    \"john-the-ripper15\",\n",
    "    \"ramspeed16\",\n",
    "    \"ramspeed17\",\n",
    "    \"ramspeed18\",\n",
    "    \"ramspeed19\",\n",
    "    \"ramspeed20\",\n",
    "    \"ramspeed21\",\n",
    "    \"ramspeed22\",\n",
    "    \"ramspeed23\",\n",
    "    \"ramspeed24\",\n",
    "    \"ramspeed25\",\n",
    "    \"stream26\",\n",
    "    \"stream27\",\n",
    "    \"stream28\",\n",
    "    \"stream29\",\n",
    "    \"pCpu\",\n",
    "    \"cpus\",\n",
    "    \"rss\",\n",
    "    \"vmem\",\n",
    "    \"rchar\",\n",
    "    \"wchar\",\n",
    "    \"syscr\",\n",
    "    \"syscw\",\n",
    "]\n",
    "filtered_x_cols = ['john-the-ripper15', 'ramspeed17', 'ramspeed18', 'ramspeed19', 'ramspeed20', 'ramspeed21',\n",
    "                   'ramspeed23', 'ramspeed24', 'ramspeed25', 'pCpu', 'cpus', 'vmem', 'rchar', 'wchar', 'syscr',\n",
    "                   'syscw']\n",
    "x_cols = all_x_cols\n",
    "y_cols = \"realtime\"\n",
    "\n",
    "X: pds.DataFrame = dF[x_cols]\n",
    "y: pds.DataFrame = dF[y_cols]"
   ],
   "metadata": {
    "collapsed": false
   }
  },
  {
   "cell_type": "code",
   "execution_count": null,
   "outputs": [],
   "source": [
    "from my_yaml import yaml_load\n",
    "\n",
    "with open(\"nodeConfigIdLookup.yaml\", \"r\") as f:\n",
    "    t = yaml_load(f)\n",
    "    nodeIDLUT = {v: k for k, v in t.items()}\n",
    "dF[\"nodeName\"] = dF[\"nodeConfig\"].transform(lambda x: nodeIDLUT[x])"
   ],
   "metadata": {
    "collapsed": false
   }
  },
  {
   "cell_type": "code",
   "execution_count": null,
   "outputs": [],
   "source": [
    "awsGroupLUT = {\n",
    "    \"general\": [\"M7g\", \"Mac\", \"M6g\", \"M6i\", \"M6in\", \"M6a\", \"M5\", \"M5n\", \"M5zn\", \"M5a\", \"M4\", \"A1\", \"T4g\", \"T3\", \"T3a\",\n",
    "                \"T2\"],\n",
    "    \"compute\": [\"C7g\", \"C7gn\", \"C6i\", \"C6in\", \"C6a\", \"C6g\", \"C6gn\", \"C5\", \"C5n\", \"C5a\", \"C4\"],\n",
    "    \"memory\": [\"R7g\", \"R7iz\", \"R6g\", \"R6i\", \"R6in\", \"R6a\", \"R5\", \"R5n\", \"R5b\", \"R5a\", \"R4\", \"X2gd\", \"X2idn\", \"X2iedn\",\n",
    "               \"X2iezn\", \"X1\", \"X1e\", \"z1d\"],\n",
    "    \"accelerated\": [\"P4\", \"P3\", \"P2\", \"DL1\", \"Trn1\", \"Inf2\", \"Inf1\", \"G5\", \"G5g\", \"G4dn\", \"G4ad\", \"G3\", \"F1\", \"VT1\"],\n",
    "    \"storage\": [\"Im4gn\", \"Is4gen\", \"I4i\", \"I3\", \"I3en\", \"D2\", \"D3\", \"D3en\", \"H1\"],\n",
    "    \"HPC\": [\"Hpc6id\", \"Hpc6a\"]\n",
    "}"
   ],
   "metadata": {
    "collapsed": false
   }
  },
  {
   "cell_type": "code",
   "execution_count": null,
   "outputs": [],
   "source": [
    "awsInstanceGroupLUT = {i.lower(): k for k, v in awsGroupLUT.items() for i in v}"
   ],
   "metadata": {
    "collapsed": false
   }
  },
  {
   "cell_type": "code",
   "execution_count": null,
   "outputs": [],
   "source": [
    "dF[\"nodeGroup\"] = dF[\"nodeName\"].transform(lambda x: awsInstanceGroupLUT[x.split(\".\")[0]])"
   ],
   "metadata": {
    "collapsed": false
   }
  },
  {
   "cell_type": "code",
   "execution_count": null,
   "outputs": [],
   "source": [
    "for x in dF.groupby(by=[\"nodeGroup\", \"wfName\", \"taskName\"]):\n",
    "    c, d = x\n",
    "    print(c, d.realtime.mean(), 100 * d.realtime.std() / d.realtime.mean(),\n",
    "          100 * (d.realtime.max() - d.realtime.min()) / d.realtime.mean())"
   ],
   "metadata": {
    "collapsed": false
   }
  },
  {
   "cell_type": "code",
   "execution_count": null,
   "outputs": [],
   "source": [
    "import seaborn as sns\n",
    "\n",
    "#sns.boxplot(data=dF,y=\"realtime\",x=\"taskName\",hue=\"nodeGroup\")\n",
    "for wf in dF.groupby(by=\"wfName\"):\n",
    "    wfname, data = wf\n",
    "    print(wfname)\n",
    "    grid = sns.FacetGrid(data, row=\"wfName\", col=\"nodeGroup\", sharex=False, sharey=True, margin_titles=True, height=5)\n",
    "    grid.map_dataframe(sns.boxplot, y=\"realtime\", x=\"taskName\")"
   ],
   "metadata": {
    "collapsed": false
   }
  },
  {
   "cell_type": "markdown",
   "source": [
    "# Find prototypes for each group"
   ],
   "metadata": {
    "collapsed": false
   }
  },
  {
   "cell_type": "markdown",
   "source": [
    "#### failed attempt (i think?)"
   ],
   "metadata": {
    "collapsed": false
   }
  },
  {
   "cell_type": "code",
   "execution_count": null,
   "outputs": [],
   "source": [
    "#means = dF.groupby(by=[\"nodeGroup\", \"wfName\", \"taskName\"]).realtime.mean().reset_index()\n",
    "accu = dict()\n",
    "for g in dF.groupby(by=[\"nodeGroup\", \"wfName\", \"taskName\"]):\n",
    "    l, d = g\n",
    "    div = (d.realtime - d.realtime.mean()) ** 2 * d.realtime.mean()\n",
    "    for i, nN in enumerate(d.nodeName.values):\n",
    "        if nN not in accu.keys():\n",
    "            accu[nN] = 0\n",
    "        accu[nN] += div.values[i]\n",
    "\n"
   ],
   "metadata": {
    "collapsed": false
   }
  },
  {
   "cell_type": "code",
   "execution_count": null,
   "outputs": [],
   "source": [
    "print(accu)"
   ],
   "metadata": {
    "collapsed": false
   }
  },
  {
   "cell_type": "markdown",
   "source": [
    "#### good attempt"
   ],
   "metadata": {
    "collapsed": false
   }
  },
  {
   "cell_type": "code",
   "execution_count": null,
   "outputs": [],
   "source": [
    "with db_actions.connect() as conn:\n",
    "    scores_df = pds.read_sql('SELECT * FROM \"nodeBenchmarkTransposedScores\"', conn)\n"
   ],
   "metadata": {
    "collapsed": false
   }
  },
  {
   "cell_type": "code",
   "execution_count": null,
   "outputs": [],
   "source": [
    "scores_df[\"nodeName\"] = scores_df[\"nodeConfig\"].transform(lambda x: nodeIDLUT[x])\n",
    "scores_df[\"nodeGroup\"] = scores_df[\"nodeName\"].transform(lambda x: awsInstanceGroupLUT[x.split(\".\")[0]])"
   ],
   "metadata": {
    "collapsed": false
   }
  },
  {
   "cell_type": "code",
   "execution_count": null,
   "outputs": [],
   "source": [
    "distances = dict()\n",
    "benchmarkCols = [\n",
    "    \"build-linux-kernel1\",\n",
    "    \"fio2\",\n",
    "    \"fio3\",\n",
    "    \"fio4\",\n",
    "    \"fio5\",\n",
    "    \"fio6\",\n",
    "    \"fio7\",\n",
    "    \"fio8\",\n",
    "    \"fio9\",\n",
    "    \"iperf10\",\n",
    "    \"iperf11\",\n",
    "    \"iperf12\",\n",
    "    \"iperf13\",\n",
    "    \"john-the-ripper14\",\n",
    "    \"john-the-ripper15\",\n",
    "    \"ramspeed16\",\n",
    "    \"ramspeed17\",\n",
    "    \"ramspeed18\",\n",
    "    \"ramspeed19\",\n",
    "    \"ramspeed20\",\n",
    "    \"ramspeed21\",\n",
    "    \"ramspeed22\",\n",
    "    \"ramspeed23\",\n",
    "    \"ramspeed24\",\n",
    "    \"ramspeed25\",\n",
    "    \"stream26\",\n",
    "    \"stream27\",\n",
    "    \"stream28\",\n",
    "    \"stream29\"]\n",
    "for c in itertools.product(scores_df.query(\"nodeGroup=='general'\").nodeName.values,\n",
    "                           scores_df.query(\"nodeGroup=='compute'\").nodeName.values,\n",
    "                           scores_df.query(\"nodeGroup=='memory'\").nodeName.values,\n",
    "                           scores_df.query(\"nodeGroup=='storage'\").nodeName.values):\n",
    "    n1, n2, n3, n4 = c\n",
    "    ns1 = scores_df.query(\"nodeName == @n1\")[benchmarkCols].values[0]\n",
    "    ns2 = scores_df.query(\"nodeName == @n2\")[benchmarkCols].values[0]\n",
    "    ns3 = scores_df.query(\"nodeName == @n3\")[benchmarkCols].values[0]\n",
    "    ns4 = scores_df.query(\"nodeName == @n4\")[benchmarkCols].values[0]\n",
    "    distances[c] = np.linalg.norm(ns1 - ns2) + np.linalg.norm(ns1 - ns3) + np.linalg.norm(ns1 - ns4) + np.linalg.norm(\n",
    "        ns2 - ns3) + np.linalg.norm(ns2 - ns4) + np.linalg.norm(ns3 - ns4)"
   ],
   "metadata": {
    "collapsed": false
   }
  },
  {
   "cell_type": "code",
   "execution_count": null,
   "outputs": [],
   "source": [
    "cs, ds = distances.keys(), distances.values()\n",
    "#print(\"\\n\".join(map(lambda x: repr(x), sorted(zip(cs, ds), key=lambda x: x[1])[:10])))\n",
    "groupPrototypes = sorted(zip(cs, ds), key=lambda x: x[1])[0][0]\n",
    "print(groupPrototypes)"
   ],
   "metadata": {
    "collapsed": false
   }
  },
  {
   "cell_type": "markdown",
   "source": [
    "# Produce Group Rankings"
   ],
   "metadata": {
    "collapsed": false
   }
  },
  {
   "cell_type": "code",
   "execution_count": 117,
   "outputs": [],
   "source": [
    "groupPerformances = dict()\n",
    "for g in dF.groupby(by=[\"nodeGroup\", \"wfName\", \"taskName\"]):\n",
    "    l, d = g\n",
    "    ng, wfn, tn = l\n",
    "    if (wfn, tn) not in groupPerformances.keys():\n",
    "        groupPerformances[(wfn, tn)] = dict()\n",
    "    groupPerformances[(wfn, tn)][ng] = d.realtime.mean()\n",
    "    #groupPerformances[l] = d.realtime.mean()"
   ],
   "metadata": {
    "collapsed": false
   }
  },
  {
   "cell_type": "code",
   "execution_count": 119,
   "outputs": [],
   "source": [
    "groupOrder = [\"general\", \"compute\", \"memory\", \"storage\"]"
   ],
   "metadata": {
    "collapsed": false
   }
  },
  {
   "cell_type": "code",
   "execution_count": 120,
   "outputs": [],
   "source": [
    "groupRankings = pds.DataFrame(columns=[\"wfName\", \"taskName\", *groupOrder])"
   ],
   "metadata": {
    "collapsed": false
   }
  },
  {
   "cell_type": "code",
   "execution_count": 124,
   "outputs": [],
   "source": [
    "for k, v in groupPerformances.items():\n",
    "    wfn, tn = k\n",
    "    performances = [v[i] for i in groupOrder]\n",
    "    ranks = rankdata(performances, method=\"min\")\n",
    "    groupRankings = groupRankings.append({\"wfName\": wfn, \"taskName\": tn, **{o: r for o, r in zip(groupOrder, ranks)}},\n",
    "                                         ignore_index=True)"
   ],
   "metadata": {
    "collapsed": false
   }
  },
  {
   "cell_type": "code",
   "execution_count": 126,
   "outputs": [
    {
     "name": "stdout",
     "output_type": "stream",
     "text": [
      "                   wfName                                           taskName  \\\n",
      "0    nfcore/chipseq:1.2.2                                          BWA_INDEX   \n",
      "1    nfcore/chipseq:1.2.2                                            BWA_MEM   \n",
      "2    nfcore/chipseq:1.2.2                                    CONSENSUS_PEAKS   \n",
      "3    nfcore/chipseq:1.2.2                           CONSENSUS_PEAKS_ANNOTATE   \n",
      "4    nfcore/chipseq:1.2.2                             CONSENSUS_PEAKS_DESEQ2   \n",
      "..                    ...                                                ...   \n",
      "74  nfcore/viralrecon:2.1  NFCORE_VIRALRECON:ILLUMINA:VARIANTS_IVAR:NEXTC...   \n",
      "75  nfcore/viralrecon:2.1  NFCORE_VIRALRECON:ILLUMINA:VARIANTS_IVAR:PANGOLIN   \n",
      "76  nfcore/viralrecon:2.1  NFCORE_VIRALRECON:ILLUMINA:VARIANTS_IVAR:PLOT_...   \n",
      "77  nfcore/viralrecon:2.1     NFCORE_VIRALRECON:ILLUMINA:VARIANTS_IVAR:QUAST   \n",
      "78  nfcore/viralrecon:2.1  NFCORE_VIRALRECON:ILLUMINA:VARIANTS_IVAR:SNPEF...   \n",
      "\n",
      "   general compute memory storage  \n",
      "0        2       1      3       4  \n",
      "1        2       1      3       4  \n",
      "2        2       1      3       4  \n",
      "3        2       1      3       4  \n",
      "4        2       1      3       4  \n",
      "..     ...     ...    ...     ...  \n",
      "74       3       1      2       4  \n",
      "75       2       1      3       4  \n",
      "76       2       1      3       4  \n",
      "77       2       1      3       4  \n",
      "78       2       1      3       4  \n",
      "\n",
      "[79 rows x 6 columns]\n"
     ]
    }
   ],
   "source": [
    "print(groupRankings)"
   ],
   "metadata": {
    "collapsed": false
   }
  },
  {
   "cell_type": "markdown",
   "source": [
    "#### Produce inter-group node rankings"
   ],
   "metadata": {
    "collapsed": false
   }
  },
  {
   "cell_type": "code",
   "execution_count": 131,
   "outputs": [],
   "source": [
    "nodeOrder = list(pds.unique(dF.nodeName))"
   ],
   "metadata": {
    "collapsed": false
   }
  },
  {
   "cell_type": "code",
   "execution_count": 140,
   "outputs": [],
   "source": [
    "groupNodePerformances = dict()\n",
    "for g in dF.groupby(by=[\"nodeGroup\", \"wfName\", \"taskName\", \"nodeName\"]):\n",
    "    l, d = g\n",
    "    ng, wfn, tn, nn = l\n",
    "    l1 = (ng, wfn, tn)\n",
    "    if l1 not in groupNodePerformances.keys():\n",
    "        groupNodePerformances[l1] = dict()\n",
    "    groupNodePerformances[l1][nn] = d.realtime.mean()\n",
    "    #groupNodePerformances[(ng, wfn, tn)] = d.sort_values(by=\"nodeName\", key=lambda v: sorted(list(v), key=lambda x: nodeOrder.index(x))).realtime.values\n",
    "\n",
    "    #groupNodePerformances[l] = d.realtime.mean()"
   ],
   "metadata": {
    "collapsed": false
   }
  },
  {
   "cell_type": "code",
   "execution_count": 141,
   "outputs": [
    {
     "name": "stdout",
     "output_type": "stream",
     "text": [
      "{('compute', 'nfcore/chipseq:1.2.2', 'BWA_INDEX'): {'c5.2xlarge': 6490.4, 'c5.xlarge': 9775.4, 'c5a.2xlarge': 6593.2, 'c5a.xlarge': 5716.4}, ('compute', 'nfcore/chipseq:1.2.2', 'BWA_MEM'): {'c5.2xlarge': 3933.0333333333333, 'c5.xlarge': 4933.633333333333, 'c5a.2xlarge': 4114.666666666667, 'c5a.xlarge': 3796.0666666666666}, ('compute', 'nfcore/chipseq:1.2.2', 'CONSENSUS_PEAKS'): {'c5.2xlarge': 1504.8, 'c5.xlarge': 1594.2, 'c5a.2xlarge': 1446.8, 'c5a.xlarge': 1399.0}, ('compute', 'nfcore/chipseq:1.2.2', 'CONSENSUS_PEAKS_ANNOTATE'): {'c5.2xlarge': 3566.2, 'c5.xlarge': 3873.4, 'c5a.2xlarge': 3458.6, 'c5a.xlarge': 3417.4}, ('compute', 'nfcore/chipseq:1.2.2', 'CONSENSUS_PEAKS_DESEQ2'): {'c5.2xlarge': 11615.8, 'c5.xlarge': 12750.8, 'c5a.2xlarge': 11267.0, 'c5a.xlarge': 11170.6}, ('compute', 'nfcore/chipseq:1.2.2', 'FASTQC'): {'c5.2xlarge': 6440.1, 'c5.xlarge': 7184.7, 'c5a.2xlarge': 6673.5, 'c5a.xlarge': 6797.666666666667}, ('compute', 'nfcore/chipseq:1.2.2', 'MACS2'): {'c5.2xlarge': 2009.1, 'c5.xlarge': 2144.1, 'c5a.2xlarge': 2202.85, 'c5a.xlarge': 2132.45}, ('compute', 'nfcore/chipseq:1.2.2', 'MACS2_ANNOTATE'): {'c5.2xlarge': 3497.15, 'c5.xlarge': 3821.5, 'c5a.2xlarge': 3421.0, 'c5a.xlarge': 3350.1}, ('compute', 'nfcore/chipseq:1.2.2', 'MACS2_QC'): {'c5.2xlarge': 3674.0, 'c5.xlarge': 3812.2, 'c5a.2xlarge': 3680.4, 'c5a.xlarge': 3336.2}, ('compute', 'nfcore/chipseq:1.2.2', 'MERGED_BAM'): {'c5.2xlarge': 6674.033333333334, 'c5.xlarge': 7101.933333333333, 'c5a.2xlarge': 6591.8, 'c5a.xlarge': 6441.866666666667}, ('compute', 'nfcore/chipseq:1.2.2', 'MERGED_BAM_FILTER'): {'c5.2xlarge': 2290.133333333333, 'c5.xlarge': 2432.766666666667, 'c5a.2xlarge': 2581.633333333333, 'c5a.xlarge': 2558.0666666666666}, ('compute', 'nfcore/chipseq:1.2.2', 'MERGED_BAM_REMOVE_ORPHAN'): {'c5.2xlarge': 1211.3666666666666, 'c5.xlarge': 1271.9333333333334, 'c5a.2xlarge': 1401.7333333333333, 'c5a.xlarge': 1391.8666666666666}, ('compute', 'nfcore/chipseq:1.2.2', 'MULTIQC'): {'c5.2xlarge': 4601.0, 'c5.xlarge': 4957.8, 'c5a.2xlarge': 5131.6, 'c5a.xlarge': 5268.8}, ('compute', 'nfcore/chipseq:1.2.2', 'PHANTOMPEAKQUALTOOLS'): {'c5.2xlarge': 4162.566666666667, 'c5.xlarge': 4217.6, 'c5a.2xlarge': 4180.033333333334, 'c5a.xlarge': 3898.233333333333}, ('compute', 'nfcore/chipseq:1.2.2', 'PICARD_METRICS'): {'c5.2xlarge': 3847.2, 'c5.xlarge': 4070.866666666667, 'c5a.2xlarge': 4058.266666666667, 'c5a.xlarge': 3993.2}, ('compute', 'nfcore/chipseq:1.2.2', 'PLOTFINGERPRINT'): {'c5.2xlarge': 16625.0, 'c5.xlarge': 17369.45, 'c5a.2xlarge': 16321.3, 'c5a.xlarge': 16021.8}, ('compute', 'nfcore/chipseq:1.2.2', 'PLOTPROFILE'): {'c5.2xlarge': 88816.5, 'c5.xlarge': 98137.6, 'c5a.2xlarge': 103417.93333333333, 'c5a.xlarge': 102755.86666666667}, ('compute', 'nfcore/chipseq:1.2.2', 'PRESEQ'): {'c5.2xlarge': 2595.3, 'c5.xlarge': 2707.2, 'c5a.2xlarge': 3263.95, 'c5a.xlarge': 3164.5}, ('compute', 'nfcore/chipseq:1.2.2', 'TRIMGALORE'): {'c5.2xlarge': 11605.133333333333, 'c5.xlarge': 12508.733333333334, 'c5a.2xlarge': 12188.566666666668, 'c5a.xlarge': 12274.466666666667}, ('compute', 'nfcore/chipseq:1.2.2', 'get_software_versions'): {'c5.2xlarge': 3825.0, 'c5.xlarge': 4238.8, 'c5a.2xlarge': 3957.2, 'c5a.xlarge': 4078.4}, ('compute', 'nfcore/eager:2.3.5', 'damageprofiler'): {'c5.2xlarge': 2324.3, 'c5.xlarge': 2178.2, 'c5a.2xlarge': 2489.9, 'c5a.xlarge': 2112.8}, ('compute', 'nfcore/eager:2.3.5', 'fastqc'): {'c5.2xlarge': 3549.0, 'c5.xlarge': 3390.6, 'c5a.2xlarge': 3907.9, 'c5a.xlarge': 3240.2}, ('compute', 'nfcore/eager:2.3.5', 'fastqc_after_clipping'): {'c5.2xlarge': 2292.1, 'c5.xlarge': 2193.0, 'c5a.2xlarge': 2382.3, 'c5a.xlarge': 2267.0}, ('compute', 'nfcore/eager:2.3.5', 'get_software_versions'): {'c5.2xlarge': 7871.6, 'c5.xlarge': 7755.2, 'c5a.2xlarge': 7990.8, 'c5a.xlarge': 6907.0}, ('compute', 'nfcore/eager:2.3.5', 'makeSeqDict'): {'c5.2xlarge': 1550.8, 'c5.xlarge': 1480.0, 'c5a.2xlarge': 1551.8, 'c5a.xlarge': 1495.6}, ('compute', 'nfcore/eager:2.3.5', 'markduplicates'): {'c5.2xlarge': 2374.9, 'c5.xlarge': 2348.0, 'c5a.2xlarge': 2219.5, 'c5a.xlarge': 1890.2}, ('compute', 'nfcore/eager:2.3.5', 'multiqc'): {'c5.2xlarge': 25250.4, 'c5.xlarge': 26290.2, 'c5a.2xlarge': 25273.6, 'c5a.xlarge': 26049.8}, ('compute', 'nfcore/eager:2.3.5', 'qualimap'): {'c5.2xlarge': 2825.9, 'c5.xlarge': 2897.3, 'c5a.2xlarge': 2957.3, 'c5a.xlarge': 2965.6}, ('compute', 'nfcore/methylseq:1.6.1', 'bismark_align'): {'c5.2xlarge': 10482.6, 'c5.xlarge': 10969.533333333333, 'c5a.2xlarge': 11457.466666666667, 'c5a.xlarge': 11547.066666666668}, ('compute', 'nfcore/methylseq:1.6.1', 'bismark_methXtract'): {'c5.2xlarge': 11127.733333333334, 'c5.xlarge': 11141.133333333333, 'c5a.2xlarge': 11135.733333333334, 'c5a.xlarge': 11137.933333333332}, ('compute', 'nfcore/methylseq:1.6.1', 'bismark_report'): {'c5.2xlarge': 1274.2666666666667, 'c5.xlarge': 1315.0666666666666, 'c5a.2xlarge': 1161.0666666666666, 'c5a.xlarge': 1162.2666666666667}, ('compute', 'nfcore/methylseq:1.6.1', 'fastqc'): {'c5.2xlarge': 3278.4666666666667, 'c5.xlarge': 3591.2, 'c5a.2xlarge': 3563.6666666666665, 'c5a.xlarge': 3457.133333333333}, ('compute', 'nfcore/methylseq:1.6.1', 'get_software_versions'): {'c5.2xlarge': 3321.6, 'c5.xlarge': 3805.4, 'c5a.2xlarge': 3379.6, 'c5a.xlarge': 3551.4}, ('compute', 'nfcore/methylseq:1.6.1', 'makeBismarkIndex'): {'c5.2xlarge': 5264.2, 'c5.xlarge': 5279.0, 'c5a.2xlarge': 5232.4, 'c5a.xlarge': 5213.6}, ('compute', 'nfcore/methylseq:1.6.1', 'multiqc'): {'c5.2xlarge': 14680.4, 'c5.xlarge': 15242.2, 'c5a.2xlarge': 14580.8, 'c5a.xlarge': 15098.6}, ('compute', 'nfcore/methylseq:1.6.1', 'qualimap'): {'c5.2xlarge': 1528.4666666666667, 'c5.xlarge': 1860.2, 'c5a.2xlarge': 1724.4, 'c5a.xlarge': 1878.7333333333333}, ('compute', 'nfcore/methylseq:1.6.1', 'trim_galore'): {'c5.2xlarge': 4226.266666666666, 'c5.xlarge': 4677.333333333333, 'c5a.2xlarge': 4561.2, 'c5a.xlarge': 4472.933333333333}, ('compute', 'nfcore/sarek:2.7.1', 'ApplyBQSR'): {'c5.2xlarge': 3135.233333333333, 'c5.xlarge': 3444.4166666666665, 'c5a.2xlarge': 3262.1833333333334, 'c5a.xlarge': 3184.9}, ('compute', 'nfcore/sarek:2.7.1', 'BamQC'): {'c5.2xlarge': 2167.7846153846153, 'c5.xlarge': 2351.0461538461536, 'c5a.2xlarge': 2497.9846153846156, 'c5a.xlarge': 2490.1846153846154}, ('compute', 'nfcore/sarek:2.7.1', 'BaseRecalibrator'): {'c5.2xlarge': 5371.65, 'c5.xlarge': 5875.3, 'c5a.2xlarge': 5553.65, 'c5a.xlarge': 5379.95}, ('compute', 'nfcore/sarek:2.7.1', 'BuildDict'): {'c5.2xlarge': 2398.0, 'c5.xlarge': 2556.4, 'c5a.2xlarge': 2441.4, 'c5a.xlarge': 2064.6}, ('compute', 'nfcore/sarek:2.7.1', 'FastQCFQ'): {'c5.2xlarge': 4843.2, 'c5.xlarge': 5148.963636363636, 'c5a.2xlarge': 4596.345454545454, 'c5a.xlarge': 4719.981818181818}, ('compute', 'nfcore/sarek:2.7.1', 'GatherBQSRReports'): {'c5.2xlarge': 4455.3, 'c5.xlarge': 4669.5, 'c5a.2xlarge': 4494.8, 'c5a.xlarge': 4424.5}, ('compute', 'nfcore/sarek:2.7.1', 'MarkDuplicates'): {'c5.2xlarge': 4461.0, 'c5.xlarge': 4917.5, 'c5a.2xlarge': 3596.3, 'c5a.xlarge': 3679.1}, ('compute', 'nfcore/sarek:2.7.1', 'MultiQC'): {'c5.2xlarge': 27892.4, 'c5.xlarge': 33371.4, 'c5a.2xlarge': 31690.6, 'c5a.xlarge': 34766.8}, ('compute', 'nfcore/sarek:2.7.1', 'get_software_versions'): {'c5.2xlarge': 6009.4, 'c5.xlarge': 6347.2, 'c5a.2xlarge': 6269.4, 'c5a.xlarge': 5879.0}, ('compute', 'nfcore/viralrecon:2.1', 'NFCORE_VIRALRECON:ILLUMINA:ALIGN_BOWTIE2:BOWTIE2_ALIGN'): {'c5.2xlarge': 33333.333333333336, 'c5.xlarge': 37333.333333333336, 'c5a.2xlarge': 33800.0, 'c5a.xlarge': 32933.333333333336}, ('compute', 'nfcore/viralrecon:2.1', 'NFCORE_VIRALRECON:ILLUMINA:ASSEMBLY_MINIA:ASSEMBLY_QC:QUAST'): {'c5.2xlarge': 5049.8, 'c5.xlarge': 5011.2, 'c5a.2xlarge': 4544.8, 'c5a.xlarge': 4451.4}, ('compute', 'nfcore/viralrecon:2.1', 'NFCORE_VIRALRECON:ILLUMINA:ASSEMBLY_MINIA:MINIA'): {'c5.2xlarge': 1800.0, 'c5.xlarge': 1866.6666666666667, 'c5a.2xlarge': 1800.0, 'c5a.xlarge': 1400.0}, ('compute', 'nfcore/viralrecon:2.1', 'NFCORE_VIRALRECON:ILLUMINA:ASSEMBLY_SPADES:ASSEMBLY_QC:QUAST'): {'c5.2xlarge': 5701.4, 'c5.xlarge': 5676.6, 'c5a.2xlarge': 5154.2, 'c5a.xlarge': 5041.8}, ('compute', 'nfcore/viralrecon:2.1', 'NFCORE_VIRALRECON:ILLUMINA:ASSEMBLY_SPADES:SPADES'): {'c5.2xlarge': 20400.0, 'c5.xlarge': 24666.666666666668, 'c5a.2xlarge': 19400.0, 'c5a.xlarge': 18933.333333333332}, ('compute', 'nfcore/viralrecon:2.1', 'NFCORE_VIRALRECON:ILLUMINA:ASSEMBLY_UNICYCLER:ASSEMBLY_QC:QUAST'): {'c5.2xlarge': 4992.4, 'c5.xlarge': 4984.6, 'c5a.2xlarge': 4559.2, 'c5a.xlarge': 4451.4}, ('compute', 'nfcore/viralrecon:2.1', 'NFCORE_VIRALRECON:ILLUMINA:ASSEMBLY_UNICYCLER:UNICYCLER'): {'c5.2xlarge': 100133.33333333333, 'c5.xlarge': 113000.0, 'c5a.2xlarge': 101133.33333333333, 'c5a.xlarge': 97200.0}, ('compute', 'nfcore/viralrecon:2.1', 'NFCORE_VIRALRECON:ILLUMINA:CUTADAPT'): {'c5.2xlarge': 8733.333333333334, 'c5.xlarge': 9333.333333333334, 'c5a.2xlarge': 8933.333333333334, 'c5a.xlarge': 8533.333333333334}, ('compute', 'nfcore/viralrecon:2.1', 'NFCORE_VIRALRECON:ILLUMINA:FASTQC'): {'c5.2xlarge': 5466.666666666667, 'c5.xlarge': 5933.333333333333, 'c5a.2xlarge': 5333.333333333333, 'c5a.xlarge': 5333.333333333333}, ('compute', 'nfcore/viralrecon:2.1', 'NFCORE_VIRALRECON:ILLUMINA:FASTQC_FASTP:FASTP'): {'c5.2xlarge': 4200.0, 'c5.xlarge': 4533.333333333333, 'c5a.2xlarge': 4400.0, 'c5a.xlarge': 4266.666666666667}, ('compute', 'nfcore/viralrecon:2.1', 'NFCORE_VIRALRECON:ILLUMINA:FASTQC_FASTP:FASTQC_RAW'): {'c5.2xlarge': 5266.666666666667, 'c5.xlarge': 6266.666666666667, 'c5a.2xlarge': 5266.666666666667, 'c5a.xlarge': 5200.0}, ('compute', 'nfcore/viralrecon:2.1', 'NFCORE_VIRALRECON:ILLUMINA:FASTQC_FASTP:FASTQC_TRIM'): {'c5.2xlarge': 5266.666666666667, 'c5.xlarge': 6333.333333333333, 'c5a.2xlarge': 5400.0, 'c5a.xlarge': 5266.666666666667}, ('compute', 'nfcore/viralrecon:2.1', 'NFCORE_VIRALRECON:ILLUMINA:KRAKEN2_RUN'): {'c5.2xlarge': 1933.3333333333333, 'c5.xlarge': 2000.0, 'c5a.2xlarge': 1866.6666666666667, 'c5a.xlarge': 2000.0}, ('compute', 'nfcore/viralrecon:2.1', 'NFCORE_VIRALRECON:ILLUMINA:MULTIQC'): {'c5.2xlarge': 19262.2, 'c5.xlarge': 20288.8, 'c5a.2xlarge': 23745.4, 'c5a.xlarge': 23934.8}, ('compute', 'nfcore/viralrecon:2.1', 'NFCORE_VIRALRECON:ILLUMINA:PICARD_COLLECTMULTIPLEMETRICS'): {'c5.2xlarge': 4800.0, 'c5.xlarge': 5333.333333333333, 'c5a.2xlarge': 4733.333333333333, 'c5a.xlarge': 5000.0}, ('compute', 'nfcore/viralrecon:2.1', 'NFCORE_VIRALRECON:ILLUMINA:PLOT_MOSDEPTH_REGIONS_AMPLICON'): {'c5.2xlarge': 4000.0, 'c5.xlarge': 4800.0, 'c5a.2xlarge': 4400.0, 'c5a.xlarge': 4400.0}, ('compute', 'nfcore/viralrecon:2.1', 'NFCORE_VIRALRECON:ILLUMINA:PLOT_MOSDEPTH_REGIONS_GENOME'): {'c5.2xlarge': 3400.0, 'c5.xlarge': 3600.0, 'c5a.2xlarge': 3400.0, 'c5a.xlarge': 3200.0}, ('compute', 'nfcore/viralrecon:2.1', 'NFCORE_VIRALRECON:ILLUMINA:PREPARE_GENOME:SNPEFF_BUILD'): {'c5.2xlarge': 2200.0, 'c5.xlarge': 2000.0, 'c5a.2xlarge': 1800.0, 'c5a.xlarge': 2000.0}, ('compute', 'nfcore/viralrecon:2.1', 'NFCORE_VIRALRECON:ILLUMINA:PRIMER_TRIM_IVAR:IVAR_TRIM'): {'c5.2xlarge': 1400.0, 'c5.xlarge': 1533.3333333333333, 'c5a.2xlarge': 1733.3333333333333, 'c5a.xlarge': 1866.6666666666667}, ('compute', 'nfcore/viralrecon:2.1', 'NFCORE_VIRALRECON:ILLUMINA:VARIANTS_BCFTOOLS:ASCIIGENOME'): {'c5.2xlarge': 7866.666666666667, 'c5.xlarge': 8733.333333333334, 'c5a.2xlarge': 8533.333333333334, 'c5a.xlarge': 8733.333333333334}, ('compute', 'nfcore/viralrecon:2.1', 'NFCORE_VIRALRECON:ILLUMINA:VARIANTS_BCFTOOLS:MAKE_CONSENSUS:PLOT_BASE_DENSITY'): {'c5.2xlarge': 4600.0, 'c5.xlarge': 4800.0, 'c5a.2xlarge': 4400.0, 'c5a.xlarge': 4333.333333333333}, ('compute', 'nfcore/viralrecon:2.1', 'NFCORE_VIRALRECON:ILLUMINA:VARIANTS_BCFTOOLS:NEXTCLADE'): {'c5.2xlarge': 1733.3333333333333, 'c5.xlarge': 2000.0, 'c5a.2xlarge': 1866.6666666666667, 'c5a.xlarge': 1733.3333333333333}, ('compute', 'nfcore/viralrecon:2.1', 'NFCORE_VIRALRECON:ILLUMINA:VARIANTS_BCFTOOLS:PANGOLIN'): {'c5.2xlarge': 6466.666666666667, 'c5.xlarge': 7533.333333333333, 'c5a.2xlarge': 6733.333333333333, 'c5a.xlarge': 6600.0}, ('compute', 'nfcore/viralrecon:2.1', 'NFCORE_VIRALRECON:ILLUMINA:VARIANTS_BCFTOOLS:QUAST'): {'c5.2xlarge': 4896.4, 'c5.xlarge': 4930.2, 'c5a.2xlarge': 4418.0, 'c5a.xlarge': 4405.8}, ('compute', 'nfcore/viralrecon:2.1', 'NFCORE_VIRALRECON:ILLUMINA:VARIANTS_BCFTOOLS:SNPEFF_SNPSIFT:SNPEFF_ANN'): {'c5.2xlarge': 2933.3333333333335, 'c5.xlarge': 3000.0, 'c5a.2xlarge': 2933.3333333333335, 'c5a.xlarge': 3066.6666666666665}, ('compute', 'nfcore/viralrecon:2.1', 'NFCORE_VIRALRECON:ILLUMINA:VARIANTS_IVAR:ASCIIGENOME'): {'c5.2xlarge': 33066.666666666664, 'c5.xlarge': 33600.0, 'c5a.2xlarge': 34933.333333333336, 'c5a.xlarge': 35000.0}, ('compute', 'nfcore/viralrecon:2.1', 'NFCORE_VIRALRECON:ILLUMINA:VARIANTS_IVAR:IVAR_CONSENSUS'): {'c5.2xlarge': 1600.0, 'c5.xlarge': 1733.3333333333333, 'c5a.2xlarge': 1933.3333333333333, 'c5a.xlarge': 2000.0}, ('compute', 'nfcore/viralrecon:2.1', 'NFCORE_VIRALRECON:ILLUMINA:VARIANTS_IVAR:IVAR_VARIANTS'): {'c5.2xlarge': 5000.0, 'c5.xlarge': 5200.0, 'c5a.2xlarge': 7000.0, 'c5a.xlarge': 6866.666666666667}, ('compute', 'nfcore/viralrecon:2.1', 'NFCORE_VIRALRECON:ILLUMINA:VARIANTS_IVAR:NEXTCLADE'): {'c5.2xlarge': 1666.6666666666667, 'c5.xlarge': 1933.3333333333333, 'c5a.2xlarge': 1733.3333333333333, 'c5a.xlarge': 1800.0}, ('compute', 'nfcore/viralrecon:2.1', 'NFCORE_VIRALRECON:ILLUMINA:VARIANTS_IVAR:PANGOLIN'): {'c5.2xlarge': 6533.333333333333, 'c5.xlarge': 7333.333333333333, 'c5a.2xlarge': 7200.0, 'c5a.xlarge': 6933.333333333333}, ('compute', 'nfcore/viralrecon:2.1', 'NFCORE_VIRALRECON:ILLUMINA:VARIANTS_IVAR:PLOT_BASE_DENSITY'): {'c5.2xlarge': 5466.666666666667, 'c5.xlarge': 5800.0, 'c5a.2xlarge': 5400.0, 'c5a.xlarge': 5400.0}, ('compute', 'nfcore/viralrecon:2.1', 'NFCORE_VIRALRECON:ILLUMINA:VARIANTS_IVAR:QUAST'): {'c5.2xlarge': 4936.2, 'c5.xlarge': 4931.8, 'c5a.2xlarge': 4509.6, 'c5a.xlarge': 4398.0}, ('compute', 'nfcore/viralrecon:2.1', 'NFCORE_VIRALRECON:ILLUMINA:VARIANTS_IVAR:SNPEFF_SNPSIFT:SNPEFF_ANN'): {'c5.2xlarge': 2866.6666666666665, 'c5.xlarge': 3133.3333333333335, 'c5a.2xlarge': 3000.0, 'c5a.xlarge': 3133.3333333333335}, ('general', 'nfcore/chipseq:1.2.2', 'BWA_INDEX'): {'m5.2xlarge': 9135.2, 'm5.large': 6814.8, 'm5.xlarge': 8061.6, 'm5a.2xlarge': 11577.2, 'm5a.large': 8924.8, 'm5a.xlarge': 10192.8, 'm5zn.2xlarge': 6880.8, 'm5zn.large': 5138.6, 'm5zn.xlarge': 7379.0}, ('general', 'nfcore/chipseq:1.2.2', 'BWA_MEM'): {'m5.2xlarge': 5962.1, 'm5.large': 6215.2, 'm5.xlarge': 6150.233333333334, 'm5a.2xlarge': 8230.5, 'm5a.large': 8230.133333333333, 'm5a.xlarge': 8320.633333333333, 'm5zn.2xlarge': 4312.6, 'm5zn.large': 4275.2, 'm5zn.xlarge': 4610.033333333334}, ('general', 'nfcore/chipseq:1.2.2', 'CONSENSUS_PEAKS'): {'m5.2xlarge': 2351.6, 'm5.large': 1610.0, 'm5.xlarge': 1925.2, 'm5a.2xlarge': 2681.4, 'm5a.large': 1981.6, 'm5a.xlarge': 2360.2, 'm5zn.2xlarge': 1556.6, 'm5zn.large': 1122.6, 'm5zn.xlarge': 1436.2}, ('general', 'nfcore/chipseq:1.2.2', 'CONSENSUS_PEAKS_ANNOTATE'): {'m5.2xlarge': 6328.8, 'm5.large': 4051.8, 'm5.xlarge': 4828.0, 'm5a.2xlarge': 7855.0, 'm5a.large': 5275.0, 'm5a.xlarge': 6012.2, 'm5zn.2xlarge': 4255.0, 'm5zn.large': 2905.8, 'm5zn.xlarge': 3373.2}, ('general', 'nfcore/chipseq:1.2.2', 'CONSENSUS_PEAKS_DESEQ2'): {'m5.2xlarge': 18097.2, 'm5.large': 13488.0, 'm5.xlarge': 13359.2, 'm5a.2xlarge': 22523.2, 'm5a.large': 16143.4, 'm5a.xlarge': 17484.6, 'm5zn.2xlarge': 13817.0, 'm5zn.large': 10273.8, 'm5zn.xlarge': 10284.8}, ('general', 'nfcore/chipseq:1.2.2', 'FASTQC'): {'m5.2xlarge': 8589.466666666667, 'm5.large': 8558.7, 'm5.xlarge': 8607.133333333333, 'm5a.2xlarge': 10758.566666666668, 'm5a.large': 10363.433333333332, 'm5a.xlarge': 10570.1, 'm5zn.2xlarge': 6514.3, 'm5zn.large': 6567.633333333333, 'm5zn.xlarge': 6867.233333333334}, ('general', 'nfcore/chipseq:1.2.2', 'MACS2'): {'m5.2xlarge': 3359.7, 'm5.large': 2486.4, 'm5.xlarge': 2589.3, 'm5a.2xlarge': 4136.6, 'm5a.large': 3208.3, 'm5a.xlarge': 3424.25, 'm5zn.2xlarge': 2165.95, 'm5zn.large': 1680.9, 'm5zn.xlarge': 1721.35}, ('general', 'nfcore/chipseq:1.2.2', 'MACS2_ANNOTATE'): {'m5.2xlarge': 6281.05, 'm5.large': 4010.55, 'm5.xlarge': 5134.9, 'm5a.2xlarge': 7186.85, 'm5a.large': 5200.3, 'm5a.xlarge': 6568.7, 'm5zn.2xlarge': 4035.75, 'm5zn.large': 2899.6, 'm5zn.xlarge': 3785.75}, ('general', 'nfcore/chipseq:1.2.2', 'MACS2_QC'): {'m5.2xlarge': 5923.8, 'm5.large': 3691.2, 'm5.xlarge': 4019.8, 'm5a.2xlarge': 7082.8, 'm5a.large': 4569.6, 'm5a.xlarge': 5145.4, 'm5zn.2xlarge': 4204.8, 'm5zn.large': 2681.8, 'm5zn.xlarge': 3067.8}, ('general', 'nfcore/chipseq:1.2.2', 'MERGED_BAM'): {'m5.2xlarge': 9176.7, 'm5.large': 9379.1, 'm5.xlarge': 9681.2, 'm5a.2xlarge': 11376.966666666667, 'm5a.large': 10864.866666666667, 'm5a.xlarge': 11254.0, 'm5zn.2xlarge': 6775.633333333333, 'm5zn.large': 6733.8, 'm5zn.xlarge': 6980.266666666666}, ('general', 'nfcore/chipseq:1.2.2', 'MERGED_BAM_FILTER'): {'m5.2xlarge': 3065.133333333333, 'm5.large': 3072.9666666666667, 'm5.xlarge': 3021.9, 'm5a.2xlarge': 3796.4333333333334, 'm5a.large': 3783.1666666666665, 'm5a.xlarge': 3733.9, 'm5zn.2xlarge': 2128.766666666667, 'm5zn.large': 2141.9666666666667, 'm5zn.xlarge': 2115.1}, ('general', 'nfcore/chipseq:1.2.2', 'MERGED_BAM_REMOVE_ORPHAN'): {'m5.2xlarge': 1684.8, 'm5.large': 1515.0, 'm5.xlarge': 1615.6666666666667, 'm5a.2xlarge': 2057.4333333333334, 'm5a.large': 1834.1333333333334, 'm5a.xlarge': 1937.3, 'm5zn.2xlarge': 1158.3666666666666, 'm5zn.large': 1061.0, 'm5zn.xlarge': 1115.9}, ('general', 'nfcore/chipseq:1.2.2', 'MULTIQC'): {'m5.2xlarge': 5040.4, 'm5.large': 5256.4, 'm5.xlarge': 5258.6, 'm5a.2xlarge': 6880.0, 'm5a.large': 7377.4, 'm5a.xlarge': 7051.0, 'm5zn.2xlarge': 3699.4, 'm5zn.large': 3774.0, 'm5zn.xlarge': 3796.4}, ('general', 'nfcore/chipseq:1.2.2', 'PHANTOMPEAKQUALTOOLS'): {'m5.2xlarge': 6183.533333333334, 'm5.large': 5200.766666666666, 'm5.xlarge': 5522.866666666667, 'm5a.2xlarge': 7329.133333333333, 'm5a.large': 6056.866666666667, 'm5a.xlarge': 6598.166666666667, 'm5zn.2xlarge': 4395.433333333333, 'm5zn.large': 3727.4333333333334, 'm5zn.xlarge': 4115.566666666667}, ('general', 'nfcore/chipseq:1.2.2', 'PICARD_METRICS'): {'m5.2xlarge': 5863.7, 'm5.large': 5585.4, 'm5.xlarge': 5626.266666666666, 'm5a.2xlarge': 7675.466666666666, 'm5a.large': 6984.5, 'm5a.xlarge': 6885.7, 'm5zn.2xlarge': 4167.6, 'm5zn.large': 3932.0666666666666, 'm5zn.xlarge': 4073.5666666666666}, ('general', 'nfcore/chipseq:1.2.2', 'PLOTFINGERPRINT'): {'m5.2xlarge': 24040.0, 'm5.large': 18591.3, 'm5.xlarge': 21956.7, 'm5a.2xlarge': 29931.3, 'm5a.large': 21761.55, 'm5a.xlarge': 25013.7, 'm5zn.2xlarge': 17163.05, 'm5zn.large': 14045.65, 'm5zn.xlarge': 15942.25}, ('general', 'nfcore/chipseq:1.2.2', 'PLOTPROFILE'): {'m5.2xlarge': 171394.33333333334, 'm5.large': 183426.36666666667, 'm5.xlarge': 179998.46666666667, 'm5a.2xlarge': 243100.5, 'm5a.large': 235559.46666666667, 'm5a.xlarge': 270144.9666666667, 'm5zn.2xlarge': 107517.2, 'm5zn.large': 127370.26666666666, 'm5zn.xlarge': 125205.53333333334}, ('general', 'nfcore/chipseq:1.2.2', 'PRESEQ'): {'m5.2xlarge': 3610.9, 'm5.large': 2939.4, 'm5.xlarge': 3317.35, 'm5a.2xlarge': 5128.95, 'm5a.large': 4440.3, 'm5a.xlarge': 4847.5, 'm5zn.2xlarge': 2396.1, 'm5zn.large': 2011.3, 'm5zn.xlarge': 2281.75}, ('general', 'nfcore/chipseq:1.2.2', 'TRIMGALORE'): {'m5.2xlarge': 15412.533333333333, 'm5.large': 15730.266666666666, 'm5.xlarge': 15871.033333333333, 'm5a.2xlarge': 20394.933333333334, 'm5a.large': 19916.533333333333, 'm5a.xlarge': 20376.266666666666, 'm5zn.2xlarge': 11373.566666666668, 'm5zn.large': 11543.9, 'm5zn.xlarge': 11549.633333333333}, ('general', 'nfcore/chipseq:1.2.2', 'get_software_versions'): {'m5.2xlarge': 4923.0, 'm5.large': 4666.4, 'm5.xlarge': 4584.0, 'm5a.2xlarge': 6815.8, 'm5a.large': 6011.4, 'm5a.xlarge': 6222.2, 'm5zn.2xlarge': 3412.8, 'm5zn.large': 3387.2, 'm5zn.xlarge': 3577.4}, ('general', 'nfcore/eager:2.3.5', 'damageprofiler'): {'m5.2xlarge': 2836.2, 'm5.large': 2237.4, 'm5.xlarge': 2657.6, 'm5a.2xlarge': 3864.8, 'm5a.large': 3055.4, 'm5a.xlarge': 3587.3, 'm5zn.2xlarge': 1968.2, 'm5zn.large': 1669.6, 'm5zn.xlarge': 1931.2}, ('general', 'nfcore/eager:2.3.5', 'fastqc'): {'m5.2xlarge': 4068.3, 'm5.large': 3878.7, 'm5.xlarge': 4390.8, 'm5a.2xlarge': 5324.0, 'm5a.large': 4657.9, 'm5a.xlarge': 5253.4, 'm5zn.2xlarge': 2953.0, 'm5zn.large': 2921.3, 'm5zn.xlarge': 2915.0}, ('general', 'nfcore/eager:2.3.5', 'fastqc_after_clipping'): {'m5.2xlarge': 3135.2, 'm5.large': 3244.1, 'm5.xlarge': 3367.7, 'm5a.2xlarge': 4040.9, 'm5a.large': 3985.7, 'm5a.xlarge': 3894.9, 'm5zn.2xlarge': 2183.3, 'm5zn.large': 2175.0, 'm5zn.xlarge': 2169.9}, ('general', 'nfcore/eager:2.3.5', 'get_software_versions'): {'m5.2xlarge': 9577.2, 'm5.large': 8157.2, 'm5.xlarge': 9161.4, 'm5a.2xlarge': 12217.8, 'm5a.large': 9982.6, 'm5a.xlarge': 11498.0, 'm5zn.2xlarge': 7080.2, 'm5zn.large': 5902.6, 'm5zn.xlarge': 7039.2}, ('general', 'nfcore/eager:2.3.5', 'makeSeqDict'): {'m5.2xlarge': 1749.2, 'm5.large': 1995.0, 'm5.xlarge': 1859.6, 'm5a.2xlarge': 2383.6, 'm5a.large': 2511.2, 'm5a.xlarge': 2536.0, 'm5zn.2xlarge': 1184.2, 'm5zn.large': 1337.8, 'm5zn.xlarge': 1574.2}, ('general', 'nfcore/eager:2.3.5', 'markduplicates'): {'m5.2xlarge': 2928.3, 'm5.large': 2209.2, 'm5.xlarge': 2593.2, 'm5a.2xlarge': 3380.8, 'm5a.large': 2314.4, 'm5a.xlarge': 2817.5, 'm5zn.2xlarge': 2106.4, 'm5zn.large': 1679.7, 'm5zn.xlarge': 1902.4}, ('general', 'nfcore/eager:2.3.5', 'multiqc'): {'m5.2xlarge': 28487.2, 'm5.large': 29336.2, 'm5.xlarge': 29613.6, 'm5a.2xlarge': 35978.4, 'm5a.large': 37478.0, 'm5a.xlarge': 37689.8, 'm5zn.2xlarge': 20667.6, 'm5zn.large': 20914.0, 'm5zn.xlarge': 21565.8}, ('general', 'nfcore/eager:2.3.5', 'qualimap'): {'m5.2xlarge': 3416.8, 'm5.large': 3085.9, 'm5.xlarge': 3600.0, 'm5a.2xlarge': 4519.0, 'm5a.large': 4168.5, 'm5a.xlarge': 4325.4, 'm5zn.2xlarge': 2573.2, 'm5zn.large': 2148.5, 'm5zn.xlarge': 2416.7}, ('general', 'nfcore/methylseq:1.6.1', 'bismark_align'): {'m5.2xlarge': 12143.6, 'm5.large': 12938.066666666668, 'm5.xlarge': 12733.133333333333, 'm5a.2xlarge': 15322.733333333334, 'm5a.large': 15704.533333333333, 'm5a.xlarge': 15787.866666666667, 'm5zn.2xlarge': 9817.6, 'm5zn.large': 10394.733333333334, 'm5zn.xlarge': 10027.6}, ('general', 'nfcore/methylseq:1.6.1', 'bismark_methXtract'): {'m5.2xlarge': 11161.4, 'm5.large': 11172.133333333333, 'm5.xlarge': 11172.8, 'm5a.2xlarge': 11220.866666666667, 'm5a.large': 11219.6, 'm5a.xlarge': 11233.2, 'm5zn.2xlarge': 11118.933333333332, 'm5zn.large': 11127.8, 'm5zn.xlarge': 11126.0}, ('general', 'nfcore/methylseq:1.6.1', 'bismark_report'): {'m5.2xlarge': 1290.0, 'm5.large': 1336.4, 'm5.xlarge': 1334.6666666666667, 'm5a.2xlarge': 1266.0, 'm5a.large': 1285.2666666666667, 'm5a.xlarge': 1281.1333333333334, 'm5zn.2xlarge': 1230.6666666666667, 'm5zn.large': 1247.8666666666666, 'm5zn.xlarge': 1240.9333333333334}, ('general', 'nfcore/methylseq:1.6.1', 'fastqc'): {'m5.2xlarge': 4199.866666666667, 'm5.large': 4471.666666666667, 'm5.xlarge': 4494.6, 'm5a.2xlarge': 5576.4, 'm5a.large': 5282.133333333333, 'm5a.xlarge': 5614.733333333334, 'm5zn.2xlarge': 3351.2, 'm5zn.large': 3324.3333333333335, 'm5zn.xlarge': 3299.4666666666667}, ('general', 'nfcore/methylseq:1.6.1', 'get_software_versions'): {'m5.2xlarge': 4219.6, 'm5.large': 4114.4, 'm5.xlarge': 4460.4, 'm5a.2xlarge': 6458.0, 'm5a.large': 5328.8, 'm5a.xlarge': 5826.0, 'm5zn.2xlarge': 3055.2, 'm5zn.large': 2970.6, 'm5zn.xlarge': 3151.4}, ('general', 'nfcore/methylseq:1.6.1', 'makeBismarkIndex'): {'m5.2xlarge': 5352.2, 'm5.large': 5292.2, 'm5.xlarge': 5323.4, 'm5a.2xlarge': 5349.6, 'm5a.large': 5285.6, 'm5a.xlarge': 5307.2, 'm5zn.2xlarge': 5260.0, 'm5zn.large': 5219.2, 'm5zn.xlarge': 5249.4}, ('general', 'nfcore/methylseq:1.6.1', 'multiqc'): {'m5.2xlarge': 16518.4, 'm5.large': 17237.8, 'm5.xlarge': 17106.8, 'm5a.2xlarge': 20330.8, 'm5a.large': 21192.6, 'm5a.xlarge': 21240.2, 'm5zn.2xlarge': 12007.4, 'm5zn.large': 12445.2, 'm5zn.xlarge': 12647.8}, ('general', 'nfcore/methylseq:1.6.1', 'qualimap'): {'m5.2xlarge': 1917.9333333333334, 'm5.large': 2544.6, 'm5.xlarge': 2170.8, 'm5a.2xlarge': 2611.133333333333, 'm5a.large': 3160.266666666667, 'm5a.xlarge': 2850.8, 'm5zn.2xlarge': 1417.8, 'm5zn.large': 1785.5333333333333, 'm5zn.xlarge': 1614.3333333333333}, ('general', 'nfcore/methylseq:1.6.1', 'trim_galore'): {'m5.2xlarge': 5506.466666666666, 'm5.large': 5916.733333333334, 'm5.xlarge': 5758.2, 'm5a.2xlarge': 7669.6, 'm5a.large': 7726.6, 'm5a.xlarge': 7410.6, 'm5zn.2xlarge': 4076.733333333333, 'm5zn.large': 4344.2, 'm5zn.xlarge': 4544.4}, ('general', 'nfcore/sarek:2.7.1', 'ApplyBQSR'): {'m5.2xlarge': 4733.966666666666, 'm5.large': 4695.333333333333, 'm5.xlarge': 4748.133333333333, 'm5a.2xlarge': 6314.666666666667, 'm5a.large': 5832.85, 'm5a.xlarge': 6060.683333333333, 'm5zn.2xlarge': 3417.4166666666665, 'm5zn.large': 3356.6666666666665, 'm5zn.xlarge': 3456.116666666667}, ('general', 'nfcore/sarek:2.7.1', 'BamQC'): {'m5.2xlarge': 3159.892307692308, 'm5.large': 3225.0615384615385, 'm5.xlarge': 3297.6769230769232, 'm5a.2xlarge': 4329.507692307692, 'm5a.large': 4466.215384615384, 'm5a.xlarge': 4319.830769230769, 'm5zn.2xlarge': 2165.769230769231, 'm5zn.large': 2248.4461538461537, 'm5zn.xlarge': 2359.6923076923076}, ('general', 'nfcore/sarek:2.7.1', 'BaseRecalibrator'): {'m5.2xlarge': 7742.666666666667, 'm5.large': 7656.216666666666, 'm5.xlarge': 7645.533333333334, 'm5a.2xlarge': 10301.716666666667, 'm5a.large': 9492.233333333334, 'm5a.xlarge': 9762.35, 'm5zn.2xlarge': 5576.766666666666, 'm5zn.large': 5332.216666666666, 'm5zn.xlarge': 5536.75}, ('general', 'nfcore/sarek:2.7.1', 'BuildDict'): {'m5.2xlarge': 3243.8, 'm5.large': 3650.4, 'm5.xlarge': 3569.0, 'm5a.2xlarge': 4466.8, 'm5a.large': 3851.2, 'm5a.xlarge': 4450.8, 'm5zn.2xlarge': 2369.8, 'm5zn.large': 2383.6, 'm5zn.xlarge': 2939.2}, ('general', 'nfcore/sarek:2.7.1', 'FastQCFQ'): {'m5.2xlarge': 6492.818181818182, 'm5.large': 6339.2, 'm5.xlarge': 6505.236363636363, 'm5a.2xlarge': 7665.854545454546, 'm5a.large': 7638.418181818181, 'm5a.xlarge': 7634.2, 'm5zn.2xlarge': 4634.363636363636, 'm5zn.large': 4756.872727272727, 'm5zn.xlarge': 4819.036363636364}, ('general', 'nfcore/sarek:2.7.1', 'GatherBQSRReports'): {'m5.2xlarge': 4991.6, 'm5.large': 6911.2, 'm5.xlarge': 7062.2, 'm5a.2xlarge': 6585.3, 'm5a.large': 8501.2, 'm5a.xlarge': 8756.7, 'm5zn.2xlarge': 3610.3, 'm5zn.large': 4826.8, 'm5zn.xlarge': 5084.2}, ('general', 'nfcore/sarek:2.7.1', 'MarkDuplicates'): {'m5.2xlarge': 4972.2, 'm5.large': 6314.3, 'm5.xlarge': 6131.8, 'm5a.2xlarge': 5281.7, 'm5a.large': 6031.5, 'm5a.xlarge': 6284.4, 'm5zn.2xlarge': 3918.6, 'm5zn.large': 4895.0, 'm5zn.xlarge': 4707.8}, ('general', 'nfcore/sarek:2.7.1', 'MultiQC'): {'m5.2xlarge': 31871.2, 'm5.large': 35524.8, 'm5.xlarge': 36744.0, 'm5a.2xlarge': 45996.8, 'm5a.large': 46355.8, 'm5a.xlarge': 49175.4, 'm5zn.2xlarge': 22309.8, 'm5zn.large': 24954.6, 'm5zn.xlarge': 25846.8}, ('general', 'nfcore/sarek:2.7.1', 'get_software_versions'): {'m5.2xlarge': 7904.6, 'm5.large': 7116.4, 'm5.xlarge': 7986.0, 'm5a.2xlarge': 10308.6, 'm5a.large': 9529.8, 'm5a.xlarge': 10132.8, 'm5zn.2xlarge': 5858.8, 'm5zn.large': 5479.8, 'm5zn.xlarge': 6392.0}, ('general', 'nfcore/viralrecon:2.1', 'NFCORE_VIRALRECON:ILLUMINA:ALIGN_BOWTIE2:BOWTIE2_ALIGN'): {'m5.2xlarge': 51200.0, 'm5.large': 53200.0, 'm5.xlarge': 52133.333333333336, 'm5a.2xlarge': 63466.666666666664, 'm5a.large': 60666.666666666664, 'm5a.xlarge': 61800.0, 'm5zn.2xlarge': 36600.0, 'm5zn.large': 37066.666666666664, 'm5zn.xlarge': 38266.666666666664}, ('general', 'nfcore/viralrecon:2.1', 'NFCORE_VIRALRECON:ILLUMINA:ASSEMBLY_MINIA:ASSEMBLY_QC:QUAST'): {'m5.2xlarge': 7229.6, 'm5.large': 5627.4, 'm5.xlarge': 6294.2, 'm5a.2xlarge': 8716.0, 'm5a.large': 6504.4, 'm5a.xlarge': 7122.4, 'm5zn.2xlarge': 5480.2, 'm5zn.large': 4076.6, 'm5zn.xlarge': 4863.0}, ('general', 'nfcore/viralrecon:2.1', 'NFCORE_VIRALRECON:ILLUMINA:ASSEMBLY_MINIA:MINIA'): {'m5.2xlarge': 2600.0, 'm5.large': 2333.3333333333335, 'm5.xlarge': 2466.6666666666665, 'm5a.2xlarge': 3600.0, 'm5a.large': 2933.3333333333335, 'm5a.xlarge': 3133.3333333333335, 'm5zn.2xlarge': 2066.6666666666665, 'm5zn.large': 1733.3333333333333, 'm5zn.xlarge': 1866.6666666666667}, ('general', 'nfcore/viralrecon:2.1', 'NFCORE_VIRALRECON:ILLUMINA:ASSEMBLY_SPADES:ASSEMBLY_QC:QUAST'): {'m5.2xlarge': 7920.6, 'm5.large': 6395.6, 'm5.xlarge': 6894.8, 'm5a.2xlarge': 9752.6, 'm5a.large': 7459.8, 'm5a.xlarge': 8517.2, 'm5zn.2xlarge': 5713.0, 'm5zn.large': 4661.6, 'm5zn.xlarge': 5266.0}, ('general', 'nfcore/viralrecon:2.1', 'NFCORE_VIRALRECON:ILLUMINA:ASSEMBLY_SPADES:SPADES'): {'m5.2xlarge': 33133.333333333336, 'm5.large': 30333.333333333332, 'm5.xlarge': 32133.333333333332, 'm5a.2xlarge': 37400.0, 'm5a.large': 34466.666666666664, 'm5a.xlarge': 37400.0, 'm5zn.2xlarge': 24066.666666666668, 'm5zn.large': 21200.0, 'm5zn.xlarge': 25000.0}, ('general', 'nfcore/viralrecon:2.1', 'NFCORE_VIRALRECON:ILLUMINA:ASSEMBLY_UNICYCLER:ASSEMBLY_QC:QUAST'): {'m5.2xlarge': 6189.8, 'm5.large': 5644.4, 'm5.xlarge': 6292.6, 'm5a.2xlarge': 7706.6, 'm5a.large': 6507.2, 'm5a.xlarge': 7183.6, 'm5zn.2xlarge': 4479.4, 'm5zn.large': 4035.6, 'm5zn.xlarge': 4490.6}, ('general', 'nfcore/viralrecon:2.1', 'NFCORE_VIRALRECON:ILLUMINA:ASSEMBLY_UNICYCLER:UNICYCLER'): {'m5.2xlarge': 147266.66666666666, 'm5.large': 155866.66666666666, 'm5.xlarge': 150600.0, 'm5a.2xlarge': 177533.33333333334, 'm5a.large': 169133.33333333334, 'm5a.xlarge': 172800.0, 'm5zn.2xlarge': 104200.0, 'm5zn.large': 109466.66666666667, 'm5zn.xlarge': 109000.0}, ('general', 'nfcore/viralrecon:2.1', 'NFCORE_VIRALRECON:ILLUMINA:CUTADAPT'): {'m5.2xlarge': 14466.666666666666, 'm5.large': 14066.666666666666, 'm5.xlarge': 13800.0, 'm5a.2xlarge': 16533.333333333332, 'm5a.large': 14933.333333333334, 'm5a.xlarge': 15000.0, 'm5zn.2xlarge': 9733.333333333334, 'm5zn.large': 9733.333333333334, 'm5zn.xlarge': 9133.333333333334}, ('general', 'nfcore/viralrecon:2.1', 'NFCORE_VIRALRECON:ILLUMINA:FASTQC'): {'m5.2xlarge': 6933.333333333333, 'm5.large': 6466.666666666667, 'm5.xlarge': 7133.333333333333, 'm5a.2xlarge': 8066.666666666667, 'm5a.large': 7800.0, 'm5a.xlarge': 7666.666666666667, 'm5zn.2xlarge': 5133.333333333333, 'm5zn.large': 4600.0, 'm5zn.xlarge': 4933.333333333333}, ('general', 'nfcore/viralrecon:2.1', 'NFCORE_VIRALRECON:ILLUMINA:FASTQC_FASTP:FASTP'): {'m5.2xlarge': 5666.666666666667, 'm5.large': 4933.333333333333, 'm5.xlarge': 5333.333333333333, 'm5a.2xlarge': 6533.333333333333, 'm5a.large': 5666.666666666667, 'm5a.xlarge': 5866.666666666667, 'm5zn.2xlarge': 3800.0, 'm5zn.large': 3266.6666666666665, 'm5zn.xlarge': 3533.3333333333335}, ('general', 'nfcore/viralrecon:2.1', 'NFCORE_VIRALRECON:ILLUMINA:FASTQC_FASTP:FASTQC_RAW'): {'m5.2xlarge': 6800.0, 'm5.large': 6866.666666666667, 'm5.xlarge': 6533.333333333333, 'm5a.2xlarge': 7666.666666666667, 'm5a.large': 8066.666666666667, 'm5a.xlarge': 8133.333333333333, 'm5zn.2xlarge': 4866.666666666667, 'm5zn.large': 5200.0, 'm5zn.xlarge': 4800.0}, ('general', 'nfcore/viralrecon:2.1', 'NFCORE_VIRALRECON:ILLUMINA:FASTQC_FASTP:FASTQC_TRIM'): {'m5.2xlarge': 7266.666666666667, 'm5.large': 6400.0, 'm5.xlarge': 6800.0, 'm5a.2xlarge': 7866.666666666667, 'm5a.large': 8000.0, 'm5a.xlarge': 7933.333333333333, 'm5zn.2xlarge': 5333.333333333333, 'm5zn.large': 4533.333333333333, 'm5zn.xlarge': 5200.0}, ('general', 'nfcore/viralrecon:2.1', 'NFCORE_VIRALRECON:ILLUMINA:KRAKEN2_RUN'): {'m5.2xlarge': 2733.3333333333335, 'm5.large': 2733.3333333333335, 'm5.xlarge': 2733.3333333333335, 'm5a.2xlarge': 2933.3333333333335, 'm5a.large': 3000.0, 'm5a.xlarge': 3066.6666666666665, 'm5zn.2xlarge': 1733.3333333333333, 'm5zn.large': 1933.3333333333333, 'm5zn.xlarge': 2000.0}, ('general', 'nfcore/viralrecon:2.1', 'NFCORE_VIRALRECON:ILLUMINA:MULTIQC'): {'m5.2xlarge': 21907.4, 'm5.large': 22450.4, 'm5.xlarge': 22603.6, 'm5a.2xlarge': 31246.8, 'm5a.large': 31823.8, 'm5a.xlarge': 32261.8, 'm5zn.2xlarge': 15777.0, 'm5zn.large': 15926.6, 'm5zn.xlarge': 16079.6}, ('general', 'nfcore/viralrecon:2.1', 'NFCORE_VIRALRECON:ILLUMINA:PICARD_COLLECTMULTIPLEMETRICS'): {'m5.2xlarge': 6733.333333333333, 'm5.large': 6666.666666666667, 'm5.xlarge': 6400.0, 'm5a.2xlarge': 8733.333333333334, 'm5a.large': 8000.0, 'm5a.xlarge': 7866.666666666667, 'm5zn.2xlarge': 4733.333333333333, 'm5zn.large': 4600.0, 'm5zn.xlarge': 4533.333333333333}, ('general', 'nfcore/viralrecon:2.1', 'NFCORE_VIRALRECON:ILLUMINA:PLOT_MOSDEPTH_REGIONS_AMPLICON'): {'m5.2xlarge': 4800.0, 'm5.large': 4600.0, 'm5.xlarge': 5000.0, 'm5a.2xlarge': 6800.0, 'm5a.large': 5800.0, 'm5a.xlarge': 6400.0, 'm5zn.2xlarge': 4000.0, 'm5zn.large': 3600.0, 'm5zn.xlarge': 4000.0}, ('general', 'nfcore/viralrecon:2.1', 'NFCORE_VIRALRECON:ILLUMINA:PLOT_MOSDEPTH_REGIONS_GENOME'): {'m5.2xlarge': 4000.0, 'm5.large': 3400.0, 'm5.xlarge': 3400.0, 'm5a.2xlarge': 5400.0, 'm5a.large': 4800.0, 'm5a.xlarge': 4600.0, 'm5zn.2xlarge': 3000.0, 'm5zn.large': 2800.0, 'm5zn.xlarge': 2800.0}, ('general', 'nfcore/viralrecon:2.1', 'NFCORE_VIRALRECON:ILLUMINA:PREPARE_GENOME:SNPEFF_BUILD'): {'m5.2xlarge': 2600.0, 'm5.large': 2400.0, 'm5.xlarge': 2000.0, 'm5a.2xlarge': 2000.0, 'm5a.large': 2600.0, 'm5a.xlarge': 2400.0, 'm5zn.2xlarge': 1400.0, 'm5zn.large': 2200.0, 'm5zn.xlarge': 2000.0}, ('general', 'nfcore/viralrecon:2.1', 'NFCORE_VIRALRECON:ILLUMINA:PRIMER_TRIM_IVAR:IVAR_TRIM'): {'m5.2xlarge': 1800.0, 'm5.large': 1600.0, 'm5.xlarge': 1933.3333333333333, 'm5a.2xlarge': 2600.0, 'm5a.large': 2200.0, 'm5a.xlarge': 2800.0, 'm5zn.2xlarge': 1666.6666666666667, 'm5zn.large': 1066.6666666666667, 'm5zn.xlarge': 1400.0}, ('general', 'nfcore/viralrecon:2.1', 'NFCORE_VIRALRECON:ILLUMINA:VARIANTS_BCFTOOLS:ASCIIGENOME'): {'m5.2xlarge': 9866.666666666666, 'm5.large': 12600.0, 'm5.xlarge': 10933.333333333334, 'm5a.2xlarge': 14400.0, 'm5a.large': 15400.0, 'm5a.xlarge': 13933.333333333334, 'm5zn.2xlarge': 7333.333333333333, 'm5zn.large': 9066.666666666666, 'm5zn.xlarge': 7533.333333333333}, ('general', 'nfcore/viralrecon:2.1', 'NFCORE_VIRALRECON:ILLUMINA:VARIANTS_BCFTOOLS:MAKE_CONSENSUS:PLOT_BASE_DENSITY'): {'m5.2xlarge': 5600.0, 'm5.large': 5000.0, 'm5.xlarge': 5200.0, 'm5a.2xlarge': 6733.333333333333, 'm5a.large': 6000.0, 'm5a.xlarge': 6466.666666666667, 'm5zn.2xlarge': 4200.0, 'm5zn.large': 3800.0, 'm5zn.xlarge': 4133.333333333333}, ('general', 'nfcore/viralrecon:2.1', 'NFCORE_VIRALRECON:ILLUMINA:VARIANTS_BCFTOOLS:NEXTCLADE'): {'m5.2xlarge': 2266.6666666666665, 'm5.large': 2400.0, 'm5.xlarge': 2333.3333333333335, 'm5a.2xlarge': 2933.3333333333335, 'm5a.large': 3000.0, 'm5a.xlarge': 2800.0, 'm5zn.2xlarge': 1600.0, 'm5zn.large': 1866.6666666666667, 'm5zn.xlarge': 1733.3333333333333}, ('general', 'nfcore/viralrecon:2.1', 'NFCORE_VIRALRECON:ILLUMINA:VARIANTS_BCFTOOLS:PANGOLIN'): {'m5.2xlarge': 8200.0, 'm5.large': 7600.0, 'm5.xlarge': 7666.666666666667, 'm5a.2xlarge': 10466.666666666666, 'm5a.large': 9333.333333333334, 'm5a.xlarge': 9866.666666666666, 'm5zn.2xlarge': 6000.0, 'm5zn.large': 5466.666666666667, 'm5zn.xlarge': 5933.333333333333}, ('general', 'nfcore/viralrecon:2.1', 'NFCORE_VIRALRECON:ILLUMINA:VARIANTS_BCFTOOLS:QUAST'): {'m5.2xlarge': 5764.4, 'm5.large': 5574.4, 'm5.xlarge': 5750.0, 'm5a.2xlarge': 6984.6, 'm5a.large': 6462.8, 'm5a.xlarge': 6732.2, 'm5zn.2xlarge': 4345.6, 'm5zn.large': 4014.4, 'm5zn.xlarge': 4367.8}, ('general', 'nfcore/viralrecon:2.1', 'NFCORE_VIRALRECON:ILLUMINA:VARIANTS_BCFTOOLS:SNPEFF_SNPSIFT:SNPEFF_ANN'): {'m5.2xlarge': 3333.3333333333335, 'm5.large': 3133.3333333333335, 'm5.xlarge': 3466.6666666666665, 'm5a.2xlarge': 3666.6666666666665, 'm5a.large': 3866.6666666666665, 'm5a.xlarge': 3600.0, 'm5zn.2xlarge': 2666.6666666666665, 'm5zn.large': 2866.6666666666665, 'm5zn.xlarge': 3000.0}, ('general', 'nfcore/viralrecon:2.1', 'NFCORE_VIRALRECON:ILLUMINA:VARIANTS_IVAR:ASCIIGENOME'): {'m5.2xlarge': 39266.666666666664, 'm5.large': 42200.0, 'm5.xlarge': 42666.666666666664, 'm5a.2xlarge': 53266.666666666664, 'm5a.large': 54466.666666666664, 'm5a.xlarge': 54533.333333333336, 'm5zn.2xlarge': 29000.0, 'm5zn.large': 29600.0, 'm5zn.xlarge': 29466.666666666668}, ('general', 'nfcore/viralrecon:2.1', 'NFCORE_VIRALRECON:ILLUMINA:VARIANTS_IVAR:IVAR_CONSENSUS'): {'m5.2xlarge': 2933.3333333333335, 'm5.large': 2466.6666666666665, 'm5.xlarge': 2200.0, 'm5a.2xlarge': 3066.6666666666665, 'm5a.large': 2733.3333333333335, 'm5a.xlarge': 2800.0, 'm5zn.2xlarge': 1800.0, 'm5zn.large': 1666.6666666666667, 'm5zn.xlarge': 1666.6666666666667}, ('general', 'nfcore/viralrecon:2.1', 'NFCORE_VIRALRECON:ILLUMINA:VARIANTS_IVAR:IVAR_VARIANTS'): {'m5.2xlarge': 7133.333333333333, 'm5.large': 6266.666666666667, 'm5.xlarge': 6933.333333333333, 'm5a.2xlarge': 10000.0, 'm5a.large': 8200.0, 'm5a.xlarge': 8933.333333333334, 'm5zn.2xlarge': 4933.333333333333, 'm5zn.large': 4333.333333333333, 'm5zn.xlarge': 4666.666666666667}, ('general', 'nfcore/viralrecon:2.1', 'NFCORE_VIRALRECON:ILLUMINA:VARIANTS_IVAR:NEXTCLADE'): {'m5.2xlarge': 2400.0, 'm5.large': 2466.6666666666665, 'm5.xlarge': 2400.0, 'm5a.2xlarge': 3200.0, 'm5a.large': 2866.6666666666665, 'm5a.xlarge': 3200.0, 'm5zn.2xlarge': 1666.6666666666667, 'm5zn.large': 1533.3333333333333, 'm5zn.xlarge': 2000.0}, ('general', 'nfcore/viralrecon:2.1', 'NFCORE_VIRALRECON:ILLUMINA:VARIANTS_IVAR:PANGOLIN'): {'m5.2xlarge': 8533.333333333334, 'm5.large': 7533.333333333333, 'm5.xlarge': 8066.666666666667, 'm5a.2xlarge': 11133.333333333334, 'm5a.large': 9533.333333333334, 'm5a.xlarge': 10266.666666666666, 'm5zn.2xlarge': 6400.0, 'm5zn.large': 5600.0, 'm5zn.xlarge': 6200.0}, ('general', 'nfcore/viralrecon:2.1', 'NFCORE_VIRALRECON:ILLUMINA:VARIANTS_IVAR:PLOT_BASE_DENSITY'): {'m5.2xlarge': 7066.666666666667, 'm5.large': 6066.666666666667, 'm5.xlarge': 6466.666666666667, 'm5a.2xlarge': 9133.333333333334, 'm5a.large': 7266.666666666667, 'm5a.xlarge': 8133.333333333333, 'm5zn.2xlarge': 5200.0, 'm5zn.large': 4466.666666666667, 'm5zn.xlarge': 5000.0}, ('general', 'nfcore/viralrecon:2.1', 'NFCORE_VIRALRECON:ILLUMINA:VARIANTS_IVAR:QUAST'): {'m5.2xlarge': 6179.2, 'm5.large': 5596.6, 'm5.xlarge': 6045.0, 'm5a.2xlarge': 7782.0, 'm5a.large': 6448.4, 'm5a.xlarge': 6985.4, 'm5zn.2xlarge': 4673.4, 'm5zn.large': 4008.6, 'm5zn.xlarge': 4505.6}, ('general', 'nfcore/viralrecon:2.1', 'NFCORE_VIRALRECON:ILLUMINA:VARIANTS_IVAR:SNPEFF_SNPSIFT:SNPEFF_ANN'): {'m5.2xlarge': 3133.3333333333335, 'm5.large': 3533.3333333333335, 'm5.xlarge': 3333.3333333333335, 'm5a.2xlarge': 3866.6666666666665, 'm5a.large': 3933.3333333333335, 'm5a.xlarge': 3933.3333333333335, 'm5zn.2xlarge': 2800.0, 'm5zn.large': 3000.0, 'm5zn.xlarge': 3066.6666666666665}, ('memory', 'nfcore/chipseq:1.2.2', 'BWA_INDEX'): {'r5.2xlarge': 9118.0, 'r5.large': 7391.6, 'r5.xlarge': 8831.0, 'r5a.2xlarge': 13316.0, 'r5a.large': 8552.0, 'r5a.xlarge': 10768.2, 'z1d.2xlarge': 7444.0, 'z1d.large': 6324.2, 'z1d.xlarge': 7799.6}, ('memory', 'nfcore/chipseq:1.2.2', 'BWA_MEM'): {'r5.2xlarge': 5984.933333333333, 'r5.large': 6427.9, 'r5.xlarge': 6396.066666666667, 'r5a.2xlarge': 8991.0, 'r5a.large': 8108.8, 'r5a.xlarge': 8219.7, 'z1d.2xlarge': 4724.233333333334, 'z1d.large': 5043.2, 'z1d.xlarge': 5123.433333333333}, ('memory', 'nfcore/chipseq:1.2.2', 'CONSENSUS_PEAKS'): {'r5.2xlarge': 2042.6, 'r5.large': 1637.4, 'r5.xlarge': 2038.0, 'r5a.2xlarge': 2960.4, 'r5a.large': 2015.8, 'r5a.xlarge': 1900.2, 'z1d.2xlarge': 1841.2, 'z1d.large': 1310.6, 'z1d.xlarge': 1534.4}, ('memory', 'nfcore/chipseq:1.2.2', 'CONSENSUS_PEAKS_ANNOTATE'): {'r5.2xlarge': 6002.0, 'r5.large': 4095.0, 'r5.xlarge': 5681.0, 'r5a.2xlarge': 7572.2, 'r5a.large': 5331.4, 'r5a.xlarge': 5519.2, 'z1d.2xlarge': 4540.4, 'z1d.large': 3307.2, 'z1d.xlarge': 4372.6}, ('memory', 'nfcore/chipseq:1.2.2', 'CONSENSUS_PEAKS_DESEQ2'): {'r5.2xlarge': 17791.0, 'r5.large': 13545.4, 'r5.xlarge': 14284.6, 'r5a.2xlarge': 22996.4, 'r5a.large': 16201.2, 'r5a.xlarge': 15934.8, 'z1d.2xlarge': 15659.8, 'z1d.large': 11028.6, 'z1d.xlarge': 12559.6}, ('memory', 'nfcore/chipseq:1.2.2', 'FASTQC'): {'r5.2xlarge': 8622.466666666667, 'r5.large': 8604.1, 'r5.xlarge': 8585.133333333333, 'r5a.2xlarge': 11276.066666666668, 'r5a.large': 10274.3, 'r5a.xlarge': 10973.733333333334, 'z1d.2xlarge': 6953.766666666666, 'z1d.large': 6866.633333333333, 'z1d.xlarge': 6927.166666666667}, ('memory', 'nfcore/chipseq:1.2.2', 'MACS2'): {'r5.2xlarge': 3433.2, 'r5.large': 2491.7, 'r5.xlarge': 2708.2, 'r5a.2xlarge': 4134.4, 'r5a.large': 3233.7, 'r5a.xlarge': 3370.85, 'z1d.2xlarge': 2253.9, 'z1d.large': 1876.6, 'z1d.xlarge': 2014.4}, ('memory', 'nfcore/chipseq:1.2.2', 'MACS2_ANNOTATE'): {'r5.2xlarge': 5782.65, 'r5.large': 4053.6, 'r5.xlarge': 5744.4, 'r5a.2xlarge': 7551.1, 'r5a.large': 5236.45, 'r5a.xlarge': 6582.6, 'z1d.2xlarge': 4919.0, 'z1d.large': 3275.2, 'z1d.xlarge': 4237.45}, ('memory', 'nfcore/chipseq:1.2.2', 'MACS2_QC'): {'r5.2xlarge': 5870.2, 'r5.large': 3799.8, 'r5.xlarge': 4882.0, 'r5a.2xlarge': 7525.4, 'r5a.large': 4609.4, 'r5a.xlarge': 5005.0, 'z1d.2xlarge': 4376.2, 'z1d.large': 3070.4, 'z1d.xlarge': 3649.0}, ('memory', 'nfcore/chipseq:1.2.2', 'MERGED_BAM'): {'r5.2xlarge': 9405.666666666666, 'r5.large': 9127.3, 'r5.xlarge': 9630.0, 'r5a.2xlarge': 11927.1, 'r5a.large': 10880.666666666666, 'r5a.xlarge': 11275.366666666667, 'z1d.2xlarge': 7167.233333333334, 'z1d.large': 7210.266666666666, 'z1d.xlarge': 7389.9}, ('memory', 'nfcore/chipseq:1.2.2', 'MERGED_BAM_FILTER'): {'r5.2xlarge': 3069.866666666667, 'r5.large': 3085.8333333333335, 'r5.xlarge': 3037.5666666666666, 'r5a.2xlarge': 3954.1, 'r5a.large': 3803.0666666666666, 'r5a.xlarge': 3733.8, 'z1d.2xlarge': 2372.1, 'z1d.large': 2401.866666666667, 'z1d.xlarge': 2372.4}, ('memory', 'nfcore/chipseq:1.2.2', 'MERGED_BAM_REMOVE_ORPHAN'): {'r5.2xlarge': 1685.5333333333333, 'r5.large': 1513.9, 'r5.xlarge': 1605.3, 'r5a.2xlarge': 2042.2666666666667, 'r5a.large': 1850.2333333333333, 'r5a.xlarge': 1916.7, 'z1d.2xlarge': 1274.0333333333333, 'z1d.large': 1188.9666666666667, 'z1d.xlarge': 1252.1333333333334}, ('memory', 'nfcore/chipseq:1.2.2', 'MULTIQC'): {'r5.2xlarge': 4943.6, 'r5.large': 5304.4, 'r5.xlarge': 5153.8, 'r5a.2xlarge': 6893.4, 'r5a.large': 7335.4, 'r5a.xlarge': 7096.2, 'z1d.2xlarge': 3786.8, 'z1d.large': 4106.8, 'z1d.xlarge': 4184.6}, ('memory', 'nfcore/chipseq:1.2.2', 'PHANTOMPEAKQUALTOOLS'): {'r5.2xlarge': 6096.3, 'r5.large': 5244.9, 'r5.xlarge': 5829.3, 'r5a.2xlarge': 7612.0, 'r5a.large': 6166.366666666667, 'r5a.xlarge': 6585.333333333333, 'z1d.2xlarge': 4880.6, 'z1d.large': 4177.666666666667, 'z1d.xlarge': 4468.633333333333}, ('memory', 'nfcore/chipseq:1.2.2', 'PICARD_METRICS'): {'r5.2xlarge': 5916.066666666667, 'r5.large': 5404.6, 'r5.xlarge': 5699.733333333334, 'r5a.2xlarge': 8136.9, 'r5a.large': 7048.333333333333, 'r5a.xlarge': 6942.033333333334, 'z1d.2xlarge': 4511.333333333333, 'z1d.large': 4183.433333333333, 'z1d.xlarge': 4286.533333333334}, ('memory', 'nfcore/chipseq:1.2.2', 'PLOTFINGERPRINT'): {'r5.2xlarge': 24180.65, 'r5.large': 18783.7, 'r5.xlarge': 22813.4, 'r5a.2xlarge': 29272.1, 'r5a.large': 22162.0, 'r5a.xlarge': 24675.95, 'z1d.2xlarge': 19631.9, 'z1d.large': 15286.75, 'z1d.xlarge': 18701.4}, ('memory', 'nfcore/chipseq:1.2.2', 'PLOTPROFILE'): {'r5.2xlarge': 158173.0, 'r5.large': 192524.66666666666, 'r5.xlarge': 173592.56666666668, 'r5a.2xlarge': 242041.73333333334, 'r5a.large': 236626.96666666667, 'r5a.xlarge': 273557.2, 'z1d.2xlarge': 127444.6, 'z1d.large': 144409.03333333333, 'z1d.xlarge': 143785.06666666668}, ('memory', 'nfcore/chipseq:1.2.2', 'PRESEQ'): {'r5.2xlarge': 3526.95, 'r5.large': 2985.95, 'r5.xlarge': 3266.6, 'r5a.2xlarge': 5150.75, 'r5a.large': 4462.25, 'r5a.xlarge': 4920.4, 'z1d.2xlarge': 2672.15, 'z1d.large': 2306.7, 'z1d.xlarge': 2548.0}, ('memory', 'nfcore/chipseq:1.2.2', 'TRIMGALORE'): {'r5.2xlarge': 15638.3, 'r5.large': 15609.433333333332, 'r5.xlarge': 16082.733333333334, 'r5a.2xlarge': 21314.166666666668, 'r5a.large': 19972.166666666668, 'r5a.xlarge': 20351.533333333333, 'z1d.2xlarge': 12456.4, 'z1d.large': 12537.1, 'z1d.xlarge': 12423.5}, ('memory', 'nfcore/chipseq:1.2.2', 'get_software_versions'): {'r5.2xlarge': 5004.6, 'r5.large': 5525.2, 'r5.xlarge': 4990.4, 'r5a.2xlarge': 7436.2, 'r5a.large': 6990.0, 'r5a.xlarge': 6671.0, 'z1d.2xlarge': 3676.2, 'z1d.large': 4551.0, 'z1d.xlarge': 4069.6}, ('memory', 'nfcore/eager:2.3.5', 'damageprofiler'): {'r5.2xlarge': 2855.9, 'r5.large': 2665.1, 'r5.xlarge': 2611.8, 'r5a.2xlarge': 4058.4, 'r5a.large': 3433.1, 'r5a.xlarge': 3618.3, 'z1d.2xlarge': 2182.6, 'z1d.large': 2034.4, 'z1d.xlarge': 2076.3}, ('memory', 'nfcore/eager:2.3.5', 'fastqc'): {'r5.2xlarge': 4260.1, 'r5.large': 3846.3, 'r5.xlarge': 4138.3, 'r5a.2xlarge': 5308.9, 'r5a.large': 4751.4, 'r5a.xlarge': 5165.1, 'z1d.2xlarge': 3377.8, 'z1d.large': 3324.9, 'z1d.xlarge': 2836.4}, ('memory', 'nfcore/eager:2.3.5', 'fastqc_after_clipping'): {'r5.2xlarge': 3057.1, 'r5.large': 3033.7, 'r5.xlarge': 3248.0, 'r5a.2xlarge': 3852.8, 'r5a.large': 3979.4, 'r5a.xlarge': 3898.1, 'z1d.2xlarge': 2197.9, 'z1d.large': 2373.3, 'z1d.xlarge': 2194.7}, ('memory', 'nfcore/eager:2.3.5', 'get_software_versions'): {'r5.2xlarge': 9468.0, 'r5.large': 8276.0, 'r5.xlarge': 9207.8, 'r5a.2xlarge': 13463.2, 'r5a.large': 9890.6, 'r5a.xlarge': 11537.2, 'z1d.2xlarge': 7529.0, 'z1d.large': 6483.6, 'z1d.xlarge': 7339.0}, ('memory', 'nfcore/eager:2.3.5', 'makeSeqDict'): {'r5.2xlarge': 1764.8, 'r5.large': 2240.4, 'r5.xlarge': 1785.4, 'r5a.2xlarge': 2453.8, 'r5a.large': 2970.8, 'r5a.xlarge': 2573.8, 'z1d.2xlarge': 1308.0, 'z1d.large': 1761.4, 'z1d.xlarge': 1456.4}, ('memory', 'nfcore/eager:2.3.5', 'markduplicates'): {'r5.2xlarge': 2908.0, 'r5.large': 2213.5, 'r5.xlarge': 2626.3, 'r5a.2xlarge': 3768.7, 'r5a.large': 2331.7, 'r5a.xlarge': 2905.7, 'z1d.2xlarge': 2260.9, 'z1d.large': 1829.3, 'z1d.xlarge': 2049.3}, ('memory', 'nfcore/eager:2.3.5', 'multiqc'): {'r5.2xlarge': 28641.8, 'r5.large': 29525.4, 'r5.xlarge': 29545.8, 'r5a.2xlarge': 36642.0, 'r5a.large': 37755.8, 'r5a.xlarge': 37761.4, 'z1d.2xlarge': 21569.8, 'z1d.large': 22438.0, 'z1d.xlarge': 22616.2}, ('memory', 'nfcore/eager:2.3.5', 'qualimap'): {'r5.2xlarge': 3589.4, 'r5.large': 3196.8, 'r5.xlarge': 3584.7, 'r5a.2xlarge': 4657.3, 'r5a.large': 4036.4, 'r5a.xlarge': 4057.8, 'z1d.2xlarge': 2697.6, 'z1d.large': 2405.5, 'z1d.xlarge': 2621.9}, ('memory', 'nfcore/methylseq:1.6.1', 'bismark_align'): {'r5.2xlarge': 12232.866666666667, 'r5.large': 12930.333333333334, 'r5.xlarge': 12835.333333333334, 'r5a.2xlarge': 15365.333333333334, 'r5a.large': 15743.2, 'r5a.xlarge': 15873.066666666668, 'z1d.2xlarge': 10401.666666666666, 'z1d.large': 11062.933333333332, 'z1d.xlarge': 10772.733333333334}, ('memory', 'nfcore/methylseq:1.6.1', 'bismark_methXtract'): {'r5.2xlarge': 11162.133333333333, 'r5.large': 11171.266666666666, 'r5.xlarge': 11164.4, 'r5a.2xlarge': 11226.0, 'r5a.large': 11220.6, 'r5a.xlarge': 11224.733333333334, 'z1d.2xlarge': 11128.8, 'z1d.large': 11136.666666666666, 'z1d.xlarge': 11128.266666666666}, ('memory', 'nfcore/methylseq:1.6.1', 'bismark_report'): {'r5.2xlarge': 1319.8, 'r5.large': 1403.2666666666667, 'r5.xlarge': 1326.9333333333334, 'r5a.2xlarge': 1255.7333333333333, 'r5a.large': 1347.4666666666667, 'r5a.xlarge': 1311.2666666666667, 'z1d.2xlarge': 1231.5333333333333, 'z1d.large': 1337.3333333333333, 'z1d.xlarge': 1276.2666666666667}, ('memory', 'nfcore/methylseq:1.6.1', 'fastqc'): {'r5.2xlarge': 4224.6, 'r5.large': 4362.6, 'r5.xlarge': 4533.733333333334, 'r5a.2xlarge': 5764.666666666667, 'r5a.large': 5611.933333333333, 'r5a.xlarge': 5641.933333333333, 'z1d.2xlarge': 3322.266666666667, 'z1d.large': 3470.6666666666665, 'z1d.xlarge': 3308.0}, ('memory', 'nfcore/methylseq:1.6.1', 'get_software_versions'): {'r5.2xlarge': 4293.6, 'r5.large': 4657.2, 'r5.xlarge': 4637.0, 'r5a.2xlarge': 6424.8, 'r5a.large': 5912.0, 'r5a.xlarge': 5996.0, 'z1d.2xlarge': 3155.0, 'z1d.large': 3576.6, 'z1d.xlarge': 3173.6}, ('memory', 'nfcore/methylseq:1.6.1', 'makeBismarkIndex'): {'r5.2xlarge': 5357.2, 'r5.large': 5291.2, 'r5.xlarge': 5301.4, 'r5a.2xlarge': 5376.8, 'r5a.large': 5289.6, 'r5a.xlarge': 5355.4, 'z1d.2xlarge': 5284.4, 'z1d.large': 5234.8, 'z1d.xlarge': 5270.4}, ('memory', 'nfcore/methylseq:1.6.1', 'multiqc'): {'r5.2xlarge': 16480.8, 'r5.large': 17327.2, 'r5.xlarge': 16974.2, 'r5a.2xlarge': 20302.2, 'r5a.large': 21229.0, 'r5a.xlarge': 20891.6, 'z1d.2xlarge': 12413.0, 'z1d.large': 13167.2, 'z1d.xlarge': 13069.2}, ('memory', 'nfcore/methylseq:1.6.1', 'qualimap'): {'r5.2xlarge': 1903.9333333333334, 'r5.large': 2570.6666666666665, 'r5.xlarge': 2112.9333333333334, 'r5a.2xlarge': 2717.733333333333, 'r5a.large': 3217.4, 'r5a.xlarge': 2896.8, 'z1d.2xlarge': 1499.3333333333333, 'z1d.large': 1996.2666666666667, 'z1d.xlarge': 1746.2666666666667}, ('memory', 'nfcore/methylseq:1.6.1', 'trim_galore'): {'r5.2xlarge': 5570.133333333333, 'r5.large': 5881.933333333333, 'r5.xlarge': 5790.4, 'r5a.2xlarge': 7742.133333333333, 'r5a.large': 7753.2, 'r5a.xlarge': 7549.0, 'z1d.2xlarge': 4393.266666666666, 'z1d.large': 4510.933333333333, 'z1d.xlarge': 4641.8}, ('memory', 'nfcore/sarek:2.7.1', 'ApplyBQSR'): {'r5.2xlarge': 4703.0, 'r5.large': 4789.466666666666, 'r5.xlarge': 4755.833333333333, 'r5a.2xlarge': 6596.866666666667, 'r5a.large': 5898.883333333333, 'r5a.xlarge': 6128.083333333333, 'z1d.2xlarge': 3772.75, 'z1d.large': 3831.8333333333335, 'z1d.xlarge': 3818.0}, ('memory', 'nfcore/sarek:2.7.1', 'BamQC'): {'r5.2xlarge': 3117.476923076923, 'r5.large': 3246.630769230769, 'r5.xlarge': 3303.523076923077, 'r5a.2xlarge': 4303.738461538462, 'r5a.large': 4369.923076923077, 'r5a.xlarge': 4291.9384615384615, 'z1d.2xlarge': 2385.2153846153847, 'z1d.large': 2498.769230769231, 'z1d.xlarge': 2551.6}, ('memory', 'nfcore/sarek:2.7.1', 'BaseRecalibrator'): {'r5.2xlarge': 8528.45, 'r5.large': 9083.583333333334, 'r5.xlarge': 8954.166666666666, 'r5a.2xlarge': 11913.683333333332, 'r5a.large': 11201.783333333333, 'r5a.xlarge': 11124.333333333334, 'z1d.2xlarge': 6549.45, 'z1d.large': 7146.833333333333, 'z1d.xlarge': 7075.4}, ('memory', 'nfcore/sarek:2.7.1', 'BuildDict'): {'r5.2xlarge': 3381.2, 'r5.large': 3319.6, 'r5.xlarge': 3202.2, 'r5a.2xlarge': 4779.0, 'r5a.large': 3782.6, 'r5a.xlarge': 3899.2, 'z1d.2xlarge': 2580.8, 'z1d.large': 2755.4, 'z1d.xlarge': 2615.0}, ('memory', 'nfcore/sarek:2.7.1', 'FastQCFQ'): {'r5.2xlarge': 6646.8, 'r5.large': 6264.618181818182, 'r5.xlarge': 6545.527272727273, 'r5a.2xlarge': 7529.090909090909, 'r5a.large': 7773.745454545455, 'r5a.xlarge': 7640.418181818181, 'z1d.2xlarge': 5155.345454545454, 'z1d.large': 5337.927272727273, 'z1d.xlarge': 5214.218181818182}, ('memory', 'nfcore/sarek:2.7.1', 'GatherBQSRReports'): {'r5.2xlarge': 5140.6, 'r5.large': 6813.0, 'r5.xlarge': 7142.6, 'r5a.2xlarge': 6749.4, 'r5a.large': 8487.7, 'r5a.xlarge': 8840.8, 'z1d.2xlarge': 3917.3, 'z1d.large': 5426.7, 'z1d.xlarge': 5449.5}, ('memory', 'nfcore/sarek:2.7.1', 'MarkDuplicates'): {'r5.2xlarge': 5163.9, 'r5.large': 6403.5, 'r5.xlarge': 6336.2, 'r5a.2xlarge': 5627.1, 'r5a.large': 6573.9, 'r5a.xlarge': 6335.3, 'z1d.2xlarge': 4125.1, 'z1d.large': 5280.5, 'z1d.xlarge': 5331.8}, ('memory', 'nfcore/sarek:2.7.1', 'MultiQC'): {'r5.2xlarge': 32246.8, 'r5.large': 35364.0, 'r5.xlarge': 36604.0, 'r5a.2xlarge': 45717.0, 'r5a.large': 47181.4, 'r5a.xlarge': 49522.0, 'z1d.2xlarge': 23634.6, 'z1d.large': 27035.8, 'z1d.xlarge': 28001.4}, ('memory', 'nfcore/sarek:2.7.1', 'get_software_versions'): {'r5.2xlarge': 7639.0, 'r5.large': 7196.8, 'r5.xlarge': 7439.4, 'r5a.2xlarge': 10600.4, 'r5a.large': 9087.6, 'r5a.xlarge': 9785.4, 'z1d.2xlarge': 5879.2, 'z1d.large': 5932.4, 'z1d.xlarge': 6291.4}, ('memory', 'nfcore/viralrecon:2.1', 'NFCORE_VIRALRECON:ILLUMINA:ALIGN_BOWTIE2:BOWTIE2_ALIGN'): {'r5.2xlarge': 51666.666666666664, 'r5.large': 54000.0, 'r5.xlarge': 52400.0, 'r5a.2xlarge': 66800.0, 'r5a.large': 60800.0, 'r5a.xlarge': 62400.0, 'z1d.2xlarge': 40866.666666666664, 'z1d.large': 42400.0, 'z1d.xlarge': 41933.333333333336}, ('memory', 'nfcore/viralrecon:2.1', 'NFCORE_VIRALRECON:ILLUMINA:ASSEMBLY_MINIA:ASSEMBLY_QC:QUAST'): {'r5.2xlarge': 6691.8, 'r5.large': 5676.2, 'r5.xlarge': 6217.2, 'r5a.2xlarge': 8370.8, 'r5a.large': 6537.6, 'r5a.xlarge': 7128.8, 'z1d.2xlarge': 5210.0, 'z1d.large': 4391.8, 'z1d.xlarge': 4872.4}, ('memory', 'nfcore/viralrecon:2.1', 'NFCORE_VIRALRECON:ILLUMINA:ASSEMBLY_MINIA:MINIA'): {'r5.2xlarge': 2600.0, 'r5.large': 2466.6666666666665, 'r5.xlarge': 2600.0, 'r5a.2xlarge': 3600.0, 'r5a.large': 2600.0, 'r5a.xlarge': 3266.6666666666665, 'z1d.2xlarge': 2066.6666666666665, 'z1d.large': 1800.0, 'z1d.xlarge': 2066.6666666666665}, ('memory', 'nfcore/viralrecon:2.1', 'NFCORE_VIRALRECON:ILLUMINA:ASSEMBLY_SPADES:ASSEMBLY_QC:QUAST'): {'r5.2xlarge': 8157.0, 'r5.large': 6429.8, 'r5.xlarge': 7113.2, 'r5a.2xlarge': 9663.4, 'r5a.large': 7503.6, 'r5a.xlarge': 8035.4, 'z1d.2xlarge': 6016.2, 'z1d.large': 4961.8, 'z1d.xlarge': 5658.6}, ('memory', 'nfcore/viralrecon:2.1', 'NFCORE_VIRALRECON:ILLUMINA:ASSEMBLY_SPADES:SPADES'): {'r5.2xlarge': 32733.333333333332, 'r5.large': 31266.666666666668, 'r5.xlarge': 33133.333333333336, 'r5a.2xlarge': 38733.333333333336, 'r5a.large': 33866.666666666664, 'r5a.xlarge': 35866.666666666664, 'z1d.2xlarge': 25466.666666666668, 'z1d.large': 24800.0, 'z1d.xlarge': 26800.0}, ('memory', 'nfcore/viralrecon:2.1', 'NFCORE_VIRALRECON:ILLUMINA:ASSEMBLY_UNICYCLER:ASSEMBLY_QC:QUAST'): {'r5.2xlarge': 6222.4, 'r5.large': 5675.6, 'r5.xlarge': 6064.0, 'r5a.2xlarge': 7897.6, 'r5a.large': 6502.2, 'r5a.xlarge': 7237.6, 'z1d.2xlarge': 4537.6, 'z1d.large': 4387.8, 'z1d.xlarge': 4602.8}, ('memory', 'nfcore/viralrecon:2.1', 'NFCORE_VIRALRECON:ILLUMINA:ASSEMBLY_UNICYCLER:UNICYCLER'): {'r5.2xlarge': 145400.0, 'r5.large': 158866.66666666666, 'r5.xlarge': 151200.0, 'r5a.2xlarge': 183466.66666666666, 'r5a.large': 168933.33333333334, 'r5a.xlarge': 176000.0, 'z1d.2xlarge': 115800.0, 'z1d.large': 125200.0, 'z1d.xlarge': 120866.66666666667}, ('memory', 'nfcore/viralrecon:2.1', 'NFCORE_VIRALRECON:ILLUMINA:CUTADAPT'): {'r5.2xlarge': 14333.333333333334, 'r5.large': 14066.666666666666, 'r5.xlarge': 14066.666666666666, 'r5a.2xlarge': 16866.666666666668, 'r5a.large': 15000.0, 'r5a.xlarge': 14733.333333333334, 'z1d.2xlarge': 11000.0, 'z1d.large': 10933.333333333334, 'z1d.xlarge': 10466.666666666666}, ('memory', 'nfcore/viralrecon:2.1', 'NFCORE_VIRALRECON:ILLUMINA:FASTQC'): {'r5.2xlarge': 6600.0, 'r5.large': 6466.666666666667, 'r5.xlarge': 6933.333333333333, 'r5a.2xlarge': 8466.666666666666, 'r5a.large': 7466.666666666667, 'r5a.xlarge': 7866.666666666667, 'z1d.2xlarge': 6000.0, 'z1d.large': 5200.0, 'z1d.xlarge': 5466.666666666667}, ('memory', 'nfcore/viralrecon:2.1', 'NFCORE_VIRALRECON:ILLUMINA:FASTQC_FASTP:FASTP'): {'r5.2xlarge': 5266.666666666667, 'r5.large': 4800.0, 'r5.xlarge': 5200.0, 'r5a.2xlarge': 6400.0, 'r5a.large': 5666.666666666667, 'r5a.xlarge': 6133.333333333333, 'z1d.2xlarge': 4333.333333333333, 'z1d.large': 3800.0, 'z1d.xlarge': 4200.0}, ('memory', 'nfcore/viralrecon:2.1', 'NFCORE_VIRALRECON:ILLUMINA:FASTQC_FASTP:FASTQC_RAW'): {'r5.2xlarge': 6800.0, 'r5.large': 6866.666666666667, 'r5.xlarge': 6733.333333333333, 'r5a.2xlarge': 7666.666666666667, 'r5a.large': 8000.0, 'r5a.xlarge': 7866.666666666667, 'z1d.2xlarge': 5466.666666666667, 'z1d.large': 5533.333333333333, 'z1d.xlarge': 5533.333333333333}, ('memory', 'nfcore/viralrecon:2.1', 'NFCORE_VIRALRECON:ILLUMINA:FASTQC_FASTP:FASTQC_TRIM'): {'r5.2xlarge': 6866.666666666667, 'r5.large': 6400.0, 'r5.xlarge': 6733.333333333333, 'r5a.2xlarge': 8266.666666666666, 'r5a.large': 7733.333333333333, 'r5a.xlarge': 7733.333333333333, 'z1d.2xlarge': 5533.333333333333, 'z1d.large': 5200.0, 'z1d.xlarge': 5733.333333333333}, ('memory', 'nfcore/viralrecon:2.1', 'NFCORE_VIRALRECON:ILLUMINA:KRAKEN2_RUN'): {'r5.2xlarge': 2600.0, 'r5.large': 2800.0, 'r5.xlarge': 2800.0, 'r5a.2xlarge': 3266.6666666666665, 'r5a.large': 2933.3333333333335, 'r5a.xlarge': 2933.3333333333335, 'z1d.2xlarge': 2066.6666666666665, 'z1d.large': 2133.3333333333335, 'z1d.xlarge': 1933.3333333333333}, ('memory', 'nfcore/viralrecon:2.1', 'NFCORE_VIRALRECON:ILLUMINA:MULTIQC'): {'r5.2xlarge': 22304.2, 'r5.large': 22286.4, 'r5.xlarge': 22850.8, 'r5a.2xlarge': 31509.6, 'r5a.large': 31978.8, 'r5a.xlarge': 32412.8, 'z1d.2xlarge': 17092.4, 'z1d.large': 17434.6, 'z1d.xlarge': 17558.0}, ('memory', 'nfcore/viralrecon:2.1', 'NFCORE_VIRALRECON:ILLUMINA:PICARD_COLLECTMULTIPLEMETRICS'): {'r5.2xlarge': 6866.666666666667, 'r5.large': 6200.0, 'r5.xlarge': 6200.0, 'r5a.2xlarge': 8933.333333333334, 'r5a.large': 8000.0, 'r5a.xlarge': 8133.333333333333, 'z1d.2xlarge': 5000.0, 'z1d.large': 4733.333333333333, 'z1d.xlarge': 5066.666666666667}, ('memory', 'nfcore/viralrecon:2.1', 'NFCORE_VIRALRECON:ILLUMINA:PLOT_MOSDEPTH_REGIONS_AMPLICON'): {'r5.2xlarge': 4800.0, 'r5.large': 4600.0, 'r5.xlarge': 5000.0, 'r5a.2xlarge': 7000.0, 'r5a.large': 6000.0, 'r5a.xlarge': 6400.0, 'z1d.2xlarge': 4000.0, 'z1d.large': 3800.0, 'z1d.xlarge': 3800.0}, ('memory', 'nfcore/viralrecon:2.1', 'NFCORE_VIRALRECON:ILLUMINA:PLOT_MOSDEPTH_REGIONS_GENOME'): {'r5.2xlarge': 4000.0, 'r5.large': 3600.0, 'r5.xlarge': 4000.0, 'r5a.2xlarge': 5200.0, 'r5a.large': 4400.0, 'r5a.xlarge': 4600.0, 'z1d.2xlarge': 3000.0, 'z1d.large': 3000.0, 'z1d.xlarge': 3000.0}, ('memory', 'nfcore/viralrecon:2.1', 'NFCORE_VIRALRECON:ILLUMINA:PREPARE_GENOME:SNPEFF_BUILD'): {'r5.2xlarge': 2000.0, 'r5.large': 2200.0, 'r5.xlarge': 2000.0, 'r5a.2xlarge': 2000.0, 'r5a.large': 2800.0, 'r5a.xlarge': 2200.0, 'z1d.2xlarge': 1400.0, 'z1d.large': 2600.0, 'z1d.xlarge': 2000.0}, ('memory', 'nfcore/viralrecon:2.1', 'NFCORE_VIRALRECON:ILLUMINA:PRIMER_TRIM_IVAR:IVAR_TRIM'): {'r5.2xlarge': 2000.0, 'r5.large': 1733.3333333333333, 'r5.xlarge': 2200.0, 'r5a.2xlarge': 2600.0, 'r5a.large': 2266.6666666666665, 'r5a.xlarge': 2466.6666666666665, 'z1d.2xlarge': 1733.3333333333333, 'z1d.large': 1266.6666666666667, 'z1d.xlarge': 1533.3333333333333}, ('memory', 'nfcore/viralrecon:2.1', 'NFCORE_VIRALRECON:ILLUMINA:VARIANTS_BCFTOOLS:ASCIIGENOME'): {'r5.2xlarge': 10400.0, 'r5.large': 12533.333333333334, 'r5.xlarge': 10933.333333333334, 'r5a.2xlarge': 14666.666666666666, 'r5a.large': 15666.666666666666, 'r5a.xlarge': 14000.0, 'z1d.2xlarge': 7733.333333333333, 'z1d.large': 9666.666666666666, 'z1d.xlarge': 7866.666666666667}, ('memory', 'nfcore/viralrecon:2.1', 'NFCORE_VIRALRECON:ILLUMINA:VARIANTS_BCFTOOLS:MAKE_CONSENSUS:PLOT_BASE_DENSITY'): {'r5.2xlarge': 5466.666666666667, 'r5.large': 5000.0, 'r5.xlarge': 5333.333333333333, 'r5a.2xlarge': 7333.333333333333, 'r5a.large': 6000.0, 'r5a.xlarge': 6600.0, 'z1d.2xlarge': 4666.666666666667, 'z1d.large': 4000.0, 'z1d.xlarge': 4666.666666666667}, ('memory', 'nfcore/viralrecon:2.1', 'NFCORE_VIRALRECON:ILLUMINA:VARIANTS_BCFTOOLS:NEXTCLADE'): {'r5.2xlarge': 2333.3333333333335, 'r5.large': 2000.0, 'r5.xlarge': 2266.6666666666665, 'r5a.2xlarge': 3000.0, 'r5a.large': 2933.3333333333335, 'r5a.xlarge': 3000.0, 'z1d.2xlarge': 1800.0, 'z1d.large': 1800.0, 'z1d.xlarge': 1933.3333333333333}, ('memory', 'nfcore/viralrecon:2.1', 'NFCORE_VIRALRECON:ILLUMINA:VARIANTS_BCFTOOLS:PANGOLIN'): {'r5.2xlarge': 8000.0, 'r5.large': 7533.333333333333, 'r5.xlarge': 7866.666666666667, 'r5a.2xlarge': 11066.666666666666, 'r5a.large': 9466.666666666666, 'r5a.xlarge': 9866.666666666666, 'z1d.2xlarge': 6533.333333333333, 'z1d.large': 6000.0, 'z1d.xlarge': 6333.333333333333}, ('memory', 'nfcore/viralrecon:2.1', 'NFCORE_VIRALRECON:ILLUMINA:VARIANTS_BCFTOOLS:QUAST'): {'r5.2xlarge': 5947.4, 'r5.large': 5635.0, 'r5.xlarge': 5897.0, 'r5a.2xlarge': 7317.8, 'r5a.large': 6416.6, 'r5a.xlarge': 6749.0, 'z1d.2xlarge': 4455.0, 'z1d.large': 4315.0, 'z1d.xlarge': 4480.2}, ('memory', 'nfcore/viralrecon:2.1', 'NFCORE_VIRALRECON:ILLUMINA:VARIANTS_BCFTOOLS:SNPEFF_SNPSIFT:SNPEFF_ANN'): {'r5.2xlarge': 3066.6666666666665, 'r5.large': 3400.0, 'r5.xlarge': 3333.3333333333335, 'r5a.2xlarge': 3866.6666666666665, 'r5a.large': 3600.0, 'r5a.xlarge': 3733.3333333333335, 'z1d.2xlarge': 2866.6666666666665, 'z1d.large': 3000.0, 'z1d.xlarge': 2866.6666666666665}, ('memory', 'nfcore/viralrecon:2.1', 'NFCORE_VIRALRECON:ILLUMINA:VARIANTS_IVAR:ASCIIGENOME'): {'r5.2xlarge': 41133.333333333336, 'r5.large': 40733.333333333336, 'r5.xlarge': 42800.0, 'r5a.2xlarge': 54000.0, 'r5a.large': 54266.666666666664, 'r5a.xlarge': 55133.333333333336, 'z1d.2xlarge': 31066.666666666668, 'z1d.large': 31666.666666666668, 'z1d.xlarge': 32133.333333333332}, ('memory', 'nfcore/viralrecon:2.1', 'NFCORE_VIRALRECON:ILLUMINA:VARIANTS_IVAR:IVAR_CONSENSUS'): {'r5.2xlarge': 2666.6666666666665, 'r5.large': 2200.0, 'r5.xlarge': 2600.0, 'r5a.2xlarge': 3266.6666666666665, 'r5a.large': 2933.3333333333335, 'r5a.xlarge': 3133.3333333333335, 'z1d.2xlarge': 2133.3333333333335, 'z1d.large': 1800.0, 'z1d.xlarge': 1733.3333333333333}, ('memory', 'nfcore/viralrecon:2.1', 'NFCORE_VIRALRECON:ILLUMINA:VARIANTS_IVAR:IVAR_VARIANTS'): {'r5.2xlarge': 8266.666666666666, 'r5.large': 6000.0, 'r5.xlarge': 6933.333333333333, 'r5a.2xlarge': 9466.666666666666, 'r5a.large': 8200.0, 'r5a.xlarge': 8866.666666666666, 'z1d.2xlarge': 5800.0, 'z1d.large': 4933.333333333333, 'z1d.xlarge': 5600.0}, ('memory', 'nfcore/viralrecon:2.1', 'NFCORE_VIRALRECON:ILLUMINA:VARIANTS_IVAR:NEXTCLADE'): {'r5.2xlarge': 2133.3333333333335, 'r5.large': 2133.3333333333335, 'r5.xlarge': 2466.6666666666665, 'r5a.2xlarge': 3333.3333333333335, 'r5a.large': 2933.3333333333335, 'r5a.xlarge': 3133.3333333333335, 'z1d.2xlarge': 1733.3333333333333, 'z1d.large': 1666.6666666666667, 'z1d.xlarge': 1800.0}, ('memory', 'nfcore/viralrecon:2.1', 'NFCORE_VIRALRECON:ILLUMINA:VARIANTS_IVAR:PANGOLIN'): {'r5.2xlarge': 8400.0, 'r5.large': 7333.333333333333, 'r5.xlarge': 8000.0, 'r5a.2xlarge': 11933.333333333334, 'r5a.large': 9400.0, 'r5a.xlarge': 10200.0, 'z1d.2xlarge': 6733.333333333333, 'z1d.large': 6066.666666666667, 'z1d.xlarge': 6400.0}, ('memory', 'nfcore/viralrecon:2.1', 'NFCORE_VIRALRECON:ILLUMINA:VARIANTS_IVAR:PLOT_BASE_DENSITY'): {'r5.2xlarge': 6933.333333333333, 'r5.large': 5933.333333333333, 'r5.xlarge': 6600.0, 'r5a.2xlarge': 9400.0, 'r5a.large': 7200.0, 'r5a.xlarge': 8266.666666666666, 'z1d.2xlarge': 5733.333333333333, 'z1d.large': 5066.666666666667, 'z1d.xlarge': 5733.333333333333}, ('memory', 'nfcore/viralrecon:2.1', 'NFCORE_VIRALRECON:ILLUMINA:VARIANTS_IVAR:QUAST'): {'r5.2xlarge': 6292.8, 'r5.large': 5633.8, 'r5.xlarge': 6212.4, 'r5a.2xlarge': 7724.0, 'r5a.large': 6508.8, 'r5a.xlarge': 7030.8, 'z1d.2xlarge': 4715.4, 'z1d.large': 4306.6, 'z1d.xlarge': 4708.2}, ('memory', 'nfcore/viralrecon:2.1', 'NFCORE_VIRALRECON:ILLUMINA:VARIANTS_IVAR:SNPEFF_SNPSIFT:SNPEFF_ANN'): {'r5.2xlarge': 3066.6666666666665, 'r5.large': 3466.6666666666665, 'r5.xlarge': 3333.3333333333335, 'r5a.2xlarge': 3866.6666666666665, 'r5a.large': 3933.3333333333335, 'r5a.xlarge': 3800.0, 'z1d.2xlarge': 3000.0, 'z1d.large': 3133.3333333333335, 'z1d.xlarge': 3066.6666666666665}, ('storage', 'nfcore/chipseq:1.2.2', 'BWA_INDEX'): {'d3.2xlarge': 9294.2, 'd3.xlarge': 7787.8, 'i3.2xlarge': 11576.6, 'i3.large': 10078.6, 'i3.xlarge': 14383.6}, ('storage', 'nfcore/chipseq:1.2.2', 'BWA_MEM'): {'d3.2xlarge': 6000.166666666667, 'd3.xlarge': 5914.1, 'i3.2xlarge': 7328.133333333333, 'i3.large': 8020.2, 'i3.xlarge': 8414.2}, ('storage', 'nfcore/chipseq:1.2.2', 'CONSENSUS_PEAKS'): {'d3.2xlarge': 2169.6, 'd3.xlarge': 1748.8, 'i3.2xlarge': 2959.8, 'i3.large': 2123.2, 'i3.xlarge': 2349.8}, ('storage', 'nfcore/chipseq:1.2.2', 'CONSENSUS_PEAKS_ANNOTATE'): {'d3.2xlarge': 6043.0, 'd3.xlarge': 4854.0, 'i3.2xlarge': 7420.2, 'i3.large': 5029.4, 'i3.xlarge': 6282.6}, ('storage', 'nfcore/chipseq:1.2.2', 'CONSENSUS_PEAKS_DESEQ2'): {'d3.2xlarge': 17482.4, 'd3.xlarge': 13663.2, 'i3.2xlarge': 21961.4, 'i3.large': 17314.2, 'i3.xlarge': 17630.2}, ('storage', 'nfcore/chipseq:1.2.2', 'FASTQC'): {'d3.2xlarge': 8357.866666666667, 'd3.xlarge': 8437.566666666668, 'i3.2xlarge': 10247.033333333333, 'i3.large': 10389.033333333333, 'i3.xlarge': 10963.933333333332}, ('storage', 'nfcore/chipseq:1.2.2', 'MACS2'): {'d3.2xlarge': 3384.05, 'd3.xlarge': 2515.2, 'i3.2xlarge': 4270.4, 'i3.large': 2954.3, 'i3.xlarge': 2995.05}, ('storage', 'nfcore/chipseq:1.2.2', 'MACS2_ANNOTATE'): {'d3.2xlarge': 5947.65, 'd3.xlarge': 4954.35, 'i3.2xlarge': 7139.95, 'i3.large': 4958.4, 'i3.xlarge': 6200.95}, ('storage', 'nfcore/chipseq:1.2.2', 'MACS2_QC'): {'d3.2xlarge': 5496.2, 'd3.xlarge': 4038.0, 'i3.2xlarge': 7285.6, 'i3.large': 4986.8, 'i3.xlarge': 6032.6}, ('storage', 'nfcore/chipseq:1.2.2', 'MERGED_BAM'): {'d3.2xlarge': 9094.8, 'd3.xlarge': 9094.466666666667, 'i3.2xlarge': 11973.7, 'i3.large': 12059.933333333332, 'i3.xlarge': 12463.566666666668}, ('storage', 'nfcore/chipseq:1.2.2', 'MERGED_BAM_FILTER'): {'d3.2xlarge': 3006.0333333333333, 'd3.xlarge': 2908.9, 'i3.2xlarge': 3661.0333333333333, 'i3.large': 3650.1, 'i3.xlarge': 3627.4666666666667}, ('storage', 'nfcore/chipseq:1.2.2', 'MERGED_BAM_REMOVE_ORPHAN'): {'d3.2xlarge': 1664.5333333333333, 'd3.xlarge': 1527.1666666666667, 'i3.2xlarge': 2134.0666666666666, 'i3.large': 1907.3666666666666, 'i3.xlarge': 2029.0}, ('storage', 'nfcore/chipseq:1.2.2', 'MULTIQC'): {'d3.2xlarge': 4902.2, 'd3.xlarge': 4921.0, 'i3.2xlarge': 6044.2, 'i3.large': 6851.6, 'i3.xlarge': 6854.4}, ('storage', 'nfcore/chipseq:1.2.2', 'PHANTOMPEAKQUALTOOLS'): {'d3.2xlarge': 6084.866666666667, 'd3.xlarge': 5397.2, 'i3.2xlarge': 7529.866666666667, 'i3.large': 6393.633333333333, 'i3.xlarge': 6844.566666666667}, ('storage', 'nfcore/chipseq:1.2.2', 'PICARD_METRICS'): {'d3.2xlarge': 5728.766666666666, 'd3.xlarge': 5131.266666666666, 'i3.2xlarge': 7964.5, 'i3.large': 7593.533333333334, 'i3.xlarge': 7541.766666666666}, ('storage', 'nfcore/chipseq:1.2.2', 'PLOTFINGERPRINT'): {'d3.2xlarge': 24793.3, 'd3.xlarge': 21351.15, 'i3.2xlarge': 30728.15, 'i3.large': 21651.05, 'i3.xlarge': 26043.0}, ('storage', 'nfcore/chipseq:1.2.2', 'PLOTPROFILE'): {'d3.2xlarge': 153100.7, 'd3.xlarge': 169427.7, 'i3.2xlarge': 233005.46666666667, 'i3.large': 242187.8, 'i3.xlarge': 268970.43333333335}, ('storage', 'nfcore/chipseq:1.2.2', 'PRESEQ'): {'d3.2xlarge': 3439.5, 'd3.xlarge': 3264.9, 'i3.2xlarge': 4235.35, 'i3.large': 3389.2, 'i3.xlarge': 3987.25}, ('storage', 'nfcore/chipseq:1.2.2', 'TRIMGALORE'): {'d3.2xlarge': 15254.166666666666, 'd3.xlarge': 15178.566666666668, 'i3.2xlarge': 18980.2, 'i3.large': 19383.266666666666, 'i3.xlarge': 19834.533333333333}, ('storage', 'nfcore/chipseq:1.2.2', 'get_software_versions'): {'d3.2xlarge': 4674.2, 'd3.xlarge': 4615.2, 'i3.2xlarge': 6485.6, 'i3.large': 7343.6, 'i3.xlarge': 6723.0}, ('storage', 'nfcore/eager:2.3.5', 'damageprofiler'): {'d3.2xlarge': 2954.0, 'd3.xlarge': 2485.3, 'i3.2xlarge': 3959.6, 'i3.large': 3856.3, 'i3.xlarge': 3922.3}, ('storage', 'nfcore/eager:2.3.5', 'fastqc'): {'d3.2xlarge': 4456.9, 'd3.xlarge': 3684.8, 'i3.2xlarge': 5502.3, 'i3.large': 5099.1, 'i3.xlarge': 5585.0}, ('storage', 'nfcore/eager:2.3.5', 'fastqc_after_clipping'): {'d3.2xlarge': 3127.9, 'd3.xlarge': 3137.0, 'i3.2xlarge': 3864.5, 'i3.large': 4046.0, 'i3.xlarge': 4299.6}, ('storage', 'nfcore/eager:2.3.5', 'get_software_versions'): {'d3.2xlarge': 9441.6, 'd3.xlarge': 8678.2, 'i3.2xlarge': 12913.0, 'i3.large': 11230.0, 'i3.xlarge': 13502.4}, ('storage', 'nfcore/eager:2.3.5', 'makeSeqDict'): {'d3.2xlarge': 1684.4, 'd3.xlarge': 1755.2, 'i3.2xlarge': 2428.2, 'i3.large': 3403.4, 'i3.xlarge': 2881.8}, ('storage', 'nfcore/eager:2.3.5', 'markduplicates'): {'d3.2xlarge': 2781.3, 'd3.xlarge': 2585.7, 'i3.2xlarge': 3854.0, 'i3.large': 2924.5, 'i3.xlarge': 3520.9}, ('storage', 'nfcore/eager:2.3.5', 'multiqc'): {'d3.2xlarge': 27040.8, 'd3.xlarge': 27124.2, 'i3.2xlarge': 35157.6, 'i3.large': 37929.0, 'i3.xlarge': 37682.6}, ('storage', 'nfcore/eager:2.3.5', 'qualimap'): {'d3.2xlarge': 3583.2, 'd3.xlarge': 3250.0, 'i3.2xlarge': 4658.0, 'i3.large': 4131.6, 'i3.xlarge': 4481.2}, ('storage', 'nfcore/methylseq:1.6.1', 'bismark_align'): {'d3.2xlarge': 12098.133333333333, 'd3.xlarge': 12551.6, 'i3.2xlarge': 15278.933333333332, 'i3.large': 16482.0, 'i3.xlarge': 16432.466666666667}, ('storage', 'nfcore/methylseq:1.6.1', 'bismark_methXtract'): {'d3.2xlarge': 11156.133333333333, 'd3.xlarge': 11158.466666666667, 'i3.2xlarge': 11211.866666666667, 'i3.large': 11231.8, 'i3.xlarge': 11230.533333333333}, ('storage', 'nfcore/methylseq:1.6.1', 'bismark_report'): {'d3.2xlarge': 1293.5333333333333, 'd3.xlarge': 1309.8, 'i3.2xlarge': 1341.8666666666666, 'i3.large': 1501.4, 'i3.xlarge': 1395.8}, ('storage', 'nfcore/methylseq:1.6.1', 'fastqc'): {'d3.2xlarge': 4261.4, 'd3.xlarge': 4312.4, 'i3.2xlarge': 5460.333333333333, 'i3.large': 5483.133333333333, 'i3.xlarge': 5409.866666666667}, ('storage', 'nfcore/methylseq:1.6.1', 'get_software_versions'): {'d3.2xlarge': 4167.6, 'd3.xlarge': 4294.4, 'i3.2xlarge': 5814.0, 'i3.large': 6384.6, 'i3.xlarge': 6587.4}, ('storage', 'nfcore/methylseq:1.6.1', 'makeBismarkIndex'): {'d3.2xlarge': 5340.0, 'd3.xlarge': 5287.6, 'i3.2xlarge': 5416.6, 'i3.large': 5354.8, 'i3.xlarge': 5369.0}, ('storage', 'nfcore/methylseq:1.6.1', 'multiqc'): {'d3.2xlarge': 15496.2, 'd3.xlarge': 15366.2, 'i3.2xlarge': 20311.4, 'i3.large': 21968.4, 'i3.xlarge': 22126.8}, ('storage', 'nfcore/methylseq:1.6.1', 'qualimap'): {'d3.2xlarge': 1903.6, 'd3.xlarge': 1983.7333333333333, 'i3.2xlarge': 2509.8, 'i3.large': 3315.866666666667, 'i3.xlarge': 2916.6}, ('storage', 'nfcore/methylseq:1.6.1', 'trim_galore'): {'d3.2xlarge': 5638.466666666666, 'd3.xlarge': 5656.666666666667, 'i3.2xlarge': 6740.533333333334, 'i3.large': 7672.666666666667, 'i3.xlarge': 7637.333333333333}, ('storage', 'nfcore/sarek:2.7.1', 'ApplyBQSR'): {'d3.2xlarge': 4643.766666666666, 'd3.xlarge': 4541.066666666667, 'i3.2xlarge': 6510.266666666666, 'i3.large': 6602.65, 'i3.xlarge': 6785.133333333333}, ('storage', 'nfcore/sarek:2.7.1', 'BamQC'): {'d3.2xlarge': 3092.0153846153844, 'd3.xlarge': 3195.353846153846, 'i3.2xlarge': 4107.3538461538465, 'i3.large': 4335.276923076923, 'i3.xlarge': 4352.707692307692}, ('storage', 'nfcore/sarek:2.7.1', 'BaseRecalibrator'): {'d3.2xlarge': 8347.416666666666, 'd3.xlarge': 8504.816666666668, 'i3.2xlarge': 11701.733333333334, 'i3.large': 12808.483333333334, 'i3.xlarge': 12608.033333333333}, ('storage', 'nfcore/sarek:2.7.1', 'BuildDict'): {'d3.2xlarge': 3357.6, 'd3.xlarge': 2861.4, 'i3.2xlarge': 4659.4, 'i3.large': 4527.8, 'i3.xlarge': 4554.2}, ('storage', 'nfcore/sarek:2.7.1', 'FastQCFQ'): {'d3.2xlarge': 6261.836363636364, 'd3.xlarge': 6400.509090909091, 'i3.2xlarge': 7677.109090909091, 'i3.large': 7682.090909090909, 'i3.xlarge': 7841.381818181818}, ('storage', 'nfcore/sarek:2.7.1', 'GatherBQSRReports'): {'d3.2xlarge': 5043.3, 'd3.xlarge': 6730.7, 'i3.2xlarge': 6636.0, 'i3.large': 9833.5, 'i3.xlarge': 9785.5}, ('storage', 'nfcore/sarek:2.7.1', 'MarkDuplicates'): {'d3.2xlarge': 5063.6, 'd3.xlarge': 6033.5, 'i3.2xlarge': 6442.9, 'i3.large': 8072.4, 'i3.xlarge': 8274.2}, ('storage', 'nfcore/sarek:2.7.1', 'MultiQC'): {'d3.2xlarge': 31011.2, 'd3.xlarge': 35585.2, 'i3.2xlarge': 38836.2, 'i3.large': 43938.4, 'i3.xlarge': 44771.8}, ('storage', 'nfcore/sarek:2.7.1', 'get_software_versions'): {'d3.2xlarge': 7519.6, 'd3.xlarge': 7123.0, 'i3.2xlarge': 10181.6, 'i3.large': 9672.0, 'i3.xlarge': 10682.8}, ('storage', 'nfcore/viralrecon:2.1', 'NFCORE_VIRALRECON:ILLUMINA:ALIGN_BOWTIE2:BOWTIE2_ALIGN'): {'d3.2xlarge': 50200.0, 'd3.xlarge': 49600.0, 'i3.2xlarge': 60466.666666666664, 'i3.large': 62466.666666666664, 'i3.xlarge': 64133.333333333336}, ('storage', 'nfcore/viralrecon:2.1', 'NFCORE_VIRALRECON:ILLUMINA:ASSEMBLY_MINIA:ASSEMBLY_QC:QUAST'): {'d3.2xlarge': 6665.0, 'd3.xlarge': 6123.8, 'i3.2xlarge': 8587.8, 'i3.large': 7270.2, 'i3.xlarge': 8402.6}, ('storage', 'nfcore/viralrecon:2.1', 'NFCORE_VIRALRECON:ILLUMINA:ASSEMBLY_MINIA:MINIA'): {'d3.2xlarge': 2666.6666666666665, 'd3.xlarge': 2400.0, 'i3.2xlarge': 3200.0, 'i3.large': 2933.3333333333335, 'i3.xlarge': 3400.0}, ('storage', 'nfcore/viralrecon:2.1', 'NFCORE_VIRALRECON:ILLUMINA:ASSEMBLY_SPADES:ASSEMBLY_QC:QUAST'): {'d3.2xlarge': 7281.2, 'd3.xlarge': 6414.0, 'i3.2xlarge': 10250.6, 'i3.large': 8314.0, 'i3.xlarge': 9568.4}, ('storage', 'nfcore/viralrecon:2.1', 'NFCORE_VIRALRECON:ILLUMINA:ASSEMBLY_SPADES:SPADES'): {'d3.2xlarge': 33266.666666666664, 'd3.xlarge': 29866.666666666668, 'i3.2xlarge': 40733.333333333336, 'i3.large': 38600.0, 'i3.xlarge': 43000.0}, ('storage', 'nfcore/viralrecon:2.1', 'NFCORE_VIRALRECON:ILLUMINA:ASSEMBLY_UNICYCLER:ASSEMBLY_QC:QUAST'): {'d3.2xlarge': 5782.4, 'd3.xlarge': 5431.0, 'i3.2xlarge': 8069.0, 'i3.large': 7296.0, 'i3.xlarge': 8085.8}, ('storage', 'nfcore/viralrecon:2.1', 'NFCORE_VIRALRECON:ILLUMINA:ASSEMBLY_UNICYCLER:UNICYCLER'): {'d3.2xlarge': 143333.33333333334, 'd3.xlarge': 144200.0, 'i3.2xlarge': 175200.0, 'i3.large': 191066.66666666666, 'i3.xlarge': 189066.66666666666}, ('storage', 'nfcore/viralrecon:2.1', 'NFCORE_VIRALRECON:ILLUMINA:CUTADAPT'): {'d3.2xlarge': 14333.333333333334, 'd3.xlarge': 13333.333333333334, 'i3.2xlarge': 16866.666666666668, 'i3.large': 16600.0, 'i3.xlarge': 15933.333333333334}, ('storage', 'nfcore/viralrecon:2.1', 'NFCORE_VIRALRECON:ILLUMINA:FASTQC'): {'d3.2xlarge': 6666.666666666667, 'd3.xlarge': 6666.666666666667, 'i3.2xlarge': 8000.0, 'i3.large': 8333.333333333334, 'i3.xlarge': 8666.666666666666}, ('storage', 'nfcore/viralrecon:2.1', 'NFCORE_VIRALRECON:ILLUMINA:FASTQC_FASTP:FASTP'): {'d3.2xlarge': 5333.333333333333, 'd3.xlarge': 5200.0, 'i3.2xlarge': 6400.0, 'i3.large': 5533.333333333333, 'i3.xlarge': 5866.666666666667}, ('storage', 'nfcore/viralrecon:2.1', 'NFCORE_VIRALRECON:ILLUMINA:FASTQC_FASTP:FASTQC_RAW'): {'d3.2xlarge': 6666.666666666667, 'd3.xlarge': 6400.0, 'i3.2xlarge': 7800.0, 'i3.large': 8533.333333333334, 'i3.xlarge': 8933.333333333334}, ('storage', 'nfcore/viralrecon:2.1', 'NFCORE_VIRALRECON:ILLUMINA:FASTQC_FASTP:FASTQC_TRIM'): {'d3.2xlarge': 6800.0, 'd3.xlarge': 6333.333333333333, 'i3.2xlarge': 8000.0, 'i3.large': 8266.666666666666, 'i3.xlarge': 8400.0}, ('storage', 'nfcore/viralrecon:2.1', 'NFCORE_VIRALRECON:ILLUMINA:KRAKEN2_RUN'): {'d3.2xlarge': 2533.3333333333335, 'd3.xlarge': 2600.0, 'i3.2xlarge': 3000.0, 'i3.large': 3000.0, 'i3.xlarge': 3200.0}, ('storage', 'nfcore/viralrecon:2.1', 'NFCORE_VIRALRECON:ILLUMINA:MULTIQC'): {'d3.2xlarge': 21314.0, 'd3.xlarge': 21515.0, 'i3.2xlarge': 27865.2, 'i3.large': 29702.2, 'i3.xlarge': 29877.6}, ('storage', 'nfcore/viralrecon:2.1', 'NFCORE_VIRALRECON:ILLUMINA:PICARD_COLLECTMULTIPLEMETRICS'): {'d3.2xlarge': 6533.333333333333, 'd3.xlarge': 6066.666666666667, 'i3.2xlarge': 9066.666666666666, 'i3.large': 8933.333333333334, 'i3.xlarge': 8733.333333333334}, ('storage', 'nfcore/viralrecon:2.1', 'NFCORE_VIRALRECON:ILLUMINA:PLOT_MOSDEPTH_REGIONS_AMPLICON'): {'d3.2xlarge': 5000.0, 'd3.xlarge': 4600.0, 'i3.2xlarge': 7000.0, 'i3.large': 6000.0, 'i3.xlarge': 6600.0}, ('storage', 'nfcore/viralrecon:2.1', 'NFCORE_VIRALRECON:ILLUMINA:PLOT_MOSDEPTH_REGIONS_GENOME'): {'d3.2xlarge': 4200.0, 'd3.xlarge': 3600.0, 'i3.2xlarge': 5400.0, 'i3.large': 4600.0, 'i3.xlarge': 5000.0}, ('storage', 'nfcore/viralrecon:2.1', 'NFCORE_VIRALRECON:ILLUMINA:PREPARE_GENOME:SNPEFF_BUILD'): {'d3.2xlarge': 2000.0, 'd3.xlarge': 2400.0, 'i3.2xlarge': 2000.0, 'i3.large': 2400.0, 'i3.xlarge': 2400.0}, ('storage', 'nfcore/viralrecon:2.1', 'NFCORE_VIRALRECON:ILLUMINA:PRIMER_TRIM_IVAR:IVAR_TRIM'): {'d3.2xlarge': 2066.6666666666665, 'd3.xlarge': 1666.6666666666667, 'i3.2xlarge': 2533.3333333333335, 'i3.large': 2000.0, 'i3.xlarge': 2266.6666666666665}, ('storage', 'nfcore/viralrecon:2.1', 'NFCORE_VIRALRECON:ILLUMINA:VARIANTS_BCFTOOLS:ASCIIGENOME'): {'d3.2xlarge': 10066.666666666666, 'd3.xlarge': 9800.0, 'i3.2xlarge': 13666.666666666666, 'i3.large': 16066.666666666666, 'i3.xlarge': 14133.333333333334}, ('storage', 'nfcore/viralrecon:2.1', 'NFCORE_VIRALRECON:ILLUMINA:VARIANTS_BCFTOOLS:MAKE_CONSENSUS:PLOT_BASE_DENSITY'): {'d3.2xlarge': 5600.0, 'd3.xlarge': 5000.0, 'i3.2xlarge': 6866.666666666667, 'i3.large': 6266.666666666667, 'i3.xlarge': 7000.0}, ('storage', 'nfcore/viralrecon:2.1', 'NFCORE_VIRALRECON:ILLUMINA:VARIANTS_BCFTOOLS:NEXTCLADE'): {'d3.2xlarge': 2200.0, 'd3.xlarge': 2133.3333333333335, 'i3.2xlarge': 2933.3333333333335, 'i3.large': 2800.0, 'i3.xlarge': 3200.0}, ('storage', 'nfcore/viralrecon:2.1', 'NFCORE_VIRALRECON:ILLUMINA:VARIANTS_BCFTOOLS:PANGOLIN'): {'d3.2xlarge': 8200.0, 'd3.xlarge': 7200.0, 'i3.2xlarge': 10333.333333333334, 'i3.large': 9866.666666666666, 'i3.xlarge': 10400.0}, ('storage', 'nfcore/viralrecon:2.1', 'NFCORE_VIRALRECON:ILLUMINA:VARIANTS_BCFTOOLS:QUAST'): {'d3.2xlarge': 5448.4, 'd3.xlarge': 5190.6, 'i3.2xlarge': 7255.2, 'i3.large': 7210.6, 'i3.xlarge': 7621.2}, ('storage', 'nfcore/viralrecon:2.1', 'NFCORE_VIRALRECON:ILLUMINA:VARIANTS_BCFTOOLS:SNPEFF_SNPSIFT:SNPEFF_ANN'): {'d3.2xlarge': 3133.3333333333335, 'd3.xlarge': 3333.3333333333335, 'i3.2xlarge': 3333.3333333333335, 'i3.large': 3666.6666666666665, 'i3.xlarge': 3933.3333333333335}, ('storage', 'nfcore/viralrecon:2.1', 'NFCORE_VIRALRECON:ILLUMINA:VARIANTS_IVAR:ASCIIGENOME'): {'d3.2xlarge': 38666.666666666664, 'd3.xlarge': 40933.333333333336, 'i3.2xlarge': 48666.666666666664, 'i3.large': 50666.666666666664, 'i3.xlarge': 53400.0}, ('storage', 'nfcore/viralrecon:2.1', 'NFCORE_VIRALRECON:ILLUMINA:VARIANTS_IVAR:IVAR_CONSENSUS'): {'d3.2xlarge': 2733.3333333333335, 'd3.xlarge': 2066.6666666666665, 'i3.2xlarge': 3600.0, 'i3.large': 2800.0, 'i3.xlarge': 3066.6666666666665}, ('storage', 'nfcore/viralrecon:2.1', 'NFCORE_VIRALRECON:ILLUMINA:VARIANTS_IVAR:IVAR_VARIANTS'): {'d3.2xlarge': 7333.333333333333, 'd3.xlarge': 6800.0, 'i3.2xlarge': 8800.0, 'i3.large': 7466.666666666667, 'i3.xlarge': 8733.333333333334}, ('storage', 'nfcore/viralrecon:2.1', 'NFCORE_VIRALRECON:ILLUMINA:VARIANTS_IVAR:NEXTCLADE'): {'d3.2xlarge': 2466.6666666666665, 'd3.xlarge': 2133.3333333333335, 'i3.2xlarge': 3133.3333333333335, 'i3.large': 2866.6666666666665, 'i3.xlarge': 3066.6666666666665}, ('storage', 'nfcore/viralrecon:2.1', 'NFCORE_VIRALRECON:ILLUMINA:VARIANTS_IVAR:PANGOLIN'): {'d3.2xlarge': 8333.333333333334, 'd3.xlarge': 7600.0, 'i3.2xlarge': 10666.666666666666, 'i3.large': 9666.666666666666, 'i3.xlarge': 10533.333333333334}, ('storage', 'nfcore/viralrecon:2.1', 'NFCORE_VIRALRECON:ILLUMINA:VARIANTS_IVAR:PLOT_BASE_DENSITY'): {'d3.2xlarge': 7133.333333333333, 'd3.xlarge': 6466.666666666667, 'i3.2xlarge': 8733.333333333334, 'i3.large': 7666.666666666667, 'i3.xlarge': 8400.0}, ('storage', 'nfcore/viralrecon:2.1', 'NFCORE_VIRALRECON:ILLUMINA:VARIANTS_IVAR:QUAST'): {'d3.2xlarge': 5746.4, 'd3.xlarge': 5341.4, 'i3.2xlarge': 7663.0, 'i3.large': 7233.8, 'i3.xlarge': 7887.8}, ('storage', 'nfcore/viralrecon:2.1', 'NFCORE_VIRALRECON:ILLUMINA:VARIANTS_IVAR:SNPEFF_SNPSIFT:SNPEFF_ANN'): {'d3.2xlarge': 3133.3333333333335, 'd3.xlarge': 3266.6666666666665, 'i3.2xlarge': 3800.0, 'i3.large': 3933.3333333333335, 'i3.xlarge': 3933.3333333333335}}\n"
     ]
    }
   ],
   "source": [
    "print(groupNodePerformances)"
   ],
   "metadata": {
    "collapsed": false
   }
  },
  {
   "cell_type": "code",
   "execution_count": 142,
   "outputs": [],
   "source": [
    "groupNodeRankings = pds.DataFrame(\n",
    "    data={\"wfName\": dF.wfName, \"taskName\": dF.taskName, **{nn: [0]*len(dF) for nn in nodeOrder}})  #columns=[\"wfName\", \"taskName\", *nodeOrder])\n"
   ],
   "metadata": {
    "collapsed": false
   }
  },
  {
   "cell_type": "code",
   "execution_count": 144,
   "outputs": [
    {
     "name": "stdout",
     "output_type": "stream",
     "text": [
      "                      wfName  \\\n",
      "0       nfcore/chipseq:1.2.2   \n",
      "1       nfcore/chipseq:1.2.2   \n",
      "2       nfcore/chipseq:1.2.2   \n",
      "3       nfcore/chipseq:1.2.2   \n",
      "4       nfcore/chipseq:1.2.2   \n",
      "...                      ...   \n",
      "33340  nfcore/viralrecon:2.1   \n",
      "33341  nfcore/viralrecon:2.1   \n",
      "33342  nfcore/viralrecon:2.1   \n",
      "33343  nfcore/viralrecon:2.1   \n",
      "33344  nfcore/viralrecon:2.1   \n",
      "\n",
      "                                                taskName  m5zn.2xlarge  \\\n",
      "0                                  get_software_versions             0   \n",
      "1                                  get_software_versions             0   \n",
      "2                                              BWA_INDEX             0   \n",
      "3                                                 FASTQC             0   \n",
      "4                                              BWA_INDEX             0   \n",
      "...                                                  ...           ...   \n",
      "33340  NFCORE_VIRALRECON:ILLUMINA:VARIANTS_BCFTOOLS:P...             0   \n",
      "33341  NFCORE_VIRALRECON:ILLUMINA:VARIANTS_BCFTOOLS:N...             0   \n",
      "33342  NFCORE_VIRALRECON:ILLUMINA:VARIANTS_BCFTOOLS:M...             0   \n",
      "33343  NFCORE_VIRALRECON:ILLUMINA:VARIANTS_BCFTOOLS:Q...             0   \n",
      "33344                 NFCORE_VIRALRECON:ILLUMINA:MULTIQC             0   \n",
      "\n",
      "       m5.2xlarge  m5a.2xlarge  m5.xlarge  m5.large  c5.2xlarge  r5.2xlarge  \\\n",
      "0               0            0          0         0           0           0   \n",
      "1               0            0          0         0           0           0   \n",
      "2               0            0          0         0           0           0   \n",
      "3               0            0          0         0           0           0   \n",
      "4               0            0          0         0           0           0   \n",
      "...           ...          ...        ...       ...         ...         ...   \n",
      "33340           0            0          0         0           0           0   \n",
      "33341           0            0          0         0           0           0   \n",
      "33342           0            0          0         0           0           0   \n",
      "33343           0            0          0         0           0           0   \n",
      "33344           0            0          0         0           0           0   \n",
      "\n",
      "       c5a.2xlarge  ...  r5.xlarge  c5a.xlarge  c5.xlarge  r5a.xlarge  \\\n",
      "0                0  ...          0           0          0           0   \n",
      "1                0  ...          0           0          0           0   \n",
      "2                0  ...          0           0          0           0   \n",
      "3                0  ...          0           0          0           0   \n",
      "4                0  ...          0           0          0           0   \n",
      "...            ...  ...        ...         ...        ...         ...   \n",
      "33340            0  ...          0           0          0           0   \n",
      "33341            0  ...          0           0          0           0   \n",
      "33342            0  ...          0           0          0           0   \n",
      "33343            0  ...          0           0          0           0   \n",
      "33344            0  ...          0           0          0           0   \n",
      "\n",
      "       z1d.xlarge  z1d.large  r5.large  i3.xlarge  r5a.large  i3.large  \n",
      "0               0          0         0          0          0         0  \n",
      "1               0          0         0          0          0         0  \n",
      "2               0          0         0          0          0         0  \n",
      "3               0          0         0          0          0         0  \n",
      "4               0          0         0          0          0         0  \n",
      "...           ...        ...       ...        ...        ...       ...  \n",
      "33340           0          0         0          0          0         0  \n",
      "33341           0          0         0          0          0         0  \n",
      "33342           0          0         0          0          0         0  \n",
      "33343           0          0         0          0          0         0  \n",
      "33344           0          0         0          0          0         0  \n",
      "\n",
      "[33345 rows x 29 columns]\n"
     ]
    }
   ],
   "source": [
    "print(groupNodeRankings)"
   ],
   "metadata": {
    "collapsed": false
   }
  },
  {
   "cell_type": "code",
   "execution_count": null,
   "outputs": [],
   "source": [
    "for k, v in groupNodePerformances.items():\n",
    "    ng, wfn, tn = k\n",
    "    vk = v.keys()\n",
    "    performances = v.values()\n",
    "    ranks = rankdata(performances, method=\"min\")\n",
    "    groupNodeRankings.loc\n"
   ],
   "metadata": {
    "collapsed": false
   }
  },
  {
   "cell_type": "code",
   "execution_count": 143,
   "outputs": [
    {
     "name": "stdout",
     "output_type": "stream",
     "text": [
      "                      wfName  \\\n",
      "0       nfcore/chipseq:1.2.2   \n",
      "1       nfcore/chipseq:1.2.2   \n",
      "2       nfcore/chipseq:1.2.2   \n",
      "3       nfcore/chipseq:1.2.2   \n",
      "4       nfcore/chipseq:1.2.2   \n",
      "...                      ...   \n",
      "33340  nfcore/viralrecon:2.1   \n",
      "33341  nfcore/viralrecon:2.1   \n",
      "33342  nfcore/viralrecon:2.1   \n",
      "33343  nfcore/viralrecon:2.1   \n",
      "33344  nfcore/viralrecon:2.1   \n",
      "\n",
      "                                                taskName  m5zn.2xlarge  \\\n",
      "0                                  get_software_versions             0   \n",
      "1                                  get_software_versions             0   \n",
      "2                                              BWA_INDEX             0   \n",
      "3                                                 FASTQC             0   \n",
      "4                                              BWA_INDEX             0   \n",
      "...                                                  ...           ...   \n",
      "33340  NFCORE_VIRALRECON:ILLUMINA:VARIANTS_BCFTOOLS:P...             0   \n",
      "33341  NFCORE_VIRALRECON:ILLUMINA:VARIANTS_BCFTOOLS:N...             0   \n",
      "33342  NFCORE_VIRALRECON:ILLUMINA:VARIANTS_BCFTOOLS:M...             0   \n",
      "33343  NFCORE_VIRALRECON:ILLUMINA:VARIANTS_BCFTOOLS:Q...             0   \n",
      "33344                 NFCORE_VIRALRECON:ILLUMINA:MULTIQC             0   \n",
      "\n",
      "       m5.2xlarge  m5a.2xlarge  m5.xlarge  m5.large  c5.2xlarge  r5.2xlarge  \\\n",
      "0               0            0          0         0           0           0   \n",
      "1               0            0          0         0           0           0   \n",
      "2               0            0          0         0           0           0   \n",
      "3               0            0          0         0           0           0   \n",
      "4               0            0          0         0           0           0   \n",
      "...           ...          ...        ...       ...         ...         ...   \n",
      "33340           0            0          0         0           0           0   \n",
      "33341           0            0          0         0           0           0   \n",
      "33342           0            0          0         0           0           0   \n",
      "33343           0            0          0         0           0           0   \n",
      "33344           0            0          0         0           0           0   \n",
      "\n",
      "       c5a.2xlarge  ...  r5.xlarge  c5a.xlarge  c5.xlarge  r5a.xlarge  \\\n",
      "0                0  ...          0           0          0           0   \n",
      "1                0  ...          0           0          0           0   \n",
      "2                0  ...          0           0          0           0   \n",
      "3                0  ...          0           0          0           0   \n",
      "4                0  ...          0           0          0           0   \n",
      "...            ...  ...        ...         ...        ...         ...   \n",
      "33340            0  ...          0           0          0           0   \n",
      "33341            0  ...          0           0          0           0   \n",
      "33342            0  ...          0           0          0           0   \n",
      "33343            0  ...          0           0          0           0   \n",
      "33344            0  ...          0           0          0           0   \n",
      "\n",
      "       z1d.xlarge  z1d.large  r5.large  i3.xlarge  r5a.large  i3.large  \n",
      "0               0          0         0          0          0         0  \n",
      "1               0          0         0          0          0         0  \n",
      "2               0          0         0          0          0         0  \n",
      "3               0          0         0          0          0         0  \n",
      "4               0          0         0          0          0         0  \n",
      "...           ...        ...       ...        ...        ...       ...  \n",
      "33340           0          0         0          0          0         0  \n",
      "33341           0          0         0          0          0         0  \n",
      "33342           0          0         0          0          0         0  \n",
      "33343           0          0         0          0          0         0  \n",
      "33344           0          0         0          0          0         0  \n",
      "\n",
      "[33345 rows x 29 columns]\n"
     ]
    }
   ],
   "source": [
    "print(groupNodeRankings)"
   ],
   "metadata": {
    "collapsed": false
   }
  },
  {
   "cell_type": "code",
   "execution_count": null,
   "outputs": [],
   "source": [],
   "metadata": {
    "collapsed": false
   }
  }
 ],
 "metadata": {
  "kernelspec": {
   "display_name": "Python 3",
   "language": "python",
   "name": "python3"
  },
  "language_info": {
   "codemirror_mode": {
    "name": "ipython",
    "version": 2
   },
   "file_extension": ".py",
   "mimetype": "text/x-python",
   "name": "python",
   "nbconvert_exporter": "python",
   "pygments_lexer": "ipython2",
   "version": "2.7.6"
  }
 },
 "nbformat": 4,
 "nbformat_minor": 0
}
