{
 "cells": [
  {
   "cell_type": "code",
   "execution_count": 1,
   "metadata": {
    "collapsed": true
   },
   "outputs": [],
   "source": [
    "import functools\n",
    "import itertools\n",
    "import math\n",
    "import re\n",
    "import statistics\n",
    "from functools import reduce\n",
    "from pprint import pprint\n",
    "from typing import (\n",
    "    List,\n",
    "    Optional,\n",
    "    Generator,\n",
    "    NamedTuple,\n",
    "    Tuple,\n",
    "    Set,\n",
    "    Any,\n",
    "    Dict,\n",
    "    Union,\n",
    "    Callable,\n",
    "    Iterable,\n",
    "    Sequence,\n",
    ")\n",
    "\n",
    "import rich.panel\n",
    "import sklearn.base\n",
    "from alive_progress import alive_bar\n",
    "from numpy.distutils.misc_util import is_sequence\n",
    "from tqdm import tqdm, trange\n",
    "from log_symbols import LogSymbols\n",
    "\n",
    "import overrides as overrides\n",
    "import pandas as pds\n",
    "import tabulate as tabulate\n",
    "from collections import namedtuple\n",
    "from sklearn import linear_model, metrics, preprocessing, model_selection, svm\n",
    "from tabulate import tabulate\n",
    "from pathlib import Path\n",
    "import pickle\n",
    "from halo import Halo\n",
    "import random\n",
    "import argparse\n",
    "import sys\n",
    "from sklearn.experimental import enable_halving_search_cv\n",
    "from sklearn import neural_network, tree\n",
    "from sklearn.model_selection import (\n",
    "    HalvingGridSearchCV,\n",
    "    RandomizedSearchCV,\n",
    "    HalvingRandomSearchCV,\n",
    ")\n",
    "import scipy.stats as scistats\n",
    "\n",
    "import rich.progress\n",
    "import commons\n",
    "from data_types import PickleOut\n",
    "from rich.traceback import install as niceTracebacks\n",
    "from rich.table import Table as rTable\n",
    "\n",
    "from db_actions import db_actions\n",
    "import numpy as np\n",
    "\n",
    "from linRegPred import getSplits, getTransformers\n"
   ]
  },
  {
   "cell_type": "code",
   "execution_count": 2,
   "outputs": [],
   "source": [
    "with db_actions.connect() as conn:\n",
    "    dF = pds.read_sql('SELECT * FROM \"runtimeScorePredBase1000\"', conn)\n",
    "# print(dF)\n",
    "all_x_cols = [\n",
    "    \"build-linux-kernel1\",\n",
    "    \"fio2\",\n",
    "    \"fio3\",\n",
    "    \"fio4\",\n",
    "    \"fio5\",\n",
    "    \"fio6\",\n",
    "    \"fio7\",\n",
    "    \"fio8\",\n",
    "    \"fio9\",\n",
    "    \"iperf10\",\n",
    "    \"iperf11\",\n",
    "    \"iperf12\",\n",
    "    \"iperf13\",\n",
    "    \"john-the-ripper14\",\n",
    "    \"john-the-ripper15\",\n",
    "    \"ramspeed16\",\n",
    "    \"ramspeed17\",\n",
    "    \"ramspeed18\",\n",
    "    \"ramspeed19\",\n",
    "    \"ramspeed20\",\n",
    "    \"ramspeed21\",\n",
    "    \"ramspeed22\",\n",
    "    \"ramspeed23\",\n",
    "    \"ramspeed24\",\n",
    "    \"ramspeed25\",\n",
    "    \"stream26\",\n",
    "    \"stream27\",\n",
    "    \"stream28\",\n",
    "    \"stream29\",\n",
    "    \"pCpu\",\n",
    "    \"cpus\",\n",
    "    \"rss\",\n",
    "    \"vmem\",\n",
    "    \"rchar\",\n",
    "    \"wchar\",\n",
    "    \"syscr\",\n",
    "    \"syscw\",\n",
    "]\n",
    "filtered_x_cols = ['john-the-ripper15', 'ramspeed16', 'ramspeed18', 'ramspeed19', 'ramspeed20', 'ramspeed21',\n",
    "                   'ramspeed22', 'ramspeed23', 'ramspeed24', 'ramspeed25']\n",
    "x_cols = all_x_cols\n",
    "y_cols = \"realtime\"\n",
    "\n",
    "X: pds.DataFrame = dF[x_cols]\n",
    "y: pds.DataFrame = dF[y_cols]"
   ],
   "metadata": {
    "collapsed": false
   }
  },
  {
   "cell_type": "code",
   "execution_count": null,
   "outputs": [],
   "source": [
    "t = rTable(title=\"results\")\n",
    "t.add_column(\"cv\")\n",
    "t.add_column(\"unknown\")\n",
    "t.add_column(\"cv score\")\n",
    "t.add_column(\"unknown score\")\n",
    "for split in getSplits(dF, 1, x_cols, y_cols, cvSize=1, unknownSize=1):\n",
    "    X_train, y_train, X_test, y_test, X_unknown, y_unknown, X_trans, ukwfs, cvwfs = split\n",
    "    model = tree.DecisionTreeRegressor()\n",
    "    model.fit(X_train, y_train)\n",
    "    # print(cvwfs, ukwfs, model.score(X_test, y_test), model.score(X_unknown, y_unknown))\n",
    "    t.add_row(cvwfs[0], ukwfs[0], str(model.score(X_test, y_test)), str(model.score(X_unknown, y_unknown)))\n",
    "rich.print(t)"
   ],
   "metadata": {
    "collapsed": false
   }
  },
  {
   "cell_type": "code",
   "execution_count": null,
   "outputs": [],
   "source": [
    "X_trans = getTransformers(X, 1)\n",
    "scale1, poly, scale2 = X_trans\n",
    "X_scaled = scale2.transform(poly.transform(scale1.transform(X)))\n",
    "res = list()\n",
    "for i in range(100):\n",
    "    X_train, X_test, y_train, y_test = model_selection.train_test_split(X_scaled, y, test_size=0.2)\n",
    "    model = tree.DecisionTreeRegressor()\n",
    "    model.fit(X_train, y_train)\n",
    "    res.append(model.score(X_test, y_test))"
   ],
   "metadata": {
    "collapsed": false
   }
  },
  {
   "cell_type": "code",
   "execution_count": null,
   "outputs": [],
   "source": [
    "rich.print(np.average(res), np.std(res))"
   ],
   "metadata": {
    "collapsed": false
   }
  },
  {
   "cell_type": "code",
   "execution_count": 3,
   "outputs": [],
   "source": [
    "taskNames = pds.unique(dF.taskName)\n",
    "\n",
    "\n",
    "def pickCVTasks():\n",
    "    cvTasks = list(taskNames)\n",
    "    totalData = len(dF)\n",
    "    while len(dF.query(\"taskName in @cvTasks\")) > .3 * totalData:\n",
    "        cvTasks = list()\n",
    "        remainingTasks = list(taskNames)\n",
    "        while len(dF.query(\"taskName in @cvTasks\")) < .2 * totalData:\n",
    "            pick = np.random.choice(remainingTasks)\n",
    "            remainingTasks.remove(pick)\n",
    "            cvTasks.append(pick)\n",
    "    return cvTasks"
   ],
   "metadata": {
    "collapsed": false
   }
  },
  {
   "cell_type": "code",
   "execution_count": 4,
   "outputs": [],
   "source": [
    "X_trans = getTransformers(X, 1)\n",
    "scale1, poly, scale2 = X_trans\n",
    "X_scaled = scale2.transform(poly.transform(scale1.transform(X)))\n",
    "res = list()\n",
    "done = set()\n",
    "for i in range(1000):\n",
    "    cvTasks = pickCVTasks()\n",
    "    while set(cvTasks) in done:\n",
    "        cvTasks = pickCVTasks()\n",
    "    train = dF.query(\"taskName not in @cvTasks\")\n",
    "    X_train = train[x_cols]\n",
    "    X_train = scale2.transform(poly.transform(scale1.transform(X_train)))\n",
    "    y_train = train[y_cols]\n",
    "    test = dF.query(\"taskName in @cvTasks\")\n",
    "    X_test = test[x_cols]\n",
    "    X_test = scale2.transform(poly.transform(scale1.transform(X_test)))\n",
    "    y_test = test[y_cols]\n",
    "    model = tree.DecisionTreeRegressor()\n",
    "    model.fit(X_train, y_train)\n",
    "    res.append((cvTasks, model.score(X_test, y_test)))"
   ],
   "metadata": {
    "collapsed": false
   }
  },
  {
   "cell_type": "code",
   "execution_count": 5,
   "outputs": [],
   "source": [
    "t = rTable(title=\"results\")\n",
    "t.add_column(\"cv tasks\")\n",
    "t.add_column(\"score\")\n",
    "for r in res[:5]:\n",
    "    cv, s = r\n",
    "    t.add_row(\", \".join(cv), str(s))\n",
    "    # print(cv, s)\n",
    "#rich.print(t)\n"
   ],
   "metadata": {
    "collapsed": false
   }
  },
  {
   "cell_type": "code",
   "execution_count": 7,
   "outputs": [
    {
     "name": "stdout",
     "output_type": "stream",
     "text": [
      "[('TRIMGALORE', -331.4326160918647), ('NFCORE_VIRALRECON:ILLUMINA:VARIANTS_IVAR:IVAR_VARIANTS', -100.98670569038404), ('NFCORE_VIRALRECON:ILLUMINA:VARIANTS_BCFTOOLS:PANGOLIN', -99.76757387231247), ('bismark_align', -97.87359313991517), ('FASTQC', -95.80659769696963), ('get_software_versions', -92.88940416133009), ('NFCORE_VIRALRECON:ILLUMINA:VARIANTS_IVAR:QUAST', -92.55376050802514), ('BWA_INDEX', -90.43817141367096), ('NFCORE_VIRALRECON:ILLUMINA:FASTQC', -89.85159991158324), ('bismark_methXtract', -89.68945051662875), ('GatherBQSRReports', -88.55246560757229), ('NFCORE_VIRALRECON:ILLUMINA:VARIANTS_BCFTOOLS:SNPEFF_SNPSIFT:SNPEFF_ANN', -88.42415493445156), ('ApplyBQSR', -86.03167444368253), ('PHANTOMPEAKQUALTOOLS', -84.92753335248496), ('NFCORE_VIRALRECON:ILLUMINA:KRAKEN2_RUN', -83.11309870444211), ('MERGED_BAM', -82.39876081321508), ('BWA_MEM', -79.85777343603495), ('NFCORE_VIRALRECON:ILLUMINA:PICARD_COLLECTMULTIPLEMETRICS', -79.5385484204419), ('CONSENSUS_PEAKS_DESEQ2', -78.5609786332703), ('NFCORE_VIRALRECON:ILLUMINA:PLOT_MOSDEPTH_REGIONS_AMPLICON', -77.16423336661607), ('makeBismarkIndex', -76.59511757809622), ('MACS2_QC', -76.12485248031543), ('NFCORE_VIRALRECON:ILLUMINA:ASSEMBLY_UNICYCLER:ASSEMBLY_QC:QUAST', -75.36532519282216), ('BamQC', -74.99907060016554), ('NFCORE_VIRALRECON:ILLUMINA:PRIMER_TRIM_IVAR:IVAR_TRIM', -74.9320674490015), ('BaseRecalibrator', -74.4756446223351), ('NFCORE_VIRALRECON:ILLUMINA:VARIANTS_BCFTOOLS:ASCIIGENOME', -74.39098276222079), ('NFCORE_VIRALRECON:ILLUMINA:VARIANTS_BCFTOOLS:MAKE_CONSENSUS:PLOT_BASE_DENSITY', -73.92854720464413), ('MERGED_BAM_REMOVE_ORPHAN', -73.05093260359251), ('NFCORE_VIRALRECON:ILLUMINA:VARIANTS_BCFTOOLS:NEXTCLADE', -72.91233967185032), ('bismark_report', -72.68885351741693), ('MACS2_ANNOTATE', -72.6102767632795), ('CONSENSUS_PEAKS', -72.29867920765629), ('FastQCFQ', -71.93279764155297), ('NFCORE_VIRALRECON:ILLUMINA:FASTQC_FASTP:FASTQC_TRIM', -70.56889101375589), ('MarkDuplicates', -68.64334057821304), ('makeSeqDict', -68.23740816157091), ('fastqc', -67.29114466284815), ('NFCORE_VIRALRECON:ILLUMINA:FASTQC_FASTP:FASTP', -66.59458844016883), ('damageprofiler', -66.14734272078012), ('trim_galore', -65.47693518847902), ('fastqc_after_clipping', -64.65643961050058), ('qualimap', -64.24688633513239), ('NFCORE_VIRALRECON:ILLUMINA:MULTIQC', -63.144798070768026), ('NFCORE_VIRALRECON:ILLUMINA:CUTADAPT', -63.01678428259264), ('NFCORE_VIRALRECON:ILLUMINA:PLOT_MOSDEPTH_REGIONS_GENOME', -62.90604650679085), ('NFCORE_VIRALRECON:ILLUMINA:VARIANTS_IVAR:SNPEFF_SNPSIFT:SNPEFF_ANN', -62.3830016581515), ('NFCORE_VIRALRECON:ILLUMINA:VARIANTS_IVAR:PANGOLIN', -61.82650554113993), ('NFCORE_VIRALRECON:ILLUMINA:VARIANTS_BCFTOOLS:QUAST', -60.7274302797071), ('NFCORE_VIRALRECON:ILLUMINA:FASTQC_FASTP:FASTQC_RAW', -59.945157323709616), ('markduplicates', -58.5814857141574), ('PICARD_METRICS', -58.1864821491166), ('NFCORE_VIRALRECON:ILLUMINA:VARIANTS_IVAR:PLOT_BASE_DENSITY', -58.0611967453251), ('MACS2', -57.95599319575434), ('PRESEQ', -57.77599527263518), ('NFCORE_VIRALRECON:ILLUMINA:ASSEMBLY_SPADES:ASSEMBLY_QC:QUAST', -57.43117068188455), ('NFCORE_VIRALRECON:ILLUMINA:VARIANTS_IVAR:NEXTCLADE', -56.48461338970364), ('CONSENSUS_PEAKS_ANNOTATE', -56.08790124920665), ('NFCORE_VIRALRECON:ILLUMINA:ASSEMBLY_MINIA:ASSEMBLY_QC:QUAST', -53.93270147570664), ('NFCORE_VIRALRECON:ILLUMINA:ASSEMBLY_MINIA:MINIA', -53.85536284689883), ('BuildDict', -52.8927271017692), ('NFCORE_VIRALRECON:ILLUMINA:PREPARE_GENOME:SNPEFF_BUILD', -45.46729945518977), ('PLOTFINGERPRINT', -44.543945910654145), ('MULTIQC', -42.34065134071521), ('MERGED_BAM_FILTER', -40.94681020691347), ('MultiQC', -40.312721331668925), ('multiqc', -39.7294743276326), ('NFCORE_VIRALRECON:ILLUMINA:VARIANTS_IVAR:IVAR_CONSENSUS', -33.98466257734418), ('NFCORE_VIRALRECON:ILLUMINA:ALIGN_BOWTIE2:BOWTIE2_ALIGN', -23.54250723112095), ('NFCORE_VIRALRECON:ILLUMINA:ASSEMBLY_SPADES:SPADES', -22.52389176929744), ('NFCORE_VIRALRECON:ILLUMINA:VARIANTS_IVAR:ASCIIGENOME', -9.904924577285383), ('PLOTPROFILE', -1.476257725413421), ('NFCORE_VIRALRECON:ILLUMINA:ASSEMBLY_UNICYCLER:UNICYCLER', 2.5798023860851287)]\n"
     ]
    }
   ],
   "source": [
    "tmp = dict()\n",
    "for r in res:\n",
    "    cv, s = r\n",
    "    for c in cv:\n",
    "        if c not in tmp.keys():\n",
    "            tmp[c] = 0\n",
    "        tmp[c] = tmp[c] + s/len(cv)\n",
    "t1 = tmp.keys()\n",
    "t2 = tmp.values()\n",
    "t = list(zip(t1, t2))\n",
    "print(sorted(t, key=lambda x: x[1]))"
   ],
   "metadata": {
    "collapsed": false
   }
  }
 ],
 "metadata": {
  "kernelspec": {
   "display_name": "Python 3",
   "language": "python",
   "name": "python3"
  },
  "language_info": {
   "codemirror_mode": {
    "name": "ipython",
    "version": 2
   },
   "file_extension": ".py",
   "mimetype": "text/x-python",
   "name": "python",
   "nbconvert_exporter": "python",
   "pygments_lexer": "ipython2",
   "version": "2.7.6"
  }
 },
 "nbformat": 4,
 "nbformat_minor": 0
}
