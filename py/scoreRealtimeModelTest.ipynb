{
 "cells": [
  {
   "cell_type": "code",
   "execution_count": 1,
   "metadata": {
    "collapsed": true
   },
   "outputs": [],
   "source": [
    "import functools\n",
    "import itertools\n",
    "import math\n",
    "import re\n",
    "import statistics\n",
    "from functools import reduce\n",
    "from pprint import pprint\n",
    "from typing import (\n",
    "    List,\n",
    "    Optional,\n",
    "    Generator,\n",
    "    NamedTuple,\n",
    "    Tuple,\n",
    "    Set,\n",
    "    Any,\n",
    "    Dict,\n",
    "    Union,\n",
    "    Callable,\n",
    "    Iterable,\n",
    "    Sequence,\n",
    ")\n",
    "\n",
    "import rich.panel\n",
    "import sklearn.base\n",
    "from alive_progress import alive_bar\n",
    "from numpy.distutils.misc_util import is_sequence\n",
    "from tqdm import tqdm, trange\n",
    "from log_symbols import LogSymbols\n",
    "\n",
    "import overrides as overrides\n",
    "import pandas as pds\n",
    "import tabulate as tabulate\n",
    "from collections import namedtuple\n",
    "from sklearn import linear_model, metrics, preprocessing, model_selection, svm\n",
    "from tabulate import tabulate\n",
    "from pathlib import Path\n",
    "import pickle\n",
    "from halo import Halo\n",
    "import random\n",
    "import argparse\n",
    "import sys\n",
    "from sklearn.experimental import enable_halving_search_cv\n",
    "from sklearn import neural_network, tree\n",
    "from sklearn.model_selection import (\n",
    "    HalvingGridSearchCV,\n",
    "    RandomizedSearchCV,\n",
    "    HalvingRandomSearchCV,\n",
    ")\n",
    "import scipy.stats as scistats\n",
    "\n",
    "import rich.progress\n",
    "import commons\n",
    "from data_types import PickleOut\n",
    "from rich.traceback import install as niceTracebacks\n",
    "from rich.table import Table as rTable\n",
    "\n",
    "from db_actions import db_actions\n",
    "import numpy as np\n",
    "\n",
    "from linRegPred import getSplits, getTransformers\n",
    "from scipy.stats import rankdata\n",
    "from sklearn.metrics import r2_score\n",
    "import textdistance as TD"
   ]
  },
  {
   "cell_type": "code",
   "execution_count": 2,
   "outputs": [],
   "source": [
    "with db_actions.connect() as conn:\n",
    "    dF = pds.read_sql('SELECT * FROM \"runtimeScorePredBase1000\"', conn)\n",
    "# print(dF)\n",
    "all_x_cols = [\n",
    "    \"build-linux-kernel1\",\n",
    "    \"fio2\",\n",
    "    \"fio3\",\n",
    "    \"fio4\",\n",
    "    \"fio5\",\n",
    "    \"fio6\",\n",
    "    \"fio7\",\n",
    "    \"fio8\",\n",
    "    \"fio9\",\n",
    "    \"iperf10\",\n",
    "    \"iperf11\",\n",
    "    \"iperf12\",\n",
    "    \"iperf13\",\n",
    "    \"john-the-ripper14\",\n",
    "    \"john-the-ripper15\",\n",
    "    \"ramspeed16\",\n",
    "    \"ramspeed17\",\n",
    "    \"ramspeed18\",\n",
    "    \"ramspeed19\",\n",
    "    \"ramspeed20\",\n",
    "    \"ramspeed21\",\n",
    "    \"ramspeed22\",\n",
    "    \"ramspeed23\",\n",
    "    \"ramspeed24\",\n",
    "    \"ramspeed25\",\n",
    "    \"stream26\",\n",
    "    \"stream27\",\n",
    "    \"stream28\",\n",
    "    \"stream29\",\n",
    "    \"pCpu\",\n",
    "    \"cpus\",\n",
    "    \"rss\",\n",
    "    \"vmem\",\n",
    "    \"rchar\",\n",
    "    \"wchar\",\n",
    "    \"syscr\",\n",
    "    \"syscw\",\n",
    "]\n",
    "filtered_x_cols = ['john-the-ripper15', 'ramspeed17', 'ramspeed18', 'ramspeed19', 'ramspeed20', 'ramspeed21',\n",
    "                   'ramspeed23', 'ramspeed24', 'ramspeed25', 'pCpu', 'cpus', 'vmem', 'rchar', 'wchar', 'syscr',\n",
    "                   'syscw']\n",
    "x_cols = filtered_x_cols\n",
    "y_cols = \"realtime\"\n",
    "\n",
    "X: pds.DataFrame = dF[x_cols]\n",
    "y: pds.DataFrame = dF[y_cols]"
   ],
   "metadata": {
    "collapsed": false
   }
  },
  {
   "cell_type": "markdown",
   "source": [
    "## Deprecated"
   ],
   "metadata": {
    "collapsed": false
   }
  },
  {
   "cell_type": "code",
   "execution_count": null,
   "outputs": [],
   "source": [
    "t = rTable(title=\"results\")\n",
    "t.add_column(\"cv\")\n",
    "t.add_column(\"unknown\")\n",
    "t.add_column(\"cv score\")\n",
    "t.add_column(\"unknown score\")\n",
    "for split in getSplits(dF, 1, x_cols, y_cols, cvSize=1, unknownSize=1):\n",
    "    X_train, y_train, X_test, y_test, X_unknown, y_unknown, X_trans, ukwfs, cvwfs = split\n",
    "    model = tree.DecisionTreeRegressor()\n",
    "    model.fit(X_train, y_train)\n",
    "    # print(cvwfs, ukwfs, model.score(X_test, y_test), model.score(X_unknown, y_unknown))\n",
    "    t.add_row(cvwfs[0], ukwfs[0], str(model.score(X_test, y_test)), str(model.score(X_unknown, y_unknown)))\n",
    "rich.print(t)"
   ],
   "metadata": {
    "collapsed": false
   }
  },
  {
   "cell_type": "code",
   "execution_count": null,
   "outputs": [],
   "source": [
    "X_trans = getTransformers(X, 1)\n",
    "scale1, poly, scale2 = X_trans\n",
    "X_scaled = scale2.transform(poly.transform(scale1.transform(X)))\n",
    "res2 = list()\n",
    "for i in range(100):\n",
    "    X_train, X_test, y_train, y_test = model_selection.train_test_split(X_scaled, y, test_size=0.2)\n",
    "    model = tree.DecisionTreeRegressor()\n",
    "    model.fit(X_train, y_train)\n",
    "    res2.append(model.score(X_test, y_test))"
   ],
   "metadata": {
    "collapsed": false
   }
  },
  {
   "cell_type": "code",
   "execution_count": null,
   "outputs": [],
   "source": [
    "rich.print(np.average(res2), np.std(res2))"
   ],
   "metadata": {
    "collapsed": false
   }
  },
  {
   "cell_type": "markdown",
   "source": [
    "## Current"
   ],
   "metadata": {
    "collapsed": false
   }
  },
  {
   "cell_type": "code",
   "execution_count": 3,
   "outputs": [],
   "source": [
    "taskNames = pds.unique(dF.taskName)\n",
    "\n",
    "\n",
    "def pickCVTasks():\n",
    "    cvTasks = list(taskNames)\n",
    "    totalData = len(dF)\n",
    "    while len(dF.query(\"taskName in @cvTasks\")) > .3 * totalData:\n",
    "        cvTasks = list()\n",
    "        remainingTasks = list(taskNames)\n",
    "        while len(dF.query(\"taskName in @cvTasks\")) < .2 * totalData:\n",
    "            pick = np.random.choice(remainingTasks)\n",
    "            remainingTasks.remove(pick)\n",
    "            cvTasks.append(pick)\n",
    "    return cvTasks\n",
    "\n",
    "\n",
    "nodeIds = pds.unique(dF.nodeConfig)\n",
    "\n",
    "\n",
    "def pickCVNodes(p=0.8):\n",
    "    cvNodes = list(nodeIds)\n",
    "    totalData = len(dF)\n",
    "    while len(dF.query(\"nodeConfig in @cvNodes\")) > (p + 0.05) * totalData:\n",
    "        cvNodes = list()\n",
    "        remainingNodes = list(nodeIds)\n",
    "        while len(dF.query(\"nodeConfig in @cvNodes\")) < p * totalData:\n",
    "            pick = np.random.choice(remainingNodes)\n",
    "            remainingNodes.remove(pick)\n",
    "            cvNodes.append(pick)\n",
    "    return cvNodes"
   ],
   "metadata": {
    "collapsed": false
   }
  },
  {
   "cell_type": "code",
   "execution_count": 4,
   "outputs": [],
   "source": [
    "def listProd(l):\n",
    "    return reduce(lambda a, x: a * x, l, 1)"
   ],
   "metadata": {
    "collapsed": false
   }
  },
  {
   "cell_type": "code",
   "execution_count": null,
   "outputs": [],
   "source": [
    "X_trans = getTransformers(X, 1)\n",
    "scale1, poly, scale2 = X_trans\n",
    "X_scaled = scale2.transform(poly.transform(scale1.transform(X)))\n",
    "res2 = list()\n",
    "done = set()\n",
    "for i in range(100):\n",
    "    cvNodes = pickCVNodes()\n",
    "    #while listProd([i - 164 for i in cvNodes]) in done:\n",
    "    #    cvNodes = pickCVNodes()\n",
    "    #done.add(listProd([i - 164 for i in cvNodes]))\n",
    "    train = dF.query(\"nodeConfig not in @cvNodes\")\n",
    "    X_train = train[x_cols]\n",
    "    X_train = scale2.transform(poly.transform(scale1.transform(X_train)))\n",
    "    y_train = train[y_cols]\n",
    "    test = dF.query(\"nodeConfig in @cvNodes\")\n",
    "    X_test = test[x_cols]\n",
    "    X_test = scale2.transform(poly.transform(scale1.transform(X_test)))\n",
    "    y_test = test[y_cols]\n",
    "    model = tree.DecisionTreeRegressor()\n",
    "    #model = linear_model.LinearRegression()\n",
    "    model.fit(X_train, y_train)\n",
    "    res2.append((cvNodes, model.score(X_test, y_test)))"
   ],
   "metadata": {
    "collapsed": false
   }
  },
  {
   "cell_type": "code",
   "execution_count": null,
   "outputs": [],
   "source": [
    "t = rTable(title=\"results\")\n",
    "t.add_column(\"cv tasks\")\n",
    "t.add_column(\"score\")\n",
    "for r in res2[:5]:\n",
    "    cv, s = r\n",
    "    print(cv, s)\n",
    "    #t.add_row(\", \".join(list(cv)), str(s))\n",
    "print(\"average:\", np.average([s for cv, s in res2]), \"std:\", np.std([s for cv, s in res2]))\n",
    "#rich.print(t)\n"
   ],
   "metadata": {
    "collapsed": false
   }
  },
  {
   "cell_type": "code",
   "execution_count": null,
   "outputs": [],
   "source": [
    "tmp = dict()\n",
    "seen = dict()\n",
    "for r in res2:\n",
    "    cv, s = r\n",
    "    for c in cv:\n",
    "        if c not in tmp.keys():\n",
    "            tmp[c] = 0\n",
    "            seen[c] = 0\n",
    "        tmp[c] = tmp[c] + s / len(cv)\n",
    "        seen[c] = seen[c] + 1\n",
    "for k in tmp.keys():\n",
    "    tmp[k] = tmp[k] / seen[k]\n",
    "t1 = tmp.keys()\n",
    "t2 = tmp.values()\n",
    "t = list(zip(t1, t2))\n",
    "print(sorted(t, key=lambda x: x[1]))\n",
    "print(np.average(list(t2)), np.std(list(t2)))"
   ],
   "metadata": {
    "collapsed": false
   }
  },
  {
   "cell_type": "markdown",
   "source": [
    "## Test n cv nodes"
   ],
   "metadata": {
    "collapsed": false
   }
  },
  {
   "cell_type": "code",
   "execution_count": 5,
   "outputs": [],
   "source": [
    "\n",
    "nodeIds = pds.unique(dF.nodeConfig)\n",
    "\n",
    "\n",
    "def pickNCVNodes(n):\n",
    "    return np.random.choice(nodeIds, size=n)"
   ],
   "metadata": {
    "collapsed": false
   }
  },
  {
   "cell_type": "code",
   "execution_count": 21,
   "outputs": [
    {
     "name": "stdout",
     "output_type": "stream",
     "text": [
      "1\n",
      "2\n",
      "3\n",
      "4\n",
      "5\n",
      "6\n",
      "7\n",
      "8\n",
      "9\n",
      "10\n",
      "11\n",
      "12\n",
      "13\n",
      "14\n",
      "15\n",
      "16\n",
      "17\n",
      "18\n",
      "19\n",
      "20\n",
      "21\n",
      "22\n",
      "23\n",
      "24\n",
      "25\n",
      "26\n"
     ]
    }
   ],
   "source": [
    "X_trans = getTransformers(X, 1)\n",
    "scale1, poly, scale2 = X_trans\n",
    "X_scaled = scale2.transform(poly.transform(scale1.transform(X)))\n",
    "res2 = list()\n",
    "done = set()\n",
    "for n in range(1, len(nodeIds)):\n",
    "    for i in range(min(100, len(nodeIds) ** n)):\n",
    "        cvNodes = pickNCVNodes(n)\n",
    "        #while listProd([i - 164 for i in cvNodes]) in done:\n",
    "        #    cvNodes = pickCVNodes()\n",
    "        #done.add(listProd([i - 164 for i in cvNodes]))\n",
    "        train = dF.query(\"nodeConfig not in @cvNodes\")\n",
    "        X_train = train[x_cols]\n",
    "        X_train = scale2.transform(poly.transform(scale1.transform(X_train)))\n",
    "        y_train = train[y_cols]\n",
    "        test = dF.query(\"nodeConfig in @cvNodes\")\n",
    "        X_test = test[x_cols]\n",
    "        X_test = scale2.transform(poly.transform(scale1.transform(X_test)))\n",
    "        y_test = test[y_cols]\n",
    "        model = tree.DecisionTreeRegressor()\n",
    "        #model = linear_model.LinearRegression()\n",
    "        model.fit(X_train, y_train)\n",
    "        res2.append((n, cvNodes, model.score(X_test, y_test)))\n",
    "    print(n)"
   ],
   "metadata": {
    "collapsed": false
   }
  },
  {
   "cell_type": "code",
   "execution_count": 22,
   "outputs": [
    {
     "name": "stdout",
     "output_type": "stream",
     "text": [
      "1 0.9422824324399939 0.0635154210478398\n",
      "2 0.9038883208880296 0.15999753509400258\n",
      "3 0.9165618957293935 0.10809344495395581\n",
      "4 0.9369629665513862 0.05945455887149883\n",
      "5 0.9278829619224822 0.05189776581392482\n",
      "6 0.9274815223728216 0.06024652104463395\n",
      "7 0.9098042142131371 0.06145476393157696\n",
      "8 0.9084316726293423 0.05740553525821722\n",
      "9 0.9235113031161655 0.042161218868951814\n",
      "10 0.9144501758132271 0.04247316667768753\n",
      "11 0.9165369368018891 0.03697146279589086\n",
      "12 0.922114997121928 0.04008189205369908\n",
      "13 0.9165816862882562 0.03837136437027706\n",
      "14 0.9084820208350716 0.03955452640105757\n",
      "15 0.9166723481115224 0.03424420399190998\n",
      "16 0.9088668309460424 0.041444351394612264\n",
      "17 0.9125489244331402 0.03584378065851313\n",
      "18 0.9029451679895862 0.04025755265640996\n",
      "19 0.9111702416951017 0.029859036802271057\n",
      "20 0.9122200892230934 0.03094559785141516\n",
      "21 0.9034645840828339 0.032287202602485486\n",
      "22 0.9083088496846456 0.030928013839186603\n",
      "23 0.9019667906746018 0.030037293649222797\n",
      "24 0.9057629207760733 0.028189281246824717\n",
      "25 0.9018561782795671 0.03721890629951152\n",
      "26 0.899984997799889 0.035029124143736816\n"
     ]
    }
   ],
   "source": [
    "tmp2 = dict()\n",
    "for r in res2:\n",
    "    n, cv, s = r\n",
    "    if n not in tmp2.keys():\n",
    "        tmp2[n] = list()\n",
    "    tmp2[n].append(s)\n",
    "tmp3 = list()\n",
    "for k, v in tmp2.items():\n",
    "    print(k, np.average(v), np.std(v))\n",
    "    tmp3.append(np.average(v))"
   ],
   "metadata": {
    "collapsed": false
   }
  },
  {
   "cell_type": "code",
   "execution_count": 23,
   "outputs": [
    {
     "data": {
      "image/png": "[encoded data removed]"
     },
     "metadata": {},
     "output_type": "display_data"
    }
   ],
   "source": [
    "import seaborn as sns\n",
    "\n",
    "p = sns.lineplot(x=range(1, len(nodeIds)), y=tmp3)"
   ],
   "metadata": {
    "collapsed": false
   }
  },
  {
   "cell_type": "markdown",
   "source": [
    "## Test rank accuracy"
   ],
   "metadata": {
    "collapsed": false
   }
  },
  {
   "cell_type": "code",
   "execution_count": 12,
   "outputs": [
    {
     "data": {
      "text/plain": "DecisionTreeRegressor()"
     },
     "execution_count": 12,
     "metadata": {},
     "output_type": "execute_result"
    }
   ],
   "source": [
    "X_trans = getTransformers(X, 1)\n",
    "scale1, poly, scale2 = X_trans\n",
    "cvNodes = pickCVNodes(.5)\n",
    "train = dF.query(\"nodeConfig not in @cvNodes\")\n",
    "X_train = train[x_cols]\n",
    "X_train = scale2.transform(poly.transform(scale1.transform(X_train)))\n",
    "y_train = train[y_cols]\n",
    "test = dF.query(\"nodeConfig in @cvNodes\")\n",
    "X_test = test[x_cols]\n",
    "X_test = scale2.transform(poly.transform(scale1.transform(X_test)))\n",
    "y_test = test[y_cols]\n",
    "model = tree.DecisionTreeRegressor()\n",
    "#model = neural_network.MLPRegressor(max_iter=1000)\n",
    "#model = linear_model.LinearRegression()\n",
    "model.fit(X_train, y_train)"
   ],
   "metadata": {
    "collapsed": false
   }
  },
  {
   "cell_type": "code",
   "execution_count": 45,
   "outputs": [
    {
     "name": "stdout",
     "output_type": "stream",
     "text": [
      "0         3517\n",
      "2         6820\n",
      "3         5462\n",
      "7         9415\n",
      "8         7030\n",
      "         ...  \n",
      "33226     6000\n",
      "33227     1000\n",
      "33228     4000\n",
      "33229     4335\n",
      "33230    17551\n",
      "Name: realtime, Length: 17290, dtype: int64\n"
     ]
    }
   ],
   "source": [
    "print(y_test)"
   ],
   "metadata": {
    "collapsed": false
   }
  },
  {
   "cell_type": "code",
   "execution_count": 46,
   "outputs": [],
   "source": [
    "qqqqq = pds.DataFrame({\"real\": y_test, \"pred\": model.predict(X_test)})"
   ],
   "metadata": {
    "collapsed": false
   }
  },
  {
   "cell_type": "code",
   "execution_count": 47,
   "outputs": [
    {
     "name": "stdout",
     "output_type": "stream",
     "text": [
      "-1662.8058698801356\n"
     ]
    }
   ],
   "source": [
    "print(np.average(qqqqq.real - qqqqq.pred))"
   ],
   "metadata": {
    "collapsed": false
   }
  },
  {
   "cell_type": "code",
   "execution_count": 13,
   "outputs": [
    {
     "data": {
      "text/plain": "\u001B[1;36m0.8468154122752858\u001B[0m\n",
      "text/html": "<pre style=\"white-space:pre;overflow-x:auto;line-height:normal;font-family:Menlo,'DejaVu Sans Mono',consolas,'Courier New',monospace\"><span style=\"color: #008080; text-decoration-color: #008080; font-weight: bold\">0.8468154122752858</span>\n</pre>\n"
     },
     "metadata": {},
     "output_type": "display_data"
    }
   ],
   "source": [
    "model.score(X_test, y_test)"
   ],
   "metadata": {
    "collapsed": false
   }
  },
  {
   "cell_type": "code",
   "execution_count": 14,
   "outputs": [
    {
     "data": {
      "text/plain": "\u001B[1;36m0.9348549563408436\u001B[0m\n",
      "text/html": "<pre style=\"white-space:pre;overflow-x:auto;line-height:normal;font-family:Menlo,'DejaVu Sans Mono',consolas,'Courier New',monospace\"><span style=\"color: #008080; text-decoration-color: #008080; font-weight: bold\">0.9348549563408436</span>\n</pre>\n"
     },
     "metadata": {},
     "output_type": "display_data"
    }
   ],
   "source": [
    "model.score(scale2.transform(poly.transform(scale1.transform(X))), y)"
   ],
   "metadata": {
    "collapsed": false
   }
  },
  {
   "cell_type": "code",
   "execution_count": 50,
   "outputs": [],
   "source": [
    "ranks = dF[\"rank\"]"
   ],
   "metadata": {
    "collapsed": false
   }
  },
  {
   "cell_type": "code",
   "execution_count": 141,
   "outputs": [
    {
     "data": {
      "text/plain": "\u001B[1;35marray\u001B[0m\u001B[1m(\u001B[0m\u001B[1m[\u001B[0m \u001B[1;36m3517\u001B[0m.,  \u001B[1;36m5041\u001B[0m.,  \u001B[1;36m6820\u001B[0m., \u001B[33m...\u001B[0m,  \u001B[1;36m6000\u001B[0m.,  \u001B[1;36m7143\u001B[0m., \u001B[1;36m32821\u001B[0m.\u001B[1m]\u001B[0m\u001B[1m)\u001B[0m\n",
      "text/html": "<pre style=\"white-space:pre;overflow-x:auto;line-height:normal;font-family:Menlo,'DejaVu Sans Mono',consolas,'Courier New',monospace\"><span style=\"color: #800080; text-decoration-color: #800080; font-weight: bold\">array</span><span style=\"font-weight: bold\">([</span> <span style=\"color: #008080; text-decoration-color: #008080; font-weight: bold\">3517</span>.,  <span style=\"color: #008080; text-decoration-color: #008080; font-weight: bold\">5041</span>.,  <span style=\"color: #008080; text-decoration-color: #008080; font-weight: bold\">6820</span>., <span style=\"color: #808000; text-decoration-color: #808000\">...</span>,  <span style=\"color: #008080; text-decoration-color: #008080; font-weight: bold\">6000</span>.,  <span style=\"color: #008080; text-decoration-color: #008080; font-weight: bold\">7143</span>., <span style=\"color: #008080; text-decoration-color: #008080; font-weight: bold\">32821</span>.<span style=\"font-weight: bold\">])</span>\n</pre>\n"
     },
     "metadata": {},
     "output_type": "display_data"
    }
   ],
   "source": [
    "model.predict(scale2.transform(poly.transform(scale1.transform(X))))"
   ],
   "metadata": {
    "collapsed": false
   }
  },
  {
   "cell_type": "code",
   "execution_count": 6,
   "outputs": [],
   "source": [
    "tasks = pds.unique(dF[\"taskName\"])\n",
    "wfs = pds.unique(dF[\"wfName\"])"
   ],
   "metadata": {
    "collapsed": false
   }
  },
  {
   "cell_type": "code",
   "execution_count": 15,
   "outputs": [],
   "source": [
    "with db_actions.connect() as conn:\n",
    "    test_df = pds.read_sql('SELECT * FROM \"averageRuntimeScorePredBase1000\"', conn)\n",
    "# print(test_df)\n",
    "X_test_test: pds.DataFrame = test_df[x_cols]\n",
    "y_test_test: pds.DataFrame = test_df[y_cols]\n",
    "\n",
    "X_trans_test = getTransformers(X_test_test, 1)\n",
    "scale1_test, poly_test, scale2_test = X_trans_test"
   ],
   "metadata": {
    "collapsed": false
   }
  },
  {
   "cell_type": "code",
   "execution_count": 16,
   "outputs": [
    {
     "name": "stdout",
     "output_type": "stream",
     "text": [
      "-8.397881951528738\n"
     ]
    }
   ],
   "source": [
    "t = model.predict(scale2_test.transform(poly_test.transform(scale1_test.transform(X_test_test))))\n",
    "yo = test_df.assign(predTime=t)\n",
    "yo = yo.sort_values(by=[\"wfName\", \"taskName\", \"nodeConfig\"], ignore_index=True)\n",
    "#print(yo)\n",
    "#print(rankdata(np.array(yo.predTime).reshape((-1,27)), method=\"min\", axis=1).reshape((-1)))\n",
    "yo = yo.assign(predRank=rankdata(np.array(yo.predTime).reshape((-1, 27)), method=\"min\", axis=1).reshape((-1)))\n",
    "#print(yo)\n",
    "comp1 = np.array(yo[\"rank\"]).reshape((-1, 27))\n",
    "comp2 = np.array(yo.predRank).reshape((-1, 27))\n",
    "print(r2_score(comp1, comp2))"
   ],
   "metadata": {
    "collapsed": false
   }
  },
  {
   "cell_type": "code",
   "execution_count": 17,
   "outputs": [],
   "source": [
    "def modelRankR2(model_):\n",
    "    res = test_df.assign(\n",
    "        predTime=model_.predict(scale2_test.transform(poly_test.transform(scale1_test.transform(X_test_test)))))\n",
    "    res = res.sort_values(by=[\"wfName\", \"taskName\", \"nodeConfig\"], ignore_index=True)\n",
    "    res = res.assign(predRank=rankdata(np.array(res.predTime).reshape((-1, 27)), method=\"min\", axis=1).reshape((-1)))\n",
    "    comp1 = np.array(res[\"rank\"]).reshape((-1, 27))\n",
    "    comp2 = np.array(res.predRank).reshape((-1, 27))\n",
    "    return r2_score(comp1, comp2)"
   ],
   "metadata": {
    "collapsed": false
   }
  },
  {
   "cell_type": "code",
   "execution_count": 18,
   "outputs": [],
   "source": [
    "def modelRankTD(model_):\n",
    "    res = test_df.assign(\n",
    "        predTime=model_.predict(scale2_test.transform(poly_test.transform(scale1_test.transform(X_test_test)))))\n",
    "    res = res.sort_values(by=[\"wfName\", \"taskName\", \"nodeConfig\"], ignore_index=True)\n",
    "    res = res.assign(predRank=rankdata(np.array(res.predTime).reshape((-1, 27)), method=\"min\", axis=1).reshape((-1)))\n",
    "    comp1 = np.array(res[\"rank\"]).reshape((-1, 27))\n",
    "    comp2 = np.array(res.predRank).reshape((-1, 27))\n",
    "    out = 0\n",
    "    for c1, c2 in zip(comp1, comp2):\n",
    "        out += TD.damerau_levenshtein(\"\".join(map(lambda x: str(x), map(lambda x: chr(70 + x), list(c1)))),\n",
    "                                      \"\".join(map(lambda x: str(x), map(lambda x: chr(70 + x), list(c1)))))\n",
    "    if out == 0:\n",
    "        return 1\n",
    "    return len(comp1) / out  # reciprocal of average"
   ],
   "metadata": {
    "collapsed": false
   }
  },
  {
   "cell_type": "code",
   "execution_count": 19,
   "outputs": [
    {
     "name": "stdout",
     "output_type": "stream",
     "text": [
      "              precision    recall  f1-score   support\n",
      "\n",
      "           1       0.06      0.23      0.10        81\n",
      "           2       0.06      0.03      0.04        86\n",
      "           3       0.06      0.04      0.05        89\n",
      "           4       0.04      0.05      0.04        83\n",
      "           5       0.02      0.01      0.01        76\n",
      "           6       0.02      0.03      0.02        75\n",
      "           7       0.06      0.09      0.07        79\n",
      "           8       0.01      0.01      0.01        80\n",
      "           9       0.05      0.05      0.05        74\n",
      "          10       0.03      0.02      0.03        83\n",
      "          11       0.02      0.03      0.02        76\n",
      "          12       0.06      0.04      0.05        78\n",
      "          13       0.10      0.05      0.07        77\n",
      "          14       0.04      0.04      0.04        79\n",
      "          15       0.03      0.02      0.03        84\n",
      "          16       0.05      0.04      0.04        80\n",
      "          17       0.02      0.03      0.02        72\n",
      "          18       0.01      0.03      0.02        70\n",
      "          19       0.06      0.04      0.05        96\n",
      "          20       0.02      0.01      0.02        73\n",
      "          21       0.05      0.03      0.03        79\n",
      "          22       0.09      0.10      0.10        77\n",
      "          23       0.12      0.13      0.12        79\n",
      "          24       0.00      0.00      0.00        77\n",
      "          25       0.03      0.01      0.02        82\n",
      "          26       0.07      0.04      0.05        74\n",
      "          27       0.08      0.03      0.04        74\n",
      "\n",
      "    accuracy                           0.05      2133\n",
      "   macro avg       0.05      0.05      0.04      2133\n",
      "weighted avg       0.05      0.05      0.04      2133\n",
      "\n"
     ]
    }
   ],
   "source": [
    "from sklearn.metrics import classification_report\n",
    "\n",
    "print(classification_report(yo[\"rank\"], yo.predRank))"
   ],
   "metadata": {
    "collapsed": false
   }
  },
  {
   "cell_type": "code",
   "execution_count": 51,
   "outputs": [],
   "source": [
    "\n",
    "\n",
    "res3 = pds.DataFrame(\n",
    "    columns=[\"nodeid\", \"task\", \"wf\", \"realtime\", \"pred\", \"predrank\", \"rank\", \"angle\", \"dist\", \"metric\"])\n",
    "res4 = list()\n",
    "res5 = list()\n",
    "for t, w in test_df[[\"taskName\", \"wfName\"]].values:\n",
    "    dummy1 = [t]\n",
    "    dummy2 = [w]\n",
    "    q = test_df.query(\"taskName in @dummy1 and wfName in @dummy2\")\n",
    "    p = model.predict(scale2_test.transform(poly_test.transform(scale1_test.transform(q[x_cols]))))\n",
    "    predranks = rankdata(p, method=\"min\")\n",
    "    qo = np.array(sorted(q[[\"nodeConfig\", \"rank\"]].values, key=lambda x: x[1]))[:, 0]\n",
    "    po = np.array(sorted(zip(q.nodeConfig, predranks), key=lambda x: x[1]))[:, 0]\n",
    "    qo2 = np.array(sorted(q[[\"nodeConfig\", \"rank\"]].values, key=lambda x: x[0]))[:, 1]\n",
    "    po2 = np.array(sorted(zip(q.nodeConfig, predranks), key=lambda x: x[0]))[:, 1]\n",
    "    res4.append(qo2)  #q[\"rank\"])\n",
    "    res5.append(po2)  #predranks)\n",
    "    insert = pds.DataFrame(\n",
    "        data={\"nodeid\": q.nodeConfig, \"task\": q.taskName, \"wf\": q.wfName, \"realtime\": q.realtime, \"rank\": q[\"rank\"],\n",
    "              \"pred\": p,\n",
    "              \"predrank\": predranks, \"angle\": np.arccos((po.T @ qo) / (np.linalg.norm(qo) * np.linalg.norm(po))),\n",
    "              \"dist\": np.linalg.norm(po - qo),\n",
    "              \"metric\": np.linalg.norm((qo2 - po2))},\n",
    "        columns=[\"nodeid\", \"task\", \"wf\", \"realtime\", \"pred\", \"predrank\", \"rank\", \"angle\", \"dist\", \"metric\"])\n",
    "    res3 = res3.append(insert, ignore_index=True)"
   ],
   "metadata": {
    "collapsed": false
   }
  },
  {
   "cell_type": "code",
   "execution_count": 52,
   "outputs": [
    {
     "data": {
      "text/html": "<div>\n<style scoped>\n    .dataframe tbody tr th:only-of-type {\n        vertical-align: middle;\n    }\n\n    .dataframe tbody tr th {\n        vertical-align: top;\n    }\n\n    .dataframe thead th {\n        text-align: right;\n    }\n</style>\n<table border=\"1\" class=\"dataframe\">\n  <thead>\n    <tr style=\"text-align: right;\">\n      <th></th>\n      <th>nodeid</th>\n      <th>task</th>\n      <th>wf</th>\n      <th>realtime</th>\n      <th>pred</th>\n      <th>predrank</th>\n      <th>rank</th>\n      <th>angle</th>\n      <th>dist</th>\n      <th>metric</th>\n    </tr>\n  </thead>\n  <tbody>\n    <tr>\n      <th>0</th>\n      <td>165</td>\n      <td>TRIMGALORE</td>\n      <td>nfcore/chipseq:1.2.2</td>\n      <td>15730.266667</td>\n      <td>43522.366427</td>\n      <td>12</td>\n      <td>16</td>\n      <td>0.059676</td>\n      <td>55.641711</td>\n      <td>22.090722</td>\n    </tr>\n    <tr>\n      <th>1</th>\n      <td>166</td>\n      <td>TRIMGALORE</td>\n      <td>nfcore/chipseq:1.2.2</td>\n      <td>15871.033333</td>\n      <td>45094.961765</td>\n      <td>16</td>\n      <td>17</td>\n      <td>0.059676</td>\n      <td>55.641711</td>\n      <td>22.090722</td>\n    </tr>\n    <tr>\n      <th>2</th>\n      <td>167</td>\n      <td>TRIMGALORE</td>\n      <td>nfcore/chipseq:1.2.2</td>\n      <td>15412.533333</td>\n      <td>43655.320287</td>\n      <td>14</td>\n      <td>13</td>\n      <td>0.059676</td>\n      <td>55.641711</td>\n      <td>22.090722</td>\n    </tr>\n    <tr>\n      <th>3</th>\n      <td>168</td>\n      <td>TRIMGALORE</td>\n      <td>nfcore/chipseq:1.2.2</td>\n      <td>19916.533333</td>\n      <td>47908.469912</td>\n      <td>22</td>\n      <td>22</td>\n      <td>0.059676</td>\n      <td>55.641711</td>\n      <td>22.090722</td>\n    </tr>\n    <tr>\n      <th>4</th>\n      <td>169</td>\n      <td>TRIMGALORE</td>\n      <td>nfcore/chipseq:1.2.2</td>\n      <td>20376.266667</td>\n      <td>49840.020853</td>\n      <td>26</td>\n      <td>25</td>\n      <td>0.059676</td>\n      <td>55.641711</td>\n      <td>22.090722</td>\n    </tr>\n    <tr>\n      <th>...</th>\n      <td>...</td>\n      <td>...</td>\n      <td>...</td>\n      <td>...</td>\n      <td>...</td>\n      <td>...</td>\n      <td>...</td>\n      <td>...</td>\n      <td>...</td>\n      <td>...</td>\n    </tr>\n    <tr>\n      <th>57586</th>\n      <td>189</td>\n      <td>ApplyBQSR</td>\n      <td>nfcore/sarek:2.7.1</td>\n      <td>6785.133333</td>\n      <td>11989.538850</td>\n      <td>26</td>\n      <td>27</td>\n      <td>0.061124</td>\n      <td>56.991227</td>\n      <td>25.019992</td>\n    </tr>\n    <tr>\n      <th>57587</th>\n      <td>190</td>\n      <td>ApplyBQSR</td>\n      <td>nfcore/sarek:2.7.1</td>\n      <td>6510.266667</td>\n      <td>11091.105425</td>\n      <td>24</td>\n      <td>24</td>\n      <td>0.061124</td>\n      <td>56.991227</td>\n      <td>25.019992</td>\n    </tr>\n    <tr>\n      <th>57588</th>\n      <td>191</td>\n      <td>ApplyBQSR</td>\n      <td>nfcore/sarek:2.7.1</td>\n      <td>3831.833333</td>\n      <td>8185.602529</td>\n      <td>19</td>\n      <td>10</td>\n      <td>0.061124</td>\n      <td>56.991227</td>\n      <td>25.019992</td>\n    </tr>\n    <tr>\n      <th>57589</th>\n      <td>192</td>\n      <td>ApplyBQSR</td>\n      <td>nfcore/sarek:2.7.1</td>\n      <td>3818.000000</td>\n      <td>4732.932958</td>\n      <td>4</td>\n      <td>9</td>\n      <td>0.061124</td>\n      <td>56.991227</td>\n      <td>25.019992</td>\n    </tr>\n    <tr>\n      <th>57590</th>\n      <td>193</td>\n      <td>ApplyBQSR</td>\n      <td>nfcore/sarek:2.7.1</td>\n      <td>3772.750000</td>\n      <td>6443.631215</td>\n      <td>12</td>\n      <td>8</td>\n      <td>0.061124</td>\n      <td>56.991227</td>\n      <td>25.019992</td>\n    </tr>\n  </tbody>\n</table>\n<p>57591 rows × 10 columns</p>\n</div>"
     },
     "execution_count": 52,
     "metadata": {},
     "output_type": "execute_result"
    }
   ],
   "source": [
    "res3"
   ],
   "metadata": {
    "collapsed": false
   }
  },
  {
   "cell_type": "code",
   "execution_count": 53,
   "outputs": [
    {
     "data": {
      "text/plain": "\u001B[1;36m-3.1646062060245206\u001B[0m\n",
      "text/html": "<pre style=\"white-space:pre;overflow-x:auto;line-height:normal;font-family:Menlo,'DejaVu Sans Mono',consolas,'Courier New',monospace\"><span style=\"color: #008080; text-decoration-color: #008080; font-weight: bold\">-3.1646062060245206</span>\n</pre>\n"
     },
     "metadata": {},
     "output_type": "display_data"
    }
   ],
   "source": [
    "r2_score(res4, res5)"
   ],
   "metadata": {
    "collapsed": false
   }
  },
  {
   "cell_type": "code",
   "execution_count": 54,
   "outputs": [
    {
     "name": "stdout",
     "output_type": "stream",
     "text": [
      "1454.3287111241393\n"
     ]
    }
   ],
   "source": [
    "print(np.linalg.norm(res3[\"rank\"] - res3[\"predrank\"]))"
   ],
   "metadata": {
    "collapsed": false
   }
  },
  {
   "cell_type": "code",
   "execution_count": 55,
   "outputs": [
    {
     "name": "stdout",
     "output_type": "stream",
     "text": [
      "5112145.15852196\n"
     ]
    }
   ],
   "source": [
    "print(np.linalg.norm((res3[\"realtime\"] - res3[\"pred\"])))"
   ],
   "metadata": {
    "collapsed": false
   }
  },
  {
   "cell_type": "code",
   "execution_count": 56,
   "outputs": [
    {
     "name": "stdout",
     "output_type": "stream",
     "text": [
      "0.002486583504144489\n"
     ]
    }
   ],
   "source": [
    "print(np.average(res3.angle / 27))"
   ],
   "metadata": {
    "collapsed": false
   }
  },
  {
   "cell_type": "code",
   "execution_count": 57,
   "outputs": [
    {
     "name": "stdout",
     "output_type": "stream",
     "text": [
      "2.3183680085195046\n"
     ]
    }
   ],
   "source": [
    "print(np.average(res3.dist / 27))"
   ],
   "metadata": {
    "collapsed": false
   }
  },
  {
   "cell_type": "code",
   "execution_count": 58,
   "outputs": [
    {
     "name": "stdout",
     "output_type": "stream",
     "text": [
      "1.1409400986021159\n"
     ]
    }
   ],
   "source": [
    "print(np.average(res3.metric / 27))"
   ],
   "metadata": {
    "collapsed": false
   }
  },
  {
   "cell_type": "markdown",
   "source": [
    "## New Plot"
   ],
   "metadata": {
    "collapsed": false
   }
  },
  {
   "cell_type": "code",
   "execution_count": 77,
   "outputs": [
    {
     "name": "stdout",
     "output_type": "stream",
     "text": [
      "1\n",
      "2\n",
      "3\n",
      "4\n",
      "5\n",
      "6\n",
      "7\n",
      "8\n",
      "9\n",
      "10\n",
      "11\n",
      "12\n",
      "13\n",
      "14\n",
      "15\n",
      "16\n",
      "17\n",
      "18\n",
      "19\n",
      "20\n",
      "21\n",
      "22\n",
      "23\n",
      "24\n",
      "25\n",
      "26\n",
      "1 0.034165451147334415 0.0002568371531528394\n",
      "2 0.033994462104881926 0.0004000561096740649\n",
      "3 0.033947981738747815 0.0004048256455603902\n",
      "4 0.03388119256886746 0.0004450862120826667\n",
      "5 0.03379248119334985 0.0004702548227999618\n",
      "6 0.03375192630340826 0.0004478500063126659\n",
      "7 0.033713377041246176 0.0004960438990556096\n",
      "8 0.033607703665076157 0.00041606821906320986\n",
      "9 0.033661541357595116 0.0004332238832585778\n",
      "10 0.03367198033630025 0.00044211557185852297\n",
      "11 0.033630152202619154 0.00047454698564774285\n",
      "12 0.03344631782755587 0.0004378870017457758\n",
      "13 0.033486117025568654 0.0005322109850683672\n",
      "14 0.03350150310384212 0.0005192387578219008\n",
      "15 0.03340305606807918 0.000489964334716458\n",
      "16 0.03333677295898145 0.0004968794317576911\n",
      "17 0.03332680508423916 0.0005321202574918548\n",
      "18 0.033406776978217166 0.0005742649728079925\n",
      "19 0.03325894328540277 0.0005204630517221757\n",
      "20 0.033322461109852194 0.0004779358120694197\n",
      "21 0.033279374460377736 0.0005079422631336939\n",
      "22 0.033235684902482875 0.0005903210609480243\n",
      "23 0.033243041174694225 0.0005169405903598282\n",
      "24 0.03314758158834707 0.0006353589843062075\n",
      "25 0.03313922423326653 0.0006300764155122065\n",
      "26 0.03306243886537132 0.0006558369595264287\n"
     ]
    },
    {
     "data": {
      "image/png": "[encoded data removed]"
     },
     "metadata": {},
     "output_type": "display_data"
    }
   ],
   "source": [
    "res10 = list()\n",
    "for n in range(1, len(nodeIds)):\n",
    "    for i in range(min(100, len(nodeIds) ** n)):\n",
    "        cvNodes = pickNCVNodes(n)\n",
    "        #while listProd([i - 164 for i in cvNodes]) in done:\n",
    "        #    cvNodes = pickCVNodes()\n",
    "        #done.add(listProd([i - 164 for i in cvNodes]))\n",
    "        train = dF.query(\"nodeConfig not in @cvNodes\")\n",
    "        X_train = train[x_cols]\n",
    "        X_train = scale2.transform(poly.transform(scale1.transform(X_train)))\n",
    "        y_train = train[y_cols]\n",
    "        test = dF.query(\"nodeConfig in @cvNodes\")\n",
    "        X_test = test[x_cols]\n",
    "        X_test = scale2.transform(poly.transform(scale1.transform(X_test)))\n",
    "        y_test = test[y_cols]\n",
    "        model = tree.DecisionTreeRegressor()\n",
    "        #model = linear_model.LinearRegression()\n",
    "        model.fit(X_train, y_train)\n",
    "        res10.append((n, cvNodes, modelRankTD(model)))\n",
    "    print(n)\n",
    "tmp10 = dict()\n",
    "for r in res10:\n",
    "    n, cv, s = r\n",
    "    if n not in tmp10.keys():\n",
    "        tmp10[n] = list()\n",
    "    tmp10[n].append(s)\n",
    "tmp11 = list()\n",
    "for k, v in tmp10.items():\n",
    "    print(k, np.average(v), np.std(v))\n",
    "    tmp11.append(np.average(v))\n",
    "import seaborn as sns\n",
    "\n",
    "p = sns.lineplot(x=range(1, len(nodeIds)), y=tmp11)"
   ],
   "metadata": {
    "collapsed": false
   }
  },
  {
   "cell_type": "markdown",
   "source": [
    "## Export"
   ],
   "metadata": {
    "collapsed": false
   }
  },
  {
   "cell_type": "code",
   "execution_count": 20,
   "outputs": [
    {
     "name": "stdout",
     "output_type": "stream",
     "text": [
      "0\n",
      "100\n",
      "200\n",
      "300\n",
      "400\n",
      "500\n",
      "600\n",
      "700\n",
      "800\n",
      "900\n"
     ]
    }
   ],
   "source": [
    "best = None\n",
    "for i in range(1000):\n",
    "    cvNodes = pickCVNodes()\n",
    "    train = dF.query(\"nodeConfig not in @cvNodes\")\n",
    "    X_train = train[x_cols]\n",
    "    X_train = scale2.transform(poly.transform(scale1.transform(X_train)))\n",
    "    y_train = train[y_cols]\n",
    "    test = dF.query(\"nodeConfig in @cvNodes\")\n",
    "    X_test = test[x_cols]\n",
    "    X_test = scale2.transform(poly.transform(scale1.transform(X_test)))\n",
    "    y_test = test[y_cols]\n",
    "    model = tree.DecisionTreeRegressor()\n",
    "    #model = linear_model.LinearRegression()\n",
    "    model.fit(X_train, y_train)\n",
    "    if best is None:\n",
    "        s = modelRankTD(model)\n",
    "        best = (model, s)\n",
    "        if s == 1:\n",
    "            break\n",
    "    elif (s := modelRankTD(model)) < best[1]:\n",
    "        best = (model, s)\n",
    "        if s == 1:\n",
    "            break\n",
    "    if i % 100 == 0:\n",
    "        print(i)\n"
   ],
   "metadata": {
    "collapsed": false
   }
  },
  {
   "cell_type": "code",
   "execution_count": 26,
   "outputs": [
    {
     "name": "stdout",
     "output_type": "stream",
     "text": [
      "(DecisionTreeRegressor(), 1)\n"
     ]
    }
   ],
   "source": [
    "print(best)"
   ],
   "metadata": {
    "collapsed": false
   }
  },
  {
   "cell_type": "code",
   "execution_count": 21,
   "outputs": [],
   "source": [
    "allInstances = list(range(165, 194))\n",
    "allInstances.remove(174)\n",
    "allInstances.remove(177)"
   ],
   "metadata": {
    "collapsed": false
   }
  },
  {
   "cell_type": "code",
   "execution_count": 22,
   "outputs": [],
   "source": [
    "from my_yaml import yaml_load\n",
    "\n",
    "with open(\"nodeConfigIdLookup.yaml\", \"r\") as f:\n",
    "    t = yaml_load(f)\n",
    "    nodeIDLUT = {v: k for k, v in t.items()}\n",
    "predBase = test_df.assign(nodeName=test_df[\"nodeConfig\"].transform(lambda x: nodeIDLUT[x]))"
   ],
   "metadata": {
    "collapsed": false
   }
  },
  {
   "cell_type": "code",
   "execution_count": 23,
   "outputs": [],
   "source": [
    "t = best[0].predict(scale2.transform(poly.transform(scale1.transform(predBase[x_cols]))))\n",
    "predBase = predBase.assign(predTime=t)\n",
    "predBase = predBase.sort_values(by=[\"wfName\", \"taskName\", \"nodeConfig\"], ignore_index=True)\n",
    "predBase = predBase.assign(\n",
    "    predRank=rankdata(np.array(yo.predTime).reshape((-1, 27)), method=\"min\", axis=1).reshape((-1)))"
   ],
   "metadata": {
    "collapsed": false
   }
  },
  {
   "cell_type": "code",
   "execution_count": 24,
   "outputs": [],
   "source": [
    "export = pds.DataFrame(data={\"wfName\": predBase.wfName, \"taskName\": predBase.taskName, \"nodeName\": predBase.nodeName,\n",
    "                             \"rank\": predBase.predRank})"
   ],
   "metadata": {
    "collapsed": false
   }
  },
  {
   "cell_type": "code",
   "execution_count": 25,
   "outputs": [],
   "source": [
    "export.to_csv(\"DTR_TD_Rank_Export.csv\", index=False)"
   ],
   "metadata": {
    "collapsed": false
   }
  }
 ],
 "metadata": {
  "kernelspec": {
   "display_name": "Python 3",
   "language": "python",
   "name": "python3"
  },
  "language_info": {
   "codemirror_mode": {
    "name": "ipython",
    "version": 2
   },
   "file_extension": ".py",
   "mimetype": "text/x-python",
   "name": "python",
   "nbconvert_exporter": "python",
   "pygments_lexer": "ipython2",
   "version": "2.7.6"
  }
 },
 "nbformat": 4,
 "nbformat_minor": 0
}
