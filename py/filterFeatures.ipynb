{
 "cells": [
  {
   "cell_type": "code",
   "execution_count": 146,
   "metadata": {},
   "outputs": [],
   "source": [
    "#import rich.pretty\n",
    "#import commons\n",
    "from db_actions import db_actions\n",
    "import pandas as pds\n",
    "import numpy as np"
   ]
  },
  {
   "cell_type": "code",
   "execution_count": 147,
   "metadata": {},
   "outputs": [],
   "source": [
    "csvPath = \"predBase.csv\"\n",
    "if csvPath != \"\":\n",
    "    dF = None\n",
    "    try:\n",
    "        dF = pds.read_csv(open(csvPath, \"r\"))  # already filtered for realtime > 1000)\n",
    "    except:\n",
    "        pass\n",
    "    try:\n",
    "        dF = pds.read_csv(open(csvPath + \".csv\", \"r\"))\n",
    "    except:\n",
    "        pass\n",
    "    if dF is None:\n",
    "        raise Exception(f\"Couldn't open csv file {csvPath!r} or {(csvPath + '.csv')!r}\")\n",
    "else:\n",
    "    with db_actions.connect() as conn:\n",
    "        dF = pds.read_sql('SELECT * FROM \"averageRuntimesPredictionBase1000\"', conn)\n",
    "# print(dF)\n",
    "x_cols = [\n",
    "    \"build-linux-kernel1\",\n",
    "    \"fio2\",\n",
    "    \"fio3\",\n",
    "    \"fio4\",\n",
    "    \"fio5\",\n",
    "    \"fio6\",\n",
    "    \"fio7\",\n",
    "    \"fio8\",\n",
    "    \"fio9\",\n",
    "    \"iperf10\",\n",
    "    \"iperf11\",\n",
    "    #\"iperf12\",\n",
    "    \"iperf13\",\n",
    "    \"john-the-ripper14\",\n",
    "    \"john-the-ripper15\",\n",
    "    \"ramspeed16\",\n",
    "    \"ramspeed17\",\n",
    "    \"ramspeed18\",\n",
    "    \"ramspeed19\",\n",
    "    \"ramspeed20\",\n",
    "    \"ramspeed21\",\n",
    "    \"ramspeed22\",\n",
    "    \"ramspeed23\",\n",
    "    \"ramspeed24\",\n",
    "    \"ramspeed25\",\n",
    "    \"stream26\",\n",
    "    \"stream27\",\n",
    "    \"stream28\",\n",
    "    \"stream29\",\n",
    "    \"pCpu\",\n",
    "    \"cpus\",\n",
    "    \"rss\",\n",
    "    \"vmem\",\n",
    "    \"rchar\",\n",
    "    \"wchar\",\n",
    "    \"syscr\",\n",
    "    \"syscw\",\n",
    "]\n",
    "y_cols = \"rank\"\n",
    "X = dF[x_cols]\n",
    "y = dF[y_cols]"
   ]
  },
  {
   "cell_type": "code",
   "execution_count": 148,
   "metadata": {},
   "outputs": [],
   "source": [
    "from sklearn.feature_selection import GenericUnivariateSelect\n",
    "from sklearn.feature_selection import f_regression, f_classif\n",
    "from sklearn.preprocessing import PolynomialFeatures"
   ]
  },
  {
   "cell_type": "code",
   "execution_count": 149,
   "metadata": {},
   "outputs": [
    {
     "data": {
      "text/plain": "      build-linux-kernel1  fio2  fio3  fio4  fio5  fio6  fio7  fio8  fio9  \\\n0                       4     4     1     6     1     2     2     2     2   \n1                      13     4     1    21     1     2     2     2     2   \n2                       3    25     1     4     1     2     2     2     2   \n3                      21     4     1     6     1     2     2     2     2   \n4                       1    18     1    21     1     2     2     2     2   \n...                   ...   ...   ...   ...   ...   ...   ...   ...   ...   \n2128                   25    25     1    27     1     2     2     2     2   \n2129                   20    18     1    21     1     2     2     2     2   \n2130                   18    11     1     6     1     2     2     2     2   \n2131                   10    11     1     6     1     2     2     2     2   \n2132                    9    11     1     6     1     2     2     2     2   \n\n      iperf10  ...  stream28  stream29        pCpu  cpus           rss  \\\n0          13  ...         6         6  169.398332     2  3.227893e+08   \n1           2  ...         7         7  172.296666     2  2.798736e+08   \n2           4  ...         8         8  173.391668     2  3.001020e+08   \n3          12  ...        23        23  169.503334     2  3.697622e+08   \n4          14  ...         4         4  166.208333     2  3.283890e+08   \n...       ...  ...       ...       ...         ...   ...           ...   \n2128       20  ...        21        21  168.706669     2  2.299183e+08   \n2129       17  ...        20        20  164.616667     2  2.284317e+08   \n2130       22  ...        18        17  163.870000     2  2.166854e+08   \n2131       27  ...        16        16  165.026665     2  2.096554e+08   \n2132       19  ...        22        22  164.063335     2  2.049341e+08   \n\n              vmem         rchar         wchar         syscr         syscw  \n0     8.896484e+09  3.604557e+07  7.123642e+05  18072.933333    236.583333  \n1     8.904040e+09  3.604494e+07  7.123477e+05  18072.600000    236.583333  \n2     8.920521e+09  3.604553e+07  7.123549e+05  18072.883333    236.583333  \n3     8.937702e+09  3.604470e+07  7.123499e+05  18072.466667    236.583333  \n4     8.905091e+09  3.604556e+07  7.123542e+05  18072.916667    236.583333  \n...            ...           ...           ...           ...           ...  \n2128  2.872655e+09  2.510351e+08  2.024109e+08  58832.866667  34999.633333  \n2129  3.141343e+09  2.510357e+08  2.024109e+08  56013.366667  34998.366667  \n2130  3.140811e+09  2.510351e+08  2.024109e+08  56402.566667  34997.900000  \n2131  3.141013e+09  2.510350e+08  2.024131e+08  56188.133333  34993.200000  \n2132  3.139543e+09  2.510336e+08  2.024120e+08  55764.133333  34982.900000  \n\n[2133 rows x 36 columns]",
      "text/html": "<div>\n<style scoped>\n    .dataframe tbody tr th:only-of-type {\n        vertical-align: middle;\n    }\n\n    .dataframe tbody tr th {\n        vertical-align: top;\n    }\n\n    .dataframe thead th {\n        text-align: right;\n    }\n</style>\n<table border=\"1\" class=\"dataframe\">\n  <thead>\n    <tr style=\"text-align: right;\">\n      <th></th>\n      <th>build-linux-kernel1</th>\n      <th>fio2</th>\n      <th>fio3</th>\n      <th>fio4</th>\n      <th>fio5</th>\n      <th>fio6</th>\n      <th>fio7</th>\n      <th>fio8</th>\n      <th>fio9</th>\n      <th>iperf10</th>\n      <th>...</th>\n      <th>stream28</th>\n      <th>stream29</th>\n      <th>pCpu</th>\n      <th>cpus</th>\n      <th>rss</th>\n      <th>vmem</th>\n      <th>rchar</th>\n      <th>wchar</th>\n      <th>syscr</th>\n      <th>syscw</th>\n    </tr>\n  </thead>\n  <tbody>\n    <tr>\n      <th>0</th>\n      <td>4</td>\n      <td>4</td>\n      <td>1</td>\n      <td>6</td>\n      <td>1</td>\n      <td>2</td>\n      <td>2</td>\n      <td>2</td>\n      <td>2</td>\n      <td>13</td>\n      <td>...</td>\n      <td>6</td>\n      <td>6</td>\n      <td>169.398332</td>\n      <td>2</td>\n      <td>3.227893e+08</td>\n      <td>8.896484e+09</td>\n      <td>3.604557e+07</td>\n      <td>7.123642e+05</td>\n      <td>18072.933333</td>\n      <td>236.583333</td>\n    </tr>\n    <tr>\n      <th>1</th>\n      <td>13</td>\n      <td>4</td>\n      <td>1</td>\n      <td>21</td>\n      <td>1</td>\n      <td>2</td>\n      <td>2</td>\n      <td>2</td>\n      <td>2</td>\n      <td>2</td>\n      <td>...</td>\n      <td>7</td>\n      <td>7</td>\n      <td>172.296666</td>\n      <td>2</td>\n      <td>2.798736e+08</td>\n      <td>8.904040e+09</td>\n      <td>3.604494e+07</td>\n      <td>7.123477e+05</td>\n      <td>18072.600000</td>\n      <td>236.583333</td>\n    </tr>\n    <tr>\n      <th>2</th>\n      <td>3</td>\n      <td>25</td>\n      <td>1</td>\n      <td>4</td>\n      <td>1</td>\n      <td>2</td>\n      <td>2</td>\n      <td>2</td>\n      <td>2</td>\n      <td>4</td>\n      <td>...</td>\n      <td>8</td>\n      <td>8</td>\n      <td>173.391668</td>\n      <td>2</td>\n      <td>3.001020e+08</td>\n      <td>8.920521e+09</td>\n      <td>3.604553e+07</td>\n      <td>7.123549e+05</td>\n      <td>18072.883333</td>\n      <td>236.583333</td>\n    </tr>\n    <tr>\n      <th>3</th>\n      <td>21</td>\n      <td>4</td>\n      <td>1</td>\n      <td>6</td>\n      <td>1</td>\n      <td>2</td>\n      <td>2</td>\n      <td>2</td>\n      <td>2</td>\n      <td>12</td>\n      <td>...</td>\n      <td>23</td>\n      <td>23</td>\n      <td>169.503334</td>\n      <td>2</td>\n      <td>3.697622e+08</td>\n      <td>8.937702e+09</td>\n      <td>3.604470e+07</td>\n      <td>7.123499e+05</td>\n      <td>18072.466667</td>\n      <td>236.583333</td>\n    </tr>\n    <tr>\n      <th>4</th>\n      <td>1</td>\n      <td>18</td>\n      <td>1</td>\n      <td>21</td>\n      <td>1</td>\n      <td>2</td>\n      <td>2</td>\n      <td>2</td>\n      <td>2</td>\n      <td>14</td>\n      <td>...</td>\n      <td>4</td>\n      <td>4</td>\n      <td>166.208333</td>\n      <td>2</td>\n      <td>3.283890e+08</td>\n      <td>8.905091e+09</td>\n      <td>3.604556e+07</td>\n      <td>7.123542e+05</td>\n      <td>18072.916667</td>\n      <td>236.583333</td>\n    </tr>\n    <tr>\n      <th>...</th>\n      <td>...</td>\n      <td>...</td>\n      <td>...</td>\n      <td>...</td>\n      <td>...</td>\n      <td>...</td>\n      <td>...</td>\n      <td>...</td>\n      <td>...</td>\n      <td>...</td>\n      <td>...</td>\n      <td>...</td>\n      <td>...</td>\n      <td>...</td>\n      <td>...</td>\n      <td>...</td>\n      <td>...</td>\n      <td>...</td>\n      <td>...</td>\n      <td>...</td>\n      <td>...</td>\n    </tr>\n    <tr>\n      <th>2128</th>\n      <td>25</td>\n      <td>25</td>\n      <td>1</td>\n      <td>27</td>\n      <td>1</td>\n      <td>2</td>\n      <td>2</td>\n      <td>2</td>\n      <td>2</td>\n      <td>20</td>\n      <td>...</td>\n      <td>21</td>\n      <td>21</td>\n      <td>168.706669</td>\n      <td>2</td>\n      <td>2.299183e+08</td>\n      <td>2.872655e+09</td>\n      <td>2.510351e+08</td>\n      <td>2.024109e+08</td>\n      <td>58832.866667</td>\n      <td>34999.633333</td>\n    </tr>\n    <tr>\n      <th>2129</th>\n      <td>20</td>\n      <td>18</td>\n      <td>1</td>\n      <td>21</td>\n      <td>1</td>\n      <td>2</td>\n      <td>2</td>\n      <td>2</td>\n      <td>2</td>\n      <td>17</td>\n      <td>...</td>\n      <td>20</td>\n      <td>20</td>\n      <td>164.616667</td>\n      <td>2</td>\n      <td>2.284317e+08</td>\n      <td>3.141343e+09</td>\n      <td>2.510357e+08</td>\n      <td>2.024109e+08</td>\n      <td>56013.366667</td>\n      <td>34998.366667</td>\n    </tr>\n    <tr>\n      <th>2130</th>\n      <td>18</td>\n      <td>11</td>\n      <td>1</td>\n      <td>6</td>\n      <td>1</td>\n      <td>2</td>\n      <td>2</td>\n      <td>2</td>\n      <td>2</td>\n      <td>22</td>\n      <td>...</td>\n      <td>18</td>\n      <td>17</td>\n      <td>163.870000</td>\n      <td>2</td>\n      <td>2.166854e+08</td>\n      <td>3.140811e+09</td>\n      <td>2.510351e+08</td>\n      <td>2.024109e+08</td>\n      <td>56402.566667</td>\n      <td>34997.900000</td>\n    </tr>\n    <tr>\n      <th>2131</th>\n      <td>10</td>\n      <td>11</td>\n      <td>1</td>\n      <td>6</td>\n      <td>1</td>\n      <td>2</td>\n      <td>2</td>\n      <td>2</td>\n      <td>2</td>\n      <td>27</td>\n      <td>...</td>\n      <td>16</td>\n      <td>16</td>\n      <td>165.026665</td>\n      <td>2</td>\n      <td>2.096554e+08</td>\n      <td>3.141013e+09</td>\n      <td>2.510350e+08</td>\n      <td>2.024131e+08</td>\n      <td>56188.133333</td>\n      <td>34993.200000</td>\n    </tr>\n    <tr>\n      <th>2132</th>\n      <td>9</td>\n      <td>11</td>\n      <td>1</td>\n      <td>6</td>\n      <td>1</td>\n      <td>2</td>\n      <td>2</td>\n      <td>2</td>\n      <td>2</td>\n      <td>19</td>\n      <td>...</td>\n      <td>22</td>\n      <td>22</td>\n      <td>164.063335</td>\n      <td>2</td>\n      <td>2.049341e+08</td>\n      <td>3.139543e+09</td>\n      <td>2.510336e+08</td>\n      <td>2.024120e+08</td>\n      <td>55764.133333</td>\n      <td>34982.900000</td>\n    </tr>\n  </tbody>\n</table>\n<p>2133 rows × 36 columns</p>\n</div>"
     },
     "execution_count": 149,
     "metadata": {},
     "output_type": "execute_result"
    }
   ],
   "source": [
    "X"
   ]
  },
  {
   "cell_type": "code",
   "execution_count": 150,
   "metadata": {},
   "outputs": [
    {
     "data": {
      "text/plain": "\"'john-the-ripper15', 'ramspeed22', 'ramspeed23', 'ramspeed24', 'ramspeed25'\""
     },
     "execution_count": 150,
     "metadata": {},
     "output_type": "execute_result"
    }
   ],
   "source": [
    "g = GenericUnivariateSelect(f_regression, mode='k_best', param=5)\n",
    "X_poly = PolynomialFeatures(3, interaction_only=True).fit_transform(X)\n",
    "X_new = g.fit_transform(X, y)\n",
    "filtered_X_cols = np.array(x_cols)[g.get_support(indices=True)]\n",
    "\", \".join(map(lambda x: repr(x), filtered_X_cols))"
   ]
  },
  {
   "cell_type": "code",
   "execution_count": 151,
   "metadata": {},
   "outputs": [],
   "source": [
    "#filtered_X_cols"
   ]
  },
  {
   "cell_type": "code",
   "execution_count": 152,
   "metadata": {},
   "outputs": [
    {
     "data": {
      "text/plain": "[566.3675649734762,\n 580.071010082908,\n 601.1236272334836,\n 605.0832409945057,\n 1021.1695521511352]"
     },
     "execution_count": 152,
     "metadata": {},
     "output_type": "execute_result"
    }
   ],
   "source": [
    "import seaborn as sbs\n",
    "\n",
    "top1 = sorted(np.array(g.scores_)[g.get_support(indices=True)])\n",
    "top1"
   ]
  },
  {
   "cell_type": "code",
   "execution_count": 153,
   "metadata": {},
   "outputs": [
    {
     "data": {
      "text/plain": "5"
     },
     "execution_count": 153,
     "metadata": {},
     "output_type": "execute_result"
    }
   ],
   "source": [
    "len(np.array(g.scores_)[g.get_support(indices=True)])"
   ]
  },
  {
   "cell_type": "code",
   "execution_count": 154,
   "metadata": {},
   "outputs": [
    {
     "data": {
      "text/plain": "<AxesSubplot:>"
     },
     "execution_count": 154,
     "metadata": {},
     "output_type": "execute_result"
    },
    {
     "data": {
      "text/plain": "<Figure size 432x288 with 1 Axes>",
      "image/png": "[encoded data removed]"
     },
     "metadata": {},
     "output_type": "display_data"
    }
   ],
   "source": [
    "sbs.lineplot(data=sorted(np.array(g.scores_)[g.get_support(indices=True)]))"
   ]
  },
  {
   "cell_type": "code",
   "execution_count": 155,
   "outputs": [],
   "source": [
    "csvPath = \"predBase.csv\"\n",
    "if csvPath != \"\":\n",
    "    dF = None\n",
    "    try:\n",
    "        dF = pds.read_csv(open(csvPath, \"r\"))  # already filtered for realtime > 1000)\n",
    "    except:\n",
    "        pass\n",
    "    try:\n",
    "        dF = pds.read_csv(open(csvPath + \".csv\", \"r\"))\n",
    "    except:\n",
    "        pass\n",
    "    if dF is None:\n",
    "        raise Exception(f\"Couldn't open csv file {csvPath!r} or {(csvPath + '.csv')!r}\")\n",
    "else:\n",
    "    with db_actions.connect() as conn:\n",
    "        dF = pds.read_sql('SELECT * FROM \"averageRuntimesPredictionBase1000\"', conn)\n",
    "# print(dF)\n",
    "x_cols = [\n",
    "    'john-the-ripper15', 'ramspeed16', 'ramspeed18', 'ramspeed19', 'ramspeed20', 'ramspeed21', 'ramspeed22',\n",
    "    'ramspeed23', 'ramspeed24', 'ramspeed25'\n",
    "    # 'fio3', 'fio5', 'john-the-ripper15', 'ramspeed16', 'ramspeed17', 'ramspeed18', 'ramspeed19', 'ramspeed20', 'ramspeed21', 'ramspeed22', 'ramspeed23', 'ramspeed24', 'ramspeed25'\n",
    "    # 'build-linux-kernel1', 'fio3', 'fio5', 'fio6', 'fio7', 'fio8', 'fio9', 'john-the-ripper15', 'ramspeed16', 'ramspeed17', 'ramspeed18', 'ramspeed19', 'ramspeed20', 'ramspeed21', 'ramspeed22', 'ramspeed23', 'ramspeed24', 'ramspeed25', 'stream27'\n",
    "]\n",
    "y_cols = \"rank\"\n",
    "X = dF[x_cols]\n",
    "y = dF[y_cols]"
   ],
   "metadata": {
    "collapsed": false
   }
  },
  {
   "cell_type": "code",
   "execution_count": 156,
   "outputs": [],
   "source": [
    "from sklearn.feature_selection import GenericUnivariateSelect\n",
    "from sklearn.feature_selection import f_regression, f_classif\n",
    "from sklearn.preprocessing import PolynomialFeatures"
   ],
   "metadata": {
    "collapsed": false
   }
  },
  {
   "cell_type": "code",
   "execution_count": 157,
   "outputs": [
    {
     "data": {
      "text/plain": "      john-the-ripper15  ramspeed16  ramspeed18  ramspeed19  ramspeed20  \\\n0                     3          12          12          13          13   \n1                    16           2           2           2           2   \n2                     8           1           1           1           1   \n3                    15          22          22          21          21   \n4                     1           9           9          10           9   \n...                 ...         ...         ...         ...         ...   \n2128                 26          20          20          20          20   \n2129                 23          21          21          22          22   \n2130                 24          14          15          15          15   \n2131                 18          15          16          16          16   \n2132                 19          17          17          17          17   \n\n      ramspeed21  ramspeed22  ramspeed23  ramspeed24  ramspeed25  \n0             14          12          13          11          12  \n1              1           2           1           2           2  \n2              2           1           2           1           1  \n3             21          21          20          22          21  \n4              9           8          11           7           9  \n...          ...         ...         ...         ...         ...  \n2128          19          20          21          20          19  \n2129          22          22          23          21          22  \n2130          15          14          16          15          16  \n2131          16          15          15          16          17  \n2132          17          17          17          17          18  \n\n[2133 rows x 10 columns]",
      "text/html": "<div>\n<style scoped>\n    .dataframe tbody tr th:only-of-type {\n        vertical-align: middle;\n    }\n\n    .dataframe tbody tr th {\n        vertical-align: top;\n    }\n\n    .dataframe thead th {\n        text-align: right;\n    }\n</style>\n<table border=\"1\" class=\"dataframe\">\n  <thead>\n    <tr style=\"text-align: right;\">\n      <th></th>\n      <th>john-the-ripper15</th>\n      <th>ramspeed16</th>\n      <th>ramspeed18</th>\n      <th>ramspeed19</th>\n      <th>ramspeed20</th>\n      <th>ramspeed21</th>\n      <th>ramspeed22</th>\n      <th>ramspeed23</th>\n      <th>ramspeed24</th>\n      <th>ramspeed25</th>\n    </tr>\n  </thead>\n  <tbody>\n    <tr>\n      <th>0</th>\n      <td>3</td>\n      <td>12</td>\n      <td>12</td>\n      <td>13</td>\n      <td>13</td>\n      <td>14</td>\n      <td>12</td>\n      <td>13</td>\n      <td>11</td>\n      <td>12</td>\n    </tr>\n    <tr>\n      <th>1</th>\n      <td>16</td>\n      <td>2</td>\n      <td>2</td>\n      <td>2</td>\n      <td>2</td>\n      <td>1</td>\n      <td>2</td>\n      <td>1</td>\n      <td>2</td>\n      <td>2</td>\n    </tr>\n    <tr>\n      <th>2</th>\n      <td>8</td>\n      <td>1</td>\n      <td>1</td>\n      <td>1</td>\n      <td>1</td>\n      <td>2</td>\n      <td>1</td>\n      <td>2</td>\n      <td>1</td>\n      <td>1</td>\n    </tr>\n    <tr>\n      <th>3</th>\n      <td>15</td>\n      <td>22</td>\n      <td>22</td>\n      <td>21</td>\n      <td>21</td>\n      <td>21</td>\n      <td>21</td>\n      <td>20</td>\n      <td>22</td>\n      <td>21</td>\n    </tr>\n    <tr>\n      <th>4</th>\n      <td>1</td>\n      <td>9</td>\n      <td>9</td>\n      <td>10</td>\n      <td>9</td>\n      <td>9</td>\n      <td>8</td>\n      <td>11</td>\n      <td>7</td>\n      <td>9</td>\n    </tr>\n    <tr>\n      <th>...</th>\n      <td>...</td>\n      <td>...</td>\n      <td>...</td>\n      <td>...</td>\n      <td>...</td>\n      <td>...</td>\n      <td>...</td>\n      <td>...</td>\n      <td>...</td>\n      <td>...</td>\n    </tr>\n    <tr>\n      <th>2128</th>\n      <td>26</td>\n      <td>20</td>\n      <td>20</td>\n      <td>20</td>\n      <td>20</td>\n      <td>19</td>\n      <td>20</td>\n      <td>21</td>\n      <td>20</td>\n      <td>19</td>\n    </tr>\n    <tr>\n      <th>2129</th>\n      <td>23</td>\n      <td>21</td>\n      <td>21</td>\n      <td>22</td>\n      <td>22</td>\n      <td>22</td>\n      <td>22</td>\n      <td>23</td>\n      <td>21</td>\n      <td>22</td>\n    </tr>\n    <tr>\n      <th>2130</th>\n      <td>24</td>\n      <td>14</td>\n      <td>15</td>\n      <td>15</td>\n      <td>15</td>\n      <td>15</td>\n      <td>14</td>\n      <td>16</td>\n      <td>15</td>\n      <td>16</td>\n    </tr>\n    <tr>\n      <th>2131</th>\n      <td>18</td>\n      <td>15</td>\n      <td>16</td>\n      <td>16</td>\n      <td>16</td>\n      <td>16</td>\n      <td>15</td>\n      <td>15</td>\n      <td>16</td>\n      <td>17</td>\n    </tr>\n    <tr>\n      <th>2132</th>\n      <td>19</td>\n      <td>17</td>\n      <td>17</td>\n      <td>17</td>\n      <td>17</td>\n      <td>17</td>\n      <td>17</td>\n      <td>17</td>\n      <td>17</td>\n      <td>18</td>\n    </tr>\n  </tbody>\n</table>\n<p>2133 rows × 10 columns</p>\n</div>"
     },
     "execution_count": 157,
     "metadata": {},
     "output_type": "execute_result"
    }
   ],
   "source": [
    "X"
   ],
   "metadata": {
    "collapsed": false
   }
  },
  {
   "cell_type": "code",
   "execution_count": 158,
   "outputs": [
    {
     "name": "stderr",
     "output_type": "stream",
     "text": [
      "/home/alex/anaconda3/envs/py/lib/python3.9/site-packages/sklearn/feature_selection/_univariate_selection.py:302: RuntimeWarning: divide by zero encountered in true_divide\n",
      "  corr /= X_norms\n",
      "/home/alex/anaconda3/envs/py/lib/python3.9/site-packages/sklearn/feature_selection/_univariate_selection.py:307: RuntimeWarning: invalid value encountered in true_divide\n",
      "  F = corr ** 2 / (1 - corr ** 2) * degrees_of_freedom\n"
     ]
    }
   ],
   "source": [
    "g = GenericUnivariateSelect(f_regression, mode='k_best', param=15)\n",
    "X_poly = PolynomialFeatures(3, interaction_only=True).fit_transform(X)\n",
    "X_new = g.fit_transform(X_poly, y)\n",
    "#filtered_X_cols = np.array(x_cols)[g.get_support(indices=True)]\n",
    "#\", \".join(map(lambda x: repr(x), filtered_X_cols))"
   ],
   "metadata": {
    "collapsed": false
   }
  },
  {
   "cell_type": "code",
   "execution_count": 159,
   "outputs": [],
   "source": [
    "#filtered_X_cols"
   ],
   "metadata": {
    "collapsed": false
   }
  },
  {
   "cell_type": "code",
   "execution_count": 160,
   "outputs": [
    {
     "data": {
      "text/plain": "[656.0245978507477,\n 658.2317274806264,\n 663.6896663429989,\n 667.9922300965396,\n 669.7489681454629,\n 841.9382416527793,\n 869.80880998922,\n 892.1068335904318,\n 895.8952341266631,\n 901.6764759125199,\n 912.9808719335363,\n 914.0295957010733,\n 917.1645814984736,\n 970.5810773101731,\n 1021.1695521511341]"
     },
     "execution_count": 160,
     "metadata": {},
     "output_type": "execute_result"
    }
   ],
   "source": [
    "import seaborn as sbs\n",
    "\n",
    "top2 = sorted(np.array(g.scores_)[g.get_support(indices=True)])\n",
    "top2"
   ],
   "metadata": {
    "collapsed": false
   }
  },
  {
   "cell_type": "code",
   "execution_count": 161,
   "outputs": [
    {
     "data": {
      "text/plain": "15"
     },
     "execution_count": 161,
     "metadata": {},
     "output_type": "execute_result"
    }
   ],
   "source": [
    "len(np.array(g.scores_)[g.get_support(indices=True)])"
   ],
   "metadata": {
    "collapsed": false
   }
  },
  {
   "cell_type": "code",
   "execution_count": 162,
   "outputs": [
    {
     "data": {
      "text/plain": "<AxesSubplot:>"
     },
     "execution_count": 162,
     "metadata": {},
     "output_type": "execute_result"
    },
    {
     "data": {
      "text/plain": "<Figure size 432x288 with 1 Axes>",
      "image/png": "[encoded data removed]"
     },
     "metadata": {},
     "output_type": "display_data"
    }
   ],
   "source": [
    "sbs.lineplot(data=sorted(np.array(g.scores_)[g.get_support(indices=True)]))"
   ],
   "metadata": {
    "collapsed": false
   }
  },
  {
   "cell_type": "code",
   "execution_count": 163,
   "outputs": [
    {
     "ename": "ValueError",
     "evalue": "operands could not be broadcast together with shapes (5,) (15,) ",
     "output_type": "error",
     "traceback": [
      "\u001B[0;31m---------------------------------------------------------------------------\u001B[0m",
      "\u001B[0;31mValueError\u001B[0m                                Traceback (most recent call last)",
      "\u001B[0;32m/tmp/ipykernel_140499/2766766469.py\u001B[0m in \u001B[0;36m<module>\u001B[0;34m\u001B[0m\n\u001B[0;32m----> 1\u001B[0;31m \u001B[0mnp\u001B[0m\u001B[0;34m.\u001B[0m\u001B[0marray\u001B[0m\u001B[0;34m(\u001B[0m\u001B[0mtop1\u001B[0m\u001B[0;34m)\u001B[0m \u001B[0;34m-\u001B[0m \u001B[0mnp\u001B[0m\u001B[0;34m.\u001B[0m\u001B[0marray\u001B[0m\u001B[0;34m(\u001B[0m\u001B[0mtop2\u001B[0m\u001B[0;34m)\u001B[0m\u001B[0;34m\u001B[0m\u001B[0;34m\u001B[0m\u001B[0m\n\u001B[0m",
      "\u001B[0;31mValueError\u001B[0m: operands could not be broadcast together with shapes (5,) (15,) "
     ]
    }
   ],
   "source": [
    "np.array(top1) - np.array(top2)"
   ],
   "metadata": {
    "collapsed": false
   }
  }
 ],
 "metadata": {
  "kernelspec": {
   "display_name": "Python 3 (ipykernel)",
   "language": "python",
   "name": "python3"
  },
  "language_info": {
   "codemirror_mode": {
    "name": "ipython",
    "version": 3
   },
   "file_extension": ".py",
   "mimetype": "text/x-python",
   "name": "python",
   "nbconvert_exporter": "python",
   "pygments_lexer": "ipython3",
   "version": "3.9.6"
  }
 },
 "nbformat": 4,
 "nbformat_minor": 1
}
