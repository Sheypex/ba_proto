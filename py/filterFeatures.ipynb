{
 "cells": [
  {
   "cell_type": "code",
   "execution_count": 45,
   "metadata": {
    "collapsed": true
   },
   "outputs": [],
   "source": [
    "#import rich.pretty\n",
    "#import commons\n",
    "from db_actions import db_actions\n",
    "import pandas as pds\n",
    "import numpy as np"
   ]
  },
  {
   "cell_type": "code",
   "execution_count": 46,
   "outputs": [],
   "source": [
    "with db_actions.connect() as conn:\n",
    "    dF = pds.read_sql('SELECT * FROM \"averageRuntimesPredictionBase1000\"', conn)\n",
    "    # print(dF)\n",
    "x_cols = [\n",
    "        \"build-linux-kernel1\",\n",
    "        \"fio2\",\n",
    "        \"fio3\",\n",
    "        \"fio4\",\n",
    "        \"fio5\",\n",
    "        \"fio6\",\n",
    "        \"fio7\",\n",
    "        \"fio8\",\n",
    "        \"fio9\",\n",
    "        \"iperf10\",\n",
    "        \"iperf11\",\n",
    "        #\"iperf12\",\n",
    "        \"iperf13\",\n",
    "        \"john-the-ripper14\",\n",
    "        \"john-the-ripper15\",\n",
    "        \"ramspeed16\",\n",
    "        \"ramspeed17\",\n",
    "        \"ramspeed18\",\n",
    "        \"ramspeed19\",\n",
    "        \"ramspeed20\",\n",
    "        \"ramspeed21\",\n",
    "        \"ramspeed22\",\n",
    "        \"ramspeed23\",\n",
    "        \"ramspeed24\",\n",
    "        \"ramspeed25\",\n",
    "        \"stream26\",\n",
    "        \"stream27\",\n",
    "        \"stream28\",\n",
    "        \"stream29\",\n",
    "        \"pCpu\",\n",
    "        \"cpus\",\n",
    "        \"rss\",\n",
    "        \"vmem\",\n",
    "        \"rchar\",\n",
    "        \"wchar\",\n",
    "        \"syscr\",\n",
    "        \"syscw\",\n",
    "    ]\n",
    "y_cols = \"rank\"\n",
    "X = dF[x_cols]\n",
    "y = dF[y_cols]"
   ],
   "metadata": {
    "collapsed": false
   }
  },
  {
   "cell_type": "code",
   "execution_count": 47,
   "outputs": [],
   "source": [
    "from sklearn.feature_selection import GenericUnivariateSelect\n",
    "from sklearn.feature_selection import f_regression, f_classif"
   ],
   "metadata": {
    "collapsed": false
   }
  },
  {
   "cell_type": "code",
   "execution_count": 48,
   "outputs": [
    {
     "data": {
      "text/plain": "      build-linux-kernel1  fio2  fio3  fio4  fio5  fio6  fio7  fio8  fio9  \\\n0                       4     4     1     6     1     2     2     2     2   \n1                      13     4     1    21     1     2     2     2     2   \n2                       3    25     1     4     1     2     2     2     2   \n3                      21     4     1     6     1     2     2     2     2   \n4                       1    18     1    21     1     2     2     2     2   \n...                   ...   ...   ...   ...   ...   ...   ...   ...   ...   \n2128                   25    25     1    27     1     2     2     2     2   \n2129                   20    18     1    21     1     2     2     2     2   \n2130                   18    11     1     6     1     2     2     2     2   \n2131                   10    11     1     6     1     2     2     2     2   \n2132                    9    11     1     6     1     2     2     2     2   \n\n      iperf10  ...  stream28  stream29        pCpu  cpus           rss  \\\n0          13  ...         6         6  169.398332   2.0  3.227893e+08   \n1           2  ...         7         7  172.296666   2.0  2.798736e+08   \n2           4  ...         8         8  173.391668   2.0  3.001020e+08   \n3          12  ...        23        23  169.503334   2.0  3.697622e+08   \n4          14  ...         4         4  166.208333   2.0  3.283890e+08   \n...       ...  ...       ...       ...         ...   ...           ...   \n2128       20  ...        21        21  168.706669   2.0  2.299183e+08   \n2129       17  ...        20        20  164.616667   2.0  2.284317e+08   \n2130       22  ...        18        17  163.870000   2.0  2.166854e+08   \n2131       27  ...        16        16  165.026665   2.0  2.096554e+08   \n2132       19  ...        22        22  164.063335   2.0  2.049341e+08   \n\n              vmem         rchar         wchar         syscr         syscw  \n0     8.896484e+09  3.604557e+07  7.123642e+05  18072.933333    236.583333  \n1     8.904040e+09  3.604494e+07  7.123477e+05  18072.600000    236.583333  \n2     8.920521e+09  3.604553e+07  7.123549e+05  18072.883333    236.583333  \n3     8.937702e+09  3.604470e+07  7.123499e+05  18072.466667    236.583333  \n4     8.905091e+09  3.604556e+07  7.123542e+05  18072.916667    236.583333  \n...            ...           ...           ...           ...           ...  \n2128  2.872655e+09  2.510351e+08  2.024109e+08  58832.866667  34999.633333  \n2129  3.141343e+09  2.510357e+08  2.024109e+08  56013.366667  34998.366667  \n2130  3.140811e+09  2.510351e+08  2.024109e+08  56402.566667  34997.900000  \n2131  3.141013e+09  2.510350e+08  2.024131e+08  56188.133333  34993.200000  \n2132  3.139543e+09  2.510336e+08  2.024120e+08  55764.133333  34982.900000  \n\n[2133 rows x 36 columns]",
      "text/html": "<div>\n<style scoped>\n    .dataframe tbody tr th:only-of-type {\n        vertical-align: middle;\n    }\n\n    .dataframe tbody tr th {\n        vertical-align: top;\n    }\n\n    .dataframe thead th {\n        text-align: right;\n    }\n</style>\n<table border=\"1\" class=\"dataframe\">\n  <thead>\n    <tr style=\"text-align: right;\">\n      <th></th>\n      <th>build-linux-kernel1</th>\n      <th>fio2</th>\n      <th>fio3</th>\n      <th>fio4</th>\n      <th>fio5</th>\n      <th>fio6</th>\n      <th>fio7</th>\n      <th>fio8</th>\n      <th>fio9</th>\n      <th>iperf10</th>\n      <th>...</th>\n      <th>stream28</th>\n      <th>stream29</th>\n      <th>pCpu</th>\n      <th>cpus</th>\n      <th>rss</th>\n      <th>vmem</th>\n      <th>rchar</th>\n      <th>wchar</th>\n      <th>syscr</th>\n      <th>syscw</th>\n    </tr>\n  </thead>\n  <tbody>\n    <tr>\n      <th>0</th>\n      <td>4</td>\n      <td>4</td>\n      <td>1</td>\n      <td>6</td>\n      <td>1</td>\n      <td>2</td>\n      <td>2</td>\n      <td>2</td>\n      <td>2</td>\n      <td>13</td>\n      <td>...</td>\n      <td>6</td>\n      <td>6</td>\n      <td>169.398332</td>\n      <td>2.0</td>\n      <td>3.227893e+08</td>\n      <td>8.896484e+09</td>\n      <td>3.604557e+07</td>\n      <td>7.123642e+05</td>\n      <td>18072.933333</td>\n      <td>236.583333</td>\n    </tr>\n    <tr>\n      <th>1</th>\n      <td>13</td>\n      <td>4</td>\n      <td>1</td>\n      <td>21</td>\n      <td>1</td>\n      <td>2</td>\n      <td>2</td>\n      <td>2</td>\n      <td>2</td>\n      <td>2</td>\n      <td>...</td>\n      <td>7</td>\n      <td>7</td>\n      <td>172.296666</td>\n      <td>2.0</td>\n      <td>2.798736e+08</td>\n      <td>8.904040e+09</td>\n      <td>3.604494e+07</td>\n      <td>7.123477e+05</td>\n      <td>18072.600000</td>\n      <td>236.583333</td>\n    </tr>\n    <tr>\n      <th>2</th>\n      <td>3</td>\n      <td>25</td>\n      <td>1</td>\n      <td>4</td>\n      <td>1</td>\n      <td>2</td>\n      <td>2</td>\n      <td>2</td>\n      <td>2</td>\n      <td>4</td>\n      <td>...</td>\n      <td>8</td>\n      <td>8</td>\n      <td>173.391668</td>\n      <td>2.0</td>\n      <td>3.001020e+08</td>\n      <td>8.920521e+09</td>\n      <td>3.604553e+07</td>\n      <td>7.123549e+05</td>\n      <td>18072.883333</td>\n      <td>236.583333</td>\n    </tr>\n    <tr>\n      <th>3</th>\n      <td>21</td>\n      <td>4</td>\n      <td>1</td>\n      <td>6</td>\n      <td>1</td>\n      <td>2</td>\n      <td>2</td>\n      <td>2</td>\n      <td>2</td>\n      <td>12</td>\n      <td>...</td>\n      <td>23</td>\n      <td>23</td>\n      <td>169.503334</td>\n      <td>2.0</td>\n      <td>3.697622e+08</td>\n      <td>8.937702e+09</td>\n      <td>3.604470e+07</td>\n      <td>7.123499e+05</td>\n      <td>18072.466667</td>\n      <td>236.583333</td>\n    </tr>\n    <tr>\n      <th>4</th>\n      <td>1</td>\n      <td>18</td>\n      <td>1</td>\n      <td>21</td>\n      <td>1</td>\n      <td>2</td>\n      <td>2</td>\n      <td>2</td>\n      <td>2</td>\n      <td>14</td>\n      <td>...</td>\n      <td>4</td>\n      <td>4</td>\n      <td>166.208333</td>\n      <td>2.0</td>\n      <td>3.283890e+08</td>\n      <td>8.905091e+09</td>\n      <td>3.604556e+07</td>\n      <td>7.123542e+05</td>\n      <td>18072.916667</td>\n      <td>236.583333</td>\n    </tr>\n    <tr>\n      <th>...</th>\n      <td>...</td>\n      <td>...</td>\n      <td>...</td>\n      <td>...</td>\n      <td>...</td>\n      <td>...</td>\n      <td>...</td>\n      <td>...</td>\n      <td>...</td>\n      <td>...</td>\n      <td>...</td>\n      <td>...</td>\n      <td>...</td>\n      <td>...</td>\n      <td>...</td>\n      <td>...</td>\n      <td>...</td>\n      <td>...</td>\n      <td>...</td>\n      <td>...</td>\n      <td>...</td>\n    </tr>\n    <tr>\n      <th>2128</th>\n      <td>25</td>\n      <td>25</td>\n      <td>1</td>\n      <td>27</td>\n      <td>1</td>\n      <td>2</td>\n      <td>2</td>\n      <td>2</td>\n      <td>2</td>\n      <td>20</td>\n      <td>...</td>\n      <td>21</td>\n      <td>21</td>\n      <td>168.706669</td>\n      <td>2.0</td>\n      <td>2.299183e+08</td>\n      <td>2.872655e+09</td>\n      <td>2.510351e+08</td>\n      <td>2.024109e+08</td>\n      <td>58832.866667</td>\n      <td>34999.633333</td>\n    </tr>\n    <tr>\n      <th>2129</th>\n      <td>20</td>\n      <td>18</td>\n      <td>1</td>\n      <td>21</td>\n      <td>1</td>\n      <td>2</td>\n      <td>2</td>\n      <td>2</td>\n      <td>2</td>\n      <td>17</td>\n      <td>...</td>\n      <td>20</td>\n      <td>20</td>\n      <td>164.616667</td>\n      <td>2.0</td>\n      <td>2.284317e+08</td>\n      <td>3.141343e+09</td>\n      <td>2.510357e+08</td>\n      <td>2.024109e+08</td>\n      <td>56013.366667</td>\n      <td>34998.366667</td>\n    </tr>\n    <tr>\n      <th>2130</th>\n      <td>18</td>\n      <td>11</td>\n      <td>1</td>\n      <td>6</td>\n      <td>1</td>\n      <td>2</td>\n      <td>2</td>\n      <td>2</td>\n      <td>2</td>\n      <td>22</td>\n      <td>...</td>\n      <td>18</td>\n      <td>17</td>\n      <td>163.870000</td>\n      <td>2.0</td>\n      <td>2.166854e+08</td>\n      <td>3.140811e+09</td>\n      <td>2.510351e+08</td>\n      <td>2.024109e+08</td>\n      <td>56402.566667</td>\n      <td>34997.900000</td>\n    </tr>\n    <tr>\n      <th>2131</th>\n      <td>10</td>\n      <td>11</td>\n      <td>1</td>\n      <td>6</td>\n      <td>1</td>\n      <td>2</td>\n      <td>2</td>\n      <td>2</td>\n      <td>2</td>\n      <td>27</td>\n      <td>...</td>\n      <td>16</td>\n      <td>16</td>\n      <td>165.026665</td>\n      <td>2.0</td>\n      <td>2.096554e+08</td>\n      <td>3.141013e+09</td>\n      <td>2.510350e+08</td>\n      <td>2.024131e+08</td>\n      <td>56188.133333</td>\n      <td>34993.200000</td>\n    </tr>\n    <tr>\n      <th>2132</th>\n      <td>9</td>\n      <td>11</td>\n      <td>1</td>\n      <td>6</td>\n      <td>1</td>\n      <td>2</td>\n      <td>2</td>\n      <td>2</td>\n      <td>2</td>\n      <td>19</td>\n      <td>...</td>\n      <td>22</td>\n      <td>22</td>\n      <td>164.063335</td>\n      <td>2.0</td>\n      <td>2.049341e+08</td>\n      <td>3.139543e+09</td>\n      <td>2.510336e+08</td>\n      <td>2.024120e+08</td>\n      <td>55764.133333</td>\n      <td>34982.900000</td>\n    </tr>\n  </tbody>\n</table>\n<p>2133 rows × 36 columns</p>\n</div>"
     },
     "execution_count": 48,
     "metadata": {},
     "output_type": "execute_result"
    }
   ],
   "source": [
    "X"
   ],
   "metadata": {
    "collapsed": false
   }
  },
  {
   "cell_type": "code",
   "execution_count": 49,
   "outputs": [
    {
     "data": {
      "text/plain": "\"'build-linux-kernel1', 'fio3', 'fio5', 'fio6', 'fio7', 'fio8', 'fio9', 'iperf11', 'iperf13', 'john-the-ripper14', 'john-the-ripper15', 'ramspeed16', 'ramspeed17', 'ramspeed18', 'ramspeed19', 'ramspeed20', 'ramspeed21', 'ramspeed22', 'ramspeed23', 'ramspeed24', 'ramspeed25', 'stream26', 'stream27', 'stream28', 'stream29'\""
     },
     "execution_count": 49,
     "metadata": {},
     "output_type": "execute_result"
    }
   ],
   "source": [
    "g = GenericUnivariateSelect(f_regression,mode='percentile', param=70)\n",
    "X_new = g.fit_transform(X,y)\n",
    "filtered_X_cols = np.array(x_cols)[g.get_support(indices=True)]\n",
    "\", \".join(map(lambda x: repr(x), filtered_X_cols))"
   ],
   "metadata": {
    "collapsed": false
   }
  },
  {
   "cell_type": "code",
   "execution_count": 50,
   "outputs": [
    {
     "data": {
      "text/plain": "array(['build-linux-kernel1', 'fio3', 'fio5', 'fio6', 'fio7', 'fio8',\n       'fio9', 'iperf11', 'iperf13', 'john-the-ripper14',\n       'john-the-ripper15', 'ramspeed16', 'ramspeed17', 'ramspeed18',\n       'ramspeed19', 'ramspeed20', 'ramspeed21', 'ramspeed22',\n       'ramspeed23', 'ramspeed24', 'ramspeed25', 'stream26', 'stream27',\n       'stream28', 'stream29'], dtype='<U19')"
     },
     "execution_count": 50,
     "metadata": {},
     "output_type": "execute_result"
    }
   ],
   "source": [
    "filtered_X_cols"
   ],
   "metadata": {
    "collapsed": false
   }
  },
  {
   "cell_type": "code",
   "execution_count": 51,
   "outputs": [
    {
     "data": {
      "text/plain": "[9.04421668693325,\n 10.647027584208043,\n 12.488534328286537,\n 12.568930390939949,\n 12.619485803886061,\n 14.763645985015403,\n 15.049829114318783,\n 15.049829114318783,\n 15.049829114318783,\n 15.049829114318783,\n 18.628304437417338,\n 24.988055730195597,\n 25.035953510972732,\n 25.11820010318051,\n 26.123094118891583,\n 26.350167916182503,\n 26.849099610529617,\n 27.674313121668447,\n 28.13796961898497,\n 28.20043508333466,\n 28.57181239023663,\n 28.739183855604367,\n 29.31820168214198,\n 31.404346709181553,\n 51.07555699532894]"
     },
     "execution_count": 51,
     "metadata": {},
     "output_type": "execute_result"
    }
   ],
   "source": [
    "import seaborn as sbs\n",
    "sorted(np.array(g.scores_)[g.get_support(indices=True)])"
   ],
   "metadata": {
    "collapsed": false
   }
  },
  {
   "cell_type": "code",
   "execution_count": 52,
   "outputs": [
    {
     "data": {
      "text/plain": "<AxesSubplot:>"
     },
     "execution_count": 52,
     "metadata": {},
     "output_type": "execute_result"
    },
    {
     "data": {
      "text/plain": "<Figure size 432x288 with 1 Axes>",
      "image/png": "[encoded data removed]"
     },
     "metadata": {},
     "output_type": "display_data"
    }
   ],
   "source": [
    "sbs.lineplot(data=np.array(g.scores_)[g.get_support(indices=True)])"
   ],
   "metadata": {
    "collapsed": false
   }
  }
 ],
 "metadata": {
  "kernelspec": {
   "name": "python396jvsc74a57bd0833e9faf2a7ac8b79841bf2cf5d837526059e71529011d8b6ba9767c5bc4385f",
   "language": "python",
   "display_name": "Python 3.9.6 64-bit ('py': conda)"
  },
  "language_info": {
   "codemirror_mode": {
    "name": "ipython",
    "version": 2
   },
   "file_extension": ".py",
   "mimetype": "text/x-python",
   "name": "python",
   "nbconvert_exporter": "python",
   "pygments_lexer": "ipython2",
   "version": "2.7.6"
  }
 },
 "nbformat": 4,
 "nbformat_minor": 0
}
