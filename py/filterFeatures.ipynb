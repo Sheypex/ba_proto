{
 "cells": [
  {
   "cell_type": "code",
   "execution_count": 5,
   "metadata": {},
   "outputs": [],
   "source": [
    "#import rich.pretty\n",
    "#import commons\n",
    "from db_actions import db_actions\n",
    "import pandas as pds\n",
    "import numpy as np"
   ]
  },
  {
   "cell_type": "code",
   "execution_count": 26,
   "metadata": {},
   "outputs": [],
   "source": [
    "csvPath = \"\"\n",
    "if csvPath != \"\":\n",
    "    dF = None\n",
    "    try:\n",
    "        dF = pds.read_csv(open(csvPath, \"r\"))  # already filtered for realtime > 1000)\n",
    "    except:\n",
    "        pass\n",
    "    try:\n",
    "        dF = pds.read_csv(open(csvPath + \".csv\", \"r\"))\n",
    "    except:\n",
    "        pass\n",
    "    if dF is None:\n",
    "        raise Exception(f\"Couldn't open csv file {csvPath!r} or {(csvPath + '.csv')!r}\")\n",
    "else:\n",
    "    with db_actions.connect() as conn:\n",
    "        dF = pds.read_sql('SELECT * FROM \"runtimeScorePredBase1000\"', conn)\n",
    "# print(dF)\n",
    "x_cols = [\n",
    "    \"build-linux-kernel1\",\n",
    "    \"fio2\",\n",
    "    \"fio3\",\n",
    "    \"fio4\",\n",
    "    \"fio5\",\n",
    "    \"fio6\",\n",
    "    \"fio7\",\n",
    "    \"fio8\",\n",
    "    \"fio9\",\n",
    "    \"iperf10\",\n",
    "    \"iperf11\",\n",
    "    \"iperf12\",\n",
    "    \"iperf13\",\n",
    "    \"john-the-ripper14\",\n",
    "    \"john-the-ripper15\",\n",
    "    \"ramspeed16\",\n",
    "    \"ramspeed17\",\n",
    "    \"ramspeed18\",\n",
    "    \"ramspeed19\",\n",
    "    \"ramspeed20\",\n",
    "    \"ramspeed21\",\n",
    "    \"ramspeed22\",\n",
    "    \"ramspeed23\",\n",
    "    \"ramspeed24\",\n",
    "    \"ramspeed25\",\n",
    "    \"stream26\",\n",
    "    \"stream27\",\n",
    "    \"stream28\",\n",
    "    \"stream29\",\n",
    "    \"pCpu\",\n",
    "    \"cpus\",\n",
    "    \"rss\",\n",
    "    \"vmem\",\n",
    "    \"rchar\",\n",
    "    \"wchar\",\n",
    "    \"syscr\",\n",
    "    \"syscw\",\n",
    "]\n",
    "y_cols = \"realtime\"\n",
    "X = dF[x_cols]\n",
    "y = dF[y_cols]"
   ]
  },
  {
   "cell_type": "code",
   "execution_count": 27,
   "metadata": {},
   "outputs": [],
   "source": [
    "from sklearn.feature_selection import GenericUnivariateSelect\n",
    "from sklearn.feature_selection import f_regression, f_classif\n",
    "from sklearn.preprocessing import PolynomialFeatures"
   ]
  },
  {
   "cell_type": "code",
   "execution_count": 28,
   "metadata": {},
   "outputs": [
    {
     "data": {
      "text/plain": "       build-linux-kernel1    fio2  fio3    fio4  fio5  fio6        fio7  \\\n0                 0.005693  2996.0  11.7  2996.0  11.7  62.0  131.000000   \n1                 0.004131  2997.0  11.7  2996.0  11.7  62.0  131.000000   \n2                 0.005693  2996.0  11.7  2996.0  11.7  62.0  131.000000   \n3                 0.005693  2996.0  11.7  2996.0  11.7  62.0  131.000000   \n4                 0.004131  2997.0  11.7  2996.0  11.7  62.0  131.000000   \n...                    ...     ...   ...     ...   ...   ...         ...   \n33340             0.000823  3056.0  11.2  3057.0  11.2  24.0   56.099998   \n33341             0.000823  3056.0  11.2  3057.0  11.2  24.0   56.099998   \n33342             0.000823  3056.0  11.2  3057.0  11.2  24.0   56.099998   \n33343             0.000823  3056.0  11.2  3057.0  11.2  24.0   56.099998   \n33344             0.000823  3056.0  11.2  3057.0  11.2  24.0   56.099998   \n\n       fio8        fio9     iperf10  ...      stream28      stream29   pCpu  \\\n0      62.0  131.000000  262.399994  ...  47902.000000  50250.699219   89.7   \n1      62.0  131.000000  479.000000  ...  48371.101562  51294.500000   88.4   \n2      62.0  131.000000  262.399994  ...  47902.000000  50250.699219   99.2   \n3      62.0  131.000000  262.399994  ...  47902.000000  50250.699219  142.5   \n4      62.0  131.000000  479.000000  ...  48371.101562  51294.500000   99.2   \n...     ...         ...         ...  ...           ...           ...    ...   \n33340  24.0   56.099998  658.000000  ...   9643.400391  10218.400391  103.4   \n33341  24.0   56.099998  658.000000  ...   9643.400391  10218.400391  131.9   \n33342  24.0   56.099998  658.000000  ...   9643.400391  10218.400391  101.8   \n33343  24.0   56.099998  658.000000  ...   9643.400391  10218.400391  108.7   \n33344  24.0   56.099998  658.000000  ...   9643.400391  10218.400391   88.8   \n\n       cpus        rss        vmem      rchar     wchar  syscr  syscw  \n0         1   95793152  4427087872   50139522     39671  12832    109  \n1         1   69025792  4420730880   50139822     39657  12841    109  \n2         2   60620800    65343488   49172852  33434019   1712     50  \n3         2  185581568  3401027584   38953944   3335442  30823  10707  \n4         2   60461056    65343488   49172855  33434020   1712     50  \n...     ...        ...         ...        ...       ...    ...    ...  \n33340     2  543965184   973762560  202983220    260844  22898    137  \n33341     2  253304832  2260905984   11549869      2042    325    112  \n33342     2  403304448   752922624   24242299   2711789   2082    618  \n33343     2  234266624  1296486400  408933998   8433925  94140    659  \n33344     2  127614976   529268736   71736677  26627252  12282   1824  \n\n[33345 rows x 37 columns]",
      "text/html": "<div>\n<style scoped>\n    .dataframe tbody tr th:only-of-type {\n        vertical-align: middle;\n    }\n\n    .dataframe tbody tr th {\n        vertical-align: top;\n    }\n\n    .dataframe thead th {\n        text-align: right;\n    }\n</style>\n<table border=\"1\" class=\"dataframe\">\n  <thead>\n    <tr style=\"text-align: right;\">\n      <th></th>\n      <th>build-linux-kernel1</th>\n      <th>fio2</th>\n      <th>fio3</th>\n      <th>fio4</th>\n      <th>fio5</th>\n      <th>fio6</th>\n      <th>fio7</th>\n      <th>fio8</th>\n      <th>fio9</th>\n      <th>iperf10</th>\n      <th>...</th>\n      <th>stream28</th>\n      <th>stream29</th>\n      <th>pCpu</th>\n      <th>cpus</th>\n      <th>rss</th>\n      <th>vmem</th>\n      <th>rchar</th>\n      <th>wchar</th>\n      <th>syscr</th>\n      <th>syscw</th>\n    </tr>\n  </thead>\n  <tbody>\n    <tr>\n      <th>0</th>\n      <td>0.005693</td>\n      <td>2996.0</td>\n      <td>11.7</td>\n      <td>2996.0</td>\n      <td>11.7</td>\n      <td>62.0</td>\n      <td>131.000000</td>\n      <td>62.0</td>\n      <td>131.000000</td>\n      <td>262.399994</td>\n      <td>...</td>\n      <td>47902.000000</td>\n      <td>50250.699219</td>\n      <td>89.7</td>\n      <td>1</td>\n      <td>95793152</td>\n      <td>4427087872</td>\n      <td>50139522</td>\n      <td>39671</td>\n      <td>12832</td>\n      <td>109</td>\n    </tr>\n    <tr>\n      <th>1</th>\n      <td>0.004131</td>\n      <td>2997.0</td>\n      <td>11.7</td>\n      <td>2996.0</td>\n      <td>11.7</td>\n      <td>62.0</td>\n      <td>131.000000</td>\n      <td>62.0</td>\n      <td>131.000000</td>\n      <td>479.000000</td>\n      <td>...</td>\n      <td>48371.101562</td>\n      <td>51294.500000</td>\n      <td>88.4</td>\n      <td>1</td>\n      <td>69025792</td>\n      <td>4420730880</td>\n      <td>50139822</td>\n      <td>39657</td>\n      <td>12841</td>\n      <td>109</td>\n    </tr>\n    <tr>\n      <th>2</th>\n      <td>0.005693</td>\n      <td>2996.0</td>\n      <td>11.7</td>\n      <td>2996.0</td>\n      <td>11.7</td>\n      <td>62.0</td>\n      <td>131.000000</td>\n      <td>62.0</td>\n      <td>131.000000</td>\n      <td>262.399994</td>\n      <td>...</td>\n      <td>47902.000000</td>\n      <td>50250.699219</td>\n      <td>99.2</td>\n      <td>2</td>\n      <td>60620800</td>\n      <td>65343488</td>\n      <td>49172852</td>\n      <td>33434019</td>\n      <td>1712</td>\n      <td>50</td>\n    </tr>\n    <tr>\n      <th>3</th>\n      <td>0.005693</td>\n      <td>2996.0</td>\n      <td>11.7</td>\n      <td>2996.0</td>\n      <td>11.7</td>\n      <td>62.0</td>\n      <td>131.000000</td>\n      <td>62.0</td>\n      <td>131.000000</td>\n      <td>262.399994</td>\n      <td>...</td>\n      <td>47902.000000</td>\n      <td>50250.699219</td>\n      <td>142.5</td>\n      <td>2</td>\n      <td>185581568</td>\n      <td>3401027584</td>\n      <td>38953944</td>\n      <td>3335442</td>\n      <td>30823</td>\n      <td>10707</td>\n    </tr>\n    <tr>\n      <th>4</th>\n      <td>0.004131</td>\n      <td>2997.0</td>\n      <td>11.7</td>\n      <td>2996.0</td>\n      <td>11.7</td>\n      <td>62.0</td>\n      <td>131.000000</td>\n      <td>62.0</td>\n      <td>131.000000</td>\n      <td>479.000000</td>\n      <td>...</td>\n      <td>48371.101562</td>\n      <td>51294.500000</td>\n      <td>99.2</td>\n      <td>2</td>\n      <td>60461056</td>\n      <td>65343488</td>\n      <td>49172855</td>\n      <td>33434020</td>\n      <td>1712</td>\n      <td>50</td>\n    </tr>\n    <tr>\n      <th>...</th>\n      <td>...</td>\n      <td>...</td>\n      <td>...</td>\n      <td>...</td>\n      <td>...</td>\n      <td>...</td>\n      <td>...</td>\n      <td>...</td>\n      <td>...</td>\n      <td>...</td>\n      <td>...</td>\n      <td>...</td>\n      <td>...</td>\n      <td>...</td>\n      <td>...</td>\n      <td>...</td>\n      <td>...</td>\n      <td>...</td>\n      <td>...</td>\n      <td>...</td>\n      <td>...</td>\n    </tr>\n    <tr>\n      <th>33340</th>\n      <td>0.000823</td>\n      <td>3056.0</td>\n      <td>11.2</td>\n      <td>3057.0</td>\n      <td>11.2</td>\n      <td>24.0</td>\n      <td>56.099998</td>\n      <td>24.0</td>\n      <td>56.099998</td>\n      <td>658.000000</td>\n      <td>...</td>\n      <td>9643.400391</td>\n      <td>10218.400391</td>\n      <td>103.4</td>\n      <td>2</td>\n      <td>543965184</td>\n      <td>973762560</td>\n      <td>202983220</td>\n      <td>260844</td>\n      <td>22898</td>\n      <td>137</td>\n    </tr>\n    <tr>\n      <th>33341</th>\n      <td>0.000823</td>\n      <td>3056.0</td>\n      <td>11.2</td>\n      <td>3057.0</td>\n      <td>11.2</td>\n      <td>24.0</td>\n      <td>56.099998</td>\n      <td>24.0</td>\n      <td>56.099998</td>\n      <td>658.000000</td>\n      <td>...</td>\n      <td>9643.400391</td>\n      <td>10218.400391</td>\n      <td>131.9</td>\n      <td>2</td>\n      <td>253304832</td>\n      <td>2260905984</td>\n      <td>11549869</td>\n      <td>2042</td>\n      <td>325</td>\n      <td>112</td>\n    </tr>\n    <tr>\n      <th>33342</th>\n      <td>0.000823</td>\n      <td>3056.0</td>\n      <td>11.2</td>\n      <td>3057.0</td>\n      <td>11.2</td>\n      <td>24.0</td>\n      <td>56.099998</td>\n      <td>24.0</td>\n      <td>56.099998</td>\n      <td>658.000000</td>\n      <td>...</td>\n      <td>9643.400391</td>\n      <td>10218.400391</td>\n      <td>101.8</td>\n      <td>2</td>\n      <td>403304448</td>\n      <td>752922624</td>\n      <td>24242299</td>\n      <td>2711789</td>\n      <td>2082</td>\n      <td>618</td>\n    </tr>\n    <tr>\n      <th>33343</th>\n      <td>0.000823</td>\n      <td>3056.0</td>\n      <td>11.2</td>\n      <td>3057.0</td>\n      <td>11.2</td>\n      <td>24.0</td>\n      <td>56.099998</td>\n      <td>24.0</td>\n      <td>56.099998</td>\n      <td>658.000000</td>\n      <td>...</td>\n      <td>9643.400391</td>\n      <td>10218.400391</td>\n      <td>108.7</td>\n      <td>2</td>\n      <td>234266624</td>\n      <td>1296486400</td>\n      <td>408933998</td>\n      <td>8433925</td>\n      <td>94140</td>\n      <td>659</td>\n    </tr>\n    <tr>\n      <th>33344</th>\n      <td>0.000823</td>\n      <td>3056.0</td>\n      <td>11.2</td>\n      <td>3057.0</td>\n      <td>11.2</td>\n      <td>24.0</td>\n      <td>56.099998</td>\n      <td>24.0</td>\n      <td>56.099998</td>\n      <td>658.000000</td>\n      <td>...</td>\n      <td>9643.400391</td>\n      <td>10218.400391</td>\n      <td>88.8</td>\n      <td>2</td>\n      <td>127614976</td>\n      <td>529268736</td>\n      <td>71736677</td>\n      <td>26627252</td>\n      <td>12282</td>\n      <td>1824</td>\n    </tr>\n  </tbody>\n</table>\n<p>33345 rows × 37 columns</p>\n</div>"
     },
     "execution_count": 28,
     "metadata": {},
     "output_type": "execute_result"
    }
   ],
   "source": [
    "X"
   ]
  },
  {
   "cell_type": "code",
   "execution_count": 29,
   "metadata": {},
   "outputs": [
    {
     "name": "stderr",
     "output_type": "stream",
     "text": [
      "/home/anon/anaconda3/envs/py/lib/python3.9/site-packages/sklearn/feature_selection/_univariate_selection.py:295: RuntimeWarning: invalid value encountered in sqrt\n",
      "  X_norms = np.sqrt(row_norms(X.T, squared=True) -\n"
     ]
    },
    {
     "data": {
      "text/plain": "\"'john-the-ripper15', 'ramspeed17', 'ramspeed18', 'ramspeed19', 'ramspeed20', 'ramspeed21', 'ramspeed23', 'ramspeed24', 'ramspeed25', 'pCpu', 'cpus', 'vmem', 'rchar', 'wchar', 'syscr', 'syscw'\""
     },
     "execution_count": 29,
     "metadata": {},
     "output_type": "execute_result"
    }
   ],
   "source": [
    "g = GenericUnivariateSelect(f_regression, mode='k_best', param=16)\n",
    "X_poly = PolynomialFeatures(3, interaction_only=True).fit_transform(X)\n",
    "X_new = g.fit_transform(X, y)\n",
    "filtered_X_cols = np.array(x_cols)[g.get_support(indices=True)]\n",
    "\", \".join(map(lambda x: repr(x), filtered_X_cols))"
   ]
  },
  {
   "cell_type": "code",
   "execution_count": 22,
   "metadata": {},
   "outputs": [],
   "source": [
    "#filtered_X_cols"
   ]
  },
  {
   "cell_type": "code",
   "execution_count": 23,
   "metadata": {},
   "outputs": [
    {
     "data": {
      "text/plain": "[1189.5672716511838,\n 2127.189226571209,\n 2921.432914913615,\n 2921.432914913615,\n 2938.1826443015266,\n 2938.1826443015266,\n 4881.016650688156,\n 4948.353272317276,\n 5420.439155568325,\n 5668.352489297517,\n 6471.481803464417,\n 6643.007352889558,\n 6875.102960526589,\n 6984.978597252819,\n 6998.746659028816,\n 7169.175933760193,\n 8472.7617905236,\n 9344.549998798042,\n 9916.124789308398,\n 9968.143804972935,\n 10596.266333728827,\n 11887.746577875665,\n 12007.811576980199,\n 12062.524226013247,\n 12564.060723858704,\n 13668.454590693013]"
     },
     "execution_count": 23,
     "metadata": {},
     "output_type": "execute_result"
    }
   ],
   "source": [
    "import seaborn as sbs\n",
    "\n",
    "top1 = sorted(np.array(g.scores_)[g.get_support(indices=True)])\n",
    "top1"
   ]
  },
  {
   "cell_type": "code",
   "execution_count": 24,
   "metadata": {},
   "outputs": [
    {
     "data": {
      "text/plain": "26"
     },
     "execution_count": 24,
     "metadata": {},
     "output_type": "execute_result"
    }
   ],
   "source": [
    "len(np.array(g.scores_)[g.get_support(indices=True)])"
   ]
  },
  {
   "cell_type": "code",
   "execution_count": 25,
   "metadata": {},
   "outputs": [
    {
     "data": {
      "text/plain": "<Figure size 432x288 with 1 Axes>",
      "image/png": "[encoded data removed]"
     },
     "metadata": {
      "needs_background": "light"
     },
     "output_type": "display_data"
    }
   ],
   "source": [
    "p = sbs.lineplot(data=sorted(np.array(g.scores_)[g.get_support(indices=True)]))\n",
    "p.set_yscale(\"log\")"
   ]
  },
  {
   "cell_type": "code",
   "execution_count": 155,
   "outputs": [],
   "source": [
    "csvPath = \"predBase.csv\"\n",
    "if csvPath != \"\":\n",
    "    dF = None\n",
    "    try:\n",
    "        dF = pds.read_csv(open(csvPath, \"r\"))  # already filtered for realtime > 1000)\n",
    "    except:\n",
    "        pass\n",
    "    try:\n",
    "        dF = pds.read_csv(open(csvPath + \".csv\", \"r\"))\n",
    "    except:\n",
    "        pass\n",
    "    if dF is None:\n",
    "        raise Exception(f\"Couldn't open csv file {csvPath!r} or {(csvPath + '.csv')!r}\")\n",
    "else:\n",
    "    with db_actions.connect() as conn:\n",
    "        dF = pds.read_sql('SELECT * FROM \"averageRuntimesPredictionBase1000\"', conn)\n",
    "# print(dF)\n",
    "x_cols = [\n",
    "    'john-the-ripper15', 'ramspeed16', 'ramspeed18', 'ramspeed19', 'ramspeed20', 'ramspeed21', 'ramspeed22',\n",
    "    'ramspeed23', 'ramspeed24', 'ramspeed25'\n",
    "    # 'fio3', 'fio5', 'john-the-ripper15', 'ramspeed16', 'ramspeed17', 'ramspeed18', 'ramspeed19', 'ramspeed20', 'ramspeed21', 'ramspeed22', 'ramspeed23', 'ramspeed24', 'ramspeed25'\n",
    "    # 'build-linux-kernel1', 'fio3', 'fio5', 'fio6', 'fio7', 'fio8', 'fio9', 'john-the-ripper15', 'ramspeed16', 'ramspeed17', 'ramspeed18', 'ramspeed19', 'ramspeed20', 'ramspeed21', 'ramspeed22', 'ramspeed23', 'ramspeed24', 'ramspeed25', 'stream27'\n",
    "]\n",
    "y_cols = \"rank\"\n",
    "X = dF[x_cols]\n",
    "y = dF[y_cols]"
   ],
   "metadata": {
    "collapsed": false
   }
  },
  {
   "cell_type": "code",
   "execution_count": 156,
   "outputs": [],
   "source": [
    "from sklearn.feature_selection import GenericUnivariateSelect\n",
    "from sklearn.feature_selection import f_regression, f_classif\n",
    "from sklearn.preprocessing import PolynomialFeatures"
   ],
   "metadata": {
    "collapsed": false
   }
  },
  {
   "cell_type": "code",
   "execution_count": 157,
   "outputs": [
    {
     "data": {
      "text/plain": "      john-the-ripper15  ramspeed16  ramspeed18  ramspeed19  ramspeed20  \\\n0                     3          12          12          13          13   \n1                    16           2           2           2           2   \n2                     8           1           1           1           1   \n3                    15          22          22          21          21   \n4                     1           9           9          10           9   \n...                 ...         ...         ...         ...         ...   \n2128                 26          20          20          20          20   \n2129                 23          21          21          22          22   \n2130                 24          14          15          15          15   \n2131                 18          15          16          16          16   \n2132                 19          17          17          17          17   \n\n      ramspeed21  ramspeed22  ramspeed23  ramspeed24  ramspeed25  \n0             14          12          13          11          12  \n1              1           2           1           2           2  \n2              2           1           2           1           1  \n3             21          21          20          22          21  \n4              9           8          11           7           9  \n...          ...         ...         ...         ...         ...  \n2128          19          20          21          20          19  \n2129          22          22          23          21          22  \n2130          15          14          16          15          16  \n2131          16          15          15          16          17  \n2132          17          17          17          17          18  \n\n[2133 rows x 10 columns]",
      "text/html": "<div>\n<style scoped>\n    .dataframe tbody tr th:only-of-type {\n        vertical-align: middle;\n    }\n\n    .dataframe tbody tr th {\n        vertical-align: top;\n    }\n\n    .dataframe thead th {\n        text-align: right;\n    }\n</style>\n<table border=\"1\" class=\"dataframe\">\n  <thead>\n    <tr style=\"text-align: right;\">\n      <th></th>\n      <th>john-the-ripper15</th>\n      <th>ramspeed16</th>\n      <th>ramspeed18</th>\n      <th>ramspeed19</th>\n      <th>ramspeed20</th>\n      <th>ramspeed21</th>\n      <th>ramspeed22</th>\n      <th>ramspeed23</th>\n      <th>ramspeed24</th>\n      <th>ramspeed25</th>\n    </tr>\n  </thead>\n  <tbody>\n    <tr>\n      <th>0</th>\n      <td>3</td>\n      <td>12</td>\n      <td>12</td>\n      <td>13</td>\n      <td>13</td>\n      <td>14</td>\n      <td>12</td>\n      <td>13</td>\n      <td>11</td>\n      <td>12</td>\n    </tr>\n    <tr>\n      <th>1</th>\n      <td>16</td>\n      <td>2</td>\n      <td>2</td>\n      <td>2</td>\n      <td>2</td>\n      <td>1</td>\n      <td>2</td>\n      <td>1</td>\n      <td>2</td>\n      <td>2</td>\n    </tr>\n    <tr>\n      <th>2</th>\n      <td>8</td>\n      <td>1</td>\n      <td>1</td>\n      <td>1</td>\n      <td>1</td>\n      <td>2</td>\n      <td>1</td>\n      <td>2</td>\n      <td>1</td>\n      <td>1</td>\n    </tr>\n    <tr>\n      <th>3</th>\n      <td>15</td>\n      <td>22</td>\n      <td>22</td>\n      <td>21</td>\n      <td>21</td>\n      <td>21</td>\n      <td>21</td>\n      <td>20</td>\n      <td>22</td>\n      <td>21</td>\n    </tr>\n    <tr>\n      <th>4</th>\n      <td>1</td>\n      <td>9</td>\n      <td>9</td>\n      <td>10</td>\n      <td>9</td>\n      <td>9</td>\n      <td>8</td>\n      <td>11</td>\n      <td>7</td>\n      <td>9</td>\n    </tr>\n    <tr>\n      <th>...</th>\n      <td>...</td>\n      <td>...</td>\n      <td>...</td>\n      <td>...</td>\n      <td>...</td>\n      <td>...</td>\n      <td>...</td>\n      <td>...</td>\n      <td>...</td>\n      <td>...</td>\n    </tr>\n    <tr>\n      <th>2128</th>\n      <td>26</td>\n      <td>20</td>\n      <td>20</td>\n      <td>20</td>\n      <td>20</td>\n      <td>19</td>\n      <td>20</td>\n      <td>21</td>\n      <td>20</td>\n      <td>19</td>\n    </tr>\n    <tr>\n      <th>2129</th>\n      <td>23</td>\n      <td>21</td>\n      <td>21</td>\n      <td>22</td>\n      <td>22</td>\n      <td>22</td>\n      <td>22</td>\n      <td>23</td>\n      <td>21</td>\n      <td>22</td>\n    </tr>\n    <tr>\n      <th>2130</th>\n      <td>24</td>\n      <td>14</td>\n      <td>15</td>\n      <td>15</td>\n      <td>15</td>\n      <td>15</td>\n      <td>14</td>\n      <td>16</td>\n      <td>15</td>\n      <td>16</td>\n    </tr>\n    <tr>\n      <th>2131</th>\n      <td>18</td>\n      <td>15</td>\n      <td>16</td>\n      <td>16</td>\n      <td>16</td>\n      <td>16</td>\n      <td>15</td>\n      <td>15</td>\n      <td>16</td>\n      <td>17</td>\n    </tr>\n    <tr>\n      <th>2132</th>\n      <td>19</td>\n      <td>17</td>\n      <td>17</td>\n      <td>17</td>\n      <td>17</td>\n      <td>17</td>\n      <td>17</td>\n      <td>17</td>\n      <td>17</td>\n      <td>18</td>\n    </tr>\n  </tbody>\n</table>\n<p>2133 rows × 10 columns</p>\n</div>"
     },
     "execution_count": 157,
     "metadata": {},
     "output_type": "execute_result"
    }
   ],
   "source": [
    "X"
   ],
   "metadata": {
    "collapsed": false
   }
  },
  {
   "cell_type": "code",
   "execution_count": 158,
   "outputs": [
    {
     "name": "stderr",
     "output_type": "stream",
     "text": [
      "/home/alex/anaconda3/envs/py/lib/python3.9/site-packages/sklearn/feature_selection/_univariate_selection.py:302: RuntimeWarning: divide by zero encountered in true_divide\n",
      "  corr /= X_norms\n",
      "/home/alex/anaconda3/envs/py/lib/python3.9/site-packages/sklearn/feature_selection/_univariate_selection.py:307: RuntimeWarning: invalid value encountered in true_divide\n",
      "  F = corr ** 2 / (1 - corr ** 2) * degrees_of_freedom\n"
     ]
    }
   ],
   "source": [
    "g = GenericUnivariateSelect(f_regression, mode='k_best', param=15)\n",
    "X_poly = PolynomialFeatures(3, interaction_only=True).fit_transform(X)\n",
    "X_new = g.fit_transform(X_poly, y)\n",
    "#filtered_X_cols = np.array(x_cols)[g.get_support(indices=True)]\n",
    "#\", \".join(map(lambda x: repr(x), filtered_X_cols))"
   ],
   "metadata": {
    "collapsed": false
   }
  },
  {
   "cell_type": "code",
   "execution_count": 159,
   "outputs": [],
   "source": [
    "#filtered_X_cols"
   ],
   "metadata": {
    "collapsed": false
   }
  },
  {
   "cell_type": "code",
   "execution_count": 160,
   "outputs": [
    {
     "data": {
      "text/plain": "[656.0245978507477,\n 658.2317274806264,\n 663.6896663429989,\n 667.9922300965396,\n 669.7489681454629,\n 841.9382416527793,\n 869.80880998922,\n 892.1068335904318,\n 895.8952341266631,\n 901.6764759125199,\n 912.9808719335363,\n 914.0295957010733,\n 917.1645814984736,\n 970.5810773101731,\n 1021.1695521511341]"
     },
     "execution_count": 160,
     "metadata": {},
     "output_type": "execute_result"
    }
   ],
   "source": [
    "import seaborn as sbs\n",
    "\n",
    "top2 = sorted(np.array(g.scores_)[g.get_support(indices=True)])\n",
    "top2"
   ],
   "metadata": {
    "collapsed": false
   }
  },
  {
   "cell_type": "code",
   "execution_count": 161,
   "outputs": [
    {
     "data": {
      "text/plain": "15"
     },
     "execution_count": 161,
     "metadata": {},
     "output_type": "execute_result"
    }
   ],
   "source": [
    "len(np.array(g.scores_)[g.get_support(indices=True)])"
   ],
   "metadata": {
    "collapsed": false
   }
  },
  {
   "cell_type": "code",
   "execution_count": 162,
   "outputs": [
    {
     "data": {
      "text/plain": "<AxesSubplot:>"
     },
     "execution_count": 162,
     "metadata": {},
     "output_type": "execute_result"
    },
    {
     "data": {
      "text/plain": "<Figure size 432x288 with 1 Axes>",
      "image/png": "[encoded data removed]"
     },
     "metadata": {},
     "output_type": "display_data"
    }
   ],
   "source": [
    "sbs.lineplot(data=sorted(np.array(g.scores_)[g.get_support(indices=True)]))"
   ],
   "metadata": {
    "collapsed": false
   }
  },
  {
   "cell_type": "code",
   "execution_count": 163,
   "outputs": [
    {
     "ename": "ValueError",
     "evalue": "operands could not be broadcast together with shapes (5,) (15,) ",
     "output_type": "error",
     "traceback": [
      "\u001B[0;31m---------------------------------------------------------------------------\u001B[0m",
      "\u001B[0;31mValueError\u001B[0m                                Traceback (most recent call last)",
      "\u001B[0;32m/tmp/ipykernel_140499/2766766469.py\u001B[0m in \u001B[0;36m<module>\u001B[0;34m\u001B[0m\n\u001B[0;32m----> 1\u001B[0;31m \u001B[0mnp\u001B[0m\u001B[0;34m.\u001B[0m\u001B[0marray\u001B[0m\u001B[0;34m(\u001B[0m\u001B[0mtop1\u001B[0m\u001B[0;34m)\u001B[0m \u001B[0;34m-\u001B[0m \u001B[0mnp\u001B[0m\u001B[0;34m.\u001B[0m\u001B[0marray\u001B[0m\u001B[0;34m(\u001B[0m\u001B[0mtop2\u001B[0m\u001B[0;34m)\u001B[0m\u001B[0;34m\u001B[0m\u001B[0;34m\u001B[0m\u001B[0m\n\u001B[0m",
      "\u001B[0;31mValueError\u001B[0m: operands could not be broadcast together with shapes (5,) (15,) "
     ]
    }
   ],
   "source": [
    "np.array(top1) - np.array(top2)"
   ],
   "metadata": {
    "collapsed": false
   }
  }
 ],
 "metadata": {
  "kernelspec": {
   "display_name": "Python 3 (ipykernel)",
   "language": "python",
   "name": "python3"
  },
  "language_info": {
   "codemirror_mode": {
    "name": "ipython",
    "version": 3
   },
   "file_extension": ".py",
   "mimetype": "text/x-python",
   "name": "python",
   "nbconvert_exporter": "python",
   "pygments_lexer": "ipython3",
   "version": "3.9.6"
  }
 },
 "nbformat": 4,
 "nbformat_minor": 1
}
