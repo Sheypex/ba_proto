{
 "cells": [
  {
   "cell_type": "code",
   "execution_count": 19,
   "metadata": {},
   "outputs": [],
   "source": [
    "import cProfile\n",
    "import os\n",
    "import pickle\n",
    "import pstats\n",
    "import re\n",
    "from collections import namedtuple\n",
    "from typing import List\n",
    "from multiprocessing import Pool\n",
    "import networkx as NX\n",
    "import pandas as pds\n",
    "import matplotlib.pyplot as plt\n",
    "import itertools\n",
    "import math\n",
    "import re\n",
    "import statistics\n",
    "from pprint import pprint\n",
    "\n",
    "import scipy\n",
    "from scipy import stats as scistats\n",
    "from sklearn import linear_model, preprocessing\n",
    "from tabulate import tabulate\n",
    "from pathlib import Path\n",
    "import pickle\n",
    "import random\n",
    "import argparse\n",
    "import sys\n",
    "\n",
    "import data_types\n",
    "from db_actions import db_actions\n",
    "import numpy as np\n",
    "from my_yaml import yaml_load, yaml_dump\n",
    "from alive_progress import alive_bar\n",
    "import seaborn as sns\n",
    "from data_types import PickleOut"
   ]
  },
  {
   "cell_type": "code",
   "execution_count": 20,
   "metadata": {
    "pycharm": {
     "name": "#%%\n"
    }
   },
   "outputs": [],
   "source": [
    "TR = namedtuple('TableRow', [\"cluster\", \"wfName\", \"method\", \"res\"])\n",
    "BigTR = namedtuple(\"BigTableRow\", [\"regModel\", \"cluster\", \"clusterSize\", \"wfName\", \"method\", \"res\", \"schedCat\", \"schedType\"])\n",
    "CVBigTR = namedtuple(\"CVBigTableRow\", [\"regModel\", \"cluster\", \"clusterSize\", \"wfName\", \"method\", \"res\", \"schedCat\", \"schedType\", \"cvSplit\"])\n",
    "CVUBigTR = namedtuple(\"CVUBigTableRow\", [\"regModel\", \"cluster\", \"clusterSize\", \"wfName\", \"method\", \"res\", \"schedCat\", \"schedType\", \"cvSplit\", \"ukSplit\"])"
   ]
  },
  {
   "cell_type": "code",
   "execution_count": 21,
   "metadata": {
    "pycharm": {
     "name": "#%%\n"
    }
   },
   "outputs": [],
   "source": [
    "def list_compare(a, b):\n",
    "    if type(a) != type(b):\n",
    "        return False\n",
    "    if type(a) != list:\n",
    "        return a == b\n",
    "    if len(a) != len(b):\n",
    "        return False\n",
    "    for a_, b_ in zip(a, b):\n",
    "        if not list_compare(a_, b_):\n",
    "            return False\n",
    "    return True\n",
    "\n",
    "\n",
    "def load_from_file(f):\n",
    "    modelDegLUT = {\n",
    "        'linModel' : 1,\n",
    "        'quadModel': 2,\n",
    "        'cubeModel': 3,\n",
    "        'tetModel' : 4,\n",
    "        'penModel' : 5\n",
    "    }\n",
    "    shorterMethodNamesLUT = {\n",
    "        'randomScheduler'     : 'random',\n",
    "        'recommenderScheduler': 'recommender'\n",
    "    }\n",
    "    shortToLongNameLUT = {'Linear'       : 'Ordinary Least Squares',\n",
    "                          'SVR-linear'   : 'SVR - linear',\n",
    "                          'SVR-poly'     : 'SVR - poly',\n",
    "                          'SVR-rbf'      : 'SVR - rbf',\n",
    "                          'SVR-sigmoid'  : 'SVR - sigmoid',\n",
    "                          'Lasso'        : 'Lasso',\n",
    "                          'LassoCV'      : 'Lasso CV',\n",
    "                          'Ridge'        : 'Ridge',\n",
    "                          'RidgeCV'      : 'Ridge CV',\n",
    "                          'ElasticNet'   : 'Elastic Net',\n",
    "                          'ElasticNetCV' : 'Elastic Net CV',\n",
    "                          'BayesianRidge': 'Bayesian Ridge',\n",
    "                          'ARD'          : 'Automatic Relevance Determination',\n",
    "                          'SGD'          : 'Stochastic Gradient Descent',\n",
    "                          'PA'           : 'Passive Aggressive',\n",
    "                          'Huber'        : 'Huber',\n",
    "                          'TheilSen'     : 'Theil Sen'}\n",
    "    #\n",
    "    pFile = Path(f)\n",
    "    with open(pFile, \"br\") as tmp:\n",
    "        pl: data_types.PickleOut = pickle.load(tmp)\n",
    "    #\n",
    "    m = re.match(\"(?:.*/)*(.*Model)\\.(.*)_CV-(.*)_U-(.*)\\.recSchedTimes\\.pickle\", f)\n",
    "    modelDeg = modelDegLUT[m.group(1)]\n",
    "    modelName = shortToLongNameLUT[m.group(2)]\n",
    "    shortName = f\"{modelDeg} / {modelName}\"\n",
    "    cvSplit = m.group(3)\n",
    "    if cvSplit == \"None\":\n",
    "        cvSplit = None\n",
    "    ukSplit = m.group(4)\n",
    "    if ukSplit == \"None\":\n",
    "        ukSplit = None\n",
    "    # for pre, deg in modelDegLUT.items():\n",
    "    #     if pre in shortName:\n",
    "    #         shortName = shortName.replace(pre + \".\", f\"{deg}/\")\n",
    "    #         break\n",
    "    fmt = CVUBigTR\n",
    "    for clusterName, cluster in pl.items():\n",
    "        for wfName, wf in cluster.items():\n",
    "            wfShortName = re.match(\"nfcore/(.*):.*\", wfName).group(1)\n",
    "            for methodName, res in wf.items():\n",
    "                for longN, rep in shorterMethodNamesLUT.items():\n",
    "                    if longN in methodName:\n",
    "                        mName = methodName.replace(longN, rep)\n",
    "                        break\n",
    "                rowInfo = {\n",
    "                    \"regModel\"   : shortName,\n",
    "                    \"cluster\"    : str(clusterName),\n",
    "                    \"clusterSize\": len(clusterName),\n",
    "                    \"wfName\"     : wfShortName,\n",
    "                    \"method\"     : mName,\n",
    "                    \"schedCat\"   : \"recommenderV1,-H1,-H2,-H3\" if \"V1\" in mName else \"recommenderV2,-H1,-H2,-H3\",\n",
    "                    \"schedType\"  : mName,\n",
    "                    \"cvSplit\"    : cvSplit,\n",
    "                    \"ukSplit\"    : ukSplit\n",
    "                }\n",
    "                if type(res) != list:\n",
    "                    rowInfo[\"res\"] = float(res)\n",
    "                    yield fmt(**rowInfo)\n",
    "                else:\n",
    "                    rowInfo[\"regModel\"] = \"N/A\"\n",
    "                    rowInfo[\"schedCat\"] = \"random\"\n",
    "                    rowInfo[\"schedType\"] = \"random\"\n",
    "                    for i, r in enumerate(res):  # this only applies to the results of the randomScheduler(V1)\n",
    "                        rowInfo[\"method\"] = mName + f\"P{i * 10}\"\n",
    "                        rowInfo[\"res\"] = float(r)\n",
    "                        yield fmt(**rowInfo)\n",
    "                    rowInfo[\"method\"] = mName + \"Avg\"\n",
    "                    rowInfo[\"res\"] = float(statistics.mean(res))\n",
    "                    yield fmt(**rowInfo)\n",
    "\n",
    "\n",
    "def load_from_dir(d):\n",
    "    with alive_bar(len(os.listdir(d)), f\"Loading recommenderScheduler results from {d}\") as bar:\n",
    "        for f in os.listdir(d):\n",
    "            yield from load_from_file(f\"{d}/{f}\")\n",
    "            bar()\n",
    "\n"
   ]
  },
  {
   "cell_type": "code",
   "execution_count": 22,
   "outputs": [],
   "source": [
    "def get_bigtable(saveLoc, btFileLoc):\n",
    "    btFile = Path(btFileLoc)\n",
    "    if not btFile.is_file():\n",
    "        data = list(load_from_dir(saveLoc))\n",
    "        bigtable = pds.DataFrame(data, columns=data[0]._fields)\n",
    "        with open(btFile, \"bw\") as f:\n",
    "            pickle.dump(bigtable, f)\n",
    "    else:\n",
    "        with open(btFile, \"br\") as f:\n",
    "            bigtable = pickle.load(f)\n",
    "    return bigtable"
   ],
   "metadata": {
    "collapsed": false,
    "pycharm": {
     "name": "#%%\n"
    }
   }
  },
  {
   "cell_type": "code",
   "execution_count": 23,
   "outputs": [],
   "source": [
    "def save_plot(obj, name, loc=\"./fig/\"):\n",
    "    obj.savefig(f\"{loc}{name}.pdf\", transparent=True)\n",
    "    obj.savefig(f\"{loc}{name}.png\", transparent=True)"
   ],
   "metadata": {
    "collapsed": false,
    "pycharm": {
     "name": "#%%\n"
    }
   }
  },
  {
   "cell_type": "markdown",
   "source": [
    "# Get the recSchedTimes data"
   ],
   "metadata": {
    "collapsed": false,
    "pycharm": {
     "name": "#%% md\n"
    }
   }
  },
  {
   "cell_type": "code",
   "execution_count": 24,
   "metadata": {
    "pycharm": {
     "name": "#%%\n"
    }
   },
   "outputs": [],
   "source": [
    "bigtable = get_bigtable(\"recSchedTimes\", \"./recSchedBigTable.pickle\").sample(frac=5 / 100, random_state=0, axis=0)"
   ]
  },
  {
   "cell_type": "code",
   "execution_count": 25,
   "outputs": [
    {
     "data": {
      "text/plain": "                           regModel  \\\n8632000            3 / SVR - linear   \n1547259                         N/A   \n9338583          3 / Elastic Net CV   \n8425802            3 / SVR - linear   \n1908691                         N/A   \n...                             ...   \n6174507  1 / Ordinary Least Squares   \n1057786             3 / Elastic Net   \n5446683             1 / Elastic Net   \n8001570                         N/A   \n2368538                         N/A   \n\n                                                   cluster  clusterSize  \\\n8632000  (168, 172, 180, 166, 166, 166, 185, 165, 165, ...           12   \n1547259  (179, 178, 169, 170, 183, 167, 173, 179, 171, ...           11   \n9338583  (188, 169, 165, 182, 184, 178, 185, 167, 184, ...           11   \n8425802                                         (192, 186)            2   \n1908691  (176, 189, 182, 175, 193, 185, 191, 172, 180, ...           12   \n...                                                    ...          ...   \n6174507  (188, 182, 173, 170, 190, 193, 175, 182, 191, ...           15   \n1057786                                         (173, 169)            2   \n5446683      (185, 170, 187, 191, 171, 172, 173, 166, 186)            9   \n8001570                                         (184, 180)            2   \n2368538           (190, 185, 176, 185, 169, 178, 192, 190)            8   \n\n             wfName           method            res  \\\n8632000       sarek    recommenderV1   36682.150000   \n1547259     chipseq      randomV1Avg  204603.118182   \n9338583  viralrecon  recommenderV1H3  181389.733333   \n8425802       sarek  recommenderV1H2   55142.209091   \n1908691  viralrecon      randomV1P30  156391.866667   \n...             ...              ...            ...   \n6174507       sarek  recommenderV2H3   35083.166667   \n1057786  viralrecon  recommenderV2H2  202608.733333   \n5446683  viralrecon  recommenderV1H3  179723.066667   \n8001570       eager      randomV1P20   45272.300000   \n2368538   methylseq     randomV1P100   57338.066667   \n\n                          schedCat        schedType cvSplit ukSplit  \n8632000  recommenderV1,-H1,-H2,-H3    recommenderV1    None    None  \n1547259                     random           random    None    None  \n9338583  recommenderV1,-H1,-H2,-H3  recommenderV1H3    None    None  \n8425802  recommenderV1,-H1,-H2,-H3  recommenderV1H2    None    None  \n1908691                     random           random    None    None  \n...                            ...              ...     ...     ...  \n6174507  recommenderV2,-H1,-H2,-H3  recommenderV2H3    None    None  \n1057786  recommenderV2,-H1,-H2,-H3  recommenderV2H2    None    None  \n5446683  recommenderV1,-H1,-H2,-H3  recommenderV1H3    None    None  \n8001570                     random           random    None    None  \n2368538                     random           random    None    None  \n\n[550000 rows x 10 columns]",
      "text/html": "<div>\n<style scoped>\n    .dataframe tbody tr th:only-of-type {\n        vertical-align: middle;\n    }\n\n    .dataframe tbody tr th {\n        vertical-align: top;\n    }\n\n    .dataframe thead th {\n        text-align: right;\n    }\n</style>\n<table border=\"1\" class=\"dataframe\">\n  <thead>\n    <tr style=\"text-align: right;\">\n      <th></th>\n      <th>regModel</th>\n      <th>cluster</th>\n      <th>clusterSize</th>\n      <th>wfName</th>\n      <th>method</th>\n      <th>res</th>\n      <th>schedCat</th>\n      <th>schedType</th>\n      <th>cvSplit</th>\n      <th>ukSplit</th>\n    </tr>\n  </thead>\n  <tbody>\n    <tr>\n      <th>8632000</th>\n      <td>3 / SVR - linear</td>\n      <td>(168, 172, 180, 166, 166, 166, 185, 165, 165, ...</td>\n      <td>12</td>\n      <td>sarek</td>\n      <td>recommenderV1</td>\n      <td>36682.150000</td>\n      <td>recommenderV1,-H1,-H2,-H3</td>\n      <td>recommenderV1</td>\n      <td>None</td>\n      <td>None</td>\n    </tr>\n    <tr>\n      <th>1547259</th>\n      <td>N/A</td>\n      <td>(179, 178, 169, 170, 183, 167, 173, 179, 171, ...</td>\n      <td>11</td>\n      <td>chipseq</td>\n      <td>randomV1Avg</td>\n      <td>204603.118182</td>\n      <td>random</td>\n      <td>random</td>\n      <td>None</td>\n      <td>None</td>\n    </tr>\n    <tr>\n      <th>9338583</th>\n      <td>3 / Elastic Net CV</td>\n      <td>(188, 169, 165, 182, 184, 178, 185, 167, 184, ...</td>\n      <td>11</td>\n      <td>viralrecon</td>\n      <td>recommenderV1H3</td>\n      <td>181389.733333</td>\n      <td>recommenderV1,-H1,-H2,-H3</td>\n      <td>recommenderV1H3</td>\n      <td>None</td>\n      <td>None</td>\n    </tr>\n    <tr>\n      <th>8425802</th>\n      <td>3 / SVR - linear</td>\n      <td>(192, 186)</td>\n      <td>2</td>\n      <td>sarek</td>\n      <td>recommenderV1H2</td>\n      <td>55142.209091</td>\n      <td>recommenderV1,-H1,-H2,-H3</td>\n      <td>recommenderV1H2</td>\n      <td>None</td>\n      <td>None</td>\n    </tr>\n    <tr>\n      <th>1908691</th>\n      <td>N/A</td>\n      <td>(176, 189, 182, 175, 193, 185, 191, 172, 180, ...</td>\n      <td>12</td>\n      <td>viralrecon</td>\n      <td>randomV1P30</td>\n      <td>156391.866667</td>\n      <td>random</td>\n      <td>random</td>\n      <td>None</td>\n      <td>None</td>\n    </tr>\n    <tr>\n      <th>...</th>\n      <td>...</td>\n      <td>...</td>\n      <td>...</td>\n      <td>...</td>\n      <td>...</td>\n      <td>...</td>\n      <td>...</td>\n      <td>...</td>\n      <td>...</td>\n      <td>...</td>\n    </tr>\n    <tr>\n      <th>6174507</th>\n      <td>1 / Ordinary Least Squares</td>\n      <td>(188, 182, 173, 170, 190, 193, 175, 182, 191, ...</td>\n      <td>15</td>\n      <td>sarek</td>\n      <td>recommenderV2H3</td>\n      <td>35083.166667</td>\n      <td>recommenderV2,-H1,-H2,-H3</td>\n      <td>recommenderV2H3</td>\n      <td>None</td>\n      <td>None</td>\n    </tr>\n    <tr>\n      <th>1057786</th>\n      <td>3 / Elastic Net</td>\n      <td>(173, 169)</td>\n      <td>2</td>\n      <td>viralrecon</td>\n      <td>recommenderV2H2</td>\n      <td>202608.733333</td>\n      <td>recommenderV2,-H1,-H2,-H3</td>\n      <td>recommenderV2H2</td>\n      <td>None</td>\n      <td>None</td>\n    </tr>\n    <tr>\n      <th>5446683</th>\n      <td>1 / Elastic Net</td>\n      <td>(185, 170, 187, 191, 171, 172, 173, 166, 186)</td>\n      <td>9</td>\n      <td>viralrecon</td>\n      <td>recommenderV1H3</td>\n      <td>179723.066667</td>\n      <td>recommenderV1,-H1,-H2,-H3</td>\n      <td>recommenderV1H3</td>\n      <td>None</td>\n      <td>None</td>\n    </tr>\n    <tr>\n      <th>8001570</th>\n      <td>N/A</td>\n      <td>(184, 180)</td>\n      <td>2</td>\n      <td>eager</td>\n      <td>randomV1P20</td>\n      <td>45272.300000</td>\n      <td>random</td>\n      <td>random</td>\n      <td>None</td>\n      <td>None</td>\n    </tr>\n    <tr>\n      <th>2368538</th>\n      <td>N/A</td>\n      <td>(190, 185, 176, 185, 169, 178, 192, 190)</td>\n      <td>8</td>\n      <td>methylseq</td>\n      <td>randomV1P100</td>\n      <td>57338.066667</td>\n      <td>random</td>\n      <td>random</td>\n      <td>None</td>\n      <td>None</td>\n    </tr>\n  </tbody>\n</table>\n<p>550000 rows × 10 columns</p>\n</div>"
     },
     "execution_count": 25,
     "metadata": {},
     "output_type": "execute_result"
    }
   ],
   "source": [
    "# bigtable"
   ],
   "metadata": {
    "collapsed": false,
    "pycharm": {
     "name": "#%%\n"
    }
   }
  },
  {
   "cell_type": "code",
   "execution_count": 26,
   "outputs": [],
   "source": [
    "wfNames = bigtable.wfName.unique()"
   ],
   "metadata": {
    "collapsed": false,
    "pycharm": {
     "name": "#%%\n"
    }
   }
  },
  {
   "cell_type": "code",
   "execution_count": 27,
   "outputs": [],
   "source": [
    "sns.set_theme(style=\"whitegrid\")\n",
    "#sns.set_context(\"paper\")\n",
    "sns.set_context(\"paper\", 1.65)"
   ],
   "metadata": {
    "collapsed": false,
    "pycharm": {
     "name": "#%%\n"
    }
   }
  },
  {
   "cell_type": "code",
   "execution_count": 28,
   "outputs": [],
   "source": [
    "pds.set_option('display.max_rows', 10)\n",
    "pds.set_option('display.max_columns', None)\n",
    "pds.set_option('display.width', None)\n",
    "pds.set_option('display.precision', 4)\n"
   ],
   "metadata": {
    "collapsed": false,
    "pycharm": {
     "name": "#%%\n"
    }
   }
  },
  {
   "cell_type": "markdown",
   "source": [
    "# trying out new visualisation"
   ],
   "metadata": {
    "collapsed": false,
    "pycharm": {
     "name": "#%% md\n"
    }
   }
  },
  {
   "cell_type": "code",
   "execution_count": 29,
   "outputs": [
    {
     "data": {
      "text/plain": "                                                    count         mean  \\\ncluster                                                                  \n(165, 165)                                           22.0  115002.9836   \n(165, 165, 165, 188, 184, 193, 172, 166)             23.0   93020.7935   \n(165, 165, 171, 170, 188)                            19.0  145524.8439   \n(165, 165, 172, 166, 176, 165, 187, 187, 173, 182)   28.0   85964.3548   \n(165, 165, 175, 167, 185, 167, 193, 168, 191, 1...   23.0   81338.1246   \n...                                                   ...          ...   \n(193, 193, 181, 192)                                 21.0   76176.5040   \n(193, 193, 184, 173, 169, 173, 175, 176, 176, 1...   18.0   83592.0935   \n(193, 193, 187, 191, 176, 183, 172, 175, 170, 1...   19.0   74738.1307   \n(193, 193, 187, 192, 193, 169, 179)                  26.0   95734.8724   \n(193, 193, 190, 172)                                 23.0   72859.6558   \n\n                                                           std      min  \\\ncluster                                                                   \n(165, 165)                                          98719.8374  45184.1   \n(165, 165, 165, 188, 184, 193, 172, 166)            79315.7981  28605.0   \n(165, 165, 171, 170, 188)                           90503.9420  32144.0   \n(165, 165, 172, 166, 176, 165, 187, 187, 173, 182)  63449.8078  27747.8   \n(165, 165, 175, 167, 185, 167, 193, 168, 191, 1...  55568.4693  27151.2   \n...                                                        ...      ...   \n(193, 193, 181, 192)                                64348.0387  28908.8   \n(193, 193, 184, 173, 169, 173, 175, 176, 176, 1...  50466.8442  27574.6   \n(193, 193, 187, 191, 176, 183, 172, 175, 170, 1...  52533.3753  28049.4   \n(193, 193, 187, 192, 193, 169, 179)                 59864.2317  29560.6   \n(193, 193, 190, 172)                                65081.1854  30402.8   \n\n                                                           25%          50%  \\\ncluster                                                                       \n(165, 165)                                          48601.1333   53170.8000   \n(165, 165, 165, 188, 184, 193, 172, 166)            37294.0500   40327.9333   \n(165, 165, 171, 170, 188)                           39314.7750  193228.8667   \n(165, 165, 172, 166, 176, 165, 187, 187, 173, 182)  33866.6667   39454.2333   \n(165, 165, 175, 167, 185, 167, 193, 168, 191, 1...  36049.0167   39475.8000   \n...                                                        ...          ...   \n(193, 193, 181, 192)                                36682.1500   40444.8667   \n(193, 193, 184, 173, 169, 173, 175, 176, 176, 1...  36171.0250   78875.9833   \n(193, 193, 187, 191, 176, 183, 172, 175, 170, 1...  36027.8500   40329.5333   \n(193, 193, 187, 192, 193, 169, 179)                 38757.8625   89530.7750   \n(193, 193, 190, 172)                                37265.6000   40061.2500   \n\n                                                            75%          max  \ncluster                                                                       \n(165, 165)                                          224595.3000  306252.1333  \n(165, 165, 165, 188, 184, 193, 172, 166)            174204.8667  227703.5333  \n(165, 165, 171, 170, 188)                           212956.2333  277747.7333  \n(165, 165, 172, 166, 176, 165, 187, 187, 173, 182)  137388.2500  213255.4000  \n(165, 165, 175, 167, 185, 167, 193, 168, 191, 1...  132457.0000  184656.4000  \n...                                                         ...          ...  \n(193, 193, 181, 192)                                154762.2667  205373.3667  \n(193, 193, 184, 173, 169, 173, 175, 176, 176, 1...  132430.0500  156900.1333  \n(193, 193, 187, 191, 176, 183, 172, 175, 170, 1...  128802.8000  162022.4000  \n(193, 193, 187, 192, 193, 169, 179)                 158087.0500  160190.5667  \n(193, 193, 190, 172)                                 96649.8667  264326.9667  \n\n[10000 rows x 8 columns]",
      "text/html": "<div>\n<style scoped>\n    .dataframe tbody tr th:only-of-type {\n        vertical-align: middle;\n    }\n\n    .dataframe tbody tr th {\n        vertical-align: top;\n    }\n\n    .dataframe thead th {\n        text-align: right;\n    }\n</style>\n<table border=\"1\" class=\"dataframe\">\n  <thead>\n    <tr style=\"text-align: right;\">\n      <th></th>\n      <th>count</th>\n      <th>mean</th>\n      <th>std</th>\n      <th>min</th>\n      <th>25%</th>\n      <th>50%</th>\n      <th>75%</th>\n      <th>max</th>\n    </tr>\n    <tr>\n      <th>cluster</th>\n      <th></th>\n      <th></th>\n      <th></th>\n      <th></th>\n      <th></th>\n      <th></th>\n      <th></th>\n      <th></th>\n    </tr>\n  </thead>\n  <tbody>\n    <tr>\n      <th>(165, 165)</th>\n      <td>22.0</td>\n      <td>115002.9836</td>\n      <td>98719.8374</td>\n      <td>45184.1</td>\n      <td>48601.1333</td>\n      <td>53170.8000</td>\n      <td>224595.3000</td>\n      <td>306252.1333</td>\n    </tr>\n    <tr>\n      <th>(165, 165, 165, 188, 184, 193, 172, 166)</th>\n      <td>23.0</td>\n      <td>93020.7935</td>\n      <td>79315.7981</td>\n      <td>28605.0</td>\n      <td>37294.0500</td>\n      <td>40327.9333</td>\n      <td>174204.8667</td>\n      <td>227703.5333</td>\n    </tr>\n    <tr>\n      <th>(165, 165, 171, 170, 188)</th>\n      <td>19.0</td>\n      <td>145524.8439</td>\n      <td>90503.9420</td>\n      <td>32144.0</td>\n      <td>39314.7750</td>\n      <td>193228.8667</td>\n      <td>212956.2333</td>\n      <td>277747.7333</td>\n    </tr>\n    <tr>\n      <th>(165, 165, 172, 166, 176, 165, 187, 187, 173, 182)</th>\n      <td>28.0</td>\n      <td>85964.3548</td>\n      <td>63449.8078</td>\n      <td>27747.8</td>\n      <td>33866.6667</td>\n      <td>39454.2333</td>\n      <td>137388.2500</td>\n      <td>213255.4000</td>\n    </tr>\n    <tr>\n      <th>(165, 165, 175, 167, 185, 167, 193, 168, 191, 181, 187, 173, 178)</th>\n      <td>23.0</td>\n      <td>81338.1246</td>\n      <td>55568.4693</td>\n      <td>27151.2</td>\n      <td>36049.0167</td>\n      <td>39475.8000</td>\n      <td>132457.0000</td>\n      <td>184656.4000</td>\n    </tr>\n    <tr>\n      <th>...</th>\n      <td>...</td>\n      <td>...</td>\n      <td>...</td>\n      <td>...</td>\n      <td>...</td>\n      <td>...</td>\n      <td>...</td>\n      <td>...</td>\n    </tr>\n    <tr>\n      <th>(193, 193, 181, 192)</th>\n      <td>21.0</td>\n      <td>76176.5040</td>\n      <td>64348.0387</td>\n      <td>28908.8</td>\n      <td>36682.1500</td>\n      <td>40444.8667</td>\n      <td>154762.2667</td>\n      <td>205373.3667</td>\n    </tr>\n    <tr>\n      <th>(193, 193, 184, 173, 169, 173, 175, 176, 176, 171, 193, 183, 167, 187, 178)</th>\n      <td>18.0</td>\n      <td>83592.0935</td>\n      <td>50466.8442</td>\n      <td>27574.6</td>\n      <td>36171.0250</td>\n      <td>78875.9833</td>\n      <td>132430.0500</td>\n      <td>156900.1333</td>\n    </tr>\n    <tr>\n      <th>(193, 193, 187, 191, 176, 183, 172, 175, 170, 181, 186, 182)</th>\n      <td>19.0</td>\n      <td>74738.1307</td>\n      <td>52533.3753</td>\n      <td>28049.4</td>\n      <td>36027.8500</td>\n      <td>40329.5333</td>\n      <td>128802.8000</td>\n      <td>162022.4000</td>\n    </tr>\n    <tr>\n      <th>(193, 193, 187, 192, 193, 169, 179)</th>\n      <td>26.0</td>\n      <td>95734.8724</td>\n      <td>59864.2317</td>\n      <td>29560.6</td>\n      <td>38757.8625</td>\n      <td>89530.7750</td>\n      <td>158087.0500</td>\n      <td>160190.5667</td>\n    </tr>\n    <tr>\n      <th>(193, 193, 190, 172)</th>\n      <td>23.0</td>\n      <td>72859.6558</td>\n      <td>65081.1854</td>\n      <td>30402.8</td>\n      <td>37265.6000</td>\n      <td>40061.2500</td>\n      <td>96649.8667</td>\n      <td>264326.9667</td>\n    </tr>\n  </tbody>\n</table>\n<p>10000 rows × 8 columns</p>\n</div>"
     },
     "execution_count": 29,
     "metadata": {},
     "output_type": "execute_result"
    }
   ],
   "source": [
    "bigtable[bigtable.schedCat != \"random\"].groupby([\"cluster\"])[\"res\"].describe()"
   ],
   "metadata": {
    "collapsed": false,
    "pycharm": {
     "name": "#%%\n"
    }
   }
  },
  {
   "cell_type": "code",
   "execution_count": 3,
   "outputs": [
    {
     "ename": "NameError",
     "evalue": "name 'bigtable' is not defined",
     "output_type": "error",
     "traceback": [
      "\u001B[0;31m---------------------------------------------------------------------------\u001B[0m",
      "\u001B[0;31mNameError\u001B[0m                                 Traceback (most recent call last)",
      "\u001B[0;32m/tmp/ipykernel_8133/995261593.py\u001B[0m in \u001B[0;36m<module>\u001B[0;34m\u001B[0m\n\u001B[0;32m----> 1\u001B[0;31m descByMethod = bigtable.groupby([\"method\"])[\"res\"].describe(  # percentiles=[x / 10 for x in range(1, 10)],\n\u001B[0m\u001B[1;32m      2\u001B[0m     include=\"all\")\n\u001B[1;32m      3\u001B[0m \u001B[0mdescByMethod\u001B[0m\u001B[0;34m.\u001B[0m\u001B[0msort_values\u001B[0m\u001B[0;34m(\u001B[0m\u001B[0mby\u001B[0m\u001B[0;34m=\u001B[0m\u001B[0;34m[\u001B[0m\u001B[0;34m\"mean\"\u001B[0m\u001B[0;34m]\u001B[0m\u001B[0;34m,\u001B[0m \u001B[0maxis\u001B[0m\u001B[0;34m=\u001B[0m\u001B[0;36m0\u001B[0m\u001B[0;34m,\u001B[0m \u001B[0minplace\u001B[0m\u001B[0;34m=\u001B[0m\u001B[0;32mTrue\u001B[0m\u001B[0;34m,\u001B[0m \u001B[0mascending\u001B[0m\u001B[0;34m=\u001B[0m\u001B[0;32mTrue\u001B[0m\u001B[0;34m)\u001B[0m\u001B[0;34m\u001B[0m\u001B[0;34m\u001B[0m\u001B[0m\n\u001B[1;32m      4\u001B[0m \u001B[0;31m# descByMethod\u001B[0m\u001B[0;34m\u001B[0m\u001B[0;34m\u001B[0m\u001B[0;34m\u001B[0m\u001B[0m\n\u001B[1;32m      5\u001B[0m \u001B[0;34m\u001B[0m\u001B[0m\n",
      "\u001B[0;31mNameError\u001B[0m: name 'bigtable' is not defined"
     ]
    }
   ],
   "source": [
    "descByMethod = bigtable.groupby([\"method\"])[\"res\"].describe(  # percentiles=[x / 10 for x in range(1, 10)],\n",
    "    include=\"all\")\n",
    "descByMethod.sort_values(by=[\"mean\"], axis=0, inplace=True, ascending=True)\n",
    "# descByMethod"
   ],
   "metadata": {
    "collapsed": false,
    "pycharm": {
     "name": "#%%\n"
    }
   }
  },
  {
   "cell_type": "code",
   "execution_count": null,
   "outputs": [],
   "source": [
    "for style in [\"Boxen\"]:\n",
    "    g = sns.catplot(x=\"res\", y=\"method\", orient=\"h\",\n",
    "                    order=descByMethod.index,\n",
    "                    # hue=\"wfName\",  # palette=[\"m\", \"g\"],\n",
    "                    # row=\"wfName\",\n",
    "                    # col=\"method\",\n",
    "                    data=bigtable,\n",
    "                    kind=style.lower(),\n",
    "                    aspect=1.5,\n",
    "                    height=8\n",
    "                    )\n",
    "    g.set(xlabel=\"Runtimes\", ylabel=\"Strategy\")\n",
    "    save_plot(g, f\"res_Vs_method_{style}.plot\")\n",
    "    plt.show()"
   ],
   "metadata": {
    "collapsed": false,
    "pycharm": {
     "name": "#%%\n"
    }
   }
  },
  {
   "cell_type": "code",
   "execution_count": null,
   "outputs": [],
   "source": [
    "descByModel = bigtable[bigtable.regModel != \"N/A\"].groupby([\"regModel\"])[\"res\"].describe(  # percentiles=[x / 10 for x in range(1, 10)],\n",
    "    include=\"all\")\n",
    "descByModel.sort_values(by=[\"mean\"], axis=0, inplace=True, ascending=True)\n",
    "# descByModel"
   ],
   "metadata": {
    "collapsed": false,
    "pycharm": {
     "name": "#%%\n"
    }
   }
  },
  {
   "cell_type": "code",
   "execution_count": null,
   "outputs": [],
   "source": [
    "for style in [\"Boxen\"]:\n",
    "    g = sns.catplot(x=\"res\", y=\"regModel\", orient=\"h\",\n",
    "                    order=descByModel.index,\n",
    "                    # hue=\"wfName\",  # palette=[\"m\", \"g\"],\n",
    "                    # row=\"wfName\",\n",
    "                    # col=\"method\",\n",
    "                    data=bigtable[bigtable.regModel != \"N/A\"],\n",
    "                    kind=style.lower(),\n",
    "                    aspect=1.5,\n",
    "                    height=8\n",
    "                    )\n",
    "    g.set(xlabel=\"Runtimes\", ylabel=\"Degree / Regression Model\")\n",
    "    save_plot(g, f\"res_Vs_regModel_{style}.plot\")\n",
    "    plt.show()"
   ],
   "metadata": {
    "collapsed": false,
    "pycharm": {
     "name": "#%%\n"
    }
   }
  },
  {
   "cell_type": "code",
   "execution_count": null,
   "outputs": [],
   "source": [
    "for style in [\"Boxen\"]:\n",
    "    g = sns.catplot(x=\"res\", y=\"regModel\", orient=\"h\",\n",
    "                    order=descByModel.index,\n",
    "                    # hue=\"wfName\",  # palette=[\"m\", \"g\"],\n",
    "                    # row=\"wfName\",\n",
    "                    col=\"wfName\",\n",
    "                    col_wrap=3,\n",
    "                    sharex=False,\n",
    "                    data=bigtable[bigtable.regModel != \"N/A\"],\n",
    "                    kind=style.lower(),\n",
    "                    aspect=1.1,\n",
    "                    height=6\n",
    "                    )\n",
    "    g.set(xlabel=\"Runtimes\", ylabel=\"Degree / Regression Model\")\n",
    "    g.set_titles(\"Workflow: {col_name}\")\n",
    "    save_plot(g, f\"res_Vs_method_perWF_{style}.plot\")\n",
    "    plt.show()"
   ],
   "metadata": {
    "collapsed": false,
    "pycharm": {
     "name": "#%%\n"
    }
   }
  },
  {
   "cell_type": "markdown",
   "source": [
    "# Filter for only the BiS regression model:"
   ],
   "metadata": {
    "collapsed": false,
    "pycharm": {
     "name": "#%% md\n"
    }
   }
  },
  {
   "cell_type": "code",
   "execution_count": null,
   "outputs": [],
   "source": [
    "bisModel = descByModel.index[0]\n",
    "bigtable = bigtable.query(\"schedType == 'random' or regModel==@bisModel\")"
   ],
   "metadata": {
    "collapsed": false,
    "pycharm": {
     "name": "#%%\n"
    }
   }
  },
  {
   "cell_type": "code",
   "execution_count": null,
   "outputs": [],
   "source": [
    "descByMethodSansRand = bigtable[bigtable.regModel != \"N/A\"].groupby([\"method\"])[\"res\"].describe(  # percentiles=[x / 10 for x in range(1, 10)],\n",
    "    include=\"all\")\n",
    "descByMethodSansRand.sort_values(by=[\"mean\"], axis=0, inplace=True, ascending=True)"
   ],
   "metadata": {
    "collapsed": false,
    "pycharm": {
     "name": "#%%\n"
    }
   }
  },
  {
   "cell_type": "code",
   "execution_count": null,
   "outputs": [],
   "source": [
    "for style in [\"Boxen\"]:\n",
    "    g = sns.catplot(x=\"res\", y=\"method\", orient=\"h\",\n",
    "                    order=descByMethodSansRand.index,\n",
    "                    # hue=\"wfName\",  # palette=[\"m\", \"g\"],\n",
    "                    # row=\"wfName\",\n",
    "                    col=\"wfName\",\n",
    "                    col_wrap=3,\n",
    "                    sharex=False,\n",
    "                    data=bigtable[bigtable.regModel != \"N/A\"],\n",
    "                    kind=style.lower(),\n",
    "                    aspect=1.1,\n",
    "                    height=6\n",
    "                    )\n",
    "    g.set(xlabel=\"Runtimes\", ylabel=\"Strategy\")\n",
    "    g.set_titles(\"Workflow: {col_name}\")\n",
    "    save_plot(g, f\"res_Vs_method_bisModel_{style}.plot\")\n",
    "    plt.show()"
   ],
   "metadata": {
    "collapsed": false,
    "pycharm": {
     "name": "#%%\n"
    }
   }
  },
  {
   "cell_type": "code",
   "execution_count": null,
   "outputs": [],
   "source": [
    "g = sns.catplot(x=\"wfName\", y=\"res\",  # orient=\"h\",\n",
    "                order=[\"eager\", \"methylseq\", \"sarek\", \"viralrecon\", \"chipseq\"],\n",
    "                hue=\"method\",  # palette=[\"m\", \"g\"],\n",
    "                hue_order=[\"recommenderV1\", \"recommenderV1H1\", \"recommenderV1H2\", \"recommenderV1H3\",\n",
    "                           \"recommenderV2\", \"recommenderV2H1\", \"recommenderV2H2\", \"recommenderV2H3\"],\n",
    "                # row=\"wfName\",\n",
    "                # col=\"wfName\",\n",
    "                # col_wrap=3,\n",
    "                data=bigtable[bigtable.schedCat != \"random\"],\n",
    "                kind=\"point\",\n",
    "                aspect=1.5,\n",
    "                height=8,\n",
    "                facet_kws=dict(legend_out=False)\n",
    "                )\n",
    "sns.move_legend(g, \"lower center\", bbox_to_anchor=(.425, 1), ncol=4, title=\"Strategy\", frameon=False)\n",
    "g.set(xlabel=\"Workflow\", ylabel=\"Runtimes\")\n",
    "save_plot(g, \"res_Vs_method_bisModel_Point.plot\")\n",
    "plt.show()"
   ],
   "metadata": {
    "collapsed": false,
    "pycharm": {
     "name": "#%%\n"
    }
   }
  },
  {
   "cell_type": "code",
   "execution_count": null,
   "outputs": [],
   "source": [
    "g = sns.catplot(x=\"clusterSize\", y=\"res\",  # orient=\"h\",\n",
    "                # order=\"\",\n",
    "                hue=\"schedCat\",  # palette=[\"m\", \"g\"],\n",
    "                # row=\"wfName\",\n",
    "                col=\"wfName\",\n",
    "                col_wrap=3,\n",
    "                col_order=list(wfNames),\n",
    "                sharey=False,\n",
    "                sharex=False,\n",
    "                data=bigtable,\n",
    "                kind=\"point\",\n",
    "                aspect=1.1,\n",
    "                height=6,\n",
    "                facet_kws=dict(legend_out=False)\n",
    "                )\n",
    "sns.move_legend(g, \"upper left\", bbox_to_anchor=(.65, .45), title=\"Strategy Category\", frameon=False)\n",
    "for i, ax in enumerate(g.axes.ravel()):\n",
    "    wf = list(wfNames)[i]\n",
    "    ax.axhline(y=statistics.mean(bigtable.query(\"method == 'randomV1P0' and wfName==@wf\")[\"res\"]), linestyle=\"--\", color=\"black\")\n",
    "g.set_titles(\"Workflow: {col_name}\")\n",
    "g.set(xlabel=\"Cluster size\", ylabel=\"Runtimes\")\n",
    "save_plot(g, \"res_Vs_clusterSize_perWF_bisModel_hueSchedCat_Point.plot\")\n",
    "plt.show()"
   ],
   "metadata": {
    "collapsed": false,
    "pycharm": {
     "name": "#%%\n"
    }
   }
  },
  {
   "cell_type": "code",
   "execution_count": null,
   "outputs": [],
   "source": [
    "g = sns.catplot(x=\"clusterSize\", y=\"res\",  # orient=\"h\",\n",
    "                # order=\"\",\n",
    "                hue=\"wfName\",  # palette=[\"m\", \"g\"],\n",
    "                # row=\"wfName\",\n",
    "                col=\"schedType\",\n",
    "                col_wrap=3,\n",
    "                col_order=[\"random\", \"recommenderV1\", \"recommenderV2\",\n",
    "                           \"recommenderV1H1\", \"recommenderV1H2\", \"recommenderV1H3\",\n",
    "                           \"recommenderV2H1\", \"recommenderV2H2\", \"recommenderV2H3\"],\n",
    "                # sharey=False,\n",
    "                sharex=False,\n",
    "                hue_order=list(wfNames),\n",
    "                data=bigtable,\n",
    "                kind=\"point\",\n",
    "                aspect=1.1,\n",
    "                height=6,\n",
    "                facet_kws=dict(legend_out=False)\n",
    "                )\n",
    "sns.move_legend(g, \"lower center\", bbox_to_anchor=(.45, 1), ncol=5, title=\"Workflow\", frameon=False)\n",
    "for i, wf in enumerate(wfNames):\n",
    "    g.refline(y=statistics.mean(bigtable.query(\"method == 'randomV1P0' and wfName==@wf\")[\"res\"]), color=sns.color_palette()[i])\n",
    "g.set_titles(\"Strategy: {col_name}\")\n",
    "g.set(xlabel=\"Cluster size\", ylabel=\"Runtimes\")\n",
    "save_plot(g, \"res_Vs_clusterSize_perMethod_bisModel_hueWf_Point.plot\")\n",
    "plt.show()\n"
   ],
   "metadata": {
    "collapsed": false,
    "pycharm": {
     "name": "#%%\n"
    }
   }
  },
  {
   "cell_type": "markdown",
   "source": [
    "# Get the cvRecSchedTimes data"
   ],
   "metadata": {
    "collapsed": false,
    "pycharm": {
     "name": "#%% md\n"
    }
   }
  },
  {
   "cell_type": "code",
   "execution_count": null,
   "outputs": [],
   "source": [
    "cvBigtable = get_bigtable(\"cvRecSchedTimes\", \"./cvRecSchedBigTable.pickle\")  #.sample(frac=5 / 100, random_state=0, axis=0)\n",
    "# cvBigtable"
   ],
   "metadata": {
    "collapsed": false,
    "pycharm": {
     "name": "#%%\n"
    }
   }
  },
  {
   "cell_type": "code",
   "execution_count": null,
   "outputs": [],
   "source": [
    "wfNames = cvBigtable.wfName.unique()"
   ],
   "metadata": {
    "collapsed": false,
    "pycharm": {
     "name": "#%%\n"
    }
   }
  },
  {
   "cell_type": "code",
   "execution_count": null,
   "outputs": [],
   "source": [
    "sns.set_theme(style=\"whitegrid\")\n",
    "#sns.set_context(\"paper\")\n",
    "sns.set_context(\"paper\", 1.65)"
   ],
   "metadata": {
    "collapsed": false,
    "pycharm": {
     "name": "#%%\n"
    }
   }
  },
  {
   "cell_type": "code",
   "execution_count": null,
   "outputs": [],
   "source": [
    "pds.set_option('display.max_rows', 100)\n",
    "pds.set_option('display.max_columns', None)\n",
    "pds.set_option('display.width', None)\n",
    "pds.set_option('display.precision', 4)"
   ],
   "metadata": {
    "collapsed": false,
    "pycharm": {
     "name": "#%%\n"
    }
   }
  },
  {
   "cell_type": "code",
   "execution_count": null,
   "outputs": [],
   "source": [
    "cvDescByMethod = cvBigtable.groupby([\"method\"])[\"res\"].describe(  # percentiles=[x / 10 for x in range(1, 10)],\n",
    "    include=\"all\")\n",
    "cvDescByMethod.sort_values(by=[\"mean\"], axis=0, inplace=True, ascending=True)\n",
    "# cvDescByMethod"
   ],
   "metadata": {
    "collapsed": false,
    "pycharm": {
     "name": "#%%\n"
    }
   }
  },
  {
   "cell_type": "code",
   "execution_count": null,
   "outputs": [],
   "source": [
    "for style in [\"Boxen\"]:\n",
    "    g = sns.catplot(x=\"res\", y=\"method\", orient=\"h\",\n",
    "                    order=cvDescByMethod.index,\n",
    "                    # hue=\"wfName\",  # palette=[\"m\", \"g\"],\n",
    "                    # row=\"wfName\",\n",
    "                    # col=\"method\",\n",
    "                    data=cvBigtable,\n",
    "                    kind=style.lower(),\n",
    "                    aspect=1.5,\n",
    "                    height=8\n",
    "                    )\n",
    "    g.set(xlabel=\"Runtimes\", ylabel=\"Strategy\")\n",
    "    save_plot(g, f\"res_Vs_method_{style}.plot\")\n",
    "    plt.show()"
   ],
   "metadata": {
    "collapsed": false,
    "pycharm": {
     "name": "#%%\n"
    }
   }
  },
  {
   "cell_type": "code",
   "execution_count": null,
   "outputs": [],
   "source": [
    "cvDescByModel = cvBigtable[cvBigtable.regModel != \"N/A\"].groupby([\"regModel\"])[\"res\"].describe(  # percentiles=[x / 10 for x in range(1, 10)],\n",
    "    include=\"all\")\n",
    "cvDescByModel.sort_values(by=[\"mean\"], axis=0, inplace=True, ascending=True)\n",
    "# cvDescByModel"
   ],
   "metadata": {
    "collapsed": false,
    "pycharm": {
     "name": "#%%\n"
    }
   }
  },
  {
   "cell_type": "code",
   "execution_count": null,
   "outputs": [],
   "source": [
    "for style in [\"Boxen\"]:\n",
    "    g = sns.catplot(x=\"res\", y=\"regModel\", orient=\"h\",\n",
    "                    order=cvDescByModel.index,\n",
    "                    hue=\"cvSplit\",  # palette=[\"m\", \"g\"],\n",
    "                    # row=\"wfName\",\n",
    "                    # col=\"method\",\n",
    "                    data=cvBigtable[cvBigtable.regModel != \"N/A\"],\n",
    "                    kind=style.lower(),\n",
    "                    aspect=1.5,\n",
    "                    height=8\n",
    "                    )\n",
    "    sns.move_legend(g, \"lower center\", bbox_to_anchor=(0.5, 1), ncol=5, title=\"CV Split\")\n",
    "    g.set(xlabel=\"Runtimes\", ylabel=\"Degree / Regression Model\")\n",
    "    save_plot(g, f\"cv.res_Vs_regModel_{style}.plot\")\n",
    "    plt.show()"
   ],
   "metadata": {
    "collapsed": false,
    "pycharm": {
     "name": "#%%\n"
    }
   }
  },
  {
   "cell_type": "code",
   "execution_count": null,
   "outputs": [],
   "source": [
    "for style in [\"Boxen\"]:\n",
    "    g = sns.catplot(x=\"res\", y=\"regModel\", orient=\"h\",\n",
    "                    order=cvDescByModel.index,\n",
    "                    hue=\"cvSplit\",  # palette=[\"m\", \"g\"],\n",
    "                    # row=\"wfName\",\n",
    "                    col=\"wfName\",\n",
    "                    col_wrap=3,\n",
    "                    sharex=False,\n",
    "                    data=cvBigtable[cvBigtable.regModel != \"N/A\"],\n",
    "                    kind=style.lower(),\n",
    "                    aspect=1.1,\n",
    "                    height=6\n",
    "                    )\n",
    "    sns.move_legend(g, \"upper left\", bbox_to_anchor=(0.75, 0.45), title=\"CV Split\")\n",
    "    g.set(xlabel=\"Runtimes\", ylabel=\"Degree / Regression Model\")\n",
    "    g.set_titles(\"Workflow: {col_name}\")\n",
    "    save_plot(g, f\"cv.res_Vs_method_perWF_{style}.plot\")\n",
    "    plt.show()"
   ],
   "metadata": {
    "collapsed": false,
    "pycharm": {
     "name": "#%%\n"
    }
   }
  },
  {
   "cell_type": "markdown",
   "source": [
    "# Filter for only the BiS regression model:"
   ],
   "metadata": {
    "collapsed": false
   }
  },
  {
   "cell_type": "code",
   "execution_count": null,
   "outputs": [],
   "source": [
    "# bisModel = descByModel.index[0]\n",
    "comp = cvBigtable[cvBigtable.regModel != \"N/A\"].groupby([\"regModel\", \"cvSplit\"])[\"res\"].describe()\n",
    "comp = comp.sort_values(by=[\"mean\"], ascending=True)\n",
    "rM, cvS = comp.reset_index().iloc[0][[\"regModel\", \"cvSplit\"]]\n",
    "cvBigtable = cvBigtable.query(\"schedType == 'random' or (regModel==@rM and cvSplit==@cvS)\")"
   ],
   "metadata": {
    "collapsed": false,
    "pycharm": {
     "name": "#%%\n"
    }
   }
  },
  {
   "cell_type": "code",
   "execution_count": null,
   "outputs": [],
   "source": [
    "cvDescByMethodSansRand = cvBigtable[cvBigtable.regModel != \"N/A\"].groupby([\"method\"])[\"res\"].describe(  # percentiles=[x / 10 for x in range(1, 10)],\n",
    "    include=\"all\")\n",
    "cvDescByMethodSansRand.sort_values(by=[\"mean\"], axis=0, inplace=True, ascending=True)"
   ],
   "metadata": {
    "collapsed": false,
    "pycharm": {
     "name": "#%%\n"
    }
   }
  },
  {
   "cell_type": "code",
   "execution_count": null,
   "outputs": [],
   "source": [
    "for style in [\"Boxen\"]:\n",
    "    g = sns.catplot(x=\"res\", y=\"method\", orient=\"h\",\n",
    "                    order=cvDescByMethodSansRand.index,\n",
    "                    # hue=\"wfName\",  # palette=[\"m\", \"g\"],\n",
    "                    # row=\"wfName\",\n",
    "                    col=\"wfName\",\n",
    "                    col_wrap=3,\n",
    "                    sharex=False,\n",
    "                    data=cvBigtable[cvBigtable.regModel != \"N/A\"],\n",
    "                    kind=style.lower(),\n",
    "                    aspect=1.1,\n",
    "                    height=6\n",
    "                    )\n",
    "    g.set(xlabel=\"Runtimes\", ylabel=\"Strategy\")\n",
    "    g.set_titles(\"Workflow: {col_name}\")\n",
    "    save_plot(g, f\"cv.res_Vs_method_bisModel_{style}.plot\")\n",
    "    plt.show()"
   ],
   "metadata": {
    "collapsed": false,
    "pycharm": {
     "name": "#%%\n"
    }
   }
  },
  {
   "cell_type": "code",
   "execution_count": null,
   "outputs": [],
   "source": [
    "g = sns.catplot(x=\"wfName\", y=\"res\",  # orient=\"h\",\n",
    "                order=[\"eager\", \"methylseq\", \"sarek\", \"viralrecon\", \"chipseq\"],\n",
    "                hue=\"method\",  # palette=[\"m\", \"g\"],\n",
    "                hue_order=[\"recommenderV1\", \"recommenderV1H1\", \"recommenderV1H2\", \"recommenderV1H3\",\n",
    "                           \"recommenderV2\", \"recommenderV2H1\", \"recommenderV2H2\", \"recommenderV2H3\"],\n",
    "                # row=\"wfName\",\n",
    "                # col=\"wfName\",\n",
    "                # col_wrap=3,\n",
    "                data=cvBigtable[cvBigtable.schedCat != \"random\"],\n",
    "                kind=\"point\",\n",
    "                aspect=1.5,\n",
    "                height=8,\n",
    "                facet_kws=dict(legend_out=False)\n",
    "                )\n",
    "sns.move_legend(g, \"lower center\", bbox_to_anchor=(.425, 1), ncol=4, title=\"Strategy\", frameon=False)\n",
    "g.set(xlabel=\"Workflow\", ylabel=\"Runtimes\")\n",
    "save_plot(g, \"cv.res_Vs_method_bisModel_Point.plot\")\n",
    "plt.show()"
   ],
   "metadata": {
    "collapsed": false,
    "pycharm": {
     "name": "#%%\n"
    }
   }
  },
  {
   "cell_type": "code",
   "execution_count": null,
   "outputs": [],
   "source": [
    "g = sns.catplot(x=\"clusterSize\", y=\"res\",  # orient=\"h\",\n",
    "                # order=\"\",\n",
    "                hue=\"schedCat\",  # palette=[\"m\", \"g\"],\n",
    "                # row=\"wfName\",\n",
    "                col=\"wfName\",\n",
    "                col_wrap=3,\n",
    "                col_order=list(wfNames),\n",
    "                sharey=False,\n",
    "                sharex=False,\n",
    "                data=cvBigtable,\n",
    "                kind=\"point\",\n",
    "                aspect=1.1,\n",
    "                height=6,\n",
    "                facet_kws=dict(legend_out=False)\n",
    "                )\n",
    "sns.move_legend(g, \"upper left\", bbox_to_anchor=(.65, .45), title=\"Strategy Category\", frameon=False)\n",
    "for i, ax in enumerate(g.axes.ravel()):\n",
    "    wf = list(wfNames)[i]\n",
    "    ax.axhline(y=statistics.mean(cvBigtable.query(\"method == 'randomV1P0' and wfName==@wf\")[\"res\"]), linestyle=\"--\", color=\"black\")\n",
    "g.set_titles(\"Workflow: {col_name}\")\n",
    "g.set(xlabel=\"Cluster size\", ylabel=\"Runtimes\")\n",
    "save_plot(g, \"cv.res_Vs_clusterSize_perWF_bisModel_hueSchedCat_Point.plot\")\n",
    "plt.show()"
   ],
   "metadata": {
    "collapsed": false,
    "pycharm": {
     "name": "#%%\n"
    }
   }
  },
  {
   "cell_type": "code",
   "execution_count": null,
   "outputs": [],
   "source": [
    "g = sns.catplot(x=\"clusterSize\", y=\"res\",  # orient=\"h\",\n",
    "                # order=\"\",\n",
    "                hue=\"wfName\",  # palette=[\"m\", \"g\"],\n",
    "                # row=\"wfName\",\n",
    "                col=\"schedType\",\n",
    "                col_wrap=3,\n",
    "                col_order=[\"random\", \"recommenderV1\", \"recommenderV2\",\n",
    "                           \"recommenderV1H1\", \"recommenderV1H2\", \"recommenderV1H3\",\n",
    "                           \"recommenderV2H1\", \"recommenderV2H2\", \"recommenderV2H3\"],\n",
    "                # sharey=False,\n",
    "                sharex=False,\n",
    "                hue_order=list(wfNames),\n",
    "                data=cvBigtable,\n",
    "                kind=\"point\",\n",
    "                aspect=1.1,\n",
    "                height=6,\n",
    "                facet_kws=dict(legend_out=False)\n",
    "                )\n",
    "sns.move_legend(g, \"lower center\", bbox_to_anchor=(.45, 1), ncol=5, title=\"Workflow\", frameon=False)\n",
    "for i, wf in enumerate(wfNames):\n",
    "    g.refline(y=statistics.mean(cvBigtable.query(\"method == 'randomV1P0' and wfName==@wf\")[\"res\"]), color=sns.color_palette()[i])\n",
    "g.set_titles(\"Strategy: {col_name}\")\n",
    "g.set(xlabel=\"Cluster size\", ylabel=\"Runtimes\")\n",
    "save_plot(g, \"cv.res_Vs_clusterSize_perMethod_bisModel_hueWf_Point.plot\")\n",
    "plt.show()\n"
   ],
   "metadata": {
    "collapsed": false,
    "pycharm": {
     "name": "#%%\n"
    }
   }
  }
 ],
 "metadata": {
  "kernelspec": {
   "name": "python396jvsc74a57bd0833e9faf2a7ac8b79841bf2cf5d837526059e71529011d8b6ba9767c5bc4385f",
   "language": "python",
   "display_name": "Python 3.9.6 64-bit ('py': conda)"
  },
  "language_info": {
   "codemirror_mode": {
    "name": "ipython",
    "version": 3
   },
   "file_extension": ".py",
   "mimetype": "text/x-python",
   "name": "python",
   "nbconvert_exporter": "python",
   "pygments_lexer": "ipython3",
   "version": "3.9.6"
  }
 },
 "nbformat": 4,
 "nbformat_minor": 1
}