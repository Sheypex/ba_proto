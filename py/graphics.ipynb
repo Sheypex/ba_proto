{
 "cells": [
  {
   "cell_type": "code",
   "execution_count": 146,
   "metadata": {},
   "outputs": [],
   "source": [
    "import cProfile\n",
    "import os\n",
    "import pickle\n",
    "import pstats\n",
    "import re\n",
    "import time\n",
    "from collections import namedtuple, defaultdict\n",
    "from typing import List\n",
    "from multiprocessing import Pool\n",
    "import networkx as NX\n",
    "import pandas as pds\n",
    "import matplotlib.pyplot as plt\n",
    "import itertools\n",
    "import math\n",
    "import re\n",
    "import statistics\n",
    "from pprint import pprint\n",
    "\n",
    "import rich.progress\n",
    "import scipy\n",
    "from scipy import stats as scistats\n",
    "from sklearn import linear_model, preprocessing\n",
    "from tabulate import tabulate\n",
    "from pathlib import Path\n",
    "import pickle\n",
    "import random\n",
    "import argparse\n",
    "import sys\n",
    "\n",
    "import data_types\n",
    "from db_actions import db_actions\n",
    "import numpy as np\n",
    "from my_yaml import yaml_load, yaml_dump\n",
    "from alive_progress import alive_bar\n",
    "import seaborn as sns\n",
    "from data_types import PickleOut\n",
    "import commons\n",
    "import rich.status\n",
    "from rich.pretty import pprint\n",
    "from rich import inspect\n"
   ]
  },
  {
   "cell_type": "code",
   "execution_count": 2,
   "metadata": {
    "pycharm": {
     "name": "#%%\n"
    }
   },
   "outputs": [],
   "source": [
    "rc = commons.rc"
   ]
  },
  {
   "cell_type": "code",
   "execution_count": 3,
   "metadata": {
    "pycharm": {
     "name": "#%%\n"
    }
   },
   "outputs": [],
   "source": [
    "TR = namedtuple('TableRow', [\"cluster\", \"wfName\", \"method\", \"res\"])\n",
    "BigTR = namedtuple(\"BigTableRow\", [\"regModel\", \"cluster\", \"clusterSize\", \"wfName\", \"method\", \"res\", \"schedCat\", \"schedType\"])\n",
    "CVBigTR = namedtuple(\"CVBigTableRow\", [\"regModel\", \"cluster\", \"clusterSize\", \"wfName\", \"method\", \"res\", \"schedCat\", \"schedType\", \"cvSplit\"])\n",
    "CVUBigTR = namedtuple(\"CVUBigTableRow\", [\n",
    "    \"regModel\",\n",
    "    \"cluster\",\n",
    "    \"clusterSize\",\n",
    "    \"wfName\",\n",
    "    \"method\",\n",
    "    \"res\",\n",
    "    #\"schedCat\",\n",
    "    #\"schedType\",\n",
    "    \"cvSplit\",\n",
    "    \"ukSplit\"])"
   ]
  },
  {
   "cell_type": "code",
   "execution_count": 188,
   "metadata": {
    "pycharm": {
     "name": "#%%\n"
    }
   },
   "outputs": [],
   "source": [
    "shortToLongNameLUT = {'Linear'       : 'Ordinary Least Squares',\n",
    "                      'SVR-linear'   : 'SVR - linear',\n",
    "                      'SVR-poly'     : 'SVR - poly',\n",
    "                      'SVR-rbf'      : 'SVR - rbf',\n",
    "                      'SVR-sigmoid'  : 'SVR - sigmoid',\n",
    "                      'Lasso'        : 'Lasso',\n",
    "                      'LassoCV'      : 'Lasso CV',\n",
    "                      'Ridge'        : 'Ridge',\n",
    "                      'RidgeCV'      : 'Ridge CV',\n",
    "                      'ElasticNet'   : 'Elastic Net',\n",
    "                      'ElasticNetCV' : 'Elastic Net CV',\n",
    "                      'BayesianRidge': 'Bayesian Ridge',\n",
    "                      'ARD'          : 'Automatic Relevance Determination',\n",
    "                      'SGD'          : 'Stochastic Gradient Descent',\n",
    "                      'PA'           : 'Passive Aggressive',\n",
    "                      'Huber'        : 'Huber',\n",
    "                      'TheilSen'     : 'Theil Sen'}"
   ]
  },
  {
   "cell_type": "code",
   "execution_count": 4,
   "metadata": {
    "pycharm": {
     "name": "#%%\n"
    }
   },
   "outputs": [],
   "source": [
    "def load_from_file(f, prog: rich.progress.Progress, barid):\n",
    "    modelDegLUT = {\n",
    "        'linModel' : 1,\n",
    "        'quadModel': 2,\n",
    "        'cubeModel': 3,\n",
    "        'tetModel' : 4,\n",
    "        'penModel' : 5\n",
    "    }\n",
    "    shorterMethodNamesLUT = {\n",
    "        'randomScheduler'     : 'random',\n",
    "        'recommenderScheduler': 'recommender'\n",
    "    }\n",
    "    pFile = Path(f)\n",
    "    with open(pFile, \"br\") as tmp:\n",
    "        pl: dict = pickle.load(tmp)\n",
    "    #\n",
    "    m = re.match(\"(?:.*/)*(.*Model)\\.(.*)_CV-(.*)_U-(.*)\\.recSchedTimes\\.pickle\", f)\n",
    "    modelDeg = modelDegLUT[m.group(1)]\n",
    "    modelName = shortToLongNameLUT[m.group(2)]\n",
    "    shortName = f\"{modelDeg} / {modelName}\"\n",
    "    cvSplit = m.group(3)\n",
    "    if cvSplit == \"None\":\n",
    "        cvSplit = None\n",
    "    ukSplit = m.group(4)\n",
    "    if ukSplit == \"None\":\n",
    "        ukSplit = None\n",
    "    # for pre, deg in modelDegLUT.items():\n",
    "    #     if pre in shortName:\n",
    "    #         shortName = shortName.replace(pre + \".\", f\"{deg}/\")\n",
    "    #         break\n",
    "    fmt = CVUBigTR\n",
    "    #\n",
    "    prog.reset(barid, total=len(pl.items()))\n",
    "    for clusterName, cluster in pl.items():\n",
    "        for wfName, wf in cluster.items():\n",
    "            wfShortName = re.match(\"nfcore/(.*):.*\", wfName).group(1)\n",
    "            for methodName, res in wf.items():\n",
    "                for longN, rep in shorterMethodNamesLUT.items():\n",
    "                    if longN in methodName:\n",
    "                        mName = methodName.replace(longN, rep)\n",
    "                        break\n",
    "                rowInfo = {\n",
    "                    \"regModel\"   : shortName,\n",
    "                    \"cluster\"    : str(clusterName),\n",
    "                    \"clusterSize\": len(clusterName),\n",
    "                    \"wfName\"     : wfShortName,\n",
    "                    \"method\"     : mName,\n",
    "                    #\"schedCat\"   : \"recommenderV1,-H1,-H2,-H3\" if \"V1\" in mName else \"recommenderV2,-H1,-H2,-H3\",\n",
    "                    #\"schedType\"  : mName,\n",
    "                    \"cvSplit\"    : cvSplit,\n",
    "                    \"ukSplit\"    : ukSplit\n",
    "                }\n",
    "                if type(res) != list:\n",
    "                    rowInfo[\"res\"] = float(res)\n",
    "                    yield fmt(**rowInfo)\n",
    "                # else:\n",
    "                #     rowInfo[\"regModel\"] = \"N/A\"\n",
    "                #     rowInfo[\"schedCat\"] = \"random\"\n",
    "                #     rowInfo[\"schedType\"] = \"random\"\n",
    "                #     randomPs = [1, 2, 3]\n",
    "                #     for i, r in enumerate(res):  # this only applies to the results of the randomScheduler(V1)\n",
    "                #         if i + 1 in randomPs:\n",
    "                #             rowInfo[\"method\"] = mName + f\"P{i * 10}\"\n",
    "                #             rowInfo[\"res\"] = float(r)\n",
    "                #             yield fmt(**rowInfo)\n",
    "                #     rowInfo[\"method\"] = mName + \"Avg\"\n",
    "                #     rowInfo[\"res\"] = float(statistics.mean(res))\n",
    "                #     yield fmt(**rowInfo)\n",
    "        prog.advance(barid)\n",
    "    del pl\n",
    "\n",
    "\n",
    "def load_random_from_files(d, prog: rich.progress.Progress, barid):\n",
    "    if type(d) is str:\n",
    "        d = Path(d)\n",
    "    #\n",
    "    refFile = d.joinpath(os.listdir(d)[0])\n",
    "    with open(refFile, \"br\") as tmp:\n",
    "        refP: dict = pickle.load(tmp)\n",
    "    #\n",
    "    fmt = CVUBigTR\n",
    "    cls = list(refP.keys())\n",
    "    wfs = list(refP[cls[0]].keys())\n",
    "    del refP\n",
    "    prog.reset(barid, total=len(cls) * len(wfs))\n",
    "    pls = list()\n",
    "    for fName in os.listdir(d):\n",
    "        pFile = d.joinpath(fName)\n",
    "        with open(pFile, \"br\") as tmp:\n",
    "            pl: dict = pickle.load(tmp)\n",
    "        for clusterName, cluster in pl.items():\n",
    "            for wfName, wf in cluster.items():\n",
    "                for methodName in list(wf.keys()):\n",
    "                    if not \"random\" in methodName:\n",
    "                        del pl[clusterName][wfName][methodName]\n",
    "        #\n",
    "        pls.append(pl)\n",
    "        del pl\n",
    "    for clusterName in cls:\n",
    "        for wfName in wfs:\n",
    "            wfShortName = re.match(\"nfcore/(.*):.*\", wfName).group(1)\n",
    "            #\n",
    "            randoms = [x for pl in pls for x in pl[clusterName][wfName][\"randomSchedulerV1\"]]\n",
    "            for pl in pls:\n",
    "                del pl[clusterName][wfName]\n",
    "            randoms.sort()\n",
    "            indices = [int(round(len(randoms) - 1 - x * (len(randoms) - 1), 0)) for x in [a / 10 for a in range(0, 11)]]\n",
    "            randoms = [x for i, x in enumerate(randoms) if i in indices]\n",
    "            rowInfo = {\n",
    "                \"regModel\"   : \"N/A\",\n",
    "                \"cluster\"    : str(clusterName),\n",
    "                \"clusterSize\": len(clusterName),\n",
    "                \"wfName\"     : wfShortName,\n",
    "                \"method\"     : \"randomV1\",\n",
    "                #\"schedCat\"   : \"random\",\n",
    "                #\"schedType\"  : \"random\",\n",
    "                \"cvSplit\"    : \"N/A\",\n",
    "                \"ukSplit\"    : \"N/A\"\n",
    "            }\n",
    "            for i, r in enumerate(randoms):  # this only applies to the results of the randomScheduler(V1)\n",
    "                rowInfo[\"method\"] = f\"randomV1P{i * 10}\"\n",
    "                rowInfo[\"res\"] = float(r)\n",
    "                yield fmt(**rowInfo)\n",
    "            rowInfo[\"method\"] = \"randomV1Avg\"\n",
    "            rowInfo[\"res\"] = float(statistics.mean(randoms))\n",
    "            yield fmt(**rowInfo)\n",
    "            prog.advance(barid)\n",
    "\n",
    "\n",
    "def load_from_dir(d):\n",
    "    with commons.stdProgress(rc) as prog:\n",
    "        # with alive_bar(len(os.listdir(d)), f\"Loading recommenderScheduler results from {d}\") as bar:\n",
    "        fileProg = prog.add_task(\"Files\", total=len(os.listdir(d)))\n",
    "        clusterProg = prog.add_task(\"Clusters\")\n",
    "        for f in os.listdir(d):\n",
    "            yield from load_from_file(f\"{d}/{f}\", prog, clusterProg)\n",
    "            prog.advance(fileProg)\n",
    "        randomsProg = prog.add_task(\"Randoms\")\n",
    "        yield from load_random_from_files(d, prog, randomsProg)"
   ]
  },
  {
   "cell_type": "code",
   "execution_count": 5,
   "metadata": {
    "pycharm": {
     "name": "#%%\n"
    }
   },
   "outputs": [],
   "source": [
    "def get_bigtable(saveLoc, btFileLoc):\n",
    "    btFile = Path(btFileLoc)\n",
    "    if not btFile.is_file():\n",
    "        bigtable = pds.DataFrame(load_from_dir(saveLoc), columns=CVUBigTR._fields)\n",
    "        with open(btFile, \"bw\") as f:\n",
    "            pickle.dump(bigtable, f)\n",
    "    else:\n",
    "        with open(btFile, \"br\") as f:\n",
    "            bigtable = pickle.load(f)\n",
    "    return bigtable"
   ]
  },
  {
   "cell_type": "code",
   "execution_count": 111,
   "metadata": {
    "pycharm": {
     "name": "#%%\n"
    }
   },
   "outputs": [],
   "source": [
    "def save_plot(obj, name, loc=\"./fig/\", **kwargs):\n",
    "    obj.savefig(f\"{loc}{name}.pdf\", transparent=True, **kwargs)\n",
    "    obj.savefig(f\"{loc}{name}.png\", transparent=True, **kwargs)"
   ]
  },
  {
   "cell_type": "markdown",
   "metadata": {
    "pycharm": {
     "name": "#%% md\n"
    }
   },
   "source": [
    "# Get the recSchedTimes data"
   ]
  },
  {
   "cell_type": "code",
   "execution_count": 7,
   "metadata": {
    "pycharm": {
     "name": "#%%\n"
    }
   },
   "outputs": [],
   "source": [
    "bigtable = get_bigtable(\"recSchedTimes\", \"./recSchedBigTable.pickle\")  #.sample(frac=5 / 100, random_state=0, axis=0)\n",
    "# bigtable"
   ]
  },
  {
   "cell_type": "markdown",
   "metadata": {},
   "source": [
    "# Get the cvRecSchedTimes data"
   ]
  },
  {
   "cell_type": "code",
   "execution_count": 8,
   "metadata": {
    "pycharm": {
     "is_executing": true,
     "name": "#%%\n"
    }
   },
   "outputs": [],
   "source": [
    "cvBigtable = get_bigtable(\"cvRecSchedTimes\", \"./cvRecSchedBigTable.pickle\")  #.sample(frac=5 / 100, random_state=0, axis=0)\n",
    "# cvBigtable"
   ]
  },
  {
   "cell_type": "code",
   "execution_count": 9,
   "metadata": {
    "pycharm": {
     "name": "#%%\n"
    }
   },
   "outputs": [],
   "source": [
    "wfNames = bigtable.wfName.unique()"
   ]
  },
  {
   "cell_type": "code",
   "execution_count": 10,
   "metadata": {
    "pycharm": {
     "name": "#%%\n"
    }
   },
   "outputs": [],
   "source": [
    "sns.set_theme(style=\"whitegrid\")\n",
    "#sns.set_context(\"paper\")\n",
    "sns.set_context(\"paper\", 1.65)"
   ]
  },
  {
   "cell_type": "code",
   "execution_count": 11,
   "metadata": {
    "pycharm": {
     "name": "#%%\n"
    }
   },
   "outputs": [],
   "source": [
    "pds.set_option('display.max_rows', 100)\n",
    "pds.set_option('display.max_columns', None)\n",
    "pds.set_option('display.width', None)\n",
    "pds.set_option('display.precision', 4)\n"
   ]
  },
  {
   "cell_type": "markdown",
   "metadata": {
    "pycharm": {
     "name": "#%% md\n"
    }
   },
   "source": [
    "# trying out new visualisation"
   ]
  },
  {
   "cell_type": "code",
   "execution_count": 12,
   "metadata": {
    "pycharm": {
     "name": "#%%\n"
    }
   },
   "outputs": [
    {
     "data": {
      "text/html": [
       "<pre style=\"white-space:pre;overflow-x:auto;line-height:normal;font-family:Menlo,'DejaVu Sans Mono',consolas,'Courier New',monospace\"><span style=\"font-weight: bold\">[</span><span style=\"color: #008000; text-decoration-color: #008000\">'(166, 171, 173, 175, 178, 179, 180, 182, 182, 183, 185, 191, 192, 193)'</span>\n",
       " <span style=\"color: #008000; text-decoration-color: #008000\">'(167, 168, 168, 169, 169, 169, 173, 175, 175, 184, 186, 186, 188, 189, 190, 191, 192, 192)'</span>\n",
       " <span style=\"color: #008000; text-decoration-color: #008000\">'(168, 171, 176, 178, 180, 181, 182, 182, 184, 184, 186, 187)'</span> <span style=\"color: #808000; text-decoration-color: #808000\">...</span>\n",
       " <span style=\"color: #008000; text-decoration-color: #008000\">'(165, 165, 170, 171, 171, 171, 172, 175, 179, 179, 180, 180, 181, 184, 191, 191, 193)'</span>\n",
       " <span style=\"color: #008000; text-decoration-color: #008000\">'(172, 172, 175, 183, 184, 185, 186, 186, 188, 188, 189, 190, 192, 192, 192)'</span>\n",
       " <span style=\"color: #008000; text-decoration-color: #008000\">'(178, 181, 181, 182, 183, 184, 185, 185, 187, 190)'</span><span style=\"font-weight: bold\">]</span>\n",
       "</pre>\n"
      ],
      "text/plain": [
       "\u001b[1m[\u001b[0m\u001b[32m'\u001b[0m\u001b[32m(\u001b[0m\u001b[32m166, 171, 173, 175, 178, 179, 180, 182, 182, 183, 185, 191, 192, 193\u001b[0m\u001b[32m)\u001b[0m\u001b[32m'\u001b[0m\n",
       " \u001b[32m'\u001b[0m\u001b[32m(\u001b[0m\u001b[32m167, 168, 168, 169, 169, 169, 173, 175, 175, 184, 186, 186, 188, 189, 190, 191, 192, 192\u001b[0m\u001b[32m)\u001b[0m\u001b[32m'\u001b[0m\n",
       " \u001b[32m'\u001b[0m\u001b[32m(\u001b[0m\u001b[32m168, 171, 176, 178, 180, 181, 182, 182, 184, 184, 186, 187\u001b[0m\u001b[32m)\u001b[0m\u001b[32m'\u001b[0m \u001b[33m...\u001b[0m\n",
       " \u001b[32m'\u001b[0m\u001b[32m(\u001b[0m\u001b[32m165, 165, 170, 171, 171, 171, 172, 175, 179, 179, 180, 180, 181, 184, 191, 191, 193\u001b[0m\u001b[32m)\u001b[0m\u001b[32m'\u001b[0m\n",
       " \u001b[32m'\u001b[0m\u001b[32m(\u001b[0m\u001b[32m172, 172, 175, 183, 184, 185, 186, 186, 188, 188, 189, 190, 192, 192, 192\u001b[0m\u001b[32m)\u001b[0m\u001b[32m'\u001b[0m\n",
       " \u001b[32m'\u001b[0m\u001b[32m(\u001b[0m\u001b[32m178, 181, 181, 182, 183, 184, 185, 185, 187, 190\u001b[0m\u001b[32m)\u001b[0m\u001b[32m'\u001b[0m\u001b[1m]\u001b[0m\n"
      ]
     },
     "metadata": {},
     "output_type": "display_data"
    },
    {
     "data": {
      "text/html": [
       "<pre style=\"white-space:pre;overflow-x:auto;line-height:normal;font-family:Menlo,'DejaVu Sans Mono',consolas,'Courier New',monospace\"><span style=\"color: #008080; text-decoration-color: #008080; font-weight: bold\">10000</span>\n",
       "</pre>\n"
      ],
      "text/plain": [
       "\u001b[1;36m10000\u001b[0m\n"
      ]
     },
     "metadata": {},
     "output_type": "display_data"
    }
   ],
   "source": [
    "rc.print(bigtable.cluster.unique())\n",
    "rc.print(len(bigtable.cluster.unique()))"
   ]
  },
  {
   "cell_type": "code",
   "execution_count": 170,
   "metadata": {
    "pycharm": {
     "name": "#%%\n"
    }
   },
   "outputs": [],
   "source": [
    "tmp = bigtable[bigtable.regModel != \"N/A\"]\n",
    "clusters = tmp.cluster.unique()\n",
    "regModels = tmp.regModel.unique()\n",
    "methods = tmp.method.unique()\n",
    "del tmp"
   ]
  },
  {
   "cell_type": "code",
   "execution_count": 198,
   "metadata": {
    "pycharm": {
     "name": "#%%\n"
    },
    "tags": []
   },
   "outputs": [],
   "source": [
    "confs = dict()\n",
    "with open(\"percentileModels\",\"r\") as f:\n",
    "    for fName in f:\n",
    "        with open(fName.strip(), \"br\") as f2:\n",
    "            l:PickleOut = pickle.load(f2)\n",
    "            m = re.match(\"(?:.*/)*(.*)\\.(.*)_CV-(.*)_U-(.*).pickle\",fName.strip())\n",
    "            confs[f\"{l.polyDeg} / {shortToLongNameLUT[m.group(2)]}\"] = commons.jamGeomean([l.train_confidence, l.test_confidence, l.full_confidence])\n",
    "            "
   ]
  },
  {
   "cell_type": "code",
   "execution_count": 203,
   "metadata": {
    "pycharm": {
     "name": "#%%\n"
    }
   },
   "outputs": [
    {
     "data": {
      "text/html": [
       "<pre style=\"white-space:pre;overflow-x:auto;line-height:normal;font-family:Menlo,'DejaVu Sans Mono',consolas,'Courier New',monospace\">\n",
       "<span style=\"font-weight: bold\">{</span>\n",
       "<span style=\"color: #7fbf7f; text-decoration-color: #7fbf7f\">│   </span><span style=\"color: #008000; text-decoration-color: #008000\">'5 / Ordinary Least Squares'</span>: <span style=\"color: #008080; text-decoration-color: #008080; font-weight: bold\">1.0</span>,\n",
       "<span style=\"color: #7fbf7f; text-decoration-color: #7fbf7f\">│   </span><span style=\"color: #008000; text-decoration-color: #008000\">'3 / Ridge'</span>: <span style=\"color: #008080; text-decoration-color: #008080; font-weight: bold\">0.9231538458419148</span>,\n",
       "<span style=\"color: #7fbf7f; text-decoration-color: #7fbf7f\">│   </span><span style=\"color: #808000; text-decoration-color: #808000\">...</span> +<span style=\"color: #008080; text-decoration-color: #008080; font-weight: bold\">9</span>\n",
       "<span style=\"font-weight: bold\">}</span>\n",
       "</pre>\n"
      ],
      "text/plain": [
       "\n",
       "\u001b[1m{\u001b[0m\n",
       "\u001b[2;32m│   \u001b[0m\u001b[32m'5 / Ordinary Least Squares'\u001b[0m: \u001b[1;36m1.0\u001b[0m,\n",
       "\u001b[2;32m│   \u001b[0m\u001b[32m'3 / Ridge'\u001b[0m: \u001b[1;36m0.9231538458419148\u001b[0m,\n",
       "\u001b[2;32m│   \u001b[0m\u001b[33m...\u001b[0m +\u001b[1;36m9\u001b[0m\n",
       "\u001b[1m}\u001b[0m\n"
      ]
     },
     "metadata": {},
     "output_type": "display_data"
    }
   ],
   "source": [
    "confs"
   ]
  },
  {
   "cell_type": "code",
   "execution_count": 204,
   "metadata": {
    "pycharm": {
     "name": "#%%\n"
    },
    "tags": []
   },
   "outputs": [],
   "source": [
    "regModels = sorted(regModels, key=lambda x: confs[x], reverse=True)"
   ]
  },
  {
   "cell_type": "code",
   "execution_count": 205,
   "metadata": {
    "pycharm": {
     "name": "#%%\n"
    }
   },
   "outputs": [
    {
     "data": {
      "text/html": [
       "<pre style=\"white-space:pre;overflow-x:auto;line-height:normal;font-family:Menlo,'DejaVu Sans Mono',consolas,'Courier New',monospace\"><span style=\"font-weight: bold\">[</span>\n",
       "<span style=\"color: #7fbf7f; text-decoration-color: #7fbf7f\">│   </span><span style=\"color: #008000; text-decoration-color: #008000\">'5 / Ordinary Least Squares'</span>,\n",
       "<span style=\"color: #7fbf7f; text-decoration-color: #7fbf7f\">│   </span><span style=\"color: #008000; text-decoration-color: #008000\">'3 / Ridge'</span>,\n",
       "<span style=\"color: #7fbf7f; text-decoration-color: #7fbf7f\">│   </span><span style=\"color: #008000; text-decoration-color: #008000\">'3 / SVR - linear'</span>,\n",
       "<span style=\"color: #7fbf7f; text-decoration-color: #7fbf7f\">│   </span><span style=\"color: #008000; text-decoration-color: #008000\">'3 / Elastic Net CV'</span>,\n",
       "<span style=\"color: #7fbf7f; text-decoration-color: #7fbf7f\">│   </span><span style=\"color: #008000; text-decoration-color: #008000\">'2 / Ridge CV'</span>,\n",
       "<span style=\"color: #7fbf7f; text-decoration-color: #7fbf7f\">│   </span><span style=\"color: #008000; text-decoration-color: #008000\">'1 / Ordinary Least Squares'</span>,\n",
       "<span style=\"color: #7fbf7f; text-decoration-color: #7fbf7f\">│   </span><span style=\"color: #008000; text-decoration-color: #008000\">'1 / Lasso CV'</span>,\n",
       "<span style=\"color: #7fbf7f; text-decoration-color: #7fbf7f\">│   </span><span style=\"color: #008000; text-decoration-color: #008000\">'1 / SVR - linear'</span>,\n",
       "<span style=\"color: #7fbf7f; text-decoration-color: #7fbf7f\">│   </span><span style=\"color: #008000; text-decoration-color: #008000\">'3 / Elastic Net'</span>,\n",
       "<span style=\"color: #7fbf7f; text-decoration-color: #7fbf7f\">│   </span><span style=\"color: #008000; text-decoration-color: #008000\">'1 / Elastic Net'</span>,\n",
       "<span style=\"color: #7fbf7f; text-decoration-color: #7fbf7f\">│   </span><span style=\"color: #008000; text-decoration-color: #008000\">'4 / Passive Aggressive'</span>\n",
       "<span style=\"font-weight: bold\">]</span>\n",
       "</pre>\n"
      ],
      "text/plain": [
       "\u001b[1m[\u001b[0m\n",
       "\u001b[2;32m│   \u001b[0m\u001b[32m'5 / Ordinary Least Squares'\u001b[0m,\n",
       "\u001b[2;32m│   \u001b[0m\u001b[32m'3 / Ridge'\u001b[0m,\n",
       "\u001b[2;32m│   \u001b[0m\u001b[32m'3 / SVR - linear'\u001b[0m,\n",
       "\u001b[2;32m│   \u001b[0m\u001b[32m'3 / Elastic Net CV'\u001b[0m,\n",
       "\u001b[2;32m│   \u001b[0m\u001b[32m'2 / Ridge CV'\u001b[0m,\n",
       "\u001b[2;32m│   \u001b[0m\u001b[32m'1 / Ordinary Least Squares'\u001b[0m,\n",
       "\u001b[2;32m│   \u001b[0m\u001b[32m'1 / Lasso CV'\u001b[0m,\n",
       "\u001b[2;32m│   \u001b[0m\u001b[32m'1 / SVR - linear'\u001b[0m,\n",
       "\u001b[2;32m│   \u001b[0m\u001b[32m'3 / Elastic Net'\u001b[0m,\n",
       "\u001b[2;32m│   \u001b[0m\u001b[32m'1 / Elastic Net'\u001b[0m,\n",
       "\u001b[2;32m│   \u001b[0m\u001b[32m'4 / Passive Aggressive'\u001b[0m\n",
       "\u001b[1m]\u001b[0m\n"
      ]
     },
     "metadata": {},
     "output_type": "display_data"
    }
   ],
   "source": [
    "pprint(regModels)"
   ]
  },
  {
   "cell_type": "code",
   "execution_count": 206,
   "metadata": {
    "pycharm": {
     "name": "#%%\n"
    }
   },
   "outputs": [],
   "source": [
    "def getRegModelMethodScores(fileLoc: Path, table, crit=None, scorer=None, tol=1):\n",
    "    if crit is None:\n",
    "        def yep (cur, mini, tol): \n",
    "            return abs(cur-mini)<=tol\n",
    "        crit = yep\n",
    "    if scorer is None:\n",
    "        def sc(cur, mini, tol):\n",
    "            return 1\n",
    "        scorer = sc\n",
    "    if type(fileLoc) is str:\n",
    "        fileLoc = Path(fileLoc)\n",
    "    if fileLoc.is_file():\n",
    "        with open(fileLoc, \"br\") as f:\n",
    "            return pickle.load(f)\n",
    "    else:\n",
    "        grouped = table[table.regModel != \"N/A\"].pivot([\"cluster\", \"wfName\", \"regModel\"], \"method\", \"res\")\n",
    "        clWFCombs = itertools.product(clusters, wfNames)\n",
    "        numclWFCombs = len(list(clWFCombs))\n",
    "        clWFCombs = itertools.product(clusters, wfNames)\n",
    "        rMMethCombs = list(itertools.product(regModels, methods))\n",
    "        # regModelMethodScores = defaultdict(lambda: 0)\n",
    "        with commons.stdProgress(rc) as prog:\n",
    "            cvwfProg = prog.add_task(\"Cluster/Workflow\", total=numclWFCombs)\n",
    "            regModelMethodScores = defaultdict(lambda: 0)\n",
    "\n",
    "            for clwf, subtable in grouped.groupby(level=(0, 1), group_keys=False):\n",
    "                c, wf = clwf\n",
    "                subtable = subtable.droplevel([\"cluster\", \"wfName\"])\n",
    "                minimumTime = subtable.min().min()\n",
    "                for rmmetch in rMMethCombs:\n",
    "                    rM, meth = rmmetch\n",
    "                    # rc.log(subtable.loc[rM, meth], minimumTime, abs(subtable.loc[rM, meth] - minimumTime), abs(subtable.loc[rM, meth] - minimumTime) <= tol)\n",
    "                    curr= subtable.loc[rM, meth]\n",
    "                    if type(tol) is int or type(tol) is float:\n",
    "                        t= tol\n",
    "                    else:\n",
    "                        t = tol(curr, minimumTime)\n",
    "                    if crit(curr, minimumTime, t):\n",
    "                        regModelMethodScores[rmmetch] = regModelMethodScores[rmmetch] + scorer(curr, minimumTime, t)\n",
    "                prog.advance(cvwfProg)\n",
    "            regModelMethodScores = dict(regModelMethodScores)\n",
    "        #\n",
    "        with open(fileLoc, \"bw\") as f:\n",
    "            pickle.dump(regModelMethodScores, f)\n",
    "        return dict(regModelMethodScores)"
   ]
  },
  {
   "cell_type": "code",
   "execution_count": 235,
   "metadata": {
    "pycharm": {
     "name": "#%%\n"
    }
   },
   "outputs": [
    {
     "data": {
      "application/vnd.jupyter.widget-view+json": {
       "model_id": "",
       "version_major": 2,
       "version_minor": 0
      },
      "text/plain": [
       "Output()"
      ]
     },
     "metadata": {},
     "output_type": "display_data"
    },
    {
     "data": {
      "text/html": [
       "<pre style=\"white-space:pre;overflow-x:auto;line-height:normal;font-family:Menlo,'DejaVu Sans Mono',consolas,'Courier New',monospace\"></pre>\n"
      ],
      "text/plain": []
     },
     "metadata": {},
     "output_type": "display_data"
    },
    {
     "data": {
      "text/html": [
       "<pre style=\"white-space:pre;overflow-x:auto;line-height:normal;font-family:Menlo,'DejaVu Sans Mono',consolas,'Courier New',monospace\">\n",
       "<span style=\"font-weight: bold\">(</span>\n",
       "<span style=\"color: #7fbf7f; text-decoration-color: #7fbf7f\">│   </span><span style=\"font-weight: bold\">(</span>\n",
       "<span style=\"color: #7fbf7f; text-decoration-color: #7fbf7f\">│   │   </span><span style=\"color: #008000; text-decoration-color: #008000\">'chipseq'</span>,\n",
       "<span style=\"color: #7fbf7f; text-decoration-color: #7fbf7f\">│   │   </span><span style=\"color: #008000; text-decoration-color: #008000\">'eager'</span>\n",
       "<span style=\"color: #7fbf7f; text-decoration-color: #7fbf7f\">│   </span><span style=\"font-weight: bold\">)</span>,\n",
       "<span style=\"color: #7fbf7f; text-decoration-color: #7fbf7f\">│   │   │   │      </span>regModel                                            cluster  \\\n",
       "<span style=\"color: #008080; text-decoration-color: #008080; font-weight: bold\">4400000</span>   <span style=\"color: #008080; text-decoration-color: #008080; font-weight: bold\">3</span> <span style=\"color: #800080; text-decoration-color: #800080\">/</span> SVR - rbf  <span style=\"font-weight: bold\">(</span><span style=\"color: #008080; text-decoration-color: #008080; font-weight: bold\">166</span>, <span style=\"color: #008080; text-decoration-color: #008080; font-weight: bold\">171</span>, <span style=\"color: #008080; text-decoration-color: #008080; font-weight: bold\">173</span>, <span style=\"color: #008080; text-decoration-color: #008080; font-weight: bold\">175</span>, <span style=\"color: #008080; text-decoration-color: #008080; font-weight: bold\">178</span>, <span style=\"color: #008080; text-decoration-color: #008080; font-weight: bold\">179</span>, <span style=\"color: #008080; text-decoration-color: #008080; font-weight: bold\">180</span>, <span style=\"color: #008080; text-decoration-color: #008080; font-weight: bold\">182</span>, <span style=\"color: #008080; text-decoration-color: #008080; font-weight: bold\">182</span>, <span style=\"color: #808000; text-decoration-color: #808000\">...</span>   \n",
       "<span style=\"color: #008080; text-decoration-color: #008080; font-weight: bold\">4400001</span>   <span style=\"color: #008080; text-decoration-color: #008080; font-weight: bold\">3</span> <span style=\"color: #800080; text-decoration-color: #800080\">/</span> SVR - rbf  <span style=\"font-weight: bold\">(</span><span style=\"color: #008080; text-decoration-color: #008080; font-weight: bold\">166</span>, <span style=\"color: #008080; text-decoration-color: #008080; font-weight: bold\">171</span>, <span style=\"color: #008080; text-decoration-color: #008080; font-weight: bold\">173</span>, <span style=\"color: #008080; text-decoration-color: #008080; font-weight: bold\">175</span>, <span style=\"color: #008080; text-decoration-color: #008080; font-weight: bold\">178</span>, <span style=\"color: #008080; text-decoration-color: #008080; font-weight: bold\">179</span>, <span style=\"color: #008080; text-decoration-color: #008080; font-weight: bold\">180</span>, <span style=\"color: #008080; text-decoration-color: #008080; font-weight: bold\">182</span>, <span style=\"color: #008080; text-decoration-color: #008080; font-weight: bold\">182</span>, <span style=\"color: #808000; text-decoration-color: #808000\">...</span>   \n",
       "<span style=\"color: #008080; text-decoration-color: #008080; font-weight: bold\">4400002</span>   <span style=\"color: #008080; text-decoration-color: #008080; font-weight: bold\">3</span> <span style=\"color: #800080; text-decoration-color: #800080\">/</span> SVR - rbf  <span style=\"font-weight: bold\">(</span><span style=\"color: #008080; text-decoration-color: #008080; font-weight: bold\">166</span>, <span style=\"color: #008080; text-decoration-color: #008080; font-weight: bold\">171</span>, <span style=\"color: #008080; text-decoration-color: #008080; font-weight: bold\">173</span>, <span style=\"color: #008080; text-decoration-color: #008080; font-weight: bold\">175</span>, <span style=\"color: #008080; text-decoration-color: #008080; font-weight: bold\">178</span>, <span style=\"color: #008080; text-decoration-color: #008080; font-weight: bold\">179</span>, <span style=\"color: #008080; text-decoration-color: #008080; font-weight: bold\">180</span>, <span style=\"color: #008080; text-decoration-color: #008080; font-weight: bold\">182</span>, <span style=\"color: #008080; text-decoration-color: #008080; font-weight: bold\">182</span>, <span style=\"color: #808000; text-decoration-color: #808000\">...</span>   \n",
       "<span style=\"color: #008080; text-decoration-color: #008080; font-weight: bold\">4400003</span>   <span style=\"color: #008080; text-decoration-color: #008080; font-weight: bold\">3</span> <span style=\"color: #800080; text-decoration-color: #800080\">/</span> SVR - rbf  <span style=\"font-weight: bold\">(</span><span style=\"color: #008080; text-decoration-color: #008080; font-weight: bold\">166</span>, <span style=\"color: #008080; text-decoration-color: #008080; font-weight: bold\">171</span>, <span style=\"color: #008080; text-decoration-color: #008080; font-weight: bold\">173</span>, <span style=\"color: #008080; text-decoration-color: #008080; font-weight: bold\">175</span>, <span style=\"color: #008080; text-decoration-color: #008080; font-weight: bold\">178</span>, <span style=\"color: #008080; text-decoration-color: #008080; font-weight: bold\">179</span>, <span style=\"color: #008080; text-decoration-color: #008080; font-weight: bold\">180</span>, <span style=\"color: #008080; text-decoration-color: #008080; font-weight: bold\">182</span>, <span style=\"color: #008080; text-decoration-color: #008080; font-weight: bold\">182</span>, <span style=\"color: #808000; text-decoration-color: #808000\">...</span>   \n",
       "<span style=\"color: #008080; text-decoration-color: #008080; font-weight: bold\">4400004</span>   <span style=\"color: #008080; text-decoration-color: #008080; font-weight: bold\">3</span> <span style=\"color: #800080; text-decoration-color: #800080\">/</span> SVR - rbf  <span style=\"font-weight: bold\">(</span><span style=\"color: #008080; text-decoration-color: #008080; font-weight: bold\">166</span>, <span style=\"color: #008080; text-decoration-color: #008080; font-weight: bold\">171</span>, <span style=\"color: #008080; text-decoration-color: #008080; font-weight: bold\">173</span>, <span style=\"color: #008080; text-decoration-color: #008080; font-weight: bold\">175</span>, <span style=\"color: #008080; text-decoration-color: #008080; font-weight: bold\">178</span>, <span style=\"color: #008080; text-decoration-color: #008080; font-weight: bold\">179</span>, <span style=\"color: #008080; text-decoration-color: #008080; font-weight: bold\">180</span>, <span style=\"color: #008080; text-decoration-color: #008080; font-weight: bold\">182</span>, <span style=\"color: #008080; text-decoration-color: #008080; font-weight: bold\">182</span>, <span style=\"color: #808000; text-decoration-color: #808000\">...</span>   \n",
       "<span style=\"color: #808000; text-decoration-color: #808000\">...</span>                 <span style=\"color: #808000; text-decoration-color: #808000\">...</span>                                                <span style=\"color: #808000; text-decoration-color: #808000\">...</span>   \n",
       "<span style=\"color: #008080; text-decoration-color: #008080; font-weight: bold\">20399995</span>  <span style=\"color: #008080; text-decoration-color: #008080; font-weight: bold\">1</span> <span style=\"color: #800080; text-decoration-color: #800080\">/</span> SVR - rbf  <span style=\"font-weight: bold\">(</span><span style=\"color: #008080; text-decoration-color: #008080; font-weight: bold\">178</span>, <span style=\"color: #008080; text-decoration-color: #008080; font-weight: bold\">181</span>, <span style=\"color: #008080; text-decoration-color: #008080; font-weight: bold\">181</span>, <span style=\"color: #008080; text-decoration-color: #008080; font-weight: bold\">182</span>, <span style=\"color: #008080; text-decoration-color: #008080; font-weight: bold\">183</span>, <span style=\"color: #008080; text-decoration-color: #008080; font-weight: bold\">184</span>, <span style=\"color: #008080; text-decoration-color: #008080; font-weight: bold\">185</span>, <span style=\"color: #008080; text-decoration-color: #008080; font-weight: bold\">185</span>, <span style=\"color: #008080; text-decoration-color: #008080; font-weight: bold\">187</span>, <span style=\"color: #808000; text-decoration-color: #808000\">...</span>   \n",
       "<span style=\"color: #008080; text-decoration-color: #008080; font-weight: bold\">20399996</span>  <span style=\"color: #008080; text-decoration-color: #008080; font-weight: bold\">1</span> <span style=\"color: #800080; text-decoration-color: #800080\">/</span> SVR - rbf  <span style=\"font-weight: bold\">(</span><span style=\"color: #008080; text-decoration-color: #008080; font-weight: bold\">178</span>, <span style=\"color: #008080; text-decoration-color: #008080; font-weight: bold\">181</span>, <span style=\"color: #008080; text-decoration-color: #008080; font-weight: bold\">181</span>, <span style=\"color: #008080; text-decoration-color: #008080; font-weight: bold\">182</span>, <span style=\"color: #008080; text-decoration-color: #008080; font-weight: bold\">183</span>, <span style=\"color: #008080; text-decoration-color: #008080; font-weight: bold\">184</span>, <span style=\"color: #008080; text-decoration-color: #008080; font-weight: bold\">185</span>, <span style=\"color: #008080; text-decoration-color: #008080; font-weight: bold\">185</span>, <span style=\"color: #008080; text-decoration-color: #008080; font-weight: bold\">187</span>, <span style=\"color: #808000; text-decoration-color: #808000\">...</span>   \n",
       "<span style=\"color: #008080; text-decoration-color: #008080; font-weight: bold\">20399997</span>  <span style=\"color: #008080; text-decoration-color: #008080; font-weight: bold\">1</span> <span style=\"color: #800080; text-decoration-color: #800080\">/</span> SVR - rbf  <span style=\"font-weight: bold\">(</span><span style=\"color: #008080; text-decoration-color: #008080; font-weight: bold\">178</span>, <span style=\"color: #008080; text-decoration-color: #008080; font-weight: bold\">181</span>, <span style=\"color: #008080; text-decoration-color: #008080; font-weight: bold\">181</span>, <span style=\"color: #008080; text-decoration-color: #008080; font-weight: bold\">182</span>, <span style=\"color: #008080; text-decoration-color: #008080; font-weight: bold\">183</span>, <span style=\"color: #008080; text-decoration-color: #008080; font-weight: bold\">184</span>, <span style=\"color: #008080; text-decoration-color: #008080; font-weight: bold\">185</span>, <span style=\"color: #008080; text-decoration-color: #008080; font-weight: bold\">185</span>, <span style=\"color: #008080; text-decoration-color: #008080; font-weight: bold\">187</span>, <span style=\"color: #808000; text-decoration-color: #808000\">...</span>   \n",
       "<span style=\"color: #008080; text-decoration-color: #008080; font-weight: bold\">20399998</span>  <span style=\"color: #008080; text-decoration-color: #008080; font-weight: bold\">1</span> <span style=\"color: #800080; text-decoration-color: #800080\">/</span> SVR - rbf  <span style=\"font-weight: bold\">(</span><span style=\"color: #008080; text-decoration-color: #008080; font-weight: bold\">178</span>, <span style=\"color: #008080; text-decoration-color: #008080; font-weight: bold\">181</span>, <span style=\"color: #008080; text-decoration-color: #008080; font-weight: bold\">181</span>, <span style=\"color: #008080; text-decoration-color: #008080; font-weight: bold\">182</span>, <span style=\"color: #008080; text-decoration-color: #008080; font-weight: bold\">183</span>, <span style=\"color: #008080; text-decoration-color: #008080; font-weight: bold\">184</span>, <span style=\"color: #008080; text-decoration-color: #008080; font-weight: bold\">185</span>, <span style=\"color: #008080; text-decoration-color: #008080; font-weight: bold\">185</span>, <span style=\"color: #008080; text-decoration-color: #008080; font-weight: bold\">187</span>, <span style=\"color: #808000; text-decoration-color: #808000\">...</span>   \n",
       "<span style=\"color: #008080; text-decoration-color: #008080; font-weight: bold\">20399999</span>  <span style=\"color: #008080; text-decoration-color: #008080; font-weight: bold\">1</span> <span style=\"color: #800080; text-decoration-color: #800080\">/</span> SVR - rbf  <span style=\"font-weight: bold\">(</span><span style=\"color: #008080; text-decoration-color: #008080; font-weight: bold\">178</span>, <span style=\"color: #008080; text-decoration-color: #008080; font-weight: bold\">181</span>, <span style=\"color: #008080; text-decoration-color: #008080; font-weight: bold\">181</span>, <span style=\"color: #008080; text-decoration-color: #008080; font-weight: bold\">182</span>, <span style=\"color: #008080; text-decoration-color: #008080; font-weight: bold\">183</span>, <span style=\"color: #008080; text-decoration-color: #008080; font-weight: bold\">184</span>, <span style=\"color: #008080; text-decoration-color: #008080; font-weight: bold\">185</span>, <span style=\"color: #008080; text-decoration-color: #008080; font-weight: bold\">185</span>, <span style=\"color: #008080; text-decoration-color: #008080; font-weight: bold\">187</span>, <span style=\"color: #808000; text-decoration-color: #808000\">...</span>   \n",
       "<span style=\"color: #7fbf7f; text-decoration-color: #7fbf7f\">│   │     </span>\n",
       "<span style=\"color: #7fbf7f; text-decoration-color: #7fbf7f\">│   │     </span>clusterSize      wfName           method          res  cvSplit  \\\n",
       "<span style=\"color: #008080; text-decoration-color: #008080; font-weight: bold\">4400000</span>            <span style=\"color: #008080; text-decoration-color: #008080; font-weight: bold\">14</span>       sarek    recommenderV1   <span style=\"color: #008080; text-decoration-color: #008080; font-weight: bold\">41102.6000</span>  chipseq   \n",
       "<span style=\"color: #008080; text-decoration-color: #008080; font-weight: bold\">4400001</span>            <span style=\"color: #008080; text-decoration-color: #008080; font-weight: bold\">14</span>       sarek  recommenderV1H1   <span style=\"color: #008080; text-decoration-color: #008080; font-weight: bold\">41102.6000</span>  chipseq   \n",
       "<span style=\"color: #008080; text-decoration-color: #008080; font-weight: bold\">4400002</span>            <span style=\"color: #008080; text-decoration-color: #008080; font-weight: bold\">14</span>       sarek  recommenderV1H2   <span style=\"color: #008080; text-decoration-color: #008080; font-weight: bold\">41102.6000</span>  chipseq   \n",
       "<span style=\"color: #008080; text-decoration-color: #008080; font-weight: bold\">4400003</span>            <span style=\"color: #008080; text-decoration-color: #008080; font-weight: bold\">14</span>       sarek  recommenderV1H3   <span style=\"color: #008080; text-decoration-color: #008080; font-weight: bold\">41102.6000</span>  chipseq   \n",
       "<span style=\"color: #008080; text-decoration-color: #008080; font-weight: bold\">4400004</span>            <span style=\"color: #008080; text-decoration-color: #008080; font-weight: bold\">14</span>       sarek    recommenderV2   <span style=\"color: #008080; text-decoration-color: #008080; font-weight: bold\">41102.6000</span>  chipseq   \n",
       "<span style=\"color: #808000; text-decoration-color: #808000\">...</span>               <span style=\"color: #808000; text-decoration-color: #808000\">...</span>         <span style=\"color: #808000; text-decoration-color: #808000\">...</span>              <span style=\"color: #808000; text-decoration-color: #808000\">...</span>          <span style=\"color: #808000; text-decoration-color: #808000\">...</span>      <span style=\"color: #808000; text-decoration-color: #808000\">...</span>   \n",
       "<span style=\"color: #008080; text-decoration-color: #008080; font-weight: bold\">20399995</span>           <span style=\"color: #008080; text-decoration-color: #008080; font-weight: bold\">10</span>  viralrecon  recommenderV1H3  <span style=\"color: #008080; text-decoration-color: #008080; font-weight: bold\">188586.2000</span>  chipseq   \n",
       "<span style=\"color: #008080; text-decoration-color: #008080; font-weight: bold\">20399996</span>           <span style=\"color: #008080; text-decoration-color: #008080; font-weight: bold\">10</span>  viralrecon    recommenderV2  <span style=\"color: #008080; text-decoration-color: #008080; font-weight: bold\">147986.2000</span>  chipseq   \n",
       "<span style=\"color: #008080; text-decoration-color: #008080; font-weight: bold\">20399997</span>           <span style=\"color: #008080; text-decoration-color: #008080; font-weight: bold\">10</span>  viralrecon  recommenderV2H1  <span style=\"color: #008080; text-decoration-color: #008080; font-weight: bold\">192919.5333</span>  chipseq   \n",
       "<span style=\"color: #008080; text-decoration-color: #008080; font-weight: bold\">20399998</span>           <span style=\"color: #008080; text-decoration-color: #008080; font-weight: bold\">10</span>  viralrecon  recommenderV2H2  <span style=\"color: #008080; text-decoration-color: #008080; font-weight: bold\">192919.5333</span>  chipseq   \n",
       "<span style=\"color: #008080; text-decoration-color: #008080; font-weight: bold\">20399999</span>           <span style=\"color: #008080; text-decoration-color: #008080; font-weight: bold\">10</span>  viralrecon  recommenderV2H3  <span style=\"color: #008080; text-decoration-color: #008080; font-weight: bold\">193119.5333</span>  chipseq   \n",
       "<span style=\"color: #7fbf7f; text-decoration-color: #7fbf7f\">│   │    </span>\n",
       "<span style=\"color: #7fbf7f; text-decoration-color: #7fbf7f\">│   │    </span>ukSplit  \n",
       "<span style=\"color: #008080; text-decoration-color: #008080; font-weight: bold\">4400000</span>    eager  \n",
       "<span style=\"color: #008080; text-decoration-color: #008080; font-weight: bold\">4400001</span>    eager  \n",
       "<span style=\"color: #008080; text-decoration-color: #008080; font-weight: bold\">4400002</span>    eager  \n",
       "<span style=\"color: #008080; text-decoration-color: #008080; font-weight: bold\">4400003</span>    eager  \n",
       "<span style=\"color: #008080; text-decoration-color: #008080; font-weight: bold\">4400004</span>    eager  \n",
       "<span style=\"color: #808000; text-decoration-color: #808000\">...</span>          <span style=\"color: #808000; text-decoration-color: #808000\">...</span>  \n",
       "<span style=\"color: #008080; text-decoration-color: #008080; font-weight: bold\">20399995</span>   eager  \n",
       "<span style=\"color: #008080; text-decoration-color: #008080; font-weight: bold\">20399996</span>   eager  \n",
       "<span style=\"color: #008080; text-decoration-color: #008080; font-weight: bold\">20399997</span>   eager  \n",
       "<span style=\"color: #008080; text-decoration-color: #008080; font-weight: bold\">20399998</span>   eager  \n",
       "<span style=\"color: #008080; text-decoration-color: #008080; font-weight: bold\">20399999</span>   eager  \n",
       "\n",
       "<span style=\"font-weight: bold\">[</span><span style=\"color: #008080; text-decoration-color: #008080; font-weight: bold\">1200000</span> rows x <span style=\"color: #008080; text-decoration-color: #008080; font-weight: bold\">8</span> columns<span style=\"font-weight: bold\">]</span>\n",
       "<span style=\"font-weight: bold\">)</span>\n",
       "</pre>\n"
      ],
      "text/plain": [
       "\n",
       "\u001b[1m(\u001b[0m\n",
       "\u001b[2;32m│   \u001b[0m\u001b[1m(\u001b[0m\n",
       "\u001b[2;32m│   │   \u001b[0m\u001b[32m'chipseq'\u001b[0m,\n",
       "\u001b[2;32m│   │   \u001b[0m\u001b[32m'eager'\u001b[0m\n",
       "\u001b[2;32m│   \u001b[0m\u001b[1m)\u001b[0m,\n",
       "\u001b[2;32m│   │   │   │      \u001b[0mregModel                                            cluster  \\\n",
       "\u001b[1;36m4400000\u001b[0m   \u001b[1;36m3\u001b[0m \u001b[35m/\u001b[0m SVR - rbf  \u001b[1m(\u001b[0m\u001b[1;36m166\u001b[0m, \u001b[1;36m171\u001b[0m, \u001b[1;36m173\u001b[0m, \u001b[1;36m175\u001b[0m, \u001b[1;36m178\u001b[0m, \u001b[1;36m179\u001b[0m, \u001b[1;36m180\u001b[0m, \u001b[1;36m182\u001b[0m, \u001b[1;36m182\u001b[0m, \u001b[33m...\u001b[0m   \n",
       "\u001b[1;36m4400001\u001b[0m   \u001b[1;36m3\u001b[0m \u001b[35m/\u001b[0m SVR - rbf  \u001b[1m(\u001b[0m\u001b[1;36m166\u001b[0m, \u001b[1;36m171\u001b[0m, \u001b[1;36m173\u001b[0m, \u001b[1;36m175\u001b[0m, \u001b[1;36m178\u001b[0m, \u001b[1;36m179\u001b[0m, \u001b[1;36m180\u001b[0m, \u001b[1;36m182\u001b[0m, \u001b[1;36m182\u001b[0m, \u001b[33m...\u001b[0m   \n",
       "\u001b[1;36m4400002\u001b[0m   \u001b[1;36m3\u001b[0m \u001b[35m/\u001b[0m SVR - rbf  \u001b[1m(\u001b[0m\u001b[1;36m166\u001b[0m, \u001b[1;36m171\u001b[0m, \u001b[1;36m173\u001b[0m, \u001b[1;36m175\u001b[0m, \u001b[1;36m178\u001b[0m, \u001b[1;36m179\u001b[0m, \u001b[1;36m180\u001b[0m, \u001b[1;36m182\u001b[0m, \u001b[1;36m182\u001b[0m, \u001b[33m...\u001b[0m   \n",
       "\u001b[1;36m4400003\u001b[0m   \u001b[1;36m3\u001b[0m \u001b[35m/\u001b[0m SVR - rbf  \u001b[1m(\u001b[0m\u001b[1;36m166\u001b[0m, \u001b[1;36m171\u001b[0m, \u001b[1;36m173\u001b[0m, \u001b[1;36m175\u001b[0m, \u001b[1;36m178\u001b[0m, \u001b[1;36m179\u001b[0m, \u001b[1;36m180\u001b[0m, \u001b[1;36m182\u001b[0m, \u001b[1;36m182\u001b[0m, \u001b[33m...\u001b[0m   \n",
       "\u001b[1;36m4400004\u001b[0m   \u001b[1;36m3\u001b[0m \u001b[35m/\u001b[0m SVR - rbf  \u001b[1m(\u001b[0m\u001b[1;36m166\u001b[0m, \u001b[1;36m171\u001b[0m, \u001b[1;36m173\u001b[0m, \u001b[1;36m175\u001b[0m, \u001b[1;36m178\u001b[0m, \u001b[1;36m179\u001b[0m, \u001b[1;36m180\u001b[0m, \u001b[1;36m182\u001b[0m, \u001b[1;36m182\u001b[0m, \u001b[33m...\u001b[0m   \n",
       "\u001b[33m...\u001b[0m                 \u001b[33m...\u001b[0m                                                \u001b[33m...\u001b[0m   \n",
       "\u001b[1;36m20399995\u001b[0m  \u001b[1;36m1\u001b[0m \u001b[35m/\u001b[0m SVR - rbf  \u001b[1m(\u001b[0m\u001b[1;36m178\u001b[0m, \u001b[1;36m181\u001b[0m, \u001b[1;36m181\u001b[0m, \u001b[1;36m182\u001b[0m, \u001b[1;36m183\u001b[0m, \u001b[1;36m184\u001b[0m, \u001b[1;36m185\u001b[0m, \u001b[1;36m185\u001b[0m, \u001b[1;36m187\u001b[0m, \u001b[33m...\u001b[0m   \n",
       "\u001b[1;36m20399996\u001b[0m  \u001b[1;36m1\u001b[0m \u001b[35m/\u001b[0m SVR - rbf  \u001b[1m(\u001b[0m\u001b[1;36m178\u001b[0m, \u001b[1;36m181\u001b[0m, \u001b[1;36m181\u001b[0m, \u001b[1;36m182\u001b[0m, \u001b[1;36m183\u001b[0m, \u001b[1;36m184\u001b[0m, \u001b[1;36m185\u001b[0m, \u001b[1;36m185\u001b[0m, \u001b[1;36m187\u001b[0m, \u001b[33m...\u001b[0m   \n",
       "\u001b[1;36m20399997\u001b[0m  \u001b[1;36m1\u001b[0m \u001b[35m/\u001b[0m SVR - rbf  \u001b[1m(\u001b[0m\u001b[1;36m178\u001b[0m, \u001b[1;36m181\u001b[0m, \u001b[1;36m181\u001b[0m, \u001b[1;36m182\u001b[0m, \u001b[1;36m183\u001b[0m, \u001b[1;36m184\u001b[0m, \u001b[1;36m185\u001b[0m, \u001b[1;36m185\u001b[0m, \u001b[1;36m187\u001b[0m, \u001b[33m...\u001b[0m   \n",
       "\u001b[1;36m20399998\u001b[0m  \u001b[1;36m1\u001b[0m \u001b[35m/\u001b[0m SVR - rbf  \u001b[1m(\u001b[0m\u001b[1;36m178\u001b[0m, \u001b[1;36m181\u001b[0m, \u001b[1;36m181\u001b[0m, \u001b[1;36m182\u001b[0m, \u001b[1;36m183\u001b[0m, \u001b[1;36m184\u001b[0m, \u001b[1;36m185\u001b[0m, \u001b[1;36m185\u001b[0m, \u001b[1;36m187\u001b[0m, \u001b[33m...\u001b[0m   \n",
       "\u001b[1;36m20399999\u001b[0m  \u001b[1;36m1\u001b[0m \u001b[35m/\u001b[0m SVR - rbf  \u001b[1m(\u001b[0m\u001b[1;36m178\u001b[0m, \u001b[1;36m181\u001b[0m, \u001b[1;36m181\u001b[0m, \u001b[1;36m182\u001b[0m, \u001b[1;36m183\u001b[0m, \u001b[1;36m184\u001b[0m, \u001b[1;36m185\u001b[0m, \u001b[1;36m185\u001b[0m, \u001b[1;36m187\u001b[0m, \u001b[33m...\u001b[0m   \n",
       "\u001b[2;32m│   │     \u001b[0m\n",
       "\u001b[2;32m│   │     \u001b[0mclusterSize      wfName           method          res  cvSplit  \\\n",
       "\u001b[1;36m4400000\u001b[0m            \u001b[1;36m14\u001b[0m       sarek    recommenderV1   \u001b[1;36m41102.6000\u001b[0m  chipseq   \n",
       "\u001b[1;36m4400001\u001b[0m            \u001b[1;36m14\u001b[0m       sarek  recommenderV1H1   \u001b[1;36m41102.6000\u001b[0m  chipseq   \n",
       "\u001b[1;36m4400002\u001b[0m            \u001b[1;36m14\u001b[0m       sarek  recommenderV1H2   \u001b[1;36m41102.6000\u001b[0m  chipseq   \n",
       "\u001b[1;36m4400003\u001b[0m            \u001b[1;36m14\u001b[0m       sarek  recommenderV1H3   \u001b[1;36m41102.6000\u001b[0m  chipseq   \n",
       "\u001b[1;36m4400004\u001b[0m            \u001b[1;36m14\u001b[0m       sarek    recommenderV2   \u001b[1;36m41102.6000\u001b[0m  chipseq   \n",
       "\u001b[33m...\u001b[0m               \u001b[33m...\u001b[0m         \u001b[33m...\u001b[0m              \u001b[33m...\u001b[0m          \u001b[33m...\u001b[0m      \u001b[33m...\u001b[0m   \n",
       "\u001b[1;36m20399995\u001b[0m           \u001b[1;36m10\u001b[0m  viralrecon  recommenderV1H3  \u001b[1;36m188586.2000\u001b[0m  chipseq   \n",
       "\u001b[1;36m20399996\u001b[0m           \u001b[1;36m10\u001b[0m  viralrecon    recommenderV2  \u001b[1;36m147986.2000\u001b[0m  chipseq   \n",
       "\u001b[1;36m20399997\u001b[0m           \u001b[1;36m10\u001b[0m  viralrecon  recommenderV2H1  \u001b[1;36m192919.5333\u001b[0m  chipseq   \n",
       "\u001b[1;36m20399998\u001b[0m           \u001b[1;36m10\u001b[0m  viralrecon  recommenderV2H2  \u001b[1;36m192919.5333\u001b[0m  chipseq   \n",
       "\u001b[1;36m20399999\u001b[0m           \u001b[1;36m10\u001b[0m  viralrecon  recommenderV2H3  \u001b[1;36m193119.5333\u001b[0m  chipseq   \n",
       "\u001b[2;32m│   │    \u001b[0m\n",
       "\u001b[2;32m│   │    \u001b[0mukSplit  \n",
       "\u001b[1;36m4400000\u001b[0m    eager  \n",
       "\u001b[1;36m4400001\u001b[0m    eager  \n",
       "\u001b[1;36m4400002\u001b[0m    eager  \n",
       "\u001b[1;36m4400003\u001b[0m    eager  \n",
       "\u001b[1;36m4400004\u001b[0m    eager  \n",
       "\u001b[33m...\u001b[0m          \u001b[33m...\u001b[0m  \n",
       "\u001b[1;36m20399995\u001b[0m   eager  \n",
       "\u001b[1;36m20399996\u001b[0m   eager  \n",
       "\u001b[1;36m20399997\u001b[0m   eager  \n",
       "\u001b[1;36m20399998\u001b[0m   eager  \n",
       "\u001b[1;36m20399999\u001b[0m   eager  \n",
       "\n",
       "\u001b[1m[\u001b[0m\u001b[1;36m1200000\u001b[0m rows x \u001b[1;36m8\u001b[0m columns\u001b[1m]\u001b[0m\n",
       "\u001b[1m)\u001b[0m\n"
      ]
     },
     "metadata": {},
     "output_type": "display_data"
    }
   ],
   "source": [
    "with rich.status.Status(\"Processing\"):\n",
    "    t = cvBigtable[cvBigtable.regModel != \"N/A\"].groupby([\"cvSplit\", \"ukSplit\"])\n",
    "yep = None\n",
    "for i in t:\n",
    "    yep = i\n",
    "    break\n",
    "yep\n"
   ]
  },
  {
   "cell_type": "code",
   "execution_count": 207,
   "metadata": {
    "pycharm": {
     "name": "#%%\n"
    }
   },
   "outputs": [],
   "source": [
    "regModelMethodScores = getRegModelMethodScores(\"regModelMethodScores.pickle\", bigtable)"
   ]
  },
  {
   "cell_type": "code",
   "execution_count": 238,
   "metadata": {
    "pycharm": {
     "name": "#%%\n"
    }
   },
   "outputs": [],
   "source": [
    "tmp = cvBigtable[cvBigtable.regModel != \"N/A\"]\n",
    "clusters = tmp.cluster.unique()\n",
    "regModels = tmp.regModel.unique()\n",
    "methods = tmp.method.unique()\n",
    "del tmp"
   ]
  },
  {
   "cell_type": "code",
   "execution_count": 239,
   "metadata": {
    "pycharm": {
     "name": "#%%\n"
    },
    "tags": []
   },
   "outputs": [],
   "source": [
    "confs = dict()\n",
    "with open(\"percentileCVModels\",\"r\") as f:\n",
    "    for fName in f:\n",
    "        with open(fName.strip(), \"br\") as f2:\n",
    "            l:PickleOut = pickle.load(f2)\n",
    "            m = re.match(\"(?:.*/)*(.*)\\.(.*)_CV-(.*)_U-(.*).pickle\",fName.strip())\n",
    "            confs[f\"{l.polyDeg} / {shortToLongNameLUT[m.group(2)]}\"] = commons.jamGeomean([l.train_confidence, l.test_confidence, l.full_confidence])\n",
    "            "
   ]
  },
  {
   "cell_type": "code",
   "execution_count": 240,
   "metadata": {
    "pycharm": {
     "name": "#%%\n"
    }
   },
   "outputs": [
    {
     "data": {
      "text/html": [
       "<pre style=\"white-space:pre;overflow-x:auto;line-height:normal;font-family:Menlo,'DejaVu Sans Mono',consolas,'Courier New',monospace\">\n",
       "<span style=\"font-weight: bold\">{</span>\n",
       "<span style=\"color: #7fbf7f; text-decoration-color: #7fbf7f\">│   </span><span style=\"color: #008000; text-decoration-color: #008000\">'1 / SVR - rbf'</span>: <span style=\"color: #008080; text-decoration-color: #008080; font-weight: bold\">0.8402348354382618</span>,\n",
       "<span style=\"color: #7fbf7f; text-decoration-color: #7fbf7f\">│   </span><span style=\"color: #008000; text-decoration-color: #008000\">'1 / Stochastic Gradient Descent'</span>: <span style=\"color: #008080; text-decoration-color: #008080; font-weight: bold\">0.7747835078751857</span>,\n",
       "<span style=\"color: #7fbf7f; text-decoration-color: #7fbf7f\">│   </span><span style=\"color: #808000; text-decoration-color: #808000\">...</span> +<span style=\"color: #008080; text-decoration-color: #008080; font-weight: bold\">1</span>\n",
       "<span style=\"font-weight: bold\">}</span>\n",
       "</pre>\n"
      ],
      "text/plain": [
       "\n",
       "\u001b[1m{\u001b[0m\n",
       "\u001b[2;32m│   \u001b[0m\u001b[32m'1 / SVR - rbf'\u001b[0m: \u001b[1;36m0.8402348354382618\u001b[0m,\n",
       "\u001b[2;32m│   \u001b[0m\u001b[32m'1 / Stochastic Gradient Descent'\u001b[0m: \u001b[1;36m0.7747835078751857\u001b[0m,\n",
       "\u001b[2;32m│   \u001b[0m\u001b[33m...\u001b[0m +\u001b[1;36m1\u001b[0m\n",
       "\u001b[1m}\u001b[0m\n"
      ]
     },
     "metadata": {},
     "output_type": "display_data"
    }
   ],
   "source": [
    "confs"
   ]
  },
  {
   "cell_type": "code",
   "execution_count": 241,
   "metadata": {
    "pycharm": {
     "name": "#%%\n"
    },
    "tags": []
   },
   "outputs": [],
   "source": [
    "regModels = sorted(regModels, key=lambda x: confs[x], reverse=True)"
   ]
  },
  {
   "cell_type": "code",
   "execution_count": null,
   "metadata": {
    "pycharm": {
     "name": "#%%\n"
    }
   },
   "outputs": [
    {
     "data": {
      "application/vnd.jupyter.widget-view+json": {
       "model_id": "c3d405f52c2b44a1b6f26f89052d9041",
       "version_major": 2,
       "version_minor": 0
      },
      "text/plain": [
       "Output()"
      ]
     },
     "metadata": {},
     "output_type": "display_data"
    }
   ],
   "source": [
    "cvScores = dict()\n",
    "cv10PScores = dict()\n",
    "for i, d in cvBigtable[cvBigtable.regModel != \"N/A\"].groupby([\"cvSplit\",\"ukSplit\"]):\n",
    "    cvScores[i] = getRegModelMethodScores(f\"cvRegModelMethodScores_CV-{i[0]}_U-{i[1]}.pickle\", d.drop([\"cvSplit\",\"ukSplit\"], axis=1))\n",
    "    cvScores[i] = getRegModelMethodScores(f\"cvRegModelMethodScores10P_CV-{i[0]}_U-{i[1]}.pickle\", d.drop([\"cvSplit\",\"ukSplit\"], axis=1), tol=lambda cur, mini: 10*mini/100)"
   ]
  },
  {
   "cell_type": "code",
   "execution_count": null,
   "metadata": {
    "pycharm": {
     "name": "#%%\n"
    }
   },
   "outputs": [],
   "source": [
    "cvScores"
   ]
  },
  {
   "cell_type": "code",
   "execution_count": 208,
   "metadata": {
    "pycharm": {
     "name": "#%%\n"
    }
   },
   "outputs": [
    {
     "data": {
      "text/html": [
       "<pre style=\"white-space:pre;overflow-x:auto;line-height:normal;font-family:Menlo,'DejaVu Sans Mono',consolas,'Courier New',monospace\">\n",
       "<span style=\"font-weight: bold\">{</span>\n",
       "<span style=\"color: #7fbf7f; text-decoration-color: #7fbf7f\">│   </span><span style=\"font-weight: bold\">(</span><span style=\"color: #008000; text-decoration-color: #008000\">'1 / Lasso CV'</span>, <span style=\"color: #008000; text-decoration-color: #008000\">'recommenderV1'</span><span style=\"font-weight: bold\">)</span>: <span style=\"color: #008080; text-decoration-color: #008080; font-weight: bold\">5346</span>,\n",
       "<span style=\"color: #7fbf7f; text-decoration-color: #7fbf7f\">│   </span><span style=\"font-weight: bold\">(</span><span style=\"color: #008000; text-decoration-color: #008000\">'1 / Lasso CV'</span>, <span style=\"color: #008000; text-decoration-color: #008000\">'recommenderV1H1'</span><span style=\"font-weight: bold\">)</span>: <span style=\"color: #008080; text-decoration-color: #008080; font-weight: bold\">5516</span>,\n",
       "<span style=\"color: #7fbf7f; text-decoration-color: #7fbf7f\">│   </span><span style=\"color: #808000; text-decoration-color: #808000\">...</span> +<span style=\"color: #008080; text-decoration-color: #008080; font-weight: bold\">86</span>\n",
       "<span style=\"font-weight: bold\">}</span>\n",
       "</pre>\n"
      ],
      "text/plain": [
       "\n",
       "\u001b[1m{\u001b[0m\n",
       "\u001b[2;32m│   \u001b[0m\u001b[1m(\u001b[0m\u001b[32m'1 / Lasso CV'\u001b[0m, \u001b[32m'recommenderV1'\u001b[0m\u001b[1m)\u001b[0m: \u001b[1;36m5346\u001b[0m,\n",
       "\u001b[2;32m│   \u001b[0m\u001b[1m(\u001b[0m\u001b[32m'1 / Lasso CV'\u001b[0m, \u001b[32m'recommenderV1H1'\u001b[0m\u001b[1m)\u001b[0m: \u001b[1;36m5516\u001b[0m,\n",
       "\u001b[2;32m│   \u001b[0m\u001b[33m...\u001b[0m +\u001b[1;36m86\u001b[0m\n",
       "\u001b[1m}\u001b[0m\n"
      ]
     },
     "metadata": {},
     "output_type": "display_data"
    }
   ],
   "source": [
    "regModelMethodScores"
   ]
  },
  {
   "cell_type": "code",
   "execution_count": 209,
   "metadata": {
    "pycharm": {
     "name": "#%%\n"
    }
   },
   "outputs": [],
   "source": [
    "regModelMethodScores10P  = getRegModelMethodScores(\"regModelMethodScores10P.pickle\", bigtable, tol=lambda cur, mini: 10*mini/100)"
   ]
  },
  {
   "cell_type": "code",
   "execution_count": 210,
   "metadata": {
    "pycharm": {
     "name": "#%%\n"
    }
   },
   "outputs": [
    {
     "data": {
      "text/html": [
       "<pre style=\"white-space:pre;overflow-x:auto;line-height:normal;font-family:Menlo,'DejaVu Sans Mono',consolas,'Courier New',monospace\">\n",
       "<span style=\"font-weight: bold\">{</span>\n",
       "<span style=\"color: #7fbf7f; text-decoration-color: #7fbf7f\">│   </span><span style=\"font-weight: bold\">(</span><span style=\"color: #008000; text-decoration-color: #008000\">'1 / Lasso CV'</span>, <span style=\"color: #008000; text-decoration-color: #008000\">'recommenderV1'</span><span style=\"font-weight: bold\">)</span>: <span style=\"color: #008080; text-decoration-color: #008080; font-weight: bold\">35744</span>,\n",
       "<span style=\"color: #7fbf7f; text-decoration-color: #7fbf7f\">│   </span><span style=\"font-weight: bold\">(</span><span style=\"color: #008000; text-decoration-color: #008000\">'1 / Lasso CV'</span>, <span style=\"color: #008000; text-decoration-color: #008000\">'recommenderV1H1'</span><span style=\"font-weight: bold\">)</span>: <span style=\"color: #008080; text-decoration-color: #008080; font-weight: bold\">35850</span>,\n",
       "<span style=\"color: #7fbf7f; text-decoration-color: #7fbf7f\">│   </span><span style=\"color: #808000; text-decoration-color: #808000\">...</span> +<span style=\"color: #008080; text-decoration-color: #008080; font-weight: bold\">86</span>\n",
       "<span style=\"font-weight: bold\">}</span>\n",
       "</pre>\n"
      ],
      "text/plain": [
       "\n",
       "\u001b[1m{\u001b[0m\n",
       "\u001b[2;32m│   \u001b[0m\u001b[1m(\u001b[0m\u001b[32m'1 / Lasso CV'\u001b[0m, \u001b[32m'recommenderV1'\u001b[0m\u001b[1m)\u001b[0m: \u001b[1;36m35744\u001b[0m,\n",
       "\u001b[2;32m│   \u001b[0m\u001b[1m(\u001b[0m\u001b[32m'1 / Lasso CV'\u001b[0m, \u001b[32m'recommenderV1H1'\u001b[0m\u001b[1m)\u001b[0m: \u001b[1;36m35850\u001b[0m,\n",
       "\u001b[2;32m│   \u001b[0m\u001b[33m...\u001b[0m +\u001b[1;36m86\u001b[0m\n",
       "\u001b[1m}\u001b[0m\n"
      ]
     },
     "metadata": {},
     "output_type": "display_data"
    }
   ],
   "source": [
    "regModelMethodScores10P"
   ]
  },
  {
   "cell_type": "code",
   "execution_count": 211,
   "metadata": {
    "pycharm": {
     "name": "#%%\n"
    }
   },
   "outputs": [],
   "source": [
    "scoresDF = pds.DataFrame(index=regModels, columns=methods, dtype=float)\n",
    "for rm, s in regModelMethodScores.items():\n",
    "    rM, meth = rm\n",
    "    scoresDF.loc[rM, meth] = s"
   ]
  },
  {
   "cell_type": "code",
   "execution_count": 212,
   "metadata": {
    "pycharm": {
     "name": "#%%\n"
    }
   },
   "outputs": [
    {
     "data": {
      "text/html": [
       "<div>\n",
       "<style scoped>\n",
       "    .dataframe tbody tr th:only-of-type {\n",
       "        vertical-align: middle;\n",
       "    }\n",
       "\n",
       "    .dataframe tbody tr th {\n",
       "        vertical-align: top;\n",
       "    }\n",
       "\n",
       "    .dataframe thead th {\n",
       "        text-align: right;\n",
       "    }\n",
       "</style>\n",
       "<table border=\"1\" class=\"dataframe\">\n",
       "  <thead>\n",
       "    <tr style=\"text-align: right;\">\n",
       "      <th></th>\n",
       "      <th>recommenderV1</th>\n",
       "      <th>recommenderV1H1</th>\n",
       "      <th>recommenderV1H2</th>\n",
       "      <th>recommenderV1H3</th>\n",
       "      <th>recommenderV2</th>\n",
       "      <th>recommenderV2H1</th>\n",
       "      <th>recommenderV2H2</th>\n",
       "      <th>recommenderV2H3</th>\n",
       "    </tr>\n",
       "  </thead>\n",
       "  <tbody>\n",
       "    <tr>\n",
       "      <th>5 / Ordinary Least Squares</th>\n",
       "      <td>25731.0</td>\n",
       "      <td>27353.0</td>\n",
       "      <td>27353.0</td>\n",
       "      <td>28508.0</td>\n",
       "      <td>9615.0</td>\n",
       "      <td>9903.0</td>\n",
       "      <td>9903.0</td>\n",
       "      <td>9654.0</td>\n",
       "    </tr>\n",
       "    <tr>\n",
       "      <th>3 / Ridge</th>\n",
       "      <td>9628.0</td>\n",
       "      <td>10563.0</td>\n",
       "      <td>10563.0</td>\n",
       "      <td>11010.0</td>\n",
       "      <td>6874.0</td>\n",
       "      <td>6824.0</td>\n",
       "      <td>6824.0</td>\n",
       "      <td>6643.0</td>\n",
       "    </tr>\n",
       "    <tr>\n",
       "      <th>3 / SVR - linear</th>\n",
       "      <td>5818.0</td>\n",
       "      <td>6311.0</td>\n",
       "      <td>6311.0</td>\n",
       "      <td>6909.0</td>\n",
       "      <td>5492.0</td>\n",
       "      <td>5875.0</td>\n",
       "      <td>5875.0</td>\n",
       "      <td>5797.0</td>\n",
       "    </tr>\n",
       "    <tr>\n",
       "      <th>3 / Elastic Net CV</th>\n",
       "      <td>7031.0</td>\n",
       "      <td>6694.0</td>\n",
       "      <td>6694.0</td>\n",
       "      <td>6641.0</td>\n",
       "      <td>5087.0</td>\n",
       "      <td>5512.0</td>\n",
       "      <td>5512.0</td>\n",
       "      <td>5272.0</td>\n",
       "    </tr>\n",
       "    <tr>\n",
       "      <th>2 / Ridge CV</th>\n",
       "      <td>5328.0</td>\n",
       "      <td>5502.0</td>\n",
       "      <td>5502.0</td>\n",
       "      <td>5439.0</td>\n",
       "      <td>5277.0</td>\n",
       "      <td>5668.0</td>\n",
       "      <td>5668.0</td>\n",
       "      <td>5445.0</td>\n",
       "    </tr>\n",
       "    <tr>\n",
       "      <th>1 / Ordinary Least Squares</th>\n",
       "      <td>5369.0</td>\n",
       "      <td>5422.0</td>\n",
       "      <td>5422.0</td>\n",
       "      <td>5116.0</td>\n",
       "      <td>4605.0</td>\n",
       "      <td>5089.0</td>\n",
       "      <td>5089.0</td>\n",
       "      <td>4854.0</td>\n",
       "    </tr>\n",
       "    <tr>\n",
       "      <th>1 / Lasso CV</th>\n",
       "      <td>5346.0</td>\n",
       "      <td>5516.0</td>\n",
       "      <td>5516.0</td>\n",
       "      <td>5329.0</td>\n",
       "      <td>4467.0</td>\n",
       "      <td>4961.0</td>\n",
       "      <td>4961.0</td>\n",
       "      <td>4766.0</td>\n",
       "    </tr>\n",
       "    <tr>\n",
       "      <th>1 / SVR - linear</th>\n",
       "      <td>4731.0</td>\n",
       "      <td>5343.0</td>\n",
       "      <td>5343.0</td>\n",
       "      <td>5141.0</td>\n",
       "      <td>4179.0</td>\n",
       "      <td>4546.0</td>\n",
       "      <td>4546.0</td>\n",
       "      <td>4344.0</td>\n",
       "    </tr>\n",
       "    <tr>\n",
       "      <th>3 / Elastic Net</th>\n",
       "      <td>5347.0</td>\n",
       "      <td>4954.0</td>\n",
       "      <td>4954.0</td>\n",
       "      <td>4851.0</td>\n",
       "      <td>3742.0</td>\n",
       "      <td>4000.0</td>\n",
       "      <td>4000.0</td>\n",
       "      <td>3851.0</td>\n",
       "    </tr>\n",
       "    <tr>\n",
       "      <th>1 / Elastic Net</th>\n",
       "      <td>3789.0</td>\n",
       "      <td>4030.0</td>\n",
       "      <td>4030.0</td>\n",
       "      <td>4232.0</td>\n",
       "      <td>2613.0</td>\n",
       "      <td>2895.0</td>\n",
       "      <td>2895.0</td>\n",
       "      <td>2833.0</td>\n",
       "    </tr>\n",
       "    <tr>\n",
       "      <th>4 / Passive Aggressive</th>\n",
       "      <td>4786.0</td>\n",
       "      <td>4596.0</td>\n",
       "      <td>4596.0</td>\n",
       "      <td>4877.0</td>\n",
       "      <td>2888.0</td>\n",
       "      <td>3024.0</td>\n",
       "      <td>3024.0</td>\n",
       "      <td>2928.0</td>\n",
       "    </tr>\n",
       "  </tbody>\n",
       "</table>\n",
       "</div>"
      ]
     },
     "execution_count": 212,
     "metadata": {},
     "output_type": "execute_result"
    }
   ],
   "source": [
    "scoresDF"
   ]
  },
  {
   "cell_type": "code",
   "execution_count": 220,
   "metadata": {
    "pycharm": {
     "name": "#%%\n"
    }
   },
   "outputs": [
    {
     "data": {
      "image/png": "[encoded data removed]"
     },
     "metadata": {},
     "output_type": "display_data"
    }
   ],
   "source": [
    "# normalize\n",
    "total = 50_000\n",
    "tmp = scoresDF.transform(lambda x: 100*x/total)\n",
    "#\n",
    "ax = sns.heatmap(tmp,\n",
    "                 cmap=\"Spectral\",\n",
    "                 xticklabels=[c.replace(\"recommender\", \"\") for c in scoresDF.columns],\n",
    "                 cbar_kws={\"label\":\"Percent equal to best time\"},\n",
    "                 annot=True,\n",
    "                 robust=True)\n",
    "plt.xlabel(\"Scheduling Method\")\n",
    "plt.ylabel(\"Degree / Regression Model\")\n",
    "fig = ax.get_figure()\n",
    "save_plot(fig, \"heatmapBIS\", bbox_inches=\"tight\")\n",
    "plt.show()"
   ]
  },
  {
   "cell_type": "code",
   "execution_count": 214,
   "metadata": {
    "pycharm": {
     "name": "#%%\n"
    }
   },
   "outputs": [],
   "source": [
    "scores10PDF = pds.DataFrame(index=regModels, columns=methods, dtype=float)\n",
    "for rm, s in regModelMethodScores10P.items():\n",
    "    rM, meth = rm\n",
    "    scores10PDF.loc[rM, meth] = s"
   ]
  },
  {
   "cell_type": "code",
   "execution_count": 215,
   "metadata": {
    "pycharm": {
     "name": "#%%\n"
    }
   },
   "outputs": [
    {
     "data": {
      "text/html": [
       "<div>\n",
       "<style scoped>\n",
       "    .dataframe tbody tr th:only-of-type {\n",
       "        vertical-align: middle;\n",
       "    }\n",
       "\n",
       "    .dataframe tbody tr th {\n",
       "        vertical-align: top;\n",
       "    }\n",
       "\n",
       "    .dataframe thead th {\n",
       "        text-align: right;\n",
       "    }\n",
       "</style>\n",
       "<table border=\"1\" class=\"dataframe\">\n",
       "  <thead>\n",
       "    <tr style=\"text-align: right;\">\n",
       "      <th></th>\n",
       "      <th>recommenderV1</th>\n",
       "      <th>recommenderV1H1</th>\n",
       "      <th>recommenderV1H2</th>\n",
       "      <th>recommenderV1H3</th>\n",
       "      <th>recommenderV2</th>\n",
       "      <th>recommenderV2H1</th>\n",
       "      <th>recommenderV2H2</th>\n",
       "      <th>recommenderV2H3</th>\n",
       "    </tr>\n",
       "  </thead>\n",
       "  <tbody>\n",
       "    <tr>\n",
       "      <th>5 / Ordinary Least Squares</th>\n",
       "      <td>43509.0</td>\n",
       "      <td>43304.0</td>\n",
       "      <td>43304.0</td>\n",
       "      <td>44438.0</td>\n",
       "      <td>37449.0</td>\n",
       "      <td>36687.0</td>\n",
       "      <td>36687.0</td>\n",
       "      <td>36050.0</td>\n",
       "    </tr>\n",
       "    <tr>\n",
       "      <th>3 / Ridge</th>\n",
       "      <td>42956.0</td>\n",
       "      <td>42587.0</td>\n",
       "      <td>42587.0</td>\n",
       "      <td>43463.0</td>\n",
       "      <td>37101.0</td>\n",
       "      <td>35902.0</td>\n",
       "      <td>35902.0</td>\n",
       "      <td>34888.0</td>\n",
       "    </tr>\n",
       "    <tr>\n",
       "      <th>3 / SVR - linear</th>\n",
       "      <td>38292.0</td>\n",
       "      <td>39259.0</td>\n",
       "      <td>39259.0</td>\n",
       "      <td>40567.0</td>\n",
       "      <td>35636.0</td>\n",
       "      <td>34450.0</td>\n",
       "      <td>34450.0</td>\n",
       "      <td>33553.0</td>\n",
       "    </tr>\n",
       "    <tr>\n",
       "      <th>3 / Elastic Net CV</th>\n",
       "      <td>38136.0</td>\n",
       "      <td>38746.0</td>\n",
       "      <td>38746.0</td>\n",
       "      <td>39246.0</td>\n",
       "      <td>34599.0</td>\n",
       "      <td>34365.0</td>\n",
       "      <td>34365.0</td>\n",
       "      <td>32863.0</td>\n",
       "    </tr>\n",
       "    <tr>\n",
       "      <th>2 / Ridge CV</th>\n",
       "      <td>37002.0</td>\n",
       "      <td>38431.0</td>\n",
       "      <td>38431.0</td>\n",
       "      <td>38518.0</td>\n",
       "      <td>35209.0</td>\n",
       "      <td>35127.0</td>\n",
       "      <td>35127.0</td>\n",
       "      <td>33285.0</td>\n",
       "    </tr>\n",
       "    <tr>\n",
       "      <th>1 / Ordinary Least Squares</th>\n",
       "      <td>33601.0</td>\n",
       "      <td>34683.0</td>\n",
       "      <td>34683.0</td>\n",
       "      <td>34709.0</td>\n",
       "      <td>33180.0</td>\n",
       "      <td>33224.0</td>\n",
       "      <td>33224.0</td>\n",
       "      <td>31051.0</td>\n",
       "    </tr>\n",
       "    <tr>\n",
       "      <th>1 / Lasso CV</th>\n",
       "      <td>35744.0</td>\n",
       "      <td>35850.0</td>\n",
       "      <td>35850.0</td>\n",
       "      <td>35905.0</td>\n",
       "      <td>32357.0</td>\n",
       "      <td>32831.0</td>\n",
       "      <td>32831.0</td>\n",
       "      <td>30720.0</td>\n",
       "    </tr>\n",
       "    <tr>\n",
       "      <th>1 / SVR - linear</th>\n",
       "      <td>33344.0</td>\n",
       "      <td>34826.0</td>\n",
       "      <td>34826.0</td>\n",
       "      <td>34813.0</td>\n",
       "      <td>32533.0</td>\n",
       "      <td>32668.0</td>\n",
       "      <td>32668.0</td>\n",
       "      <td>30441.0</td>\n",
       "    </tr>\n",
       "    <tr>\n",
       "      <th>3 / Elastic Net</th>\n",
       "      <td>34241.0</td>\n",
       "      <td>33357.0</td>\n",
       "      <td>33357.0</td>\n",
       "      <td>33455.0</td>\n",
       "      <td>30570.0</td>\n",
       "      <td>29937.0</td>\n",
       "      <td>29937.0</td>\n",
       "      <td>27852.0</td>\n",
       "    </tr>\n",
       "    <tr>\n",
       "      <th>1 / Elastic Net</th>\n",
       "      <td>30086.0</td>\n",
       "      <td>30887.0</td>\n",
       "      <td>30887.0</td>\n",
       "      <td>30790.0</td>\n",
       "      <td>27218.0</td>\n",
       "      <td>26728.0</td>\n",
       "      <td>26728.0</td>\n",
       "      <td>25694.0</td>\n",
       "    </tr>\n",
       "    <tr>\n",
       "      <th>4 / Passive Aggressive</th>\n",
       "      <td>30860.0</td>\n",
       "      <td>29533.0</td>\n",
       "      <td>29533.0</td>\n",
       "      <td>30166.0</td>\n",
       "      <td>26517.0</td>\n",
       "      <td>25167.0</td>\n",
       "      <td>25167.0</td>\n",
       "      <td>24698.0</td>\n",
       "    </tr>\n",
       "  </tbody>\n",
       "</table>\n",
       "</div>"
      ]
     },
     "execution_count": 215,
     "metadata": {},
     "output_type": "execute_result"
    }
   ],
   "source": [
    "scores10PDF"
   ]
  },
  {
   "cell_type": "code",
   "execution_count": 219,
   "metadata": {
    "pycharm": {
     "name": "#%%\n"
    },
    "tags": []
   },
   "outputs": [
    {
     "data": {
      "image/png": "[encoded data removed]"
     },
     "metadata": {},
     "output_type": "display_data"
    }
   ],
   "source": [
    "# normalize\n",
    "total = 50_000\n",
    "tmp = scores10PDF.transform(lambda x: 100*x/total)\n",
    "#\n",
    "ax = sns.heatmap(tmp,\n",
    "                 cmap=\"Spectral\",\n",
    "                 xticklabels=[c.replace(\"recommender\", \"\") for c in scoresDF.columns],\n",
    "                 cbar_kws={\"label\":\"Percent within 10% of best time\"},\n",
    "                 annot=True,\n",
    "                 robust=True)\n",
    "plt.xlabel(\"Scheduling Method\")\n",
    "plt.ylabel(\"Degree / Regression Model\")\n",
    "fig = ax.get_figure()\n",
    "save_plot(fig, \"heatmap10P\", bbox_inches=\"tight\")\n",
    "plt.show()"
   ]
  },
  {
   "cell_type": "markdown",
   "metadata": {},
   "source": [
    "# [END] trying out new visualisation"
   ]
  },
  {
   "cell_type": "code",
   "execution_count": 3,
   "metadata": {
    "pycharm": {
     "name": "#%%\n"
    }
   },
   "outputs": [
    {
     "ename": "NameError",
     "evalue": "name 'bigtable' is not defined",
     "output_type": "error",
     "traceback": [
      "\u001b[0;31m---------------------------------------------------------------------------\u001b[0m",
      "\u001b[0;31mNameError\u001b[0m                                 Traceback (most recent call last)",
      "\u001b[0;32m/tmp/ipykernel_8133/995261593.py\u001b[0m in \u001b[0;36m<module>\u001b[0;34m\u001b[0m\n\u001b[0;32m----> 1\u001b[0;31m descByMethod = bigtable.groupby([\"method\"])[\"res\"].describe(  # percentiles=[x / 10 for x in range(1, 10)],\n\u001b[0m\u001b[1;32m      2\u001b[0m     include=\"all\")\n\u001b[1;32m      3\u001b[0m \u001b[0mdescByMethod\u001b[0m\u001b[0;34m.\u001b[0m\u001b[0msort_values\u001b[0m\u001b[0;34m(\u001b[0m\u001b[0mby\u001b[0m\u001b[0;34m=\u001b[0m\u001b[0;34m[\u001b[0m\u001b[0;34m\"mean\"\u001b[0m\u001b[0;34m]\u001b[0m\u001b[0;34m,\u001b[0m \u001b[0maxis\u001b[0m\u001b[0;34m=\u001b[0m\u001b[0;36m0\u001b[0m\u001b[0;34m,\u001b[0m \u001b[0minplace\u001b[0m\u001b[0;34m=\u001b[0m\u001b[0;32mTrue\u001b[0m\u001b[0;34m,\u001b[0m \u001b[0mascending\u001b[0m\u001b[0;34m=\u001b[0m\u001b[0;32mTrue\u001b[0m\u001b[0;34m)\u001b[0m\u001b[0;34m\u001b[0m\u001b[0;34m\u001b[0m\u001b[0m\n\u001b[1;32m      4\u001b[0m \u001b[0;31m# descByMethod\u001b[0m\u001b[0;34m\u001b[0m\u001b[0;34m\u001b[0m\u001b[0;34m\u001b[0m\u001b[0m\n\u001b[1;32m      5\u001b[0m \u001b[0;34m\u001b[0m\u001b[0m\n",
      "\u001b[0;31mNameError\u001b[0m: name 'bigtable' is not defined"
     ]
    }
   ],
   "source": [
    "descByMethod = bigtable.groupby([\"method\"])[\"res\"].describe(  # percentiles=[x / 10 for x in range(1, 10)],\n",
    "    include=\"all\")\n",
    "descByMethod.sort_values(by=[\"mean\"], axis=0, inplace=True, ascending=True)\n",
    "# descByMethod"
   ]
  },
  {
   "cell_type": "code",
   "execution_count": null,
   "metadata": {
    "pycharm": {
     "name": "#%%\n"
    }
   },
   "outputs": [],
   "source": [
    "for style in [\"Boxen\"]:\n",
    "    g = sns.catplot(x=\"res\", y=\"method\", orient=\"h\",\n",
    "                    order=descByMethod.index,\n",
    "                    # hue=\"wfName\",  # palette=[\"m\", \"g\"],\n",
    "                    # row=\"wfName\",\n",
    "                    # col=\"method\",\n",
    "                    data=bigtable,\n",
    "                    kind=style.lower(),\n",
    "                    aspect=1.5,\n",
    "                    height=8\n",
    "                    )\n",
    "    g.set(xlabel=\"Runtimes\", ylabel=\"Strategy\")\n",
    "    save_plot(g, f\"res_Vs_method_{style}.plot\")\n",
    "    plt.show()"
   ]
  },
  {
   "cell_type": "code",
   "execution_count": null,
   "metadata": {
    "pycharm": {
     "name": "#%%\n"
    }
   },
   "outputs": [],
   "source": [
    "descByModel = bigtable[bigtable.regModel != \"N/A\"].groupby([\"regModel\"])[\"res\"].describe(  # percentiles=[x / 10 for x in range(1, 10)],\n",
    "    include=\"all\")\n",
    "descByModel.sort_values(by=[\"mean\"], axis=0, inplace=True, ascending=True)\n",
    "# descByModel"
   ]
  },
  {
   "cell_type": "code",
   "execution_count": null,
   "metadata": {
    "pycharm": {
     "name": "#%%\n"
    }
   },
   "outputs": [],
   "source": [
    "for style in [\"Boxen\"]:\n",
    "    g = sns.catplot(x=\"res\", y=\"regModel\", orient=\"h\",\n",
    "                    order=descByModel.index,\n",
    "                    # hue=\"wfName\",  # palette=[\"m\", \"g\"],\n",
    "                    # row=\"wfName\",\n",
    "                    # col=\"method\",\n",
    "                    data=bigtable[bigtable.regModel != \"N/A\"],\n",
    "                    kind=style.lower(),\n",
    "                    aspect=1.5,\n",
    "                    height=8\n",
    "                    )\n",
    "    g.set(xlabel=\"Runtimes\", ylabel=\"Degree / Regression Model\")\n",
    "    save_plot(g, f\"res_Vs_regModel_{style}.plot\")\n",
    "    plt.show()"
   ]
  },
  {
   "cell_type": "code",
   "execution_count": null,
   "metadata": {
    "pycharm": {
     "name": "#%%\n"
    }
   },
   "outputs": [],
   "source": [
    "for style in [\"Boxen\"]:\n",
    "    g = sns.catplot(x=\"res\", y=\"regModel\", orient=\"h\",\n",
    "                    order=descByModel.index,\n",
    "                    # hue=\"wfName\",  # palette=[\"m\", \"g\"],\n",
    "                    # row=\"wfName\",\n",
    "                    col=\"wfName\",\n",
    "                    col_wrap=3,\n",
    "                    sharex=False,\n",
    "                    data=bigtable[bigtable.regModel != \"N/A\"],\n",
    "                    kind=style.lower(),\n",
    "                    aspect=1.1,\n",
    "                    height=6\n",
    "                    )\n",
    "    g.set(xlabel=\"Runtimes\", ylabel=\"Degree / Regression Model\")\n",
    "    g.set_titles(\"Workflow: {col_name}\")\n",
    "    save_plot(g, f\"res_Vs_method_perWF_{style}.plot\")\n",
    "    plt.show()"
   ]
  },
  {
   "cell_type": "markdown",
   "metadata": {
    "pycharm": {
     "name": "#%% md\n"
    }
   },
   "source": [
    "# Filter for only the BiS regression model:"
   ]
  },
  {
   "cell_type": "code",
   "execution_count": null,
   "metadata": {
    "pycharm": {
     "name": "#%%\n"
    }
   },
   "outputs": [],
   "source": [
    "bisModel = descByModel.index[0]\n",
    "bigtable = bigtable.query(\"schedType == 'random' or regModel==@bisModel\")"
   ]
  },
  {
   "cell_type": "code",
   "execution_count": null,
   "metadata": {
    "pycharm": {
     "name": "#%%\n"
    }
   },
   "outputs": [],
   "source": [
    "descByMethodSansRand = bigtable[bigtable.regModel != \"N/A\"].groupby([\"method\"])[\"res\"].describe(  # percentiles=[x / 10 for x in range(1, 10)],\n",
    "    include=\"all\")\n",
    "descByMethodSansRand.sort_values(by=[\"mean\"], axis=0, inplace=True, ascending=True)"
   ]
  },
  {
   "cell_type": "code",
   "execution_count": null,
   "metadata": {
    "pycharm": {
     "name": "#%%\n"
    }
   },
   "outputs": [],
   "source": [
    "for style in [\"Boxen\"]:\n",
    "    g = sns.catplot(x=\"res\", y=\"method\", orient=\"h\",\n",
    "                    order=descByMethodSansRand.index,\n",
    "                    # hue=\"wfName\",  # palette=[\"m\", \"g\"],\n",
    "                    # row=\"wfName\",\n",
    "                    col=\"wfName\",\n",
    "                    col_wrap=3,\n",
    "                    sharex=False,\n",
    "                    data=bigtable[bigtable.regModel != \"N/A\"],\n",
    "                    kind=style.lower(),\n",
    "                    aspect=1.1,\n",
    "                    height=6\n",
    "                    )\n",
    "    g.set(xlabel=\"Runtimes\", ylabel=\"Strategy\")\n",
    "    g.set_titles(\"Workflow: {col_name}\")\n",
    "    save_plot(g, f\"res_Vs_method_bisModel_{style}.plot\")\n",
    "    plt.show()"
   ]
  },
  {
   "cell_type": "code",
   "execution_count": null,
   "metadata": {
    "pycharm": {
     "name": "#%%\n"
    }
   },
   "outputs": [],
   "source": [
    "g = sns.catplot(x=\"wfName\", y=\"res\",  # orient=\"h\",\n",
    "                order=[\"eager\", \"methylseq\", \"sarek\", \"viralrecon\", \"chipseq\"],\n",
    "                hue=\"method\",  # palette=[\"m\", \"g\"],\n",
    "                hue_order=[\"recommenderV1\", \"recommenderV1H1\", \"recommenderV1H2\", \"recommenderV1H3\",\n",
    "                           \"recommenderV2\", \"recommenderV2H1\", \"recommenderV2H2\", \"recommenderV2H3\"],\n",
    "                # row=\"wfName\",\n",
    "                # col=\"wfName\",\n",
    "                # col_wrap=3,\n",
    "                data=bigtable[bigtable.schedCat != \"random\"],\n",
    "                kind=\"point\",\n",
    "                aspect=1.5,\n",
    "                height=8,\n",
    "                facet_kws=dict(legend_out=False)\n",
    "                )\n",
    "sns.move_legend(g, \"lower center\", bbox_to_anchor=(.425, 1), ncol=4, title=\"Strategy\", frameon=False)\n",
    "g.set(xlabel=\"Workflow\", ylabel=\"Runtimes\")\n",
    "save_plot(g, \"res_Vs_method_bisModel_Point.plot\")\n",
    "plt.show()"
   ]
  },
  {
   "cell_type": "code",
   "execution_count": null,
   "metadata": {
    "pycharm": {
     "name": "#%%\n"
    }
   },
   "outputs": [],
   "source": [
    "g = sns.catplot(x=\"clusterSize\", y=\"res\",  # orient=\"h\",\n",
    "                # order=\"\",\n",
    "                hue=\"schedCat\",  # palette=[\"m\", \"g\"],\n",
    "                # row=\"wfName\",\n",
    "                col=\"wfName\",\n",
    "                col_wrap=3,\n",
    "                col_order=list(wfNames),\n",
    "                sharey=False,\n",
    "                sharex=False,\n",
    "                data=bigtable,\n",
    "                kind=\"point\",\n",
    "                aspect=1.1,\n",
    "                height=6,\n",
    "                facet_kws=dict(legend_out=False)\n",
    "                )\n",
    "sns.move_legend(g, \"upper left\", bbox_to_anchor=(.65, .45), title=\"Strategy Category\", frameon=False)\n",
    "for i, ax in enumerate(g.axes.ravel()):\n",
    "    wf = list(wfNames)[i]\n",
    "    ax.axhline(y=statistics.mean(bigtable.query(\"method == 'randomV1P0' and wfName==@wf\")[\"res\"]), linestyle=\"--\", color=\"black\")\n",
    "g.set_titles(\"Workflow: {col_name}\")\n",
    "g.set(xlabel=\"Cluster size\", ylabel=\"Runtimes\")\n",
    "save_plot(g, \"res_Vs_clusterSize_perWF_bisModel_hueSchedCat_Point.plot\")\n",
    "plt.show()"
   ]
  },
  {
   "cell_type": "code",
   "execution_count": null,
   "metadata": {
    "pycharm": {
     "name": "#%%\n"
    }
   },
   "outputs": [],
   "source": [
    "g = sns.catplot(x=\"clusterSize\", y=\"res\",  # orient=\"h\",\n",
    "                # order=\"\",\n",
    "                hue=\"wfName\",  # palette=[\"m\", \"g\"],\n",
    "                # row=\"wfName\",\n",
    "                col=\"schedType\",\n",
    "                col_wrap=3,\n",
    "                col_order=[\"random\", \"recommenderV1\", \"recommenderV2\",\n",
    "                           \"recommenderV1H1\", \"recommenderV1H2\", \"recommenderV1H3\",\n",
    "                           \"recommenderV2H1\", \"recommenderV2H2\", \"recommenderV2H3\"],\n",
    "                # sharey=False,\n",
    "                sharex=False,\n",
    "                hue_order=list(wfNames),\n",
    "                data=bigtable,\n",
    "                kind=\"point\",\n",
    "                aspect=1.1,\n",
    "                height=6,\n",
    "                facet_kws=dict(legend_out=False)\n",
    "                )\n",
    "sns.move_legend(g, \"lower center\", bbox_to_anchor=(.45, 1), ncol=5, title=\"Workflow\", frameon=False)\n",
    "for i, wf in enumerate(wfNames):\n",
    "    g.refline(y=statistics.mean(bigtable.query(\"method == 'randomV1P0' and wfName==@wf\")[\"res\"]), color=sns.color_palette()[i])\n",
    "g.set_titles(\"Strategy: {col_name}\")\n",
    "g.set(xlabel=\"Cluster size\", ylabel=\"Runtimes\")\n",
    "save_plot(g, \"res_Vs_clusterSize_perMethod_bisModel_hueWf_Point.plot\")\n",
    "plt.show()\n",
    "\n"
   ]
  },
  {
   "cell_type": "code",
   "execution_count": null,
   "metadata": {
    "pycharm": {
     "name": "#%%\n"
    }
   },
   "outputs": [],
   "source": [
    "wfNames = cvBigtable.wfName.unique()"
   ]
  },
  {
   "cell_type": "code",
   "execution_count": null,
   "metadata": {
    "pycharm": {
     "name": "#%%\n"
    }
   },
   "outputs": [],
   "source": [
    "sns.set_theme(style=\"whitegrid\")\n",
    "#sns.set_context(\"paper\")\n",
    "sns.set_context(\"paper\", 1.65)"
   ]
  },
  {
   "cell_type": "code",
   "execution_count": null,
   "metadata": {
    "pycharm": {
     "name": "#%%\n"
    }
   },
   "outputs": [],
   "source": [
    "pds.set_option('display.max_rows', 100)\n",
    "pds.set_option('display.max_columns', None)\n",
    "pds.set_option('display.width', None)\n",
    "pds.set_option('display.precision', 4)"
   ]
  },
  {
   "cell_type": "code",
   "execution_count": null,
   "metadata": {
    "pycharm": {
     "name": "#%%\n"
    }
   },
   "outputs": [],
   "source": [
    "cvDescByMethod = cvBigtable.groupby([\"method\"])[\"res\"].describe(  # percentiles=[x / 10 for x in range(1, 10)],\n",
    "    include=\"all\")\n",
    "cvDescByMethod.sort_values(by=[\"mean\"], axis=0, inplace=True, ascending=True)\n",
    "# cvDescByMethod"
   ]
  },
  {
   "cell_type": "code",
   "execution_count": null,
   "metadata": {
    "pycharm": {
     "name": "#%%\n"
    }
   },
   "outputs": [],
   "source": [
    "for style in [\"Boxen\"]:\n",
    "    g = sns.catplot(x=\"res\", y=\"method\", orient=\"h\",\n",
    "                    order=cvDescByMethod.index,\n",
    "                    # hue=\"wfName\",  # palette=[\"m\", \"g\"],\n",
    "                    # row=\"wfName\",\n",
    "                    # col=\"method\",\n",
    "                    data=cvBigtable,\n",
    "                    kind=style.lower(),\n",
    "                    aspect=1.5,\n",
    "                    height=8\n",
    "                    )\n",
    "    g.set(xlabel=\"Runtimes\", ylabel=\"Strategy\")\n",
    "    save_plot(g, f\"res_Vs_method_{style}.plot\")\n",
    "    plt.show()"
   ]
  },
  {
   "cell_type": "code",
   "execution_count": null,
   "metadata": {
    "pycharm": {
     "name": "#%%\n"
    }
   },
   "outputs": [],
   "source": [
    "cvDescByModel = cvBigtable[cvBigtable.regModel != \"N/A\"].groupby([\"regModel\"])[\"res\"].describe(  # percentiles=[x / 10 for x in range(1, 10)],\n",
    "    include=\"all\")\n",
    "cvDescByModel.sort_values(by=[\"mean\"], axis=0, inplace=True, ascending=True)\n",
    "# cvDescByModel"
   ]
  },
  {
   "cell_type": "code",
   "execution_count": null,
   "metadata": {
    "pycharm": {
     "name": "#%%\n"
    }
   },
   "outputs": [],
   "source": [
    "for style in [\"Boxen\"]:\n",
    "    g = sns.catplot(x=\"res\", y=\"regModel\", orient=\"h\",\n",
    "                    order=cvDescByModel.index,\n",
    "                    hue=\"cvSplit\",  # palette=[\"m\", \"g\"],\n",
    "                    # row=\"wfName\",\n",
    "                    # col=\"method\",\n",
    "                    data=cvBigtable[cvBigtable.regModel != \"N/A\"],\n",
    "                    kind=style.lower(),\n",
    "                    aspect=1.5,\n",
    "                    height=8\n",
    "                    )\n",
    "    sns.move_legend(g, \"lower center\", bbox_to_anchor=(0.5, 1), ncol=5, title=\"CV Split\")\n",
    "    g.set(xlabel=\"Runtimes\", ylabel=\"Degree / Regression Model\")\n",
    "    save_plot(g, f\"cv.res_Vs_regModel_{style}.plot\")\n",
    "    plt.show()"
   ]
  },
  {
   "cell_type": "code",
   "execution_count": null,
   "metadata": {
    "pycharm": {
     "name": "#%%\n"
    }
   },
   "outputs": [],
   "source": [
    "for style in [\"Boxen\"]:\n",
    "    g = sns.catplot(x=\"res\", y=\"regModel\", orient=\"h\",\n",
    "                    order=cvDescByModel.index,\n",
    "                    hue=\"cvSplit\",  # palette=[\"m\", \"g\"],\n",
    "                    # row=\"wfName\",\n",
    "                    col=\"wfName\",\n",
    "                    col_wrap=3,\n",
    "                    sharex=False,\n",
    "                    data=cvBigtable[cvBigtable.regModel != \"N/A\"],\n",
    "                    kind=style.lower(),\n",
    "                    aspect=1.1,\n",
    "                    height=6\n",
    "                    )\n",
    "    sns.move_legend(g, \"upper left\", bbox_to_anchor=(0.75, 0.45), title=\"CV Split\")\n",
    "    g.set(xlabel=\"Runtimes\", ylabel=\"Degree / Regression Model\")\n",
    "    g.set_titles(\"Workflow: {col_name}\")\n",
    "    save_plot(g, f\"cv.res_Vs_method_perWF_{style}.plot\")\n",
    "    plt.show()"
   ]
  },
  {
   "cell_type": "markdown",
   "metadata": {},
   "source": [
    "# Filter for only the BiS regression model:"
   ]
  },
  {
   "cell_type": "code",
   "execution_count": null,
   "metadata": {
    "pycharm": {
     "name": "#%%\n"
    }
   },
   "outputs": [],
   "source": [
    "# bisModel = descByModel.index[0]\n",
    "comp = cvBigtable[cvBigtable.regModel != \"N/A\"].groupby([\"regModel\", \"cvSplit\"])[\"res\"].describe()\n",
    "comp = comp.sort_values(by=[\"mean\"], ascending=True)\n",
    "rM, cvS = comp.reset_index().iloc[0][[\"regModel\", \"cvSplit\"]]\n",
    "cvBigtable = cvBigtable.query(\"schedType == 'random' or (regModel==@rM and cvSplit==@cvS)\")"
   ]
  },
  {
   "cell_type": "code",
   "execution_count": null,
   "metadata": {
    "pycharm": {
     "name": "#%%\n"
    }
   },
   "outputs": [],
   "source": [
    "cvDescByMethodSansRand = cvBigtable[cvBigtable.regModel != \"N/A\"].groupby([\"method\"])[\"res\"].describe(  # percentiles=[x / 10 for x in range(1, 10)],\n",
    "    include=\"all\")\n",
    "cvDescByMethodSansRand.sort_values(by=[\"mean\"], axis=0, inplace=True, ascending=True)"
   ]
  },
  {
   "cell_type": "code",
   "execution_count": null,
   "metadata": {
    "pycharm": {
     "name": "#%%\n"
    }
   },
   "outputs": [],
   "source": [
    "for style in [\"Boxen\"]:\n",
    "    g = sns.catplot(x=\"res\", y=\"method\", orient=\"h\",\n",
    "                    order=cvDescByMethodSansRand.index,\n",
    "                    # hue=\"wfName\",  # palette=[\"m\", \"g\"],\n",
    "                    # row=\"wfName\",\n",
    "                    col=\"wfName\",\n",
    "                    col_wrap=3,\n",
    "                    sharex=False,\n",
    "                    data=cvBigtable[cvBigtable.regModel != \"N/A\"],\n",
    "                    kind=style.lower(),\n",
    "                    aspect=1.1,\n",
    "                    height=6\n",
    "                    )\n",
    "    g.set(xlabel=\"Runtimes\", ylabel=\"Strategy\")\n",
    "    g.set_titles(\"Workflow: {col_name}\")\n",
    "    save_plot(g, f\"cv.res_Vs_method_bisModel_{style}.plot\")\n",
    "    plt.show()"
   ]
  },
  {
   "cell_type": "code",
   "execution_count": null,
   "metadata": {
    "pycharm": {
     "name": "#%%\n"
    }
   },
   "outputs": [],
   "source": [
    "g = sns.catplot(x=\"wfName\", y=\"res\",  # orient=\"h\",\n",
    "                order=[\"eager\", \"methylseq\", \"sarek\", \"viralrecon\", \"chipseq\"],\n",
    "                hue=\"method\",  # palette=[\"m\", \"g\"],\n",
    "                hue_order=[\"recommenderV1\", \"recommenderV1H1\", \"recommenderV1H2\", \"recommenderV1H3\",\n",
    "                           \"recommenderV2\", \"recommenderV2H1\", \"recommenderV2H2\", \"recommenderV2H3\"],\n",
    "                # row=\"wfName\",\n",
    "                # col=\"wfName\",\n",
    "                # col_wrap=3,\n",
    "                data=cvBigtable[cvBigtable.schedCat != \"random\"],\n",
    "                kind=\"point\",\n",
    "                aspect=1.5,\n",
    "                height=8,\n",
    "                facet_kws=dict(legend_out=False)\n",
    "                )\n",
    "sns.move_legend(g, \"lower center\", bbox_to_anchor=(.425, 1), ncol=4, title=\"Strategy\", frameon=False)\n",
    "g.set(xlabel=\"Workflow\", ylabel=\"Runtimes\")\n",
    "save_plot(g, \"cv.res_Vs_method_bisModel_Point.plot\")\n",
    "plt.show()"
   ]
  },
  {
   "cell_type": "code",
   "execution_count": null,
   "metadata": {
    "pycharm": {
     "name": "#%%\n"
    }
   },
   "outputs": [],
   "source": [
    "g = sns.catplot(x=\"clusterSize\", y=\"res\",  # orient=\"h\",\n",
    "                # order=\"\",\n",
    "                hue=\"schedCat\",  # palette=[\"m\", \"g\"],\n",
    "                # row=\"wfName\",\n",
    "                col=\"wfName\",\n",
    "                col_wrap=3,\n",
    "                col_order=list(wfNames),\n",
    "                sharey=False,\n",
    "                sharex=False,\n",
    "                data=cvBigtable,\n",
    "                kind=\"point\",\n",
    "                aspect=1.1,\n",
    "                height=6,\n",
    "                facet_kws=dict(legend_out=False)\n",
    "                )\n",
    "sns.move_legend(g, \"upper left\", bbox_to_anchor=(.65, .45), title=\"Strategy Category\", frameon=False)\n",
    "for i, ax in enumerate(g.axes.ravel()):\n",
    "    wf = list(wfNames)[i]\n",
    "    ax.axhline(y=statistics.mean(cvBigtable.query(\"method == 'randomV1P0' and wfName==@wf\")[\"res\"]), linestyle=\"--\", color=\"black\")\n",
    "g.set_titles(\"Workflow: {col_name}\")\n",
    "g.set(xlabel=\"Cluster size\", ylabel=\"Runtimes\")\n",
    "save_plot(g, \"cv.res_Vs_clusterSize_perWF_bisModel_hueSchedCat_Point.plot\")\n",
    "plt.show()"
   ]
  },
  {
   "cell_type": "code",
   "execution_count": null,
   "metadata": {
    "pycharm": {
     "name": "#%%\n"
    }
   },
   "outputs": [],
   "source": [
    "g = sns.catplot(x=\"clusterSize\", y=\"res\",  # orient=\"h\",\n",
    "                # order=\"\",\n",
    "                hue=\"wfName\",  # palette=[\"m\", \"g\"],\n",
    "                # row=\"wfName\",\n",
    "                col=\"schedType\",\n",
    "                col_wrap=3,\n",
    "                col_order=[\"random\", \"recommenderV1\", \"recommenderV2\",\n",
    "                           \"recommenderV1H1\", \"recommenderV1H2\", \"recommenderV1H3\",\n",
    "                           \"recommenderV2H1\", \"recommenderV2H2\", \"recommenderV2H3\"],\n",
    "                # sharey=False,\n",
    "                sharex=False,\n",
    "                hue_order=list(wfNames),\n",
    "                data=cvBigtable,\n",
    "                kind=\"point\",\n",
    "                aspect=1.1,\n",
    "                height=6,\n",
    "                facet_kws=dict(legend_out=False)\n",
    "                )\n",
    "sns.move_legend(g, \"lower center\", bbox_to_anchor=(.45, 1), ncol=5, title=\"Workflow\", frameon=False)\n",
    "for i, wf in enumerate(wfNames):\n",
    "    g.refline(y=statistics.mean(cvBigtable.query(\"method == 'randomV1P0' and wfName==@wf\")[\"res\"]), color=sns.color_palette()[i])\n",
    "g.set_titles(\"Strategy: {col_name}\")\n",
    "g.set(xlabel=\"Cluster size\", ylabel=\"Runtimes\")\n",
    "save_plot(g, \"cv.res_Vs_clusterSize_perMethod_bisModel_hueWf_Point.plot\")\n",
    "plt.show()\n"
   ]
  }
 ],
 "metadata": {
  "kernelspec": {
   "display_name": "use me 1",
   "language": "python",
   "name": "py"
  },
  "language_info": {
   "codemirror_mode": {
    "name": "ipython",
    "version": 3
   },
   "file_extension": ".py",
   "mimetype": "text/x-python",
   "name": "python",
   "nbconvert_exporter": "python",
   "pygments_lexer": "ipython3",
   "version": "3.9.6"
  }
 },
 "nbformat": 4,
 "nbformat_minor": 4
}
