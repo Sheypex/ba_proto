{
 "cells": [
  {
   "cell_type": "code",
   "execution_count": 1,
   "metadata": {},
   "outputs": [],
   "source": [
    "import cProfile\n",
    "import os\n",
    "import pickle\n",
    "import pstats\n",
    "import re\n",
    "from collections import namedtuple\n",
    "from typing import List\n",
    "from multiprocessing import Pool\n",
    "import networkx as NX\n",
    "import pandas as pds\n",
    "import matplotlib.pyplot as plt\n",
    "import itertools\n",
    "import math\n",
    "import re\n",
    "import statistics\n",
    "from pprint import pprint\n",
    "\n",
    "import rich.progress\n",
    "import scipy\n",
    "from scipy import stats as scistats\n",
    "from sklearn import linear_model, preprocessing\n",
    "from tabulate import tabulate\n",
    "from pathlib import Path\n",
    "import pickle\n",
    "import random\n",
    "import argparse\n",
    "import sys\n",
    "\n",
    "import data_types\n",
    "from db_actions import db_actions\n",
    "import numpy as np\n",
    "from my_yaml import yaml_load, yaml_dump\n",
    "from alive_progress import alive_bar\n",
    "import seaborn as sns\n",
    "from data_types import PickleOut\n",
    "import commons\n",
    "import rich.status\n"
   ]
  },
  {
   "cell_type": "code",
   "execution_count": 2,
   "outputs": [],
   "source": [
    "rc = commons.rc"
   ],
   "metadata": {
    "collapsed": false,
    "pycharm": {
     "name": "#%%\n"
    }
   }
  },
  {
   "cell_type": "code",
   "execution_count": 3,
   "outputs": [],
   "source": [
    "TR = namedtuple('TableRow', [\"cluster\", \"wfName\", \"method\", \"res\"])\n",
    "BigTR = namedtuple(\"BigTableRow\", [\"regModel\", \"cluster\", \"clusterSize\", \"wfName\", \"method\", \"res\", \"schedCat\", \"schedType\"])\n",
    "CVBigTR = namedtuple(\"CVBigTableRow\", [\"regModel\", \"cluster\", \"clusterSize\", \"wfName\", \"method\", \"res\", \"schedCat\", \"schedType\", \"cvSplit\"])\n",
    "CVUBigTR = namedtuple(\"CVUBigTableRow\", [\"regModel\", \"cluster\", \"clusterSize\", \"wfName\", \"method\", \"res\", \"schedCat\", \"schedType\", \"cvSplit\", \"ukSplit\"])"
   ],
   "metadata": {
    "collapsed": false,
    "pycharm": {
     "name": "#%%\n"
    }
   }
  },
  {
   "cell_type": "code",
   "execution_count": 4,
   "metadata": {
    "pycharm": {
     "name": "#%%\n"
    }
   },
   "outputs": [],
   "source": [
    "def list_compare(a, b):\n",
    "    if type(a) != type(b):\n",
    "        return False\n",
    "    if type(a) != list:\n",
    "        return a == b\n",
    "    if len(a) != len(b):\n",
    "        return False\n",
    "    for a_, b_ in zip(a, b):\n",
    "        if not list_compare(a_, b_):\n",
    "            return False\n",
    "    return True\n",
    "\n",
    "\n",
    "def load_from_file(f, prog: rich.progress.Progress):\n",
    "    modelDegLUT = {\n",
    "        'linModel' : 1,\n",
    "        'quadModel': 2,\n",
    "        'cubeModel': 3,\n",
    "        'tetModel' : 4,\n",
    "        'penModel' : 5\n",
    "    }\n",
    "    shorterMethodNamesLUT = {\n",
    "        'randomScheduler'     : 'random',\n",
    "        'recommenderScheduler': 'recommender'\n",
    "    }\n",
    "    shortToLongNameLUT = {'Linear'       : 'Ordinary Least Squares',\n",
    "                          'SVR-linear'   : 'SVR - linear',\n",
    "                          'SVR-poly'     : 'SVR - poly',\n",
    "                          'SVR-rbf'      : 'SVR - rbf',\n",
    "                          'SVR-sigmoid'  : 'SVR - sigmoid',\n",
    "                          'Lasso'        : 'Lasso',\n",
    "                          'LassoCV'      : 'Lasso CV',\n",
    "                          'Ridge'        : 'Ridge',\n",
    "                          'RidgeCV'      : 'Ridge CV',\n",
    "                          'ElasticNet'   : 'Elastic Net',\n",
    "                          'ElasticNetCV' : 'Elastic Net CV',\n",
    "                          'BayesianRidge': 'Bayesian Ridge',\n",
    "                          'ARD'          : 'Automatic Relevance Determination',\n",
    "                          'SGD'          : 'Stochastic Gradient Descent',\n",
    "                          'PA'           : 'Passive Aggressive',\n",
    "                          'Huber'        : 'Huber',\n",
    "                          'TheilSen'     : 'Theil Sen'}\n",
    "    #\n",
    "    pFile = Path(f)\n",
    "    with open(pFile, \"br\") as tmp:\n",
    "        pl: dict = pickle.load(tmp)\n",
    "    #\n",
    "    m = re.match(\"(?:.*/)*(.*Model)\\.(.*)_CV-(.*)_U-(.*)\\.recSchedTimes\\.pickle\", f)\n",
    "    modelDeg = modelDegLUT[m.group(1)]\n",
    "    modelName = shortToLongNameLUT[m.group(2)]\n",
    "    shortName = f\"{modelDeg} / {modelName}\"\n",
    "    cvSplit = m.group(3)\n",
    "    if cvSplit == \"None\":\n",
    "        cvSplit = None\n",
    "    ukSplit = m.group(4)\n",
    "    if ukSplit == \"None\":\n",
    "        ukSplit = None\n",
    "    # for pre, deg in modelDegLUT.items():\n",
    "    #     if pre in shortName:\n",
    "    #         shortName = shortName.replace(pre + \".\", f\"{deg}/\")\n",
    "    #         break\n",
    "    fmt = CVUBigTR\n",
    "    #\n",
    "    clusterProg = prog.add_task(\"Clusters\", total=len(pl.items()))\n",
    "    for clusterName, cluster in pl.items():\n",
    "        for wfName, wf in cluster.items():\n",
    "            wfShortName = re.match(\"nfcore/(.*):.*\", wfName).group(1)\n",
    "            for methodName, res in wf.items():\n",
    "                for longN, rep in shorterMethodNamesLUT.items():\n",
    "                    if longN in methodName:\n",
    "                        mName = methodName.replace(longN, rep)\n",
    "                        break\n",
    "                rowInfo = {\n",
    "                    \"regModel\"   : shortName,\n",
    "                    \"cluster\"    : str(clusterName),\n",
    "                    \"clusterSize\": len(clusterName),\n",
    "                    \"wfName\"     : wfShortName,\n",
    "                    \"method\"     : mName,\n",
    "                    \"schedCat\"   : \"recommenderV1,-H1,-H2,-H3\" if \"V1\" in mName else \"recommenderV2,-H1,-H2,-H3\",\n",
    "                    \"schedType\"  : mName,\n",
    "                    \"cvSplit\"    : cvSplit,\n",
    "                    \"ukSplit\"    : ukSplit\n",
    "                }\n",
    "                if type(res) != list:\n",
    "                    rowInfo[\"res\"] = float(res)\n",
    "                    yield fmt(**rowInfo)\n",
    "                else:\n",
    "                    rowInfo[\"regModel\"] = \"N/A\"\n",
    "                    rowInfo[\"schedCat\"] = \"random\"\n",
    "                    rowInfo[\"schedType\"] = \"random\"\n",
    "                    for i, r in enumerate(res):  # this only applies to the results of the randomScheduler(V1)\n",
    "                        rowInfo[\"method\"] = mName + f\"P{i * 10}\"\n",
    "                        rowInfo[\"res\"] = float(r)\n",
    "                        yield fmt(**rowInfo)\n",
    "                    rowInfo[\"method\"] = mName + \"Avg\"\n",
    "                    rowInfo[\"res\"] = float(statistics.mean(res))\n",
    "                    yield fmt(**rowInfo)\n",
    "        prog.advance(clusterProg)\n",
    "\n",
    "\n",
    "def load_from_dir(d):\n",
    "    with commons.stdProgress(rc) as prog:\n",
    "        # with alive_bar(len(os.listdir(d)), f\"Loading recommenderScheduler results from {d}\") as bar:\n",
    "        fileProg = prog.add_task(\"Files\", total=len(os.listdir(d)))\n",
    "        for f in os.listdir(d):\n",
    "            yield from load_from_file(f\"{d}/{f}\", prog)\n",
    "            prog.advance(fileProg)\n",
    "\n"
   ]
  },
  {
   "cell_type": "code",
   "execution_count": 5,
   "outputs": [],
   "source": [
    "def get_bigtable(saveLoc, btFileLoc):\n",
    "    btFile = Path(btFileLoc)\n",
    "    if not btFile.is_file():\n",
    "        data = list(load_from_dir(saveLoc))\n",
    "        bigtable = pds.DataFrame(data, columns=data[0]._fields)\n",
    "        with open(btFile, \"bw\") as f:\n",
    "            pickle.dump(bigtable, f)\n",
    "    else:\n",
    "        with open(btFile, \"br\") as f:\n",
    "            bigtable = pickle.load(f)\n",
    "    return bigtable"
   ],
   "metadata": {
    "collapsed": false,
    "pycharm": {
     "name": "#%%\n"
    }
   }
  },
  {
   "cell_type": "code",
   "execution_count": 6,
   "outputs": [],
   "source": [
    "def save_plot(obj, name, loc=\"./fig/\"):\n",
    "    obj.savefig(f\"{loc}{name}.pdf\", transparent=True)\n",
    "    obj.savefig(f\"{loc}{name}.png\", transparent=True)"
   ],
   "metadata": {
    "collapsed": false,
    "pycharm": {
     "name": "#%%\n"
    }
   }
  },
  {
   "cell_type": "markdown",
   "source": [
    "# Get the recSchedTimes data"
   ],
   "metadata": {
    "collapsed": false,
    "pycharm": {
     "name": "#%% md\n"
    }
   }
  },
  {
   "cell_type": "code",
   "execution_count": 29,
   "metadata": {
    "pycharm": {
     "name": "#%%\n"
    }
   },
   "outputs": [],
   "source": [
    "bigtable = get_bigtable(\"recSchedTimes\", \"./recSchedBigTable.pickle\")#.sample(frac=5 / 100, random_state=0, axis=0)"
   ]
  },
  {
   "cell_type": "code",
   "execution_count": 26,
   "outputs": [],
   "source": [
    "# bigtable"
   ],
   "metadata": {
    "collapsed": false,
    "pycharm": {
     "name": "#%%\n"
    }
   }
  },
  {
   "cell_type": "code",
   "execution_count": 31,
   "outputs": [],
   "source": [
    "wfNames = bigtable.wfName.unique()"
   ],
   "metadata": {
    "collapsed": false,
    "pycharm": {
     "name": "#%%\n"
    }
   }
  },
  {
   "cell_type": "code",
   "execution_count": 32,
   "outputs": [],
   "source": [
    "sns.set_theme(style=\"whitegrid\")\n",
    "#sns.set_context(\"paper\")\n",
    "sns.set_context(\"paper\", 1.65)"
   ],
   "metadata": {
    "collapsed": false,
    "pycharm": {
     "name": "#%%\n"
    }
   }
  },
  {
   "cell_type": "code",
   "execution_count": 33,
   "outputs": [],
   "source": [
    "pds.set_option('display.max_rows', 100)\n",
    "pds.set_option('display.max_columns', None)\n",
    "pds.set_option('display.width', None)\n",
    "pds.set_option('display.precision', 4)\n"
   ],
   "metadata": {
    "collapsed": false,
    "pycharm": {
     "name": "#%%\n"
    }
   }
  },
  {
   "cell_type": "markdown",
   "source": [
    "# trying out new visualisation"
   ],
   "metadata": {
    "collapsed": false,
    "pycharm": {
     "name": "#%% md\n"
    }
   }
  },
  {
   "cell_type": "code",
   "execution_count": 34,
   "outputs": [
    {
     "data": {
      "text/plain": "\u001B[1m[\u001B[0m\u001B[32m'\u001B[0m\u001B[32m(\u001B[0m\u001B[32m166, 171, 173, 175, 178, 179, 180, 182, 182, 183, 185, 191, 192, 193\u001B[0m\u001B[32m)\u001B[0m\u001B[32m'\u001B[0m\n \u001B[32m'\u001B[0m\u001B[32m(\u001B[0m\u001B[32m167, 168, 168, 169, 169, 169, 173, 175, 175, 184, 186, 186, 188, 189, 190, 191, 192, 192\u001B[0m\u001B[32m)\u001B[0m\u001B[32m'\u001B[0m\n \u001B[32m'\u001B[0m\u001B[32m(\u001B[0m\u001B[32m168, 171, 176, 178, 180, 181, 182, 182, 184, 184, 186, 187\u001B[0m\u001B[32m)\u001B[0m\u001B[32m'\u001B[0m \u001B[33m...\u001B[0m\n \u001B[32m'\u001B[0m\u001B[32m(\u001B[0m\u001B[32m165, 165, 170, 171, 171, 171, 172, 175, 179, 179, 180, 180, 181, 184, 191, 191, 193\u001B[0m\u001B[32m)\u001B[0m\u001B[32m'\u001B[0m\n \u001B[32m'\u001B[0m\u001B[32m(\u001B[0m\u001B[32m172, 172, 175, 183, 184, 185, 186, 186, 188, 188, 189, 190, 192, 192, 192\u001B[0m\u001B[32m)\u001B[0m\u001B[32m'\u001B[0m\n \u001B[32m'\u001B[0m\u001B[32m(\u001B[0m\u001B[32m178, 181, 181, 182, 183, 184, 185, 185, 187, 190\u001B[0m\u001B[32m)\u001B[0m\u001B[32m'\u001B[0m\u001B[1m]\u001B[0m\n",
      "text/html": "<pre style=\"white-space:pre;overflow-x:auto;line-height:normal;font-family:Menlo,'DejaVu Sans Mono',consolas,'Courier New',monospace\"><span style=\"font-weight: bold\">[</span><span style=\"color: #008000; text-decoration-color: #008000\">'(166, 171, 173, 175, 178, 179, 180, 182, 182, 183, 185, 191, 192, 193)'</span>\n <span style=\"color: #008000; text-decoration-color: #008000\">'(167, 168, 168, 169, 169, 169, 173, 175, 175, 184, 186, 186, 188, 189, 190, 191, 192, 192)'</span>\n <span style=\"color: #008000; text-decoration-color: #008000\">'(168, 171, 176, 178, 180, 181, 182, 182, 184, 184, 186, 187)'</span> <span style=\"color: #808000; text-decoration-color: #808000\">...</span>\n <span style=\"color: #008000; text-decoration-color: #008000\">'(165, 165, 170, 171, 171, 171, 172, 175, 179, 179, 180, 180, 181, 184, 191, 191, 193)'</span>\n <span style=\"color: #008000; text-decoration-color: #008000\">'(172, 172, 175, 183, 184, 185, 186, 186, 188, 188, 189, 190, 192, 192, 192)'</span>\n <span style=\"color: #008000; text-decoration-color: #008000\">'(178, 181, 181, 182, 183, 184, 185, 185, 187, 190)'</span><span style=\"font-weight: bold\">]</span>\n</pre>\n"
     },
     "metadata": {},
     "output_type": "display_data"
    },
    {
     "data": {
      "text/plain": "\u001B[1;36m10000\u001B[0m\n",
      "text/html": "<pre style=\"white-space:pre;overflow-x:auto;line-height:normal;font-family:Menlo,'DejaVu Sans Mono',consolas,'Courier New',monospace\"><span style=\"color: #008080; text-decoration-color: #008080; font-weight: bold\">10000</span>\n</pre>\n"
     },
     "metadata": {},
     "output_type": "display_data"
    }
   ],
   "source": [
    "rc.print(bigtable.cluster.unique())\n",
    "rc.print(len(bigtable.cluster.unique()))"
   ],
   "metadata": {
    "collapsed": false,
    "pycharm": {
     "name": "#%%\n"
    }
   }
  },
  {
   "cell_type": "code",
   "execution_count": 35,
   "outputs": [
    {
     "data": {
      "text/plain": "Output()",
      "application/vnd.jupyter.widget-view+json": {
       "version_major": 2,
       "version_minor": 0,
       "model_id": "504aaa2ec184401eabca480fb4dfc7be"
      }
     },
     "metadata": {},
     "output_type": "display_data"
    },
    {
     "data": {
      "text/plain": "",
      "text/html": "<pre style=\"white-space:pre;overflow-x:auto;line-height:normal;font-family:Menlo,'DejaVu Sans Mono',consolas,'Courier New',monospace\"></pre>\n"
     },
     "metadata": {},
     "output_type": "display_data"
    }
   ],
   "source": [
    "with rich.status.Status(\"Processing\", console=rc):\n",
    "    grouped = bigtable[bigtable.schedCat != \"random\"].groupby([\"cluster\", \"method\"])[\"res\"].describe()"
   ],
   "metadata": {
    "collapsed": false,
    "pycharm": {
     "name": "#%%\n"
    }
   }
  },
  {
   "cell_type": "code",
   "execution_count": 36,
   "outputs": [],
   "source": [
    "grouped.sort_index(inplace=True)"
   ],
   "metadata": {
    "collapsed": false,
    "pycharm": {
     "name": "#%%\n"
    }
   }
  },
  {
   "cell_type": "code",
   "execution_count": 38,
   "outputs": [
    {
     "data": {
      "text/html": "<div>\n<style scoped>\n    .dataframe tbody tr th:only-of-type {\n        vertical-align: middle;\n    }\n\n    .dataframe tbody tr th {\n        vertical-align: top;\n    }\n\n    .dataframe thead th {\n        text-align: right;\n    }\n</style>\n<table border=\"1\" class=\"dataframe\">\n  <thead>\n    <tr style=\"text-align: right;\">\n      <th></th>\n      <th></th>\n      <th>count</th>\n      <th>mean</th>\n      <th>std</th>\n      <th>min</th>\n      <th>25%</th>\n      <th>50%</th>\n      <th>75%</th>\n      <th>max</th>\n    </tr>\n    <tr>\n      <th>cluster</th>\n      <th>method</th>\n      <th></th>\n      <th></th>\n      <th></th>\n      <th></th>\n      <th></th>\n      <th></th>\n      <th></th>\n      <th></th>\n    </tr>\n  </thead>\n  <tbody>\n    <tr>\n      <th rowspan=\"5\" valign=\"top\">(165, 165)</th>\n      <th>recommenderV1</th>\n      <td>55.0</td>\n      <td>123788.6990</td>\n      <td>91628.0421</td>\n      <td>42732.5</td>\n      <td>48601.1333</td>\n      <td>58519.7615</td>\n      <td>224595.3000</td>\n      <td>244494.8000</td>\n    </tr>\n    <tr>\n      <th>recommenderV1H1</th>\n      <td>55.0</td>\n      <td>123141.9356</td>\n      <td>90318.9722</td>\n      <td>45184.1</td>\n      <td>48601.1333</td>\n      <td>56967.6782</td>\n      <td>224595.3000</td>\n      <td>240361.4667</td>\n    </tr>\n    <tr>\n      <th>recommenderV1H2</th>\n      <td>55.0</td>\n      <td>123141.9356</td>\n      <td>90318.9722</td>\n      <td>45184.1</td>\n      <td>48601.1333</td>\n      <td>56967.6782</td>\n      <td>224595.3000</td>\n      <td>240361.4667</td>\n    </tr>\n    <tr>\n      <th>recommenderV1H3</th>\n      <td>55.0</td>\n      <td>122595.2690</td>\n      <td>89600.2283</td>\n      <td>45184.1</td>\n      <td>48601.1333</td>\n      <td>56967.6782</td>\n      <td>224595.3000</td>\n      <td>237628.1333</td>\n    </tr>\n    <tr>\n      <th>recommenderV2</th>\n      <td>55.0</td>\n      <td>137217.6494</td>\n      <td>106814.6730</td>\n      <td>42107.8</td>\n      <td>53072.8000</td>\n      <td>60859.0167</td>\n      <td>251405.5750</td>\n      <td>307984.4667</td>\n    </tr>\n    <tr>\n      <th>...</th>\n      <th>...</th>\n      <td>...</td>\n      <td>...</td>\n      <td>...</td>\n      <td>...</td>\n      <td>...</td>\n      <td>...</td>\n      <td>...</td>\n      <td>...</td>\n    </tr>\n    <tr>\n      <th rowspan=\"5\" valign=\"top\">(192, 193)</th>\n      <th>recommenderV1H3</th>\n      <td>55.0</td>\n      <td>93875.8102</td>\n      <td>66476.2335</td>\n      <td>35229.1</td>\n      <td>40459.4000</td>\n      <td>44838.8182</td>\n      <td>175555.0667</td>\n      <td>187827.4667</td>\n    </tr>\n    <tr>\n      <th>recommenderV2</th>\n      <td>55.0</td>\n      <td>97853.4576</td>\n      <td>72710.0591</td>\n      <td>32216.8</td>\n      <td>41326.1000</td>\n      <td>44852.1333</td>\n      <td>172316.4833</td>\n      <td>238761.0000</td>\n    </tr>\n    <tr>\n      <th>recommenderV2H1</th>\n      <td>55.0</td>\n      <td>96872.1251</td>\n      <td>70144.1717</td>\n      <td>35229.1</td>\n      <td>40458.8667</td>\n      <td>44838.8182</td>\n      <td>175743.1667</td>\n      <td>189760.8000</td>\n    </tr>\n    <tr>\n      <th>recommenderV2H2</th>\n      <td>55.0</td>\n      <td>96872.1251</td>\n      <td>70144.1717</td>\n      <td>35229.1</td>\n      <td>40458.8667</td>\n      <td>44838.8182</td>\n      <td>175743.1667</td>\n      <td>189760.8000</td>\n    </tr>\n    <tr>\n      <th>recommenderV2H3</th>\n      <td>55.0</td>\n      <td>96483.0342</td>\n      <td>69625.6385</td>\n      <td>35229.1</td>\n      <td>40458.8667</td>\n      <td>44838.8182</td>\n      <td>175743.1667</td>\n      <td>187827.4667</td>\n    </tr>\n  </tbody>\n</table>\n<p>80000 rows × 8 columns</p>\n</div>"
     },
     "execution_count": 38,
     "metadata": {},
     "output_type": "execute_result"
    }
   ],
   "source": [
    "grouped"
   ],
   "metadata": {
    "collapsed": false,
    "pycharm": {
     "name": "#%%\n"
    }
   }
  },
  {
   "cell_type": "code",
   "execution_count": 3,
   "outputs": [
    {
     "ename": "NameError",
     "evalue": "name 'bigtable' is not defined",
     "output_type": "error",
     "traceback": [
      "\u001B[0;31m---------------------------------------------------------------------------\u001B[0m",
      "\u001B[0;31mNameError\u001B[0m                                 Traceback (most recent call last)",
      "\u001B[0;32m/tmp/ipykernel_8133/995261593.py\u001B[0m in \u001B[0;36m<module>\u001B[0;34m\u001B[0m\n\u001B[0;32m----> 1\u001B[0;31m descByMethod = bigtable.groupby([\"method\"])[\"res\"].describe(  # percentiles=[x / 10 for x in range(1, 10)],\n\u001B[0m\u001B[1;32m      2\u001B[0m     include=\"all\")\n\u001B[1;32m      3\u001B[0m \u001B[0mdescByMethod\u001B[0m\u001B[0;34m.\u001B[0m\u001B[0msort_values\u001B[0m\u001B[0;34m(\u001B[0m\u001B[0mby\u001B[0m\u001B[0;34m=\u001B[0m\u001B[0;34m[\u001B[0m\u001B[0;34m\"mean\"\u001B[0m\u001B[0;34m]\u001B[0m\u001B[0;34m,\u001B[0m \u001B[0maxis\u001B[0m\u001B[0;34m=\u001B[0m\u001B[0;36m0\u001B[0m\u001B[0;34m,\u001B[0m \u001B[0minplace\u001B[0m\u001B[0;34m=\u001B[0m\u001B[0;32mTrue\u001B[0m\u001B[0;34m,\u001B[0m \u001B[0mascending\u001B[0m\u001B[0;34m=\u001B[0m\u001B[0;32mTrue\u001B[0m\u001B[0;34m)\u001B[0m\u001B[0;34m\u001B[0m\u001B[0;34m\u001B[0m\u001B[0m\n\u001B[1;32m      4\u001B[0m \u001B[0;31m# descByMethod\u001B[0m\u001B[0;34m\u001B[0m\u001B[0;34m\u001B[0m\u001B[0;34m\u001B[0m\u001B[0m\n\u001B[1;32m      5\u001B[0m \u001B[0;34m\u001B[0m\u001B[0m\n",
      "\u001B[0;31mNameError\u001B[0m: name 'bigtable' is not defined"
     ]
    }
   ],
   "source": [
    "descByMethod = bigtable.groupby([\"method\"])[\"res\"].describe(  # percentiles=[x / 10 for x in range(1, 10)],\n",
    "    include=\"all\")\n",
    "descByMethod.sort_values(by=[\"mean\"], axis=0, inplace=True, ascending=True)\n",
    "# descByMethod"
   ],
   "metadata": {
    "collapsed": false,
    "pycharm": {
     "name": "#%%\n"
    }
   }
  },
  {
   "cell_type": "code",
   "execution_count": null,
   "outputs": [],
   "source": [
    "for style in [\"Boxen\"]:\n",
    "    g = sns.catplot(x=\"res\", y=\"method\", orient=\"h\",\n",
    "                    order=descByMethod.index,\n",
    "                    # hue=\"wfName\",  # palette=[\"m\", \"g\"],\n",
    "                    # row=\"wfName\",\n",
    "                    # col=\"method\",\n",
    "                    data=bigtable,\n",
    "                    kind=style.lower(),\n",
    "                    aspect=1.5,\n",
    "                    height=8\n",
    "                    )\n",
    "    g.set(xlabel=\"Runtimes\", ylabel=\"Strategy\")\n",
    "    save_plot(g, f\"res_Vs_method_{style}.plot\")\n",
    "    plt.show()"
   ],
   "metadata": {
    "collapsed": false,
    "pycharm": {
     "name": "#%%\n"
    }
   }
  },
  {
   "cell_type": "code",
   "execution_count": null,
   "outputs": [],
   "source": [
    "descByModel = bigtable[bigtable.regModel != \"N/A\"].groupby([\"regModel\"])[\"res\"].describe(  # percentiles=[x / 10 for x in range(1, 10)],\n",
    "    include=\"all\")\n",
    "descByModel.sort_values(by=[\"mean\"], axis=0, inplace=True, ascending=True)\n",
    "# descByModel"
   ],
   "metadata": {
    "collapsed": false,
    "pycharm": {
     "name": "#%%\n"
    }
   }
  },
  {
   "cell_type": "code",
   "execution_count": null,
   "outputs": [],
   "source": [
    "for style in [\"Boxen\"]:\n",
    "    g = sns.catplot(x=\"res\", y=\"regModel\", orient=\"h\",\n",
    "                    order=descByModel.index,\n",
    "                    # hue=\"wfName\",  # palette=[\"m\", \"g\"],\n",
    "                    # row=\"wfName\",\n",
    "                    # col=\"method\",\n",
    "                    data=bigtable[bigtable.regModel != \"N/A\"],\n",
    "                    kind=style.lower(),\n",
    "                    aspect=1.5,\n",
    "                    height=8\n",
    "                    )\n",
    "    g.set(xlabel=\"Runtimes\", ylabel=\"Degree / Regression Model\")\n",
    "    save_plot(g, f\"res_Vs_regModel_{style}.plot\")\n",
    "    plt.show()"
   ],
   "metadata": {
    "collapsed": false,
    "pycharm": {
     "name": "#%%\n"
    }
   }
  },
  {
   "cell_type": "code",
   "execution_count": null,
   "outputs": [],
   "source": [
    "for style in [\"Boxen\"]:\n",
    "    g = sns.catplot(x=\"res\", y=\"regModel\", orient=\"h\",\n",
    "                    order=descByModel.index,\n",
    "                    # hue=\"wfName\",  # palette=[\"m\", \"g\"],\n",
    "                    # row=\"wfName\",\n",
    "                    col=\"wfName\",\n",
    "                    col_wrap=3,\n",
    "                    sharex=False,\n",
    "                    data=bigtable[bigtable.regModel != \"N/A\"],\n",
    "                    kind=style.lower(),\n",
    "                    aspect=1.1,\n",
    "                    height=6\n",
    "                    )\n",
    "    g.set(xlabel=\"Runtimes\", ylabel=\"Degree / Regression Model\")\n",
    "    g.set_titles(\"Workflow: {col_name}\")\n",
    "    save_plot(g, f\"res_Vs_method_perWF_{style}.plot\")\n",
    "    plt.show()"
   ],
   "metadata": {
    "collapsed": false,
    "pycharm": {
     "name": "#%%\n"
    }
   }
  },
  {
   "cell_type": "markdown",
   "source": [
    "# Filter for only the BiS regression model:"
   ],
   "metadata": {
    "collapsed": false,
    "pycharm": {
     "name": "#%% md\n"
    }
   }
  },
  {
   "cell_type": "code",
   "execution_count": null,
   "outputs": [],
   "source": [
    "bisModel = descByModel.index[0]\n",
    "bigtable = bigtable.query(\"schedType == 'random' or regModel==@bisModel\")"
   ],
   "metadata": {
    "collapsed": false,
    "pycharm": {
     "name": "#%%\n"
    }
   }
  },
  {
   "cell_type": "code",
   "execution_count": null,
   "outputs": [],
   "source": [
    "descByMethodSansRand = bigtable[bigtable.regModel != \"N/A\"].groupby([\"method\"])[\"res\"].describe(  # percentiles=[x / 10 for x in range(1, 10)],\n",
    "    include=\"all\")\n",
    "descByMethodSansRand.sort_values(by=[\"mean\"], axis=0, inplace=True, ascending=True)"
   ],
   "metadata": {
    "collapsed": false,
    "pycharm": {
     "name": "#%%\n"
    }
   }
  },
  {
   "cell_type": "code",
   "execution_count": null,
   "outputs": [],
   "source": [
    "for style in [\"Boxen\"]:\n",
    "    g = sns.catplot(x=\"res\", y=\"method\", orient=\"h\",\n",
    "                    order=descByMethodSansRand.index,\n",
    "                    # hue=\"wfName\",  # palette=[\"m\", \"g\"],\n",
    "                    # row=\"wfName\",\n",
    "                    col=\"wfName\",\n",
    "                    col_wrap=3,\n",
    "                    sharex=False,\n",
    "                    data=bigtable[bigtable.regModel != \"N/A\"],\n",
    "                    kind=style.lower(),\n",
    "                    aspect=1.1,\n",
    "                    height=6\n",
    "                    )\n",
    "    g.set(xlabel=\"Runtimes\", ylabel=\"Strategy\")\n",
    "    g.set_titles(\"Workflow: {col_name}\")\n",
    "    save_plot(g, f\"res_Vs_method_bisModel_{style}.plot\")\n",
    "    plt.show()"
   ],
   "metadata": {
    "collapsed": false,
    "pycharm": {
     "name": "#%%\n"
    }
   }
  },
  {
   "cell_type": "code",
   "execution_count": null,
   "outputs": [],
   "source": [
    "g = sns.catplot(x=\"wfName\", y=\"res\",  # orient=\"h\",\n",
    "                order=[\"eager\", \"methylseq\", \"sarek\", \"viralrecon\", \"chipseq\"],\n",
    "                hue=\"method\",  # palette=[\"m\", \"g\"],\n",
    "                hue_order=[\"recommenderV1\", \"recommenderV1H1\", \"recommenderV1H2\", \"recommenderV1H3\",\n",
    "                           \"recommenderV2\", \"recommenderV2H1\", \"recommenderV2H2\", \"recommenderV2H3\"],\n",
    "                # row=\"wfName\",\n",
    "                # col=\"wfName\",\n",
    "                # col_wrap=3,\n",
    "                data=bigtable[bigtable.schedCat != \"random\"],\n",
    "                kind=\"point\",\n",
    "                aspect=1.5,\n",
    "                height=8,\n",
    "                facet_kws=dict(legend_out=False)\n",
    "                )\n",
    "sns.move_legend(g, \"lower center\", bbox_to_anchor=(.425, 1), ncol=4, title=\"Strategy\", frameon=False)\n",
    "g.set(xlabel=\"Workflow\", ylabel=\"Runtimes\")\n",
    "save_plot(g, \"res_Vs_method_bisModel_Point.plot\")\n",
    "plt.show()"
   ],
   "metadata": {
    "collapsed": false,
    "pycharm": {
     "name": "#%%\n"
    }
   }
  },
  {
   "cell_type": "code",
   "execution_count": null,
   "outputs": [],
   "source": [
    "g = sns.catplot(x=\"clusterSize\", y=\"res\",  # orient=\"h\",\n",
    "                # order=\"\",\n",
    "                hue=\"schedCat\",  # palette=[\"m\", \"g\"],\n",
    "                # row=\"wfName\",\n",
    "                col=\"wfName\",\n",
    "                col_wrap=3,\n",
    "                col_order=list(wfNames),\n",
    "                sharey=False,\n",
    "                sharex=False,\n",
    "                data=bigtable,\n",
    "                kind=\"point\",\n",
    "                aspect=1.1,\n",
    "                height=6,\n",
    "                facet_kws=dict(legend_out=False)\n",
    "                )\n",
    "sns.move_legend(g, \"upper left\", bbox_to_anchor=(.65, .45), title=\"Strategy Category\", frameon=False)\n",
    "for i, ax in enumerate(g.axes.ravel()):\n",
    "    wf = list(wfNames)[i]\n",
    "    ax.axhline(y=statistics.mean(bigtable.query(\"method == 'randomV1P0' and wfName==@wf\")[\"res\"]), linestyle=\"--\", color=\"black\")\n",
    "g.set_titles(\"Workflow: {col_name}\")\n",
    "g.set(xlabel=\"Cluster size\", ylabel=\"Runtimes\")\n",
    "save_plot(g, \"res_Vs_clusterSize_perWF_bisModel_hueSchedCat_Point.plot\")\n",
    "plt.show()"
   ],
   "metadata": {
    "collapsed": false,
    "pycharm": {
     "name": "#%%\n"
    }
   }
  },
  {
   "cell_type": "code",
   "execution_count": null,
   "outputs": [],
   "source": [
    "g = sns.catplot(x=\"clusterSize\", y=\"res\",  # orient=\"h\",\n",
    "                # order=\"\",\n",
    "                hue=\"wfName\",  # palette=[\"m\", \"g\"],\n",
    "                # row=\"wfName\",\n",
    "                col=\"schedType\",\n",
    "                col_wrap=3,\n",
    "                col_order=[\"random\", \"recommenderV1\", \"recommenderV2\",\n",
    "                           \"recommenderV1H1\", \"recommenderV1H2\", \"recommenderV1H3\",\n",
    "                           \"recommenderV2H1\", \"recommenderV2H2\", \"recommenderV2H3\"],\n",
    "                # sharey=False,\n",
    "                sharex=False,\n",
    "                hue_order=list(wfNames),\n",
    "                data=bigtable,\n",
    "                kind=\"point\",\n",
    "                aspect=1.1,\n",
    "                height=6,\n",
    "                facet_kws=dict(legend_out=False)\n",
    "                )\n",
    "sns.move_legend(g, \"lower center\", bbox_to_anchor=(.45, 1), ncol=5, title=\"Workflow\", frameon=False)\n",
    "for i, wf in enumerate(wfNames):\n",
    "    g.refline(y=statistics.mean(bigtable.query(\"method == 'randomV1P0' and wfName==@wf\")[\"res\"]), color=sns.color_palette()[i])\n",
    "g.set_titles(\"Strategy: {col_name}\")\n",
    "g.set(xlabel=\"Cluster size\", ylabel=\"Runtimes\")\n",
    "save_plot(g, \"res_Vs_clusterSize_perMethod_bisModel_hueWf_Point.plot\")\n",
    "plt.show()\n"
   ],
   "metadata": {
    "collapsed": false,
    "pycharm": {
     "name": "#%%\n"
    }
   }
  },
  {
   "cell_type": "markdown",
   "source": [
    "# Get the cvRecSchedTimes data"
   ],
   "metadata": {
    "collapsed": false,
    "pycharm": {
     "name": "#%% md\n"
    }
   }
  },
  {
   "cell_type": "code",
   "execution_count": null,
   "outputs": [],
   "source": [
    "cvBigtable = get_bigtable(\"cvRecSchedTimes\", \"./cvRecSchedBigTable.pickle\")  #.sample(frac=5 / 100, random_state=0, axis=0)\n",
    "# cvBigtable"
   ],
   "metadata": {
    "collapsed": false,
    "pycharm": {
     "name": "#%%\n"
    }
   }
  },
  {
   "cell_type": "code",
   "execution_count": null,
   "outputs": [],
   "source": [
    "wfNames = cvBigtable.wfName.unique()"
   ],
   "metadata": {
    "collapsed": false,
    "pycharm": {
     "name": "#%%\n"
    }
   }
  },
  {
   "cell_type": "code",
   "execution_count": null,
   "outputs": [],
   "source": [
    "sns.set_theme(style=\"whitegrid\")\n",
    "#sns.set_context(\"paper\")\n",
    "sns.set_context(\"paper\", 1.65)"
   ],
   "metadata": {
    "collapsed": false,
    "pycharm": {
     "name": "#%%\n"
    }
   }
  },
  {
   "cell_type": "code",
   "execution_count": null,
   "outputs": [],
   "source": [
    "pds.set_option('display.max_rows', 100)\n",
    "pds.set_option('display.max_columns', None)\n",
    "pds.set_option('display.width', None)\n",
    "pds.set_option('display.precision', 4)"
   ],
   "metadata": {
    "collapsed": false,
    "pycharm": {
     "name": "#%%\n"
    }
   }
  },
  {
   "cell_type": "code",
   "execution_count": null,
   "outputs": [],
   "source": [
    "cvDescByMethod = cvBigtable.groupby([\"method\"])[\"res\"].describe(  # percentiles=[x / 10 for x in range(1, 10)],\n",
    "    include=\"all\")\n",
    "cvDescByMethod.sort_values(by=[\"mean\"], axis=0, inplace=True, ascending=True)\n",
    "# cvDescByMethod"
   ],
   "metadata": {
    "collapsed": false,
    "pycharm": {
     "name": "#%%\n"
    }
   }
  },
  {
   "cell_type": "code",
   "execution_count": null,
   "outputs": [],
   "source": [
    "for style in [\"Boxen\"]:\n",
    "    g = sns.catplot(x=\"res\", y=\"method\", orient=\"h\",\n",
    "                    order=cvDescByMethod.index,\n",
    "                    # hue=\"wfName\",  # palette=[\"m\", \"g\"],\n",
    "                    # row=\"wfName\",\n",
    "                    # col=\"method\",\n",
    "                    data=cvBigtable,\n",
    "                    kind=style.lower(),\n",
    "                    aspect=1.5,\n",
    "                    height=8\n",
    "                    )\n",
    "    g.set(xlabel=\"Runtimes\", ylabel=\"Strategy\")\n",
    "    save_plot(g, f\"res_Vs_method_{style}.plot\")\n",
    "    plt.show()"
   ],
   "metadata": {
    "collapsed": false,
    "pycharm": {
     "name": "#%%\n"
    }
   }
  },
  {
   "cell_type": "code",
   "execution_count": null,
   "outputs": [],
   "source": [
    "cvDescByModel = cvBigtable[cvBigtable.regModel != \"N/A\"].groupby([\"regModel\"])[\"res\"].describe(  # percentiles=[x / 10 for x in range(1, 10)],\n",
    "    include=\"all\")\n",
    "cvDescByModel.sort_values(by=[\"mean\"], axis=0, inplace=True, ascending=True)\n",
    "# cvDescByModel"
   ],
   "metadata": {
    "collapsed": false,
    "pycharm": {
     "name": "#%%\n"
    }
   }
  },
  {
   "cell_type": "code",
   "execution_count": null,
   "outputs": [],
   "source": [
    "for style in [\"Boxen\"]:\n",
    "    g = sns.catplot(x=\"res\", y=\"regModel\", orient=\"h\",\n",
    "                    order=cvDescByModel.index,\n",
    "                    hue=\"cvSplit\",  # palette=[\"m\", \"g\"],\n",
    "                    # row=\"wfName\",\n",
    "                    # col=\"method\",\n",
    "                    data=cvBigtable[cvBigtable.regModel != \"N/A\"],\n",
    "                    kind=style.lower(),\n",
    "                    aspect=1.5,\n",
    "                    height=8\n",
    "                    )\n",
    "    sns.move_legend(g, \"lower center\", bbox_to_anchor=(0.5, 1), ncol=5, title=\"CV Split\")\n",
    "    g.set(xlabel=\"Runtimes\", ylabel=\"Degree / Regression Model\")\n",
    "    save_plot(g, f\"cv.res_Vs_regModel_{style}.plot\")\n",
    "    plt.show()"
   ],
   "metadata": {
    "collapsed": false,
    "pycharm": {
     "name": "#%%\n"
    }
   }
  },
  {
   "cell_type": "code",
   "execution_count": null,
   "outputs": [],
   "source": [
    "for style in [\"Boxen\"]:\n",
    "    g = sns.catplot(x=\"res\", y=\"regModel\", orient=\"h\",\n",
    "                    order=cvDescByModel.index,\n",
    "                    hue=\"cvSplit\",  # palette=[\"m\", \"g\"],\n",
    "                    # row=\"wfName\",\n",
    "                    col=\"wfName\",\n",
    "                    col_wrap=3,\n",
    "                    sharex=False,\n",
    "                    data=cvBigtable[cvBigtable.regModel != \"N/A\"],\n",
    "                    kind=style.lower(),\n",
    "                    aspect=1.1,\n",
    "                    height=6\n",
    "                    )\n",
    "    sns.move_legend(g, \"upper left\", bbox_to_anchor=(0.75, 0.45), title=\"CV Split\")\n",
    "    g.set(xlabel=\"Runtimes\", ylabel=\"Degree / Regression Model\")\n",
    "    g.set_titles(\"Workflow: {col_name}\")\n",
    "    save_plot(g, f\"cv.res_Vs_method_perWF_{style}.plot\")\n",
    "    plt.show()"
   ],
   "metadata": {
    "collapsed": false,
    "pycharm": {
     "name": "#%%\n"
    }
   }
  },
  {
   "cell_type": "markdown",
   "source": [
    "# Filter for only the BiS regression model:"
   ],
   "metadata": {
    "collapsed": false
   }
  },
  {
   "cell_type": "code",
   "execution_count": null,
   "outputs": [],
   "source": [
    "# bisModel = descByModel.index[0]\n",
    "comp = cvBigtable[cvBigtable.regModel != \"N/A\"].groupby([\"regModel\", \"cvSplit\"])[\"res\"].describe()\n",
    "comp = comp.sort_values(by=[\"mean\"], ascending=True)\n",
    "rM, cvS = comp.reset_index().iloc[0][[\"regModel\", \"cvSplit\"]]\n",
    "cvBigtable = cvBigtable.query(\"schedType == 'random' or (regModel==@rM and cvSplit==@cvS)\")"
   ],
   "metadata": {
    "collapsed": false,
    "pycharm": {
     "name": "#%%\n"
    }
   }
  },
  {
   "cell_type": "code",
   "execution_count": null,
   "outputs": [],
   "source": [
    "cvDescByMethodSansRand = cvBigtable[cvBigtable.regModel != \"N/A\"].groupby([\"method\"])[\"res\"].describe(  # percentiles=[x / 10 for x in range(1, 10)],\n",
    "    include=\"all\")\n",
    "cvDescByMethodSansRand.sort_values(by=[\"mean\"], axis=0, inplace=True, ascending=True)"
   ],
   "metadata": {
    "collapsed": false,
    "pycharm": {
     "name": "#%%\n"
    }
   }
  },
  {
   "cell_type": "code",
   "execution_count": null,
   "outputs": [],
   "source": [
    "for style in [\"Boxen\"]:\n",
    "    g = sns.catplot(x=\"res\", y=\"method\", orient=\"h\",\n",
    "                    order=cvDescByMethodSansRand.index,\n",
    "                    # hue=\"wfName\",  # palette=[\"m\", \"g\"],\n",
    "                    # row=\"wfName\",\n",
    "                    col=\"wfName\",\n",
    "                    col_wrap=3,\n",
    "                    sharex=False,\n",
    "                    data=cvBigtable[cvBigtable.regModel != \"N/A\"],\n",
    "                    kind=style.lower(),\n",
    "                    aspect=1.1,\n",
    "                    height=6\n",
    "                    )\n",
    "    g.set(xlabel=\"Runtimes\", ylabel=\"Strategy\")\n",
    "    g.set_titles(\"Workflow: {col_name}\")\n",
    "    save_plot(g, f\"cv.res_Vs_method_bisModel_{style}.plot\")\n",
    "    plt.show()"
   ],
   "metadata": {
    "collapsed": false,
    "pycharm": {
     "name": "#%%\n"
    }
   }
  },
  {
   "cell_type": "code",
   "execution_count": null,
   "outputs": [],
   "source": [
    "g = sns.catplot(x=\"wfName\", y=\"res\",  # orient=\"h\",\n",
    "                order=[\"eager\", \"methylseq\", \"sarek\", \"viralrecon\", \"chipseq\"],\n",
    "                hue=\"method\",  # palette=[\"m\", \"g\"],\n",
    "                hue_order=[\"recommenderV1\", \"recommenderV1H1\", \"recommenderV1H2\", \"recommenderV1H3\",\n",
    "                           \"recommenderV2\", \"recommenderV2H1\", \"recommenderV2H2\", \"recommenderV2H3\"],\n",
    "                # row=\"wfName\",\n",
    "                # col=\"wfName\",\n",
    "                # col_wrap=3,\n",
    "                data=cvBigtable[cvBigtable.schedCat != \"random\"],\n",
    "                kind=\"point\",\n",
    "                aspect=1.5,\n",
    "                height=8,\n",
    "                facet_kws=dict(legend_out=False)\n",
    "                )\n",
    "sns.move_legend(g, \"lower center\", bbox_to_anchor=(.425, 1), ncol=4, title=\"Strategy\", frameon=False)\n",
    "g.set(xlabel=\"Workflow\", ylabel=\"Runtimes\")\n",
    "save_plot(g, \"cv.res_Vs_method_bisModel_Point.plot\")\n",
    "plt.show()"
   ],
   "metadata": {
    "collapsed": false,
    "pycharm": {
     "name": "#%%\n"
    }
   }
  },
  {
   "cell_type": "code",
   "execution_count": null,
   "outputs": [],
   "source": [
    "g = sns.catplot(x=\"clusterSize\", y=\"res\",  # orient=\"h\",\n",
    "                # order=\"\",\n",
    "                hue=\"schedCat\",  # palette=[\"m\", \"g\"],\n",
    "                # row=\"wfName\",\n",
    "                col=\"wfName\",\n",
    "                col_wrap=3,\n",
    "                col_order=list(wfNames),\n",
    "                sharey=False,\n",
    "                sharex=False,\n",
    "                data=cvBigtable,\n",
    "                kind=\"point\",\n",
    "                aspect=1.1,\n",
    "                height=6,\n",
    "                facet_kws=dict(legend_out=False)\n",
    "                )\n",
    "sns.move_legend(g, \"upper left\", bbox_to_anchor=(.65, .45), title=\"Strategy Category\", frameon=False)\n",
    "for i, ax in enumerate(g.axes.ravel()):\n",
    "    wf = list(wfNames)[i]\n",
    "    ax.axhline(y=statistics.mean(cvBigtable.query(\"method == 'randomV1P0' and wfName==@wf\")[\"res\"]), linestyle=\"--\", color=\"black\")\n",
    "g.set_titles(\"Workflow: {col_name}\")\n",
    "g.set(xlabel=\"Cluster size\", ylabel=\"Runtimes\")\n",
    "save_plot(g, \"cv.res_Vs_clusterSize_perWF_bisModel_hueSchedCat_Point.plot\")\n",
    "plt.show()"
   ],
   "metadata": {
    "collapsed": false,
    "pycharm": {
     "name": "#%%\n"
    }
   }
  },
  {
   "cell_type": "code",
   "execution_count": null,
   "outputs": [],
   "source": [
    "g = sns.catplot(x=\"clusterSize\", y=\"res\",  # orient=\"h\",\n",
    "                # order=\"\",\n",
    "                hue=\"wfName\",  # palette=[\"m\", \"g\"],\n",
    "                # row=\"wfName\",\n",
    "                col=\"schedType\",\n",
    "                col_wrap=3,\n",
    "                col_order=[\"random\", \"recommenderV1\", \"recommenderV2\",\n",
    "                           \"recommenderV1H1\", \"recommenderV1H2\", \"recommenderV1H3\",\n",
    "                           \"recommenderV2H1\", \"recommenderV2H2\", \"recommenderV2H3\"],\n",
    "                # sharey=False,\n",
    "                sharex=False,\n",
    "                hue_order=list(wfNames),\n",
    "                data=cvBigtable,\n",
    "                kind=\"point\",\n",
    "                aspect=1.1,\n",
    "                height=6,\n",
    "                facet_kws=dict(legend_out=False)\n",
    "                )\n",
    "sns.move_legend(g, \"lower center\", bbox_to_anchor=(.45, 1), ncol=5, title=\"Workflow\", frameon=False)\n",
    "for i, wf in enumerate(wfNames):\n",
    "    g.refline(y=statistics.mean(cvBigtable.query(\"method == 'randomV1P0' and wfName==@wf\")[\"res\"]), color=sns.color_palette()[i])\n",
    "g.set_titles(\"Strategy: {col_name}\")\n",
    "g.set(xlabel=\"Cluster size\", ylabel=\"Runtimes\")\n",
    "save_plot(g, \"cv.res_Vs_clusterSize_perMethod_bisModel_hueWf_Point.plot\")\n",
    "plt.show()\n"
   ],
   "metadata": {
    "collapsed": false,
    "pycharm": {
     "name": "#%%\n"
    }
   }
  }
 ],
 "metadata": {
  "kernelspec": {
   "name": "python396jvsc74a57bd0833e9faf2a7ac8b79841bf2cf5d837526059e71529011d8b6ba9767c5bc4385f",
   "language": "python",
   "display_name": "Python 3.9.6 64-bit ('py': conda)"
  },
  "language_info": {
   "codemirror_mode": {
    "name": "ipython",
    "version": 3
   },
   "file_extension": ".py",
   "mimetype": "text/x-python",
   "name": "python",
   "nbconvert_exporter": "python",
   "pygments_lexer": "ipython3",
   "version": "3.9.6"
  }
 },
 "nbformat": 4,
 "nbformat_minor": 1
}