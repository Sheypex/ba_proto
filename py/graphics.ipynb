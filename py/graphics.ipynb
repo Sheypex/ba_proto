{
 "cells": [
  {
   "cell_type": "code",
   "execution_count": 1,
   "metadata": {},
   "outputs": [],
   "source": [
    "import cProfile\n",
    "import os\n",
    "import pickle\n",
    "import pstats\n",
    "import re\n",
    "import time\n",
    "from collections import namedtuple, defaultdict\n",
    "from typing import List\n",
    "from multiprocessing import Pool\n",
    "import networkx as NX\n",
    "import pandas as pds\n",
    "import matplotlib.pyplot as plt\n",
    "import itertools\n",
    "import math\n",
    "import re\n",
    "import statistics\n",
    "from pprint import pprint\n",
    "\n",
    "import rich.progress\n",
    "import scipy\n",
    "from scipy import stats as scistats\n",
    "from sklearn import linear_model, preprocessing\n",
    "from tabulate import tabulate\n",
    "from pathlib import Path\n",
    "import pickle\n",
    "import random\n",
    "import argparse\n",
    "import sys\n",
    "\n",
    "import data_types\n",
    "from db_actions import db_actions\n",
    "import numpy as np\n",
    "from my_yaml import yaml_load, yaml_dump\n",
    "from alive_progress import alive_bar\n",
    "import seaborn as sns\n",
    "from data_types import PickleOut\n",
    "import commons\n",
    "import rich.status\n",
    "from rich.pretty import pprint\n",
    "from rich import inspect\n"
   ]
  },
  {
   "cell_type": "code",
   "execution_count": 2,
   "metadata": {
    "pycharm": {
     "name": "#%%\n"
    }
   },
   "outputs": [],
   "source": [
    "rc = commons.rc"
   ]
  },
  {
   "cell_type": "code",
   "execution_count": 3,
   "metadata": {
    "pycharm": {
     "name": "#%%\n"
    }
   },
   "outputs": [],
   "source": [
    "TR = namedtuple('TableRow', [\"cluster\", \"wfName\", \"method\", \"res\"])\n",
    "BigTR = namedtuple(\"BigTableRow\", [\"regModel\", \"cluster\", \"clusterSize\", \"wfName\", \"method\", \"res\", \"schedCat\", \"schedType\"])\n",
    "CVBigTR = namedtuple(\"CVBigTableRow\", [\"regModel\", \"cluster\", \"clusterSize\", \"wfName\", \"method\", \"res\", \"schedCat\", \"schedType\", \"cvSplit\"])\n",
    "CVUBigTR = namedtuple(\"CVUBigTableRow\", [\n",
    "    \"regModel\",\n",
    "    \"cluster\",\n",
    "    \"clusterSize\",\n",
    "    \"wfName\",\n",
    "    \"method\",\n",
    "    \"res\",\n",
    "    #\"schedCat\",\n",
    "    #\"schedType\",\n",
    "    \"cvSplit\",\n",
    "    \"ukSplit\"])"
   ]
  },
  {
   "cell_type": "code",
   "execution_count": 4,
   "metadata": {
    "pycharm": {
     "name": "#%%\n"
    }
   },
   "outputs": [],
   "source": [
    "shortToLongNameLUT = {'Linear'       : 'Ordinary Least Squares',\n",
    "                      'SVR-linear'   : 'SVR - linear',\n",
    "                      'SVR-poly'     : 'SVR - poly',\n",
    "                      'SVR-rbf'      : 'SVR - rbf',\n",
    "                      'SVR-sigmoid'  : 'SVR - sigmoid',\n",
    "                      'Lasso'        : 'Lasso',\n",
    "                      'LassoCV'      : 'Lasso CV',\n",
    "                      'Ridge'        : 'Ridge',\n",
    "                      'RidgeCV'      : 'Ridge CV',\n",
    "                      'ElasticNet'   : 'Elastic Net',\n",
    "                      'ElasticNetCV' : 'Elastic Net CV',\n",
    "                      'BayesianRidge': 'Bayesian Ridge',\n",
    "                      'ARD'          : 'Automatic Relevance Determination',\n",
    "                      'SGD'          : 'Stochastic Gradient Descent',\n",
    "                      'PA'           : 'Passive Aggressive',\n",
    "                      'Huber'        : 'Huber',\n",
    "                      'TheilSen'     : 'Theil Sen'}"
   ]
  },
  {
   "cell_type": "code",
   "execution_count": 5,
   "metadata": {
    "pycharm": {
     "name": "#%%\n"
    }
   },
   "outputs": [],
   "source": [
    "def load_from_file(f, prog: rich.progress.Progress, barid):\n",
    "    modelDegLUT = {\n",
    "        'linModel' : 1,\n",
    "        'quadModel': 2,\n",
    "        'cubeModel': 3,\n",
    "        'tetModel' : 4,\n",
    "        'penModel' : 5\n",
    "    }\n",
    "    shorterMethodNamesLUT = {\n",
    "        'randomScheduler'     : 'random',\n",
    "        'recommenderScheduler': 'recommender'\n",
    "    }\n",
    "    pFile = Path(f)\n",
    "    with open(pFile, \"br\") as tmp:\n",
    "        pl: dict = pickle.load(tmp)\n",
    "    #\n",
    "    m = re.match(\"(?:.*/)*(.*Model)\\.(.*)_CV-(.*)_U-(.*)\\.recSchedTimes\\.pickle\", f)\n",
    "    modelDeg = modelDegLUT[m.group(1)]\n",
    "    modelName = shortToLongNameLUT[m.group(2)]\n",
    "    shortName = f\"{modelDeg} / {modelName}\"\n",
    "    cvSplit = m.group(3)\n",
    "    if cvSplit == \"None\":\n",
    "        cvSplit = None\n",
    "    ukSplit = m.group(4)\n",
    "    if ukSplit == \"None\":\n",
    "        ukSplit = None\n",
    "    # for pre, deg in modelDegLUT.items():\n",
    "    #     if pre in shortName:\n",
    "    #         shortName = shortName.replace(pre + \".\", f\"{deg}/\")\n",
    "    #         break\n",
    "    fmt = CVUBigTR\n",
    "    #\n",
    "    prog.reset(barid, total=len(pl.items()))\n",
    "    for clusterName, cluster in pl.items():\n",
    "        for wfName, wf in cluster.items():\n",
    "            wfShortName = re.match(\"nfcore/(.*):.*\", wfName).group(1)\n",
    "            for methodName, res in wf.items():\n",
    "                for longN, rep in shorterMethodNamesLUT.items():\n",
    "                    if longN in methodName:\n",
    "                        mName = methodName.replace(longN, rep)\n",
    "                        break\n",
    "                rowInfo = {\n",
    "                    \"regModel\"   : shortName,\n",
    "                    \"cluster\"    : str(clusterName),\n",
    "                    \"clusterSize\": len(clusterName),\n",
    "                    \"wfName\"     : wfShortName,\n",
    "                    \"method\"     : mName,\n",
    "                    #\"schedCat\"   : \"recommenderV1,-H1,-H2,-H3\" if \"V1\" in mName else \"recommenderV2,-H1,-H2,-H3\",\n",
    "                    #\"schedType\"  : mName,\n",
    "                    \"cvSplit\"    : cvSplit,\n",
    "                    \"ukSplit\"    : ukSplit\n",
    "                }\n",
    "                if type(res) != list:\n",
    "                    rowInfo[\"res\"] = float(res)\n",
    "                    yield fmt(**rowInfo)\n",
    "                # else:\n",
    "                #     rowInfo[\"regModel\"] = \"N/A\"\n",
    "                #     rowInfo[\"schedCat\"] = \"random\"\n",
    "                #     rowInfo[\"schedType\"] = \"random\"\n",
    "                #     randomPs = [1, 2, 3]\n",
    "                #     for i, r in enumerate(res):  # this only applies to the results of the randomScheduler(V1)\n",
    "                #         if i + 1 in randomPs:\n",
    "                #             rowInfo[\"method\"] = mName + f\"P{i * 10}\"\n",
    "                #             rowInfo[\"res\"] = float(r)\n",
    "                #             yield fmt(**rowInfo)\n",
    "                #     rowInfo[\"method\"] = mName + \"Avg\"\n",
    "                #     rowInfo[\"res\"] = float(statistics.mean(res))\n",
    "                #     yield fmt(**rowInfo)\n",
    "        prog.advance(barid)\n",
    "    del pl\n",
    "\n",
    "\n",
    "def load_random_from_files(d, prog: rich.progress.Progress, barid):\n",
    "    if type(d) is str:\n",
    "        d = Path(d)\n",
    "    #\n",
    "    refFile = d.joinpath(os.listdir(d)[0])\n",
    "    with open(refFile, \"br\") as tmp:\n",
    "        refP: dict = pickle.load(tmp)\n",
    "    #\n",
    "    fmt = CVUBigTR\n",
    "    cls = list(refP.keys())\n",
    "    wfs = list(refP[cls[0]].keys())\n",
    "    del refP\n",
    "    prog.reset(barid, total=len(cls) * len(wfs))\n",
    "    pls = list()\n",
    "    for fName in os.listdir(d):\n",
    "        pFile = d.joinpath(fName)\n",
    "        with open(pFile, \"br\") as tmp:\n",
    "            pl: dict = pickle.load(tmp)\n",
    "        for clusterName, cluster in pl.items():\n",
    "            for wfName, wf in cluster.items():\n",
    "                for methodName in list(wf.keys()):\n",
    "                    if not \"random\" in methodName:\n",
    "                        del pl[clusterName][wfName][methodName]\n",
    "        #\n",
    "        pls.append(pl)\n",
    "        del pl\n",
    "    for clusterName in cls:\n",
    "        for wfName in wfs:\n",
    "            wfShortName = re.match(\"nfcore/(.*):.*\", wfName).group(1)\n",
    "            #\n",
    "            randoms = [x for pl in pls for x in pl[clusterName][wfName][\"randomSchedulerV1\"]]\n",
    "            for pl in pls:\n",
    "                del pl[clusterName][wfName]\n",
    "            randoms.sort()\n",
    "            indices = [int(round(len(randoms) - 1 - x * (len(randoms) - 1), 0)) for x in [a / 10 for a in range(0, 11)]]\n",
    "            randoms = [x for i, x in enumerate(randoms) if i in indices]\n",
    "            rowInfo = {\n",
    "                \"regModel\"   : \"N/A\",\n",
    "                \"cluster\"    : str(clusterName),\n",
    "                \"clusterSize\": len(clusterName),\n",
    "                \"wfName\"     : wfShortName,\n",
    "                \"method\"     : \"randomV1\",\n",
    "                #\"schedCat\"   : \"random\",\n",
    "                #\"schedType\"  : \"random\",\n",
    "                \"cvSplit\"    : \"N/A\",\n",
    "                \"ukSplit\"    : \"N/A\"\n",
    "            }\n",
    "            for i, r in enumerate(randoms):  # this only applies to the results of the randomScheduler(V1)\n",
    "                rowInfo[\"method\"] = f\"randomV1P{i * 10}\"\n",
    "                rowInfo[\"res\"] = float(r)\n",
    "                yield fmt(**rowInfo)\n",
    "            rowInfo[\"method\"] = \"randomV1Avg\"\n",
    "            rowInfo[\"res\"] = float(statistics.mean(randoms))\n",
    "            yield fmt(**rowInfo)\n",
    "            prog.advance(barid)\n",
    "\n",
    "\n",
    "def load_from_dir(d):\n",
    "    with commons.stdProgress(rc) as prog:\n",
    "        # with alive_bar(len(os.listdir(d)), f\"Loading recommenderScheduler results from {d}\") as bar:\n",
    "        fileProg = prog.add_task(\"Files\", total=len(os.listdir(d)))\n",
    "        clusterProg = prog.add_task(\"Clusters\")\n",
    "        for f in os.listdir(d):\n",
    "            yield from load_from_file(f\"{d}/{f}\", prog, clusterProg)\n",
    "            prog.advance(fileProg)\n",
    "        randomsProg = prog.add_task(\"Randoms\")\n",
    "        yield from load_random_from_files(d, prog, randomsProg)"
   ]
  },
  {
   "cell_type": "code",
   "execution_count": 6,
   "metadata": {
    "pycharm": {
     "name": "#%%\n"
    }
   },
   "outputs": [],
   "source": [
    "def get_bigtable(saveLoc, btFileLoc):\n",
    "    btFile = Path(btFileLoc)\n",
    "    if not btFile.is_file():\n",
    "        bigtable = pds.DataFrame(load_from_dir(saveLoc), columns=CVUBigTR._fields)\n",
    "        with open(btFile, \"bw\") as f:\n",
    "            pickle.dump(bigtable, f)\n",
    "    else:\n",
    "        with open(btFile, \"br\") as f:\n",
    "            bigtable = pickle.load(f)\n",
    "    return bigtable"
   ]
  },
  {
   "cell_type": "code",
   "execution_count": 7,
   "metadata": {
    "pycharm": {
     "name": "#%%\n"
    }
   },
   "outputs": [],
   "source": [
    "def save_plot(obj, name, loc=\"./fig/\", **kwargs):\n",
    "    obj.savefig(f\"{loc}{name}.pdf\", transparent=True, **kwargs)\n",
    "    obj.savefig(f\"{loc}{name}.png\", transparent=True, **kwargs)"
   ]
  },
  {
   "cell_type": "markdown",
   "metadata": {
    "pycharm": {
     "name": "#%% md\n"
    }
   },
   "source": [
    "# Get the recSchedTimes data"
   ]
  },
  {
   "cell_type": "code",
   "execution_count": 8,
   "metadata": {
    "pycharm": {
     "name": "#%%\n"
    }
   },
   "outputs": [],
   "source": [
    "bigtable = get_bigtable(\"recSchedTimes\", \"./recSchedBigTable.pickle\")  #.sample(frac=5 / 100, random_state=0, axis=0)\n",
    "# bigtable"
   ]
  },
  {
   "cell_type": "markdown",
   "metadata": {},
   "source": [
    "# Get the cvRecSchedTimes data"
   ]
  },
  {
   "cell_type": "code",
   "execution_count": 9,
   "metadata": {
    "pycharm": {
     "is_executing": true,
     "name": "#%%\n"
    }
   },
   "outputs": [],
   "source": [
    "cvBigtable = get_bigtable(\"cvRecSchedTimes\", \"./cvRecSchedBigTable.pickle\")  #.sample(frac=5 / 100, random_state=0, axis=0)\n",
    "# cvBigtable"
   ]
  },
  {
   "cell_type": "code",
   "execution_count": 10,
   "metadata": {
    "pycharm": {
     "name": "#%%\n"
    }
   },
   "outputs": [],
   "source": [
    "wfNames = bigtable.wfName.unique()"
   ]
  },
  {
   "cell_type": "code",
   "execution_count": 11,
   "metadata": {
    "pycharm": {
     "name": "#%%\n"
    }
   },
   "outputs": [],
   "source": [
    "sns.set_theme(style=\"whitegrid\")\n",
    "#sns.set_context(\"paper\")\n",
    "sns.set_context(\"paper\", 1.65)"
   ]
  },
  {
   "cell_type": "code",
   "execution_count": 12,
   "metadata": {
    "pycharm": {
     "name": "#%%\n"
    }
   },
   "outputs": [],
   "source": [
    "pds.set_option('display.max_rows', 100)\n",
    "pds.set_option('display.max_columns', None)\n",
    "pds.set_option('display.width', None)\n",
    "pds.set_option('display.precision', 4)\n"
   ]
  },
  {
   "cell_type": "markdown",
   "metadata": {
    "pycharm": {
     "name": "#%% md\n"
    }
   },
   "source": [
    "# trying out new visualisation"
   ]
  },
  {
   "cell_type": "code",
   "execution_count": 13,
   "metadata": {
    "pycharm": {
     "name": "#%%\n"
    }
   },
   "outputs": [],
   "source": [
    "def getRegModelMethodScores(fileLoc: Path, table, crit=None, scorer=None, tol=1):\n",
    "    if crit is None:\n",
    "        def yep (cur, mini, tol): \n",
    "            return abs(cur-mini)<=tol\n",
    "        crit = yep\n",
    "    if scorer is None:\n",
    "        def sc(cur, mini, tol):\n",
    "            return 1\n",
    "        scorer = sc\n",
    "    if type(fileLoc) is str:\n",
    "        fileLoc = Path(fileLoc)\n",
    "    if fileLoc.is_file():\n",
    "        with open(fileLoc, \"br\") as f:\n",
    "            return pickle.load(f)\n",
    "    else:\n",
    "        grouped = table[table.regModel != \"N/A\"].pivot([\"cluster\", \"wfName\", \"regModel\"], \"method\", \"res\")\n",
    "        clWFCombs = itertools.product(clusters, wfNames)\n",
    "        numclWFCombs = len(list(clWFCombs))\n",
    "        clWFCombs = itertools.product(clusters, wfNames)\n",
    "        rMMethCombs = list(itertools.product(regModels, methods))\n",
    "        # regModelMethodScores = defaultdict(lambda: 0)\n",
    "        with commons.stdProgress(rc) as prog:\n",
    "            cvwfProg = prog.add_task(\"Cluster/Workflow\", total=numclWFCombs)\n",
    "            regModelMethodScores = defaultdict(lambda: 0)\n",
    "\n",
    "            for clwf, subtable in grouped.groupby(level=(0, 1), group_keys=False):\n",
    "                c, wf = clwf\n",
    "                subtable = subtable.droplevel([\"cluster\", \"wfName\"])\n",
    "                minimumTime = subtable.min().min()\n",
    "                for rmmetch in rMMethCombs:\n",
    "                    rM, meth = rmmetch\n",
    "                    # rc.log(subtable.loc[rM, meth], minimumTime, abs(subtable.loc[rM, meth] - minimumTime), abs(subtable.loc[rM, meth] - minimumTime) <= tol)\n",
    "                    curr= subtable.loc[rM, meth]\n",
    "                    if type(tol) is int or type(tol) is float:\n",
    "                        t= tol\n",
    "                    else:\n",
    "                        t = tol(curr, minimumTime)\n",
    "                    if crit(curr, minimumTime, t):\n",
    "                        regModelMethodScores[rmmetch] = regModelMethodScores[rmmetch] + scorer(curr, minimumTime, t)\n",
    "                prog.advance(cvwfProg)\n",
    "            regModelMethodScores = dict(regModelMethodScores)\n",
    "        #\n",
    "        with open(fileLoc, \"bw\") as f:\n",
    "            pickle.dump(regModelMethodScores, f)\n",
    "        return dict(regModelMethodScores)"
   ]
  },
  {
   "cell_type": "markdown",
   "metadata": {},
   "source": [
    "------"
   ]
  },
  {
   "cell_type": "code",
   "execution_count": 14,
   "metadata": {
    "pycharm": {
     "name": "#%%\n"
    }
   },
   "outputs": [],
   "source": [
    "tmp = bigtable[bigtable.regModel != \"N/A\"]\n",
    "clusters = tmp.cluster.unique()\n",
    "regModels = tmp.regModel.unique()\n",
    "methods = tmp.method.unique()\n",
    "del tmp"
   ]
  },
  {
   "cell_type": "code",
   "execution_count": 15,
   "metadata": {
    "pycharm": {
     "name": "#%%\n"
    },
    "tags": []
   },
   "outputs": [],
   "source": [
    "confs = dict()\n",
    "with open(\"percentileModels\",\"r\") as f:\n",
    "    for fName in f:\n",
    "        with open(fName.strip(), \"br\") as f2:\n",
    "            l:PickleOut = pickle.load(f2)\n",
    "            m = re.match(\"(?:.*/)*(.*)\\.(.*)_CV-(.*)_U-(.*).pickle\",fName.strip())\n",
    "            confs[f\"{l.polyDeg} / {shortToLongNameLUT[m.group(2)]}\"] = commons.jamGeomean([l.train_confidence, l.test_confidence, l.full_confidence])\n",
    "            "
   ]
  },
  {
   "cell_type": "code",
   "execution_count": 16,
   "metadata": {
    "pycharm": {
     "name": "#%%\n"
    }
   },
   "outputs": [
    {
     "data": {
      "text/html": [
       "<pre style=\"white-space:pre;overflow-x:auto;line-height:normal;font-family:Menlo,'DejaVu Sans Mono',consolas,'Courier New',monospace\">\n",
       "<span style=\"font-weight: bold\">{</span>\n",
       "<span style=\"color: #7fbf7f; text-decoration-color: #7fbf7f\">│   </span><span style=\"color: #008000; text-decoration-color: #008000\">'5 / Ordinary Least Squares'</span>: <span style=\"color: #008080; text-decoration-color: #008080; font-weight: bold\">1.0</span>,\n",
       "<span style=\"color: #7fbf7f; text-decoration-color: #7fbf7f\">│   </span><span style=\"color: #008000; text-decoration-color: #008000\">'3 / Ridge'</span>: <span style=\"color: #008080; text-decoration-color: #008080; font-weight: bold\">0.9231538458419148</span>,\n",
       "<span style=\"color: #7fbf7f; text-decoration-color: #7fbf7f\">│   </span><span style=\"color: #808000; text-decoration-color: #808000\">...</span> +<span style=\"color: #008080; text-decoration-color: #008080; font-weight: bold\">9</span>\n",
       "<span style=\"font-weight: bold\">}</span>\n",
       "</pre>\n"
      ],
      "text/plain": [
       "\n",
       "\u001b[1m{\u001b[0m\n",
       "\u001b[2;32m│   \u001b[0m\u001b[32m'5 / Ordinary Least Squares'\u001b[0m: \u001b[1;36m1.0\u001b[0m,\n",
       "\u001b[2;32m│   \u001b[0m\u001b[32m'3 / Ridge'\u001b[0m: \u001b[1;36m0.9231538458419148\u001b[0m,\n",
       "\u001b[2;32m│   \u001b[0m\u001b[33m...\u001b[0m +\u001b[1;36m9\u001b[0m\n",
       "\u001b[1m}\u001b[0m\n"
      ]
     },
     "metadata": {},
     "output_type": "display_data"
    }
   ],
   "source": [
    "confs"
   ]
  },
  {
   "cell_type": "code",
   "execution_count": 17,
   "metadata": {
    "pycharm": {
     "name": "#%%\n"
    },
    "tags": []
   },
   "outputs": [],
   "source": [
    "regModels = sorted(regModels, key=lambda x: confs[x], reverse=True)"
   ]
  },
  {
   "cell_type": "code",
   "execution_count": 18,
   "metadata": {
    "pycharm": {
     "name": "#%%\n"
    }
   },
   "outputs": [
    {
     "data": {
      "text/html": [
       "<pre style=\"white-space:pre;overflow-x:auto;line-height:normal;font-family:Menlo,'DejaVu Sans Mono',consolas,'Courier New',monospace\"><span style=\"font-weight: bold\">[</span>\n",
       "<span style=\"color: #7fbf7f; text-decoration-color: #7fbf7f\">│   </span><span style=\"color: #008000; text-decoration-color: #008000\">'5 / Ordinary Least Squares'</span>,\n",
       "<span style=\"color: #7fbf7f; text-decoration-color: #7fbf7f\">│   </span><span style=\"color: #008000; text-decoration-color: #008000\">'3 / Ridge'</span>,\n",
       "<span style=\"color: #7fbf7f; text-decoration-color: #7fbf7f\">│   </span><span style=\"color: #008000; text-decoration-color: #008000\">'3 / SVR - linear'</span>,\n",
       "<span style=\"color: #7fbf7f; text-decoration-color: #7fbf7f\">│   </span><span style=\"color: #008000; text-decoration-color: #008000\">'3 / Elastic Net CV'</span>,\n",
       "<span style=\"color: #7fbf7f; text-decoration-color: #7fbf7f\">│   </span><span style=\"color: #008000; text-decoration-color: #008000\">'2 / Ridge CV'</span>,\n",
       "<span style=\"color: #7fbf7f; text-decoration-color: #7fbf7f\">│   </span><span style=\"color: #008000; text-decoration-color: #008000\">'1 / Ordinary Least Squares'</span>,\n",
       "<span style=\"color: #7fbf7f; text-decoration-color: #7fbf7f\">│   </span><span style=\"color: #008000; text-decoration-color: #008000\">'1 / Lasso CV'</span>,\n",
       "<span style=\"color: #7fbf7f; text-decoration-color: #7fbf7f\">│   </span><span style=\"color: #008000; text-decoration-color: #008000\">'1 / SVR - linear'</span>,\n",
       "<span style=\"color: #7fbf7f; text-decoration-color: #7fbf7f\">│   </span><span style=\"color: #008000; text-decoration-color: #008000\">'3 / Elastic Net'</span>,\n",
       "<span style=\"color: #7fbf7f; text-decoration-color: #7fbf7f\">│   </span><span style=\"color: #008000; text-decoration-color: #008000\">'1 / Elastic Net'</span>,\n",
       "<span style=\"color: #7fbf7f; text-decoration-color: #7fbf7f\">│   </span><span style=\"color: #008000; text-decoration-color: #008000\">'4 / Passive Aggressive'</span>\n",
       "<span style=\"font-weight: bold\">]</span>\n",
       "</pre>\n"
      ],
      "text/plain": [
       "\u001b[1m[\u001b[0m\n",
       "\u001b[2;32m│   \u001b[0m\u001b[32m'5 / Ordinary Least Squares'\u001b[0m,\n",
       "\u001b[2;32m│   \u001b[0m\u001b[32m'3 / Ridge'\u001b[0m,\n",
       "\u001b[2;32m│   \u001b[0m\u001b[32m'3 / SVR - linear'\u001b[0m,\n",
       "\u001b[2;32m│   \u001b[0m\u001b[32m'3 / Elastic Net CV'\u001b[0m,\n",
       "\u001b[2;32m│   \u001b[0m\u001b[32m'2 / Ridge CV'\u001b[0m,\n",
       "\u001b[2;32m│   \u001b[0m\u001b[32m'1 / Ordinary Least Squares'\u001b[0m,\n",
       "\u001b[2;32m│   \u001b[0m\u001b[32m'1 / Lasso CV'\u001b[0m,\n",
       "\u001b[2;32m│   \u001b[0m\u001b[32m'1 / SVR - linear'\u001b[0m,\n",
       "\u001b[2;32m│   \u001b[0m\u001b[32m'3 / Elastic Net'\u001b[0m,\n",
       "\u001b[2;32m│   \u001b[0m\u001b[32m'1 / Elastic Net'\u001b[0m,\n",
       "\u001b[2;32m│   \u001b[0m\u001b[32m'4 / Passive Aggressive'\u001b[0m\n",
       "\u001b[1m]\u001b[0m\n"
      ]
     },
     "metadata": {},
     "output_type": "display_data"
    }
   ],
   "source": [
    "pprint(regModels)"
   ]
  },
  {
   "cell_type": "code",
   "execution_count": 19,
   "metadata": {
    "pycharm": {
     "name": "#%%\n"
    }
   },
   "outputs": [],
   "source": [
    "regModelMethodScores = getRegModelMethodScores(\"regModelMethodScores.pickle\", bigtable)"
   ]
  },
  {
   "cell_type": "code",
   "execution_count": 20,
   "metadata": {
    "pycharm": {
     "name": "#%%\n"
    }
   },
   "outputs": [],
   "source": [
    "regModelMethodScores10P  = getRegModelMethodScores(\"regModelMethodScores10P.pickle\", bigtable, tol=lambda cur, mini: 10*mini/100)"
   ]
  },
  {
   "cell_type": "code",
   "execution_count": 21,
   "metadata": {
    "pycharm": {
     "name": "#%%\n"
    }
   },
   "outputs": [
    {
     "data": {
      "text/html": [
       "<pre style=\"white-space:pre;overflow-x:auto;line-height:normal;font-family:Menlo,'DejaVu Sans Mono',consolas,'Courier New',monospace\">\n",
       "<span style=\"font-weight: bold\">{</span>\n",
       "<span style=\"color: #7fbf7f; text-decoration-color: #7fbf7f\">│   </span><span style=\"font-weight: bold\">(</span><span style=\"color: #008000; text-decoration-color: #008000\">'1 / Lasso CV'</span>, <span style=\"color: #008000; text-decoration-color: #008000\">'recommenderV1'</span><span style=\"font-weight: bold\">)</span>: <span style=\"color: #008080; text-decoration-color: #008080; font-weight: bold\">5346</span>,\n",
       "<span style=\"color: #7fbf7f; text-decoration-color: #7fbf7f\">│   </span><span style=\"font-weight: bold\">(</span><span style=\"color: #008000; text-decoration-color: #008000\">'1 / Lasso CV'</span>, <span style=\"color: #008000; text-decoration-color: #008000\">'recommenderV1H1'</span><span style=\"font-weight: bold\">)</span>: <span style=\"color: #008080; text-decoration-color: #008080; font-weight: bold\">5516</span>,\n",
       "<span style=\"color: #7fbf7f; text-decoration-color: #7fbf7f\">│   </span><span style=\"color: #808000; text-decoration-color: #808000\">...</span> +<span style=\"color: #008080; text-decoration-color: #008080; font-weight: bold\">86</span>\n",
       "<span style=\"font-weight: bold\">}</span>\n",
       "</pre>\n"
      ],
      "text/plain": [
       "\n",
       "\u001b[1m{\u001b[0m\n",
       "\u001b[2;32m│   \u001b[0m\u001b[1m(\u001b[0m\u001b[32m'1 / Lasso CV'\u001b[0m, \u001b[32m'recommenderV1'\u001b[0m\u001b[1m)\u001b[0m: \u001b[1;36m5346\u001b[0m,\n",
       "\u001b[2;32m│   \u001b[0m\u001b[1m(\u001b[0m\u001b[32m'1 / Lasso CV'\u001b[0m, \u001b[32m'recommenderV1H1'\u001b[0m\u001b[1m)\u001b[0m: \u001b[1;36m5516\u001b[0m,\n",
       "\u001b[2;32m│   \u001b[0m\u001b[33m...\u001b[0m +\u001b[1;36m86\u001b[0m\n",
       "\u001b[1m}\u001b[0m\n"
      ]
     },
     "metadata": {},
     "output_type": "display_data"
    }
   ],
   "source": [
    "regModelMethodScores"
   ]
  },
  {
   "cell_type": "code",
   "execution_count": 22,
   "metadata": {
    "pycharm": {
     "name": "#%%\n"
    }
   },
   "outputs": [
    {
     "data": {
      "text/html": [
       "<pre style=\"white-space:pre;overflow-x:auto;line-height:normal;font-family:Menlo,'DejaVu Sans Mono',consolas,'Courier New',monospace\">\n",
       "<span style=\"font-weight: bold\">{</span>\n",
       "<span style=\"color: #7fbf7f; text-decoration-color: #7fbf7f\">│   </span><span style=\"font-weight: bold\">(</span><span style=\"color: #008000; text-decoration-color: #008000\">'1 / Lasso CV'</span>, <span style=\"color: #008000; text-decoration-color: #008000\">'recommenderV1'</span><span style=\"font-weight: bold\">)</span>: <span style=\"color: #008080; text-decoration-color: #008080; font-weight: bold\">35744</span>,\n",
       "<span style=\"color: #7fbf7f; text-decoration-color: #7fbf7f\">│   </span><span style=\"font-weight: bold\">(</span><span style=\"color: #008000; text-decoration-color: #008000\">'1 / Lasso CV'</span>, <span style=\"color: #008000; text-decoration-color: #008000\">'recommenderV1H1'</span><span style=\"font-weight: bold\">)</span>: <span style=\"color: #008080; text-decoration-color: #008080; font-weight: bold\">35850</span>,\n",
       "<span style=\"color: #7fbf7f; text-decoration-color: #7fbf7f\">│   </span><span style=\"color: #808000; text-decoration-color: #808000\">...</span> +<span style=\"color: #008080; text-decoration-color: #008080; font-weight: bold\">86</span>\n",
       "<span style=\"font-weight: bold\">}</span>\n",
       "</pre>\n"
      ],
      "text/plain": [
       "\n",
       "\u001b[1m{\u001b[0m\n",
       "\u001b[2;32m│   \u001b[0m\u001b[1m(\u001b[0m\u001b[32m'1 / Lasso CV'\u001b[0m, \u001b[32m'recommenderV1'\u001b[0m\u001b[1m)\u001b[0m: \u001b[1;36m35744\u001b[0m,\n",
       "\u001b[2;32m│   \u001b[0m\u001b[1m(\u001b[0m\u001b[32m'1 / Lasso CV'\u001b[0m, \u001b[32m'recommenderV1H1'\u001b[0m\u001b[1m)\u001b[0m: \u001b[1;36m35850\u001b[0m,\n",
       "\u001b[2;32m│   \u001b[0m\u001b[33m...\u001b[0m +\u001b[1;36m86\u001b[0m\n",
       "\u001b[1m}\u001b[0m\n"
      ]
     },
     "metadata": {},
     "output_type": "display_data"
    }
   ],
   "source": [
    "regModelMethodScores10P"
   ]
  },
  {
   "cell_type": "code",
   "execution_count": 23,
   "metadata": {
    "pycharm": {
     "name": "#%%\n"
    }
   },
   "outputs": [],
   "source": [
    "regModelMethodScoresDF = pds.DataFrame(index=regModels, columns=methods, dtype=float)\n",
    "for rm, s in regModelMethodScores.items():\n",
    "    rM, meth = rm\n",
    "    regModelMethodScoresDF.loc[rM, meth] = s"
   ]
  },
  {
   "cell_type": "code",
   "execution_count": 24,
   "metadata": {
    "pycharm": {
     "name": "#%%\n"
    }
   },
   "outputs": [
    {
     "data": {
      "text/html": [
       "<div>\n",
       "<style scoped>\n",
       "    .dataframe tbody tr th:only-of-type {\n",
       "        vertical-align: middle;\n",
       "    }\n",
       "\n",
       "    .dataframe tbody tr th {\n",
       "        vertical-align: top;\n",
       "    }\n",
       "\n",
       "    .dataframe thead th {\n",
       "        text-align: right;\n",
       "    }\n",
       "</style>\n",
       "<table border=\"1\" class=\"dataframe\">\n",
       "  <thead>\n",
       "    <tr style=\"text-align: right;\">\n",
       "      <th></th>\n",
       "      <th>recommenderV1</th>\n",
       "      <th>recommenderV1H1</th>\n",
       "      <th>recommenderV1H2</th>\n",
       "      <th>recommenderV1H3</th>\n",
       "      <th>recommenderV2</th>\n",
       "      <th>recommenderV2H1</th>\n",
       "      <th>recommenderV2H2</th>\n",
       "      <th>recommenderV2H3</th>\n",
       "    </tr>\n",
       "  </thead>\n",
       "  <tbody>\n",
       "    <tr>\n",
       "      <th>5 / Ordinary Least Squares</th>\n",
       "      <td>25731.0</td>\n",
       "      <td>27353.0</td>\n",
       "      <td>27353.0</td>\n",
       "      <td>28508.0</td>\n",
       "      <td>9615.0</td>\n",
       "      <td>9903.0</td>\n",
       "      <td>9903.0</td>\n",
       "      <td>9654.0</td>\n",
       "    </tr>\n",
       "    <tr>\n",
       "      <th>3 / Ridge</th>\n",
       "      <td>9628.0</td>\n",
       "      <td>10563.0</td>\n",
       "      <td>10563.0</td>\n",
       "      <td>11010.0</td>\n",
       "      <td>6874.0</td>\n",
       "      <td>6824.0</td>\n",
       "      <td>6824.0</td>\n",
       "      <td>6643.0</td>\n",
       "    </tr>\n",
       "    <tr>\n",
       "      <th>3 / SVR - linear</th>\n",
       "      <td>5818.0</td>\n",
       "      <td>6311.0</td>\n",
       "      <td>6311.0</td>\n",
       "      <td>6909.0</td>\n",
       "      <td>5492.0</td>\n",
       "      <td>5875.0</td>\n",
       "      <td>5875.0</td>\n",
       "      <td>5797.0</td>\n",
       "    </tr>\n",
       "    <tr>\n",
       "      <th>3 / Elastic Net CV</th>\n",
       "      <td>7031.0</td>\n",
       "      <td>6694.0</td>\n",
       "      <td>6694.0</td>\n",
       "      <td>6641.0</td>\n",
       "      <td>5087.0</td>\n",
       "      <td>5512.0</td>\n",
       "      <td>5512.0</td>\n",
       "      <td>5272.0</td>\n",
       "    </tr>\n",
       "    <tr>\n",
       "      <th>2 / Ridge CV</th>\n",
       "      <td>5328.0</td>\n",
       "      <td>5502.0</td>\n",
       "      <td>5502.0</td>\n",
       "      <td>5439.0</td>\n",
       "      <td>5277.0</td>\n",
       "      <td>5668.0</td>\n",
       "      <td>5668.0</td>\n",
       "      <td>5445.0</td>\n",
       "    </tr>\n",
       "    <tr>\n",
       "      <th>1 / Ordinary Least Squares</th>\n",
       "      <td>5369.0</td>\n",
       "      <td>5422.0</td>\n",
       "      <td>5422.0</td>\n",
       "      <td>5116.0</td>\n",
       "      <td>4605.0</td>\n",
       "      <td>5089.0</td>\n",
       "      <td>5089.0</td>\n",
       "      <td>4854.0</td>\n",
       "    </tr>\n",
       "    <tr>\n",
       "      <th>1 / Lasso CV</th>\n",
       "      <td>5346.0</td>\n",
       "      <td>5516.0</td>\n",
       "      <td>5516.0</td>\n",
       "      <td>5329.0</td>\n",
       "      <td>4467.0</td>\n",
       "      <td>4961.0</td>\n",
       "      <td>4961.0</td>\n",
       "      <td>4766.0</td>\n",
       "    </tr>\n",
       "    <tr>\n",
       "      <th>1 / SVR - linear</th>\n",
       "      <td>4731.0</td>\n",
       "      <td>5343.0</td>\n",
       "      <td>5343.0</td>\n",
       "      <td>5141.0</td>\n",
       "      <td>4179.0</td>\n",
       "      <td>4546.0</td>\n",
       "      <td>4546.0</td>\n",
       "      <td>4344.0</td>\n",
       "    </tr>\n",
       "    <tr>\n",
       "      <th>3 / Elastic Net</th>\n",
       "      <td>5347.0</td>\n",
       "      <td>4954.0</td>\n",
       "      <td>4954.0</td>\n",
       "      <td>4851.0</td>\n",
       "      <td>3742.0</td>\n",
       "      <td>4000.0</td>\n",
       "      <td>4000.0</td>\n",
       "      <td>3851.0</td>\n",
       "    </tr>\n",
       "    <tr>\n",
       "      <th>1 / Elastic Net</th>\n",
       "      <td>3789.0</td>\n",
       "      <td>4030.0</td>\n",
       "      <td>4030.0</td>\n",
       "      <td>4232.0</td>\n",
       "      <td>2613.0</td>\n",
       "      <td>2895.0</td>\n",
       "      <td>2895.0</td>\n",
       "      <td>2833.0</td>\n",
       "    </tr>\n",
       "    <tr>\n",
       "      <th>4 / Passive Aggressive</th>\n",
       "      <td>4786.0</td>\n",
       "      <td>4596.0</td>\n",
       "      <td>4596.0</td>\n",
       "      <td>4877.0</td>\n",
       "      <td>2888.0</td>\n",
       "      <td>3024.0</td>\n",
       "      <td>3024.0</td>\n",
       "      <td>2928.0</td>\n",
       "    </tr>\n",
       "  </tbody>\n",
       "</table>\n",
       "</div>"
      ]
     },
     "execution_count": 24,
     "metadata": {},
     "output_type": "execute_result"
    }
   ],
   "source": [
    "regModelMethodScoresDF"
   ]
  },
  {
   "cell_type": "code",
   "execution_count": 25,
   "metadata": {
    "pycharm": {
     "name": "#%%\n"
    }
   },
   "outputs": [
    {
     "data": {
      "image/png": "[encoded data removed]"
     },
     "metadata": {},
     "output_type": "display_data"
    }
   ],
   "source": [
    "# normalize\n",
    "total = 50_000\n",
    "tmp = regModelMethodScoresDF.transform(lambda x: 100*x/total)\n",
    "#\n",
    "ax = sns.heatmap(tmp,\n",
    "                 cmap=\"Spectral\",\n",
    "                 xticklabels=[c.replace(\"recommender\", \"\") for c in regModelMethodScoresDF.columns],\n",
    "                 cbar_kws={\"label\":\"Percent equal to best time\"},\n",
    "                 vmin=0,\n",
    "                 vmax=100,\n",
    "                 annot=True,\n",
    "                 robust=True)\n",
    "plt.xlabel(\"Scheduling Method\")\n",
    "plt.ylabel(\"Degree / Regression Model\")\n",
    "fig = ax.get_figure()\n",
    "save_plot(fig, \"heatmapBIS\", bbox_inches=\"tight\")\n",
    "plt.show()"
   ]
  },
  {
   "cell_type": "code",
   "execution_count": 26,
   "metadata": {
    "pycharm": {
     "name": "#%%\n"
    }
   },
   "outputs": [],
   "source": [
    "regModelMethodScores10PDF = pds.DataFrame(index=regModels, columns=methods, dtype=float)\n",
    "for rm, s in regModelMethodScores10P.items():\n",
    "    rM, meth = rm\n",
    "    regModelMethodScores10PDF.loc[rM, meth] = s"
   ]
  },
  {
   "cell_type": "code",
   "execution_count": 27,
   "metadata": {
    "pycharm": {
     "name": "#%%\n"
    }
   },
   "outputs": [
    {
     "data": {
      "text/html": [
       "<div>\n",
       "<style scoped>\n",
       "    .dataframe tbody tr th:only-of-type {\n",
       "        vertical-align: middle;\n",
       "    }\n",
       "\n",
       "    .dataframe tbody tr th {\n",
       "        vertical-align: top;\n",
       "    }\n",
       "\n",
       "    .dataframe thead th {\n",
       "        text-align: right;\n",
       "    }\n",
       "</style>\n",
       "<table border=\"1\" class=\"dataframe\">\n",
       "  <thead>\n",
       "    <tr style=\"text-align: right;\">\n",
       "      <th></th>\n",
       "      <th>recommenderV1</th>\n",
       "      <th>recommenderV1H1</th>\n",
       "      <th>recommenderV1H2</th>\n",
       "      <th>recommenderV1H3</th>\n",
       "      <th>recommenderV2</th>\n",
       "      <th>recommenderV2H1</th>\n",
       "      <th>recommenderV2H2</th>\n",
       "      <th>recommenderV2H3</th>\n",
       "    </tr>\n",
       "  </thead>\n",
       "  <tbody>\n",
       "    <tr>\n",
       "      <th>5 / Ordinary Least Squares</th>\n",
       "      <td>43509.0</td>\n",
       "      <td>43304.0</td>\n",
       "      <td>43304.0</td>\n",
       "      <td>44438.0</td>\n",
       "      <td>37449.0</td>\n",
       "      <td>36687.0</td>\n",
       "      <td>36687.0</td>\n",
       "      <td>36050.0</td>\n",
       "    </tr>\n",
       "    <tr>\n",
       "      <th>3 / Ridge</th>\n",
       "      <td>42956.0</td>\n",
       "      <td>42587.0</td>\n",
       "      <td>42587.0</td>\n",
       "      <td>43463.0</td>\n",
       "      <td>37101.0</td>\n",
       "      <td>35902.0</td>\n",
       "      <td>35902.0</td>\n",
       "      <td>34888.0</td>\n",
       "    </tr>\n",
       "    <tr>\n",
       "      <th>3 / SVR - linear</th>\n",
       "      <td>38292.0</td>\n",
       "      <td>39259.0</td>\n",
       "      <td>39259.0</td>\n",
       "      <td>40567.0</td>\n",
       "      <td>35636.0</td>\n",
       "      <td>34450.0</td>\n",
       "      <td>34450.0</td>\n",
       "      <td>33553.0</td>\n",
       "    </tr>\n",
       "    <tr>\n",
       "      <th>3 / Elastic Net CV</th>\n",
       "      <td>38136.0</td>\n",
       "      <td>38746.0</td>\n",
       "      <td>38746.0</td>\n",
       "      <td>39246.0</td>\n",
       "      <td>34599.0</td>\n",
       "      <td>34365.0</td>\n",
       "      <td>34365.0</td>\n",
       "      <td>32863.0</td>\n",
       "    </tr>\n",
       "    <tr>\n",
       "      <th>2 / Ridge CV</th>\n",
       "      <td>37002.0</td>\n",
       "      <td>38431.0</td>\n",
       "      <td>38431.0</td>\n",
       "      <td>38518.0</td>\n",
       "      <td>35209.0</td>\n",
       "      <td>35127.0</td>\n",
       "      <td>35127.0</td>\n",
       "      <td>33285.0</td>\n",
       "    </tr>\n",
       "    <tr>\n",
       "      <th>1 / Ordinary Least Squares</th>\n",
       "      <td>33601.0</td>\n",
       "      <td>34683.0</td>\n",
       "      <td>34683.0</td>\n",
       "      <td>34709.0</td>\n",
       "      <td>33180.0</td>\n",
       "      <td>33224.0</td>\n",
       "      <td>33224.0</td>\n",
       "      <td>31051.0</td>\n",
       "    </tr>\n",
       "    <tr>\n",
       "      <th>1 / Lasso CV</th>\n",
       "      <td>35744.0</td>\n",
       "      <td>35850.0</td>\n",
       "      <td>35850.0</td>\n",
       "      <td>35905.0</td>\n",
       "      <td>32357.0</td>\n",
       "      <td>32831.0</td>\n",
       "      <td>32831.0</td>\n",
       "      <td>30720.0</td>\n",
       "    </tr>\n",
       "    <tr>\n",
       "      <th>1 / SVR - linear</th>\n",
       "      <td>33344.0</td>\n",
       "      <td>34826.0</td>\n",
       "      <td>34826.0</td>\n",
       "      <td>34813.0</td>\n",
       "      <td>32533.0</td>\n",
       "      <td>32668.0</td>\n",
       "      <td>32668.0</td>\n",
       "      <td>30441.0</td>\n",
       "    </tr>\n",
       "    <tr>\n",
       "      <th>3 / Elastic Net</th>\n",
       "      <td>34241.0</td>\n",
       "      <td>33357.0</td>\n",
       "      <td>33357.0</td>\n",
       "      <td>33455.0</td>\n",
       "      <td>30570.0</td>\n",
       "      <td>29937.0</td>\n",
       "      <td>29937.0</td>\n",
       "      <td>27852.0</td>\n",
       "    </tr>\n",
       "    <tr>\n",
       "      <th>1 / Elastic Net</th>\n",
       "      <td>30086.0</td>\n",
       "      <td>30887.0</td>\n",
       "      <td>30887.0</td>\n",
       "      <td>30790.0</td>\n",
       "      <td>27218.0</td>\n",
       "      <td>26728.0</td>\n",
       "      <td>26728.0</td>\n",
       "      <td>25694.0</td>\n",
       "    </tr>\n",
       "    <tr>\n",
       "      <th>4 / Passive Aggressive</th>\n",
       "      <td>30860.0</td>\n",
       "      <td>29533.0</td>\n",
       "      <td>29533.0</td>\n",
       "      <td>30166.0</td>\n",
       "      <td>26517.0</td>\n",
       "      <td>25167.0</td>\n",
       "      <td>25167.0</td>\n",
       "      <td>24698.0</td>\n",
       "    </tr>\n",
       "  </tbody>\n",
       "</table>\n",
       "</div>"
      ]
     },
     "execution_count": 27,
     "metadata": {},
     "output_type": "execute_result"
    }
   ],
   "source": [
    "regModelMethodScores10PDF"
   ]
  },
  {
   "cell_type": "code",
   "execution_count": 28,
   "metadata": {
    "pycharm": {
     "name": "#%%\n"
    },
    "tags": []
   },
   "outputs": [
    {
     "data": {
      "image/png": "[encoded data removed]"
     },
     "metadata": {},
     "output_type": "display_data"
    }
   ],
   "source": [
    "# normalize\n",
    "total = 50_000\n",
    "tmp = regModelMethodScores10PDF.transform(lambda x: 100*x/total)\n",
    "#\n",
    "ax = sns.heatmap(tmp,\n",
    "                 cmap=\"Spectral\",\n",
    "                 xticklabels=[c.replace(\"recommender\", \"\") for c in regModelMethodScores10PDF.columns],\n",
    "                 cbar_kws={\"label\":\"Percent within 10% of best time\"},\n",
    "                 vmin=0,\n",
    "                 vmax=100,\n",
    "                 annot=True,\n",
    "                 robust=True)\n",
    "plt.xlabel(\"Scheduling Method\")\n",
    "plt.ylabel(\"Degree / Regression Model\")\n",
    "fig = ax.get_figure()\n",
    "save_plot(fig, \"heatmap10P\", bbox_inches=\"tight\")\n",
    "plt.show()"
   ]
  },
  {
   "cell_type": "markdown",
   "metadata": {},
   "source": [
    "------"
   ]
  },
  {
   "cell_type": "code",
   "execution_count": 29,
   "metadata": {
    "pycharm": {
     "name": "#%%\n"
    }
   },
   "outputs": [],
   "source": [
    "tmp = cvBigtable[cvBigtable.regModel != \"N/A\"]\n",
    "clusters = tmp.cluster.unique()\n",
    "regModels = tmp.regModel.unique()\n",
    "methods = tmp.method.unique()\n",
    "del tmp"
   ]
  },
  {
   "cell_type": "code",
   "execution_count": 30,
   "metadata": {
    "pycharm": {
     "name": "#%%\n"
    },
    "tags": []
   },
   "outputs": [],
   "source": [
    "confs = dict()\n",
    "with open(\"percentileCVModels\",\"r\") as f:\n",
    "    for fName in f:\n",
    "        with open(fName.strip(), \"br\") as f2:\n",
    "            l:PickleOut = pickle.load(f2)\n",
    "            m = re.match(\"(?:.*/)*(.*)\\.(.*)_CV-(.*)_U-(.*).pickle\",fName.strip())\n",
    "            key = f\"{l.polyDeg} / {shortToLongNameLUT[m.group(2)]}\"\n",
    "            p  = confs.get(key, list())\n",
    "            confs[key] = p + [commons.jamGeomean([l.train_confidence, l.test_confidence, l.full_confidence])]\n",
    "for k, l in confs.items():\n",
    "    confs[k] = commons.jamGeomean(l)\n",
    "            "
   ]
  },
  {
   "cell_type": "code",
   "execution_count": 31,
   "metadata": {
    "pycharm": {
     "name": "#%%\n"
    }
   },
   "outputs": [
    {
     "data": {
      "text/html": [
       "<pre style=\"white-space:pre;overflow-x:auto;line-height:normal;font-family:Menlo,'DejaVu Sans Mono',consolas,'Courier New',monospace\"><span style=\"font-weight: bold\">{</span>\n",
       "<span style=\"color: #7fbf7f; text-decoration-color: #7fbf7f\">│   </span><span style=\"color: #008000; text-decoration-color: #008000\">'1 / SVR - rbf'</span>: <span style=\"color: #008080; text-decoration-color: #008080; font-weight: bold\">0.8387889322997693</span>,\n",
       "<span style=\"color: #7fbf7f; text-decoration-color: #7fbf7f\">│   </span><span style=\"color: #008000; text-decoration-color: #008000\">'1 / Stochastic Gradient Descent'</span>: <span style=\"color: #008080; text-decoration-color: #008080; font-weight: bold\">0.7855591233166146</span>,\n",
       "<span style=\"color: #7fbf7f; text-decoration-color: #7fbf7f\">│   </span><span style=\"color: #008000; text-decoration-color: #008000\">'3 / SVR - rbf'</span>: <span style=\"color: #008080; text-decoration-color: #008080; font-weight: bold\">0.46743515455075557</span>\n",
       "<span style=\"font-weight: bold\">}</span>\n",
       "</pre>\n"
      ],
      "text/plain": [
       "\u001b[1m{\u001b[0m\n",
       "\u001b[2;32m│   \u001b[0m\u001b[32m'1 / SVR - rbf'\u001b[0m: \u001b[1;36m0.8387889322997693\u001b[0m,\n",
       "\u001b[2;32m│   \u001b[0m\u001b[32m'1 / Stochastic Gradient Descent'\u001b[0m: \u001b[1;36m0.7855591233166146\u001b[0m,\n",
       "\u001b[2;32m│   \u001b[0m\u001b[32m'3 / SVR - rbf'\u001b[0m: \u001b[1;36m0.46743515455075557\u001b[0m\n",
       "\u001b[1m}\u001b[0m\n"
      ]
     },
     "metadata": {},
     "output_type": "display_data"
    }
   ],
   "source": [
    "pprint(confs)"
   ]
  },
  {
   "cell_type": "code",
   "execution_count": 32,
   "metadata": {
    "pycharm": {
     "name": "#%%\n"
    },
    "tags": []
   },
   "outputs": [],
   "source": [
    "regModels = sorted(regModels, key=lambda x: confs[x], reverse=True)"
   ]
  },
  {
   "cell_type": "code",
   "execution_count": 33,
   "metadata": {},
   "outputs": [
    {
     "data": {
      "text/html": [
       "<pre style=\"white-space:pre;overflow-x:auto;line-height:normal;font-family:Menlo,'DejaVu Sans Mono',consolas,'Courier New',monospace\"><span style=\"font-weight: bold\">[</span><span style=\"color: #008000; text-decoration-color: #008000\">'1 / SVR - rbf'</span>, <span style=\"color: #008000; text-decoration-color: #008000\">'1 / Stochastic Gradient Descent'</span>, <span style=\"color: #008000; text-decoration-color: #008000\">'3 / SVR - rbf'</span><span style=\"font-weight: bold\">]</span>\n",
       "</pre>\n"
      ],
      "text/plain": [
       "\u001b[1m[\u001b[0m\u001b[32m'1 / SVR - rbf'\u001b[0m, \u001b[32m'1 / Stochastic Gradient Descent'\u001b[0m, \u001b[32m'3 / SVR - rbf'\u001b[0m\u001b[1m]\u001b[0m\n"
      ]
     },
     "metadata": {},
     "output_type": "display_data"
    }
   ],
   "source": [
    "pprint(regModels)"
   ]
  },
  {
   "cell_type": "code",
   "execution_count": 34,
   "metadata": {
    "pycharm": {
     "name": "#%%\n"
    }
   },
   "outputs": [
    {
     "data": {
      "text/html": [
       "<pre style=\"white-space:pre;overflow-x:auto;line-height:normal;font-family:Menlo,'DejaVu Sans Mono',consolas,'Courier New',monospace\"><span style=\"color: #7fbfbf; text-decoration-color: #7fbfbf\">[23:24:20] </span><span style=\"color: #008080; text-decoration-color: #008080; font-weight: bold\">1</span>                                                                  <a href=\"file:///tmp/ipykernel_37830/4193304240.py\"><span style=\"color: #7f7f7f; text-decoration-color: #7f7f7f\">4193304240.py</span></a><span style=\"color: #7f7f7f; text-decoration-color: #7f7f7f\">:5</span>\n",
       "           <span style=\"font-weight: bold\">(</span><span style=\"color: #008000; text-decoration-color: #008000\">'chipseq'</span>, <span style=\"color: #008000; text-decoration-color: #008000\">'eager'</span><span style=\"font-weight: bold\">)</span>                                                              \n",
       "</pre>\n"
      ],
      "text/plain": [
       "\u001b[2;36m[23:24:20]\u001b[0m\u001b[2;36m \u001b[0m\u001b[1;36m1\u001b[0m                                                                  \u001b]8;id=820259;file:///tmp/ipykernel_37830/4193304240.py\u001b\\\u001b[2m4193304240.py\u001b[0m\u001b]8;;\u001b\\\u001b[2m:5\u001b[0m\n",
       "           \u001b[1m(\u001b[0m\u001b[32m'chipseq'\u001b[0m, \u001b[32m'eager'\u001b[0m\u001b[1m)\u001b[0m                                                              \n"
      ]
     },
     "metadata": {},
     "output_type": "display_data"
    },
    {
     "data": {
      "text/html": [
       "<pre style=\"white-space:pre;overflow-x:auto;line-height:normal;font-family:Menlo,'DejaVu Sans Mono',consolas,'Courier New',monospace\"><span style=\"color: #7fbfbf; text-decoration-color: #7fbfbf\">           </span><span style=\"color: #008080; text-decoration-color: #008080; font-weight: bold\">2</span>                                                                  <a href=\"file:///tmp/ipykernel_37830/4193304240.py\"><span style=\"color: #7f7f7f; text-decoration-color: #7f7f7f\">4193304240.py</span></a><span style=\"color: #7f7f7f; text-decoration-color: #7f7f7f\">:5</span>\n",
       "           <span style=\"font-weight: bold\">(</span><span style=\"color: #008000; text-decoration-color: #008000\">'chipseq'</span>, <span style=\"color: #008000; text-decoration-color: #008000\">'methylseq'</span><span style=\"font-weight: bold\">)</span>                                                          \n",
       "</pre>\n"
      ],
      "text/plain": [
       "\u001b[2;36m          \u001b[0m\u001b[2;36m \u001b[0m\u001b[1;36m2\u001b[0m                                                                  \u001b]8;id=167393;file:///tmp/ipykernel_37830/4193304240.py\u001b\\\u001b[2m4193304240.py\u001b[0m\u001b]8;;\u001b\\\u001b[2m:5\u001b[0m\n",
       "           \u001b[1m(\u001b[0m\u001b[32m'chipseq'\u001b[0m, \u001b[32m'methylseq'\u001b[0m\u001b[1m)\u001b[0m                                                          \n"
      ]
     },
     "metadata": {},
     "output_type": "display_data"
    },
    {
     "data": {
      "text/html": [
       "<pre style=\"white-space:pre;overflow-x:auto;line-height:normal;font-family:Menlo,'DejaVu Sans Mono',consolas,'Courier New',monospace\"><span style=\"color: #7fbfbf; text-decoration-color: #7fbfbf\">           </span><span style=\"color: #008080; text-decoration-color: #008080; font-weight: bold\">3</span>                                                                  <a href=\"file:///tmp/ipykernel_37830/4193304240.py\"><span style=\"color: #7f7f7f; text-decoration-color: #7f7f7f\">4193304240.py</span></a><span style=\"color: #7f7f7f; text-decoration-color: #7f7f7f\">:5</span>\n",
       "           <span style=\"font-weight: bold\">(</span><span style=\"color: #008000; text-decoration-color: #008000\">'chipseq'</span>, <span style=\"color: #008000; text-decoration-color: #008000\">'sarek'</span><span style=\"font-weight: bold\">)</span>                                                              \n",
       "</pre>\n"
      ],
      "text/plain": [
       "\u001b[2;36m          \u001b[0m\u001b[2;36m \u001b[0m\u001b[1;36m3\u001b[0m                                                                  \u001b]8;id=846986;file:///tmp/ipykernel_37830/4193304240.py\u001b\\\u001b[2m4193304240.py\u001b[0m\u001b]8;;\u001b\\\u001b[2m:5\u001b[0m\n",
       "           \u001b[1m(\u001b[0m\u001b[32m'chipseq'\u001b[0m, \u001b[32m'sarek'\u001b[0m\u001b[1m)\u001b[0m                                                              \n"
      ]
     },
     "metadata": {},
     "output_type": "display_data"
    },
    {
     "data": {
      "text/html": [
       "<pre style=\"white-space:pre;overflow-x:auto;line-height:normal;font-family:Menlo,'DejaVu Sans Mono',consolas,'Courier New',monospace\"><span style=\"color: #7fbfbf; text-decoration-color: #7fbfbf\">           </span><span style=\"color: #008080; text-decoration-color: #008080; font-weight: bold\">4</span>                                                                  <a href=\"file:///tmp/ipykernel_37830/4193304240.py\"><span style=\"color: #7f7f7f; text-decoration-color: #7f7f7f\">4193304240.py</span></a><span style=\"color: #7f7f7f; text-decoration-color: #7f7f7f\">:5</span>\n",
       "           <span style=\"font-weight: bold\">(</span><span style=\"color: #008000; text-decoration-color: #008000\">'chipseq'</span>, <span style=\"color: #008000; text-decoration-color: #008000\">'viralrecon'</span><span style=\"font-weight: bold\">)</span>                                                         \n",
       "</pre>\n"
      ],
      "text/plain": [
       "\u001b[2;36m          \u001b[0m\u001b[2;36m \u001b[0m\u001b[1;36m4\u001b[0m                                                                  \u001b]8;id=457421;file:///tmp/ipykernel_37830/4193304240.py\u001b\\\u001b[2m4193304240.py\u001b[0m\u001b]8;;\u001b\\\u001b[2m:5\u001b[0m\n",
       "           \u001b[1m(\u001b[0m\u001b[32m'chipseq'\u001b[0m, \u001b[32m'viralrecon'\u001b[0m\u001b[1m)\u001b[0m                                                         \n"
      ]
     },
     "metadata": {},
     "output_type": "display_data"
    },
    {
     "data": {
      "text/html": [
       "<pre style=\"white-space:pre;overflow-x:auto;line-height:normal;font-family:Menlo,'DejaVu Sans Mono',consolas,'Courier New',monospace\"><span style=\"color: #7fbfbf; text-decoration-color: #7fbfbf\">           </span><span style=\"color: #008080; text-decoration-color: #008080; font-weight: bold\">5</span>                                                                  <a href=\"file:///tmp/ipykernel_37830/4193304240.py\"><span style=\"color: #7f7f7f; text-decoration-color: #7f7f7f\">4193304240.py</span></a><span style=\"color: #7f7f7f; text-decoration-color: #7f7f7f\">:5</span>\n",
       "           <span style=\"font-weight: bold\">(</span><span style=\"color: #008000; text-decoration-color: #008000\">'eager'</span>, <span style=\"color: #008000; text-decoration-color: #008000\">'chipseq'</span><span style=\"font-weight: bold\">)</span>                                                              \n",
       "</pre>\n"
      ],
      "text/plain": [
       "\u001b[2;36m          \u001b[0m\u001b[2;36m \u001b[0m\u001b[1;36m5\u001b[0m                                                                  \u001b]8;id=31774;file:///tmp/ipykernel_37830/4193304240.py\u001b\\\u001b[2m4193304240.py\u001b[0m\u001b]8;;\u001b\\\u001b[2m:5\u001b[0m\n",
       "           \u001b[1m(\u001b[0m\u001b[32m'eager'\u001b[0m, \u001b[32m'chipseq'\u001b[0m\u001b[1m)\u001b[0m                                                              \n"
      ]
     },
     "metadata": {},
     "output_type": "display_data"
    },
    {
     "data": {
      "text/html": [
       "<pre style=\"white-space:pre;overflow-x:auto;line-height:normal;font-family:Menlo,'DejaVu Sans Mono',consolas,'Courier New',monospace\"><span style=\"color: #7fbfbf; text-decoration-color: #7fbfbf\">           </span><span style=\"color: #008080; text-decoration-color: #008080; font-weight: bold\">6</span>                                                                  <a href=\"file:///tmp/ipykernel_37830/4193304240.py\"><span style=\"color: #7f7f7f; text-decoration-color: #7f7f7f\">4193304240.py</span></a><span style=\"color: #7f7f7f; text-decoration-color: #7f7f7f\">:5</span>\n",
       "           <span style=\"font-weight: bold\">(</span><span style=\"color: #008000; text-decoration-color: #008000\">'eager'</span>, <span style=\"color: #008000; text-decoration-color: #008000\">'methylseq'</span><span style=\"font-weight: bold\">)</span>                                                            \n",
       "</pre>\n"
      ],
      "text/plain": [
       "\u001b[2;36m          \u001b[0m\u001b[2;36m \u001b[0m\u001b[1;36m6\u001b[0m                                                                  \u001b]8;id=23878;file:///tmp/ipykernel_37830/4193304240.py\u001b\\\u001b[2m4193304240.py\u001b[0m\u001b]8;;\u001b\\\u001b[2m:5\u001b[0m\n",
       "           \u001b[1m(\u001b[0m\u001b[32m'eager'\u001b[0m, \u001b[32m'methylseq'\u001b[0m\u001b[1m)\u001b[0m                                                            \n"
      ]
     },
     "metadata": {},
     "output_type": "display_data"
    },
    {
     "data": {
      "text/html": [
       "<pre style=\"white-space:pre;overflow-x:auto;line-height:normal;font-family:Menlo,'DejaVu Sans Mono',consolas,'Courier New',monospace\"><span style=\"color: #7fbfbf; text-decoration-color: #7fbfbf\">[23:24:21] </span><span style=\"color: #008080; text-decoration-color: #008080; font-weight: bold\">7</span>                                                                  <a href=\"file:///tmp/ipykernel_37830/4193304240.py\"><span style=\"color: #7f7f7f; text-decoration-color: #7f7f7f\">4193304240.py</span></a><span style=\"color: #7f7f7f; text-decoration-color: #7f7f7f\">:5</span>\n",
       "           <span style=\"font-weight: bold\">(</span><span style=\"color: #008000; text-decoration-color: #008000\">'eager'</span>, <span style=\"color: #008000; text-decoration-color: #008000\">'sarek'</span><span style=\"font-weight: bold\">)</span>                                                                \n",
       "</pre>\n"
      ],
      "text/plain": [
       "\u001b[2;36m[23:24:21]\u001b[0m\u001b[2;36m \u001b[0m\u001b[1;36m7\u001b[0m                                                                  \u001b]8;id=267148;file:///tmp/ipykernel_37830/4193304240.py\u001b\\\u001b[2m4193304240.py\u001b[0m\u001b]8;;\u001b\\\u001b[2m:5\u001b[0m\n",
       "           \u001b[1m(\u001b[0m\u001b[32m'eager'\u001b[0m, \u001b[32m'sarek'\u001b[0m\u001b[1m)\u001b[0m                                                                \n"
      ]
     },
     "metadata": {},
     "output_type": "display_data"
    },
    {
     "data": {
      "text/html": [
       "<pre style=\"white-space:pre;overflow-x:auto;line-height:normal;font-family:Menlo,'DejaVu Sans Mono',consolas,'Courier New',monospace\"><span style=\"color: #7fbfbf; text-decoration-color: #7fbfbf\">           </span><span style=\"color: #008080; text-decoration-color: #008080; font-weight: bold\">8</span>                                                                  <a href=\"file:///tmp/ipykernel_37830/4193304240.py\"><span style=\"color: #7f7f7f; text-decoration-color: #7f7f7f\">4193304240.py</span></a><span style=\"color: #7f7f7f; text-decoration-color: #7f7f7f\">:5</span>\n",
       "           <span style=\"font-weight: bold\">(</span><span style=\"color: #008000; text-decoration-color: #008000\">'eager'</span>, <span style=\"color: #008000; text-decoration-color: #008000\">'viralrecon'</span><span style=\"font-weight: bold\">)</span>                                                           \n",
       "</pre>\n"
      ],
      "text/plain": [
       "\u001b[2;36m          \u001b[0m\u001b[2;36m \u001b[0m\u001b[1;36m8\u001b[0m                                                                  \u001b]8;id=138296;file:///tmp/ipykernel_37830/4193304240.py\u001b\\\u001b[2m4193304240.py\u001b[0m\u001b]8;;\u001b\\\u001b[2m:5\u001b[0m\n",
       "           \u001b[1m(\u001b[0m\u001b[32m'eager'\u001b[0m, \u001b[32m'viralrecon'\u001b[0m\u001b[1m)\u001b[0m                                                           \n"
      ]
     },
     "metadata": {},
     "output_type": "display_data"
    },
    {
     "data": {
      "text/html": [
       "<pre style=\"white-space:pre;overflow-x:auto;line-height:normal;font-family:Menlo,'DejaVu Sans Mono',consolas,'Courier New',monospace\"><span style=\"color: #7fbfbf; text-decoration-color: #7fbfbf\">           </span><span style=\"color: #008080; text-decoration-color: #008080; font-weight: bold\">9</span>                                                                  <a href=\"file:///tmp/ipykernel_37830/4193304240.py\"><span style=\"color: #7f7f7f; text-decoration-color: #7f7f7f\">4193304240.py</span></a><span style=\"color: #7f7f7f; text-decoration-color: #7f7f7f\">:5</span>\n",
       "           <span style=\"font-weight: bold\">(</span><span style=\"color: #008000; text-decoration-color: #008000\">'methylseq'</span>, <span style=\"color: #008000; text-decoration-color: #008000\">'chipseq'</span><span style=\"font-weight: bold\">)</span>                                                          \n",
       "</pre>\n"
      ],
      "text/plain": [
       "\u001b[2;36m          \u001b[0m\u001b[2;36m \u001b[0m\u001b[1;36m9\u001b[0m                                                                  \u001b]8;id=386783;file:///tmp/ipykernel_37830/4193304240.py\u001b\\\u001b[2m4193304240.py\u001b[0m\u001b]8;;\u001b\\\u001b[2m:5\u001b[0m\n",
       "           \u001b[1m(\u001b[0m\u001b[32m'methylseq'\u001b[0m, \u001b[32m'chipseq'\u001b[0m\u001b[1m)\u001b[0m                                                          \n"
      ]
     },
     "metadata": {},
     "output_type": "display_data"
    },
    {
     "data": {
      "text/html": [
       "<pre style=\"white-space:pre;overflow-x:auto;line-height:normal;font-family:Menlo,'DejaVu Sans Mono',consolas,'Courier New',monospace\"><span style=\"color: #7fbfbf; text-decoration-color: #7fbfbf\">           </span><span style=\"color: #008080; text-decoration-color: #008080; font-weight: bold\">10</span>                                                                 <a href=\"file:///tmp/ipykernel_37830/4193304240.py\"><span style=\"color: #7f7f7f; text-decoration-color: #7f7f7f\">4193304240.py</span></a><span style=\"color: #7f7f7f; text-decoration-color: #7f7f7f\">:5</span>\n",
       "           <span style=\"font-weight: bold\">(</span><span style=\"color: #008000; text-decoration-color: #008000\">'methylseq'</span>, <span style=\"color: #008000; text-decoration-color: #008000\">'eager'</span><span style=\"font-weight: bold\">)</span>                                                            \n",
       "</pre>\n"
      ],
      "text/plain": [
       "\u001b[2;36m          \u001b[0m\u001b[2;36m \u001b[0m\u001b[1;36m10\u001b[0m                                                                 \u001b]8;id=263608;file:///tmp/ipykernel_37830/4193304240.py\u001b\\\u001b[2m4193304240.py\u001b[0m\u001b]8;;\u001b\\\u001b[2m:5\u001b[0m\n",
       "           \u001b[1m(\u001b[0m\u001b[32m'methylseq'\u001b[0m, \u001b[32m'eager'\u001b[0m\u001b[1m)\u001b[0m                                                            \n"
      ]
     },
     "metadata": {},
     "output_type": "display_data"
    },
    {
     "data": {
      "text/html": [
       "<pre style=\"white-space:pre;overflow-x:auto;line-height:normal;font-family:Menlo,'DejaVu Sans Mono',consolas,'Courier New',monospace\"><span style=\"color: #7fbfbf; text-decoration-color: #7fbfbf\">           </span><span style=\"color: #008080; text-decoration-color: #008080; font-weight: bold\">11</span>                                                                 <a href=\"file:///tmp/ipykernel_37830/4193304240.py\"><span style=\"color: #7f7f7f; text-decoration-color: #7f7f7f\">4193304240.py</span></a><span style=\"color: #7f7f7f; text-decoration-color: #7f7f7f\">:5</span>\n",
       "           <span style=\"font-weight: bold\">(</span><span style=\"color: #008000; text-decoration-color: #008000\">'methylseq'</span>, <span style=\"color: #008000; text-decoration-color: #008000\">'sarek'</span><span style=\"font-weight: bold\">)</span>                                                            \n",
       "</pre>\n"
      ],
      "text/plain": [
       "\u001b[2;36m          \u001b[0m\u001b[2;36m \u001b[0m\u001b[1;36m11\u001b[0m                                                                 \u001b]8;id=308940;file:///tmp/ipykernel_37830/4193304240.py\u001b\\\u001b[2m4193304240.py\u001b[0m\u001b]8;;\u001b\\\u001b[2m:5\u001b[0m\n",
       "           \u001b[1m(\u001b[0m\u001b[32m'methylseq'\u001b[0m, \u001b[32m'sarek'\u001b[0m\u001b[1m)\u001b[0m                                                            \n"
      ]
     },
     "metadata": {},
     "output_type": "display_data"
    },
    {
     "data": {
      "text/html": [
       "<pre style=\"white-space:pre;overflow-x:auto;line-height:normal;font-family:Menlo,'DejaVu Sans Mono',consolas,'Courier New',monospace\"><span style=\"color: #7fbfbf; text-decoration-color: #7fbfbf\">           </span><span style=\"color: #008080; text-decoration-color: #008080; font-weight: bold\">12</span>                                                                 <a href=\"file:///tmp/ipykernel_37830/4193304240.py\"><span style=\"color: #7f7f7f; text-decoration-color: #7f7f7f\">4193304240.py</span></a><span style=\"color: #7f7f7f; text-decoration-color: #7f7f7f\">:5</span>\n",
       "           <span style=\"font-weight: bold\">(</span><span style=\"color: #008000; text-decoration-color: #008000\">'methylseq'</span>, <span style=\"color: #008000; text-decoration-color: #008000\">'viralrecon'</span><span style=\"font-weight: bold\">)</span>                                                       \n",
       "</pre>\n"
      ],
      "text/plain": [
       "\u001b[2;36m          \u001b[0m\u001b[2;36m \u001b[0m\u001b[1;36m12\u001b[0m                                                                 \u001b]8;id=182178;file:///tmp/ipykernel_37830/4193304240.py\u001b\\\u001b[2m4193304240.py\u001b[0m\u001b]8;;\u001b\\\u001b[2m:5\u001b[0m\n",
       "           \u001b[1m(\u001b[0m\u001b[32m'methylseq'\u001b[0m, \u001b[32m'viralrecon'\u001b[0m\u001b[1m)\u001b[0m                                                       \n"
      ]
     },
     "metadata": {},
     "output_type": "display_data"
    },
    {
     "data": {
      "text/html": [
       "<pre style=\"white-space:pre;overflow-x:auto;line-height:normal;font-family:Menlo,'DejaVu Sans Mono',consolas,'Courier New',monospace\"><span style=\"color: #7fbfbf; text-decoration-color: #7fbfbf\">           </span><span style=\"color: #008080; text-decoration-color: #008080; font-weight: bold\">13</span>                                                                 <a href=\"file:///tmp/ipykernel_37830/4193304240.py\"><span style=\"color: #7f7f7f; text-decoration-color: #7f7f7f\">4193304240.py</span></a><span style=\"color: #7f7f7f; text-decoration-color: #7f7f7f\">:5</span>\n",
       "           <span style=\"font-weight: bold\">(</span><span style=\"color: #008000; text-decoration-color: #008000\">'sarek'</span>, <span style=\"color: #008000; text-decoration-color: #008000\">'chipseq'</span><span style=\"font-weight: bold\">)</span>                                                              \n",
       "</pre>\n"
      ],
      "text/plain": [
       "\u001b[2;36m          \u001b[0m\u001b[2;36m \u001b[0m\u001b[1;36m13\u001b[0m                                                                 \u001b]8;id=959651;file:///tmp/ipykernel_37830/4193304240.py\u001b\\\u001b[2m4193304240.py\u001b[0m\u001b]8;;\u001b\\\u001b[2m:5\u001b[0m\n",
       "           \u001b[1m(\u001b[0m\u001b[32m'sarek'\u001b[0m, \u001b[32m'chipseq'\u001b[0m\u001b[1m)\u001b[0m                                                              \n"
      ]
     },
     "metadata": {},
     "output_type": "display_data"
    },
    {
     "data": {
      "text/html": [
       "<pre style=\"white-space:pre;overflow-x:auto;line-height:normal;font-family:Menlo,'DejaVu Sans Mono',consolas,'Courier New',monospace\"><span style=\"color: #7fbfbf; text-decoration-color: #7fbfbf\">           </span><span style=\"color: #008080; text-decoration-color: #008080; font-weight: bold\">14</span>                                                                 <a href=\"file:///tmp/ipykernel_37830/4193304240.py\"><span style=\"color: #7f7f7f; text-decoration-color: #7f7f7f\">4193304240.py</span></a><span style=\"color: #7f7f7f; text-decoration-color: #7f7f7f\">:5</span>\n",
       "           <span style=\"font-weight: bold\">(</span><span style=\"color: #008000; text-decoration-color: #008000\">'sarek'</span>, <span style=\"color: #008000; text-decoration-color: #008000\">'eager'</span><span style=\"font-weight: bold\">)</span>                                                                \n",
       "</pre>\n"
      ],
      "text/plain": [
       "\u001b[2;36m          \u001b[0m\u001b[2;36m \u001b[0m\u001b[1;36m14\u001b[0m                                                                 \u001b]8;id=773798;file:///tmp/ipykernel_37830/4193304240.py\u001b\\\u001b[2m4193304240.py\u001b[0m\u001b]8;;\u001b\\\u001b[2m:5\u001b[0m\n",
       "           \u001b[1m(\u001b[0m\u001b[32m'sarek'\u001b[0m, \u001b[32m'eager'\u001b[0m\u001b[1m)\u001b[0m                                                                \n"
      ]
     },
     "metadata": {},
     "output_type": "display_data"
    },
    {
     "data": {
      "text/html": [
       "<pre style=\"white-space:pre;overflow-x:auto;line-height:normal;font-family:Menlo,'DejaVu Sans Mono',consolas,'Courier New',monospace\"><span style=\"color: #7fbfbf; text-decoration-color: #7fbfbf\">[23:24:22] </span><span style=\"color: #008080; text-decoration-color: #008080; font-weight: bold\">15</span>                                                                 <a href=\"file:///tmp/ipykernel_37830/4193304240.py\"><span style=\"color: #7f7f7f; text-decoration-color: #7f7f7f\">4193304240.py</span></a><span style=\"color: #7f7f7f; text-decoration-color: #7f7f7f\">:5</span>\n",
       "           <span style=\"font-weight: bold\">(</span><span style=\"color: #008000; text-decoration-color: #008000\">'sarek'</span>, <span style=\"color: #008000; text-decoration-color: #008000\">'methylseq'</span><span style=\"font-weight: bold\">)</span>                                                            \n",
       "</pre>\n"
      ],
      "text/plain": [
       "\u001b[2;36m[23:24:22]\u001b[0m\u001b[2;36m \u001b[0m\u001b[1;36m15\u001b[0m                                                                 \u001b]8;id=432311;file:///tmp/ipykernel_37830/4193304240.py\u001b\\\u001b[2m4193304240.py\u001b[0m\u001b]8;;\u001b\\\u001b[2m:5\u001b[0m\n",
       "           \u001b[1m(\u001b[0m\u001b[32m'sarek'\u001b[0m, \u001b[32m'methylseq'\u001b[0m\u001b[1m)\u001b[0m                                                            \n"
      ]
     },
     "metadata": {},
     "output_type": "display_data"
    },
    {
     "data": {
      "text/html": [
       "<pre style=\"white-space:pre;overflow-x:auto;line-height:normal;font-family:Menlo,'DejaVu Sans Mono',consolas,'Courier New',monospace\"><span style=\"color: #7fbfbf; text-decoration-color: #7fbfbf\">           </span><span style=\"color: #008080; text-decoration-color: #008080; font-weight: bold\">16</span>                                                                 <a href=\"file:///tmp/ipykernel_37830/4193304240.py\"><span style=\"color: #7f7f7f; text-decoration-color: #7f7f7f\">4193304240.py</span></a><span style=\"color: #7f7f7f; text-decoration-color: #7f7f7f\">:5</span>\n",
       "           <span style=\"font-weight: bold\">(</span><span style=\"color: #008000; text-decoration-color: #008000\">'sarek'</span>, <span style=\"color: #008000; text-decoration-color: #008000\">'viralrecon'</span><span style=\"font-weight: bold\">)</span>                                                           \n",
       "</pre>\n"
      ],
      "text/plain": [
       "\u001b[2;36m          \u001b[0m\u001b[2;36m \u001b[0m\u001b[1;36m16\u001b[0m                                                                 \u001b]8;id=949193;file:///tmp/ipykernel_37830/4193304240.py\u001b\\\u001b[2m4193304240.py\u001b[0m\u001b]8;;\u001b\\\u001b[2m:5\u001b[0m\n",
       "           \u001b[1m(\u001b[0m\u001b[32m'sarek'\u001b[0m, \u001b[32m'viralrecon'\u001b[0m\u001b[1m)\u001b[0m                                                           \n"
      ]
     },
     "metadata": {},
     "output_type": "display_data"
    },
    {
     "data": {
      "text/html": [
       "<pre style=\"white-space:pre;overflow-x:auto;line-height:normal;font-family:Menlo,'DejaVu Sans Mono',consolas,'Courier New',monospace\"><span style=\"color: #7fbfbf; text-decoration-color: #7fbfbf\">           </span><span style=\"color: #008080; text-decoration-color: #008080; font-weight: bold\">17</span>                                                                 <a href=\"file:///tmp/ipykernel_37830/4193304240.py\"><span style=\"color: #7f7f7f; text-decoration-color: #7f7f7f\">4193304240.py</span></a><span style=\"color: #7f7f7f; text-decoration-color: #7f7f7f\">:5</span>\n",
       "           <span style=\"font-weight: bold\">(</span><span style=\"color: #008000; text-decoration-color: #008000\">'viralrecon'</span>, <span style=\"color: #008000; text-decoration-color: #008000\">'chipseq'</span><span style=\"font-weight: bold\">)</span>                                                         \n",
       "</pre>\n"
      ],
      "text/plain": [
       "\u001b[2;36m          \u001b[0m\u001b[2;36m \u001b[0m\u001b[1;36m17\u001b[0m                                                                 \u001b]8;id=438397;file:///tmp/ipykernel_37830/4193304240.py\u001b\\\u001b[2m4193304240.py\u001b[0m\u001b]8;;\u001b\\\u001b[2m:5\u001b[0m\n",
       "           \u001b[1m(\u001b[0m\u001b[32m'viralrecon'\u001b[0m, \u001b[32m'chipseq'\u001b[0m\u001b[1m)\u001b[0m                                                         \n"
      ]
     },
     "metadata": {},
     "output_type": "display_data"
    },
    {
     "data": {
      "text/html": [
       "<pre style=\"white-space:pre;overflow-x:auto;line-height:normal;font-family:Menlo,'DejaVu Sans Mono',consolas,'Courier New',monospace\"><span style=\"color: #7fbfbf; text-decoration-color: #7fbfbf\">           </span><span style=\"color: #008080; text-decoration-color: #008080; font-weight: bold\">18</span>                                                                 <a href=\"file:///tmp/ipykernel_37830/4193304240.py\"><span style=\"color: #7f7f7f; text-decoration-color: #7f7f7f\">4193304240.py</span></a><span style=\"color: #7f7f7f; text-decoration-color: #7f7f7f\">:5</span>\n",
       "           <span style=\"font-weight: bold\">(</span><span style=\"color: #008000; text-decoration-color: #008000\">'viralrecon'</span>, <span style=\"color: #008000; text-decoration-color: #008000\">'eager'</span><span style=\"font-weight: bold\">)</span>                                                           \n",
       "</pre>\n"
      ],
      "text/plain": [
       "\u001b[2;36m          \u001b[0m\u001b[2;36m \u001b[0m\u001b[1;36m18\u001b[0m                                                                 \u001b]8;id=116070;file:///tmp/ipykernel_37830/4193304240.py\u001b\\\u001b[2m4193304240.py\u001b[0m\u001b]8;;\u001b\\\u001b[2m:5\u001b[0m\n",
       "           \u001b[1m(\u001b[0m\u001b[32m'viralrecon'\u001b[0m, \u001b[32m'eager'\u001b[0m\u001b[1m)\u001b[0m                                                           \n"
      ]
     },
     "metadata": {},
     "output_type": "display_data"
    },
    {
     "data": {
      "text/html": [
       "<pre style=\"white-space:pre;overflow-x:auto;line-height:normal;font-family:Menlo,'DejaVu Sans Mono',consolas,'Courier New',monospace\"><span style=\"color: #7fbfbf; text-decoration-color: #7fbfbf\">           </span><span style=\"color: #008080; text-decoration-color: #008080; font-weight: bold\">19</span>                                                                 <a href=\"file:///tmp/ipykernel_37830/4193304240.py\"><span style=\"color: #7f7f7f; text-decoration-color: #7f7f7f\">4193304240.py</span></a><span style=\"color: #7f7f7f; text-decoration-color: #7f7f7f\">:5</span>\n",
       "           <span style=\"font-weight: bold\">(</span><span style=\"color: #008000; text-decoration-color: #008000\">'viralrecon'</span>, <span style=\"color: #008000; text-decoration-color: #008000\">'methylseq'</span><span style=\"font-weight: bold\">)</span>                                                       \n",
       "</pre>\n"
      ],
      "text/plain": [
       "\u001b[2;36m          \u001b[0m\u001b[2;36m \u001b[0m\u001b[1;36m19\u001b[0m                                                                 \u001b]8;id=591299;file:///tmp/ipykernel_37830/4193304240.py\u001b\\\u001b[2m4193304240.py\u001b[0m\u001b]8;;\u001b\\\u001b[2m:5\u001b[0m\n",
       "           \u001b[1m(\u001b[0m\u001b[32m'viralrecon'\u001b[0m, \u001b[32m'methylseq'\u001b[0m\u001b[1m)\u001b[0m                                                       \n"
      ]
     },
     "metadata": {},
     "output_type": "display_data"
    },
    {
     "data": {
      "text/html": [
       "<pre style=\"white-space:pre;overflow-x:auto;line-height:normal;font-family:Menlo,'DejaVu Sans Mono',consolas,'Courier New',monospace\"><span style=\"color: #7fbfbf; text-decoration-color: #7fbfbf\">           </span><span style=\"color: #008080; text-decoration-color: #008080; font-weight: bold\">20</span>                                                                 <a href=\"file:///tmp/ipykernel_37830/4193304240.py\"><span style=\"color: #7f7f7f; text-decoration-color: #7f7f7f\">4193304240.py</span></a><span style=\"color: #7f7f7f; text-decoration-color: #7f7f7f\">:5</span>\n",
       "           <span style=\"font-weight: bold\">(</span><span style=\"color: #008000; text-decoration-color: #008000\">'viralrecon'</span>, <span style=\"color: #008000; text-decoration-color: #008000\">'sarek'</span><span style=\"font-weight: bold\">)</span>                                                           \n",
       "</pre>\n"
      ],
      "text/plain": [
       "\u001b[2;36m          \u001b[0m\u001b[2;36m \u001b[0m\u001b[1;36m20\u001b[0m                                                                 \u001b]8;id=978798;file:///tmp/ipykernel_37830/4193304240.py\u001b\\\u001b[2m4193304240.py\u001b[0m\u001b]8;;\u001b\\\u001b[2m:5\u001b[0m\n",
       "           \u001b[1m(\u001b[0m\u001b[32m'viralrecon'\u001b[0m, \u001b[32m'sarek'\u001b[0m\u001b[1m)\u001b[0m                                                           \n"
      ]
     },
     "metadata": {},
     "output_type": "display_data"
    }
   ],
   "source": [
    "cvScores = dict()\n",
    "cv10PScores = dict()\n",
    "j = 1\n",
    "for i, d in cvBigtable[cvBigtable.regModel != \"N/A\"].groupby([\"cvSplit\",\"ukSplit\"]):\n",
    "    rc.log(j, i)\n",
    "    cvScores[i] = getRegModelMethodScores(f\"cvRegModelMethodScores_CV-{i[0]}_U-{i[1]}.pickle\", d.drop([\"cvSplit\",\"ukSplit\"], axis=1))\n",
    "    cv10PScores[i] = getRegModelMethodScores(f\"cvRegModelMethodScores10P_CV-{i[0]}_U-{i[1]}.pickle\", d.drop([\"cvSplit\",\"ukSplit\"], axis=1), tol=lambda cur, mini: 10*mini/100)\n",
    "    j+=1"
   ]
  },
  {
   "cell_type": "code",
   "execution_count": 35,
   "metadata": {
    "pycharm": {
     "name": "#%%\n"
    }
   },
   "outputs": [
    {
     "data": {
      "text/html": [
       "<pre style=\"white-space:pre;overflow-x:auto;line-height:normal;font-family:Menlo,'DejaVu Sans Mono',consolas,'Courier New',monospace\">\n",
       "<span style=\"font-weight: bold\">{</span>\n",
       "<span style=\"color: #7fbf7f; text-decoration-color: #7fbf7f\">│   </span><span style=\"font-weight: bold\">(</span><span style=\"color: #008000; text-decoration-color: #008000\">'chipseq'</span>, <span style=\"color: #008000; text-decoration-color: #008000\">'eager'</span><span style=\"font-weight: bold\">)</span>: <span style=\"font-weight: bold\">{</span>\n",
       "<span style=\"color: #7fbf7f; text-decoration-color: #7fbf7f\">│   │   </span><span style=\"font-weight: bold\">(</span><span style=\"color: #008000; text-decoration-color: #008000\">'1 / SVR - rbf'</span>, <span style=\"color: #008000; text-decoration-color: #008000\">'recommenderV1'</span><span style=\"font-weight: bold\">)</span>: <span style=\"color: #008080; text-decoration-color: #008080; font-weight: bold\">19175</span>,\n",
       "<span style=\"color: #7fbf7f; text-decoration-color: #7fbf7f\">│   │   </span><span style=\"font-weight: bold\">(</span><span style=\"color: #008000; text-decoration-color: #008000\">'1 / SVR - rbf'</span>, <span style=\"color: #008000; text-decoration-color: #008000\">'recommenderV1H1'</span><span style=\"font-weight: bold\">)</span>: <span style=\"color: #008080; text-decoration-color: #008080; font-weight: bold\">19638</span>,\n",
       "<span style=\"color: #7fbf7f; text-decoration-color: #7fbf7f\">│   │   </span><span style=\"color: #808000; text-decoration-color: #808000\">...</span> +<span style=\"color: #008080; text-decoration-color: #008080; font-weight: bold\">22</span>\n",
       "<span style=\"color: #7fbf7f; text-decoration-color: #7fbf7f\">│   </span><span style=\"font-weight: bold\">}</span>,\n",
       "<span style=\"color: #7fbf7f; text-decoration-color: #7fbf7f\">│   </span><span style=\"font-weight: bold\">(</span><span style=\"color: #008000; text-decoration-color: #008000\">'chipseq'</span>, <span style=\"color: #008000; text-decoration-color: #008000\">'methylseq'</span><span style=\"font-weight: bold\">)</span>: <span style=\"font-weight: bold\">{</span>\n",
       "<span style=\"color: #7fbf7f; text-decoration-color: #7fbf7f\">│   │   </span><span style=\"font-weight: bold\">(</span><span style=\"color: #008000; text-decoration-color: #008000\">'1 / SVR - rbf'</span>, <span style=\"color: #008000; text-decoration-color: #008000\">'recommenderV1'</span><span style=\"font-weight: bold\">)</span>: <span style=\"color: #008080; text-decoration-color: #008080; font-weight: bold\">12151</span>,\n",
       "<span style=\"color: #7fbf7f; text-decoration-color: #7fbf7f\">│   │   </span><span style=\"font-weight: bold\">(</span><span style=\"color: #008000; text-decoration-color: #008000\">'1 / SVR - rbf'</span>, <span style=\"color: #008000; text-decoration-color: #008000\">'recommenderV1H1'</span><span style=\"font-weight: bold\">)</span>: <span style=\"color: #008080; text-decoration-color: #008080; font-weight: bold\">13657</span>,\n",
       "<span style=\"color: #7fbf7f; text-decoration-color: #7fbf7f\">│   │   </span><span style=\"color: #808000; text-decoration-color: #808000\">...</span> +<span style=\"color: #008080; text-decoration-color: #008080; font-weight: bold\">22</span>\n",
       "<span style=\"color: #7fbf7f; text-decoration-color: #7fbf7f\">│   </span><span style=\"font-weight: bold\">}</span>,\n",
       "<span style=\"color: #7fbf7f; text-decoration-color: #7fbf7f\">│   </span><span style=\"color: #808000; text-decoration-color: #808000\">...</span> +<span style=\"color: #008080; text-decoration-color: #008080; font-weight: bold\">18</span>\n",
       "<span style=\"font-weight: bold\">}</span>\n",
       "</pre>\n"
      ],
      "text/plain": [
       "\n",
       "\u001b[1m{\u001b[0m\n",
       "\u001b[2;32m│   \u001b[0m\u001b[1m(\u001b[0m\u001b[32m'chipseq'\u001b[0m, \u001b[32m'eager'\u001b[0m\u001b[1m)\u001b[0m: \u001b[1m{\u001b[0m\n",
       "\u001b[2;32m│   │   \u001b[0m\u001b[1m(\u001b[0m\u001b[32m'1 / SVR - rbf'\u001b[0m, \u001b[32m'recommenderV1'\u001b[0m\u001b[1m)\u001b[0m: \u001b[1;36m19175\u001b[0m,\n",
       "\u001b[2;32m│   │   \u001b[0m\u001b[1m(\u001b[0m\u001b[32m'1 / SVR - rbf'\u001b[0m, \u001b[32m'recommenderV1H1'\u001b[0m\u001b[1m)\u001b[0m: \u001b[1;36m19638\u001b[0m,\n",
       "\u001b[2;32m│   │   \u001b[0m\u001b[33m...\u001b[0m +\u001b[1;36m22\u001b[0m\n",
       "\u001b[2;32m│   \u001b[0m\u001b[1m}\u001b[0m,\n",
       "\u001b[2;32m│   \u001b[0m\u001b[1m(\u001b[0m\u001b[32m'chipseq'\u001b[0m, \u001b[32m'methylseq'\u001b[0m\u001b[1m)\u001b[0m: \u001b[1m{\u001b[0m\n",
       "\u001b[2;32m│   │   \u001b[0m\u001b[1m(\u001b[0m\u001b[32m'1 / SVR - rbf'\u001b[0m, \u001b[32m'recommenderV1'\u001b[0m\u001b[1m)\u001b[0m: \u001b[1;36m12151\u001b[0m,\n",
       "\u001b[2;32m│   │   \u001b[0m\u001b[1m(\u001b[0m\u001b[32m'1 / SVR - rbf'\u001b[0m, \u001b[32m'recommenderV1H1'\u001b[0m\u001b[1m)\u001b[0m: \u001b[1;36m13657\u001b[0m,\n",
       "\u001b[2;32m│   │   \u001b[0m\u001b[33m...\u001b[0m +\u001b[1;36m22\u001b[0m\n",
       "\u001b[2;32m│   \u001b[0m\u001b[1m}\u001b[0m,\n",
       "\u001b[2;32m│   \u001b[0m\u001b[33m...\u001b[0m +\u001b[1;36m18\u001b[0m\n",
       "\u001b[1m}\u001b[0m\n"
      ]
     },
     "metadata": {},
     "output_type": "display_data"
    }
   ],
   "source": [
    "cvScores"
   ]
  },
  {
   "cell_type": "code",
   "execution_count": 36,
   "metadata": {
    "pycharm": {
     "name": "#%%\n"
    }
   },
   "outputs": [
    {
     "data": {
      "text/html": [
       "<pre style=\"white-space:pre;overflow-x:auto;line-height:normal;font-family:Menlo,'DejaVu Sans Mono',consolas,'Courier New',monospace\">\n",
       "<span style=\"font-weight: bold\">{</span>\n",
       "<span style=\"color: #7fbf7f; text-decoration-color: #7fbf7f\">│   </span><span style=\"font-weight: bold\">(</span><span style=\"color: #008000; text-decoration-color: #008000\">'chipseq'</span>, <span style=\"color: #008000; text-decoration-color: #008000\">'eager'</span><span style=\"font-weight: bold\">)</span>: <span style=\"font-weight: bold\">{</span>\n",
       "<span style=\"color: #7fbf7f; text-decoration-color: #7fbf7f\">│   │   </span><span style=\"font-weight: bold\">(</span><span style=\"color: #008000; text-decoration-color: #008000\">'1 / SVR - rbf'</span>, <span style=\"color: #008000; text-decoration-color: #008000\">'recommenderV1'</span><span style=\"font-weight: bold\">)</span>: <span style=\"color: #008080; text-decoration-color: #008080; font-weight: bold\">38578</span>,\n",
       "<span style=\"color: #7fbf7f; text-decoration-color: #7fbf7f\">│   │   </span><span style=\"font-weight: bold\">(</span><span style=\"color: #008000; text-decoration-color: #008000\">'1 / SVR - rbf'</span>, <span style=\"color: #008000; text-decoration-color: #008000\">'recommenderV1H1'</span><span style=\"font-weight: bold\">)</span>: <span style=\"color: #008080; text-decoration-color: #008080; font-weight: bold\">39227</span>,\n",
       "<span style=\"color: #7fbf7f; text-decoration-color: #7fbf7f\">│   │   </span><span style=\"color: #808000; text-decoration-color: #808000\">...</span> +<span style=\"color: #008080; text-decoration-color: #008080; font-weight: bold\">22</span>\n",
       "<span style=\"color: #7fbf7f; text-decoration-color: #7fbf7f\">│   </span><span style=\"font-weight: bold\">}</span>,\n",
       "<span style=\"color: #7fbf7f; text-decoration-color: #7fbf7f\">│   </span><span style=\"font-weight: bold\">(</span><span style=\"color: #008000; text-decoration-color: #008000\">'chipseq'</span>, <span style=\"color: #008000; text-decoration-color: #008000\">'methylseq'</span><span style=\"font-weight: bold\">)</span>: <span style=\"font-weight: bold\">{</span>\n",
       "<span style=\"color: #7fbf7f; text-decoration-color: #7fbf7f\">│   │   </span><span style=\"font-weight: bold\">(</span><span style=\"color: #008000; text-decoration-color: #008000\">'1 / SVR - rbf'</span>, <span style=\"color: #008000; text-decoration-color: #008000\">'recommenderV1'</span><span style=\"font-weight: bold\">)</span>: <span style=\"color: #008080; text-decoration-color: #008080; font-weight: bold\">39139</span>,\n",
       "<span style=\"color: #7fbf7f; text-decoration-color: #7fbf7f\">│   │   </span><span style=\"font-weight: bold\">(</span><span style=\"color: #008000; text-decoration-color: #008000\">'1 / SVR - rbf'</span>, <span style=\"color: #008000; text-decoration-color: #008000\">'recommenderV1H1'</span><span style=\"font-weight: bold\">)</span>: <span style=\"color: #008080; text-decoration-color: #008080; font-weight: bold\">39904</span>,\n",
       "<span style=\"color: #7fbf7f; text-decoration-color: #7fbf7f\">│   │   </span><span style=\"color: #808000; text-decoration-color: #808000\">...</span> +<span style=\"color: #008080; text-decoration-color: #008080; font-weight: bold\">22</span>\n",
       "<span style=\"color: #7fbf7f; text-decoration-color: #7fbf7f\">│   </span><span style=\"font-weight: bold\">}</span>,\n",
       "<span style=\"color: #7fbf7f; text-decoration-color: #7fbf7f\">│   </span><span style=\"color: #808000; text-decoration-color: #808000\">...</span> +<span style=\"color: #008080; text-decoration-color: #008080; font-weight: bold\">18</span>\n",
       "<span style=\"font-weight: bold\">}</span>\n",
       "</pre>\n"
      ],
      "text/plain": [
       "\n",
       "\u001b[1m{\u001b[0m\n",
       "\u001b[2;32m│   \u001b[0m\u001b[1m(\u001b[0m\u001b[32m'chipseq'\u001b[0m, \u001b[32m'eager'\u001b[0m\u001b[1m)\u001b[0m: \u001b[1m{\u001b[0m\n",
       "\u001b[2;32m│   │   \u001b[0m\u001b[1m(\u001b[0m\u001b[32m'1 / SVR - rbf'\u001b[0m, \u001b[32m'recommenderV1'\u001b[0m\u001b[1m)\u001b[0m: \u001b[1;36m38578\u001b[0m,\n",
       "\u001b[2;32m│   │   \u001b[0m\u001b[1m(\u001b[0m\u001b[32m'1 / SVR - rbf'\u001b[0m, \u001b[32m'recommenderV1H1'\u001b[0m\u001b[1m)\u001b[0m: \u001b[1;36m39227\u001b[0m,\n",
       "\u001b[2;32m│   │   \u001b[0m\u001b[33m...\u001b[0m +\u001b[1;36m22\u001b[0m\n",
       "\u001b[2;32m│   \u001b[0m\u001b[1m}\u001b[0m,\n",
       "\u001b[2;32m│   \u001b[0m\u001b[1m(\u001b[0m\u001b[32m'chipseq'\u001b[0m, \u001b[32m'methylseq'\u001b[0m\u001b[1m)\u001b[0m: \u001b[1m{\u001b[0m\n",
       "\u001b[2;32m│   │   \u001b[0m\u001b[1m(\u001b[0m\u001b[32m'1 / SVR - rbf'\u001b[0m, \u001b[32m'recommenderV1'\u001b[0m\u001b[1m)\u001b[0m: \u001b[1;36m39139\u001b[0m,\n",
       "\u001b[2;32m│   │   \u001b[0m\u001b[1m(\u001b[0m\u001b[32m'1 / SVR - rbf'\u001b[0m, \u001b[32m'recommenderV1H1'\u001b[0m\u001b[1m)\u001b[0m: \u001b[1;36m39904\u001b[0m,\n",
       "\u001b[2;32m│   │   \u001b[0m\u001b[33m...\u001b[0m +\u001b[1;36m22\u001b[0m\n",
       "\u001b[2;32m│   \u001b[0m\u001b[1m}\u001b[0m,\n",
       "\u001b[2;32m│   \u001b[0m\u001b[33m...\u001b[0m +\u001b[1;36m18\u001b[0m\n",
       "\u001b[1m}\u001b[0m\n"
      ]
     },
     "metadata": {},
     "output_type": "display_data"
    }
   ],
   "source": [
    "cv10PScores"
   ]
  },
  {
   "cell_type": "code",
   "execution_count": 37,
   "metadata": {
    "pycharm": {
     "name": "#%%\n"
    }
   },
   "outputs": [],
   "source": [
    "cvRegModelMethodScores = dict()\n",
    "for _, sc in cvScores.items():\n",
    "    for rmmeth, r in sc.items():\n",
    "        cvRegModelMethodScores[rmmeth] = cvRegModelMethodScores.get(rmmeth,0)+r"
   ]
  },
  {
   "cell_type": "code",
   "execution_count": 38,
   "metadata": {
    "pycharm": {
     "name": "#%%\n"
    }
   },
   "outputs": [],
   "source": [
    "cvRegModelMethodScores10P = dict()\n",
    "for _, sc in cv10PScores.items():\n",
    "    for rmmeth, r in sc.items():\n",
    "        cvRegModelMethodScores10P[rmmeth] = cvRegModelMethodScores10P.get(rmmeth,0)+r"
   ]
  },
  {
   "cell_type": "code",
   "execution_count": 39,
   "metadata": {},
   "outputs": [
    {
     "data": {
      "text/html": [
       "<pre style=\"white-space:pre;overflow-x:auto;line-height:normal;font-family:Menlo,'DejaVu Sans Mono',consolas,'Courier New',monospace\">\n",
       "<span style=\"font-weight: bold\">{</span>\n",
       "<span style=\"color: #7fbf7f; text-decoration-color: #7fbf7f\">│   </span><span style=\"font-weight: bold\">(</span><span style=\"color: #008000; text-decoration-color: #008000\">'1 / SVR - rbf'</span>, <span style=\"color: #008000; text-decoration-color: #008000\">'recommenderV1'</span><span style=\"font-weight: bold\">)</span>: <span style=\"color: #008080; text-decoration-color: #008080; font-weight: bold\">259713</span>,\n",
       "<span style=\"color: #7fbf7f; text-decoration-color: #7fbf7f\">│   </span><span style=\"font-weight: bold\">(</span><span style=\"color: #008000; text-decoration-color: #008000\">'1 / SVR - rbf'</span>, <span style=\"color: #008000; text-decoration-color: #008000\">'recommenderV1H1'</span><span style=\"font-weight: bold\">)</span>: <span style=\"color: #008080; text-decoration-color: #008080; font-weight: bold\">275020</span>,\n",
       "<span style=\"color: #7fbf7f; text-decoration-color: #7fbf7f\">│   </span><span style=\"color: #808000; text-decoration-color: #808000\">...</span> +<span style=\"color: #008080; text-decoration-color: #008080; font-weight: bold\">22</span>\n",
       "<span style=\"font-weight: bold\">}</span>\n",
       "</pre>\n"
      ],
      "text/plain": [
       "\n",
       "\u001b[1m{\u001b[0m\n",
       "\u001b[2;32m│   \u001b[0m\u001b[1m(\u001b[0m\u001b[32m'1 / SVR - rbf'\u001b[0m, \u001b[32m'recommenderV1'\u001b[0m\u001b[1m)\u001b[0m: \u001b[1;36m259713\u001b[0m,\n",
       "\u001b[2;32m│   \u001b[0m\u001b[1m(\u001b[0m\u001b[32m'1 / SVR - rbf'\u001b[0m, \u001b[32m'recommenderV1H1'\u001b[0m\u001b[1m)\u001b[0m: \u001b[1;36m275020\u001b[0m,\n",
       "\u001b[2;32m│   \u001b[0m\u001b[33m...\u001b[0m +\u001b[1;36m22\u001b[0m\n",
       "\u001b[1m}\u001b[0m\n"
      ]
     },
     "metadata": {},
     "output_type": "display_data"
    }
   ],
   "source": [
    "cvRegModelMethodScores"
   ]
  },
  {
   "cell_type": "code",
   "execution_count": 40,
   "metadata": {},
   "outputs": [
    {
     "data": {
      "text/html": [
       "<pre style=\"white-space:pre;overflow-x:auto;line-height:normal;font-family:Menlo,'DejaVu Sans Mono',consolas,'Courier New',monospace\">\n",
       "<span style=\"font-weight: bold\">{</span>\n",
       "<span style=\"color: #7fbf7f; text-decoration-color: #7fbf7f\">│   </span><span style=\"font-weight: bold\">(</span><span style=\"color: #008000; text-decoration-color: #008000\">'1 / SVR - rbf'</span>, <span style=\"color: #008000; text-decoration-color: #008000\">'recommenderV1'</span><span style=\"font-weight: bold\">)</span>: <span style=\"color: #008080; text-decoration-color: #008080; font-weight: bold\">759588</span>,\n",
       "<span style=\"color: #7fbf7f; text-decoration-color: #7fbf7f\">│   </span><span style=\"font-weight: bold\">(</span><span style=\"color: #008000; text-decoration-color: #008000\">'1 / SVR - rbf'</span>, <span style=\"color: #008000; text-decoration-color: #008000\">'recommenderV1H1'</span><span style=\"font-weight: bold\">)</span>: <span style=\"color: #008080; text-decoration-color: #008080; font-weight: bold\">765871</span>,\n",
       "<span style=\"color: #7fbf7f; text-decoration-color: #7fbf7f\">│   </span><span style=\"color: #808000; text-decoration-color: #808000\">...</span> +<span style=\"color: #008080; text-decoration-color: #008080; font-weight: bold\">22</span>\n",
       "<span style=\"font-weight: bold\">}</span>\n",
       "</pre>\n"
      ],
      "text/plain": [
       "\n",
       "\u001b[1m{\u001b[0m\n",
       "\u001b[2;32m│   \u001b[0m\u001b[1m(\u001b[0m\u001b[32m'1 / SVR - rbf'\u001b[0m, \u001b[32m'recommenderV1'\u001b[0m\u001b[1m)\u001b[0m: \u001b[1;36m759588\u001b[0m,\n",
       "\u001b[2;32m│   \u001b[0m\u001b[1m(\u001b[0m\u001b[32m'1 / SVR - rbf'\u001b[0m, \u001b[32m'recommenderV1H1'\u001b[0m\u001b[1m)\u001b[0m: \u001b[1;36m765871\u001b[0m,\n",
       "\u001b[2;32m│   \u001b[0m\u001b[33m...\u001b[0m +\u001b[1;36m22\u001b[0m\n",
       "\u001b[1m}\u001b[0m\n"
      ]
     },
     "metadata": {},
     "output_type": "display_data"
    }
   ],
   "source": [
    "cvRegModelMethodScores10P"
   ]
  },
  {
   "cell_type": "code",
   "execution_count": 41,
   "metadata": {
    "pycharm": {
     "name": "#%%\n"
    }
   },
   "outputs": [],
   "source": [
    "cvRegModelMethodScoresDF = pds.DataFrame(index=regModels, columns=methods, dtype=float)\n",
    "for rm, s in cvRegModelMethodScores.items():\n",
    "    rM, meth = rm\n",
    "    cvRegModelMethodScoresDF.loc[rM, meth] = s"
   ]
  },
  {
   "cell_type": "code",
   "execution_count": 42,
   "metadata": {
    "pycharm": {
     "name": "#%%\n"
    }
   },
   "outputs": [
    {
     "data": {
      "text/html": [
       "<div>\n",
       "<style scoped>\n",
       "    .dataframe tbody tr th:only-of-type {\n",
       "        vertical-align: middle;\n",
       "    }\n",
       "\n",
       "    .dataframe tbody tr th {\n",
       "        vertical-align: top;\n",
       "    }\n",
       "\n",
       "    .dataframe thead th {\n",
       "        text-align: right;\n",
       "    }\n",
       "</style>\n",
       "<table border=\"1\" class=\"dataframe\">\n",
       "  <thead>\n",
       "    <tr style=\"text-align: right;\">\n",
       "      <th></th>\n",
       "      <th>recommenderV1</th>\n",
       "      <th>recommenderV1H1</th>\n",
       "      <th>recommenderV1H2</th>\n",
       "      <th>recommenderV1H3</th>\n",
       "      <th>recommenderV2</th>\n",
       "      <th>recommenderV2H1</th>\n",
       "      <th>recommenderV2H2</th>\n",
       "      <th>recommenderV2H3</th>\n",
       "    </tr>\n",
       "  </thead>\n",
       "  <tbody>\n",
       "    <tr>\n",
       "      <th>1 / SVR - rbf</th>\n",
       "      <td>259713.0</td>\n",
       "      <td>275020.0</td>\n",
       "      <td>275020.0</td>\n",
       "      <td>290446.0</td>\n",
       "      <td>198989.0</td>\n",
       "      <td>218629.0</td>\n",
       "      <td>218629.0</td>\n",
       "      <td>205442.0</td>\n",
       "    </tr>\n",
       "    <tr>\n",
       "      <th>1 / Stochastic Gradient Descent</th>\n",
       "      <td>197793.0</td>\n",
       "      <td>199337.0</td>\n",
       "      <td>199337.0</td>\n",
       "      <td>197955.0</td>\n",
       "      <td>170579.0</td>\n",
       "      <td>186399.0</td>\n",
       "      <td>186399.0</td>\n",
       "      <td>175455.0</td>\n",
       "    </tr>\n",
       "    <tr>\n",
       "      <th>3 / SVR - rbf</th>\n",
       "      <td>197748.0</td>\n",
       "      <td>196185.0</td>\n",
       "      <td>196185.0</td>\n",
       "      <td>208983.0</td>\n",
       "      <td>111865.0</td>\n",
       "      <td>120898.0</td>\n",
       "      <td>120898.0</td>\n",
       "      <td>117597.0</td>\n",
       "    </tr>\n",
       "  </tbody>\n",
       "</table>\n",
       "</div>"
      ]
     },
     "execution_count": 42,
     "metadata": {},
     "output_type": "execute_result"
    }
   ],
   "source": [
    "cvRegModelMethodScoresDF"
   ]
  },
  {
   "cell_type": "code",
   "execution_count": 43,
   "metadata": {
    "pycharm": {
     "name": "#%%\n"
    }
   },
   "outputs": [
    {
     "data": {
      "image/png": "[encoded data removed]"
     },
     "metadata": {},
     "output_type": "display_data"
    }
   ],
   "source": [
    "# normalize\n",
    "total = 20*50_000\n",
    "tmp = cvRegModelMethodScoresDF.transform(lambda x: 100*x/total)\n",
    "#\n",
    "ax = sns.heatmap(tmp,\n",
    "                 cmap=\"Spectral\",\n",
    "                 xticklabels=[c.replace(\"recommender\", \"\") for c in cvRegModelMethodScoresDF.columns],\n",
    "                 cbar_kws={\"label\":\"Percent equal to best time\"},\n",
    "                 vmin=0,\n",
    "                 vmax=100,\n",
    "                 annot=True,\n",
    "                 robust=True)\n",
    "plt.xlabel(\"Scheduling Method\")\n",
    "plt.ylabel(\"Degree / Regression Model\")\n",
    "fig = ax.get_figure()\n",
    "save_plot(fig, \"cvHeatmapBIS\", bbox_inches=\"tight\")\n",
    "plt.show()"
   ]
  },
  {
   "cell_type": "code",
   "execution_count": 44,
   "metadata": {
    "pycharm": {
     "name": "#%%\n"
    }
   },
   "outputs": [],
   "source": [
    "cvRegModelMethodScores10PDF = pds.DataFrame(index=regModels, columns=methods, dtype=float)\n",
    "for rm, s in cvRegModelMethodScores10P.items():\n",
    "    rM, meth = rm\n",
    "    cvRegModelMethodScores10PDF.loc[rM, meth] = s"
   ]
  },
  {
   "cell_type": "code",
   "execution_count": 45,
   "metadata": {
    "pycharm": {
     "name": "#%%\n"
    }
   },
   "outputs": [
    {
     "data": {
      "text/html": [
       "<div>\n",
       "<style scoped>\n",
       "    .dataframe tbody tr th:only-of-type {\n",
       "        vertical-align: middle;\n",
       "    }\n",
       "\n",
       "    .dataframe tbody tr th {\n",
       "        vertical-align: top;\n",
       "    }\n",
       "\n",
       "    .dataframe thead th {\n",
       "        text-align: right;\n",
       "    }\n",
       "</style>\n",
       "<table border=\"1\" class=\"dataframe\">\n",
       "  <thead>\n",
       "    <tr style=\"text-align: right;\">\n",
       "      <th></th>\n",
       "      <th>recommenderV1</th>\n",
       "      <th>recommenderV1H1</th>\n",
       "      <th>recommenderV1H2</th>\n",
       "      <th>recommenderV1H3</th>\n",
       "      <th>recommenderV2</th>\n",
       "      <th>recommenderV2H1</th>\n",
       "      <th>recommenderV2H2</th>\n",
       "      <th>recommenderV2H3</th>\n",
       "    </tr>\n",
       "  </thead>\n",
       "  <tbody>\n",
       "    <tr>\n",
       "      <th>1 / SVR - rbf</th>\n",
       "      <td>759588.0</td>\n",
       "      <td>765871.0</td>\n",
       "      <td>765871.0</td>\n",
       "      <td>778016.0</td>\n",
       "      <td>687719.0</td>\n",
       "      <td>683672.0</td>\n",
       "      <td>683672.0</td>\n",
       "      <td>646950.0</td>\n",
       "    </tr>\n",
       "    <tr>\n",
       "      <th>1 / Stochastic Gradient Descent</th>\n",
       "      <td>708525.0</td>\n",
       "      <td>722652.0</td>\n",
       "      <td>722652.0</td>\n",
       "      <td>724040.0</td>\n",
       "      <td>656117.0</td>\n",
       "      <td>677033.0</td>\n",
       "      <td>677033.0</td>\n",
       "      <td>631148.0</td>\n",
       "    </tr>\n",
       "    <tr>\n",
       "      <th>3 / SVR - rbf</th>\n",
       "      <td>656111.0</td>\n",
       "      <td>650994.0</td>\n",
       "      <td>650994.0</td>\n",
       "      <td>658911.0</td>\n",
       "      <td>550538.0</td>\n",
       "      <td>529632.0</td>\n",
       "      <td>529632.0</td>\n",
       "      <td>516272.0</td>\n",
       "    </tr>\n",
       "  </tbody>\n",
       "</table>\n",
       "</div>"
      ]
     },
     "execution_count": 45,
     "metadata": {},
     "output_type": "execute_result"
    }
   ],
   "source": [
    "cvRegModelMethodScores10PDF"
   ]
  },
  {
   "cell_type": "code",
   "execution_count": 46,
   "metadata": {
    "pycharm": {
     "name": "#%%\n"
    },
    "tags": []
   },
   "outputs": [
    {
     "data": {
      "image/png": "[encoded data removed]"
     },
     "metadata": {},
     "output_type": "display_data"
    }
   ],
   "source": [
    "# normalize\n",
    "total = 20*50_000\n",
    "tmp = cvRegModelMethodScores10PDF.transform(lambda x: 100*x/total)\n",
    "#\n",
    "ax = sns.heatmap(tmp,\n",
    "                 cmap=\"Spectral\",\n",
    "                 xticklabels=[c.replace(\"recommender\", \"\") for c in cvRegModelMethodScores10PDF.columns],\n",
    "                 cbar_kws={\"label\":\"Percent within 10% of best time\"},\n",
    "                 vmin=0,\n",
    "                 vmax=100,\n",
    "                 annot=True,\n",
    "                 robust=True)\n",
    "plt.xlabel(\"Scheduling Method\")\n",
    "plt.ylabel(\"Degree / Regression Model\")\n",
    "fig = ax.get_figure()\n",
    "save_plot(fig, \"heatmap10P\", bbox_inches=\"tight\")\n",
    "plt.show()"
   ]
  },
  {
   "cell_type": "markdown",
   "metadata": {},
   "source": [
    "------"
   ]
  },
  {
   "cell_type": "code",
   "execution_count": 47,
   "metadata": {},
   "outputs": [],
   "source": [
    "def compareCVFull(fullTable, cvSplitTable, crit=None, scorer=None, tol=1):\n",
    "    if crit is None:\n",
    "        def yep (res, cvres, tol): \n",
    "            dist = abs(res-cvres)\n",
    "            if dist <=tol:\n",
    "                dec  =0\n",
    "            elif res < cvres:\n",
    "                dec = -1\n",
    "            else:\n",
    "                dec = 1\n",
    "            return dec\n",
    "        crit = yep\n",
    "    if scorer is None:\n",
    "        def sc(res, cvres, tol):\n",
    "            return 1\n",
    "        scorer = sc\n",
    "    #\n",
    "    totalTable = fullTable.join(cvSplitTable.set_index([\"cluster\", \"wfName\"]), on=[\"cluster\", \"wfName\"], rsuffix=\"_cv\")\n",
    "    #\n",
    "    clWFCombs = itertools.product(clusters, wfNames)\n",
    "    numclWFCombs = len(list(clWFCombs))\n",
    "    #\n",
    "    comp = dict(full=0, equal=0, cv=0)\n",
    "    with commons.stdProgress(rc) as prog:\n",
    "        cvwfProg = prog.add_task(\"Comparing\", total=numclWFCombs)\n",
    "\n",
    "        for row in totalTable.itertuples():\n",
    "            if type(tol) is int or type(tol) is float:\n",
    "                t= tol\n",
    "            else:\n",
    "                t = tol(row.res, row.res_cv)\n",
    "            dec = crit(row.res, row.res_cv, t)\n",
    "            if dec ==-1:\n",
    "                key = \"full\"\n",
    "            elif dec == 0:\n",
    "                key= \"equal\"\n",
    "            elif dec == 1:\n",
    "                key = \"cv\"\n",
    "            else:\n",
    "                raise Exception(\"crit must return -1, 0, or 1\")\n",
    "\n",
    "            comp[key] = comp[key] + scorer(row.res, row.res_cv, t)\n",
    "            prog.advance(cvwfProg)\n",
    "    return comp"
   ]
  },
  {
   "cell_type": "code",
   "execution_count": 48,
   "metadata": {},
   "outputs": [
    {
     "data": {
      "text/html": [
       "<pre style=\"white-space:pre;overflow-x:auto;line-height:normal;font-family:Menlo,'DejaVu Sans Mono',consolas,'Courier New',monospace\">\n",
       "<span style=\"font-weight: bold\">(</span>\n",
       "<span style=\"color: #7fbf7f; text-decoration-color: #7fbf7f\">│   </span><span style=\"color: #008000; text-decoration-color: #008000\">'5 / Ordinary Least Squares'</span>,\n",
       "<span style=\"color: #7fbf7f; text-decoration-color: #7fbf7f\">│   </span><span style=\"color: #008000; text-decoration-color: #008000\">'recommenderV1H3'</span>\n",
       "<span style=\"font-weight: bold\">)</span>\n",
       "</pre>\n"
      ],
      "text/plain": [
       "\n",
       "\u001b[1m(\u001b[0m\n",
       "\u001b[2;32m│   \u001b[0m\u001b[32m'5 / Ordinary Least Squares'\u001b[0m,\n",
       "\u001b[2;32m│   \u001b[0m\u001b[32m'recommenderV1H3'\u001b[0m\n",
       "\u001b[1m)\u001b[0m\n"
      ]
     },
     "metadata": {},
     "output_type": "display_data"
    }
   ],
   "source": [
    "maxi = regModelMethodScoresDF.max().max()\n",
    "cand = regModelMethodScoresDF.idxmax().reset_index()\n",
    "cand.columns=[\"method\",\"model\"]\n",
    "bisRmmeth = None\n",
    "for i in cand.itertuples():\n",
    "    if regModelMethodScoresDF.loc[i.model, i.method]==maxi:\n",
    "        bisRmmeth = (i.model, i.method)\n",
    "        break\n",
    "bisRmmeth"
   ]
  },
  {
   "cell_type": "code",
   "execution_count": 55,
   "metadata": {
    "tags": []
   },
   "outputs": [
    {
     "name": "stdout",
     "output_type": "stream",
     "text": [
      "ERROR! Session/line number was not unique in database. History logging moved to new session 16\n"
     ]
    },
    {
     "data": {
      "text/html": [
       "<div>\n",
       "<style scoped>\n",
       "    .dataframe tbody tr th:only-of-type {\n",
       "        vertical-align: middle;\n",
       "    }\n",
       "\n",
       "    .dataframe tbody tr th {\n",
       "        vertical-align: top;\n",
       "    }\n",
       "\n",
       "    .dataframe thead th {\n",
       "        text-align: right;\n",
       "    }\n",
       "</style>\n",
       "<table border=\"1\" class=\"dataframe\">\n",
       "  <thead>\n",
       "    <tr style=\"text-align: right;\">\n",
       "      <th></th>\n",
       "      <th>regModel</th>\n",
       "      <th>cluster</th>\n",
       "      <th>clusterSize</th>\n",
       "      <th>wfName</th>\n",
       "      <th>method</th>\n",
       "      <th>res</th>\n",
       "      <th>cvSplit</th>\n",
       "      <th>ukSplit</th>\n",
       "    </tr>\n",
       "  </thead>\n",
       "  <tbody>\n",
       "    <tr>\n",
       "      <th>400003</th>\n",
       "      <td>5 / Ordinary Least Squares</td>\n",
       "      <td>(166, 171, 173, 175, 178, 179, 180, 182, 182, ...</td>\n",
       "      <td>14</td>\n",
       "      <td>sarek</td>\n",
       "      <td>recommenderV1H3</td>\n",
       "      <td>33364.6500</td>\n",
       "      <td>None</td>\n",
       "      <td>None</td>\n",
       "    </tr>\n",
       "    <tr>\n",
       "      <th>400011</th>\n",
       "      <td>5 / Ordinary Least Squares</td>\n",
       "      <td>(166, 171, 173, 175, 178, 179, 180, 182, 182, ...</td>\n",
       "      <td>14</td>\n",
       "      <td>methylseq</td>\n",
       "      <td>recommenderV1H3</td>\n",
       "      <td>39318.6000</td>\n",
       "      <td>None</td>\n",
       "      <td>None</td>\n",
       "    </tr>\n",
       "    <tr>\n",
       "      <th>400019</th>\n",
       "      <td>5 / Ordinary Least Squares</td>\n",
       "      <td>(166, 171, 173, 175, 178, 179, 180, 182, 182, ...</td>\n",
       "      <td>14</td>\n",
       "      <td>chipseq</td>\n",
       "      <td>recommenderV1H3</td>\n",
       "      <td>126638.2667</td>\n",
       "      <td>None</td>\n",
       "      <td>None</td>\n",
       "    </tr>\n",
       "    <tr>\n",
       "      <th>400027</th>\n",
       "      <td>5 / Ordinary Least Squares</td>\n",
       "      <td>(166, 171, 173, 175, 178, 179, 180, 182, 182, ...</td>\n",
       "      <td>14</td>\n",
       "      <td>eager</td>\n",
       "      <td>recommenderV1H3</td>\n",
       "      <td>27151.2000</td>\n",
       "      <td>None</td>\n",
       "      <td>None</td>\n",
       "    </tr>\n",
       "    <tr>\n",
       "      <th>400035</th>\n",
       "      <td>5 / Ordinary Least Squares</td>\n",
       "      <td>(166, 171, 173, 175, 178, 179, 180, 182, 182, ...</td>\n",
       "      <td>14</td>\n",
       "      <td>viralrecon</td>\n",
       "      <td>recommenderV1H3</td>\n",
       "      <td>138079.2667</td>\n",
       "      <td>None</td>\n",
       "      <td>None</td>\n",
       "    </tr>\n",
       "    <tr>\n",
       "      <th>...</th>\n",
       "      <td>...</td>\n",
       "      <td>...</td>\n",
       "      <td>...</td>\n",
       "      <td>...</td>\n",
       "      <td>...</td>\n",
       "      <td>...</td>\n",
       "      <td>...</td>\n",
       "      <td>...</td>\n",
       "    </tr>\n",
       "    <tr>\n",
       "      <th>799963</th>\n",
       "      <td>5 / Ordinary Least Squares</td>\n",
       "      <td>(165, 166, 169, 170, 173, 173, 175, 176, 178, ...</td>\n",
       "      <td>20</td>\n",
       "      <td>sarek</td>\n",
       "      <td>recommenderV1H3</td>\n",
       "      <td>33356.3500</td>\n",
       "      <td>None</td>\n",
       "      <td>None</td>\n",
       "    </tr>\n",
       "    <tr>\n",
       "      <th>799971</th>\n",
       "      <td>5 / Ordinary Least Squares</td>\n",
       "      <td>(165, 166, 169, 170, 173, 173, 175, 176, 178, ...</td>\n",
       "      <td>20</td>\n",
       "      <td>methylseq</td>\n",
       "      <td>recommenderV1H3</td>\n",
       "      <td>39318.6000</td>\n",
       "      <td>None</td>\n",
       "      <td>None</td>\n",
       "    </tr>\n",
       "    <tr>\n",
       "      <th>799979</th>\n",
       "      <td>5 / Ordinary Least Squares</td>\n",
       "      <td>(165, 166, 169, 170, 173, 173, 175, 176, 178, ...</td>\n",
       "      <td>20</td>\n",
       "      <td>chipseq</td>\n",
       "      <td>recommenderV1H3</td>\n",
       "      <td>126735.6333</td>\n",
       "      <td>None</td>\n",
       "      <td>None</td>\n",
       "    </tr>\n",
       "    <tr>\n",
       "      <th>799987</th>\n",
       "      <td>5 / Ordinary Least Squares</td>\n",
       "      <td>(165, 166, 169, 170, 173, 173, 175, 176, 178, ...</td>\n",
       "      <td>20</td>\n",
       "      <td>eager</td>\n",
       "      <td>recommenderV1H3</td>\n",
       "      <td>27574.6000</td>\n",
       "      <td>None</td>\n",
       "      <td>None</td>\n",
       "    </tr>\n",
       "    <tr>\n",
       "      <th>799995</th>\n",
       "      <td>5 / Ordinary Least Squares</td>\n",
       "      <td>(165, 166, 169, 170, 173, 173, 175, 176, 178, ...</td>\n",
       "      <td>20</td>\n",
       "      <td>viralrecon</td>\n",
       "      <td>recommenderV1H3</td>\n",
       "      <td>134428.4000</td>\n",
       "      <td>None</td>\n",
       "      <td>None</td>\n",
       "    </tr>\n",
       "  </tbody>\n",
       "</table>\n",
       "<p>50000 rows × 8 columns</p>\n",
       "</div>"
      ]
     },
     "execution_count": 55,
     "metadata": {},
     "output_type": "execute_result"
    }
   ],
   "source": [
    "if Path(\"bisBigtable.pickle\").is_file():\n",
    "    with open(\"bisBigtable.pickle\", \"br\") as f:\n",
    "        bisBigtable = pickle.load(f)\n",
    "else:\n",
    "    bisBigtable = bigtable.query(\"regModel==@bisRmmeth[0] and method==@bisRmmeth[1]\")\n",
    "    #bisBigtable.drop([\"regModel\", \"method\", \"cvSplit\", \"ukSplit\", \"clusterSize\"], axis=1)\n",
    "    with open(\"bisBigtable.pickle\", \"bw\") as f:\n",
    "        bisBigtable = pickle.dump(bisBigtable,f)\n",
    "bisBigtable"
   ]
  },
  {
   "cell_type": "code",
   "execution_count": 50,
   "metadata": {},
   "outputs": [
    {
     "data": {
      "text/html": [
       "<pre style=\"white-space:pre;overflow-x:auto;line-height:normal;font-family:Menlo,'DejaVu Sans Mono',consolas,'Courier New',monospace\">\n",
       "<span style=\"font-weight: bold\">(</span>\n",
       "<span style=\"color: #7fbf7f; text-decoration-color: #7fbf7f\">│   </span><span style=\"color: #008000; text-decoration-color: #008000\">'1 / SVR - rbf'</span>,\n",
       "<span style=\"color: #7fbf7f; text-decoration-color: #7fbf7f\">│   </span><span style=\"color: #008000; text-decoration-color: #008000\">'recommenderV1H3'</span>\n",
       "<span style=\"font-weight: bold\">)</span>\n",
       "</pre>\n"
      ],
      "text/plain": [
       "\n",
       "\u001b[1m(\u001b[0m\n",
       "\u001b[2;32m│   \u001b[0m\u001b[32m'1 / SVR - rbf'\u001b[0m,\n",
       "\u001b[2;32m│   \u001b[0m\u001b[32m'recommenderV1H3'\u001b[0m\n",
       "\u001b[1m)\u001b[0m\n"
      ]
     },
     "metadata": {},
     "output_type": "display_data"
    }
   ],
   "source": [
    "maxi = cvRegModelMethodScoresDF.max().max()\n",
    "cand = cvRegModelMethodScoresDF.idxmax().reset_index()\n",
    "cand.columns=[\"method\",\"model\"]\n",
    "bisCVRmmeth = None\n",
    "for i in cand.itertuples():\n",
    "    if cvRegModelMethodScoresDF.loc[i.model, i.method]==maxi:\n",
    "        bisCVRmmeth = (i.model, i.method)\n",
    "        break\n",
    "bisCVRmmeth"
   ]
  },
  {
   "cell_type": "code",
   "execution_count": 56,
   "metadata": {},
   "outputs": [],
   "source": [
    "if Path(\"bisCVBigtable.pickle\").is_file():\n",
    "    with open(\"bisCVBigtable.pickle\", \"br\") as f:\n",
    "        bisCVBigtable = pickle.load(f)\n",
    "else:\n",
    "    bisCVBigtable = cvBigtable.query(\"regModel==@bisCVRmmeth[0] and method==@bisCVRmmeth[1]\")\n",
    "    #bisCVBigtable.drop([\"regModel\", \"method\", \"clusterSize\"], axis=1)\n",
    "    with open(\"bisCVBigtable.pickle\", \"bw\") as f:\n",
    "        pickle.dump(bisCVBigtable, f)\n",
    "bis"
   ]
  },
  {
   "cell_type": "code",
   "execution_count": 52,
   "metadata": {
    "tags": []
   },
   "outputs": [
    {
     "data": {
      "text/html": [
       "<pre style=\"white-space:pre;overflow-x:auto;line-height:normal;font-family:Menlo,'DejaVu Sans Mono',consolas,'Courier New',monospace\"><span style=\"font-weight: bold\">{</span>\n",
       "<span style=\"color: #7fbf7f; text-decoration-color: #7fbf7f\">│   </span><span style=\"font-weight: bold\">(</span><span style=\"color: #008000; text-decoration-color: #008000\">'chipseq'</span>, <span style=\"color: #008000; text-decoration-color: #008000\">'eager'</span><span style=\"font-weight: bold\">)</span>: <span style=\"font-weight: bold\">{</span><span style=\"color: #008000; text-decoration-color: #008000\">'full'</span>: <span style=\"color: #008080; text-decoration-color: #008080; font-weight: bold\">29475</span>, <span style=\"color: #008000; text-decoration-color: #008000\">'equal'</span>: <span style=\"color: #008080; text-decoration-color: #008080; font-weight: bold\">15932</span>, <span style=\"color: #008000; text-decoration-color: #008000\">'cv'</span>: <span style=\"color: #008080; text-decoration-color: #008080; font-weight: bold\">4593</span><span style=\"font-weight: bold\">}</span>,\n",
       "<span style=\"color: #7fbf7f; text-decoration-color: #7fbf7f\">│   </span><span style=\"font-weight: bold\">(</span><span style=\"color: #008000; text-decoration-color: #008000\">'chipseq'</span>, <span style=\"color: #008000; text-decoration-color: #008000\">'methylseq'</span><span style=\"font-weight: bold\">)</span>: <span style=\"font-weight: bold\">{</span><span style=\"color: #008000; text-decoration-color: #008000\">'full'</span>: <span style=\"color: #008080; text-decoration-color: #008080; font-weight: bold\">32719</span>, <span style=\"color: #008000; text-decoration-color: #008000\">'equal'</span>: <span style=\"color: #008080; text-decoration-color: #008080; font-weight: bold\">13238</span>, <span style=\"color: #008000; text-decoration-color: #008000\">'cv'</span>: <span style=\"color: #008080; text-decoration-color: #008080; font-weight: bold\">4043</span><span style=\"font-weight: bold\">}</span>,\n",
       "<span style=\"color: #7fbf7f; text-decoration-color: #7fbf7f\">│   </span><span style=\"font-weight: bold\">(</span><span style=\"color: #008000; text-decoration-color: #008000\">'chipseq'</span>, <span style=\"color: #008000; text-decoration-color: #008000\">'sarek'</span><span style=\"font-weight: bold\">)</span>: <span style=\"font-weight: bold\">{</span><span style=\"color: #008000; text-decoration-color: #008000\">'full'</span>: <span style=\"color: #008080; text-decoration-color: #008080; font-weight: bold\">33699</span>, <span style=\"color: #008000; text-decoration-color: #008000\">'equal'</span>: <span style=\"color: #008080; text-decoration-color: #008080; font-weight: bold\">13000</span>, <span style=\"color: #008000; text-decoration-color: #008000\">'cv'</span>: <span style=\"color: #008080; text-decoration-color: #008080; font-weight: bold\">3301</span><span style=\"font-weight: bold\">}</span>,\n",
       "<span style=\"color: #7fbf7f; text-decoration-color: #7fbf7f\">│   </span><span style=\"font-weight: bold\">(</span><span style=\"color: #008000; text-decoration-color: #008000\">'chipseq'</span>, <span style=\"color: #008000; text-decoration-color: #008000\">'viralrecon'</span><span style=\"font-weight: bold\">)</span>: <span style=\"font-weight: bold\">{</span><span style=\"color: #008000; text-decoration-color: #008000\">'full'</span>: <span style=\"color: #008080; text-decoration-color: #008080; font-weight: bold\">33418</span>, <span style=\"color: #008000; text-decoration-color: #008000\">'equal'</span>: <span style=\"color: #008080; text-decoration-color: #008080; font-weight: bold\">13427</span>, <span style=\"color: #008000; text-decoration-color: #008000\">'cv'</span>: <span style=\"color: #008080; text-decoration-color: #008080; font-weight: bold\">3155</span><span style=\"font-weight: bold\">}</span>,\n",
       "<span style=\"color: #7fbf7f; text-decoration-color: #7fbf7f\">│   </span><span style=\"font-weight: bold\">(</span><span style=\"color: #008000; text-decoration-color: #008000\">'eager'</span>, <span style=\"color: #008000; text-decoration-color: #008000\">'chipseq'</span><span style=\"font-weight: bold\">)</span>: <span style=\"font-weight: bold\">{</span><span style=\"color: #008000; text-decoration-color: #008000\">'full'</span>: <span style=\"color: #008080; text-decoration-color: #008080; font-weight: bold\">36824</span>, <span style=\"color: #008000; text-decoration-color: #008000\">'equal'</span>: <span style=\"color: #008080; text-decoration-color: #008080; font-weight: bold\">9774</span>, <span style=\"color: #008000; text-decoration-color: #008000\">'cv'</span>: <span style=\"color: #008080; text-decoration-color: #008080; font-weight: bold\">3402</span><span style=\"font-weight: bold\">}</span>,\n",
       "<span style=\"color: #7fbf7f; text-decoration-color: #7fbf7f\">│   </span><span style=\"font-weight: bold\">(</span><span style=\"color: #008000; text-decoration-color: #008000\">'eager'</span>, <span style=\"color: #008000; text-decoration-color: #008000\">'methylseq'</span><span style=\"font-weight: bold\">)</span>: <span style=\"font-weight: bold\">{</span><span style=\"color: #008000; text-decoration-color: #008000\">'full'</span>: <span style=\"color: #008080; text-decoration-color: #008080; font-weight: bold\">36469</span>, <span style=\"color: #008000; text-decoration-color: #008000\">'equal'</span>: <span style=\"color: #008080; text-decoration-color: #008080; font-weight: bold\">10418</span>, <span style=\"color: #008000; text-decoration-color: #008000\">'cv'</span>: <span style=\"color: #008080; text-decoration-color: #008080; font-weight: bold\">3113</span><span style=\"font-weight: bold\">}</span>,\n",
       "<span style=\"color: #7fbf7f; text-decoration-color: #7fbf7f\">│   </span><span style=\"font-weight: bold\">(</span><span style=\"color: #008000; text-decoration-color: #008000\">'eager'</span>, <span style=\"color: #008000; text-decoration-color: #008000\">'sarek'</span><span style=\"font-weight: bold\">)</span>: <span style=\"font-weight: bold\">{</span><span style=\"color: #008000; text-decoration-color: #008000\">'full'</span>: <span style=\"color: #008080; text-decoration-color: #008080; font-weight: bold\">38179</span>, <span style=\"color: #008000; text-decoration-color: #008000\">'equal'</span>: <span style=\"color: #008080; text-decoration-color: #008080; font-weight: bold\">8526</span>, <span style=\"color: #008000; text-decoration-color: #008000\">'cv'</span>: <span style=\"color: #008080; text-decoration-color: #008080; font-weight: bold\">3295</span><span style=\"font-weight: bold\">}</span>,\n",
       "<span style=\"color: #7fbf7f; text-decoration-color: #7fbf7f\">│   </span><span style=\"font-weight: bold\">(</span><span style=\"color: #008000; text-decoration-color: #008000\">'eager'</span>, <span style=\"color: #008000; text-decoration-color: #008000\">'viralrecon'</span><span style=\"font-weight: bold\">)</span>: <span style=\"font-weight: bold\">{</span><span style=\"color: #008000; text-decoration-color: #008000\">'full'</span>: <span style=\"color: #008080; text-decoration-color: #008080; font-weight: bold\">32383</span>, <span style=\"color: #008000; text-decoration-color: #008000\">'equal'</span>: <span style=\"color: #008080; text-decoration-color: #008080; font-weight: bold\">13491</span>, <span style=\"color: #008000; text-decoration-color: #008000\">'cv'</span>: <span style=\"color: #008080; text-decoration-color: #008080; font-weight: bold\">4126</span><span style=\"font-weight: bold\">}</span>,\n",
       "<span style=\"color: #7fbf7f; text-decoration-color: #7fbf7f\">│   </span><span style=\"font-weight: bold\">(</span><span style=\"color: #008000; text-decoration-color: #008000\">'methylseq'</span>, <span style=\"color: #008000; text-decoration-color: #008000\">'chipseq'</span><span style=\"font-weight: bold\">)</span>: <span style=\"font-weight: bold\">{</span><span style=\"color: #008000; text-decoration-color: #008000\">'full'</span>: <span style=\"color: #008080; text-decoration-color: #008080; font-weight: bold\">33501</span>, <span style=\"color: #008000; text-decoration-color: #008000\">'equal'</span>: <span style=\"color: #008080; text-decoration-color: #008080; font-weight: bold\">12751</span>, <span style=\"color: #008000; text-decoration-color: #008000\">'cv'</span>: <span style=\"color: #008080; text-decoration-color: #008080; font-weight: bold\">3748</span><span style=\"font-weight: bold\">}</span>,\n",
       "<span style=\"color: #7fbf7f; text-decoration-color: #7fbf7f\">│   </span><span style=\"font-weight: bold\">(</span><span style=\"color: #008000; text-decoration-color: #008000\">'methylseq'</span>, <span style=\"color: #008000; text-decoration-color: #008000\">'eager'</span><span style=\"font-weight: bold\">)</span>: <span style=\"font-weight: bold\">{</span><span style=\"color: #008000; text-decoration-color: #008000\">'full'</span>: <span style=\"color: #008080; text-decoration-color: #008080; font-weight: bold\">34859</span>, <span style=\"color: #008000; text-decoration-color: #008000\">'equal'</span>: <span style=\"color: #008080; text-decoration-color: #008080; font-weight: bold\">11823</span>, <span style=\"color: #008000; text-decoration-color: #008000\">'cv'</span>: <span style=\"color: #008080; text-decoration-color: #008080; font-weight: bold\">3318</span><span style=\"font-weight: bold\">}</span>,\n",
       "<span style=\"color: #7fbf7f; text-decoration-color: #7fbf7f\">│   </span><span style=\"font-weight: bold\">(</span><span style=\"color: #008000; text-decoration-color: #008000\">'methylseq'</span>, <span style=\"color: #008000; text-decoration-color: #008000\">'sarek'</span><span style=\"font-weight: bold\">)</span>: <span style=\"font-weight: bold\">{</span><span style=\"color: #008000; text-decoration-color: #008000\">'full'</span>: <span style=\"color: #008080; text-decoration-color: #008080; font-weight: bold\">36094</span>, <span style=\"color: #008000; text-decoration-color: #008000\">'equal'</span>: <span style=\"color: #008080; text-decoration-color: #008080; font-weight: bold\">10595</span>, <span style=\"color: #008000; text-decoration-color: #008000\">'cv'</span>: <span style=\"color: #008080; text-decoration-color: #008080; font-weight: bold\">3311</span><span style=\"font-weight: bold\">}</span>,\n",
       "<span style=\"color: #7fbf7f; text-decoration-color: #7fbf7f\">│   </span><span style=\"font-weight: bold\">(</span><span style=\"color: #008000; text-decoration-color: #008000\">'methylseq'</span>, <span style=\"color: #008000; text-decoration-color: #008000\">'viralrecon'</span><span style=\"font-weight: bold\">)</span>: <span style=\"font-weight: bold\">{</span><span style=\"color: #008000; text-decoration-color: #008000\">'full'</span>: <span style=\"color: #008080; text-decoration-color: #008080; font-weight: bold\">31377</span>, <span style=\"color: #008000; text-decoration-color: #008000\">'equal'</span>: <span style=\"color: #008080; text-decoration-color: #008080; font-weight: bold\">15532</span>, <span style=\"color: #008000; text-decoration-color: #008000\">'cv'</span>: <span style=\"color: #008080; text-decoration-color: #008080; font-weight: bold\">3091</span><span style=\"font-weight: bold\">}</span>,\n",
       "<span style=\"color: #7fbf7f; text-decoration-color: #7fbf7f\">│   </span><span style=\"font-weight: bold\">(</span><span style=\"color: #008000; text-decoration-color: #008000\">'sarek'</span>, <span style=\"color: #008000; text-decoration-color: #008000\">'chipseq'</span><span style=\"font-weight: bold\">)</span>: <span style=\"font-weight: bold\">{</span><span style=\"color: #008000; text-decoration-color: #008000\">'full'</span>: <span style=\"color: #008080; text-decoration-color: #008080; font-weight: bold\">37751</span>, <span style=\"color: #008000; text-decoration-color: #008000\">'equal'</span>: <span style=\"color: #008080; text-decoration-color: #008080; font-weight: bold\">8626</span>, <span style=\"color: #008000; text-decoration-color: #008000\">'cv'</span>: <span style=\"color: #008080; text-decoration-color: #008080; font-weight: bold\">3623</span><span style=\"font-weight: bold\">}</span>,\n",
       "<span style=\"color: #7fbf7f; text-decoration-color: #7fbf7f\">│   </span><span style=\"font-weight: bold\">(</span><span style=\"color: #008000; text-decoration-color: #008000\">'sarek'</span>, <span style=\"color: #008000; text-decoration-color: #008000\">'eager'</span><span style=\"font-weight: bold\">)</span>: <span style=\"font-weight: bold\">{</span><span style=\"color: #008000; text-decoration-color: #008000\">'full'</span>: <span style=\"color: #008080; text-decoration-color: #008080; font-weight: bold\">37251</span>, <span style=\"color: #008000; text-decoration-color: #008000\">'equal'</span>: <span style=\"color: #008080; text-decoration-color: #008080; font-weight: bold\">9476</span>, <span style=\"color: #008000; text-decoration-color: #008000\">'cv'</span>: <span style=\"color: #008080; text-decoration-color: #008080; font-weight: bold\">3273</span><span style=\"font-weight: bold\">}</span>,\n",
       "<span style=\"color: #7fbf7f; text-decoration-color: #7fbf7f\">│   </span><span style=\"font-weight: bold\">(</span><span style=\"color: #008000; text-decoration-color: #008000\">'sarek'</span>, <span style=\"color: #008000; text-decoration-color: #008000\">'methylseq'</span><span style=\"font-weight: bold\">)</span>: <span style=\"font-weight: bold\">{</span><span style=\"color: #008000; text-decoration-color: #008000\">'full'</span>: <span style=\"color: #008080; text-decoration-color: #008080; font-weight: bold\">36114</span>, <span style=\"color: #008000; text-decoration-color: #008000\">'equal'</span>: <span style=\"color: #008080; text-decoration-color: #008080; font-weight: bold\">9741</span>, <span style=\"color: #008000; text-decoration-color: #008000\">'cv'</span>: <span style=\"color: #008080; text-decoration-color: #008080; font-weight: bold\">4145</span><span style=\"font-weight: bold\">}</span>,\n",
       "<span style=\"color: #7fbf7f; text-decoration-color: #7fbf7f\">│   </span><span style=\"font-weight: bold\">(</span><span style=\"color: #008000; text-decoration-color: #008000\">'sarek'</span>, <span style=\"color: #008000; text-decoration-color: #008000\">'viralrecon'</span><span style=\"font-weight: bold\">)</span>: <span style=\"font-weight: bold\">{</span><span style=\"color: #008000; text-decoration-color: #008000\">'full'</span>: <span style=\"color: #008080; text-decoration-color: #008080; font-weight: bold\">35965</span>, <span style=\"color: #008000; text-decoration-color: #008000\">'equal'</span>: <span style=\"color: #008080; text-decoration-color: #008080; font-weight: bold\">11397</span>, <span style=\"color: #008000; text-decoration-color: #008000\">'cv'</span>: <span style=\"color: #008080; text-decoration-color: #008080; font-weight: bold\">2638</span><span style=\"font-weight: bold\">}</span>,\n",
       "<span style=\"color: #7fbf7f; text-decoration-color: #7fbf7f\">│   </span><span style=\"font-weight: bold\">(</span><span style=\"color: #008000; text-decoration-color: #008000\">'viralrecon'</span>, <span style=\"color: #008000; text-decoration-color: #008000\">'chipseq'</span><span style=\"font-weight: bold\">)</span>: <span style=\"font-weight: bold\">{</span><span style=\"color: #008000; text-decoration-color: #008000\">'full'</span>: <span style=\"color: #008080; text-decoration-color: #008080; font-weight: bold\">32140</span>, <span style=\"color: #008000; text-decoration-color: #008000\">'equal'</span>: <span style=\"color: #008080; text-decoration-color: #008080; font-weight: bold\">14288</span>, <span style=\"color: #008000; text-decoration-color: #008000\">'cv'</span>: <span style=\"color: #008080; text-decoration-color: #008080; font-weight: bold\">3572</span><span style=\"font-weight: bold\">}</span>,\n",
       "<span style=\"color: #7fbf7f; text-decoration-color: #7fbf7f\">│   </span><span style=\"font-weight: bold\">(</span><span style=\"color: #008000; text-decoration-color: #008000\">'viralrecon'</span>, <span style=\"color: #008000; text-decoration-color: #008000\">'eager'</span><span style=\"font-weight: bold\">)</span>: <span style=\"font-weight: bold\">{</span><span style=\"color: #008000; text-decoration-color: #008000\">'full'</span>: <span style=\"color: #008080; text-decoration-color: #008080; font-weight: bold\">36631</span>, <span style=\"color: #008000; text-decoration-color: #008000\">'equal'</span>: <span style=\"color: #008080; text-decoration-color: #008080; font-weight: bold\">10288</span>, <span style=\"color: #008000; text-decoration-color: #008000\">'cv'</span>: <span style=\"color: #008080; text-decoration-color: #008080; font-weight: bold\">3081</span><span style=\"font-weight: bold\">}</span>,\n",
       "<span style=\"color: #7fbf7f; text-decoration-color: #7fbf7f\">│   </span><span style=\"font-weight: bold\">(</span><span style=\"color: #008000; text-decoration-color: #008000\">'viralrecon'</span>, <span style=\"color: #008000; text-decoration-color: #008000\">'methylseq'</span><span style=\"font-weight: bold\">)</span>: <span style=\"font-weight: bold\">{</span><span style=\"color: #008000; text-decoration-color: #008000\">'full'</span>: <span style=\"color: #008080; text-decoration-color: #008080; font-weight: bold\">36264</span>, <span style=\"color: #008000; text-decoration-color: #008000\">'equal'</span>: <span style=\"color: #008080; text-decoration-color: #008080; font-weight: bold\">9845</span>, <span style=\"color: #008000; text-decoration-color: #008000\">'cv'</span>: <span style=\"color: #008080; text-decoration-color: #008080; font-weight: bold\">3891</span><span style=\"font-weight: bold\">}</span>,\n",
       "<span style=\"color: #7fbf7f; text-decoration-color: #7fbf7f\">│   </span><span style=\"font-weight: bold\">(</span><span style=\"color: #008000; text-decoration-color: #008000\">'viralrecon'</span>, <span style=\"color: #008000; text-decoration-color: #008000\">'sarek'</span><span style=\"font-weight: bold\">)</span>: <span style=\"font-weight: bold\">{</span><span style=\"color: #008000; text-decoration-color: #008000\">'full'</span>: <span style=\"color: #008080; text-decoration-color: #008080; font-weight: bold\">36442</span>, <span style=\"color: #008000; text-decoration-color: #008000\">'equal'</span>: <span style=\"color: #008080; text-decoration-color: #008080; font-weight: bold\">9829</span>, <span style=\"color: #008000; text-decoration-color: #008000\">'cv'</span>: <span style=\"color: #008080; text-decoration-color: #008080; font-weight: bold\">3729</span><span style=\"font-weight: bold\">}</span>\n",
       "<span style=\"font-weight: bold\">}</span>\n",
       "</pre>\n"
      ],
      "text/plain": [
       "\u001b[1m{\u001b[0m\n",
       "\u001b[2;32m│   \u001b[0m\u001b[1m(\u001b[0m\u001b[32m'chipseq'\u001b[0m, \u001b[32m'eager'\u001b[0m\u001b[1m)\u001b[0m: \u001b[1m{\u001b[0m\u001b[32m'full'\u001b[0m: \u001b[1;36m29475\u001b[0m, \u001b[32m'equal'\u001b[0m: \u001b[1;36m15932\u001b[0m, \u001b[32m'cv'\u001b[0m: \u001b[1;36m4593\u001b[0m\u001b[1m}\u001b[0m,\n",
       "\u001b[2;32m│   \u001b[0m\u001b[1m(\u001b[0m\u001b[32m'chipseq'\u001b[0m, \u001b[32m'methylseq'\u001b[0m\u001b[1m)\u001b[0m: \u001b[1m{\u001b[0m\u001b[32m'full'\u001b[0m: \u001b[1;36m32719\u001b[0m, \u001b[32m'equal'\u001b[0m: \u001b[1;36m13238\u001b[0m, \u001b[32m'cv'\u001b[0m: \u001b[1;36m4043\u001b[0m\u001b[1m}\u001b[0m,\n",
       "\u001b[2;32m│   \u001b[0m\u001b[1m(\u001b[0m\u001b[32m'chipseq'\u001b[0m, \u001b[32m'sarek'\u001b[0m\u001b[1m)\u001b[0m: \u001b[1m{\u001b[0m\u001b[32m'full'\u001b[0m: \u001b[1;36m33699\u001b[0m, \u001b[32m'equal'\u001b[0m: \u001b[1;36m13000\u001b[0m, \u001b[32m'cv'\u001b[0m: \u001b[1;36m3301\u001b[0m\u001b[1m}\u001b[0m,\n",
       "\u001b[2;32m│   \u001b[0m\u001b[1m(\u001b[0m\u001b[32m'chipseq'\u001b[0m, \u001b[32m'viralrecon'\u001b[0m\u001b[1m)\u001b[0m: \u001b[1m{\u001b[0m\u001b[32m'full'\u001b[0m: \u001b[1;36m33418\u001b[0m, \u001b[32m'equal'\u001b[0m: \u001b[1;36m13427\u001b[0m, \u001b[32m'cv'\u001b[0m: \u001b[1;36m3155\u001b[0m\u001b[1m}\u001b[0m,\n",
       "\u001b[2;32m│   \u001b[0m\u001b[1m(\u001b[0m\u001b[32m'eager'\u001b[0m, \u001b[32m'chipseq'\u001b[0m\u001b[1m)\u001b[0m: \u001b[1m{\u001b[0m\u001b[32m'full'\u001b[0m: \u001b[1;36m36824\u001b[0m, \u001b[32m'equal'\u001b[0m: \u001b[1;36m9774\u001b[0m, \u001b[32m'cv'\u001b[0m: \u001b[1;36m3402\u001b[0m\u001b[1m}\u001b[0m,\n",
       "\u001b[2;32m│   \u001b[0m\u001b[1m(\u001b[0m\u001b[32m'eager'\u001b[0m, \u001b[32m'methylseq'\u001b[0m\u001b[1m)\u001b[0m: \u001b[1m{\u001b[0m\u001b[32m'full'\u001b[0m: \u001b[1;36m36469\u001b[0m, \u001b[32m'equal'\u001b[0m: \u001b[1;36m10418\u001b[0m, \u001b[32m'cv'\u001b[0m: \u001b[1;36m3113\u001b[0m\u001b[1m}\u001b[0m,\n",
       "\u001b[2;32m│   \u001b[0m\u001b[1m(\u001b[0m\u001b[32m'eager'\u001b[0m, \u001b[32m'sarek'\u001b[0m\u001b[1m)\u001b[0m: \u001b[1m{\u001b[0m\u001b[32m'full'\u001b[0m: \u001b[1;36m38179\u001b[0m, \u001b[32m'equal'\u001b[0m: \u001b[1;36m8526\u001b[0m, \u001b[32m'cv'\u001b[0m: \u001b[1;36m3295\u001b[0m\u001b[1m}\u001b[0m,\n",
       "\u001b[2;32m│   \u001b[0m\u001b[1m(\u001b[0m\u001b[32m'eager'\u001b[0m, \u001b[32m'viralrecon'\u001b[0m\u001b[1m)\u001b[0m: \u001b[1m{\u001b[0m\u001b[32m'full'\u001b[0m: \u001b[1;36m32383\u001b[0m, \u001b[32m'equal'\u001b[0m: \u001b[1;36m13491\u001b[0m, \u001b[32m'cv'\u001b[0m: \u001b[1;36m4126\u001b[0m\u001b[1m}\u001b[0m,\n",
       "\u001b[2;32m│   \u001b[0m\u001b[1m(\u001b[0m\u001b[32m'methylseq'\u001b[0m, \u001b[32m'chipseq'\u001b[0m\u001b[1m)\u001b[0m: \u001b[1m{\u001b[0m\u001b[32m'full'\u001b[0m: \u001b[1;36m33501\u001b[0m, \u001b[32m'equal'\u001b[0m: \u001b[1;36m12751\u001b[0m, \u001b[32m'cv'\u001b[0m: \u001b[1;36m3748\u001b[0m\u001b[1m}\u001b[0m,\n",
       "\u001b[2;32m│   \u001b[0m\u001b[1m(\u001b[0m\u001b[32m'methylseq'\u001b[0m, \u001b[32m'eager'\u001b[0m\u001b[1m)\u001b[0m: \u001b[1m{\u001b[0m\u001b[32m'full'\u001b[0m: \u001b[1;36m34859\u001b[0m, \u001b[32m'equal'\u001b[0m: \u001b[1;36m11823\u001b[0m, \u001b[32m'cv'\u001b[0m: \u001b[1;36m3318\u001b[0m\u001b[1m}\u001b[0m,\n",
       "\u001b[2;32m│   \u001b[0m\u001b[1m(\u001b[0m\u001b[32m'methylseq'\u001b[0m, \u001b[32m'sarek'\u001b[0m\u001b[1m)\u001b[0m: \u001b[1m{\u001b[0m\u001b[32m'full'\u001b[0m: \u001b[1;36m36094\u001b[0m, \u001b[32m'equal'\u001b[0m: \u001b[1;36m10595\u001b[0m, \u001b[32m'cv'\u001b[0m: \u001b[1;36m3311\u001b[0m\u001b[1m}\u001b[0m,\n",
       "\u001b[2;32m│   \u001b[0m\u001b[1m(\u001b[0m\u001b[32m'methylseq'\u001b[0m, \u001b[32m'viralrecon'\u001b[0m\u001b[1m)\u001b[0m: \u001b[1m{\u001b[0m\u001b[32m'full'\u001b[0m: \u001b[1;36m31377\u001b[0m, \u001b[32m'equal'\u001b[0m: \u001b[1;36m15532\u001b[0m, \u001b[32m'cv'\u001b[0m: \u001b[1;36m3091\u001b[0m\u001b[1m}\u001b[0m,\n",
       "\u001b[2;32m│   \u001b[0m\u001b[1m(\u001b[0m\u001b[32m'sarek'\u001b[0m, \u001b[32m'chipseq'\u001b[0m\u001b[1m)\u001b[0m: \u001b[1m{\u001b[0m\u001b[32m'full'\u001b[0m: \u001b[1;36m37751\u001b[0m, \u001b[32m'equal'\u001b[0m: \u001b[1;36m8626\u001b[0m, \u001b[32m'cv'\u001b[0m: \u001b[1;36m3623\u001b[0m\u001b[1m}\u001b[0m,\n",
       "\u001b[2;32m│   \u001b[0m\u001b[1m(\u001b[0m\u001b[32m'sarek'\u001b[0m, \u001b[32m'eager'\u001b[0m\u001b[1m)\u001b[0m: \u001b[1m{\u001b[0m\u001b[32m'full'\u001b[0m: \u001b[1;36m37251\u001b[0m, \u001b[32m'equal'\u001b[0m: \u001b[1;36m9476\u001b[0m, \u001b[32m'cv'\u001b[0m: \u001b[1;36m3273\u001b[0m\u001b[1m}\u001b[0m,\n",
       "\u001b[2;32m│   \u001b[0m\u001b[1m(\u001b[0m\u001b[32m'sarek'\u001b[0m, \u001b[32m'methylseq'\u001b[0m\u001b[1m)\u001b[0m: \u001b[1m{\u001b[0m\u001b[32m'full'\u001b[0m: \u001b[1;36m36114\u001b[0m, \u001b[32m'equal'\u001b[0m: \u001b[1;36m9741\u001b[0m, \u001b[32m'cv'\u001b[0m: \u001b[1;36m4145\u001b[0m\u001b[1m}\u001b[0m,\n",
       "\u001b[2;32m│   \u001b[0m\u001b[1m(\u001b[0m\u001b[32m'sarek'\u001b[0m, \u001b[32m'viralrecon'\u001b[0m\u001b[1m)\u001b[0m: \u001b[1m{\u001b[0m\u001b[32m'full'\u001b[0m: \u001b[1;36m35965\u001b[0m, \u001b[32m'equal'\u001b[0m: \u001b[1;36m11397\u001b[0m, \u001b[32m'cv'\u001b[0m: \u001b[1;36m2638\u001b[0m\u001b[1m}\u001b[0m,\n",
       "\u001b[2;32m│   \u001b[0m\u001b[1m(\u001b[0m\u001b[32m'viralrecon'\u001b[0m, \u001b[32m'chipseq'\u001b[0m\u001b[1m)\u001b[0m: \u001b[1m{\u001b[0m\u001b[32m'full'\u001b[0m: \u001b[1;36m32140\u001b[0m, \u001b[32m'equal'\u001b[0m: \u001b[1;36m14288\u001b[0m, \u001b[32m'cv'\u001b[0m: \u001b[1;36m3572\u001b[0m\u001b[1m}\u001b[0m,\n",
       "\u001b[2;32m│   \u001b[0m\u001b[1m(\u001b[0m\u001b[32m'viralrecon'\u001b[0m, \u001b[32m'eager'\u001b[0m\u001b[1m)\u001b[0m: \u001b[1m{\u001b[0m\u001b[32m'full'\u001b[0m: \u001b[1;36m36631\u001b[0m, \u001b[32m'equal'\u001b[0m: \u001b[1;36m10288\u001b[0m, \u001b[32m'cv'\u001b[0m: \u001b[1;36m3081\u001b[0m\u001b[1m}\u001b[0m,\n",
       "\u001b[2;32m│   \u001b[0m\u001b[1m(\u001b[0m\u001b[32m'viralrecon'\u001b[0m, \u001b[32m'methylseq'\u001b[0m\u001b[1m)\u001b[0m: \u001b[1m{\u001b[0m\u001b[32m'full'\u001b[0m: \u001b[1;36m36264\u001b[0m, \u001b[32m'equal'\u001b[0m: \u001b[1;36m9845\u001b[0m, \u001b[32m'cv'\u001b[0m: \u001b[1;36m3891\u001b[0m\u001b[1m}\u001b[0m,\n",
       "\u001b[2;32m│   \u001b[0m\u001b[1m(\u001b[0m\u001b[32m'viralrecon'\u001b[0m, \u001b[32m'sarek'\u001b[0m\u001b[1m)\u001b[0m: \u001b[1m{\u001b[0m\u001b[32m'full'\u001b[0m: \u001b[1;36m36442\u001b[0m, \u001b[32m'equal'\u001b[0m: \u001b[1;36m9829\u001b[0m, \u001b[32m'cv'\u001b[0m: \u001b[1;36m3729\u001b[0m\u001b[1m}\u001b[0m\n",
       "\u001b[1m}\u001b[0m\n"
      ]
     },
     "metadata": {},
     "output_type": "display_data"
    }
   ],
   "source": [
    "if Path(\"splitComp.pickle\").is_file():\n",
    "    with open(\"splitComp.pickle\", \"br\") as f:\n",
    "        splitComp = pickle.load(f)\n",
    "else:\n",
    "    splitComp = dict()\n",
    "    for split, tab in bisCVBigtable.groupby([\"cvSplit\", \"ukSplit\"]):\n",
    "        rc.log(split)\n",
    "        splitComp[split] = compareCVFull(bisBigtable, tab.drop([\"cvSplit\", \"ukSplit\"],axis=1))\n",
    "        rc.log(splitComp[split])\n",
    "    with open(\"splitComp.pickle\", \"bw\") as f:\n",
    "        pickle.dump(splitComp, f)\n",
    "pprint(splitComp)"
   ]
  },
  {
   "cell_type": "code",
   "execution_count": 53,
   "metadata": {},
   "outputs": [
    {
     "data": {
      "text/html": [
       "<div>\n",
       "<style scoped>\n",
       "    .dataframe tbody tr th:only-of-type {\n",
       "        vertical-align: middle;\n",
       "    }\n",
       "\n",
       "    .dataframe tbody tr th {\n",
       "        vertical-align: top;\n",
       "    }\n",
       "\n",
       "    .dataframe thead th {\n",
       "        text-align: right;\n",
       "    }\n",
       "</style>\n",
       "<table border=\"1\" class=\"dataframe\">\n",
       "  <thead>\n",
       "    <tr style=\"text-align: right;\">\n",
       "      <th>ukSplit</th>\n",
       "      <th>chipseq</th>\n",
       "      <th>eager</th>\n",
       "      <th>methylseq</th>\n",
       "      <th>sarek</th>\n",
       "      <th>viralrecon</th>\n",
       "    </tr>\n",
       "    <tr>\n",
       "      <th>cvSplit</th>\n",
       "      <th></th>\n",
       "      <th></th>\n",
       "      <th></th>\n",
       "      <th></th>\n",
       "      <th></th>\n",
       "    </tr>\n",
       "  </thead>\n",
       "  <tbody>\n",
       "    <tr>\n",
       "      <th>chipseq</th>\n",
       "      <td>NaN</td>\n",
       "      <td>29475.0</td>\n",
       "      <td>32719.0</td>\n",
       "      <td>33699.0</td>\n",
       "      <td>33418.0</td>\n",
       "    </tr>\n",
       "    <tr>\n",
       "      <th>eager</th>\n",
       "      <td>36824.0</td>\n",
       "      <td>NaN</td>\n",
       "      <td>36469.0</td>\n",
       "      <td>38179.0</td>\n",
       "      <td>32383.0</td>\n",
       "    </tr>\n",
       "    <tr>\n",
       "      <th>methylseq</th>\n",
       "      <td>33501.0</td>\n",
       "      <td>34859.0</td>\n",
       "      <td>NaN</td>\n",
       "      <td>36094.0</td>\n",
       "      <td>31377.0</td>\n",
       "    </tr>\n",
       "    <tr>\n",
       "      <th>sarek</th>\n",
       "      <td>37751.0</td>\n",
       "      <td>37251.0</td>\n",
       "      <td>36114.0</td>\n",
       "      <td>NaN</td>\n",
       "      <td>35965.0</td>\n",
       "    </tr>\n",
       "    <tr>\n",
       "      <th>viralrecon</th>\n",
       "      <td>32140.0</td>\n",
       "      <td>36631.0</td>\n",
       "      <td>36264.0</td>\n",
       "      <td>36442.0</td>\n",
       "      <td>NaN</td>\n",
       "    </tr>\n",
       "  </tbody>\n",
       "</table>\n",
       "</div>"
      ]
     },
     "execution_count": 53,
     "metadata": {},
     "output_type": "execute_result"
    }
   ],
   "source": [
    "col = list()\n",
    "for split, comp in splitComp.items():\n",
    "    cv, uk = split\n",
    "    col.append([cv, uk, comp['full'], comp['equal'], comp['cv']])\n",
    "compDF = pds.DataFrame(data=col, columns=[\"cvSplit\", \"ukSplit\", \"full\", \"equal\", \"cv\"])\n",
    "compDF\n",
    "compDF.pivot(\"cvSplit\", \"ukSplit\", \"full\")\n",
    "#print(compDF.pivot(\"cvSplit\", \"ukSplit\",\"text\").to_latex(na_rep=\"-\"))"
   ]
  },
  {
   "cell_type": "code",
   "execution_count": 54,
   "metadata": {
    "tags": []
   },
   "outputs": [
    {
     "data": {
      "text/html": [
       "<pre style=\"white-space:pre;overflow-x:auto;line-height:normal;font-family:Menlo,'DejaVu Sans Mono',consolas,'Courier New',monospace\"><span style=\"color: #7fbfbf; text-decoration-color: #7fbfbf\">[23:24:28] </span><span style=\"font-weight: bold\">(</span><span style=\"color: #008000; text-decoration-color: #008000\">'chipseq'</span>, <span style=\"color: #008000; text-decoration-color: #008000\">'eager'</span><span style=\"font-weight: bold\">)</span>                                               <a href=\"file:///tmp/ipykernel_37830/2767032462.py\"><span style=\"color: #7f7f7f; text-decoration-color: #7f7f7f\">2767032462.py</span></a><span style=\"color: #7f7f7f; text-decoration-color: #7f7f7f\">:3</span>\n",
       "</pre>\n"
      ],
      "text/plain": [
       "\u001b[2;36m[23:24:28]\u001b[0m\u001b[2;36m \u001b[0m\u001b[1m(\u001b[0m\u001b[32m'chipseq'\u001b[0m, \u001b[32m'eager'\u001b[0m\u001b[1m)\u001b[0m                                               \u001b]8;id=5640;file:///tmp/ipykernel_37830/2767032462.py\u001b\\\u001b[2m2767032462.py\u001b[0m\u001b]8;;\u001b\\\u001b[2m:3\u001b[0m\n"
      ]
     },
     "metadata": {},
     "output_type": "display_data"
    },
    {
     "data": {
      "application/vnd.jupyter.widget-view+json": {
       "model_id": "8b382801213545a397c3f17e94993224",
       "version_major": 2,
       "version_minor": 0
      },
      "text/plain": [
       "Output()"
      ]
     },
     "metadata": {},
     "output_type": "display_data"
    },
    {
     "data": {
      "text/html": [
       "<pre style=\"white-space:pre;overflow-x:auto;line-height:normal;font-family:Menlo,'DejaVu Sans Mono',consolas,'Courier New',monospace\"><span style=\"color: #7fbfbf; text-decoration-color: #7fbfbf\">           </span><span style=\"font-weight: bold\">{</span><span style=\"color: #008000; text-decoration-color: #008000\">'full'</span>: <span style=\"color: #008080; text-decoration-color: #008080; font-weight: bold\">5307</span>, <span style=\"color: #008000; text-decoration-color: #008000\">'equal'</span>: <span style=\"color: #008080; text-decoration-color: #008080; font-weight: bold\">44358</span>, <span style=\"color: #008000; text-decoration-color: #008000\">'cv'</span>: <span style=\"color: #008080; text-decoration-color: #008080; font-weight: bold\">335</span><span style=\"font-weight: bold\">}</span>                          <a href=\"file:///tmp/ipykernel_37830/2767032462.py\"><span style=\"color: #7f7f7f; text-decoration-color: #7f7f7f\">2767032462.py</span></a><span style=\"color: #7f7f7f; text-decoration-color: #7f7f7f\">:5</span>\n",
       "</pre>\n"
      ],
      "text/plain": [
       "\u001b[2;36m          \u001b[0m\u001b[2;36m \u001b[0m\u001b[1m{\u001b[0m\u001b[32m'full'\u001b[0m: \u001b[1;36m5307\u001b[0m, \u001b[32m'equal'\u001b[0m: \u001b[1;36m44358\u001b[0m, \u001b[32m'cv'\u001b[0m: \u001b[1;36m335\u001b[0m\u001b[1m}\u001b[0m                          \u001b]8;id=272974;file:///tmp/ipykernel_37830/2767032462.py\u001b\\\u001b[2m2767032462.py\u001b[0m\u001b]8;;\u001b\\\u001b[2m:5\u001b[0m\n"
      ]
     },
     "metadata": {},
     "output_type": "display_data"
    },
    {
     "data": {
      "text/html": [
       "<pre style=\"white-space:pre;overflow-x:auto;line-height:normal;font-family:Menlo,'DejaVu Sans Mono',consolas,'Courier New',monospace\"><span style=\"color: #7fbfbf; text-decoration-color: #7fbfbf\">           </span><span style=\"font-weight: bold\">(</span><span style=\"color: #008000; text-decoration-color: #008000\">'chipseq'</span>, <span style=\"color: #008000; text-decoration-color: #008000\">'methylseq'</span><span style=\"font-weight: bold\">)</span>                                           <a href=\"file:///tmp/ipykernel_37830/2767032462.py\"><span style=\"color: #7f7f7f; text-decoration-color: #7f7f7f\">2767032462.py</span></a><span style=\"color: #7f7f7f; text-decoration-color: #7f7f7f\">:3</span>\n",
       "</pre>\n"
      ],
      "text/plain": [
       "\u001b[2;36m          \u001b[0m\u001b[2;36m \u001b[0m\u001b[1m(\u001b[0m\u001b[32m'chipseq'\u001b[0m, \u001b[32m'methylseq'\u001b[0m\u001b[1m)\u001b[0m                                           \u001b]8;id=346567;file:///tmp/ipykernel_37830/2767032462.py\u001b\\\u001b[2m2767032462.py\u001b[0m\u001b]8;;\u001b\\\u001b[2m:3\u001b[0m\n"
      ]
     },
     "metadata": {},
     "output_type": "display_data"
    },
    {
     "data": {
      "application/vnd.jupyter.widget-view+json": {
       "model_id": "c2abea32babe415db76085d79c1631f3",
       "version_major": 2,
       "version_minor": 0
      },
      "text/plain": [
       "Output()"
      ]
     },
     "metadata": {},
     "output_type": "display_data"
    },
    {
     "data": {
      "text/html": [
       "<pre style=\"white-space:pre;overflow-x:auto;line-height:normal;font-family:Menlo,'DejaVu Sans Mono',consolas,'Courier New',monospace\"><span style=\"color: #7fbfbf; text-decoration-color: #7fbfbf\">[23:24:29] </span><span style=\"font-weight: bold\">{</span><span style=\"color: #008000; text-decoration-color: #008000\">'full'</span>: <span style=\"color: #008080; text-decoration-color: #008080; font-weight: bold\">4480</span>, <span style=\"color: #008000; text-decoration-color: #008000\">'equal'</span>: <span style=\"color: #008080; text-decoration-color: #008080; font-weight: bold\">45349</span>, <span style=\"color: #008000; text-decoration-color: #008000\">'cv'</span>: <span style=\"color: #008080; text-decoration-color: #008080; font-weight: bold\">171</span><span style=\"font-weight: bold\">}</span>                          <a href=\"file:///tmp/ipykernel_37830/2767032462.py\"><span style=\"color: #7f7f7f; text-decoration-color: #7f7f7f\">2767032462.py</span></a><span style=\"color: #7f7f7f; text-decoration-color: #7f7f7f\">:5</span>\n",
       "</pre>\n"
      ],
      "text/plain": [
       "\u001b[2;36m[23:24:29]\u001b[0m\u001b[2;36m \u001b[0m\u001b[1m{\u001b[0m\u001b[32m'full'\u001b[0m: \u001b[1;36m4480\u001b[0m, \u001b[32m'equal'\u001b[0m: \u001b[1;36m45349\u001b[0m, \u001b[32m'cv'\u001b[0m: \u001b[1;36m171\u001b[0m\u001b[1m}\u001b[0m                          \u001b]8;id=775148;file:///tmp/ipykernel_37830/2767032462.py\u001b\\\u001b[2m2767032462.py\u001b[0m\u001b]8;;\u001b\\\u001b[2m:5\u001b[0m\n"
      ]
     },
     "metadata": {},
     "output_type": "display_data"
    },
    {
     "data": {
      "text/html": [
       "<pre style=\"white-space:pre;overflow-x:auto;line-height:normal;font-family:Menlo,'DejaVu Sans Mono',consolas,'Courier New',monospace\"><span style=\"color: #7fbfbf; text-decoration-color: #7fbfbf\">           </span><span style=\"font-weight: bold\">(</span><span style=\"color: #008000; text-decoration-color: #008000\">'chipseq'</span>, <span style=\"color: #008000; text-decoration-color: #008000\">'sarek'</span><span style=\"font-weight: bold\">)</span>                                               <a href=\"file:///tmp/ipykernel_37830/2767032462.py\"><span style=\"color: #7f7f7f; text-decoration-color: #7f7f7f\">2767032462.py</span></a><span style=\"color: #7f7f7f; text-decoration-color: #7f7f7f\">:3</span>\n",
       "</pre>\n"
      ],
      "text/plain": [
       "\u001b[2;36m          \u001b[0m\u001b[2;36m \u001b[0m\u001b[1m(\u001b[0m\u001b[32m'chipseq'\u001b[0m, \u001b[32m'sarek'\u001b[0m\u001b[1m)\u001b[0m                                               \u001b]8;id=769800;file:///tmp/ipykernel_37830/2767032462.py\u001b\\\u001b[2m2767032462.py\u001b[0m\u001b]8;;\u001b\\\u001b[2m:3\u001b[0m\n"
      ]
     },
     "metadata": {},
     "output_type": "display_data"
    },
    {
     "data": {
      "application/vnd.jupyter.widget-view+json": {
       "model_id": "7192206e70ec438da3089c4a49585d28",
       "version_major": 2,
       "version_minor": 0
      },
      "text/plain": [
       "Output()"
      ]
     },
     "metadata": {},
     "output_type": "display_data"
    },
    {
     "data": {
      "text/html": [
       "<pre style=\"white-space:pre;overflow-x:auto;line-height:normal;font-family:Menlo,'DejaVu Sans Mono',consolas,'Courier New',monospace\"><span style=\"color: #7fbfbf; text-decoration-color: #7fbfbf\">           </span><span style=\"font-weight: bold\">{</span><span style=\"color: #008000; text-decoration-color: #008000\">'full'</span>: <span style=\"color: #008080; text-decoration-color: #008080; font-weight: bold\">4943</span>, <span style=\"color: #008000; text-decoration-color: #008000\">'equal'</span>: <span style=\"color: #008080; text-decoration-color: #008080; font-weight: bold\">44865</span>, <span style=\"color: #008000; text-decoration-color: #008000\">'cv'</span>: <span style=\"color: #008080; text-decoration-color: #008080; font-weight: bold\">192</span><span style=\"font-weight: bold\">}</span>                          <a href=\"file:///tmp/ipykernel_37830/2767032462.py\"><span style=\"color: #7f7f7f; text-decoration-color: #7f7f7f\">2767032462.py</span></a><span style=\"color: #7f7f7f; text-decoration-color: #7f7f7f\">:5</span>\n",
       "</pre>\n"
      ],
      "text/plain": [
       "\u001b[2;36m          \u001b[0m\u001b[2;36m \u001b[0m\u001b[1m{\u001b[0m\u001b[32m'full'\u001b[0m: \u001b[1;36m4943\u001b[0m, \u001b[32m'equal'\u001b[0m: \u001b[1;36m44865\u001b[0m, \u001b[32m'cv'\u001b[0m: \u001b[1;36m192\u001b[0m\u001b[1m}\u001b[0m                          \u001b]8;id=922873;file:///tmp/ipykernel_37830/2767032462.py\u001b\\\u001b[2m2767032462.py\u001b[0m\u001b]8;;\u001b\\\u001b[2m:5\u001b[0m\n"
      ]
     },
     "metadata": {},
     "output_type": "display_data"
    },
    {
     "data": {
      "text/html": [
       "<pre style=\"white-space:pre;overflow-x:auto;line-height:normal;font-family:Menlo,'DejaVu Sans Mono',consolas,'Courier New',monospace\"><span style=\"color: #7fbfbf; text-decoration-color: #7fbfbf\">           </span><span style=\"font-weight: bold\">(</span><span style=\"color: #008000; text-decoration-color: #008000\">'chipseq'</span>, <span style=\"color: #008000; text-decoration-color: #008000\">'viralrecon'</span><span style=\"font-weight: bold\">)</span>                                          <a href=\"file:///tmp/ipykernel_37830/2767032462.py\"><span style=\"color: #7f7f7f; text-decoration-color: #7f7f7f\">2767032462.py</span></a><span style=\"color: #7f7f7f; text-decoration-color: #7f7f7f\">:3</span>\n",
       "</pre>\n"
      ],
      "text/plain": [
       "\u001b[2;36m          \u001b[0m\u001b[2;36m \u001b[0m\u001b[1m(\u001b[0m\u001b[32m'chipseq'\u001b[0m, \u001b[32m'viralrecon'\u001b[0m\u001b[1m)\u001b[0m                                          \u001b]8;id=646519;file:///tmp/ipykernel_37830/2767032462.py\u001b\\\u001b[2m2767032462.py\u001b[0m\u001b]8;;\u001b\\\u001b[2m:3\u001b[0m\n"
      ]
     },
     "metadata": {},
     "output_type": "display_data"
    },
    {
     "data": {
      "application/vnd.jupyter.widget-view+json": {
       "model_id": "efd79b87f8804435871cca92f8c6874a",
       "version_major": 2,
       "version_minor": 0
      },
      "text/plain": [
       "Output()"
      ]
     },
     "metadata": {},
     "output_type": "display_data"
    },
    {
     "data": {
      "text/html": [
       "<pre style=\"white-space:pre;overflow-x:auto;line-height:normal;font-family:Menlo,'DejaVu Sans Mono',consolas,'Courier New',monospace\"><span style=\"color: #7fbfbf; text-decoration-color: #7fbfbf\">           </span><span style=\"font-weight: bold\">{</span><span style=\"color: #008000; text-decoration-color: #008000\">'full'</span>: <span style=\"color: #008080; text-decoration-color: #008080; font-weight: bold\">8774</span>, <span style=\"color: #008000; text-decoration-color: #008000\">'equal'</span>: <span style=\"color: #008080; text-decoration-color: #008080; font-weight: bold\">41022</span>, <span style=\"color: #008000; text-decoration-color: #008000\">'cv'</span>: <span style=\"color: #008080; text-decoration-color: #008080; font-weight: bold\">204</span><span style=\"font-weight: bold\">}</span>                          <a href=\"file:///tmp/ipykernel_37830/2767032462.py\"><span style=\"color: #7f7f7f; text-decoration-color: #7f7f7f\">2767032462.py</span></a><span style=\"color: #7f7f7f; text-decoration-color: #7f7f7f\">:5</span>\n",
       "</pre>\n"
      ],
      "text/plain": [
       "\u001b[2;36m          \u001b[0m\u001b[2;36m \u001b[0m\u001b[1m{\u001b[0m\u001b[32m'full'\u001b[0m: \u001b[1;36m8774\u001b[0m, \u001b[32m'equal'\u001b[0m: \u001b[1;36m41022\u001b[0m, \u001b[32m'cv'\u001b[0m: \u001b[1;36m204\u001b[0m\u001b[1m}\u001b[0m                          \u001b]8;id=611572;file:///tmp/ipykernel_37830/2767032462.py\u001b\\\u001b[2m2767032462.py\u001b[0m\u001b]8;;\u001b\\\u001b[2m:5\u001b[0m\n"
      ]
     },
     "metadata": {},
     "output_type": "display_data"
    },
    {
     "data": {
      "text/html": [
       "<pre style=\"white-space:pre;overflow-x:auto;line-height:normal;font-family:Menlo,'DejaVu Sans Mono',consolas,'Courier New',monospace\"><span style=\"color: #7fbfbf; text-decoration-color: #7fbfbf\">           </span><span style=\"font-weight: bold\">(</span><span style=\"color: #008000; text-decoration-color: #008000\">'eager'</span>, <span style=\"color: #008000; text-decoration-color: #008000\">'chipseq'</span><span style=\"font-weight: bold\">)</span>                                               <a href=\"file:///tmp/ipykernel_37830/2767032462.py\"><span style=\"color: #7f7f7f; text-decoration-color: #7f7f7f\">2767032462.py</span></a><span style=\"color: #7f7f7f; text-decoration-color: #7f7f7f\">:3</span>\n",
       "</pre>\n"
      ],
      "text/plain": [
       "\u001b[2;36m          \u001b[0m\u001b[2;36m \u001b[0m\u001b[1m(\u001b[0m\u001b[32m'eager'\u001b[0m, \u001b[32m'chipseq'\u001b[0m\u001b[1m)\u001b[0m                                               \u001b]8;id=647385;file:///tmp/ipykernel_37830/2767032462.py\u001b\\\u001b[2m2767032462.py\u001b[0m\u001b]8;;\u001b\\\u001b[2m:3\u001b[0m\n"
      ]
     },
     "metadata": {},
     "output_type": "display_data"
    },
    {
     "data": {
      "application/vnd.jupyter.widget-view+json": {
       "model_id": "d09ad2dc0ce44effa42b48c47f08abd4",
       "version_major": 2,
       "version_minor": 0
      },
      "text/plain": [
       "Output()"
      ]
     },
     "metadata": {},
     "output_type": "display_data"
    },
    {
     "data": {
      "text/html": [
       "<pre style=\"white-space:pre;overflow-x:auto;line-height:normal;font-family:Menlo,'DejaVu Sans Mono',consolas,'Courier New',monospace\"><span style=\"color: #7fbfbf; text-decoration-color: #7fbfbf\">[23:24:30] </span><span style=\"font-weight: bold\">{</span><span style=\"color: #008000; text-decoration-color: #008000\">'full'</span>: <span style=\"color: #008080; text-decoration-color: #008080; font-weight: bold\">8046</span>, <span style=\"color: #008000; text-decoration-color: #008000\">'equal'</span>: <span style=\"color: #008080; text-decoration-color: #008080; font-weight: bold\">41784</span>, <span style=\"color: #008000; text-decoration-color: #008000\">'cv'</span>: <span style=\"color: #008080; text-decoration-color: #008080; font-weight: bold\">170</span><span style=\"font-weight: bold\">}</span>                          <a href=\"file:///tmp/ipykernel_37830/2767032462.py\"><span style=\"color: #7f7f7f; text-decoration-color: #7f7f7f\">2767032462.py</span></a><span style=\"color: #7f7f7f; text-decoration-color: #7f7f7f\">:5</span>\n",
       "</pre>\n"
      ],
      "text/plain": [
       "\u001b[2;36m[23:24:30]\u001b[0m\u001b[2;36m \u001b[0m\u001b[1m{\u001b[0m\u001b[32m'full'\u001b[0m: \u001b[1;36m8046\u001b[0m, \u001b[32m'equal'\u001b[0m: \u001b[1;36m41784\u001b[0m, \u001b[32m'cv'\u001b[0m: \u001b[1;36m170\u001b[0m\u001b[1m}\u001b[0m                          \u001b]8;id=482562;file:///tmp/ipykernel_37830/2767032462.py\u001b\\\u001b[2m2767032462.py\u001b[0m\u001b]8;;\u001b\\\u001b[2m:5\u001b[0m\n"
      ]
     },
     "metadata": {},
     "output_type": "display_data"
    },
    {
     "data": {
      "text/html": [
       "<pre style=\"white-space:pre;overflow-x:auto;line-height:normal;font-family:Menlo,'DejaVu Sans Mono',consolas,'Courier New',monospace\"><span style=\"color: #7fbfbf; text-decoration-color: #7fbfbf\">           </span><span style=\"font-weight: bold\">(</span><span style=\"color: #008000; text-decoration-color: #008000\">'eager'</span>, <span style=\"color: #008000; text-decoration-color: #008000\">'methylseq'</span><span style=\"font-weight: bold\">)</span>                                             <a href=\"file:///tmp/ipykernel_37830/2767032462.py\"><span style=\"color: #7f7f7f; text-decoration-color: #7f7f7f\">2767032462.py</span></a><span style=\"color: #7f7f7f; text-decoration-color: #7f7f7f\">:3</span>\n",
       "</pre>\n"
      ],
      "text/plain": [
       "\u001b[2;36m          \u001b[0m\u001b[2;36m \u001b[0m\u001b[1m(\u001b[0m\u001b[32m'eager'\u001b[0m, \u001b[32m'methylseq'\u001b[0m\u001b[1m)\u001b[0m                                             \u001b]8;id=965778;file:///tmp/ipykernel_37830/2767032462.py\u001b\\\u001b[2m2767032462.py\u001b[0m\u001b]8;;\u001b\\\u001b[2m:3\u001b[0m\n"
      ]
     },
     "metadata": {},
     "output_type": "display_data"
    },
    {
     "data": {
      "application/vnd.jupyter.widget-view+json": {
       "model_id": "1d0f21f3377f429cab0d6831f4d377d9",
       "version_major": 2,
       "version_minor": 0
      },
      "text/plain": [
       "Output()"
      ]
     },
     "metadata": {},
     "output_type": "display_data"
    },
    {
     "data": {
      "text/html": [
       "<pre style=\"white-space:pre;overflow-x:auto;line-height:normal;font-family:Menlo,'DejaVu Sans Mono',consolas,'Courier New',monospace\"><span style=\"color: #7fbfbf; text-decoration-color: #7fbfbf\">           </span><span style=\"font-weight: bold\">{</span><span style=\"color: #008000; text-decoration-color: #008000\">'full'</span>: <span style=\"color: #008080; text-decoration-color: #008080; font-weight: bold\">5734</span>, <span style=\"color: #008000; text-decoration-color: #008000\">'equal'</span>: <span style=\"color: #008080; text-decoration-color: #008080; font-weight: bold\">44209</span>, <span style=\"color: #008000; text-decoration-color: #008000\">'cv'</span>: <span style=\"color: #008080; text-decoration-color: #008080; font-weight: bold\">57</span><span style=\"font-weight: bold\">}</span>                           <a href=\"file:///tmp/ipykernel_37830/2767032462.py\"><span style=\"color: #7f7f7f; text-decoration-color: #7f7f7f\">2767032462.py</span></a><span style=\"color: #7f7f7f; text-decoration-color: #7f7f7f\">:5</span>\n",
       "</pre>\n"
      ],
      "text/plain": [
       "\u001b[2;36m          \u001b[0m\u001b[2;36m \u001b[0m\u001b[1m{\u001b[0m\u001b[32m'full'\u001b[0m: \u001b[1;36m5734\u001b[0m, \u001b[32m'equal'\u001b[0m: \u001b[1;36m44209\u001b[0m, \u001b[32m'cv'\u001b[0m: \u001b[1;36m57\u001b[0m\u001b[1m}\u001b[0m                           \u001b]8;id=747938;file:///tmp/ipykernel_37830/2767032462.py\u001b\\\u001b[2m2767032462.py\u001b[0m\u001b]8;;\u001b\\\u001b[2m:5\u001b[0m\n"
      ]
     },
     "metadata": {},
     "output_type": "display_data"
    },
    {
     "data": {
      "text/html": [
       "<pre style=\"white-space:pre;overflow-x:auto;line-height:normal;font-family:Menlo,'DejaVu Sans Mono',consolas,'Courier New',monospace\"><span style=\"color: #7fbfbf; text-decoration-color: #7fbfbf\">           </span><span style=\"font-weight: bold\">(</span><span style=\"color: #008000; text-decoration-color: #008000\">'eager'</span>, <span style=\"color: #008000; text-decoration-color: #008000\">'sarek'</span><span style=\"font-weight: bold\">)</span>                                                 <a href=\"file:///tmp/ipykernel_37830/2767032462.py\"><span style=\"color: #7f7f7f; text-decoration-color: #7f7f7f\">2767032462.py</span></a><span style=\"color: #7f7f7f; text-decoration-color: #7f7f7f\">:3</span>\n",
       "</pre>\n"
      ],
      "text/plain": [
       "\u001b[2;36m          \u001b[0m\u001b[2;36m \u001b[0m\u001b[1m(\u001b[0m\u001b[32m'eager'\u001b[0m, \u001b[32m'sarek'\u001b[0m\u001b[1m)\u001b[0m                                                 \u001b]8;id=395530;file:///tmp/ipykernel_37830/2767032462.py\u001b\\\u001b[2m2767032462.py\u001b[0m\u001b]8;;\u001b\\\u001b[2m:3\u001b[0m\n"
      ]
     },
     "metadata": {},
     "output_type": "display_data"
    },
    {
     "data": {
      "application/vnd.jupyter.widget-view+json": {
       "model_id": "b9a77155fb334f678a21d6dc348765f0",
       "version_major": 2,
       "version_minor": 0
      },
      "text/plain": [
       "Output()"
      ]
     },
     "metadata": {},
     "output_type": "display_data"
    },
    {
     "data": {
      "text/html": [
       "<pre style=\"white-space:pre;overflow-x:auto;line-height:normal;font-family:Menlo,'DejaVu Sans Mono',consolas,'Courier New',monospace\"><span style=\"color: #7fbfbf; text-decoration-color: #7fbfbf\">           </span><span style=\"font-weight: bold\">{</span><span style=\"color: #008000; text-decoration-color: #008000\">'full'</span>: <span style=\"color: #008080; text-decoration-color: #008080; font-weight: bold\">9686</span>, <span style=\"color: #008000; text-decoration-color: #008000\">'equal'</span>: <span style=\"color: #008080; text-decoration-color: #008080; font-weight: bold\">40166</span>, <span style=\"color: #008000; text-decoration-color: #008000\">'cv'</span>: <span style=\"color: #008080; text-decoration-color: #008080; font-weight: bold\">148</span><span style=\"font-weight: bold\">}</span>                          <a href=\"file:///tmp/ipykernel_37830/2767032462.py\"><span style=\"color: #7f7f7f; text-decoration-color: #7f7f7f\">2767032462.py</span></a><span style=\"color: #7f7f7f; text-decoration-color: #7f7f7f\">:5</span>\n",
       "</pre>\n"
      ],
      "text/plain": [
       "\u001b[2;36m          \u001b[0m\u001b[2;36m \u001b[0m\u001b[1m{\u001b[0m\u001b[32m'full'\u001b[0m: \u001b[1;36m9686\u001b[0m, \u001b[32m'equal'\u001b[0m: \u001b[1;36m40166\u001b[0m, \u001b[32m'cv'\u001b[0m: \u001b[1;36m148\u001b[0m\u001b[1m}\u001b[0m                          \u001b]8;id=26795;file:///tmp/ipykernel_37830/2767032462.py\u001b\\\u001b[2m2767032462.py\u001b[0m\u001b]8;;\u001b\\\u001b[2m:5\u001b[0m\n"
      ]
     },
     "metadata": {},
     "output_type": "display_data"
    },
    {
     "data": {
      "text/html": [
       "<pre style=\"white-space:pre;overflow-x:auto;line-height:normal;font-family:Menlo,'DejaVu Sans Mono',consolas,'Courier New',monospace\"><span style=\"color: #7fbfbf; text-decoration-color: #7fbfbf\">           </span><span style=\"font-weight: bold\">(</span><span style=\"color: #008000; text-decoration-color: #008000\">'eager'</span>, <span style=\"color: #008000; text-decoration-color: #008000\">'viralrecon'</span><span style=\"font-weight: bold\">)</span>                                            <a href=\"file:///tmp/ipykernel_37830/2767032462.py\"><span style=\"color: #7f7f7f; text-decoration-color: #7f7f7f\">2767032462.py</span></a><span style=\"color: #7f7f7f; text-decoration-color: #7f7f7f\">:3</span>\n",
       "</pre>\n"
      ],
      "text/plain": [
       "\u001b[2;36m          \u001b[0m\u001b[2;36m \u001b[0m\u001b[1m(\u001b[0m\u001b[32m'eager'\u001b[0m, \u001b[32m'viralrecon'\u001b[0m\u001b[1m)\u001b[0m                                            \u001b]8;id=401758;file:///tmp/ipykernel_37830/2767032462.py\u001b\\\u001b[2m2767032462.py\u001b[0m\u001b]8;;\u001b\\\u001b[2m:3\u001b[0m\n"
      ]
     },
     "metadata": {},
     "output_type": "display_data"
    },
    {
     "data": {
      "application/vnd.jupyter.widget-view+json": {
       "model_id": "13e49b96bfec4957a6c01f526e262e5d",
       "version_major": 2,
       "version_minor": 0
      },
      "text/plain": [
       "Output()"
      ]
     },
     "metadata": {},
     "output_type": "display_data"
    },
    {
     "data": {
      "text/html": [
       "<pre style=\"white-space:pre;overflow-x:auto;line-height:normal;font-family:Menlo,'DejaVu Sans Mono',consolas,'Courier New',monospace\"><span style=\"color: #7fbfbf; text-decoration-color: #7fbfbf\">[23:24:31] </span><span style=\"font-weight: bold\">{</span><span style=\"color: #008000; text-decoration-color: #008000\">'full'</span>: <span style=\"color: #008080; text-decoration-color: #008080; font-weight: bold\">2532</span>, <span style=\"color: #008000; text-decoration-color: #008000\">'equal'</span>: <span style=\"color: #008080; text-decoration-color: #008080; font-weight: bold\">47368</span>, <span style=\"color: #008000; text-decoration-color: #008000\">'cv'</span>: <span style=\"color: #008080; text-decoration-color: #008080; font-weight: bold\">100</span><span style=\"font-weight: bold\">}</span>                          <a href=\"file:///tmp/ipykernel_37830/2767032462.py\"><span style=\"color: #7f7f7f; text-decoration-color: #7f7f7f\">2767032462.py</span></a><span style=\"color: #7f7f7f; text-decoration-color: #7f7f7f\">:5</span>\n",
       "</pre>\n"
      ],
      "text/plain": [
       "\u001b[2;36m[23:24:31]\u001b[0m\u001b[2;36m \u001b[0m\u001b[1m{\u001b[0m\u001b[32m'full'\u001b[0m: \u001b[1;36m2532\u001b[0m, \u001b[32m'equal'\u001b[0m: \u001b[1;36m47368\u001b[0m, \u001b[32m'cv'\u001b[0m: \u001b[1;36m100\u001b[0m\u001b[1m}\u001b[0m                          \u001b]8;id=317649;file:///tmp/ipykernel_37830/2767032462.py\u001b\\\u001b[2m2767032462.py\u001b[0m\u001b]8;;\u001b\\\u001b[2m:5\u001b[0m\n"
      ]
     },
     "metadata": {},
     "output_type": "display_data"
    },
    {
     "data": {
      "text/html": [
       "<pre style=\"white-space:pre;overflow-x:auto;line-height:normal;font-family:Menlo,'DejaVu Sans Mono',consolas,'Courier New',monospace\"><span style=\"color: #7fbfbf; text-decoration-color: #7fbfbf\">           </span><span style=\"font-weight: bold\">(</span><span style=\"color: #008000; text-decoration-color: #008000\">'methylseq'</span>, <span style=\"color: #008000; text-decoration-color: #008000\">'chipseq'</span><span style=\"font-weight: bold\">)</span>                                           <a href=\"file:///tmp/ipykernel_37830/2767032462.py\"><span style=\"color: #7f7f7f; text-decoration-color: #7f7f7f\">2767032462.py</span></a><span style=\"color: #7f7f7f; text-decoration-color: #7f7f7f\">:3</span>\n",
       "</pre>\n"
      ],
      "text/plain": [
       "\u001b[2;36m          \u001b[0m\u001b[2;36m \u001b[0m\u001b[1m(\u001b[0m\u001b[32m'methylseq'\u001b[0m, \u001b[32m'chipseq'\u001b[0m\u001b[1m)\u001b[0m                                           \u001b]8;id=834092;file:///tmp/ipykernel_37830/2767032462.py\u001b\\\u001b[2m2767032462.py\u001b[0m\u001b]8;;\u001b\\\u001b[2m:3\u001b[0m\n"
      ]
     },
     "metadata": {},
     "output_type": "display_data"
    },
    {
     "data": {
      "application/vnd.jupyter.widget-view+json": {
       "model_id": "756d77aaa14645f2b899ac430a2cef69",
       "version_major": 2,
       "version_minor": 0
      },
      "text/plain": [
       "Output()"
      ]
     },
     "metadata": {},
     "output_type": "display_data"
    },
    {
     "data": {
      "text/html": [
       "<pre style=\"white-space:pre;overflow-x:auto;line-height:normal;font-family:Menlo,'DejaVu Sans Mono',consolas,'Courier New',monospace\"><span style=\"color: #7fbfbf; text-decoration-color: #7fbfbf\">           </span><span style=\"font-weight: bold\">{</span><span style=\"color: #008000; text-decoration-color: #008000\">'full'</span>: <span style=\"color: #008080; text-decoration-color: #008080; font-weight: bold\">5199</span>, <span style=\"color: #008000; text-decoration-color: #008000\">'equal'</span>: <span style=\"color: #008080; text-decoration-color: #008080; font-weight: bold\">44519</span>, <span style=\"color: #008000; text-decoration-color: #008000\">'cv'</span>: <span style=\"color: #008080; text-decoration-color: #008080; font-weight: bold\">282</span><span style=\"font-weight: bold\">}</span>                          <a href=\"file:///tmp/ipykernel_37830/2767032462.py\"><span style=\"color: #7f7f7f; text-decoration-color: #7f7f7f\">2767032462.py</span></a><span style=\"color: #7f7f7f; text-decoration-color: #7f7f7f\">:5</span>\n",
       "</pre>\n"
      ],
      "text/plain": [
       "\u001b[2;36m          \u001b[0m\u001b[2;36m \u001b[0m\u001b[1m{\u001b[0m\u001b[32m'full'\u001b[0m: \u001b[1;36m5199\u001b[0m, \u001b[32m'equal'\u001b[0m: \u001b[1;36m44519\u001b[0m, \u001b[32m'cv'\u001b[0m: \u001b[1;36m282\u001b[0m\u001b[1m}\u001b[0m                          \u001b]8;id=961900;file:///tmp/ipykernel_37830/2767032462.py\u001b\\\u001b[2m2767032462.py\u001b[0m\u001b]8;;\u001b\\\u001b[2m:5\u001b[0m\n"
      ]
     },
     "metadata": {},
     "output_type": "display_data"
    },
    {
     "data": {
      "text/html": [
       "<pre style=\"white-space:pre;overflow-x:auto;line-height:normal;font-family:Menlo,'DejaVu Sans Mono',consolas,'Courier New',monospace\"><span style=\"color: #7fbfbf; text-decoration-color: #7fbfbf\">           </span><span style=\"font-weight: bold\">(</span><span style=\"color: #008000; text-decoration-color: #008000\">'methylseq'</span>, <span style=\"color: #008000; text-decoration-color: #008000\">'eager'</span><span style=\"font-weight: bold\">)</span>                                             <a href=\"file:///tmp/ipykernel_37830/2767032462.py\"><span style=\"color: #7f7f7f; text-decoration-color: #7f7f7f\">2767032462.py</span></a><span style=\"color: #7f7f7f; text-decoration-color: #7f7f7f\">:3</span>\n",
       "</pre>\n"
      ],
      "text/plain": [
       "\u001b[2;36m          \u001b[0m\u001b[2;36m \u001b[0m\u001b[1m(\u001b[0m\u001b[32m'methylseq'\u001b[0m, \u001b[32m'eager'\u001b[0m\u001b[1m)\u001b[0m                                             \u001b]8;id=306426;file:///tmp/ipykernel_37830/2767032462.py\u001b\\\u001b[2m2767032462.py\u001b[0m\u001b]8;;\u001b\\\u001b[2m:3\u001b[0m\n"
      ]
     },
     "metadata": {},
     "output_type": "display_data"
    },
    {
     "data": {
      "application/vnd.jupyter.widget-view+json": {
       "model_id": "60098e107d4c4894a3d8166535f4c20c",
       "version_major": 2,
       "version_minor": 0
      },
      "text/plain": [
       "Output()"
      ]
     },
     "metadata": {},
     "output_type": "display_data"
    },
    {
     "data": {
      "text/html": [
       "<pre style=\"white-space:pre;overflow-x:auto;line-height:normal;font-family:Menlo,'DejaVu Sans Mono',consolas,'Courier New',monospace\"><span style=\"color: #7fbfbf; text-decoration-color: #7fbfbf\">           </span><span style=\"font-weight: bold\">{</span><span style=\"color: #008000; text-decoration-color: #008000\">'full'</span>: <span style=\"color: #008080; text-decoration-color: #008080; font-weight: bold\">4441</span>, <span style=\"color: #008000; text-decoration-color: #008000\">'equal'</span>: <span style=\"color: #008080; text-decoration-color: #008080; font-weight: bold\">45437</span>, <span style=\"color: #008000; text-decoration-color: #008000\">'cv'</span>: <span style=\"color: #008080; text-decoration-color: #008080; font-weight: bold\">122</span><span style=\"font-weight: bold\">}</span>                          <a href=\"file:///tmp/ipykernel_37830/2767032462.py\"><span style=\"color: #7f7f7f; text-decoration-color: #7f7f7f\">2767032462.py</span></a><span style=\"color: #7f7f7f; text-decoration-color: #7f7f7f\">:5</span>\n",
       "</pre>\n"
      ],
      "text/plain": [
       "\u001b[2;36m          \u001b[0m\u001b[2;36m \u001b[0m\u001b[1m{\u001b[0m\u001b[32m'full'\u001b[0m: \u001b[1;36m4441\u001b[0m, \u001b[32m'equal'\u001b[0m: \u001b[1;36m45437\u001b[0m, \u001b[32m'cv'\u001b[0m: \u001b[1;36m122\u001b[0m\u001b[1m}\u001b[0m                          \u001b]8;id=159849;file:///tmp/ipykernel_37830/2767032462.py\u001b\\\u001b[2m2767032462.py\u001b[0m\u001b]8;;\u001b\\\u001b[2m:5\u001b[0m\n"
      ]
     },
     "metadata": {},
     "output_type": "display_data"
    },
    {
     "data": {
      "text/html": [
       "<pre style=\"white-space:pre;overflow-x:auto;line-height:normal;font-family:Menlo,'DejaVu Sans Mono',consolas,'Courier New',monospace\"><span style=\"color: #7fbfbf; text-decoration-color: #7fbfbf\">           </span><span style=\"font-weight: bold\">(</span><span style=\"color: #008000; text-decoration-color: #008000\">'methylseq'</span>, <span style=\"color: #008000; text-decoration-color: #008000\">'sarek'</span><span style=\"font-weight: bold\">)</span>                                             <a href=\"file:///tmp/ipykernel_37830/2767032462.py\"><span style=\"color: #7f7f7f; text-decoration-color: #7f7f7f\">2767032462.py</span></a><span style=\"color: #7f7f7f; text-decoration-color: #7f7f7f\">:3</span>\n",
       "</pre>\n"
      ],
      "text/plain": [
       "\u001b[2;36m          \u001b[0m\u001b[2;36m \u001b[0m\u001b[1m(\u001b[0m\u001b[32m'methylseq'\u001b[0m, \u001b[32m'sarek'\u001b[0m\u001b[1m)\u001b[0m                                             \u001b]8;id=989131;file:///tmp/ipykernel_37830/2767032462.py\u001b\\\u001b[2m2767032462.py\u001b[0m\u001b]8;;\u001b\\\u001b[2m:3\u001b[0m\n"
      ]
     },
     "metadata": {},
     "output_type": "display_data"
    },
    {
     "data": {
      "application/vnd.jupyter.widget-view+json": {
       "model_id": "ceb7382f0bd54848b8d7446824de43d1",
       "version_major": 2,
       "version_minor": 0
      },
      "text/plain": [
       "Output()"
      ]
     },
     "metadata": {},
     "output_type": "display_data"
    },
    {
     "data": {
      "text/html": [
       "<pre style=\"white-space:pre;overflow-x:auto;line-height:normal;font-family:Menlo,'DejaVu Sans Mono',consolas,'Courier New',monospace\"><span style=\"color: #7fbfbf; text-decoration-color: #7fbfbf\">[23:24:32] </span><span style=\"font-weight: bold\">{</span><span style=\"color: #008000; text-decoration-color: #008000\">'full'</span>: <span style=\"color: #008080; text-decoration-color: #008080; font-weight: bold\">8217</span>, <span style=\"color: #008000; text-decoration-color: #008000\">'equal'</span>: <span style=\"color: #008080; text-decoration-color: #008080; font-weight: bold\">41663</span>, <span style=\"color: #008000; text-decoration-color: #008000\">'cv'</span>: <span style=\"color: #008080; text-decoration-color: #008080; font-weight: bold\">120</span><span style=\"font-weight: bold\">}</span>                          <a href=\"file:///tmp/ipykernel_37830/2767032462.py\"><span style=\"color: #7f7f7f; text-decoration-color: #7f7f7f\">2767032462.py</span></a><span style=\"color: #7f7f7f; text-decoration-color: #7f7f7f\">:5</span>\n",
       "</pre>\n"
      ],
      "text/plain": [
       "\u001b[2;36m[23:24:32]\u001b[0m\u001b[2;36m \u001b[0m\u001b[1m{\u001b[0m\u001b[32m'full'\u001b[0m: \u001b[1;36m8217\u001b[0m, \u001b[32m'equal'\u001b[0m: \u001b[1;36m41663\u001b[0m, \u001b[32m'cv'\u001b[0m: \u001b[1;36m120\u001b[0m\u001b[1m}\u001b[0m                          \u001b]8;id=257204;file:///tmp/ipykernel_37830/2767032462.py\u001b\\\u001b[2m2767032462.py\u001b[0m\u001b]8;;\u001b\\\u001b[2m:5\u001b[0m\n"
      ]
     },
     "metadata": {},
     "output_type": "display_data"
    },
    {
     "data": {
      "text/html": [
       "<pre style=\"white-space:pre;overflow-x:auto;line-height:normal;font-family:Menlo,'DejaVu Sans Mono',consolas,'Courier New',monospace\"><span style=\"color: #7fbfbf; text-decoration-color: #7fbfbf\">           </span><span style=\"font-weight: bold\">(</span><span style=\"color: #008000; text-decoration-color: #008000\">'methylseq'</span>, <span style=\"color: #008000; text-decoration-color: #008000\">'viralrecon'</span><span style=\"font-weight: bold\">)</span>                                        <a href=\"file:///tmp/ipykernel_37830/2767032462.py\"><span style=\"color: #7f7f7f; text-decoration-color: #7f7f7f\">2767032462.py</span></a><span style=\"color: #7f7f7f; text-decoration-color: #7f7f7f\">:3</span>\n",
       "</pre>\n"
      ],
      "text/plain": [
       "\u001b[2;36m          \u001b[0m\u001b[2;36m \u001b[0m\u001b[1m(\u001b[0m\u001b[32m'methylseq'\u001b[0m, \u001b[32m'viralrecon'\u001b[0m\u001b[1m)\u001b[0m                                        \u001b]8;id=126476;file:///tmp/ipykernel_37830/2767032462.py\u001b\\\u001b[2m2767032462.py\u001b[0m\u001b]8;;\u001b\\\u001b[2m:3\u001b[0m\n"
      ]
     },
     "metadata": {},
     "output_type": "display_data"
    },
    {
     "data": {
      "application/vnd.jupyter.widget-view+json": {
       "model_id": "065a46ebab374b09bc60da54bc60d9a4",
       "version_major": 2,
       "version_minor": 0
      },
      "text/plain": [
       "Output()"
      ]
     },
     "metadata": {},
     "output_type": "display_data"
    },
    {
     "data": {
      "text/html": [
       "<pre style=\"white-space:pre;overflow-x:auto;line-height:normal;font-family:Menlo,'DejaVu Sans Mono',consolas,'Courier New',monospace\"><span style=\"color: #7fbfbf; text-decoration-color: #7fbfbf\">           </span><span style=\"font-weight: bold\">{</span><span style=\"color: #008000; text-decoration-color: #008000\">'full'</span>: <span style=\"color: #008080; text-decoration-color: #008080; font-weight: bold\">1855</span>, <span style=\"color: #008000; text-decoration-color: #008000\">'equal'</span>: <span style=\"color: #008080; text-decoration-color: #008080; font-weight: bold\">47807</span>, <span style=\"color: #008000; text-decoration-color: #008000\">'cv'</span>: <span style=\"color: #008080; text-decoration-color: #008080; font-weight: bold\">338</span><span style=\"font-weight: bold\">}</span>                          <a href=\"file:///tmp/ipykernel_37830/2767032462.py\"><span style=\"color: #7f7f7f; text-decoration-color: #7f7f7f\">2767032462.py</span></a><span style=\"color: #7f7f7f; text-decoration-color: #7f7f7f\">:5</span>\n",
       "</pre>\n"
      ],
      "text/plain": [
       "\u001b[2;36m          \u001b[0m\u001b[2;36m \u001b[0m\u001b[1m{\u001b[0m\u001b[32m'full'\u001b[0m: \u001b[1;36m1855\u001b[0m, \u001b[32m'equal'\u001b[0m: \u001b[1;36m47807\u001b[0m, \u001b[32m'cv'\u001b[0m: \u001b[1;36m338\u001b[0m\u001b[1m}\u001b[0m                          \u001b]8;id=11952;file:///tmp/ipykernel_37830/2767032462.py\u001b\\\u001b[2m2767032462.py\u001b[0m\u001b]8;;\u001b\\\u001b[2m:5\u001b[0m\n"
      ]
     },
     "metadata": {},
     "output_type": "display_data"
    },
    {
     "data": {
      "text/html": [
       "<pre style=\"white-space:pre;overflow-x:auto;line-height:normal;font-family:Menlo,'DejaVu Sans Mono',consolas,'Courier New',monospace\"><span style=\"color: #7fbfbf; text-decoration-color: #7fbfbf\">           </span><span style=\"font-weight: bold\">(</span><span style=\"color: #008000; text-decoration-color: #008000\">'sarek'</span>, <span style=\"color: #008000; text-decoration-color: #008000\">'chipseq'</span><span style=\"font-weight: bold\">)</span>                                               <a href=\"file:///tmp/ipykernel_37830/2767032462.py\"><span style=\"color: #7f7f7f; text-decoration-color: #7f7f7f\">2767032462.py</span></a><span style=\"color: #7f7f7f; text-decoration-color: #7f7f7f\">:3</span>\n",
       "</pre>\n"
      ],
      "text/plain": [
       "\u001b[2;36m          \u001b[0m\u001b[2;36m \u001b[0m\u001b[1m(\u001b[0m\u001b[32m'sarek'\u001b[0m, \u001b[32m'chipseq'\u001b[0m\u001b[1m)\u001b[0m                                               \u001b]8;id=146693;file:///tmp/ipykernel_37830/2767032462.py\u001b\\\u001b[2m2767032462.py\u001b[0m\u001b]8;;\u001b\\\u001b[2m:3\u001b[0m\n"
      ]
     },
     "metadata": {},
     "output_type": "display_data"
    },
    {
     "data": {
      "application/vnd.jupyter.widget-view+json": {
       "model_id": "3bcf2e196b80480ca201210f056d96ca",
       "version_major": 2,
       "version_minor": 0
      },
      "text/plain": [
       "Output()"
      ]
     },
     "metadata": {},
     "output_type": "display_data"
    },
    {
     "data": {
      "text/html": [
       "<pre style=\"white-space:pre;overflow-x:auto;line-height:normal;font-family:Menlo,'DejaVu Sans Mono',consolas,'Courier New',monospace\"><span style=\"color: #7fbfbf; text-decoration-color: #7fbfbf\">           </span><span style=\"font-weight: bold\">{</span><span style=\"color: #008000; text-decoration-color: #008000\">'full'</span>: <span style=\"color: #008080; text-decoration-color: #008080; font-weight: bold\">10209</span>, <span style=\"color: #008000; text-decoration-color: #008000\">'equal'</span>: <span style=\"color: #008080; text-decoration-color: #008080; font-weight: bold\">39629</span>, <span style=\"color: #008000; text-decoration-color: #008000\">'cv'</span>: <span style=\"color: #008080; text-decoration-color: #008080; font-weight: bold\">162</span><span style=\"font-weight: bold\">}</span>                         <a href=\"file:///tmp/ipykernel_37830/2767032462.py\"><span style=\"color: #7f7f7f; text-decoration-color: #7f7f7f\">2767032462.py</span></a><span style=\"color: #7f7f7f; text-decoration-color: #7f7f7f\">:5</span>\n",
       "</pre>\n"
      ],
      "text/plain": [
       "\u001b[2;36m          \u001b[0m\u001b[2;36m \u001b[0m\u001b[1m{\u001b[0m\u001b[32m'full'\u001b[0m: \u001b[1;36m10209\u001b[0m, \u001b[32m'equal'\u001b[0m: \u001b[1;36m39629\u001b[0m, \u001b[32m'cv'\u001b[0m: \u001b[1;36m162\u001b[0m\u001b[1m}\u001b[0m                         \u001b]8;id=641128;file:///tmp/ipykernel_37830/2767032462.py\u001b\\\u001b[2m2767032462.py\u001b[0m\u001b]8;;\u001b\\\u001b[2m:5\u001b[0m\n"
      ]
     },
     "metadata": {},
     "output_type": "display_data"
    },
    {
     "data": {
      "text/html": [
       "<pre style=\"white-space:pre;overflow-x:auto;line-height:normal;font-family:Menlo,'DejaVu Sans Mono',consolas,'Courier New',monospace\"><span style=\"color: #7fbfbf; text-decoration-color: #7fbfbf\">           </span><span style=\"font-weight: bold\">(</span><span style=\"color: #008000; text-decoration-color: #008000\">'sarek'</span>, <span style=\"color: #008000; text-decoration-color: #008000\">'eager'</span><span style=\"font-weight: bold\">)</span>                                                 <a href=\"file:///tmp/ipykernel_37830/2767032462.py\"><span style=\"color: #7f7f7f; text-decoration-color: #7f7f7f\">2767032462.py</span></a><span style=\"color: #7f7f7f; text-decoration-color: #7f7f7f\">:3</span>\n",
       "</pre>\n"
      ],
      "text/plain": [
       "\u001b[2;36m          \u001b[0m\u001b[2;36m \u001b[0m\u001b[1m(\u001b[0m\u001b[32m'sarek'\u001b[0m, \u001b[32m'eager'\u001b[0m\u001b[1m)\u001b[0m                                                 \u001b]8;id=917561;file:///tmp/ipykernel_37830/2767032462.py\u001b\\\u001b[2m2767032462.py\u001b[0m\u001b]8;;\u001b\\\u001b[2m:3\u001b[0m\n"
      ]
     },
     "metadata": {},
     "output_type": "display_data"
    },
    {
     "data": {
      "application/vnd.jupyter.widget-view+json": {
       "model_id": "76bf21f397c04ab0bab01b4de20d6d15",
       "version_major": 2,
       "version_minor": 0
      },
      "text/plain": [
       "Output()"
      ]
     },
     "metadata": {},
     "output_type": "display_data"
    },
    {
     "data": {
      "text/html": [
       "<pre style=\"white-space:pre;overflow-x:auto;line-height:normal;font-family:Menlo,'DejaVu Sans Mono',consolas,'Courier New',monospace\"><span style=\"color: #7fbfbf; text-decoration-color: #7fbfbf\">           </span><span style=\"font-weight: bold\">{</span><span style=\"color: #008000; text-decoration-color: #008000\">'full'</span>: <span style=\"color: #008080; text-decoration-color: #008080; font-weight: bold\">7398</span>, <span style=\"color: #008000; text-decoration-color: #008000\">'equal'</span>: <span style=\"color: #008080; text-decoration-color: #008080; font-weight: bold\">42450</span>, <span style=\"color: #008000; text-decoration-color: #008000\">'cv'</span>: <span style=\"color: #008080; text-decoration-color: #008080; font-weight: bold\">152</span><span style=\"font-weight: bold\">}</span>                          <a href=\"file:///tmp/ipykernel_37830/2767032462.py\"><span style=\"color: #7f7f7f; text-decoration-color: #7f7f7f\">2767032462.py</span></a><span style=\"color: #7f7f7f; text-decoration-color: #7f7f7f\">:5</span>\n",
       "</pre>\n"
      ],
      "text/plain": [
       "\u001b[2;36m          \u001b[0m\u001b[2;36m \u001b[0m\u001b[1m{\u001b[0m\u001b[32m'full'\u001b[0m: \u001b[1;36m7398\u001b[0m, \u001b[32m'equal'\u001b[0m: \u001b[1;36m42450\u001b[0m, \u001b[32m'cv'\u001b[0m: \u001b[1;36m152\u001b[0m\u001b[1m}\u001b[0m                          \u001b]8;id=988394;file:///tmp/ipykernel_37830/2767032462.py\u001b\\\u001b[2m2767032462.py\u001b[0m\u001b]8;;\u001b\\\u001b[2m:5\u001b[0m\n"
      ]
     },
     "metadata": {},
     "output_type": "display_data"
    },
    {
     "data": {
      "text/html": [
       "<pre style=\"white-space:pre;overflow-x:auto;line-height:normal;font-family:Menlo,'DejaVu Sans Mono',consolas,'Courier New',monospace\"><span style=\"color: #7fbfbf; text-decoration-color: #7fbfbf\">[23:24:33] </span><span style=\"font-weight: bold\">(</span><span style=\"color: #008000; text-decoration-color: #008000\">'sarek'</span>, <span style=\"color: #008000; text-decoration-color: #008000\">'methylseq'</span><span style=\"font-weight: bold\">)</span>                                             <a href=\"file:///tmp/ipykernel_37830/2767032462.py\"><span style=\"color: #7f7f7f; text-decoration-color: #7f7f7f\">2767032462.py</span></a><span style=\"color: #7f7f7f; text-decoration-color: #7f7f7f\">:3</span>\n",
       "</pre>\n"
      ],
      "text/plain": [
       "\u001b[2;36m[23:24:33]\u001b[0m\u001b[2;36m \u001b[0m\u001b[1m(\u001b[0m\u001b[32m'sarek'\u001b[0m, \u001b[32m'methylseq'\u001b[0m\u001b[1m)\u001b[0m                                             \u001b]8;id=512407;file:///tmp/ipykernel_37830/2767032462.py\u001b\\\u001b[2m2767032462.py\u001b[0m\u001b]8;;\u001b\\\u001b[2m:3\u001b[0m\n"
      ]
     },
     "metadata": {},
     "output_type": "display_data"
    },
    {
     "data": {
      "application/vnd.jupyter.widget-view+json": {
       "model_id": "3905f4fa6bff4dea81203c6499a4adf1",
       "version_major": 2,
       "version_minor": 0
      },
      "text/plain": [
       "Output()"
      ]
     },
     "metadata": {},
     "output_type": "display_data"
    },
    {
     "data": {
      "text/html": [
       "<pre style=\"white-space:pre;overflow-x:auto;line-height:normal;font-family:Menlo,'DejaVu Sans Mono',consolas,'Courier New',monospace\"><span style=\"color: #7fbfbf; text-decoration-color: #7fbfbf\">           </span><span style=\"font-weight: bold\">{</span><span style=\"color: #008000; text-decoration-color: #008000\">'full'</span>: <span style=\"color: #008080; text-decoration-color: #008080; font-weight: bold\">10990</span>, <span style=\"color: #008000; text-decoration-color: #008000\">'equal'</span>: <span style=\"color: #008080; text-decoration-color: #008080; font-weight: bold\">38890</span>, <span style=\"color: #008000; text-decoration-color: #008000\">'cv'</span>: <span style=\"color: #008080; text-decoration-color: #008080; font-weight: bold\">120</span><span style=\"font-weight: bold\">}</span>                         <a href=\"file:///tmp/ipykernel_37830/2767032462.py\"><span style=\"color: #7f7f7f; text-decoration-color: #7f7f7f\">2767032462.py</span></a><span style=\"color: #7f7f7f; text-decoration-color: #7f7f7f\">:5</span>\n",
       "</pre>\n"
      ],
      "text/plain": [
       "\u001b[2;36m          \u001b[0m\u001b[2;36m \u001b[0m\u001b[1m{\u001b[0m\u001b[32m'full'\u001b[0m: \u001b[1;36m10990\u001b[0m, \u001b[32m'equal'\u001b[0m: \u001b[1;36m38890\u001b[0m, \u001b[32m'cv'\u001b[0m: \u001b[1;36m120\u001b[0m\u001b[1m}\u001b[0m                         \u001b]8;id=211945;file:///tmp/ipykernel_37830/2767032462.py\u001b\\\u001b[2m2767032462.py\u001b[0m\u001b]8;;\u001b\\\u001b[2m:5\u001b[0m\n"
      ]
     },
     "metadata": {},
     "output_type": "display_data"
    },
    {
     "data": {
      "text/html": [
       "<pre style=\"white-space:pre;overflow-x:auto;line-height:normal;font-family:Menlo,'DejaVu Sans Mono',consolas,'Courier New',monospace\"><span style=\"color: #7fbfbf; text-decoration-color: #7fbfbf\">           </span><span style=\"font-weight: bold\">(</span><span style=\"color: #008000; text-decoration-color: #008000\">'sarek'</span>, <span style=\"color: #008000; text-decoration-color: #008000\">'viralrecon'</span><span style=\"font-weight: bold\">)</span>                                            <a href=\"file:///tmp/ipykernel_37830/2767032462.py\"><span style=\"color: #7f7f7f; text-decoration-color: #7f7f7f\">2767032462.py</span></a><span style=\"color: #7f7f7f; text-decoration-color: #7f7f7f\">:3</span>\n",
       "</pre>\n"
      ],
      "text/plain": [
       "\u001b[2;36m          \u001b[0m\u001b[2;36m \u001b[0m\u001b[1m(\u001b[0m\u001b[32m'sarek'\u001b[0m, \u001b[32m'viralrecon'\u001b[0m\u001b[1m)\u001b[0m                                            \u001b]8;id=707763;file:///tmp/ipykernel_37830/2767032462.py\u001b\\\u001b[2m2767032462.py\u001b[0m\u001b]8;;\u001b\\\u001b[2m:3\u001b[0m\n"
      ]
     },
     "metadata": {},
     "output_type": "display_data"
    },
    {
     "data": {
      "application/vnd.jupyter.widget-view+json": {
       "model_id": "9733355851d54fe2ab62db7b43a9fccd",
       "version_major": 2,
       "version_minor": 0
      },
      "text/plain": [
       "Output()"
      ]
     },
     "metadata": {},
     "output_type": "display_data"
    },
    {
     "data": {
      "text/html": [
       "<pre style=\"white-space:pre;overflow-x:auto;line-height:normal;font-family:Menlo,'DejaVu Sans Mono',consolas,'Courier New',monospace\"><span style=\"color: #7fbfbf; text-decoration-color: #7fbfbf\">           </span><span style=\"font-weight: bold\">{</span><span style=\"color: #008000; text-decoration-color: #008000\">'full'</span>: <span style=\"color: #008080; text-decoration-color: #008080; font-weight: bold\">7616</span>, <span style=\"color: #008000; text-decoration-color: #008000\">'equal'</span>: <span style=\"color: #008080; text-decoration-color: #008080; font-weight: bold\">42025</span>, <span style=\"color: #008000; text-decoration-color: #008000\">'cv'</span>: <span style=\"color: #008080; text-decoration-color: #008080; font-weight: bold\">359</span><span style=\"font-weight: bold\">}</span>                          <a href=\"file:///tmp/ipykernel_37830/2767032462.py\"><span style=\"color: #7f7f7f; text-decoration-color: #7f7f7f\">2767032462.py</span></a><span style=\"color: #7f7f7f; text-decoration-color: #7f7f7f\">:5</span>\n",
       "</pre>\n"
      ],
      "text/plain": [
       "\u001b[2;36m          \u001b[0m\u001b[2;36m \u001b[0m\u001b[1m{\u001b[0m\u001b[32m'full'\u001b[0m: \u001b[1;36m7616\u001b[0m, \u001b[32m'equal'\u001b[0m: \u001b[1;36m42025\u001b[0m, \u001b[32m'cv'\u001b[0m: \u001b[1;36m359\u001b[0m\u001b[1m}\u001b[0m                          \u001b]8;id=26144;file:///tmp/ipykernel_37830/2767032462.py\u001b\\\u001b[2m2767032462.py\u001b[0m\u001b]8;;\u001b\\\u001b[2m:5\u001b[0m\n"
      ]
     },
     "metadata": {},
     "output_type": "display_data"
    },
    {
     "data": {
      "text/html": [
       "<pre style=\"white-space:pre;overflow-x:auto;line-height:normal;font-family:Menlo,'DejaVu Sans Mono',consolas,'Courier New',monospace\"><span style=\"color: #7fbfbf; text-decoration-color: #7fbfbf\">           </span><span style=\"font-weight: bold\">(</span><span style=\"color: #008000; text-decoration-color: #008000\">'viralrecon'</span>, <span style=\"color: #008000; text-decoration-color: #008000\">'chipseq'</span><span style=\"font-weight: bold\">)</span>                                          <a href=\"file:///tmp/ipykernel_37830/2767032462.py\"><span style=\"color: #7f7f7f; text-decoration-color: #7f7f7f\">2767032462.py</span></a><span style=\"color: #7f7f7f; text-decoration-color: #7f7f7f\">:3</span>\n",
       "</pre>\n"
      ],
      "text/plain": [
       "\u001b[2;36m          \u001b[0m\u001b[2;36m \u001b[0m\u001b[1m(\u001b[0m\u001b[32m'viralrecon'\u001b[0m, \u001b[32m'chipseq'\u001b[0m\u001b[1m)\u001b[0m                                          \u001b]8;id=233182;file:///tmp/ipykernel_37830/2767032462.py\u001b\\\u001b[2m2767032462.py\u001b[0m\u001b]8;;\u001b\\\u001b[2m:3\u001b[0m\n"
      ]
     },
     "metadata": {},
     "output_type": "display_data"
    },
    {
     "data": {
      "application/vnd.jupyter.widget-view+json": {
       "model_id": "9f64172c210948139bb7514716580fba",
       "version_major": 2,
       "version_minor": 0
      },
      "text/plain": [
       "Output()"
      ]
     },
     "metadata": {},
     "output_type": "display_data"
    },
    {
     "data": {
      "text/html": [
       "<pre style=\"white-space:pre;overflow-x:auto;line-height:normal;font-family:Menlo,'DejaVu Sans Mono',consolas,'Courier New',monospace\"><span style=\"color: #7fbfbf; text-decoration-color: #7fbfbf\">           </span><span style=\"font-weight: bold\">{</span><span style=\"color: #008000; text-decoration-color: #008000\">'full'</span>: <span style=\"color: #008080; text-decoration-color: #008080; font-weight: bold\">7265</span>, <span style=\"color: #008000; text-decoration-color: #008000\">'equal'</span>: <span style=\"color: #008080; text-decoration-color: #008080; font-weight: bold\">42451</span>, <span style=\"color: #008000; text-decoration-color: #008000\">'cv'</span>: <span style=\"color: #008080; text-decoration-color: #008080; font-weight: bold\">284</span><span style=\"font-weight: bold\">}</span>                          <a href=\"file:///tmp/ipykernel_37830/2767032462.py\"><span style=\"color: #7f7f7f; text-decoration-color: #7f7f7f\">2767032462.py</span></a><span style=\"color: #7f7f7f; text-decoration-color: #7f7f7f\">:5</span>\n",
       "</pre>\n"
      ],
      "text/plain": [
       "\u001b[2;36m          \u001b[0m\u001b[2;36m \u001b[0m\u001b[1m{\u001b[0m\u001b[32m'full'\u001b[0m: \u001b[1;36m7265\u001b[0m, \u001b[32m'equal'\u001b[0m: \u001b[1;36m42451\u001b[0m, \u001b[32m'cv'\u001b[0m: \u001b[1;36m284\u001b[0m\u001b[1m}\u001b[0m                          \u001b]8;id=77897;file:///tmp/ipykernel_37830/2767032462.py\u001b\\\u001b[2m2767032462.py\u001b[0m\u001b]8;;\u001b\\\u001b[2m:5\u001b[0m\n"
      ]
     },
     "metadata": {},
     "output_type": "display_data"
    },
    {
     "data": {
      "text/html": [
       "<pre style=\"white-space:pre;overflow-x:auto;line-height:normal;font-family:Menlo,'DejaVu Sans Mono',consolas,'Courier New',monospace\"><span style=\"color: #7fbfbf; text-decoration-color: #7fbfbf\">           </span><span style=\"font-weight: bold\">(</span><span style=\"color: #008000; text-decoration-color: #008000\">'viralrecon'</span>, <span style=\"color: #008000; text-decoration-color: #008000\">'eager'</span><span style=\"font-weight: bold\">)</span>                                            <a href=\"file:///tmp/ipykernel_37830/2767032462.py\"><span style=\"color: #7f7f7f; text-decoration-color: #7f7f7f\">2767032462.py</span></a><span style=\"color: #7f7f7f; text-decoration-color: #7f7f7f\">:3</span>\n",
       "</pre>\n"
      ],
      "text/plain": [
       "\u001b[2;36m          \u001b[0m\u001b[2;36m \u001b[0m\u001b[1m(\u001b[0m\u001b[32m'viralrecon'\u001b[0m, \u001b[32m'eager'\u001b[0m\u001b[1m)\u001b[0m                                            \u001b]8;id=732450;file:///tmp/ipykernel_37830/2767032462.py\u001b\\\u001b[2m2767032462.py\u001b[0m\u001b]8;;\u001b\\\u001b[2m:3\u001b[0m\n"
      ]
     },
     "metadata": {},
     "output_type": "display_data"
    },
    {
     "data": {
      "application/vnd.jupyter.widget-view+json": {
       "model_id": "fd6fd22cdf8947cea4c9ffff3968ba1d",
       "version_major": 2,
       "version_minor": 0
      },
      "text/plain": [
       "Output()"
      ]
     },
     "metadata": {},
     "output_type": "display_data"
    },
    {
     "data": {
      "text/html": [
       "<pre style=\"white-space:pre;overflow-x:auto;line-height:normal;font-family:Menlo,'DejaVu Sans Mono',consolas,'Courier New',monospace\"><span style=\"color: #7fbfbf; text-decoration-color: #7fbfbf\">[23:24:34] </span><span style=\"font-weight: bold\">{</span><span style=\"color: #008000; text-decoration-color: #008000\">'full'</span>: <span style=\"color: #008080; text-decoration-color: #008080; font-weight: bold\">5313</span>, <span style=\"color: #008000; text-decoration-color: #008000\">'equal'</span>: <span style=\"color: #008080; text-decoration-color: #008080; font-weight: bold\">44513</span>, <span style=\"color: #008000; text-decoration-color: #008000\">'cv'</span>: <span style=\"color: #008080; text-decoration-color: #008080; font-weight: bold\">174</span><span style=\"font-weight: bold\">}</span>                          <a href=\"file:///tmp/ipykernel_37830/2767032462.py\"><span style=\"color: #7f7f7f; text-decoration-color: #7f7f7f\">2767032462.py</span></a><span style=\"color: #7f7f7f; text-decoration-color: #7f7f7f\">:5</span>\n",
       "</pre>\n"
      ],
      "text/plain": [
       "\u001b[2;36m[23:24:34]\u001b[0m\u001b[2;36m \u001b[0m\u001b[1m{\u001b[0m\u001b[32m'full'\u001b[0m: \u001b[1;36m5313\u001b[0m, \u001b[32m'equal'\u001b[0m: \u001b[1;36m44513\u001b[0m, \u001b[32m'cv'\u001b[0m: \u001b[1;36m174\u001b[0m\u001b[1m}\u001b[0m                          \u001b]8;id=70659;file:///tmp/ipykernel_37830/2767032462.py\u001b\\\u001b[2m2767032462.py\u001b[0m\u001b]8;;\u001b\\\u001b[2m:5\u001b[0m\n"
      ]
     },
     "metadata": {},
     "output_type": "display_data"
    },
    {
     "data": {
      "text/html": [
       "<pre style=\"white-space:pre;overflow-x:auto;line-height:normal;font-family:Menlo,'DejaVu Sans Mono',consolas,'Courier New',monospace\"><span style=\"color: #7fbfbf; text-decoration-color: #7fbfbf\">           </span><span style=\"font-weight: bold\">(</span><span style=\"color: #008000; text-decoration-color: #008000\">'viralrecon'</span>, <span style=\"color: #008000; text-decoration-color: #008000\">'methylseq'</span><span style=\"font-weight: bold\">)</span>                                        <a href=\"file:///tmp/ipykernel_37830/2767032462.py\"><span style=\"color: #7f7f7f; text-decoration-color: #7f7f7f\">2767032462.py</span></a><span style=\"color: #7f7f7f; text-decoration-color: #7f7f7f\">:3</span>\n",
       "</pre>\n"
      ],
      "text/plain": [
       "\u001b[2;36m          \u001b[0m\u001b[2;36m \u001b[0m\u001b[1m(\u001b[0m\u001b[32m'viralrecon'\u001b[0m, \u001b[32m'methylseq'\u001b[0m\u001b[1m)\u001b[0m                                        \u001b]8;id=977847;file:///tmp/ipykernel_37830/2767032462.py\u001b\\\u001b[2m2767032462.py\u001b[0m\u001b]8;;\u001b\\\u001b[2m:3\u001b[0m\n"
      ]
     },
     "metadata": {},
     "output_type": "display_data"
    },
    {
     "data": {
      "application/vnd.jupyter.widget-view+json": {
       "model_id": "99341e3e49654188adfb1c09ff3a4c16",
       "version_major": 2,
       "version_minor": 0
      },
      "text/plain": [
       "Output()"
      ]
     },
     "metadata": {},
     "output_type": "display_data"
    },
    {
     "data": {
      "text/html": [
       "<pre style=\"white-space:pre;overflow-x:auto;line-height:normal;font-family:Menlo,'DejaVu Sans Mono',consolas,'Courier New',monospace\"><span style=\"color: #7fbfbf; text-decoration-color: #7fbfbf\">           </span><span style=\"font-weight: bold\">{</span><span style=\"color: #008000; text-decoration-color: #008000\">'full'</span>: <span style=\"color: #008080; text-decoration-color: #008080; font-weight: bold\">8457</span>, <span style=\"color: #008000; text-decoration-color: #008000\">'equal'</span>: <span style=\"color: #008080; text-decoration-color: #008080; font-weight: bold\">41025</span>, <span style=\"color: #008000; text-decoration-color: #008000\">'cv'</span>: <span style=\"color: #008080; text-decoration-color: #008080; font-weight: bold\">518</span><span style=\"font-weight: bold\">}</span>                          <a href=\"file:///tmp/ipykernel_37830/2767032462.py\"><span style=\"color: #7f7f7f; text-decoration-color: #7f7f7f\">2767032462.py</span></a><span style=\"color: #7f7f7f; text-decoration-color: #7f7f7f\">:5</span>\n",
       "</pre>\n"
      ],
      "text/plain": [
       "\u001b[2;36m          \u001b[0m\u001b[2;36m \u001b[0m\u001b[1m{\u001b[0m\u001b[32m'full'\u001b[0m: \u001b[1;36m8457\u001b[0m, \u001b[32m'equal'\u001b[0m: \u001b[1;36m41025\u001b[0m, \u001b[32m'cv'\u001b[0m: \u001b[1;36m518\u001b[0m\u001b[1m}\u001b[0m                          \u001b]8;id=920115;file:///tmp/ipykernel_37830/2767032462.py\u001b\\\u001b[2m2767032462.py\u001b[0m\u001b]8;;\u001b\\\u001b[2m:5\u001b[0m\n"
      ]
     },
     "metadata": {},
     "output_type": "display_data"
    },
    {
     "data": {
      "text/html": [
       "<pre style=\"white-space:pre;overflow-x:auto;line-height:normal;font-family:Menlo,'DejaVu Sans Mono',consolas,'Courier New',monospace\"><span style=\"color: #7fbfbf; text-decoration-color: #7fbfbf\">           </span><span style=\"font-weight: bold\">(</span><span style=\"color: #008000; text-decoration-color: #008000\">'viralrecon'</span>, <span style=\"color: #008000; text-decoration-color: #008000\">'sarek'</span><span style=\"font-weight: bold\">)</span>                                            <a href=\"file:///tmp/ipykernel_37830/2767032462.py\"><span style=\"color: #7f7f7f; text-decoration-color: #7f7f7f\">2767032462.py</span></a><span style=\"color: #7f7f7f; text-decoration-color: #7f7f7f\">:3</span>\n",
       "</pre>\n"
      ],
      "text/plain": [
       "\u001b[2;36m          \u001b[0m\u001b[2;36m \u001b[0m\u001b[1m(\u001b[0m\u001b[32m'viralrecon'\u001b[0m, \u001b[32m'sarek'\u001b[0m\u001b[1m)\u001b[0m                                            \u001b]8;id=363924;file:///tmp/ipykernel_37830/2767032462.py\u001b\\\u001b[2m2767032462.py\u001b[0m\u001b]8;;\u001b\\\u001b[2m:3\u001b[0m\n"
      ]
     },
     "metadata": {},
     "output_type": "display_data"
    },
    {
     "data": {
      "application/vnd.jupyter.widget-view+json": {
       "model_id": "ff95b61c99934ffd92cb480adaa6de80",
       "version_major": 2,
       "version_minor": 0
      },
      "text/plain": [
       "Output()"
      ]
     },
     "metadata": {},
     "output_type": "display_data"
    },
    {
     "data": {
      "text/html": [
       "<pre style=\"white-space:pre;overflow-x:auto;line-height:normal;font-family:Menlo,'DejaVu Sans Mono',consolas,'Courier New',monospace\"><span style=\"color: #7fbfbf; text-decoration-color: #7fbfbf\">           </span><span style=\"font-weight: bold\">{</span><span style=\"color: #008000; text-decoration-color: #008000\">'full'</span>: <span style=\"color: #008080; text-decoration-color: #008080; font-weight: bold\">6373</span>, <span style=\"color: #008000; text-decoration-color: #008000\">'equal'</span>: <span style=\"color: #008080; text-decoration-color: #008080; font-weight: bold\">43436</span>, <span style=\"color: #008000; text-decoration-color: #008000\">'cv'</span>: <span style=\"color: #008080; text-decoration-color: #008080; font-weight: bold\">191</span><span style=\"font-weight: bold\">}</span>                          <a href=\"file:///tmp/ipykernel_37830/2767032462.py\"><span style=\"color: #7f7f7f; text-decoration-color: #7f7f7f\">2767032462.py</span></a><span style=\"color: #7f7f7f; text-decoration-color: #7f7f7f\">:5</span>\n",
       "</pre>\n"
      ],
      "text/plain": [
       "\u001b[2;36m          \u001b[0m\u001b[2;36m \u001b[0m\u001b[1m{\u001b[0m\u001b[32m'full'\u001b[0m: \u001b[1;36m6373\u001b[0m, \u001b[32m'equal'\u001b[0m: \u001b[1;36m43436\u001b[0m, \u001b[32m'cv'\u001b[0m: \u001b[1;36m191\u001b[0m\u001b[1m}\u001b[0m                          \u001b]8;id=497798;file:///tmp/ipykernel_37830/2767032462.py\u001b\\\u001b[2m2767032462.py\u001b[0m\u001b]8;;\u001b\\\u001b[2m:5\u001b[0m\n"
      ]
     },
     "metadata": {},
     "output_type": "display_data"
    },
    {
     "data": {
      "text/html": [
       "<pre style=\"white-space:pre;overflow-x:auto;line-height:normal;font-family:Menlo,'DejaVu Sans Mono',consolas,'Courier New',monospace\"><span style=\"font-weight: bold\">{</span>\n",
       "<span style=\"color: #7fbf7f; text-decoration-color: #7fbf7f\">│   </span><span style=\"font-weight: bold\">(</span><span style=\"color: #008000; text-decoration-color: #008000\">'chipseq'</span>, <span style=\"color: #008000; text-decoration-color: #008000\">'eager'</span><span style=\"font-weight: bold\">)</span>: <span style=\"font-weight: bold\">{</span><span style=\"color: #008000; text-decoration-color: #008000\">'full'</span>: <span style=\"color: #008080; text-decoration-color: #008080; font-weight: bold\">5307</span>, <span style=\"color: #008000; text-decoration-color: #008000\">'equal'</span>: <span style=\"color: #008080; text-decoration-color: #008080; font-weight: bold\">44358</span>, <span style=\"color: #008000; text-decoration-color: #008000\">'cv'</span>: <span style=\"color: #008080; text-decoration-color: #008080; font-weight: bold\">335</span><span style=\"font-weight: bold\">}</span>,\n",
       "<span style=\"color: #7fbf7f; text-decoration-color: #7fbf7f\">│   </span><span style=\"font-weight: bold\">(</span><span style=\"color: #008000; text-decoration-color: #008000\">'chipseq'</span>, <span style=\"color: #008000; text-decoration-color: #008000\">'methylseq'</span><span style=\"font-weight: bold\">)</span>: <span style=\"font-weight: bold\">{</span><span style=\"color: #008000; text-decoration-color: #008000\">'full'</span>: <span style=\"color: #008080; text-decoration-color: #008080; font-weight: bold\">4480</span>, <span style=\"color: #008000; text-decoration-color: #008000\">'equal'</span>: <span style=\"color: #008080; text-decoration-color: #008080; font-weight: bold\">45349</span>, <span style=\"color: #008000; text-decoration-color: #008000\">'cv'</span>: <span style=\"color: #008080; text-decoration-color: #008080; font-weight: bold\">171</span><span style=\"font-weight: bold\">}</span>,\n",
       "<span style=\"color: #7fbf7f; text-decoration-color: #7fbf7f\">│   </span><span style=\"font-weight: bold\">(</span><span style=\"color: #008000; text-decoration-color: #008000\">'chipseq'</span>, <span style=\"color: #008000; text-decoration-color: #008000\">'sarek'</span><span style=\"font-weight: bold\">)</span>: <span style=\"font-weight: bold\">{</span><span style=\"color: #008000; text-decoration-color: #008000\">'full'</span>: <span style=\"color: #008080; text-decoration-color: #008080; font-weight: bold\">4943</span>, <span style=\"color: #008000; text-decoration-color: #008000\">'equal'</span>: <span style=\"color: #008080; text-decoration-color: #008080; font-weight: bold\">44865</span>, <span style=\"color: #008000; text-decoration-color: #008000\">'cv'</span>: <span style=\"color: #008080; text-decoration-color: #008080; font-weight: bold\">192</span><span style=\"font-weight: bold\">}</span>,\n",
       "<span style=\"color: #7fbf7f; text-decoration-color: #7fbf7f\">│   </span><span style=\"font-weight: bold\">(</span><span style=\"color: #008000; text-decoration-color: #008000\">'chipseq'</span>, <span style=\"color: #008000; text-decoration-color: #008000\">'viralrecon'</span><span style=\"font-weight: bold\">)</span>: <span style=\"font-weight: bold\">{</span><span style=\"color: #008000; text-decoration-color: #008000\">'full'</span>: <span style=\"color: #008080; text-decoration-color: #008080; font-weight: bold\">8774</span>, <span style=\"color: #008000; text-decoration-color: #008000\">'equal'</span>: <span style=\"color: #008080; text-decoration-color: #008080; font-weight: bold\">41022</span>, <span style=\"color: #008000; text-decoration-color: #008000\">'cv'</span>: <span style=\"color: #008080; text-decoration-color: #008080; font-weight: bold\">204</span><span style=\"font-weight: bold\">}</span>,\n",
       "<span style=\"color: #7fbf7f; text-decoration-color: #7fbf7f\">│   </span><span style=\"font-weight: bold\">(</span><span style=\"color: #008000; text-decoration-color: #008000\">'eager'</span>, <span style=\"color: #008000; text-decoration-color: #008000\">'chipseq'</span><span style=\"font-weight: bold\">)</span>: <span style=\"font-weight: bold\">{</span><span style=\"color: #008000; text-decoration-color: #008000\">'full'</span>: <span style=\"color: #008080; text-decoration-color: #008080; font-weight: bold\">8046</span>, <span style=\"color: #008000; text-decoration-color: #008000\">'equal'</span>: <span style=\"color: #008080; text-decoration-color: #008080; font-weight: bold\">41784</span>, <span style=\"color: #008000; text-decoration-color: #008000\">'cv'</span>: <span style=\"color: #008080; text-decoration-color: #008080; font-weight: bold\">170</span><span style=\"font-weight: bold\">}</span>,\n",
       "<span style=\"color: #7fbf7f; text-decoration-color: #7fbf7f\">│   </span><span style=\"font-weight: bold\">(</span><span style=\"color: #008000; text-decoration-color: #008000\">'eager'</span>, <span style=\"color: #008000; text-decoration-color: #008000\">'methylseq'</span><span style=\"font-weight: bold\">)</span>: <span style=\"font-weight: bold\">{</span><span style=\"color: #008000; text-decoration-color: #008000\">'full'</span>: <span style=\"color: #008080; text-decoration-color: #008080; font-weight: bold\">5734</span>, <span style=\"color: #008000; text-decoration-color: #008000\">'equal'</span>: <span style=\"color: #008080; text-decoration-color: #008080; font-weight: bold\">44209</span>, <span style=\"color: #008000; text-decoration-color: #008000\">'cv'</span>: <span style=\"color: #008080; text-decoration-color: #008080; font-weight: bold\">57</span><span style=\"font-weight: bold\">}</span>,\n",
       "<span style=\"color: #7fbf7f; text-decoration-color: #7fbf7f\">│   </span><span style=\"font-weight: bold\">(</span><span style=\"color: #008000; text-decoration-color: #008000\">'eager'</span>, <span style=\"color: #008000; text-decoration-color: #008000\">'sarek'</span><span style=\"font-weight: bold\">)</span>: <span style=\"font-weight: bold\">{</span><span style=\"color: #008000; text-decoration-color: #008000\">'full'</span>: <span style=\"color: #008080; text-decoration-color: #008080; font-weight: bold\">9686</span>, <span style=\"color: #008000; text-decoration-color: #008000\">'equal'</span>: <span style=\"color: #008080; text-decoration-color: #008080; font-weight: bold\">40166</span>, <span style=\"color: #008000; text-decoration-color: #008000\">'cv'</span>: <span style=\"color: #008080; text-decoration-color: #008080; font-weight: bold\">148</span><span style=\"font-weight: bold\">}</span>,\n",
       "<span style=\"color: #7fbf7f; text-decoration-color: #7fbf7f\">│   </span><span style=\"font-weight: bold\">(</span><span style=\"color: #008000; text-decoration-color: #008000\">'eager'</span>, <span style=\"color: #008000; text-decoration-color: #008000\">'viralrecon'</span><span style=\"font-weight: bold\">)</span>: <span style=\"font-weight: bold\">{</span><span style=\"color: #008000; text-decoration-color: #008000\">'full'</span>: <span style=\"color: #008080; text-decoration-color: #008080; font-weight: bold\">2532</span>, <span style=\"color: #008000; text-decoration-color: #008000\">'equal'</span>: <span style=\"color: #008080; text-decoration-color: #008080; font-weight: bold\">47368</span>, <span style=\"color: #008000; text-decoration-color: #008000\">'cv'</span>: <span style=\"color: #008080; text-decoration-color: #008080; font-weight: bold\">100</span><span style=\"font-weight: bold\">}</span>,\n",
       "<span style=\"color: #7fbf7f; text-decoration-color: #7fbf7f\">│   </span><span style=\"font-weight: bold\">(</span><span style=\"color: #008000; text-decoration-color: #008000\">'methylseq'</span>, <span style=\"color: #008000; text-decoration-color: #008000\">'chipseq'</span><span style=\"font-weight: bold\">)</span>: <span style=\"font-weight: bold\">{</span><span style=\"color: #008000; text-decoration-color: #008000\">'full'</span>: <span style=\"color: #008080; text-decoration-color: #008080; font-weight: bold\">5199</span>, <span style=\"color: #008000; text-decoration-color: #008000\">'equal'</span>: <span style=\"color: #008080; text-decoration-color: #008080; font-weight: bold\">44519</span>, <span style=\"color: #008000; text-decoration-color: #008000\">'cv'</span>: <span style=\"color: #008080; text-decoration-color: #008080; font-weight: bold\">282</span><span style=\"font-weight: bold\">}</span>,\n",
       "<span style=\"color: #7fbf7f; text-decoration-color: #7fbf7f\">│   </span><span style=\"font-weight: bold\">(</span><span style=\"color: #008000; text-decoration-color: #008000\">'methylseq'</span>, <span style=\"color: #008000; text-decoration-color: #008000\">'eager'</span><span style=\"font-weight: bold\">)</span>: <span style=\"font-weight: bold\">{</span><span style=\"color: #008000; text-decoration-color: #008000\">'full'</span>: <span style=\"color: #008080; text-decoration-color: #008080; font-weight: bold\">4441</span>, <span style=\"color: #008000; text-decoration-color: #008000\">'equal'</span>: <span style=\"color: #008080; text-decoration-color: #008080; font-weight: bold\">45437</span>, <span style=\"color: #008000; text-decoration-color: #008000\">'cv'</span>: <span style=\"color: #008080; text-decoration-color: #008080; font-weight: bold\">122</span><span style=\"font-weight: bold\">}</span>,\n",
       "<span style=\"color: #7fbf7f; text-decoration-color: #7fbf7f\">│   </span><span style=\"font-weight: bold\">(</span><span style=\"color: #008000; text-decoration-color: #008000\">'methylseq'</span>, <span style=\"color: #008000; text-decoration-color: #008000\">'sarek'</span><span style=\"font-weight: bold\">)</span>: <span style=\"font-weight: bold\">{</span><span style=\"color: #008000; text-decoration-color: #008000\">'full'</span>: <span style=\"color: #008080; text-decoration-color: #008080; font-weight: bold\">8217</span>, <span style=\"color: #008000; text-decoration-color: #008000\">'equal'</span>: <span style=\"color: #008080; text-decoration-color: #008080; font-weight: bold\">41663</span>, <span style=\"color: #008000; text-decoration-color: #008000\">'cv'</span>: <span style=\"color: #008080; text-decoration-color: #008080; font-weight: bold\">120</span><span style=\"font-weight: bold\">}</span>,\n",
       "<span style=\"color: #7fbf7f; text-decoration-color: #7fbf7f\">│   </span><span style=\"font-weight: bold\">(</span><span style=\"color: #008000; text-decoration-color: #008000\">'methylseq'</span>, <span style=\"color: #008000; text-decoration-color: #008000\">'viralrecon'</span><span style=\"font-weight: bold\">)</span>: <span style=\"font-weight: bold\">{</span><span style=\"color: #008000; text-decoration-color: #008000\">'full'</span>: <span style=\"color: #008080; text-decoration-color: #008080; font-weight: bold\">1855</span>, <span style=\"color: #008000; text-decoration-color: #008000\">'equal'</span>: <span style=\"color: #008080; text-decoration-color: #008080; font-weight: bold\">47807</span>, <span style=\"color: #008000; text-decoration-color: #008000\">'cv'</span>: <span style=\"color: #008080; text-decoration-color: #008080; font-weight: bold\">338</span><span style=\"font-weight: bold\">}</span>,\n",
       "<span style=\"color: #7fbf7f; text-decoration-color: #7fbf7f\">│   </span><span style=\"font-weight: bold\">(</span><span style=\"color: #008000; text-decoration-color: #008000\">'sarek'</span>, <span style=\"color: #008000; text-decoration-color: #008000\">'chipseq'</span><span style=\"font-weight: bold\">)</span>: <span style=\"font-weight: bold\">{</span><span style=\"color: #008000; text-decoration-color: #008000\">'full'</span>: <span style=\"color: #008080; text-decoration-color: #008080; font-weight: bold\">10209</span>, <span style=\"color: #008000; text-decoration-color: #008000\">'equal'</span>: <span style=\"color: #008080; text-decoration-color: #008080; font-weight: bold\">39629</span>, <span style=\"color: #008000; text-decoration-color: #008000\">'cv'</span>: <span style=\"color: #008080; text-decoration-color: #008080; font-weight: bold\">162</span><span style=\"font-weight: bold\">}</span>,\n",
       "<span style=\"color: #7fbf7f; text-decoration-color: #7fbf7f\">│   </span><span style=\"font-weight: bold\">(</span><span style=\"color: #008000; text-decoration-color: #008000\">'sarek'</span>, <span style=\"color: #008000; text-decoration-color: #008000\">'eager'</span><span style=\"font-weight: bold\">)</span>: <span style=\"font-weight: bold\">{</span><span style=\"color: #008000; text-decoration-color: #008000\">'full'</span>: <span style=\"color: #008080; text-decoration-color: #008080; font-weight: bold\">7398</span>, <span style=\"color: #008000; text-decoration-color: #008000\">'equal'</span>: <span style=\"color: #008080; text-decoration-color: #008080; font-weight: bold\">42450</span>, <span style=\"color: #008000; text-decoration-color: #008000\">'cv'</span>: <span style=\"color: #008080; text-decoration-color: #008080; font-weight: bold\">152</span><span style=\"font-weight: bold\">}</span>,\n",
       "<span style=\"color: #7fbf7f; text-decoration-color: #7fbf7f\">│   </span><span style=\"font-weight: bold\">(</span><span style=\"color: #008000; text-decoration-color: #008000\">'sarek'</span>, <span style=\"color: #008000; text-decoration-color: #008000\">'methylseq'</span><span style=\"font-weight: bold\">)</span>: <span style=\"font-weight: bold\">{</span><span style=\"color: #008000; text-decoration-color: #008000\">'full'</span>: <span style=\"color: #008080; text-decoration-color: #008080; font-weight: bold\">10990</span>, <span style=\"color: #008000; text-decoration-color: #008000\">'equal'</span>: <span style=\"color: #008080; text-decoration-color: #008080; font-weight: bold\">38890</span>, <span style=\"color: #008000; text-decoration-color: #008000\">'cv'</span>: <span style=\"color: #008080; text-decoration-color: #008080; font-weight: bold\">120</span><span style=\"font-weight: bold\">}</span>,\n",
       "<span style=\"color: #7fbf7f; text-decoration-color: #7fbf7f\">│   </span><span style=\"font-weight: bold\">(</span><span style=\"color: #008000; text-decoration-color: #008000\">'sarek'</span>, <span style=\"color: #008000; text-decoration-color: #008000\">'viralrecon'</span><span style=\"font-weight: bold\">)</span>: <span style=\"font-weight: bold\">{</span><span style=\"color: #008000; text-decoration-color: #008000\">'full'</span>: <span style=\"color: #008080; text-decoration-color: #008080; font-weight: bold\">7616</span>, <span style=\"color: #008000; text-decoration-color: #008000\">'equal'</span>: <span style=\"color: #008080; text-decoration-color: #008080; font-weight: bold\">42025</span>, <span style=\"color: #008000; text-decoration-color: #008000\">'cv'</span>: <span style=\"color: #008080; text-decoration-color: #008080; font-weight: bold\">359</span><span style=\"font-weight: bold\">}</span>,\n",
       "<span style=\"color: #7fbf7f; text-decoration-color: #7fbf7f\">│   </span><span style=\"font-weight: bold\">(</span><span style=\"color: #008000; text-decoration-color: #008000\">'viralrecon'</span>, <span style=\"color: #008000; text-decoration-color: #008000\">'chipseq'</span><span style=\"font-weight: bold\">)</span>: <span style=\"font-weight: bold\">{</span><span style=\"color: #008000; text-decoration-color: #008000\">'full'</span>: <span style=\"color: #008080; text-decoration-color: #008080; font-weight: bold\">7265</span>, <span style=\"color: #008000; text-decoration-color: #008000\">'equal'</span>: <span style=\"color: #008080; text-decoration-color: #008080; font-weight: bold\">42451</span>, <span style=\"color: #008000; text-decoration-color: #008000\">'cv'</span>: <span style=\"color: #008080; text-decoration-color: #008080; font-weight: bold\">284</span><span style=\"font-weight: bold\">}</span>,\n",
       "<span style=\"color: #7fbf7f; text-decoration-color: #7fbf7f\">│   </span><span style=\"font-weight: bold\">(</span><span style=\"color: #008000; text-decoration-color: #008000\">'viralrecon'</span>, <span style=\"color: #008000; text-decoration-color: #008000\">'eager'</span><span style=\"font-weight: bold\">)</span>: <span style=\"font-weight: bold\">{</span><span style=\"color: #008000; text-decoration-color: #008000\">'full'</span>: <span style=\"color: #008080; text-decoration-color: #008080; font-weight: bold\">5313</span>, <span style=\"color: #008000; text-decoration-color: #008000\">'equal'</span>: <span style=\"color: #008080; text-decoration-color: #008080; font-weight: bold\">44513</span>, <span style=\"color: #008000; text-decoration-color: #008000\">'cv'</span>: <span style=\"color: #008080; text-decoration-color: #008080; font-weight: bold\">174</span><span style=\"font-weight: bold\">}</span>,\n",
       "<span style=\"color: #7fbf7f; text-decoration-color: #7fbf7f\">│   </span><span style=\"font-weight: bold\">(</span><span style=\"color: #008000; text-decoration-color: #008000\">'viralrecon'</span>, <span style=\"color: #008000; text-decoration-color: #008000\">'methylseq'</span><span style=\"font-weight: bold\">)</span>: <span style=\"font-weight: bold\">{</span><span style=\"color: #008000; text-decoration-color: #008000\">'full'</span>: <span style=\"color: #008080; text-decoration-color: #008080; font-weight: bold\">8457</span>, <span style=\"color: #008000; text-decoration-color: #008000\">'equal'</span>: <span style=\"color: #008080; text-decoration-color: #008080; font-weight: bold\">41025</span>, <span style=\"color: #008000; text-decoration-color: #008000\">'cv'</span>: <span style=\"color: #008080; text-decoration-color: #008080; font-weight: bold\">518</span><span style=\"font-weight: bold\">}</span>,\n",
       "<span style=\"color: #7fbf7f; text-decoration-color: #7fbf7f\">│   </span><span style=\"font-weight: bold\">(</span><span style=\"color: #008000; text-decoration-color: #008000\">'viralrecon'</span>, <span style=\"color: #008000; text-decoration-color: #008000\">'sarek'</span><span style=\"font-weight: bold\">)</span>: <span style=\"font-weight: bold\">{</span><span style=\"color: #008000; text-decoration-color: #008000\">'full'</span>: <span style=\"color: #008080; text-decoration-color: #008080; font-weight: bold\">6373</span>, <span style=\"color: #008000; text-decoration-color: #008000\">'equal'</span>: <span style=\"color: #008080; text-decoration-color: #008080; font-weight: bold\">43436</span>, <span style=\"color: #008000; text-decoration-color: #008000\">'cv'</span>: <span style=\"color: #008080; text-decoration-color: #008080; font-weight: bold\">191</span><span style=\"font-weight: bold\">}</span>\n",
       "<span style=\"font-weight: bold\">}</span>\n",
       "</pre>\n"
      ],
      "text/plain": [
       "\u001b[1m{\u001b[0m\n",
       "\u001b[2;32m│   \u001b[0m\u001b[1m(\u001b[0m\u001b[32m'chipseq'\u001b[0m, \u001b[32m'eager'\u001b[0m\u001b[1m)\u001b[0m: \u001b[1m{\u001b[0m\u001b[32m'full'\u001b[0m: \u001b[1;36m5307\u001b[0m, \u001b[32m'equal'\u001b[0m: \u001b[1;36m44358\u001b[0m, \u001b[32m'cv'\u001b[0m: \u001b[1;36m335\u001b[0m\u001b[1m}\u001b[0m,\n",
       "\u001b[2;32m│   \u001b[0m\u001b[1m(\u001b[0m\u001b[32m'chipseq'\u001b[0m, \u001b[32m'methylseq'\u001b[0m\u001b[1m)\u001b[0m: \u001b[1m{\u001b[0m\u001b[32m'full'\u001b[0m: \u001b[1;36m4480\u001b[0m, \u001b[32m'equal'\u001b[0m: \u001b[1;36m45349\u001b[0m, \u001b[32m'cv'\u001b[0m: \u001b[1;36m171\u001b[0m\u001b[1m}\u001b[0m,\n",
       "\u001b[2;32m│   \u001b[0m\u001b[1m(\u001b[0m\u001b[32m'chipseq'\u001b[0m, \u001b[32m'sarek'\u001b[0m\u001b[1m)\u001b[0m: \u001b[1m{\u001b[0m\u001b[32m'full'\u001b[0m: \u001b[1;36m4943\u001b[0m, \u001b[32m'equal'\u001b[0m: \u001b[1;36m44865\u001b[0m, \u001b[32m'cv'\u001b[0m: \u001b[1;36m192\u001b[0m\u001b[1m}\u001b[0m,\n",
       "\u001b[2;32m│   \u001b[0m\u001b[1m(\u001b[0m\u001b[32m'chipseq'\u001b[0m, \u001b[32m'viralrecon'\u001b[0m\u001b[1m)\u001b[0m: \u001b[1m{\u001b[0m\u001b[32m'full'\u001b[0m: \u001b[1;36m8774\u001b[0m, \u001b[32m'equal'\u001b[0m: \u001b[1;36m41022\u001b[0m, \u001b[32m'cv'\u001b[0m: \u001b[1;36m204\u001b[0m\u001b[1m}\u001b[0m,\n",
       "\u001b[2;32m│   \u001b[0m\u001b[1m(\u001b[0m\u001b[32m'eager'\u001b[0m, \u001b[32m'chipseq'\u001b[0m\u001b[1m)\u001b[0m: \u001b[1m{\u001b[0m\u001b[32m'full'\u001b[0m: \u001b[1;36m8046\u001b[0m, \u001b[32m'equal'\u001b[0m: \u001b[1;36m41784\u001b[0m, \u001b[32m'cv'\u001b[0m: \u001b[1;36m170\u001b[0m\u001b[1m}\u001b[0m,\n",
       "\u001b[2;32m│   \u001b[0m\u001b[1m(\u001b[0m\u001b[32m'eager'\u001b[0m, \u001b[32m'methylseq'\u001b[0m\u001b[1m)\u001b[0m: \u001b[1m{\u001b[0m\u001b[32m'full'\u001b[0m: \u001b[1;36m5734\u001b[0m, \u001b[32m'equal'\u001b[0m: \u001b[1;36m44209\u001b[0m, \u001b[32m'cv'\u001b[0m: \u001b[1;36m57\u001b[0m\u001b[1m}\u001b[0m,\n",
       "\u001b[2;32m│   \u001b[0m\u001b[1m(\u001b[0m\u001b[32m'eager'\u001b[0m, \u001b[32m'sarek'\u001b[0m\u001b[1m)\u001b[0m: \u001b[1m{\u001b[0m\u001b[32m'full'\u001b[0m: \u001b[1;36m9686\u001b[0m, \u001b[32m'equal'\u001b[0m: \u001b[1;36m40166\u001b[0m, \u001b[32m'cv'\u001b[0m: \u001b[1;36m148\u001b[0m\u001b[1m}\u001b[0m,\n",
       "\u001b[2;32m│   \u001b[0m\u001b[1m(\u001b[0m\u001b[32m'eager'\u001b[0m, \u001b[32m'viralrecon'\u001b[0m\u001b[1m)\u001b[0m: \u001b[1m{\u001b[0m\u001b[32m'full'\u001b[0m: \u001b[1;36m2532\u001b[0m, \u001b[32m'equal'\u001b[0m: \u001b[1;36m47368\u001b[0m, \u001b[32m'cv'\u001b[0m: \u001b[1;36m100\u001b[0m\u001b[1m}\u001b[0m,\n",
       "\u001b[2;32m│   \u001b[0m\u001b[1m(\u001b[0m\u001b[32m'methylseq'\u001b[0m, \u001b[32m'chipseq'\u001b[0m\u001b[1m)\u001b[0m: \u001b[1m{\u001b[0m\u001b[32m'full'\u001b[0m: \u001b[1;36m5199\u001b[0m, \u001b[32m'equal'\u001b[0m: \u001b[1;36m44519\u001b[0m, \u001b[32m'cv'\u001b[0m: \u001b[1;36m282\u001b[0m\u001b[1m}\u001b[0m,\n",
       "\u001b[2;32m│   \u001b[0m\u001b[1m(\u001b[0m\u001b[32m'methylseq'\u001b[0m, \u001b[32m'eager'\u001b[0m\u001b[1m)\u001b[0m: \u001b[1m{\u001b[0m\u001b[32m'full'\u001b[0m: \u001b[1;36m4441\u001b[0m, \u001b[32m'equal'\u001b[0m: \u001b[1;36m45437\u001b[0m, \u001b[32m'cv'\u001b[0m: \u001b[1;36m122\u001b[0m\u001b[1m}\u001b[0m,\n",
       "\u001b[2;32m│   \u001b[0m\u001b[1m(\u001b[0m\u001b[32m'methylseq'\u001b[0m, \u001b[32m'sarek'\u001b[0m\u001b[1m)\u001b[0m: \u001b[1m{\u001b[0m\u001b[32m'full'\u001b[0m: \u001b[1;36m8217\u001b[0m, \u001b[32m'equal'\u001b[0m: \u001b[1;36m41663\u001b[0m, \u001b[32m'cv'\u001b[0m: \u001b[1;36m120\u001b[0m\u001b[1m}\u001b[0m,\n",
       "\u001b[2;32m│   \u001b[0m\u001b[1m(\u001b[0m\u001b[32m'methylseq'\u001b[0m, \u001b[32m'viralrecon'\u001b[0m\u001b[1m)\u001b[0m: \u001b[1m{\u001b[0m\u001b[32m'full'\u001b[0m: \u001b[1;36m1855\u001b[0m, \u001b[32m'equal'\u001b[0m: \u001b[1;36m47807\u001b[0m, \u001b[32m'cv'\u001b[0m: \u001b[1;36m338\u001b[0m\u001b[1m}\u001b[0m,\n",
       "\u001b[2;32m│   \u001b[0m\u001b[1m(\u001b[0m\u001b[32m'sarek'\u001b[0m, \u001b[32m'chipseq'\u001b[0m\u001b[1m)\u001b[0m: \u001b[1m{\u001b[0m\u001b[32m'full'\u001b[0m: \u001b[1;36m10209\u001b[0m, \u001b[32m'equal'\u001b[0m: \u001b[1;36m39629\u001b[0m, \u001b[32m'cv'\u001b[0m: \u001b[1;36m162\u001b[0m\u001b[1m}\u001b[0m,\n",
       "\u001b[2;32m│   \u001b[0m\u001b[1m(\u001b[0m\u001b[32m'sarek'\u001b[0m, \u001b[32m'eager'\u001b[0m\u001b[1m)\u001b[0m: \u001b[1m{\u001b[0m\u001b[32m'full'\u001b[0m: \u001b[1;36m7398\u001b[0m, \u001b[32m'equal'\u001b[0m: \u001b[1;36m42450\u001b[0m, \u001b[32m'cv'\u001b[0m: \u001b[1;36m152\u001b[0m\u001b[1m}\u001b[0m,\n",
       "\u001b[2;32m│   \u001b[0m\u001b[1m(\u001b[0m\u001b[32m'sarek'\u001b[0m, \u001b[32m'methylseq'\u001b[0m\u001b[1m)\u001b[0m: \u001b[1m{\u001b[0m\u001b[32m'full'\u001b[0m: \u001b[1;36m10990\u001b[0m, \u001b[32m'equal'\u001b[0m: \u001b[1;36m38890\u001b[0m, \u001b[32m'cv'\u001b[0m: \u001b[1;36m120\u001b[0m\u001b[1m}\u001b[0m,\n",
       "\u001b[2;32m│   \u001b[0m\u001b[1m(\u001b[0m\u001b[32m'sarek'\u001b[0m, \u001b[32m'viralrecon'\u001b[0m\u001b[1m)\u001b[0m: \u001b[1m{\u001b[0m\u001b[32m'full'\u001b[0m: \u001b[1;36m7616\u001b[0m, \u001b[32m'equal'\u001b[0m: \u001b[1;36m42025\u001b[0m, \u001b[32m'cv'\u001b[0m: \u001b[1;36m359\u001b[0m\u001b[1m}\u001b[0m,\n",
       "\u001b[2;32m│   \u001b[0m\u001b[1m(\u001b[0m\u001b[32m'viralrecon'\u001b[0m, \u001b[32m'chipseq'\u001b[0m\u001b[1m)\u001b[0m: \u001b[1m{\u001b[0m\u001b[32m'full'\u001b[0m: \u001b[1;36m7265\u001b[0m, \u001b[32m'equal'\u001b[0m: \u001b[1;36m42451\u001b[0m, \u001b[32m'cv'\u001b[0m: \u001b[1;36m284\u001b[0m\u001b[1m}\u001b[0m,\n",
       "\u001b[2;32m│   \u001b[0m\u001b[1m(\u001b[0m\u001b[32m'viralrecon'\u001b[0m, \u001b[32m'eager'\u001b[0m\u001b[1m)\u001b[0m: \u001b[1m{\u001b[0m\u001b[32m'full'\u001b[0m: \u001b[1;36m5313\u001b[0m, \u001b[32m'equal'\u001b[0m: \u001b[1;36m44513\u001b[0m, \u001b[32m'cv'\u001b[0m: \u001b[1;36m174\u001b[0m\u001b[1m}\u001b[0m,\n",
       "\u001b[2;32m│   \u001b[0m\u001b[1m(\u001b[0m\u001b[32m'viralrecon'\u001b[0m, \u001b[32m'methylseq'\u001b[0m\u001b[1m)\u001b[0m: \u001b[1m{\u001b[0m\u001b[32m'full'\u001b[0m: \u001b[1;36m8457\u001b[0m, \u001b[32m'equal'\u001b[0m: \u001b[1;36m41025\u001b[0m, \u001b[32m'cv'\u001b[0m: \u001b[1;36m518\u001b[0m\u001b[1m}\u001b[0m,\n",
       "\u001b[2;32m│   \u001b[0m\u001b[1m(\u001b[0m\u001b[32m'viralrecon'\u001b[0m, \u001b[32m'sarek'\u001b[0m\u001b[1m)\u001b[0m: \u001b[1m{\u001b[0m\u001b[32m'full'\u001b[0m: \u001b[1;36m6373\u001b[0m, \u001b[32m'equal'\u001b[0m: \u001b[1;36m43436\u001b[0m, \u001b[32m'cv'\u001b[0m: \u001b[1;36m191\u001b[0m\u001b[1m}\u001b[0m\n",
       "\u001b[1m}\u001b[0m\n"
      ]
     },
     "metadata": {},
     "output_type": "display_data"
    }
   ],
   "source": [
    "split10PComp = dict()\n",
    "for split, tab in bisCVBigtable.groupby([\"cvSplit\", \"ukSplit\"]):\n",
    "    rc.log(split)\n",
    "    split10PComp[split] = compareCVFull(bisBigtable, tab.drop([\"cvSplit\", \"ukSplit\"],axis=1), tol=lambda res, cvres: min(res,cvres)*10/100)\n",
    "    rc.log(split10PComp[split])\n",
    "pprint(split10PComp)"
   ]
  },
  {
   "cell_type": "code",
   "execution_count": null,
   "metadata": {},
   "outputs": [],
   "source": [
    "col = list()\n",
    "for split, comp in split10PComp.items():\n",
    "    cv, uk = split\n",
    "    for i in [\"full\", \"equal\", \"cv\"]:\n",
    "        col.append([cv, uk, comp[i], i])\n",
    "compDF = pds.DataFrame(data=col, columns=[\"cvSplit\", \"ukSplit\", \"full\", \"equal\", \"cv\"])\n",
    "#compDF.pivot(\"cvSplit\", \"ukSplit\")\n",
    "#print(compDF.pivot(\"cvSplit\", \"ukSplit\",\"text\").to_latex(na_rep=\"-\"))\n",
    "compDF"
   ]
  },
  {
   "cell_type": "markdown",
   "metadata": {},
   "source": [
    "------------"
   ]
  },
  {
   "cell_type": "code",
   "execution_count": null,
   "metadata": {},
   "outputs": [],
   "source": [
    "g = sns.catplot(kind=\"bar\", data=compDF, hue=\"which\", dodge=True, col=\"ukSplit\", row=\"cvSplit\", y=\"res\", x=[\"\"])"
   ]
  },
  {
   "cell_type": "markdown",
   "metadata": {},
   "source": [
    "# [END] trying out new visualisation"
   ]
  },
  {
   "cell_type": "code",
   "execution_count": 3,
   "metadata": {
    "pycharm": {
     "name": "#%%\n"
    }
   },
   "outputs": [
    {
     "ename": "NameError",
     "evalue": "name 'bigtable' is not defined",
     "output_type": "error",
     "traceback": [
      "\u001b[0;31m---------------------------------------------------------------------------\u001b[0m",
      "\u001b[0;31mNameError\u001b[0m                                 Traceback (most recent call last)",
      "\u001b[0;32m/tmp/ipykernel_8133/995261593.py\u001b[0m in \u001b[0;36m<module>\u001b[0;34m\u001b[0m\n\u001b[0;32m----> 1\u001b[0;31m descByMethod = bigtable.groupby([\"method\"])[\"res\"].describe(  # percentiles=[x / 10 for x in range(1, 10)],\n\u001b[0m\u001b[1;32m      2\u001b[0m     include=\"all\")\n\u001b[1;32m      3\u001b[0m \u001b[0mdescByMethod\u001b[0m\u001b[0;34m.\u001b[0m\u001b[0msort_values\u001b[0m\u001b[0;34m(\u001b[0m\u001b[0mby\u001b[0m\u001b[0;34m=\u001b[0m\u001b[0;34m[\u001b[0m\u001b[0;34m\"mean\"\u001b[0m\u001b[0;34m]\u001b[0m\u001b[0;34m,\u001b[0m \u001b[0maxis\u001b[0m\u001b[0;34m=\u001b[0m\u001b[0;36m0\u001b[0m\u001b[0;34m,\u001b[0m \u001b[0minplace\u001b[0m\u001b[0;34m=\u001b[0m\u001b[0;32mTrue\u001b[0m\u001b[0;34m,\u001b[0m \u001b[0mascending\u001b[0m\u001b[0;34m=\u001b[0m\u001b[0;32mTrue\u001b[0m\u001b[0;34m)\u001b[0m\u001b[0;34m\u001b[0m\u001b[0;34m\u001b[0m\u001b[0m\n\u001b[1;32m      4\u001b[0m \u001b[0;31m# descByMethod\u001b[0m\u001b[0;34m\u001b[0m\u001b[0;34m\u001b[0m\u001b[0;34m\u001b[0m\u001b[0m\n\u001b[1;32m      5\u001b[0m \u001b[0;34m\u001b[0m\u001b[0m\n",
      "\u001b[0;31mNameError\u001b[0m: name 'bigtable' is not defined"
     ]
    }
   ],
   "source": [
    "descByMethod = bigtable.groupby([\"method\"])[\"res\"].describe(  # percentiles=[x / 10 for x in range(1, 10)],\n",
    "    include=\"all\")\n",
    "descByMethod.sort_values(by=[\"mean\"], axis=0, inplace=True, ascending=True)\n",
    "# descByMethod"
   ]
  },
  {
   "cell_type": "code",
   "execution_count": null,
   "metadata": {
    "pycharm": {
     "name": "#%%\n"
    }
   },
   "outputs": [],
   "source": [
    "for style in [\"Boxen\"]:\n",
    "    g = sns.catplot(x=\"res\", y=\"method\", orient=\"h\",\n",
    "                    order=descByMethod.index,\n",
    "                    # hue=\"wfName\",  # palette=[\"m\", \"g\"],\n",
    "                    # row=\"wfName\",\n",
    "                    # col=\"method\",\n",
    "                    data=bigtable,\n",
    "                    kind=style.lower(),\n",
    "                    aspect=1.5,\n",
    "                    height=8\n",
    "                    )\n",
    "    g.set(xlabel=\"Runtimes\", ylabel=\"Strategy\")\n",
    "    save_plot(g, f\"res_Vs_method_{style}.plot\")\n",
    "    plt.show()"
   ]
  },
  {
   "cell_type": "code",
   "execution_count": null,
   "metadata": {
    "pycharm": {
     "name": "#%%\n"
    }
   },
   "outputs": [],
   "source": [
    "descByModel = bigtable[bigtable.regModel != \"N/A\"].groupby([\"regModel\"])[\"res\"].describe(  # percentiles=[x / 10 for x in range(1, 10)],\n",
    "    include=\"all\")\n",
    "descByModel.sort_values(by=[\"mean\"], axis=0, inplace=True, ascending=True)\n",
    "# descByModel"
   ]
  },
  {
   "cell_type": "code",
   "execution_count": null,
   "metadata": {
    "pycharm": {
     "name": "#%%\n"
    }
   },
   "outputs": [],
   "source": [
    "for style in [\"Boxen\"]:\n",
    "    g = sns.catplot(x=\"res\", y=\"regModel\", orient=\"h\",\n",
    "                    order=descByModel.index,\n",
    "                    # hue=\"wfName\",  # palette=[\"m\", \"g\"],\n",
    "                    # row=\"wfName\",\n",
    "                    # col=\"method\",\n",
    "                    data=bigtable[bigtable.regModel != \"N/A\"],\n",
    "                    kind=style.lower(),\n",
    "                    aspect=1.5,\n",
    "                    height=8\n",
    "                    )\n",
    "    g.set(xlabel=\"Runtimes\", ylabel=\"Degree / Regression Model\")\n",
    "    save_plot(g, f\"res_Vs_regModel_{style}.plot\")\n",
    "    plt.show()"
   ]
  },
  {
   "cell_type": "code",
   "execution_count": null,
   "metadata": {
    "pycharm": {
     "name": "#%%\n"
    }
   },
   "outputs": [],
   "source": [
    "for style in [\"Boxen\"]:\n",
    "    g = sns.catplot(x=\"res\", y=\"regModel\", orient=\"h\",\n",
    "                    order=descByModel.index,\n",
    "                    # hue=\"wfName\",  # palette=[\"m\", \"g\"],\n",
    "                    # row=\"wfName\",\n",
    "                    col=\"wfName\",\n",
    "                    col_wrap=3,\n",
    "                    sharex=False,\n",
    "                    data=bigtable[bigtable.regModel != \"N/A\"],\n",
    "                    kind=style.lower(),\n",
    "                    aspect=1.1,\n",
    "                    height=6\n",
    "                    )\n",
    "    g.set(xlabel=\"Runtimes\", ylabel=\"Degree / Regression Model\")\n",
    "    g.set_titles(\"Workflow: {col_name}\")\n",
    "    save_plot(g, f\"res_Vs_method_perWF_{style}.plot\")\n",
    "    plt.show()"
   ]
  },
  {
   "cell_type": "markdown",
   "metadata": {
    "pycharm": {
     "name": "#%% md\n"
    }
   },
   "source": [
    "# Filter for only the BiS regression model:"
   ]
  },
  {
   "cell_type": "code",
   "execution_count": null,
   "metadata": {
    "pycharm": {
     "name": "#%%\n"
    }
   },
   "outputs": [],
   "source": [
    "bisModel = descByModel.index[0]\n",
    "bigtable = bigtable.query(\"schedType == 'random' or regModel==@bisModel\")"
   ]
  },
  {
   "cell_type": "code",
   "execution_count": null,
   "metadata": {
    "pycharm": {
     "name": "#%%\n"
    }
   },
   "outputs": [],
   "source": [
    "descByMethodSansRand = bigtable[bigtable.regModel != \"N/A\"].groupby([\"method\"])[\"res\"].describe(  # percentiles=[x / 10 for x in range(1, 10)],\n",
    "    include=\"all\")\n",
    "descByMethodSansRand.sort_values(by=[\"mean\"], axis=0, inplace=True, ascending=True)"
   ]
  },
  {
   "cell_type": "code",
   "execution_count": null,
   "metadata": {
    "pycharm": {
     "name": "#%%\n"
    }
   },
   "outputs": [],
   "source": [
    "for style in [\"Boxen\"]:\n",
    "    g = sns.catplot(x=\"res\", y=\"method\", orient=\"h\",\n",
    "                    order=descByMethodSansRand.index,\n",
    "                    # hue=\"wfName\",  # palette=[\"m\", \"g\"],\n",
    "                    # row=\"wfName\",\n",
    "                    col=\"wfName\",\n",
    "                    col_wrap=3,\n",
    "                    sharex=False,\n",
    "                    data=bigtable[bigtable.regModel != \"N/A\"],\n",
    "                    kind=style.lower(),\n",
    "                    aspect=1.1,\n",
    "                    height=6\n",
    "                    )\n",
    "    g.set(xlabel=\"Runtimes\", ylabel=\"Strategy\")\n",
    "    g.set_titles(\"Workflow: {col_name}\")\n",
    "    save_plot(g, f\"res_Vs_method_bisModel_{style}.plot\")\n",
    "    plt.show()"
   ]
  },
  {
   "cell_type": "code",
   "execution_count": null,
   "metadata": {
    "pycharm": {
     "name": "#%%\n"
    }
   },
   "outputs": [],
   "source": [
    "g = sns.catplot(x=\"wfName\", y=\"res\",  # orient=\"h\",\n",
    "                order=[\"eager\", \"methylseq\", \"sarek\", \"viralrecon\", \"chipseq\"],\n",
    "                hue=\"method\",  # palette=[\"m\", \"g\"],\n",
    "                hue_order=[\"recommenderV1\", \"recommenderV1H1\", \"recommenderV1H2\", \"recommenderV1H3\",\n",
    "                           \"recommenderV2\", \"recommenderV2H1\", \"recommenderV2H2\", \"recommenderV2H3\"],\n",
    "                # row=\"wfName\",\n",
    "                # col=\"wfName\",\n",
    "                # col_wrap=3,\n",
    "                data=bigtable[bigtable.schedCat != \"random\"],\n",
    "                kind=\"point\",\n",
    "                aspect=1.5,\n",
    "                height=8,\n",
    "                facet_kws=dict(legend_out=False)\n",
    "                )\n",
    "sns.move_legend(g, \"lower center\", bbox_to_anchor=(.425, 1), ncol=4, title=\"Strategy\", frameon=False)\n",
    "g.set(xlabel=\"Workflow\", ylabel=\"Runtimes\")\n",
    "save_plot(g, \"res_Vs_method_bisModel_Point.plot\")\n",
    "plt.show()"
   ]
  },
  {
   "cell_type": "code",
   "execution_count": null,
   "metadata": {
    "pycharm": {
     "name": "#%%\n"
    }
   },
   "outputs": [],
   "source": [
    "g = sns.catplot(x=\"clusterSize\", y=\"res\",  # orient=\"h\",\n",
    "                # order=\"\",\n",
    "                hue=\"schedCat\",  # palette=[\"m\", \"g\"],\n",
    "                # row=\"wfName\",\n",
    "                col=\"wfName\",\n",
    "                col_wrap=3,\n",
    "                col_order=list(wfNames),\n",
    "                sharey=False,\n",
    "                sharex=False,\n",
    "                data=bigtable,\n",
    "                kind=\"point\",\n",
    "                aspect=1.1,\n",
    "                height=6,\n",
    "                facet_kws=dict(legend_out=False)\n",
    "                )\n",
    "sns.move_legend(g, \"upper left\", bbox_to_anchor=(.65, .45), title=\"Strategy Category\", frameon=False)\n",
    "for i, ax in enumerate(g.axes.ravel()):\n",
    "    wf = list(wfNames)[i]\n",
    "    ax.axhline(y=statistics.mean(bigtable.query(\"method == 'randomV1P0' and wfName==@wf\")[\"res\"]), linestyle=\"--\", color=\"black\")\n",
    "g.set_titles(\"Workflow: {col_name}\")\n",
    "g.set(xlabel=\"Cluster size\", ylabel=\"Runtimes\")\n",
    "save_plot(g, \"res_Vs_clusterSize_perWF_bisModel_hueSchedCat_Point.plot\")\n",
    "plt.show()"
   ]
  },
  {
   "cell_type": "code",
   "execution_count": null,
   "metadata": {
    "pycharm": {
     "name": "#%%\n"
    }
   },
   "outputs": [],
   "source": [
    "g = sns.catplot(x=\"clusterSize\", y=\"res\",  # orient=\"h\",\n",
    "                # order=\"\",\n",
    "                hue=\"wfName\",  # palette=[\"m\", \"g\"],\n",
    "                # row=\"wfName\",\n",
    "                col=\"schedType\",\n",
    "                col_wrap=3,\n",
    "                col_order=[\"random\", \"recommenderV1\", \"recommenderV2\",\n",
    "                           \"recommenderV1H1\", \"recommenderV1H2\", \"recommenderV1H3\",\n",
    "                           \"recommenderV2H1\", \"recommenderV2H2\", \"recommenderV2H3\"],\n",
    "                # sharey=False,\n",
    "                sharex=False,\n",
    "                hue_order=list(wfNames),\n",
    "                data=bigtable,\n",
    "                kind=\"point\",\n",
    "                aspect=1.1,\n",
    "                height=6,\n",
    "                facet_kws=dict(legend_out=False)\n",
    "                )\n",
    "sns.move_legend(g, \"lower center\", bbox_to_anchor=(.45, 1), ncol=5, title=\"Workflow\", frameon=False)\n",
    "for i, wf in enumerate(wfNames):\n",
    "    g.refline(y=statistics.mean(bigtable.query(\"method == 'randomV1P0' and wfName==@wf\")[\"res\"]), color=sns.color_palette()[i])\n",
    "g.set_titles(\"Strategy: {col_name}\")\n",
    "g.set(xlabel=\"Cluster size\", ylabel=\"Runtimes\")\n",
    "save_plot(g, \"res_Vs_clusterSize_perMethod_bisModel_hueWf_Point.plot\")\n",
    "plt.show()\n",
    "\n"
   ]
  },
  {
   "cell_type": "code",
   "execution_count": null,
   "metadata": {
    "pycharm": {
     "name": "#%%\n"
    }
   },
   "outputs": [],
   "source": [
    "wfNames = cvBigtable.wfName.unique()"
   ]
  },
  {
   "cell_type": "code",
   "execution_count": null,
   "metadata": {
    "pycharm": {
     "name": "#%%\n"
    }
   },
   "outputs": [],
   "source": [
    "sns.set_theme(style=\"whitegrid\")\n",
    "#sns.set_context(\"paper\")\n",
    "sns.set_context(\"paper\", 1.65)"
   ]
  },
  {
   "cell_type": "code",
   "execution_count": null,
   "metadata": {
    "pycharm": {
     "name": "#%%\n"
    }
   },
   "outputs": [],
   "source": [
    "pds.set_option('display.max_rows', 100)\n",
    "pds.set_option('display.max_columns', None)\n",
    "pds.set_option('display.width', None)\n",
    "pds.set_option('display.precision', 4)"
   ]
  },
  {
   "cell_type": "code",
   "execution_count": null,
   "metadata": {
    "pycharm": {
     "name": "#%%\n"
    }
   },
   "outputs": [],
   "source": [
    "cvDescByMethod = cvBigtable.groupby([\"method\"])[\"res\"].describe(  # percentiles=[x / 10 for x in range(1, 10)],\n",
    "    include=\"all\")\n",
    "cvDescByMethod.sort_values(by=[\"mean\"], axis=0, inplace=True, ascending=True)\n",
    "# cvDescByMethod"
   ]
  },
  {
   "cell_type": "code",
   "execution_count": null,
   "metadata": {
    "pycharm": {
     "name": "#%%\n"
    }
   },
   "outputs": [],
   "source": [
    "for style in [\"Boxen\"]:\n",
    "    g = sns.catplot(x=\"res\", y=\"method\", orient=\"h\",\n",
    "                    order=cvDescByMethod.index,\n",
    "                    # hue=\"wfName\",  # palette=[\"m\", \"g\"],\n",
    "                    # row=\"wfName\",\n",
    "                    # col=\"method\",\n",
    "                    data=cvBigtable,\n",
    "                    kind=style.lower(),\n",
    "                    aspect=1.5,\n",
    "                    height=8\n",
    "                    )\n",
    "    g.set(xlabel=\"Runtimes\", ylabel=\"Strategy\")\n",
    "    save_plot(g, f\"res_Vs_method_{style}.plot\")\n",
    "    plt.show()"
   ]
  },
  {
   "cell_type": "code",
   "execution_count": null,
   "metadata": {
    "pycharm": {
     "name": "#%%\n"
    }
   },
   "outputs": [],
   "source": [
    "cvDescByModel = cvBigtable[cvBigtable.regModel != \"N/A\"].groupby([\"regModel\"])[\"res\"].describe(  # percentiles=[x / 10 for x in range(1, 10)],\n",
    "    include=\"all\")\n",
    "cvDescByModel.sort_values(by=[\"mean\"], axis=0, inplace=True, ascending=True)\n",
    "# cvDescByModel"
   ]
  },
  {
   "cell_type": "code",
   "execution_count": null,
   "metadata": {
    "pycharm": {
     "name": "#%%\n"
    }
   },
   "outputs": [],
   "source": [
    "for style in [\"Boxen\"]:\n",
    "    g = sns.catplot(x=\"res\", y=\"regModel\", orient=\"h\",\n",
    "                    order=cvDescByModel.index,\n",
    "                    hue=\"cvSplit\",  # palette=[\"m\", \"g\"],\n",
    "                    # row=\"wfName\",\n",
    "                    # col=\"method\",\n",
    "                    data=cvBigtable[cvBigtable.regModel != \"N/A\"],\n",
    "                    kind=style.lower(),\n",
    "                    aspect=1.5,\n",
    "                    height=8\n",
    "                    )\n",
    "    sns.move_legend(g, \"lower center\", bbox_to_anchor=(0.5, 1), ncol=5, title=\"CV Split\")\n",
    "    g.set(xlabel=\"Runtimes\", ylabel=\"Degree / Regression Model\")\n",
    "    save_plot(g, f\"cv.res_Vs_regModel_{style}.plot\")\n",
    "    plt.show()"
   ]
  },
  {
   "cell_type": "code",
   "execution_count": null,
   "metadata": {
    "pycharm": {
     "name": "#%%\n"
    }
   },
   "outputs": [],
   "source": [
    "for style in [\"Boxen\"]:\n",
    "    g = sns.catplot(x=\"res\", y=\"regModel\", orient=\"h\",\n",
    "                    order=cvDescByModel.index,\n",
    "                    hue=\"cvSplit\",  # palette=[\"m\", \"g\"],\n",
    "                    # row=\"wfName\",\n",
    "                    col=\"wfName\",\n",
    "                    col_wrap=3,\n",
    "                    sharex=False,\n",
    "                    data=cvBigtable[cvBigtable.regModel != \"N/A\"],\n",
    "                    kind=style.lower(),\n",
    "                    aspect=1.1,\n",
    "                    height=6\n",
    "                    )\n",
    "    sns.move_legend(g, \"upper left\", bbox_to_anchor=(0.75, 0.45), title=\"CV Split\")\n",
    "    g.set(xlabel=\"Runtimes\", ylabel=\"Degree / Regression Model\")\n",
    "    g.set_titles(\"Workflow: {col_name}\")\n",
    "    save_plot(g, f\"cv.res_Vs_method_perWF_{style}.plot\")\n",
    "    plt.show()"
   ]
  },
  {
   "cell_type": "markdown",
   "metadata": {},
   "source": [
    "# Filter for only the BiS regression model:"
   ]
  },
  {
   "cell_type": "code",
   "execution_count": null,
   "metadata": {
    "pycharm": {
     "name": "#%%\n"
    }
   },
   "outputs": [],
   "source": [
    "# bisModel = descByModel.index[0]\n",
    "comp = cvBigtable[cvBigtable.regModel != \"N/A\"].groupby([\"regModel\", \"cvSplit\"])[\"res\"].describe()\n",
    "comp = comp.sort_values(by=[\"mean\"], ascending=True)\n",
    "rM, cvS = comp.reset_index().iloc[0][[\"regModel\", \"cvSplit\"]]\n",
    "cvBigtable = cvBigtable.query(\"schedType == 'random' or (regModel==@rM and cvSplit==@cvS)\")"
   ]
  },
  {
   "cell_type": "code",
   "execution_count": null,
   "metadata": {
    "pycharm": {
     "name": "#%%\n"
    }
   },
   "outputs": [],
   "source": [
    "cvDescByMethodSansRand = cvBigtable[cvBigtable.regModel != \"N/A\"].groupby([\"method\"])[\"res\"].describe(  # percentiles=[x / 10 for x in range(1, 10)],\n",
    "    include=\"all\")\n",
    "cvDescByMethodSansRand.sort_values(by=[\"mean\"], axis=0, inplace=True, ascending=True)"
   ]
  },
  {
   "cell_type": "code",
   "execution_count": null,
   "metadata": {
    "pycharm": {
     "name": "#%%\n"
    }
   },
   "outputs": [],
   "source": [
    "for style in [\"Boxen\"]:\n",
    "    g = sns.catplot(x=\"res\", y=\"method\", orient=\"h\",\n",
    "                    order=cvDescByMethodSansRand.index,\n",
    "                    # hue=\"wfName\",  # palette=[\"m\", \"g\"],\n",
    "                    # row=\"wfName\",\n",
    "                    col=\"wfName\",\n",
    "                    col_wrap=3,\n",
    "                    sharex=False,\n",
    "                    data=cvBigtable[cvBigtable.regModel != \"N/A\"],\n",
    "                    kind=style.lower(),\n",
    "                    aspect=1.1,\n",
    "                    height=6\n",
    "                    )\n",
    "    g.set(xlabel=\"Runtimes\", ylabel=\"Strategy\")\n",
    "    g.set_titles(\"Workflow: {col_name}\")\n",
    "    save_plot(g, f\"cv.res_Vs_method_bisModel_{style}.plot\")\n",
    "    plt.show()"
   ]
  },
  {
   "cell_type": "code",
   "execution_count": null,
   "metadata": {
    "pycharm": {
     "name": "#%%\n"
    }
   },
   "outputs": [],
   "source": [
    "g = sns.catplot(x=\"wfName\", y=\"res\",  # orient=\"h\",\n",
    "                order=[\"eager\", \"methylseq\", \"sarek\", \"viralrecon\", \"chipseq\"],\n",
    "                hue=\"method\",  # palette=[\"m\", \"g\"],\n",
    "                hue_order=[\"recommenderV1\", \"recommenderV1H1\", \"recommenderV1H2\", \"recommenderV1H3\",\n",
    "                           \"recommenderV2\", \"recommenderV2H1\", \"recommenderV2H2\", \"recommenderV2H3\"],\n",
    "                # row=\"wfName\",\n",
    "                # col=\"wfName\",\n",
    "                # col_wrap=3,\n",
    "                data=cvBigtable[cvBigtable.schedCat != \"random\"],\n",
    "                kind=\"point\",\n",
    "                aspect=1.5,\n",
    "                height=8,\n",
    "                facet_kws=dict(legend_out=False)\n",
    "                )\n",
    "sns.move_legend(g, \"lower center\", bbox_to_anchor=(.425, 1), ncol=4, title=\"Strategy\", frameon=False)\n",
    "g.set(xlabel=\"Workflow\", ylabel=\"Runtimes\")\n",
    "save_plot(g, \"cv.res_Vs_method_bisModel_Point.plot\")\n",
    "plt.show()"
   ]
  },
  {
   "cell_type": "code",
   "execution_count": null,
   "metadata": {
    "pycharm": {
     "name": "#%%\n"
    }
   },
   "outputs": [],
   "source": [
    "g = sns.catplot(x=\"clusterSize\", y=\"res\",  # orient=\"h\",\n",
    "                # order=\"\",\n",
    "                hue=\"schedCat\",  # palette=[\"m\", \"g\"],\n",
    "                # row=\"wfName\",\n",
    "                col=\"wfName\",\n",
    "                col_wrap=3,\n",
    "                col_order=list(wfNames),\n",
    "                sharey=False,\n",
    "                sharex=False,\n",
    "                data=cvBigtable,\n",
    "                kind=\"point\",\n",
    "                aspect=1.1,\n",
    "                height=6,\n",
    "                facet_kws=dict(legend_out=False)\n",
    "                )\n",
    "sns.move_legend(g, \"upper left\", bbox_to_anchor=(.65, .45), title=\"Strategy Category\", frameon=False)\n",
    "for i, ax in enumerate(g.axes.ravel()):\n",
    "    wf = list(wfNames)[i]\n",
    "    ax.axhline(y=statistics.mean(cvBigtable.query(\"method == 'randomV1P0' and wfName==@wf\")[\"res\"]), linestyle=\"--\", color=\"black\")\n",
    "g.set_titles(\"Workflow: {col_name}\")\n",
    "g.set(xlabel=\"Cluster size\", ylabel=\"Runtimes\")\n",
    "save_plot(g, \"cv.res_Vs_clusterSize_perWF_bisModel_hueSchedCat_Point.plot\")\n",
    "plt.show()"
   ]
  },
  {
   "cell_type": "code",
   "execution_count": null,
   "metadata": {
    "pycharm": {
     "name": "#%%\n"
    }
   },
   "outputs": [],
   "source": [
    "g = sns.catplot(x=\"clusterSize\", y=\"res\",  # orient=\"h\",\n",
    "                # order=\"\",\n",
    "                hue=\"wfName\",  # palette=[\"m\", \"g\"],\n",
    "                # row=\"wfName\",\n",
    "                col=\"schedType\",\n",
    "                col_wrap=3,\n",
    "                col_order=[\"random\", \"recommenderV1\", \"recommenderV2\",\n",
    "                           \"recommenderV1H1\", \"recommenderV1H2\", \"recommenderV1H3\",\n",
    "                           \"recommenderV2H1\", \"recommenderV2H2\", \"recommenderV2H3\"],\n",
    "                # sharey=False,\n",
    "                sharex=False,\n",
    "                hue_order=list(wfNames),\n",
    "                data=cvBigtable,\n",
    "                kind=\"point\",\n",
    "                aspect=1.1,\n",
    "                height=6,\n",
    "                facet_kws=dict(legend_out=False)\n",
    "                )\n",
    "sns.move_legend(g, \"lower center\", bbox_to_anchor=(.45, 1), ncol=5, title=\"Workflow\", frameon=False)\n",
    "for i, wf in enumerate(wfNames):\n",
    "    g.refline(y=statistics.mean(cvBigtable.query(\"method == 'randomV1P0' and wfName==@wf\")[\"res\"]), color=sns.color_palette()[i])\n",
    "g.set_titles(\"Strategy: {col_name}\")\n",
    "g.set(xlabel=\"Cluster size\", ylabel=\"Runtimes\")\n",
    "save_plot(g, \"cv.res_Vs_clusterSize_perMethod_bisModel_hueWf_Point.plot\")\n",
    "plt.show()\n"
   ]
  }
 ],
 "metadata": {
  "kernelspec": {
   "display_name": "use me 1",
   "language": "python",
   "name": "py"
  },
  "language_info": {
   "codemirror_mode": {
    "name": "ipython",
    "version": 3
   },
   "file_extension": ".py",
   "mimetype": "text/x-python",
   "name": "python",
   "nbconvert_exporter": "python",
   "pygments_lexer": "ipython3",
   "version": "3.9.6"
  }
 },
 "nbformat": 4,
 "nbformat_minor": 4
}
