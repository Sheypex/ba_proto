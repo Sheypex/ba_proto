{
 "cells": [
  {
   "cell_type": "code",
   "execution_count": 1,
   "metadata": {},
   "outputs": [],
   "source": [
    "import cProfile\n",
    "import os\n",
    "import pickle\n",
    "import pstats\n",
    "import re\n",
    "import time\n",
    "from collections import namedtuple, defaultdict\n",
    "from typing import List\n",
    "from multiprocessing import Pool\n",
    "import networkx as NX\n",
    "import pandas as pds\n",
    "import matplotlib.pyplot as plt\n",
    "import itertools\n",
    "import math\n",
    "import re\n",
    "import statistics\n",
    "from pprint import pprint\n",
    "\n",
    "import rich.progress\n",
    "import scipy\n",
    "from scipy import stats as scistats\n",
    "from sklearn import linear_model, preprocessing\n",
    "from tabulate import tabulate\n",
    "from pathlib import Path\n",
    "import pickle\n",
    "import random\n",
    "import argparse\n",
    "import sys\n",
    "\n",
    "import data_types\n",
    "from db_actions import db_actions\n",
    "import numpy as np\n",
    "from my_yaml import yaml_load, yaml_dump\n",
    "from alive_progress import alive_bar\n",
    "import seaborn as sns\n",
    "from data_types import PickleOut\n",
    "import commons\n",
    "import rich.status\n",
    "from rich.pretty import pprint\n"
   ]
  },
  {
   "cell_type": "code",
   "execution_count": 2,
   "outputs": [],
   "source": [
    "rc = commons.rc"
   ],
   "metadata": {
    "collapsed": false,
    "pycharm": {
     "name": "#%%\n"
    }
   }
  },
  {
   "cell_type": "code",
   "execution_count": 3,
   "outputs": [],
   "source": [
    "TR = namedtuple('TableRow', [\"cluster\", \"wfName\", \"method\", \"res\"])\n",
    "BigTR = namedtuple(\"BigTableRow\", [\"regModel\", \"cluster\", \"clusterSize\", \"wfName\", \"method\", \"res\", \"schedCat\", \"schedType\"])\n",
    "CVBigTR = namedtuple(\"CVBigTableRow\", [\"regModel\", \"cluster\", \"clusterSize\", \"wfName\", \"method\", \"res\", \"schedCat\", \"schedType\", \"cvSplit\"])\n",
    "CVUBigTR = namedtuple(\"CVUBigTableRow\", [\n",
    "    \"regModel\",\n",
    "    \"cluster\",\n",
    "    \"clusterSize\",\n",
    "    \"wfName\",\n",
    "    \"method\",\n",
    "    \"res\",\n",
    "    #\"schedCat\",\n",
    "    #\"schedType\",\n",
    "    \"cvSplit\",\n",
    "    \"ukSplit\"])"
   ],
   "metadata": {
    "collapsed": false,
    "pycharm": {
     "name": "#%%\n"
    }
   }
  },
  {
   "cell_type": "code",
   "execution_count": 4,
   "metadata": {
    "pycharm": {
     "name": "#%%\n"
    }
   },
   "outputs": [],
   "source": [
    "def load_from_file(f, prog: rich.progress.Progress, barid):\n",
    "    modelDegLUT = {\n",
    "        'linModel' : 1,\n",
    "        'quadModel': 2,\n",
    "        'cubeModel': 3,\n",
    "        'tetModel' : 4,\n",
    "        'penModel' : 5\n",
    "    }\n",
    "    shorterMethodNamesLUT = {\n",
    "        'randomScheduler'     : 'random',\n",
    "        'recommenderScheduler': 'recommender'\n",
    "    }\n",
    "    shortToLongNameLUT = {'Linear'       : 'Ordinary Least Squares',\n",
    "                          'SVR-linear'   : 'SVR - linear',\n",
    "                          'SVR-poly'     : 'SVR - poly',\n",
    "                          'SVR-rbf'      : 'SVR - rbf',\n",
    "                          'SVR-sigmoid'  : 'SVR - sigmoid',\n",
    "                          'Lasso'        : 'Lasso',\n",
    "                          'LassoCV'      : 'Lasso CV',\n",
    "                          'Ridge'        : 'Ridge',\n",
    "                          'RidgeCV'      : 'Ridge CV',\n",
    "                          'ElasticNet'   : 'Elastic Net',\n",
    "                          'ElasticNetCV' : 'Elastic Net CV',\n",
    "                          'BayesianRidge': 'Bayesian Ridge',\n",
    "                          'ARD'          : 'Automatic Relevance Determination',\n",
    "                          'SGD'          : 'Stochastic Gradient Descent',\n",
    "                          'PA'           : 'Passive Aggressive',\n",
    "                          'Huber'        : 'Huber',\n",
    "                          'TheilSen'     : 'Theil Sen'}\n",
    "    #\n",
    "    pFile = Path(f)\n",
    "    with open(pFile, \"br\") as tmp:\n",
    "        pl: dict = pickle.load(tmp)\n",
    "    #\n",
    "    m = re.match(\"(?:.*/)*(.*Model)\\.(.*)_CV-(.*)_U-(.*)\\.recSchedTimes\\.pickle\", f)\n",
    "    modelDeg = modelDegLUT[m.group(1)]\n",
    "    modelName = shortToLongNameLUT[m.group(2)]\n",
    "    shortName = f\"{modelDeg} / {modelName}\"\n",
    "    cvSplit = m.group(3)\n",
    "    if cvSplit == \"None\":\n",
    "        cvSplit = None\n",
    "    ukSplit = m.group(4)\n",
    "    if ukSplit == \"None\":\n",
    "        ukSplit = None\n",
    "    # for pre, deg in modelDegLUT.items():\n",
    "    #     if pre in shortName:\n",
    "    #         shortName = shortName.replace(pre + \".\", f\"{deg}/\")\n",
    "    #         break\n",
    "    fmt = CVUBigTR\n",
    "    #\n",
    "    prog.reset(barid, total=len(pl.items()))\n",
    "    for clusterName, cluster in pl.items():\n",
    "        for wfName, wf in cluster.items():\n",
    "            wfShortName = re.match(\"nfcore/(.*):.*\", wfName).group(1)\n",
    "            for methodName, res in wf.items():\n",
    "                for longN, rep in shorterMethodNamesLUT.items():\n",
    "                    if longN in methodName:\n",
    "                        mName = methodName.replace(longN, rep)\n",
    "                        break\n",
    "                rowInfo = {\n",
    "                    \"regModel\"   : shortName,\n",
    "                    \"cluster\"    : str(clusterName),\n",
    "                    \"clusterSize\": len(clusterName),\n",
    "                    \"wfName\"     : wfShortName,\n",
    "                    \"method\"     : mName,\n",
    "                    #\"schedCat\"   : \"recommenderV1,-H1,-H2,-H3\" if \"V1\" in mName else \"recommenderV2,-H1,-H2,-H3\",\n",
    "                    #\"schedType\"  : mName,\n",
    "                    \"cvSplit\"    : cvSplit,\n",
    "                    \"ukSplit\"    : ukSplit\n",
    "                }\n",
    "                if type(res) != list:\n",
    "                    rowInfo[\"res\"] = float(res)\n",
    "                    yield fmt(**rowInfo)\n",
    "                # else:\n",
    "                #     rowInfo[\"regModel\"] = \"N/A\"\n",
    "                #     rowInfo[\"schedCat\"] = \"random\"\n",
    "                #     rowInfo[\"schedType\"] = \"random\"\n",
    "                #     randomPs = [1, 2, 3]\n",
    "                #     for i, r in enumerate(res):  # this only applies to the results of the randomScheduler(V1)\n",
    "                #         if i + 1 in randomPs:\n",
    "                #             rowInfo[\"method\"] = mName + f\"P{i * 10}\"\n",
    "                #             rowInfo[\"res\"] = float(r)\n",
    "                #             yield fmt(**rowInfo)\n",
    "                #     rowInfo[\"method\"] = mName + \"Avg\"\n",
    "                #     rowInfo[\"res\"] = float(statistics.mean(res))\n",
    "                #     yield fmt(**rowInfo)\n",
    "        prog.advance(barid)\n",
    "    del pl\n",
    "\n",
    "\n",
    "def load_random_from_files(d, prog: rich.progress.Progress, barid):\n",
    "    if type(d) is str:\n",
    "        d = Path(d)\n",
    "    #\n",
    "    refFile = d.joinpath(os.listdir(d)[0])\n",
    "    with open(refFile, \"br\") as tmp:\n",
    "        refP: dict = pickle.load(tmp)\n",
    "    #\n",
    "    fmt = CVUBigTR\n",
    "    cls = list(refP.keys())\n",
    "    wfs = list(refP[cls[0]].keys())\n",
    "    del refP\n",
    "    prog.reset(barid, total=len(cls) * len(wfs))\n",
    "    pls = list()\n",
    "    for fName in os.listdir(d):\n",
    "        pFile = d.joinpath(fName)\n",
    "        with open(pFile, \"br\") as tmp:\n",
    "            pl: dict = pickle.load(tmp)\n",
    "        for clusterName, cluster in pl.items():\n",
    "            for wfName, wf in cluster.items():\n",
    "                for methodName in list(wf.keys()):\n",
    "                    if not \"random\" in methodName:\n",
    "                        del pl[clusterName][wfName][methodName]\n",
    "        #\n",
    "        pls.append(pl)\n",
    "        del pl\n",
    "    for clusterName in cls:\n",
    "        for wfName in wfs:\n",
    "            wfShortName = re.match(\"nfcore/(.*):.*\", wfName).group(1)\n",
    "            #\n",
    "            randoms = [x for pl in pls for x in pl[clusterName][wfName][\"randomSchedulerV1\"]]\n",
    "            for pl in pls:\n",
    "                del pl[clusterName][wfName]\n",
    "            randoms.sort()\n",
    "            indices = [int(round(len(randoms) - 1 - x * (len(randoms) - 1), 0)) for x in [a / 10 for a in range(0, 11)]]\n",
    "            randoms = [x for i, x in enumerate(randoms) if i in indices]\n",
    "            rowInfo = {\n",
    "                \"regModel\"   : \"N/A\",\n",
    "                \"cluster\"    : str(clusterName),\n",
    "                \"clusterSize\": len(clusterName),\n",
    "                \"wfName\"     : wfShortName,\n",
    "                \"method\"     : \"randomV1\",\n",
    "                #\"schedCat\"   : \"random\",\n",
    "                #\"schedType\"  : \"random\",\n",
    "                \"cvSplit\"    : \"N/A\",\n",
    "                \"ukSplit\"    : \"N/A\"\n",
    "            }\n",
    "            for i, r in enumerate(randoms):  # this only applies to the results of the randomScheduler(V1)\n",
    "                rowInfo[\"method\"] = f\"randomV1P{i * 10}\"\n",
    "                rowInfo[\"res\"] = float(r)\n",
    "                yield fmt(**rowInfo)\n",
    "            rowInfo[\"method\"] = \"randomV1Avg\"\n",
    "            rowInfo[\"res\"] = float(statistics.mean(randoms))\n",
    "            yield fmt(**rowInfo)\n",
    "            prog.advance(barid)\n",
    "\n",
    "\n",
    "def load_from_dir(d):\n",
    "    with commons.stdProgress(rc) as prog:\n",
    "        # with alive_bar(len(os.listdir(d)), f\"Loading recommenderScheduler results from {d}\") as bar:\n",
    "        fileProg = prog.add_task(\"Files\", total=len(os.listdir(d)))\n",
    "        clusterProg = prog.add_task(\"Clusters\")\n",
    "        for f in os.listdir(d):\n",
    "            yield from load_from_file(f\"{d}/{f}\", prog, clusterProg)\n",
    "            prog.advance(fileProg)\n",
    "        randomsProg = prog.add_task(\"Randoms\")\n",
    "        yield from load_random_from_files(d, prog, randomsProg)"
   ]
  },
  {
   "cell_type": "code",
   "execution_count": 5,
   "outputs": [],
   "source": [
    "def get_bigtable(saveLoc, btFileLoc):\n",
    "    btFile = Path(btFileLoc)\n",
    "    if not btFile.is_file():\n",
    "        bigtable = pds.DataFrame(load_from_dir(saveLoc), columns=CVUBigTR._fields)\n",
    "        with open(btFile, \"bw\") as f:\n",
    "            pickle.dump(bigtable, f)\n",
    "    else:\n",
    "        with open(btFile, \"br\") as f:\n",
    "            bigtable = pickle.load(f)\n",
    "    return bigtable"
   ],
   "metadata": {
    "collapsed": false,
    "pycharm": {
     "name": "#%%\n"
    }
   }
  },
  {
   "cell_type": "code",
   "execution_count": 6,
   "outputs": [],
   "source": [
    "def save_plot(obj, name, loc=\"./fig/\"):\n",
    "    obj.savefig(f\"{loc}{name}.pdf\", transparent=True)\n",
    "    obj.savefig(f\"{loc}{name}.png\", transparent=True)"
   ],
   "metadata": {
    "collapsed": false,
    "pycharm": {
     "name": "#%%\n"
    }
   }
  },
  {
   "cell_type": "markdown",
   "source": [
    "# Get the recSchedTimes data"
   ],
   "metadata": {
    "collapsed": false,
    "pycharm": {
     "name": "#%% md\n"
    }
   }
  },
  {
   "cell_type": "code",
   "execution_count": 7,
   "metadata": {
    "pycharm": {
     "name": "#%%\n"
    }
   },
   "outputs": [],
   "source": [
    "bigtable = get_bigtable(\"recSchedTimes\", \"./recSchedBigTable.pickle\")  #.sample(frac=5 / 100, random_state=0, axis=0)\n",
    "# bigtable"
   ]
  },
  {
   "cell_type": "markdown",
   "source": [
    "# Get the cvRecSchedTimes data"
   ],
   "metadata": {
    "collapsed": false
   }
  },
  {
   "cell_type": "code",
   "execution_count": null,
   "outputs": [
    {
     "data": {
      "text/plain": "Output()",
      "application/vnd.jupyter.widget-view+json": {
       "version_major": 2,
       "version_minor": 0,
       "model_id": "d277feeb7f2a4b9fb382746cbbf06707"
      }
     },
     "metadata": {},
     "output_type": "display_data"
    }
   ],
   "source": [
    "cvBigtable = get_bigtable(\"cvRecSchedTimes\", \"./cvRecSchedBigTable.pickle\")  #.sample(frac=5 / 100, random_state=0, axis=0)\n",
    "# cvBigtable"
   ],
   "metadata": {
    "collapsed": false,
    "pycharm": {
     "name": "#%%\n",
     "is_executing": true
    }
   }
  },
  {
   "cell_type": "code",
   "execution_count": 9,
   "outputs": [],
   "source": [
    "wfNames = bigtable.wfName.unique()"
   ],
   "metadata": {
    "collapsed": false,
    "pycharm": {
     "name": "#%%\n"
    }
   }
  },
  {
   "cell_type": "code",
   "execution_count": 10,
   "outputs": [],
   "source": [
    "sns.set_theme(style=\"whitegrid\")\n",
    "#sns.set_context(\"paper\")\n",
    "sns.set_context(\"paper\", 1.65)"
   ],
   "metadata": {
    "collapsed": false,
    "pycharm": {
     "name": "#%%\n"
    }
   }
  },
  {
   "cell_type": "code",
   "execution_count": 11,
   "outputs": [],
   "source": [
    "pds.set_option('display.max_rows', 100)\n",
    "pds.set_option('display.max_columns', None)\n",
    "pds.set_option('display.width', None)\n",
    "pds.set_option('display.precision', 4)\n"
   ],
   "metadata": {
    "collapsed": false,
    "pycharm": {
     "name": "#%%\n"
    }
   }
  },
  {
   "cell_type": "markdown",
   "source": [
    "# trying out new visualisation"
   ],
   "metadata": {
    "collapsed": false,
    "pycharm": {
     "name": "#%% md\n"
    }
   }
  },
  {
   "cell_type": "code",
   "execution_count": 12,
   "outputs": [
    {
     "data": {
      "text/plain": "\u001B[1m[\u001B[0m\u001B[32m'\u001B[0m\u001B[32m(\u001B[0m\u001B[32m166, 171, 173, 175, 178, 179, 180, 182, 182, 183, 185, 191, 192, 193\u001B[0m\u001B[32m)\u001B[0m\u001B[32m'\u001B[0m\n \u001B[32m'\u001B[0m\u001B[32m(\u001B[0m\u001B[32m167, 168, 168, 169, 169, 169, 173, 175, 175, 184, 186, 186, 188, 189, 190, 191, 192, 192\u001B[0m\u001B[32m)\u001B[0m\u001B[32m'\u001B[0m\n \u001B[32m'\u001B[0m\u001B[32m(\u001B[0m\u001B[32m168, 171, 176, 178, 180, 181, 182, 182, 184, 184, 186, 187\u001B[0m\u001B[32m)\u001B[0m\u001B[32m'\u001B[0m \u001B[33m...\u001B[0m\n \u001B[32m'\u001B[0m\u001B[32m(\u001B[0m\u001B[32m165, 165, 170, 171, 171, 171, 172, 175, 179, 179, 180, 180, 181, 184, 191, 191, 193\u001B[0m\u001B[32m)\u001B[0m\u001B[32m'\u001B[0m\n \u001B[32m'\u001B[0m\u001B[32m(\u001B[0m\u001B[32m172, 172, 175, 183, 184, 185, 186, 186, 188, 188, 189, 190, 192, 192, 192\u001B[0m\u001B[32m)\u001B[0m\u001B[32m'\u001B[0m\n \u001B[32m'\u001B[0m\u001B[32m(\u001B[0m\u001B[32m178, 181, 181, 182, 183, 184, 185, 185, 187, 190\u001B[0m\u001B[32m)\u001B[0m\u001B[32m'\u001B[0m\u001B[1m]\u001B[0m\n",
      "text/html": "<pre style=\"white-space:pre;overflow-x:auto;line-height:normal;font-family:Menlo,'DejaVu Sans Mono',consolas,'Courier New',monospace\"><span style=\"font-weight: bold\">[</span><span style=\"color: #008000; text-decoration-color: #008000\">'(166, 171, 173, 175, 178, 179, 180, 182, 182, 183, 185, 191, 192, 193)'</span>\n <span style=\"color: #008000; text-decoration-color: #008000\">'(167, 168, 168, 169, 169, 169, 173, 175, 175, 184, 186, 186, 188, 189, 190, 191, 192, 192)'</span>\n <span style=\"color: #008000; text-decoration-color: #008000\">'(168, 171, 176, 178, 180, 181, 182, 182, 184, 184, 186, 187)'</span> <span style=\"color: #808000; text-decoration-color: #808000\">...</span>\n <span style=\"color: #008000; text-decoration-color: #008000\">'(165, 165, 170, 171, 171, 171, 172, 175, 179, 179, 180, 180, 181, 184, 191, 191, 193)'</span>\n <span style=\"color: #008000; text-decoration-color: #008000\">'(172, 172, 175, 183, 184, 185, 186, 186, 188, 188, 189, 190, 192, 192, 192)'</span>\n <span style=\"color: #008000; text-decoration-color: #008000\">'(178, 181, 181, 182, 183, 184, 185, 185, 187, 190)'</span><span style=\"font-weight: bold\">]</span>\n</pre>\n"
     },
     "metadata": {},
     "output_type": "display_data"
    },
    {
     "data": {
      "text/plain": "\u001B[1;36m10000\u001B[0m\n",
      "text/html": "<pre style=\"white-space:pre;overflow-x:auto;line-height:normal;font-family:Menlo,'DejaVu Sans Mono',consolas,'Courier New',monospace\"><span style=\"color: #008080; text-decoration-color: #008080; font-weight: bold\">10000</span>\n</pre>\n"
     },
     "metadata": {},
     "output_type": "display_data"
    }
   ],
   "source": [
    "rc.print(bigtable.cluster.unique())\n",
    "rc.print(len(bigtable.cluster.unique()))"
   ],
   "metadata": {
    "collapsed": false,
    "pycharm": {
     "name": "#%%\n"
    }
   }
  },
  {
   "cell_type": "code",
   "execution_count": 13,
   "outputs": [],
   "source": [
    "tmp = bigtable[bigtable.schedCat != \"random\"]\n",
    "clusters = tmp.cluster.unique()\n",
    "regModels = tmp.regModel.unique()\n",
    "methods = tmp.method.unique()\n",
    "del tmp"
   ],
   "metadata": {
    "collapsed": false,
    "pycharm": {
     "name": "#%%\n"
    }
   }
  },
  {
   "cell_type": "code",
   "execution_count": 14,
   "outputs": [],
   "source": [
    "def getRegModelMethodScores(fileLoc: Path, table):\n",
    "    if type(fileLoc) is str:\n",
    "        fileLoc = Path(fileLoc)\n",
    "    if fileLoc.is_file():\n",
    "        with open(fileLoc, \"br\") as f:\n",
    "            return pickle.load(f)\n",
    "    else:\n",
    "        grouped = bigtable[bigtable.schedCat != \"random\"].pivot([\"cluster\", \"wfName\", \"regModel\"], \"method\", \"res\")\n",
    "        del tmp\n",
    "        clWFCombs = itertools.product(clusters, wfNames)\n",
    "        numclWFCombs = len(list(clWFCombs))\n",
    "        clWFCombs = itertools.product(clusters, wfNames)\n",
    "        rMMethCombs = list(itertools.product(regModels, methods))\n",
    "        # regModelMethodScores = defaultdict(lambda: 0)\n",
    "        tol = 1\n",
    "        with commons.stdProgress(rc) as prog:\n",
    "            cvwfProg = prog.add_task(\"Cluster/Workflow\", total=numclWFCombs)\n",
    "            regModelMethodScores = defaultdict(lambda: 0)\n",
    "\n",
    "            for clwf, subtable in grouped.groupby(level=(0, 1), group_keys=False):\n",
    "                c, wf = clwf\n",
    "                subtable = subtable.droplevel([\"cluster\", \"wfName\"])\n",
    "                minimumTime = subtable.min().min()\n",
    "                for rmmetch in rMMethCombs:\n",
    "                    rM, meth = rmmetch\n",
    "                    # rc.log(subtable.loc[rM, meth], minimumTime, abs(subtable.loc[rM, meth] - minimumTime), abs(subtable.loc[rM, meth] - minimumTime) <= tol)\n",
    "                    if abs(subtable.loc[rM, meth] - minimumTime) <= tol:\n",
    "                        regModelMethodScores[rmmetch] = regModelMethodScores[rmmetch] + 1\n",
    "                prog.advance(cvwfProg)\n",
    "        #\n",
    "        with open(fileLoc, \"bw\") as f:\n",
    "            pickle.dump(regModelMethodScores, f)\n",
    "        return dict(regModelMethodScores)"
   ],
   "metadata": {
    "collapsed": false,
    "pycharm": {
     "name": "#%%\n"
    }
   }
  },
  {
   "cell_type": "code",
   "execution_count": 15,
   "outputs": [],
   "source": [
    "regModelMethodScores = getRegModelMethodScores(\"regModelMethodScores.pickle\", bigtable)"
   ],
   "metadata": {
    "collapsed": false,
    "pycharm": {
     "name": "#%%\n"
    }
   }
  },
  {
   "cell_type": "code",
   "execution_count": 16,
   "outputs": [
    {
     "data": {
      "text/plain": "\u001B[1m{\u001B[0m\n\u001B[2;32m│   \u001B[0m\u001B[1m(\u001B[0m\u001B[32m'4 / Passive Aggressive'\u001B[0m, \u001B[32m'recommenderV1'\u001B[0m\u001B[1m)\u001B[0m: \u001B[1;36m4786\u001B[0m,\n\u001B[2;32m│   \u001B[0m\u001B[1m(\u001B[0m\u001B[32m'4 / Passive Aggressive'\u001B[0m, \u001B[32m'recommenderV1H1'\u001B[0m\u001B[1m)\u001B[0m: \u001B[1;36m4596\u001B[0m,\n\u001B[2;32m│   \u001B[0m\u001B[1m(\u001B[0m\u001B[32m'4 / Passive Aggressive'\u001B[0m, \u001B[32m'recommenderV1H2'\u001B[0m\u001B[1m)\u001B[0m: \u001B[1;36m4596\u001B[0m,\n\u001B[2;32m│   \u001B[0m\u001B[1m(\u001B[0m\u001B[32m'4 / Passive Aggressive'\u001B[0m, \u001B[32m'recommenderV1H3'\u001B[0m\u001B[1m)\u001B[0m: \u001B[1;36m4877\u001B[0m,\n\u001B[2;32m│   \u001B[0m\u001B[1m(\u001B[0m\u001B[32m'4 / Passive Aggressive'\u001B[0m, \u001B[32m'recommenderV2H1'\u001B[0m\u001B[1m)\u001B[0m: \u001B[1;36m3024\u001B[0m,\n\u001B[2;32m│   \u001B[0m\u001B[1m(\u001B[0m\u001B[32m'4 / Passive Aggressive'\u001B[0m, \u001B[32m'recommenderV2H2'\u001B[0m\u001B[1m)\u001B[0m: \u001B[1;36m3024\u001B[0m,\n\u001B[2;32m│   \u001B[0m\u001B[1m(\u001B[0m\u001B[32m'4 / Passive Aggressive'\u001B[0m, \u001B[32m'recommenderV2H3'\u001B[0m\u001B[1m)\u001B[0m: \u001B[1;36m2928\u001B[0m,\n\u001B[2;32m│   \u001B[0m\u001B[1m(\u001B[0m\u001B[32m'3 / Elastic Net'\u001B[0m, \u001B[32m'recommenderV1'\u001B[0m\u001B[1m)\u001B[0m: \u001B[1;36m5347\u001B[0m,\n\u001B[2;32m│   \u001B[0m\u001B[1m(\u001B[0m\u001B[32m'3 / Elastic Net'\u001B[0m, \u001B[32m'recommenderV1H1'\u001B[0m\u001B[1m)\u001B[0m: \u001B[1;36m4954\u001B[0m,\n\u001B[2;32m│   \u001B[0m\u001B[1m(\u001B[0m\u001B[32m'3 / Elastic Net'\u001B[0m, \u001B[32m'recommenderV1H2'\u001B[0m\u001B[1m)\u001B[0m: \u001B[1;36m4954\u001B[0m,\n\u001B[2;32m│   \u001B[0m\u001B[1m(\u001B[0m\u001B[32m'3 / Elastic Net'\u001B[0m, \u001B[32m'recommenderV1H3'\u001B[0m\u001B[1m)\u001B[0m: \u001B[1;36m4851\u001B[0m,\n\u001B[2;32m│   \u001B[0m\u001B[1m(\u001B[0m\u001B[32m'3 / Elastic Net'\u001B[0m, \u001B[32m'recommenderV2H1'\u001B[0m\u001B[1m)\u001B[0m: \u001B[1;36m4000\u001B[0m,\n\u001B[2;32m│   \u001B[0m\u001B[1m(\u001B[0m\u001B[32m'3 / Elastic Net'\u001B[0m, \u001B[32m'recommenderV2H2'\u001B[0m\u001B[1m)\u001B[0m: \u001B[1;36m4000\u001B[0m,\n\u001B[2;32m│   \u001B[0m\u001B[1m(\u001B[0m\u001B[32m'3 / Elastic Net'\u001B[0m, \u001B[32m'recommenderV2H3'\u001B[0m\u001B[1m)\u001B[0m: \u001B[1;36m3851\u001B[0m,\n\u001B[2;32m│   \u001B[0m\u001B[1m(\u001B[0m\u001B[32m'3 / Ridge'\u001B[0m, \u001B[32m'recommenderV1'\u001B[0m\u001B[1m)\u001B[0m: \u001B[1;36m9628\u001B[0m,\n\u001B[2;32m│   \u001B[0m\u001B[1m(\u001B[0m\u001B[32m'3 / Ridge'\u001B[0m, \u001B[32m'recommenderV1H1'\u001B[0m\u001B[1m)\u001B[0m: \u001B[1;36m10563\u001B[0m,\n\u001B[2;32m│   \u001B[0m\u001B[1m(\u001B[0m\u001B[32m'3 / Ridge'\u001B[0m, \u001B[32m'recommenderV1H2'\u001B[0m\u001B[1m)\u001B[0m: \u001B[1;36m10563\u001B[0m,\n\u001B[2;32m│   \u001B[0m\u001B[1m(\u001B[0m\u001B[32m'3 / Ridge'\u001B[0m, \u001B[32m'recommenderV1H3'\u001B[0m\u001B[1m)\u001B[0m: \u001B[1;36m11010\u001B[0m,\n\u001B[2;32m│   \u001B[0m\u001B[1m(\u001B[0m\u001B[32m'3 / Ridge'\u001B[0m, \u001B[32m'recommenderV2H1'\u001B[0m\u001B[1m)\u001B[0m: \u001B[1;36m6824\u001B[0m,\n\u001B[2;32m│   \u001B[0m\u001B[1m(\u001B[0m\u001B[32m'3 / Ridge'\u001B[0m, \u001B[32m'recommenderV2H2'\u001B[0m\u001B[1m)\u001B[0m: \u001B[1;36m6824\u001B[0m,\n\u001B[2;32m│   \u001B[0m\u001B[1m(\u001B[0m\u001B[32m'3 / Ridge'\u001B[0m, \u001B[32m'recommenderV2H3'\u001B[0m\u001B[1m)\u001B[0m: \u001B[1;36m6643\u001B[0m,\n\u001B[2;32m│   \u001B[0m\u001B[1m(\u001B[0m\u001B[32m'5 / Ordinary Least Squares'\u001B[0m, \u001B[32m'recommenderV1'\u001B[0m\u001B[1m)\u001B[0m: \u001B[1;36m25731\u001B[0m,\n\u001B[2;32m│   \u001B[0m\u001B[1m(\u001B[0m\u001B[32m'5 / Ordinary Least Squares'\u001B[0m, \u001B[32m'recommenderV1H1'\u001B[0m\u001B[1m)\u001B[0m: \u001B[1;36m27353\u001B[0m,\n\u001B[2;32m│   \u001B[0m\u001B[1m(\u001B[0m\u001B[32m'5 / Ordinary Least Squares'\u001B[0m, \u001B[32m'recommenderV1H2'\u001B[0m\u001B[1m)\u001B[0m: \u001B[1;36m27353\u001B[0m,\n\u001B[2;32m│   \u001B[0m\u001B[1m(\u001B[0m\u001B[32m'5 / Ordinary Least Squares'\u001B[0m, \u001B[32m'recommenderV1H3'\u001B[0m\u001B[1m)\u001B[0m: \u001B[1;36m28508\u001B[0m,\n\u001B[2;32m│   \u001B[0m\u001B[1m(\u001B[0m\u001B[32m'5 / Ordinary Least Squares'\u001B[0m, \u001B[32m'recommenderV2H1'\u001B[0m\u001B[1m)\u001B[0m: \u001B[1;36m9903\u001B[0m,\n\u001B[2;32m│   \u001B[0m\u001B[1m(\u001B[0m\u001B[32m'5 / Ordinary Least Squares'\u001B[0m, \u001B[32m'recommenderV2H2'\u001B[0m\u001B[1m)\u001B[0m: \u001B[1;36m9903\u001B[0m,\n\u001B[2;32m│   \u001B[0m\u001B[1m(\u001B[0m\u001B[32m'5 / Ordinary Least Squares'\u001B[0m, \u001B[32m'recommenderV2H3'\u001B[0m\u001B[1m)\u001B[0m: \u001B[1;36m9654\u001B[0m,\n\u001B[2;32m│   \u001B[0m\u001B[1m(\u001B[0m\u001B[32m'2 / Ridge CV'\u001B[0m, \u001B[32m'recommenderV1'\u001B[0m\u001B[1m)\u001B[0m: \u001B[1;36m5328\u001B[0m,\n\u001B[2;32m│   \u001B[0m\u001B[1m(\u001B[0m\u001B[32m'2 / Ridge CV'\u001B[0m, \u001B[32m'recommenderV1H1'\u001B[0m\u001B[1m)\u001B[0m: \u001B[1;36m5502\u001B[0m,\n\u001B[2;32m│   \u001B[0m\u001B[1m(\u001B[0m\u001B[32m'2 / Ridge CV'\u001B[0m, \u001B[32m'recommenderV1H2'\u001B[0m\u001B[1m)\u001B[0m: \u001B[1;36m5502\u001B[0m,\n\u001B[2;32m│   \u001B[0m\u001B[1m(\u001B[0m\u001B[32m'2 / Ridge CV'\u001B[0m, \u001B[32m'recommenderV1H3'\u001B[0m\u001B[1m)\u001B[0m: \u001B[1;36m5439\u001B[0m,\n\u001B[2;32m│   \u001B[0m\u001B[1m(\u001B[0m\u001B[32m'2 / Ridge CV'\u001B[0m, \u001B[32m'recommenderV2H1'\u001B[0m\u001B[1m)\u001B[0m: \u001B[1;36m5668\u001B[0m,\n\u001B[2;32m│   \u001B[0m\u001B[1m(\u001B[0m\u001B[32m'2 / Ridge CV'\u001B[0m, \u001B[32m'recommenderV2H2'\u001B[0m\u001B[1m)\u001B[0m: \u001B[1;36m5668\u001B[0m,\n\u001B[2;32m│   \u001B[0m\u001B[1m(\u001B[0m\u001B[32m'2 / Ridge CV'\u001B[0m, \u001B[32m'recommenderV2H3'\u001B[0m\u001B[1m)\u001B[0m: \u001B[1;36m5445\u001B[0m,\n\u001B[2;32m│   \u001B[0m\u001B[1m(\u001B[0m\u001B[32m'1 / Elastic Net'\u001B[0m, \u001B[32m'recommenderV1'\u001B[0m\u001B[1m)\u001B[0m: \u001B[1;36m3789\u001B[0m,\n\u001B[2;32m│   \u001B[0m\u001B[1m(\u001B[0m\u001B[32m'1 / Elastic Net'\u001B[0m, \u001B[32m'recommenderV1H1'\u001B[0m\u001B[1m)\u001B[0m: \u001B[1;36m4030\u001B[0m,\n\u001B[2;32m│   \u001B[0m\u001B[1m(\u001B[0m\u001B[32m'1 / Elastic Net'\u001B[0m, \u001B[32m'recommenderV1H2'\u001B[0m\u001B[1m)\u001B[0m: \u001B[1;36m4030\u001B[0m,\n\u001B[2;32m│   \u001B[0m\u001B[1m(\u001B[0m\u001B[32m'1 / Elastic Net'\u001B[0m, \u001B[32m'recommenderV1H3'\u001B[0m\u001B[1m)\u001B[0m: \u001B[1;36m4232\u001B[0m,\n\u001B[2;32m│   \u001B[0m\u001B[1m(\u001B[0m\u001B[32m'1 / Elastic Net'\u001B[0m, \u001B[32m'recommenderV2'\u001B[0m\u001B[1m)\u001B[0m: \u001B[1;36m2613\u001B[0m,\n\u001B[2;32m│   \u001B[0m\u001B[1m(\u001B[0m\u001B[32m'1 / Elastic Net'\u001B[0m, \u001B[32m'recommenderV2H1'\u001B[0m\u001B[1m)\u001B[0m: \u001B[1;36m2895\u001B[0m,\n\u001B[2;32m│   \u001B[0m\u001B[1m(\u001B[0m\u001B[32m'1 / Elastic Net'\u001B[0m, \u001B[32m'recommenderV2H2'\u001B[0m\u001B[1m)\u001B[0m: \u001B[1;36m2895\u001B[0m,\n\u001B[2;32m│   \u001B[0m\u001B[1m(\u001B[0m\u001B[32m'1 / Elastic Net'\u001B[0m, \u001B[32m'recommenderV2H3'\u001B[0m\u001B[1m)\u001B[0m: \u001B[1;36m2833\u001B[0m,\n\u001B[2;32m│   \u001B[0m\u001B[1m(\u001B[0m\u001B[32m'1 / Ordinary Least Squares'\u001B[0m, \u001B[32m'recommenderV1'\u001B[0m\u001B[1m)\u001B[0m: \u001B[1;36m5369\u001B[0m,\n\u001B[2;32m│   \u001B[0m\u001B[1m(\u001B[0m\u001B[32m'1 / Ordinary Least Squares'\u001B[0m, \u001B[32m'recommenderV1H1'\u001B[0m\u001B[1m)\u001B[0m: \u001B[1;36m5422\u001B[0m,\n\u001B[2;32m│   \u001B[0m\u001B[1m(\u001B[0m\u001B[32m'1 / Ordinary Least Squares'\u001B[0m, \u001B[32m'recommenderV1H2'\u001B[0m\u001B[1m)\u001B[0m: \u001B[1;36m5422\u001B[0m,\n\u001B[2;32m│   \u001B[0m\u001B[1m(\u001B[0m\u001B[32m'1 / Ordinary Least Squares'\u001B[0m, \u001B[32m'recommenderV1H3'\u001B[0m\u001B[1m)\u001B[0m: \u001B[1;36m5116\u001B[0m,\n\u001B[2;32m│   \u001B[0m\u001B[1m(\u001B[0m\u001B[32m'1 / Ordinary Least Squares'\u001B[0m, \u001B[32m'recommenderV2H1'\u001B[0m\u001B[1m)\u001B[0m: \u001B[1;36m5089\u001B[0m,\n\u001B[2;32m│   \u001B[0m\u001B[1m(\u001B[0m\u001B[32m'1 / Ordinary Least Squares'\u001B[0m, \u001B[32m'recommenderV2H2'\u001B[0m\u001B[1m)\u001B[0m: \u001B[1;36m5089\u001B[0m,\n\u001B[2;32m│   \u001B[0m\u001B[1m(\u001B[0m\u001B[32m'1 / Ordinary Least Squares'\u001B[0m, \u001B[32m'recommenderV2H3'\u001B[0m\u001B[1m)\u001B[0m: \u001B[1;36m4854\u001B[0m,\n\u001B[2;32m│   \u001B[0m\u001B[1m(\u001B[0m\u001B[32m'1 / Lasso CV'\u001B[0m, \u001B[32m'recommenderV1'\u001B[0m\u001B[1m)\u001B[0m: \u001B[1;36m5346\u001B[0m,\n\u001B[2;32m│   \u001B[0m\u001B[1m(\u001B[0m\u001B[32m'1 / Lasso CV'\u001B[0m, \u001B[32m'recommenderV1H1'\u001B[0m\u001B[1m)\u001B[0m: \u001B[1;36m5516\u001B[0m,\n\u001B[2;32m│   \u001B[0m\u001B[1m(\u001B[0m\u001B[32m'1 / Lasso CV'\u001B[0m, \u001B[32m'recommenderV1H2'\u001B[0m\u001B[1m)\u001B[0m: \u001B[1;36m5516\u001B[0m,\n\u001B[2;32m│   \u001B[0m\u001B[1m(\u001B[0m\u001B[32m'1 / Lasso CV'\u001B[0m, \u001B[32m'recommenderV1H3'\u001B[0m\u001B[1m)\u001B[0m: \u001B[1;36m5329\u001B[0m,\n\u001B[2;32m│   \u001B[0m\u001B[1m(\u001B[0m\u001B[32m'1 / Lasso CV'\u001B[0m, \u001B[32m'recommenderV2H1'\u001B[0m\u001B[1m)\u001B[0m: \u001B[1;36m4961\u001B[0m,\n\u001B[2;32m│   \u001B[0m\u001B[1m(\u001B[0m\u001B[32m'1 / Lasso CV'\u001B[0m, \u001B[32m'recommenderV2H2'\u001B[0m\u001B[1m)\u001B[0m: \u001B[1;36m4961\u001B[0m,\n\u001B[2;32m│   \u001B[0m\u001B[1m(\u001B[0m\u001B[32m'1 / Lasso CV'\u001B[0m, \u001B[32m'recommenderV2H3'\u001B[0m\u001B[1m)\u001B[0m: \u001B[1;36m4766\u001B[0m,\n\u001B[2;32m│   \u001B[0m\u001B[1m(\u001B[0m\u001B[32m'3 / SVR - linear'\u001B[0m, \u001B[32m'recommenderV1'\u001B[0m\u001B[1m)\u001B[0m: \u001B[1;36m5818\u001B[0m,\n\u001B[2;32m│   \u001B[0m\u001B[1m(\u001B[0m\u001B[32m'3 / SVR - linear'\u001B[0m, \u001B[32m'recommenderV1H1'\u001B[0m\u001B[1m)\u001B[0m: \u001B[1;36m6311\u001B[0m,\n\u001B[2;32m│   \u001B[0m\u001B[1m(\u001B[0m\u001B[32m'3 / SVR - linear'\u001B[0m, \u001B[32m'recommenderV1H2'\u001B[0m\u001B[1m)\u001B[0m: \u001B[1;36m6311\u001B[0m,\n\u001B[2;32m│   \u001B[0m\u001B[1m(\u001B[0m\u001B[32m'3 / SVR - linear'\u001B[0m, \u001B[32m'recommenderV1H3'\u001B[0m\u001B[1m)\u001B[0m: \u001B[1;36m6909\u001B[0m,\n\u001B[2;32m│   \u001B[0m\u001B[1m(\u001B[0m\u001B[32m'3 / SVR - linear'\u001B[0m, \u001B[32m'recommenderV2H1'\u001B[0m\u001B[1m)\u001B[0m: \u001B[1;36m5875\u001B[0m,\n\u001B[2;32m│   \u001B[0m\u001B[1m(\u001B[0m\u001B[32m'3 / SVR - linear'\u001B[0m, \u001B[32m'recommenderV2H2'\u001B[0m\u001B[1m)\u001B[0m: \u001B[1;36m5875\u001B[0m,\n\u001B[2;32m│   \u001B[0m\u001B[1m(\u001B[0m\u001B[32m'3 / SVR - linear'\u001B[0m, \u001B[32m'recommenderV2H3'\u001B[0m\u001B[1m)\u001B[0m: \u001B[1;36m5797\u001B[0m,\n\u001B[2;32m│   \u001B[0m\u001B[1m(\u001B[0m\u001B[32m'3 / Elastic Net CV'\u001B[0m, \u001B[32m'recommenderV1'\u001B[0m\u001B[1m)\u001B[0m: \u001B[1;36m7031\u001B[0m,\n\u001B[2;32m│   \u001B[0m\u001B[1m(\u001B[0m\u001B[32m'3 / Elastic Net CV'\u001B[0m, \u001B[32m'recommenderV1H1'\u001B[0m\u001B[1m)\u001B[0m: \u001B[1;36m6694\u001B[0m,\n\u001B[2;32m│   \u001B[0m\u001B[1m(\u001B[0m\u001B[32m'3 / Elastic Net CV'\u001B[0m, \u001B[32m'recommenderV1H2'\u001B[0m\u001B[1m)\u001B[0m: \u001B[1;36m6694\u001B[0m,\n\u001B[2;32m│   \u001B[0m\u001B[1m(\u001B[0m\u001B[32m'3 / Elastic Net CV'\u001B[0m, \u001B[32m'recommenderV1H3'\u001B[0m\u001B[1m)\u001B[0m: \u001B[1;36m6641\u001B[0m,\n\u001B[2;32m│   \u001B[0m\u001B[1m(\u001B[0m\u001B[32m'3 / Elastic Net CV'\u001B[0m, \u001B[32m'recommenderV2H1'\u001B[0m\u001B[1m)\u001B[0m: \u001B[1;36m5512\u001B[0m,\n\u001B[2;32m│   \u001B[0m\u001B[1m(\u001B[0m\u001B[32m'3 / Elastic Net CV'\u001B[0m, \u001B[32m'recommenderV2H2'\u001B[0m\u001B[1m)\u001B[0m: \u001B[1;36m5512\u001B[0m,\n\u001B[2;32m│   \u001B[0m\u001B[1m(\u001B[0m\u001B[32m'3 / Elastic Net CV'\u001B[0m, \u001B[32m'recommenderV2H3'\u001B[0m\u001B[1m)\u001B[0m: \u001B[1;36m5272\u001B[0m,\n\u001B[2;32m│   \u001B[0m\u001B[1m(\u001B[0m\u001B[32m'1 / SVR - linear'\u001B[0m, \u001B[32m'recommenderV1'\u001B[0m\u001B[1m)\u001B[0m: \u001B[1;36m4731\u001B[0m,\n\u001B[2;32m│   \u001B[0m\u001B[1m(\u001B[0m\u001B[32m'1 / SVR - linear'\u001B[0m, \u001B[32m'recommenderV1H1'\u001B[0m\u001B[1m)\u001B[0m: \u001B[1;36m5343\u001B[0m,\n\u001B[2;32m│   \u001B[0m\u001B[1m(\u001B[0m\u001B[32m'1 / SVR - linear'\u001B[0m, \u001B[32m'recommenderV1H2'\u001B[0m\u001B[1m)\u001B[0m: \u001B[1;36m5343\u001B[0m,\n\u001B[2;32m│   \u001B[0m\u001B[1m(\u001B[0m\u001B[32m'1 / SVR - linear'\u001B[0m, \u001B[32m'recommenderV1H3'\u001B[0m\u001B[1m)\u001B[0m: \u001B[1;36m5141\u001B[0m,\n\u001B[2;32m│   \u001B[0m\u001B[1m(\u001B[0m\u001B[32m'1 / SVR - linear'\u001B[0m, \u001B[32m'recommenderV2H1'\u001B[0m\u001B[1m)\u001B[0m: \u001B[1;36m4546\u001B[0m,\n\u001B[2;32m│   \u001B[0m\u001B[1m(\u001B[0m\u001B[32m'1 / SVR - linear'\u001B[0m, \u001B[32m'recommenderV2H2'\u001B[0m\u001B[1m)\u001B[0m: \u001B[1;36m4546\u001B[0m,\n\u001B[2;32m│   \u001B[0m\u001B[1m(\u001B[0m\u001B[32m'1 / SVR - linear'\u001B[0m, \u001B[32m'recommenderV2H3'\u001B[0m\u001B[1m)\u001B[0m: \u001B[1;36m4344\u001B[0m,\n\u001B[2;32m│   \u001B[0m\u001B[1m(\u001B[0m\u001B[32m'3 / Elastic Net'\u001B[0m, \u001B[32m'recommenderV2'\u001B[0m\u001B[1m)\u001B[0m: \u001B[1;36m3742\u001B[0m,\n\u001B[2;32m│   \u001B[0m\u001B[1m(\u001B[0m\u001B[32m'4 / Passive Aggressive'\u001B[0m, \u001B[32m'recommenderV2'\u001B[0m\u001B[1m)\u001B[0m: \u001B[1;36m2888\u001B[0m,\n\u001B[2;32m│   \u001B[0m\u001B[1m(\u001B[0m\u001B[32m'5 / Ordinary Least Squares'\u001B[0m, \u001B[32m'recommenderV2'\u001B[0m\u001B[1m)\u001B[0m: \u001B[1;36m9615\u001B[0m,\n\u001B[2;32m│   \u001B[0m\u001B[1m(\u001B[0m\u001B[32m'3 / Ridge'\u001B[0m, \u001B[32m'recommenderV2'\u001B[0m\u001B[1m)\u001B[0m: \u001B[1;36m6874\u001B[0m,\n\u001B[2;32m│   \u001B[0m\u001B[1m(\u001B[0m\u001B[32m'3 / SVR - linear'\u001B[0m, \u001B[32m'recommenderV2'\u001B[0m\u001B[1m)\u001B[0m: \u001B[1;36m5492\u001B[0m,\n\u001B[2;32m│   \u001B[0m\u001B[1m(\u001B[0m\u001B[32m'3 / Elastic Net CV'\u001B[0m, \u001B[32m'recommenderV2'\u001B[0m\u001B[1m)\u001B[0m: \u001B[1;36m5087\u001B[0m,\n\u001B[2;32m│   \u001B[0m\u001B[1m(\u001B[0m\u001B[32m'1 / SVR - linear'\u001B[0m, \u001B[32m'recommenderV2'\u001B[0m\u001B[1m)\u001B[0m: \u001B[1;36m4179\u001B[0m,\n\u001B[2;32m│   \u001B[0m\u001B[1m(\u001B[0m\u001B[32m'2 / Ridge CV'\u001B[0m, \u001B[32m'recommenderV2'\u001B[0m\u001B[1m)\u001B[0m: \u001B[1;36m5277\u001B[0m,\n\u001B[2;32m│   \u001B[0m\u001B[1m(\u001B[0m\u001B[32m'1 / Ordinary Least Squares'\u001B[0m, \u001B[32m'recommenderV2'\u001B[0m\u001B[1m)\u001B[0m: \u001B[1;36m4605\u001B[0m,\n\u001B[2;32m│   \u001B[0m\u001B[1m(\u001B[0m\u001B[32m'1 / Lasso CV'\u001B[0m, \u001B[32m'recommenderV2'\u001B[0m\u001B[1m)\u001B[0m: \u001B[1;36m4467\u001B[0m\n\u001B[1m}\u001B[0m\n",
      "text/html": "<pre style=\"white-space:pre;overflow-x:auto;line-height:normal;font-family:Menlo,'DejaVu Sans Mono',consolas,'Courier New',monospace\"><span style=\"font-weight: bold\">{</span>\n<span style=\"color: #7fbf7f; text-decoration-color: #7fbf7f\">│   </span><span style=\"font-weight: bold\">(</span><span style=\"color: #008000; text-decoration-color: #008000\">'4 / Passive Aggressive'</span>, <span style=\"color: #008000; text-decoration-color: #008000\">'recommenderV1'</span><span style=\"font-weight: bold\">)</span>: <span style=\"color: #008080; text-decoration-color: #008080; font-weight: bold\">4786</span>,\n<span style=\"color: #7fbf7f; text-decoration-color: #7fbf7f\">│   </span><span style=\"font-weight: bold\">(</span><span style=\"color: #008000; text-decoration-color: #008000\">'4 / Passive Aggressive'</span>, <span style=\"color: #008000; text-decoration-color: #008000\">'recommenderV1H1'</span><span style=\"font-weight: bold\">)</span>: <span style=\"color: #008080; text-decoration-color: #008080; font-weight: bold\">4596</span>,\n<span style=\"color: #7fbf7f; text-decoration-color: #7fbf7f\">│   </span><span style=\"font-weight: bold\">(</span><span style=\"color: #008000; text-decoration-color: #008000\">'4 / Passive Aggressive'</span>, <span style=\"color: #008000; text-decoration-color: #008000\">'recommenderV1H2'</span><span style=\"font-weight: bold\">)</span>: <span style=\"color: #008080; text-decoration-color: #008080; font-weight: bold\">4596</span>,\n<span style=\"color: #7fbf7f; text-decoration-color: #7fbf7f\">│   </span><span style=\"font-weight: bold\">(</span><span style=\"color: #008000; text-decoration-color: #008000\">'4 / Passive Aggressive'</span>, <span style=\"color: #008000; text-decoration-color: #008000\">'recommenderV1H3'</span><span style=\"font-weight: bold\">)</span>: <span style=\"color: #008080; text-decoration-color: #008080; font-weight: bold\">4877</span>,\n<span style=\"color: #7fbf7f; text-decoration-color: #7fbf7f\">│   </span><span style=\"font-weight: bold\">(</span><span style=\"color: #008000; text-decoration-color: #008000\">'4 / Passive Aggressive'</span>, <span style=\"color: #008000; text-decoration-color: #008000\">'recommenderV2H1'</span><span style=\"font-weight: bold\">)</span>: <span style=\"color: #008080; text-decoration-color: #008080; font-weight: bold\">3024</span>,\n<span style=\"color: #7fbf7f; text-decoration-color: #7fbf7f\">│   </span><span style=\"font-weight: bold\">(</span><span style=\"color: #008000; text-decoration-color: #008000\">'4 / Passive Aggressive'</span>, <span style=\"color: #008000; text-decoration-color: #008000\">'recommenderV2H2'</span><span style=\"font-weight: bold\">)</span>: <span style=\"color: #008080; text-decoration-color: #008080; font-weight: bold\">3024</span>,\n<span style=\"color: #7fbf7f; text-decoration-color: #7fbf7f\">│   </span><span style=\"font-weight: bold\">(</span><span style=\"color: #008000; text-decoration-color: #008000\">'4 / Passive Aggressive'</span>, <span style=\"color: #008000; text-decoration-color: #008000\">'recommenderV2H3'</span><span style=\"font-weight: bold\">)</span>: <span style=\"color: #008080; text-decoration-color: #008080; font-weight: bold\">2928</span>,\n<span style=\"color: #7fbf7f; text-decoration-color: #7fbf7f\">│   </span><span style=\"font-weight: bold\">(</span><span style=\"color: #008000; text-decoration-color: #008000\">'3 / Elastic Net'</span>, <span style=\"color: #008000; text-decoration-color: #008000\">'recommenderV1'</span><span style=\"font-weight: bold\">)</span>: <span style=\"color: #008080; text-decoration-color: #008080; font-weight: bold\">5347</span>,\n<span style=\"color: #7fbf7f; text-decoration-color: #7fbf7f\">│   </span><span style=\"font-weight: bold\">(</span><span style=\"color: #008000; text-decoration-color: #008000\">'3 / Elastic Net'</span>, <span style=\"color: #008000; text-decoration-color: #008000\">'recommenderV1H1'</span><span style=\"font-weight: bold\">)</span>: <span style=\"color: #008080; text-decoration-color: #008080; font-weight: bold\">4954</span>,\n<span style=\"color: #7fbf7f; text-decoration-color: #7fbf7f\">│   </span><span style=\"font-weight: bold\">(</span><span style=\"color: #008000; text-decoration-color: #008000\">'3 / Elastic Net'</span>, <span style=\"color: #008000; text-decoration-color: #008000\">'recommenderV1H2'</span><span style=\"font-weight: bold\">)</span>: <span style=\"color: #008080; text-decoration-color: #008080; font-weight: bold\">4954</span>,\n<span style=\"color: #7fbf7f; text-decoration-color: #7fbf7f\">│   </span><span style=\"font-weight: bold\">(</span><span style=\"color: #008000; text-decoration-color: #008000\">'3 / Elastic Net'</span>, <span style=\"color: #008000; text-decoration-color: #008000\">'recommenderV1H3'</span><span style=\"font-weight: bold\">)</span>: <span style=\"color: #008080; text-decoration-color: #008080; font-weight: bold\">4851</span>,\n<span style=\"color: #7fbf7f; text-decoration-color: #7fbf7f\">│   </span><span style=\"font-weight: bold\">(</span><span style=\"color: #008000; text-decoration-color: #008000\">'3 / Elastic Net'</span>, <span style=\"color: #008000; text-decoration-color: #008000\">'recommenderV2H1'</span><span style=\"font-weight: bold\">)</span>: <span style=\"color: #008080; text-decoration-color: #008080; font-weight: bold\">4000</span>,\n<span style=\"color: #7fbf7f; text-decoration-color: #7fbf7f\">│   </span><span style=\"font-weight: bold\">(</span><span style=\"color: #008000; text-decoration-color: #008000\">'3 / Elastic Net'</span>, <span style=\"color: #008000; text-decoration-color: #008000\">'recommenderV2H2'</span><span style=\"font-weight: bold\">)</span>: <span style=\"color: #008080; text-decoration-color: #008080; font-weight: bold\">4000</span>,\n<span style=\"color: #7fbf7f; text-decoration-color: #7fbf7f\">│   </span><span style=\"font-weight: bold\">(</span><span style=\"color: #008000; text-decoration-color: #008000\">'3 / Elastic Net'</span>, <span style=\"color: #008000; text-decoration-color: #008000\">'recommenderV2H3'</span><span style=\"font-weight: bold\">)</span>: <span style=\"color: #008080; text-decoration-color: #008080; font-weight: bold\">3851</span>,\n<span style=\"color: #7fbf7f; text-decoration-color: #7fbf7f\">│   </span><span style=\"font-weight: bold\">(</span><span style=\"color: #008000; text-decoration-color: #008000\">'3 / Ridge'</span>, <span style=\"color: #008000; text-decoration-color: #008000\">'recommenderV1'</span><span style=\"font-weight: bold\">)</span>: <span style=\"color: #008080; text-decoration-color: #008080; font-weight: bold\">9628</span>,\n<span style=\"color: #7fbf7f; text-decoration-color: #7fbf7f\">│   </span><span style=\"font-weight: bold\">(</span><span style=\"color: #008000; text-decoration-color: #008000\">'3 / Ridge'</span>, <span style=\"color: #008000; text-decoration-color: #008000\">'recommenderV1H1'</span><span style=\"font-weight: bold\">)</span>: <span style=\"color: #008080; text-decoration-color: #008080; font-weight: bold\">10563</span>,\n<span style=\"color: #7fbf7f; text-decoration-color: #7fbf7f\">│   </span><span style=\"font-weight: bold\">(</span><span style=\"color: #008000; text-decoration-color: #008000\">'3 / Ridge'</span>, <span style=\"color: #008000; text-decoration-color: #008000\">'recommenderV1H2'</span><span style=\"font-weight: bold\">)</span>: <span style=\"color: #008080; text-decoration-color: #008080; font-weight: bold\">10563</span>,\n<span style=\"color: #7fbf7f; text-decoration-color: #7fbf7f\">│   </span><span style=\"font-weight: bold\">(</span><span style=\"color: #008000; text-decoration-color: #008000\">'3 / Ridge'</span>, <span style=\"color: #008000; text-decoration-color: #008000\">'recommenderV1H3'</span><span style=\"font-weight: bold\">)</span>: <span style=\"color: #008080; text-decoration-color: #008080; font-weight: bold\">11010</span>,\n<span style=\"color: #7fbf7f; text-decoration-color: #7fbf7f\">│   </span><span style=\"font-weight: bold\">(</span><span style=\"color: #008000; text-decoration-color: #008000\">'3 / Ridge'</span>, <span style=\"color: #008000; text-decoration-color: #008000\">'recommenderV2H1'</span><span style=\"font-weight: bold\">)</span>: <span style=\"color: #008080; text-decoration-color: #008080; font-weight: bold\">6824</span>,\n<span style=\"color: #7fbf7f; text-decoration-color: #7fbf7f\">│   </span><span style=\"font-weight: bold\">(</span><span style=\"color: #008000; text-decoration-color: #008000\">'3 / Ridge'</span>, <span style=\"color: #008000; text-decoration-color: #008000\">'recommenderV2H2'</span><span style=\"font-weight: bold\">)</span>: <span style=\"color: #008080; text-decoration-color: #008080; font-weight: bold\">6824</span>,\n<span style=\"color: #7fbf7f; text-decoration-color: #7fbf7f\">│   </span><span style=\"font-weight: bold\">(</span><span style=\"color: #008000; text-decoration-color: #008000\">'3 / Ridge'</span>, <span style=\"color: #008000; text-decoration-color: #008000\">'recommenderV2H3'</span><span style=\"font-weight: bold\">)</span>: <span style=\"color: #008080; text-decoration-color: #008080; font-weight: bold\">6643</span>,\n<span style=\"color: #7fbf7f; text-decoration-color: #7fbf7f\">│   </span><span style=\"font-weight: bold\">(</span><span style=\"color: #008000; text-decoration-color: #008000\">'5 / Ordinary Least Squares'</span>, <span style=\"color: #008000; text-decoration-color: #008000\">'recommenderV1'</span><span style=\"font-weight: bold\">)</span>: <span style=\"color: #008080; text-decoration-color: #008080; font-weight: bold\">25731</span>,\n<span style=\"color: #7fbf7f; text-decoration-color: #7fbf7f\">│   </span><span style=\"font-weight: bold\">(</span><span style=\"color: #008000; text-decoration-color: #008000\">'5 / Ordinary Least Squares'</span>, <span style=\"color: #008000; text-decoration-color: #008000\">'recommenderV1H1'</span><span style=\"font-weight: bold\">)</span>: <span style=\"color: #008080; text-decoration-color: #008080; font-weight: bold\">27353</span>,\n<span style=\"color: #7fbf7f; text-decoration-color: #7fbf7f\">│   </span><span style=\"font-weight: bold\">(</span><span style=\"color: #008000; text-decoration-color: #008000\">'5 / Ordinary Least Squares'</span>, <span style=\"color: #008000; text-decoration-color: #008000\">'recommenderV1H2'</span><span style=\"font-weight: bold\">)</span>: <span style=\"color: #008080; text-decoration-color: #008080; font-weight: bold\">27353</span>,\n<span style=\"color: #7fbf7f; text-decoration-color: #7fbf7f\">│   </span><span style=\"font-weight: bold\">(</span><span style=\"color: #008000; text-decoration-color: #008000\">'5 / Ordinary Least Squares'</span>, <span style=\"color: #008000; text-decoration-color: #008000\">'recommenderV1H3'</span><span style=\"font-weight: bold\">)</span>: <span style=\"color: #008080; text-decoration-color: #008080; font-weight: bold\">28508</span>,\n<span style=\"color: #7fbf7f; text-decoration-color: #7fbf7f\">│   </span><span style=\"font-weight: bold\">(</span><span style=\"color: #008000; text-decoration-color: #008000\">'5 / Ordinary Least Squares'</span>, <span style=\"color: #008000; text-decoration-color: #008000\">'recommenderV2H1'</span><span style=\"font-weight: bold\">)</span>: <span style=\"color: #008080; text-decoration-color: #008080; font-weight: bold\">9903</span>,\n<span style=\"color: #7fbf7f; text-decoration-color: #7fbf7f\">│   </span><span style=\"font-weight: bold\">(</span><span style=\"color: #008000; text-decoration-color: #008000\">'5 / Ordinary Least Squares'</span>, <span style=\"color: #008000; text-decoration-color: #008000\">'recommenderV2H2'</span><span style=\"font-weight: bold\">)</span>: <span style=\"color: #008080; text-decoration-color: #008080; font-weight: bold\">9903</span>,\n<span style=\"color: #7fbf7f; text-decoration-color: #7fbf7f\">│   </span><span style=\"font-weight: bold\">(</span><span style=\"color: #008000; text-decoration-color: #008000\">'5 / Ordinary Least Squares'</span>, <span style=\"color: #008000; text-decoration-color: #008000\">'recommenderV2H3'</span><span style=\"font-weight: bold\">)</span>: <span style=\"color: #008080; text-decoration-color: #008080; font-weight: bold\">9654</span>,\n<span style=\"color: #7fbf7f; text-decoration-color: #7fbf7f\">│   </span><span style=\"font-weight: bold\">(</span><span style=\"color: #008000; text-decoration-color: #008000\">'2 / Ridge CV'</span>, <span style=\"color: #008000; text-decoration-color: #008000\">'recommenderV1'</span><span style=\"font-weight: bold\">)</span>: <span style=\"color: #008080; text-decoration-color: #008080; font-weight: bold\">5328</span>,\n<span style=\"color: #7fbf7f; text-decoration-color: #7fbf7f\">│   </span><span style=\"font-weight: bold\">(</span><span style=\"color: #008000; text-decoration-color: #008000\">'2 / Ridge CV'</span>, <span style=\"color: #008000; text-decoration-color: #008000\">'recommenderV1H1'</span><span style=\"font-weight: bold\">)</span>: <span style=\"color: #008080; text-decoration-color: #008080; font-weight: bold\">5502</span>,\n<span style=\"color: #7fbf7f; text-decoration-color: #7fbf7f\">│   </span><span style=\"font-weight: bold\">(</span><span style=\"color: #008000; text-decoration-color: #008000\">'2 / Ridge CV'</span>, <span style=\"color: #008000; text-decoration-color: #008000\">'recommenderV1H2'</span><span style=\"font-weight: bold\">)</span>: <span style=\"color: #008080; text-decoration-color: #008080; font-weight: bold\">5502</span>,\n<span style=\"color: #7fbf7f; text-decoration-color: #7fbf7f\">│   </span><span style=\"font-weight: bold\">(</span><span style=\"color: #008000; text-decoration-color: #008000\">'2 / Ridge CV'</span>, <span style=\"color: #008000; text-decoration-color: #008000\">'recommenderV1H3'</span><span style=\"font-weight: bold\">)</span>: <span style=\"color: #008080; text-decoration-color: #008080; font-weight: bold\">5439</span>,\n<span style=\"color: #7fbf7f; text-decoration-color: #7fbf7f\">│   </span><span style=\"font-weight: bold\">(</span><span style=\"color: #008000; text-decoration-color: #008000\">'2 / Ridge CV'</span>, <span style=\"color: #008000; text-decoration-color: #008000\">'recommenderV2H1'</span><span style=\"font-weight: bold\">)</span>: <span style=\"color: #008080; text-decoration-color: #008080; font-weight: bold\">5668</span>,\n<span style=\"color: #7fbf7f; text-decoration-color: #7fbf7f\">│   </span><span style=\"font-weight: bold\">(</span><span style=\"color: #008000; text-decoration-color: #008000\">'2 / Ridge CV'</span>, <span style=\"color: #008000; text-decoration-color: #008000\">'recommenderV2H2'</span><span style=\"font-weight: bold\">)</span>: <span style=\"color: #008080; text-decoration-color: #008080; font-weight: bold\">5668</span>,\n<span style=\"color: #7fbf7f; text-decoration-color: #7fbf7f\">│   </span><span style=\"font-weight: bold\">(</span><span style=\"color: #008000; text-decoration-color: #008000\">'2 / Ridge CV'</span>, <span style=\"color: #008000; text-decoration-color: #008000\">'recommenderV2H3'</span><span style=\"font-weight: bold\">)</span>: <span style=\"color: #008080; text-decoration-color: #008080; font-weight: bold\">5445</span>,\n<span style=\"color: #7fbf7f; text-decoration-color: #7fbf7f\">│   </span><span style=\"font-weight: bold\">(</span><span style=\"color: #008000; text-decoration-color: #008000\">'1 / Elastic Net'</span>, <span style=\"color: #008000; text-decoration-color: #008000\">'recommenderV1'</span><span style=\"font-weight: bold\">)</span>: <span style=\"color: #008080; text-decoration-color: #008080; font-weight: bold\">3789</span>,\n<span style=\"color: #7fbf7f; text-decoration-color: #7fbf7f\">│   </span><span style=\"font-weight: bold\">(</span><span style=\"color: #008000; text-decoration-color: #008000\">'1 / Elastic Net'</span>, <span style=\"color: #008000; text-decoration-color: #008000\">'recommenderV1H1'</span><span style=\"font-weight: bold\">)</span>: <span style=\"color: #008080; text-decoration-color: #008080; font-weight: bold\">4030</span>,\n<span style=\"color: #7fbf7f; text-decoration-color: #7fbf7f\">│   </span><span style=\"font-weight: bold\">(</span><span style=\"color: #008000; text-decoration-color: #008000\">'1 / Elastic Net'</span>, <span style=\"color: #008000; text-decoration-color: #008000\">'recommenderV1H2'</span><span style=\"font-weight: bold\">)</span>: <span style=\"color: #008080; text-decoration-color: #008080; font-weight: bold\">4030</span>,\n<span style=\"color: #7fbf7f; text-decoration-color: #7fbf7f\">│   </span><span style=\"font-weight: bold\">(</span><span style=\"color: #008000; text-decoration-color: #008000\">'1 / Elastic Net'</span>, <span style=\"color: #008000; text-decoration-color: #008000\">'recommenderV1H3'</span><span style=\"font-weight: bold\">)</span>: <span style=\"color: #008080; text-decoration-color: #008080; font-weight: bold\">4232</span>,\n<span style=\"color: #7fbf7f; text-decoration-color: #7fbf7f\">│   </span><span style=\"font-weight: bold\">(</span><span style=\"color: #008000; text-decoration-color: #008000\">'1 / Elastic Net'</span>, <span style=\"color: #008000; text-decoration-color: #008000\">'recommenderV2'</span><span style=\"font-weight: bold\">)</span>: <span style=\"color: #008080; text-decoration-color: #008080; font-weight: bold\">2613</span>,\n<span style=\"color: #7fbf7f; text-decoration-color: #7fbf7f\">│   </span><span style=\"font-weight: bold\">(</span><span style=\"color: #008000; text-decoration-color: #008000\">'1 / Elastic Net'</span>, <span style=\"color: #008000; text-decoration-color: #008000\">'recommenderV2H1'</span><span style=\"font-weight: bold\">)</span>: <span style=\"color: #008080; text-decoration-color: #008080; font-weight: bold\">2895</span>,\n<span style=\"color: #7fbf7f; text-decoration-color: #7fbf7f\">│   </span><span style=\"font-weight: bold\">(</span><span style=\"color: #008000; text-decoration-color: #008000\">'1 / Elastic Net'</span>, <span style=\"color: #008000; text-decoration-color: #008000\">'recommenderV2H2'</span><span style=\"font-weight: bold\">)</span>: <span style=\"color: #008080; text-decoration-color: #008080; font-weight: bold\">2895</span>,\n<span style=\"color: #7fbf7f; text-decoration-color: #7fbf7f\">│   </span><span style=\"font-weight: bold\">(</span><span style=\"color: #008000; text-decoration-color: #008000\">'1 / Elastic Net'</span>, <span style=\"color: #008000; text-decoration-color: #008000\">'recommenderV2H3'</span><span style=\"font-weight: bold\">)</span>: <span style=\"color: #008080; text-decoration-color: #008080; font-weight: bold\">2833</span>,\n<span style=\"color: #7fbf7f; text-decoration-color: #7fbf7f\">│   </span><span style=\"font-weight: bold\">(</span><span style=\"color: #008000; text-decoration-color: #008000\">'1 / Ordinary Least Squares'</span>, <span style=\"color: #008000; text-decoration-color: #008000\">'recommenderV1'</span><span style=\"font-weight: bold\">)</span>: <span style=\"color: #008080; text-decoration-color: #008080; font-weight: bold\">5369</span>,\n<span style=\"color: #7fbf7f; text-decoration-color: #7fbf7f\">│   </span><span style=\"font-weight: bold\">(</span><span style=\"color: #008000; text-decoration-color: #008000\">'1 / Ordinary Least Squares'</span>, <span style=\"color: #008000; text-decoration-color: #008000\">'recommenderV1H1'</span><span style=\"font-weight: bold\">)</span>: <span style=\"color: #008080; text-decoration-color: #008080; font-weight: bold\">5422</span>,\n<span style=\"color: #7fbf7f; text-decoration-color: #7fbf7f\">│   </span><span style=\"font-weight: bold\">(</span><span style=\"color: #008000; text-decoration-color: #008000\">'1 / Ordinary Least Squares'</span>, <span style=\"color: #008000; text-decoration-color: #008000\">'recommenderV1H2'</span><span style=\"font-weight: bold\">)</span>: <span style=\"color: #008080; text-decoration-color: #008080; font-weight: bold\">5422</span>,\n<span style=\"color: #7fbf7f; text-decoration-color: #7fbf7f\">│   </span><span style=\"font-weight: bold\">(</span><span style=\"color: #008000; text-decoration-color: #008000\">'1 / Ordinary Least Squares'</span>, <span style=\"color: #008000; text-decoration-color: #008000\">'recommenderV1H3'</span><span style=\"font-weight: bold\">)</span>: <span style=\"color: #008080; text-decoration-color: #008080; font-weight: bold\">5116</span>,\n<span style=\"color: #7fbf7f; text-decoration-color: #7fbf7f\">│   </span><span style=\"font-weight: bold\">(</span><span style=\"color: #008000; text-decoration-color: #008000\">'1 / Ordinary Least Squares'</span>, <span style=\"color: #008000; text-decoration-color: #008000\">'recommenderV2H1'</span><span style=\"font-weight: bold\">)</span>: <span style=\"color: #008080; text-decoration-color: #008080; font-weight: bold\">5089</span>,\n<span style=\"color: #7fbf7f; text-decoration-color: #7fbf7f\">│   </span><span style=\"font-weight: bold\">(</span><span style=\"color: #008000; text-decoration-color: #008000\">'1 / Ordinary Least Squares'</span>, <span style=\"color: #008000; text-decoration-color: #008000\">'recommenderV2H2'</span><span style=\"font-weight: bold\">)</span>: <span style=\"color: #008080; text-decoration-color: #008080; font-weight: bold\">5089</span>,\n<span style=\"color: #7fbf7f; text-decoration-color: #7fbf7f\">│   </span><span style=\"font-weight: bold\">(</span><span style=\"color: #008000; text-decoration-color: #008000\">'1 / Ordinary Least Squares'</span>, <span style=\"color: #008000; text-decoration-color: #008000\">'recommenderV2H3'</span><span style=\"font-weight: bold\">)</span>: <span style=\"color: #008080; text-decoration-color: #008080; font-weight: bold\">4854</span>,\n<span style=\"color: #7fbf7f; text-decoration-color: #7fbf7f\">│   </span><span style=\"font-weight: bold\">(</span><span style=\"color: #008000; text-decoration-color: #008000\">'1 / Lasso CV'</span>, <span style=\"color: #008000; text-decoration-color: #008000\">'recommenderV1'</span><span style=\"font-weight: bold\">)</span>: <span style=\"color: #008080; text-decoration-color: #008080; font-weight: bold\">5346</span>,\n<span style=\"color: #7fbf7f; text-decoration-color: #7fbf7f\">│   </span><span style=\"font-weight: bold\">(</span><span style=\"color: #008000; text-decoration-color: #008000\">'1 / Lasso CV'</span>, <span style=\"color: #008000; text-decoration-color: #008000\">'recommenderV1H1'</span><span style=\"font-weight: bold\">)</span>: <span style=\"color: #008080; text-decoration-color: #008080; font-weight: bold\">5516</span>,\n<span style=\"color: #7fbf7f; text-decoration-color: #7fbf7f\">│   </span><span style=\"font-weight: bold\">(</span><span style=\"color: #008000; text-decoration-color: #008000\">'1 / Lasso CV'</span>, <span style=\"color: #008000; text-decoration-color: #008000\">'recommenderV1H2'</span><span style=\"font-weight: bold\">)</span>: <span style=\"color: #008080; text-decoration-color: #008080; font-weight: bold\">5516</span>,\n<span style=\"color: #7fbf7f; text-decoration-color: #7fbf7f\">│   </span><span style=\"font-weight: bold\">(</span><span style=\"color: #008000; text-decoration-color: #008000\">'1 / Lasso CV'</span>, <span style=\"color: #008000; text-decoration-color: #008000\">'recommenderV1H3'</span><span style=\"font-weight: bold\">)</span>: <span style=\"color: #008080; text-decoration-color: #008080; font-weight: bold\">5329</span>,\n<span style=\"color: #7fbf7f; text-decoration-color: #7fbf7f\">│   </span><span style=\"font-weight: bold\">(</span><span style=\"color: #008000; text-decoration-color: #008000\">'1 / Lasso CV'</span>, <span style=\"color: #008000; text-decoration-color: #008000\">'recommenderV2H1'</span><span style=\"font-weight: bold\">)</span>: <span style=\"color: #008080; text-decoration-color: #008080; font-weight: bold\">4961</span>,\n<span style=\"color: #7fbf7f; text-decoration-color: #7fbf7f\">│   </span><span style=\"font-weight: bold\">(</span><span style=\"color: #008000; text-decoration-color: #008000\">'1 / Lasso CV'</span>, <span style=\"color: #008000; text-decoration-color: #008000\">'recommenderV2H2'</span><span style=\"font-weight: bold\">)</span>: <span style=\"color: #008080; text-decoration-color: #008080; font-weight: bold\">4961</span>,\n<span style=\"color: #7fbf7f; text-decoration-color: #7fbf7f\">│   </span><span style=\"font-weight: bold\">(</span><span style=\"color: #008000; text-decoration-color: #008000\">'1 / Lasso CV'</span>, <span style=\"color: #008000; text-decoration-color: #008000\">'recommenderV2H3'</span><span style=\"font-weight: bold\">)</span>: <span style=\"color: #008080; text-decoration-color: #008080; font-weight: bold\">4766</span>,\n<span style=\"color: #7fbf7f; text-decoration-color: #7fbf7f\">│   </span><span style=\"font-weight: bold\">(</span><span style=\"color: #008000; text-decoration-color: #008000\">'3 / SVR - linear'</span>, <span style=\"color: #008000; text-decoration-color: #008000\">'recommenderV1'</span><span style=\"font-weight: bold\">)</span>: <span style=\"color: #008080; text-decoration-color: #008080; font-weight: bold\">5818</span>,\n<span style=\"color: #7fbf7f; text-decoration-color: #7fbf7f\">│   </span><span style=\"font-weight: bold\">(</span><span style=\"color: #008000; text-decoration-color: #008000\">'3 / SVR - linear'</span>, <span style=\"color: #008000; text-decoration-color: #008000\">'recommenderV1H1'</span><span style=\"font-weight: bold\">)</span>: <span style=\"color: #008080; text-decoration-color: #008080; font-weight: bold\">6311</span>,\n<span style=\"color: #7fbf7f; text-decoration-color: #7fbf7f\">│   </span><span style=\"font-weight: bold\">(</span><span style=\"color: #008000; text-decoration-color: #008000\">'3 / SVR - linear'</span>, <span style=\"color: #008000; text-decoration-color: #008000\">'recommenderV1H2'</span><span style=\"font-weight: bold\">)</span>: <span style=\"color: #008080; text-decoration-color: #008080; font-weight: bold\">6311</span>,\n<span style=\"color: #7fbf7f; text-decoration-color: #7fbf7f\">│   </span><span style=\"font-weight: bold\">(</span><span style=\"color: #008000; text-decoration-color: #008000\">'3 / SVR - linear'</span>, <span style=\"color: #008000; text-decoration-color: #008000\">'recommenderV1H3'</span><span style=\"font-weight: bold\">)</span>: <span style=\"color: #008080; text-decoration-color: #008080; font-weight: bold\">6909</span>,\n<span style=\"color: #7fbf7f; text-decoration-color: #7fbf7f\">│   </span><span style=\"font-weight: bold\">(</span><span style=\"color: #008000; text-decoration-color: #008000\">'3 / SVR - linear'</span>, <span style=\"color: #008000; text-decoration-color: #008000\">'recommenderV2H1'</span><span style=\"font-weight: bold\">)</span>: <span style=\"color: #008080; text-decoration-color: #008080; font-weight: bold\">5875</span>,\n<span style=\"color: #7fbf7f; text-decoration-color: #7fbf7f\">│   </span><span style=\"font-weight: bold\">(</span><span style=\"color: #008000; text-decoration-color: #008000\">'3 / SVR - linear'</span>, <span style=\"color: #008000; text-decoration-color: #008000\">'recommenderV2H2'</span><span style=\"font-weight: bold\">)</span>: <span style=\"color: #008080; text-decoration-color: #008080; font-weight: bold\">5875</span>,\n<span style=\"color: #7fbf7f; text-decoration-color: #7fbf7f\">│   </span><span style=\"font-weight: bold\">(</span><span style=\"color: #008000; text-decoration-color: #008000\">'3 / SVR - linear'</span>, <span style=\"color: #008000; text-decoration-color: #008000\">'recommenderV2H3'</span><span style=\"font-weight: bold\">)</span>: <span style=\"color: #008080; text-decoration-color: #008080; font-weight: bold\">5797</span>,\n<span style=\"color: #7fbf7f; text-decoration-color: #7fbf7f\">│   </span><span style=\"font-weight: bold\">(</span><span style=\"color: #008000; text-decoration-color: #008000\">'3 / Elastic Net CV'</span>, <span style=\"color: #008000; text-decoration-color: #008000\">'recommenderV1'</span><span style=\"font-weight: bold\">)</span>: <span style=\"color: #008080; text-decoration-color: #008080; font-weight: bold\">7031</span>,\n<span style=\"color: #7fbf7f; text-decoration-color: #7fbf7f\">│   </span><span style=\"font-weight: bold\">(</span><span style=\"color: #008000; text-decoration-color: #008000\">'3 / Elastic Net CV'</span>, <span style=\"color: #008000; text-decoration-color: #008000\">'recommenderV1H1'</span><span style=\"font-weight: bold\">)</span>: <span style=\"color: #008080; text-decoration-color: #008080; font-weight: bold\">6694</span>,\n<span style=\"color: #7fbf7f; text-decoration-color: #7fbf7f\">│   </span><span style=\"font-weight: bold\">(</span><span style=\"color: #008000; text-decoration-color: #008000\">'3 / Elastic Net CV'</span>, <span style=\"color: #008000; text-decoration-color: #008000\">'recommenderV1H2'</span><span style=\"font-weight: bold\">)</span>: <span style=\"color: #008080; text-decoration-color: #008080; font-weight: bold\">6694</span>,\n<span style=\"color: #7fbf7f; text-decoration-color: #7fbf7f\">│   </span><span style=\"font-weight: bold\">(</span><span style=\"color: #008000; text-decoration-color: #008000\">'3 / Elastic Net CV'</span>, <span style=\"color: #008000; text-decoration-color: #008000\">'recommenderV1H3'</span><span style=\"font-weight: bold\">)</span>: <span style=\"color: #008080; text-decoration-color: #008080; font-weight: bold\">6641</span>,\n<span style=\"color: #7fbf7f; text-decoration-color: #7fbf7f\">│   </span><span style=\"font-weight: bold\">(</span><span style=\"color: #008000; text-decoration-color: #008000\">'3 / Elastic Net CV'</span>, <span style=\"color: #008000; text-decoration-color: #008000\">'recommenderV2H1'</span><span style=\"font-weight: bold\">)</span>: <span style=\"color: #008080; text-decoration-color: #008080; font-weight: bold\">5512</span>,\n<span style=\"color: #7fbf7f; text-decoration-color: #7fbf7f\">│   </span><span style=\"font-weight: bold\">(</span><span style=\"color: #008000; text-decoration-color: #008000\">'3 / Elastic Net CV'</span>, <span style=\"color: #008000; text-decoration-color: #008000\">'recommenderV2H2'</span><span style=\"font-weight: bold\">)</span>: <span style=\"color: #008080; text-decoration-color: #008080; font-weight: bold\">5512</span>,\n<span style=\"color: #7fbf7f; text-decoration-color: #7fbf7f\">│   </span><span style=\"font-weight: bold\">(</span><span style=\"color: #008000; text-decoration-color: #008000\">'3 / Elastic Net CV'</span>, <span style=\"color: #008000; text-decoration-color: #008000\">'recommenderV2H3'</span><span style=\"font-weight: bold\">)</span>: <span style=\"color: #008080; text-decoration-color: #008080; font-weight: bold\">5272</span>,\n<span style=\"color: #7fbf7f; text-decoration-color: #7fbf7f\">│   </span><span style=\"font-weight: bold\">(</span><span style=\"color: #008000; text-decoration-color: #008000\">'1 / SVR - linear'</span>, <span style=\"color: #008000; text-decoration-color: #008000\">'recommenderV1'</span><span style=\"font-weight: bold\">)</span>: <span style=\"color: #008080; text-decoration-color: #008080; font-weight: bold\">4731</span>,\n<span style=\"color: #7fbf7f; text-decoration-color: #7fbf7f\">│   </span><span style=\"font-weight: bold\">(</span><span style=\"color: #008000; text-decoration-color: #008000\">'1 / SVR - linear'</span>, <span style=\"color: #008000; text-decoration-color: #008000\">'recommenderV1H1'</span><span style=\"font-weight: bold\">)</span>: <span style=\"color: #008080; text-decoration-color: #008080; font-weight: bold\">5343</span>,\n<span style=\"color: #7fbf7f; text-decoration-color: #7fbf7f\">│   </span><span style=\"font-weight: bold\">(</span><span style=\"color: #008000; text-decoration-color: #008000\">'1 / SVR - linear'</span>, <span style=\"color: #008000; text-decoration-color: #008000\">'recommenderV1H2'</span><span style=\"font-weight: bold\">)</span>: <span style=\"color: #008080; text-decoration-color: #008080; font-weight: bold\">5343</span>,\n<span style=\"color: #7fbf7f; text-decoration-color: #7fbf7f\">│   </span><span style=\"font-weight: bold\">(</span><span style=\"color: #008000; text-decoration-color: #008000\">'1 / SVR - linear'</span>, <span style=\"color: #008000; text-decoration-color: #008000\">'recommenderV1H3'</span><span style=\"font-weight: bold\">)</span>: <span style=\"color: #008080; text-decoration-color: #008080; font-weight: bold\">5141</span>,\n<span style=\"color: #7fbf7f; text-decoration-color: #7fbf7f\">│   </span><span style=\"font-weight: bold\">(</span><span style=\"color: #008000; text-decoration-color: #008000\">'1 / SVR - linear'</span>, <span style=\"color: #008000; text-decoration-color: #008000\">'recommenderV2H1'</span><span style=\"font-weight: bold\">)</span>: <span style=\"color: #008080; text-decoration-color: #008080; font-weight: bold\">4546</span>,\n<span style=\"color: #7fbf7f; text-decoration-color: #7fbf7f\">│   </span><span style=\"font-weight: bold\">(</span><span style=\"color: #008000; text-decoration-color: #008000\">'1 / SVR - linear'</span>, <span style=\"color: #008000; text-decoration-color: #008000\">'recommenderV2H2'</span><span style=\"font-weight: bold\">)</span>: <span style=\"color: #008080; text-decoration-color: #008080; font-weight: bold\">4546</span>,\n<span style=\"color: #7fbf7f; text-decoration-color: #7fbf7f\">│   </span><span style=\"font-weight: bold\">(</span><span style=\"color: #008000; text-decoration-color: #008000\">'1 / SVR - linear'</span>, <span style=\"color: #008000; text-decoration-color: #008000\">'recommenderV2H3'</span><span style=\"font-weight: bold\">)</span>: <span style=\"color: #008080; text-decoration-color: #008080; font-weight: bold\">4344</span>,\n<span style=\"color: #7fbf7f; text-decoration-color: #7fbf7f\">│   </span><span style=\"font-weight: bold\">(</span><span style=\"color: #008000; text-decoration-color: #008000\">'3 / Elastic Net'</span>, <span style=\"color: #008000; text-decoration-color: #008000\">'recommenderV2'</span><span style=\"font-weight: bold\">)</span>: <span style=\"color: #008080; text-decoration-color: #008080; font-weight: bold\">3742</span>,\n<span style=\"color: #7fbf7f; text-decoration-color: #7fbf7f\">│   </span><span style=\"font-weight: bold\">(</span><span style=\"color: #008000; text-decoration-color: #008000\">'4 / Passive Aggressive'</span>, <span style=\"color: #008000; text-decoration-color: #008000\">'recommenderV2'</span><span style=\"font-weight: bold\">)</span>: <span style=\"color: #008080; text-decoration-color: #008080; font-weight: bold\">2888</span>,\n<span style=\"color: #7fbf7f; text-decoration-color: #7fbf7f\">│   </span><span style=\"font-weight: bold\">(</span><span style=\"color: #008000; text-decoration-color: #008000\">'5 / Ordinary Least Squares'</span>, <span style=\"color: #008000; text-decoration-color: #008000\">'recommenderV2'</span><span style=\"font-weight: bold\">)</span>: <span style=\"color: #008080; text-decoration-color: #008080; font-weight: bold\">9615</span>,\n<span style=\"color: #7fbf7f; text-decoration-color: #7fbf7f\">│   </span><span style=\"font-weight: bold\">(</span><span style=\"color: #008000; text-decoration-color: #008000\">'3 / Ridge'</span>, <span style=\"color: #008000; text-decoration-color: #008000\">'recommenderV2'</span><span style=\"font-weight: bold\">)</span>: <span style=\"color: #008080; text-decoration-color: #008080; font-weight: bold\">6874</span>,\n<span style=\"color: #7fbf7f; text-decoration-color: #7fbf7f\">│   </span><span style=\"font-weight: bold\">(</span><span style=\"color: #008000; text-decoration-color: #008000\">'3 / SVR - linear'</span>, <span style=\"color: #008000; text-decoration-color: #008000\">'recommenderV2'</span><span style=\"font-weight: bold\">)</span>: <span style=\"color: #008080; text-decoration-color: #008080; font-weight: bold\">5492</span>,\n<span style=\"color: #7fbf7f; text-decoration-color: #7fbf7f\">│   </span><span style=\"font-weight: bold\">(</span><span style=\"color: #008000; text-decoration-color: #008000\">'3 / Elastic Net CV'</span>, <span style=\"color: #008000; text-decoration-color: #008000\">'recommenderV2'</span><span style=\"font-weight: bold\">)</span>: <span style=\"color: #008080; text-decoration-color: #008080; font-weight: bold\">5087</span>,\n<span style=\"color: #7fbf7f; text-decoration-color: #7fbf7f\">│   </span><span style=\"font-weight: bold\">(</span><span style=\"color: #008000; text-decoration-color: #008000\">'1 / SVR - linear'</span>, <span style=\"color: #008000; text-decoration-color: #008000\">'recommenderV2'</span><span style=\"font-weight: bold\">)</span>: <span style=\"color: #008080; text-decoration-color: #008080; font-weight: bold\">4179</span>,\n<span style=\"color: #7fbf7f; text-decoration-color: #7fbf7f\">│   </span><span style=\"font-weight: bold\">(</span><span style=\"color: #008000; text-decoration-color: #008000\">'2 / Ridge CV'</span>, <span style=\"color: #008000; text-decoration-color: #008000\">'recommenderV2'</span><span style=\"font-weight: bold\">)</span>: <span style=\"color: #008080; text-decoration-color: #008080; font-weight: bold\">5277</span>,\n<span style=\"color: #7fbf7f; text-decoration-color: #7fbf7f\">│   </span><span style=\"font-weight: bold\">(</span><span style=\"color: #008000; text-decoration-color: #008000\">'1 / Ordinary Least Squares'</span>, <span style=\"color: #008000; text-decoration-color: #008000\">'recommenderV2'</span><span style=\"font-weight: bold\">)</span>: <span style=\"color: #008080; text-decoration-color: #008080; font-weight: bold\">4605</span>,\n<span style=\"color: #7fbf7f; text-decoration-color: #7fbf7f\">│   </span><span style=\"font-weight: bold\">(</span><span style=\"color: #008000; text-decoration-color: #008000\">'1 / Lasso CV'</span>, <span style=\"color: #008000; text-decoration-color: #008000\">'recommenderV2'</span><span style=\"font-weight: bold\">)</span>: <span style=\"color: #008080; text-decoration-color: #008080; font-weight: bold\">4467</span>\n<span style=\"font-weight: bold\">}</span>\n</pre>\n"
     },
     "metadata": {},
     "output_type": "display_data"
    }
   ],
   "source": [
    "pprint(regModelMethodScores)"
   ],
   "metadata": {
    "collapsed": false,
    "pycharm": {
     "name": "#%%\n"
    }
   }
  },
  {
   "cell_type": "code",
   "execution_count": 17,
   "outputs": [],
   "source": [
    "scoresDF = pds.DataFrame(index=regModels, columns=methods, dtype=float)\n",
    "for rm, s in regModelMethodScores.items():\n",
    "    rM, meth = rm\n",
    "    scoresDF.loc[rM, meth] = s"
   ],
   "metadata": {
    "collapsed": false,
    "pycharm": {
     "name": "#%%\n"
    }
   }
  },
  {
   "cell_type": "code",
   "execution_count": 18,
   "outputs": [
    {
     "data": {
      "text/html": "<div>\n<style scoped>\n    .dataframe tbody tr th:only-of-type {\n        vertical-align: middle;\n    }\n\n    .dataframe tbody tr th {\n        vertical-align: top;\n    }\n\n    .dataframe thead th {\n        text-align: right;\n    }\n</style>\n<table border=\"1\" class=\"dataframe\">\n  <thead>\n    <tr style=\"text-align: right;\">\n      <th></th>\n      <th>recommenderV1</th>\n      <th>recommenderV1H1</th>\n      <th>recommenderV1H2</th>\n      <th>recommenderV1H3</th>\n      <th>recommenderV2</th>\n      <th>recommenderV2H1</th>\n      <th>recommenderV2H2</th>\n      <th>recommenderV2H3</th>\n    </tr>\n  </thead>\n  <tbody>\n    <tr>\n      <th>4 / Passive Aggressive</th>\n      <td>4786.0</td>\n      <td>4596.0</td>\n      <td>4596.0</td>\n      <td>4877.0</td>\n      <td>2888.0</td>\n      <td>3024.0</td>\n      <td>3024.0</td>\n      <td>2928.0</td>\n    </tr>\n    <tr>\n      <th>3 / Elastic Net</th>\n      <td>5347.0</td>\n      <td>4954.0</td>\n      <td>4954.0</td>\n      <td>4851.0</td>\n      <td>3742.0</td>\n      <td>4000.0</td>\n      <td>4000.0</td>\n      <td>3851.0</td>\n    </tr>\n    <tr>\n      <th>3 / Ridge</th>\n      <td>9628.0</td>\n      <td>10563.0</td>\n      <td>10563.0</td>\n      <td>11010.0</td>\n      <td>6874.0</td>\n      <td>6824.0</td>\n      <td>6824.0</td>\n      <td>6643.0</td>\n    </tr>\n    <tr>\n      <th>5 / Ordinary Least Squares</th>\n      <td>25731.0</td>\n      <td>27353.0</td>\n      <td>27353.0</td>\n      <td>28508.0</td>\n      <td>9615.0</td>\n      <td>9903.0</td>\n      <td>9903.0</td>\n      <td>9654.0</td>\n    </tr>\n    <tr>\n      <th>2 / Ridge CV</th>\n      <td>5328.0</td>\n      <td>5502.0</td>\n      <td>5502.0</td>\n      <td>5439.0</td>\n      <td>5277.0</td>\n      <td>5668.0</td>\n      <td>5668.0</td>\n      <td>5445.0</td>\n    </tr>\n    <tr>\n      <th>1 / Elastic Net</th>\n      <td>3789.0</td>\n      <td>4030.0</td>\n      <td>4030.0</td>\n      <td>4232.0</td>\n      <td>2613.0</td>\n      <td>2895.0</td>\n      <td>2895.0</td>\n      <td>2833.0</td>\n    </tr>\n    <tr>\n      <th>1 / Ordinary Least Squares</th>\n      <td>5369.0</td>\n      <td>5422.0</td>\n      <td>5422.0</td>\n      <td>5116.0</td>\n      <td>4605.0</td>\n      <td>5089.0</td>\n      <td>5089.0</td>\n      <td>4854.0</td>\n    </tr>\n    <tr>\n      <th>1 / Lasso CV</th>\n      <td>5346.0</td>\n      <td>5516.0</td>\n      <td>5516.0</td>\n      <td>5329.0</td>\n      <td>4467.0</td>\n      <td>4961.0</td>\n      <td>4961.0</td>\n      <td>4766.0</td>\n    </tr>\n    <tr>\n      <th>3 / SVR - linear</th>\n      <td>5818.0</td>\n      <td>6311.0</td>\n      <td>6311.0</td>\n      <td>6909.0</td>\n      <td>5492.0</td>\n      <td>5875.0</td>\n      <td>5875.0</td>\n      <td>5797.0</td>\n    </tr>\n    <tr>\n      <th>3 / Elastic Net CV</th>\n      <td>7031.0</td>\n      <td>6694.0</td>\n      <td>6694.0</td>\n      <td>6641.0</td>\n      <td>5087.0</td>\n      <td>5512.0</td>\n      <td>5512.0</td>\n      <td>5272.0</td>\n    </tr>\n    <tr>\n      <th>1 / SVR - linear</th>\n      <td>4731.0</td>\n      <td>5343.0</td>\n      <td>5343.0</td>\n      <td>5141.0</td>\n      <td>4179.0</td>\n      <td>4546.0</td>\n      <td>4546.0</td>\n      <td>4344.0</td>\n    </tr>\n  </tbody>\n</table>\n</div>"
     },
     "execution_count": 18,
     "metadata": {},
     "output_type": "execute_result"
    }
   ],
   "source": [
    "scoresDF"
   ],
   "metadata": {
    "collapsed": false,
    "pycharm": {
     "name": "#%%\n"
    }
   }
  },
  {
   "cell_type": "code",
   "execution_count": 38,
   "outputs": [
    {
     "data": {
      "image/png": "[encoded data removed]"
     },
     "metadata": {},
     "output_type": "display_data"
    }
   ],
   "source": [
    "ax = sns.heatmap(scoresDF,\n",
    "                 cmap=\"Spectral\",\n",
    "                 xticklabels=[c.replace(\"recommender\", \"\") for c in scoresDF.columns],\n",
    "                 robust=True)\n",
    "plt.show()"
   ],
   "metadata": {
    "collapsed": false,
    "pycharm": {
     "name": "#%%\n"
    }
   }
  },
  {
   "cell_type": "code",
   "execution_count": null,
   "outputs": [],
   "source": [],
   "metadata": {
    "collapsed": false,
    "pycharm": {
     "name": "#%%\n"
    }
   }
  },
  {
   "cell_type": "code",
   "execution_count": null,
   "outputs": [],
   "source": [],
   "metadata": {
    "collapsed": false,
    "pycharm": {
     "name": "#%%\n"
    }
   }
  },
  {
   "cell_type": "markdown",
   "source": [
    "# [END] trying out new visualisation"
   ],
   "metadata": {
    "collapsed": false
   }
  },
  {
   "cell_type": "code",
   "execution_count": 3,
   "outputs": [
    {
     "ename": "NameError",
     "evalue": "name 'bigtable' is not defined",
     "output_type": "error",
     "traceback": [
      "\u001B[0;31m---------------------------------------------------------------------------\u001B[0m",
      "\u001B[0;31mNameError\u001B[0m                                 Traceback (most recent call last)",
      "\u001B[0;32m/tmp/ipykernel_8133/995261593.py\u001B[0m in \u001B[0;36m<module>\u001B[0;34m\u001B[0m\n\u001B[0;32m----> 1\u001B[0;31m descByMethod = bigtable.groupby([\"method\"])[\"res\"].describe(  # percentiles=[x / 10 for x in range(1, 10)],\n\u001B[0m\u001B[1;32m      2\u001B[0m     include=\"all\")\n\u001B[1;32m      3\u001B[0m \u001B[0mdescByMethod\u001B[0m\u001B[0;34m.\u001B[0m\u001B[0msort_values\u001B[0m\u001B[0;34m(\u001B[0m\u001B[0mby\u001B[0m\u001B[0;34m=\u001B[0m\u001B[0;34m[\u001B[0m\u001B[0;34m\"mean\"\u001B[0m\u001B[0;34m]\u001B[0m\u001B[0;34m,\u001B[0m \u001B[0maxis\u001B[0m\u001B[0;34m=\u001B[0m\u001B[0;36m0\u001B[0m\u001B[0;34m,\u001B[0m \u001B[0minplace\u001B[0m\u001B[0;34m=\u001B[0m\u001B[0;32mTrue\u001B[0m\u001B[0;34m,\u001B[0m \u001B[0mascending\u001B[0m\u001B[0;34m=\u001B[0m\u001B[0;32mTrue\u001B[0m\u001B[0;34m)\u001B[0m\u001B[0;34m\u001B[0m\u001B[0;34m\u001B[0m\u001B[0m\n\u001B[1;32m      4\u001B[0m \u001B[0;31m# descByMethod\u001B[0m\u001B[0;34m\u001B[0m\u001B[0;34m\u001B[0m\u001B[0;34m\u001B[0m\u001B[0m\n\u001B[1;32m      5\u001B[0m \u001B[0;34m\u001B[0m\u001B[0m\n",
      "\u001B[0;31mNameError\u001B[0m: name 'bigtable' is not defined"
     ]
    }
   ],
   "source": [
    "descByMethod = bigtable.groupby([\"method\"])[\"res\"].describe(  # percentiles=[x / 10 for x in range(1, 10)],\n",
    "    include=\"all\")\n",
    "descByMethod.sort_values(by=[\"mean\"], axis=0, inplace=True, ascending=True)\n",
    "# descByMethod"
   ],
   "metadata": {
    "collapsed": false,
    "pycharm": {
     "name": "#%%\n"
    }
   }
  },
  {
   "cell_type": "code",
   "execution_count": null,
   "outputs": [],
   "source": [
    "for style in [\"Boxen\"]:\n",
    "    g = sns.catplot(x=\"res\", y=\"method\", orient=\"h\",\n",
    "                    order=descByMethod.index,\n",
    "                    # hue=\"wfName\",  # palette=[\"m\", \"g\"],\n",
    "                    # row=\"wfName\",\n",
    "                    # col=\"method\",\n",
    "                    data=bigtable,\n",
    "                    kind=style.lower(),\n",
    "                    aspect=1.5,\n",
    "                    height=8\n",
    "                    )\n",
    "    g.set(xlabel=\"Runtimes\", ylabel=\"Strategy\")\n",
    "    save_plot(g, f\"res_Vs_method_{style}.plot\")\n",
    "    plt.show()"
   ],
   "metadata": {
    "collapsed": false,
    "pycharm": {
     "name": "#%%\n"
    }
   }
  },
  {
   "cell_type": "code",
   "execution_count": null,
   "outputs": [],
   "source": [
    "descByModel = bigtable[bigtable.regModel != \"N/A\"].groupby([\"regModel\"])[\"res\"].describe(  # percentiles=[x / 10 for x in range(1, 10)],\n",
    "    include=\"all\")\n",
    "descByModel.sort_values(by=[\"mean\"], axis=0, inplace=True, ascending=True)\n",
    "# descByModel"
   ],
   "metadata": {
    "collapsed": false,
    "pycharm": {
     "name": "#%%\n"
    }
   }
  },
  {
   "cell_type": "code",
   "execution_count": null,
   "outputs": [],
   "source": [
    "for style in [\"Boxen\"]:\n",
    "    g = sns.catplot(x=\"res\", y=\"regModel\", orient=\"h\",\n",
    "                    order=descByModel.index,\n",
    "                    # hue=\"wfName\",  # palette=[\"m\", \"g\"],\n",
    "                    # row=\"wfName\",\n",
    "                    # col=\"method\",\n",
    "                    data=bigtable[bigtable.regModel != \"N/A\"],\n",
    "                    kind=style.lower(),\n",
    "                    aspect=1.5,\n",
    "                    height=8\n",
    "                    )\n",
    "    g.set(xlabel=\"Runtimes\", ylabel=\"Degree / Regression Model\")\n",
    "    save_plot(g, f\"res_Vs_regModel_{style}.plot\")\n",
    "    plt.show()"
   ],
   "metadata": {
    "collapsed": false,
    "pycharm": {
     "name": "#%%\n"
    }
   }
  },
  {
   "cell_type": "code",
   "execution_count": null,
   "outputs": [],
   "source": [
    "for style in [\"Boxen\"]:\n",
    "    g = sns.catplot(x=\"res\", y=\"regModel\", orient=\"h\",\n",
    "                    order=descByModel.index,\n",
    "                    # hue=\"wfName\",  # palette=[\"m\", \"g\"],\n",
    "                    # row=\"wfName\",\n",
    "                    col=\"wfName\",\n",
    "                    col_wrap=3,\n",
    "                    sharex=False,\n",
    "                    data=bigtable[bigtable.regModel != \"N/A\"],\n",
    "                    kind=style.lower(),\n",
    "                    aspect=1.1,\n",
    "                    height=6\n",
    "                    )\n",
    "    g.set(xlabel=\"Runtimes\", ylabel=\"Degree / Regression Model\")\n",
    "    g.set_titles(\"Workflow: {col_name}\")\n",
    "    save_plot(g, f\"res_Vs_method_perWF_{style}.plot\")\n",
    "    plt.show()"
   ],
   "metadata": {
    "collapsed": false,
    "pycharm": {
     "name": "#%%\n"
    }
   }
  },
  {
   "cell_type": "markdown",
   "source": [
    "# Filter for only the BiS regression model:"
   ],
   "metadata": {
    "collapsed": false,
    "pycharm": {
     "name": "#%% md\n"
    }
   }
  },
  {
   "cell_type": "code",
   "execution_count": null,
   "outputs": [],
   "source": [
    "bisModel = descByModel.index[0]\n",
    "bigtable = bigtable.query(\"schedType == 'random' or regModel==@bisModel\")"
   ],
   "metadata": {
    "collapsed": false,
    "pycharm": {
     "name": "#%%\n"
    }
   }
  },
  {
   "cell_type": "code",
   "execution_count": null,
   "outputs": [],
   "source": [
    "descByMethodSansRand = bigtable[bigtable.regModel != \"N/A\"].groupby([\"method\"])[\"res\"].describe(  # percentiles=[x / 10 for x in range(1, 10)],\n",
    "    include=\"all\")\n",
    "descByMethodSansRand.sort_values(by=[\"mean\"], axis=0, inplace=True, ascending=True)"
   ],
   "metadata": {
    "collapsed": false,
    "pycharm": {
     "name": "#%%\n"
    }
   }
  },
  {
   "cell_type": "code",
   "execution_count": null,
   "outputs": [],
   "source": [
    "for style in [\"Boxen\"]:\n",
    "    g = sns.catplot(x=\"res\", y=\"method\", orient=\"h\",\n",
    "                    order=descByMethodSansRand.index,\n",
    "                    # hue=\"wfName\",  # palette=[\"m\", \"g\"],\n",
    "                    # row=\"wfName\",\n",
    "                    col=\"wfName\",\n",
    "                    col_wrap=3,\n",
    "                    sharex=False,\n",
    "                    data=bigtable[bigtable.regModel != \"N/A\"],\n",
    "                    kind=style.lower(),\n",
    "                    aspect=1.1,\n",
    "                    height=6\n",
    "                    )\n",
    "    g.set(xlabel=\"Runtimes\", ylabel=\"Strategy\")\n",
    "    g.set_titles(\"Workflow: {col_name}\")\n",
    "    save_plot(g, f\"res_Vs_method_bisModel_{style}.plot\")\n",
    "    plt.show()"
   ],
   "metadata": {
    "collapsed": false,
    "pycharm": {
     "name": "#%%\n"
    }
   }
  },
  {
   "cell_type": "code",
   "execution_count": null,
   "outputs": [],
   "source": [
    "g = sns.catplot(x=\"wfName\", y=\"res\",  # orient=\"h\",\n",
    "                order=[\"eager\", \"methylseq\", \"sarek\", \"viralrecon\", \"chipseq\"],\n",
    "                hue=\"method\",  # palette=[\"m\", \"g\"],\n",
    "                hue_order=[\"recommenderV1\", \"recommenderV1H1\", \"recommenderV1H2\", \"recommenderV1H3\",\n",
    "                           \"recommenderV2\", \"recommenderV2H1\", \"recommenderV2H2\", \"recommenderV2H3\"],\n",
    "                # row=\"wfName\",\n",
    "                # col=\"wfName\",\n",
    "                # col_wrap=3,\n",
    "                data=bigtable[bigtable.schedCat != \"random\"],\n",
    "                kind=\"point\",\n",
    "                aspect=1.5,\n",
    "                height=8,\n",
    "                facet_kws=dict(legend_out=False)\n",
    "                )\n",
    "sns.move_legend(g, \"lower center\", bbox_to_anchor=(.425, 1), ncol=4, title=\"Strategy\", frameon=False)\n",
    "g.set(xlabel=\"Workflow\", ylabel=\"Runtimes\")\n",
    "save_plot(g, \"res_Vs_method_bisModel_Point.plot\")\n",
    "plt.show()"
   ],
   "metadata": {
    "collapsed": false,
    "pycharm": {
     "name": "#%%\n"
    }
   }
  },
  {
   "cell_type": "code",
   "execution_count": null,
   "outputs": [],
   "source": [
    "g = sns.catplot(x=\"clusterSize\", y=\"res\",  # orient=\"h\",\n",
    "                # order=\"\",\n",
    "                hue=\"schedCat\",  # palette=[\"m\", \"g\"],\n",
    "                # row=\"wfName\",\n",
    "                col=\"wfName\",\n",
    "                col_wrap=3,\n",
    "                col_order=list(wfNames),\n",
    "                sharey=False,\n",
    "                sharex=False,\n",
    "                data=bigtable,\n",
    "                kind=\"point\",\n",
    "                aspect=1.1,\n",
    "                height=6,\n",
    "                facet_kws=dict(legend_out=False)\n",
    "                )\n",
    "sns.move_legend(g, \"upper left\", bbox_to_anchor=(.65, .45), title=\"Strategy Category\", frameon=False)\n",
    "for i, ax in enumerate(g.axes.ravel()):\n",
    "    wf = list(wfNames)[i]\n",
    "    ax.axhline(y=statistics.mean(bigtable.query(\"method == 'randomV1P0' and wfName==@wf\")[\"res\"]), linestyle=\"--\", color=\"black\")\n",
    "g.set_titles(\"Workflow: {col_name}\")\n",
    "g.set(xlabel=\"Cluster size\", ylabel=\"Runtimes\")\n",
    "save_plot(g, \"res_Vs_clusterSize_perWF_bisModel_hueSchedCat_Point.plot\")\n",
    "plt.show()"
   ],
   "metadata": {
    "collapsed": false,
    "pycharm": {
     "name": "#%%\n"
    }
   }
  },
  {
   "cell_type": "code",
   "execution_count": null,
   "outputs": [],
   "source": [
    "g = sns.catplot(x=\"clusterSize\", y=\"res\",  # orient=\"h\",\n",
    "                # order=\"\",\n",
    "                hue=\"wfName\",  # palette=[\"m\", \"g\"],\n",
    "                # row=\"wfName\",\n",
    "                col=\"schedType\",\n",
    "                col_wrap=3,\n",
    "                col_order=[\"random\", \"recommenderV1\", \"recommenderV2\",\n",
    "                           \"recommenderV1H1\", \"recommenderV1H2\", \"recommenderV1H3\",\n",
    "                           \"recommenderV2H1\", \"recommenderV2H2\", \"recommenderV2H3\"],\n",
    "                # sharey=False,\n",
    "                sharex=False,\n",
    "                hue_order=list(wfNames),\n",
    "                data=bigtable,\n",
    "                kind=\"point\",\n",
    "                aspect=1.1,\n",
    "                height=6,\n",
    "                facet_kws=dict(legend_out=False)\n",
    "                )\n",
    "sns.move_legend(g, \"lower center\", bbox_to_anchor=(.45, 1), ncol=5, title=\"Workflow\", frameon=False)\n",
    "for i, wf in enumerate(wfNames):\n",
    "    g.refline(y=statistics.mean(bigtable.query(\"method == 'randomV1P0' and wfName==@wf\")[\"res\"]), color=sns.color_palette()[i])\n",
    "g.set_titles(\"Strategy: {col_name}\")\n",
    "g.set(xlabel=\"Cluster size\", ylabel=\"Runtimes\")\n",
    "save_plot(g, \"res_Vs_clusterSize_perMethod_bisModel_hueWf_Point.plot\")\n",
    "plt.show()\n",
    "\n"
   ],
   "metadata": {
    "collapsed": false,
    "pycharm": {
     "name": "#%%\n"
    }
   }
  },
  {
   "cell_type": "code",
   "execution_count": null,
   "outputs": [],
   "source": [
    "wfNames = cvBigtable.wfName.unique()"
   ],
   "metadata": {
    "collapsed": false,
    "pycharm": {
     "name": "#%%\n"
    }
   }
  },
  {
   "cell_type": "code",
   "execution_count": null,
   "outputs": [],
   "source": [
    "sns.set_theme(style=\"whitegrid\")\n",
    "#sns.set_context(\"paper\")\n",
    "sns.set_context(\"paper\", 1.65)"
   ],
   "metadata": {
    "collapsed": false,
    "pycharm": {
     "name": "#%%\n"
    }
   }
  },
  {
   "cell_type": "code",
   "execution_count": null,
   "outputs": [],
   "source": [
    "pds.set_option('display.max_rows', 100)\n",
    "pds.set_option('display.max_columns', None)\n",
    "pds.set_option('display.width', None)\n",
    "pds.set_option('display.precision', 4)"
   ],
   "metadata": {
    "collapsed": false,
    "pycharm": {
     "name": "#%%\n"
    }
   }
  },
  {
   "cell_type": "code",
   "execution_count": null,
   "outputs": [],
   "source": [
    "cvDescByMethod = cvBigtable.groupby([\"method\"])[\"res\"].describe(  # percentiles=[x / 10 for x in range(1, 10)],\n",
    "    include=\"all\")\n",
    "cvDescByMethod.sort_values(by=[\"mean\"], axis=0, inplace=True, ascending=True)\n",
    "# cvDescByMethod"
   ],
   "metadata": {
    "collapsed": false,
    "pycharm": {
     "name": "#%%\n"
    }
   }
  },
  {
   "cell_type": "code",
   "execution_count": null,
   "outputs": [],
   "source": [
    "for style in [\"Boxen\"]:\n",
    "    g = sns.catplot(x=\"res\", y=\"method\", orient=\"h\",\n",
    "                    order=cvDescByMethod.index,\n",
    "                    # hue=\"wfName\",  # palette=[\"m\", \"g\"],\n",
    "                    # row=\"wfName\",\n",
    "                    # col=\"method\",\n",
    "                    data=cvBigtable,\n",
    "                    kind=style.lower(),\n",
    "                    aspect=1.5,\n",
    "                    height=8\n",
    "                    )\n",
    "    g.set(xlabel=\"Runtimes\", ylabel=\"Strategy\")\n",
    "    save_plot(g, f\"res_Vs_method_{style}.plot\")\n",
    "    plt.show()"
   ],
   "metadata": {
    "collapsed": false,
    "pycharm": {
     "name": "#%%\n"
    }
   }
  },
  {
   "cell_type": "code",
   "execution_count": null,
   "outputs": [],
   "source": [
    "cvDescByModel = cvBigtable[cvBigtable.regModel != \"N/A\"].groupby([\"regModel\"])[\"res\"].describe(  # percentiles=[x / 10 for x in range(1, 10)],\n",
    "    include=\"all\")\n",
    "cvDescByModel.sort_values(by=[\"mean\"], axis=0, inplace=True, ascending=True)\n",
    "# cvDescByModel"
   ],
   "metadata": {
    "collapsed": false,
    "pycharm": {
     "name": "#%%\n"
    }
   }
  },
  {
   "cell_type": "code",
   "execution_count": null,
   "outputs": [],
   "source": [
    "for style in [\"Boxen\"]:\n",
    "    g = sns.catplot(x=\"res\", y=\"regModel\", orient=\"h\",\n",
    "                    order=cvDescByModel.index,\n",
    "                    hue=\"cvSplit\",  # palette=[\"m\", \"g\"],\n",
    "                    # row=\"wfName\",\n",
    "                    # col=\"method\",\n",
    "                    data=cvBigtable[cvBigtable.regModel != \"N/A\"],\n",
    "                    kind=style.lower(),\n",
    "                    aspect=1.5,\n",
    "                    height=8\n",
    "                    )\n",
    "    sns.move_legend(g, \"lower center\", bbox_to_anchor=(0.5, 1), ncol=5, title=\"CV Split\")\n",
    "    g.set(xlabel=\"Runtimes\", ylabel=\"Degree / Regression Model\")\n",
    "    save_plot(g, f\"cv.res_Vs_regModel_{style}.plot\")\n",
    "    plt.show()"
   ],
   "metadata": {
    "collapsed": false,
    "pycharm": {
     "name": "#%%\n"
    }
   }
  },
  {
   "cell_type": "code",
   "execution_count": null,
   "outputs": [],
   "source": [
    "for style in [\"Boxen\"]:\n",
    "    g = sns.catplot(x=\"res\", y=\"regModel\", orient=\"h\",\n",
    "                    order=cvDescByModel.index,\n",
    "                    hue=\"cvSplit\",  # palette=[\"m\", \"g\"],\n",
    "                    # row=\"wfName\",\n",
    "                    col=\"wfName\",\n",
    "                    col_wrap=3,\n",
    "                    sharex=False,\n",
    "                    data=cvBigtable[cvBigtable.regModel != \"N/A\"],\n",
    "                    kind=style.lower(),\n",
    "                    aspect=1.1,\n",
    "                    height=6\n",
    "                    )\n",
    "    sns.move_legend(g, \"upper left\", bbox_to_anchor=(0.75, 0.45), title=\"CV Split\")\n",
    "    g.set(xlabel=\"Runtimes\", ylabel=\"Degree / Regression Model\")\n",
    "    g.set_titles(\"Workflow: {col_name}\")\n",
    "    save_plot(g, f\"cv.res_Vs_method_perWF_{style}.plot\")\n",
    "    plt.show()"
   ],
   "metadata": {
    "collapsed": false,
    "pycharm": {
     "name": "#%%\n"
    }
   }
  },
  {
   "cell_type": "markdown",
   "source": [
    "# Filter for only the BiS regression model:"
   ],
   "metadata": {
    "collapsed": false
   }
  },
  {
   "cell_type": "code",
   "execution_count": null,
   "outputs": [],
   "source": [
    "# bisModel = descByModel.index[0]\n",
    "comp = cvBigtable[cvBigtable.regModel != \"N/A\"].groupby([\"regModel\", \"cvSplit\"])[\"res\"].describe()\n",
    "comp = comp.sort_values(by=[\"mean\"], ascending=True)\n",
    "rM, cvS = comp.reset_index().iloc[0][[\"regModel\", \"cvSplit\"]]\n",
    "cvBigtable = cvBigtable.query(\"schedType == 'random' or (regModel==@rM and cvSplit==@cvS)\")"
   ],
   "metadata": {
    "collapsed": false,
    "pycharm": {
     "name": "#%%\n"
    }
   }
  },
  {
   "cell_type": "code",
   "execution_count": null,
   "outputs": [],
   "source": [
    "cvDescByMethodSansRand = cvBigtable[cvBigtable.regModel != \"N/A\"].groupby([\"method\"])[\"res\"].describe(  # percentiles=[x / 10 for x in range(1, 10)],\n",
    "    include=\"all\")\n",
    "cvDescByMethodSansRand.sort_values(by=[\"mean\"], axis=0, inplace=True, ascending=True)"
   ],
   "metadata": {
    "collapsed": false,
    "pycharm": {
     "name": "#%%\n"
    }
   }
  },
  {
   "cell_type": "code",
   "execution_count": null,
   "outputs": [],
   "source": [
    "for style in [\"Boxen\"]:\n",
    "    g = sns.catplot(x=\"res\", y=\"method\", orient=\"h\",\n",
    "                    order=cvDescByMethodSansRand.index,\n",
    "                    # hue=\"wfName\",  # palette=[\"m\", \"g\"],\n",
    "                    # row=\"wfName\",\n",
    "                    col=\"wfName\",\n",
    "                    col_wrap=3,\n",
    "                    sharex=False,\n",
    "                    data=cvBigtable[cvBigtable.regModel != \"N/A\"],\n",
    "                    kind=style.lower(),\n",
    "                    aspect=1.1,\n",
    "                    height=6\n",
    "                    )\n",
    "    g.set(xlabel=\"Runtimes\", ylabel=\"Strategy\")\n",
    "    g.set_titles(\"Workflow: {col_name}\")\n",
    "    save_plot(g, f\"cv.res_Vs_method_bisModel_{style}.plot\")\n",
    "    plt.show()"
   ],
   "metadata": {
    "collapsed": false,
    "pycharm": {
     "name": "#%%\n"
    }
   }
  },
  {
   "cell_type": "code",
   "execution_count": null,
   "outputs": [],
   "source": [
    "g = sns.catplot(x=\"wfName\", y=\"res\",  # orient=\"h\",\n",
    "                order=[\"eager\", \"methylseq\", \"sarek\", \"viralrecon\", \"chipseq\"],\n",
    "                hue=\"method\",  # palette=[\"m\", \"g\"],\n",
    "                hue_order=[\"recommenderV1\", \"recommenderV1H1\", \"recommenderV1H2\", \"recommenderV1H3\",\n",
    "                           \"recommenderV2\", \"recommenderV2H1\", \"recommenderV2H2\", \"recommenderV2H3\"],\n",
    "                # row=\"wfName\",\n",
    "                # col=\"wfName\",\n",
    "                # col_wrap=3,\n",
    "                data=cvBigtable[cvBigtable.schedCat != \"random\"],\n",
    "                kind=\"point\",\n",
    "                aspect=1.5,\n",
    "                height=8,\n",
    "                facet_kws=dict(legend_out=False)\n",
    "                )\n",
    "sns.move_legend(g, \"lower center\", bbox_to_anchor=(.425, 1), ncol=4, title=\"Strategy\", frameon=False)\n",
    "g.set(xlabel=\"Workflow\", ylabel=\"Runtimes\")\n",
    "save_plot(g, \"cv.res_Vs_method_bisModel_Point.plot\")\n",
    "plt.show()"
   ],
   "metadata": {
    "collapsed": false,
    "pycharm": {
     "name": "#%%\n"
    }
   }
  },
  {
   "cell_type": "code",
   "execution_count": null,
   "outputs": [],
   "source": [
    "g = sns.catplot(x=\"clusterSize\", y=\"res\",  # orient=\"h\",\n",
    "                # order=\"\",\n",
    "                hue=\"schedCat\",  # palette=[\"m\", \"g\"],\n",
    "                # row=\"wfName\",\n",
    "                col=\"wfName\",\n",
    "                col_wrap=3,\n",
    "                col_order=list(wfNames),\n",
    "                sharey=False,\n",
    "                sharex=False,\n",
    "                data=cvBigtable,\n",
    "                kind=\"point\",\n",
    "                aspect=1.1,\n",
    "                height=6,\n",
    "                facet_kws=dict(legend_out=False)\n",
    "                )\n",
    "sns.move_legend(g, \"upper left\", bbox_to_anchor=(.65, .45), title=\"Strategy Category\", frameon=False)\n",
    "for i, ax in enumerate(g.axes.ravel()):\n",
    "    wf = list(wfNames)[i]\n",
    "    ax.axhline(y=statistics.mean(cvBigtable.query(\"method == 'randomV1P0' and wfName==@wf\")[\"res\"]), linestyle=\"--\", color=\"black\")\n",
    "g.set_titles(\"Workflow: {col_name}\")\n",
    "g.set(xlabel=\"Cluster size\", ylabel=\"Runtimes\")\n",
    "save_plot(g, \"cv.res_Vs_clusterSize_perWF_bisModel_hueSchedCat_Point.plot\")\n",
    "plt.show()"
   ],
   "metadata": {
    "collapsed": false,
    "pycharm": {
     "name": "#%%\n"
    }
   }
  },
  {
   "cell_type": "code",
   "execution_count": null,
   "outputs": [],
   "source": [
    "g = sns.catplot(x=\"clusterSize\", y=\"res\",  # orient=\"h\",\n",
    "                # order=\"\",\n",
    "                hue=\"wfName\",  # palette=[\"m\", \"g\"],\n",
    "                # row=\"wfName\",\n",
    "                col=\"schedType\",\n",
    "                col_wrap=3,\n",
    "                col_order=[\"random\", \"recommenderV1\", \"recommenderV2\",\n",
    "                           \"recommenderV1H1\", \"recommenderV1H2\", \"recommenderV1H3\",\n",
    "                           \"recommenderV2H1\", \"recommenderV2H2\", \"recommenderV2H3\"],\n",
    "                # sharey=False,\n",
    "                sharex=False,\n",
    "                hue_order=list(wfNames),\n",
    "                data=cvBigtable,\n",
    "                kind=\"point\",\n",
    "                aspect=1.1,\n",
    "                height=6,\n",
    "                facet_kws=dict(legend_out=False)\n",
    "                )\n",
    "sns.move_legend(g, \"lower center\", bbox_to_anchor=(.45, 1), ncol=5, title=\"Workflow\", frameon=False)\n",
    "for i, wf in enumerate(wfNames):\n",
    "    g.refline(y=statistics.mean(cvBigtable.query(\"method == 'randomV1P0' and wfName==@wf\")[\"res\"]), color=sns.color_palette()[i])\n",
    "g.set_titles(\"Strategy: {col_name}\")\n",
    "g.set(xlabel=\"Cluster size\", ylabel=\"Runtimes\")\n",
    "save_plot(g, \"cv.res_Vs_clusterSize_perMethod_bisModel_hueWf_Point.plot\")\n",
    "plt.show()\n"
   ],
   "metadata": {
    "collapsed": false,
    "pycharm": {
     "name": "#%%\n"
    }
   }
  }
 ],
 "metadata": {
  "kernelspec": {
   "name": "python396jvsc74a57bd0833e9faf2a7ac8b79841bf2cf5d837526059e71529011d8b6ba9767c5bc4385f",
   "language": "python",
   "display_name": "Python 3.9.6 64-bit ('py': conda)"
  },
  "language_info": {
   "codemirror_mode": {
    "name": "ipython",
    "version": 3
   },
   "file_extension": ".py",
   "mimetype": "text/x-python",
   "name": "python",
   "nbconvert_exporter": "python",
   "pygments_lexer": "ipython3",
   "version": "3.9.6"
  }
 },
 "nbformat": 4,
 "nbformat_minor": 1
}